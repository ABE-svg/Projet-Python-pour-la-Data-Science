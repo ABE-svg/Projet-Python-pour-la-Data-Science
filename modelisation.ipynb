{
 "cells": [
  {
   "cell_type": "code",
   "execution_count": 1,
   "metadata": {},
   "outputs": [],
   "source": [
    "import requests\n",
    "import os\n",
    "import matplotlib.pyplot as plt\n",
    "import pandas as pd\n",
    "import plotly\n",
    "import plotly.express as px\n",
    "import io\n",
    "from sklearn.model_selection import GridSearchCV\n",
    "from sklearn.model_selection import RepeatedStratifiedKFold,StratifiedKFold\n",
    "from sklearn.linear_model import LogisticRegression"
   ]
  },
  {
   "cell_type": "code",
   "execution_count": 4,
   "metadata": {},
   "outputs": [
    {
     "name": "stdout",
     "output_type": "stream",
     "text": [
      "Fichier usagers-2023.csv téléchargé avec succès:data/usagers-2023.csv\n",
      "Fichier vehicules-2023.csv téléchargé avec succès:data/vehicules-2023.csv\n",
      "Fichier lieux-2023.csv téléchargé avec succès:data/lieux-2023.csv\n",
      "Fichier caract-2023.csv téléchargé avec succès:data/caract-2023.csv\n"
     ]
    }
   ],
   "source": [
    "# fonction de téléchargement des données sur les accidents corporels\n",
    "def telecharge(url_data,filename, path):\n",
    "    # Vérifie si le dossier 'data' existe, sinon le crée\n",
    "    if not os.path.exists(path):\n",
    "        os.makedirs(path)\n",
    "    #télécharge les données avec l'url\n",
    "    response = requests.get(url_data)\n",
    "    if response.status_code == 200:\n",
    "        file_path = os.path.join(path, filename)\n",
    "        with open(file_path, 'wb') as file:\n",
    "            file.write(response.content)\n",
    "        print(f\"Fichier {filename} téléchargé avec succès:{file_path}\")\n",
    "    else:\n",
    "        print(f\"Echec de téléchargement pour {filename}. Statut: {response.status_code}\")\n",
    "\n",
    "# API pour accéder à l'url de téléchargement\n",
    "url_root=\"https://www.data.gouv.fr/api/1/datasets/53698f4ca3a729239d2036df/resources/\"\n",
    "urls={\n",
    "    \"usagers-2023.csv\":\"68848e2a-28dd-4efc-9d5f-d512f7dbe66f\",\n",
    "    \"vehicules-2023.csv\":\"146a42f5-19f0-4b3e-a887-5cd8fbef057b\",\n",
    "    \"lieux-2023.csv\":\"8bef19bf-a5e4-46b3-b5f9-a145da4686bc\",\n",
    "    \"caract-2023.csv\":\"104dbb32-704f-4e99-a71e-43563cb604f2\"\n",
    "}\n",
    "path='data'\n",
    "\n",
    "for filename, resource_id in urls.items():\n",
    "    url=url_root+resource_id\n",
    "    response1=requests.get(url)\n",
    "    if response1.status_code==200:\n",
    "        data=response1.json()\n",
    "        url_data=data['url']\n",
    "    else:\n",
    "        print(\"downloading failed\")\n",
    "    telecharge(url_data,filename,path)\n"
   ]
  },
  {
   "cell_type": "code",
   "execution_count": 5,
   "metadata": {},
   "outputs": [
    {
     "data": {
      "text/html": [
       "<div>\n",
       "<style scoped>\n",
       "    .dataframe tbody tr th:only-of-type {\n",
       "        vertical-align: middle;\n",
       "    }\n",
       "\n",
       "    .dataframe tbody tr th {\n",
       "        vertical-align: top;\n",
       "    }\n",
       "\n",
       "    .dataframe thead th {\n",
       "        text-align: right;\n",
       "    }\n",
       "</style>\n",
       "<table border=\"1\" class=\"dataframe\">\n",
       "  <thead>\n",
       "    <tr style=\"text-align: right;\">\n",
       "      <th></th>\n",
       "      <th>Num_Acc</th>\n",
       "      <th>id_usager</th>\n",
       "      <th>id_vehicule</th>\n",
       "      <th>num_veh</th>\n",
       "      <th>place</th>\n",
       "      <th>catu</th>\n",
       "      <th>grav</th>\n",
       "      <th>sexe</th>\n",
       "      <th>an_nais</th>\n",
       "      <th>trajet</th>\n",
       "      <th>secu1</th>\n",
       "      <th>secu2</th>\n",
       "      <th>secu3</th>\n",
       "      <th>locp</th>\n",
       "      <th>actp</th>\n",
       "      <th>etatp</th>\n",
       "    </tr>\n",
       "  </thead>\n",
       "  <tbody>\n",
       "    <tr>\n",
       "      <th>0</th>\n",
       "      <td>202300000001</td>\n",
       "      <td>203 851 184</td>\n",
       "      <td>155 680 557</td>\n",
       "      <td>A01</td>\n",
       "      <td>1</td>\n",
       "      <td>1</td>\n",
       "      <td>4</td>\n",
       "      <td>1</td>\n",
       "      <td>1978.0</td>\n",
       "      <td>5</td>\n",
       "      <td>2</td>\n",
       "      <td>0</td>\n",
       "      <td>-1</td>\n",
       "      <td>-1</td>\n",
       "      <td>-1</td>\n",
       "      <td>-1</td>\n",
       "    </tr>\n",
       "    <tr>\n",
       "      <th>1</th>\n",
       "      <td>202300000002</td>\n",
       "      <td>203 851 182</td>\n",
       "      <td>155 680 556</td>\n",
       "      <td>A01</td>\n",
       "      <td>1</td>\n",
       "      <td>1</td>\n",
       "      <td>1</td>\n",
       "      <td>2</td>\n",
       "      <td>1997.0</td>\n",
       "      <td>9</td>\n",
       "      <td>1</td>\n",
       "      <td>0</td>\n",
       "      <td>-1</td>\n",
       "      <td>-1</td>\n",
       "      <td>-1</td>\n",
       "      <td>-1</td>\n",
       "    </tr>\n",
       "    <tr>\n",
       "      <th>2</th>\n",
       "      <td>202300000002</td>\n",
       "      <td>203 851 183</td>\n",
       "      <td>155 680 556</td>\n",
       "      <td>A01</td>\n",
       "      <td>10</td>\n",
       "      <td>3</td>\n",
       "      <td>3</td>\n",
       "      <td>1</td>\n",
       "      <td>1997.0</td>\n",
       "      <td>9</td>\n",
       "      <td>0</td>\n",
       "      <td>-1</td>\n",
       "      <td>-1</td>\n",
       "      <td>2</td>\n",
       "      <td>3</td>\n",
       "      <td>1</td>\n",
       "    </tr>\n",
       "    <tr>\n",
       "      <th>3</th>\n",
       "      <td>202300000003</td>\n",
       "      <td>203 851 180</td>\n",
       "      <td>155 680 554</td>\n",
       "      <td>B01</td>\n",
       "      <td>1</td>\n",
       "      <td>1</td>\n",
       "      <td>3</td>\n",
       "      <td>1</td>\n",
       "      <td>1987.0</td>\n",
       "      <td>0</td>\n",
       "      <td>2</td>\n",
       "      <td>6</td>\n",
       "      <td>0</td>\n",
       "      <td>0</td>\n",
       "      <td>0</td>\n",
       "      <td>-1</td>\n",
       "    </tr>\n",
       "    <tr>\n",
       "      <th>4</th>\n",
       "      <td>202300000003</td>\n",
       "      <td>203 851 181</td>\n",
       "      <td>155 680 555</td>\n",
       "      <td>A01</td>\n",
       "      <td>1</td>\n",
       "      <td>1</td>\n",
       "      <td>1</td>\n",
       "      <td>2</td>\n",
       "      <td>1984.0</td>\n",
       "      <td>0</td>\n",
       "      <td>1</td>\n",
       "      <td>0</td>\n",
       "      <td>0</td>\n",
       "      <td>0</td>\n",
       "      <td>0</td>\n",
       "      <td>-1</td>\n",
       "    </tr>\n",
       "  </tbody>\n",
       "</table>\n",
       "</div>"
      ],
      "text/plain": [
       "        Num_Acc    id_usager  id_vehicule num_veh  place  catu  grav  sexe  \\\n",
       "0  202300000001  203 851 184  155 680 557     A01      1     1     4     1   \n",
       "1  202300000002  203 851 182  155 680 556     A01      1     1     1     2   \n",
       "2  202300000002  203 851 183  155 680 556     A01     10     3     3     1   \n",
       "3  202300000003  203 851 180  155 680 554     B01      1     1     3     1   \n",
       "4  202300000003  203 851 181  155 680 555     A01      1     1     1     2   \n",
       "\n",
       "   an_nais  trajet  secu1  secu2  secu3  locp actp  etatp  \n",
       "0   1978.0       5      2      0     -1    -1   -1     -1  \n",
       "1   1997.0       9      1      0     -1    -1   -1     -1  \n",
       "2   1997.0       9      0     -1     -1     2    3      1  \n",
       "3   1987.0       0      2      6      0     0    0     -1  \n",
       "4   1984.0       0      1      0      0     0    0     -1  "
      ]
     },
     "execution_count": 5,
     "metadata": {},
     "output_type": "execute_result"
    }
   ],
   "source": [
    "# base des usagers \n",
    "df_usagers = pd.read_csv(\"data/usagers-2023.csv\", sep = ';')\n",
    "df_usagers.head()"
   ]
  },
  {
   "cell_type": "code",
   "execution_count": null,
   "metadata": {},
   "outputs": [],
   "source": [
    "/home/onyxia/work/Projet-Python-pour-la-Data-Science"
   ]
  },
  {
   "cell_type": "code",
   "execution_count": 6,
   "metadata": {},
   "outputs": [
    {
     "data": {
      "text/html": [
       "<div>\n",
       "<style scoped>\n",
       "    .dataframe tbody tr th:only-of-type {\n",
       "        vertical-align: middle;\n",
       "    }\n",
       "\n",
       "    .dataframe tbody tr th {\n",
       "        vertical-align: top;\n",
       "    }\n",
       "\n",
       "    .dataframe thead th {\n",
       "        text-align: right;\n",
       "    }\n",
       "</style>\n",
       "<table border=\"1\" class=\"dataframe\">\n",
       "  <thead>\n",
       "    <tr style=\"text-align: right;\">\n",
       "      <th></th>\n",
       "      <th>Num_Acc</th>\n",
       "      <th>id_vehicule</th>\n",
       "      <th>num_veh</th>\n",
       "      <th>senc</th>\n",
       "      <th>catv</th>\n",
       "      <th>obs</th>\n",
       "      <th>obsm</th>\n",
       "      <th>choc</th>\n",
       "      <th>manv</th>\n",
       "      <th>motor</th>\n",
       "      <th>occutc</th>\n",
       "    </tr>\n",
       "  </thead>\n",
       "  <tbody>\n",
       "    <tr>\n",
       "      <th>0</th>\n",
       "      <td>202300000001</td>\n",
       "      <td>155 680 557</td>\n",
       "      <td>A01</td>\n",
       "      <td>1</td>\n",
       "      <td>30</td>\n",
       "      <td>0</td>\n",
       "      <td>0</td>\n",
       "      <td>5</td>\n",
       "      <td>1</td>\n",
       "      <td>1</td>\n",
       "      <td>NaN</td>\n",
       "    </tr>\n",
       "    <tr>\n",
       "      <th>1</th>\n",
       "      <td>202300000002</td>\n",
       "      <td>155 680 556</td>\n",
       "      <td>A01</td>\n",
       "      <td>2</td>\n",
       "      <td>7</td>\n",
       "      <td>0</td>\n",
       "      <td>1</td>\n",
       "      <td>1</td>\n",
       "      <td>1</td>\n",
       "      <td>1</td>\n",
       "      <td>NaN</td>\n",
       "    </tr>\n",
       "    <tr>\n",
       "      <th>2</th>\n",
       "      <td>202300000003</td>\n",
       "      <td>155 680 554</td>\n",
       "      <td>B01</td>\n",
       "      <td>1</td>\n",
       "      <td>2</td>\n",
       "      <td>0</td>\n",
       "      <td>2</td>\n",
       "      <td>1</td>\n",
       "      <td>16</td>\n",
       "      <td>1</td>\n",
       "      <td>NaN</td>\n",
       "    </tr>\n",
       "    <tr>\n",
       "      <th>3</th>\n",
       "      <td>202300000003</td>\n",
       "      <td>155 680 555</td>\n",
       "      <td>A01</td>\n",
       "      <td>2</td>\n",
       "      <td>7</td>\n",
       "      <td>0</td>\n",
       "      <td>2</td>\n",
       "      <td>2</td>\n",
       "      <td>15</td>\n",
       "      <td>1</td>\n",
       "      <td>NaN</td>\n",
       "    </tr>\n",
       "    <tr>\n",
       "      <th>4</th>\n",
       "      <td>202300000004</td>\n",
       "      <td>155 680 551</td>\n",
       "      <td>B01</td>\n",
       "      <td>1</td>\n",
       "      <td>7</td>\n",
       "      <td>0</td>\n",
       "      <td>2</td>\n",
       "      <td>9</td>\n",
       "      <td>2</td>\n",
       "      <td>4</td>\n",
       "      <td>NaN</td>\n",
       "    </tr>\n",
       "  </tbody>\n",
       "</table>\n",
       "</div>"
      ],
      "text/plain": [
       "        Num_Acc  id_vehicule num_veh  senc  catv  obs  obsm  choc  manv  \\\n",
       "0  202300000001  155 680 557     A01     1    30    0     0     5     1   \n",
       "1  202300000002  155 680 556     A01     2     7    0     1     1     1   \n",
       "2  202300000003  155 680 554     B01     1     2    0     2     1    16   \n",
       "3  202300000003  155 680 555     A01     2     7    0     2     2    15   \n",
       "4  202300000004  155 680 551     B01     1     7    0     2     9     2   \n",
       "\n",
       "   motor  occutc  \n",
       "0      1     NaN  \n",
       "1      1     NaN  \n",
       "2      1     NaN  \n",
       "3      1     NaN  \n",
       "4      4     NaN  "
      ]
     },
     "execution_count": 6,
     "metadata": {},
     "output_type": "execute_result"
    }
   ],
   "source": [
    "# Base des véhicules \n",
    "df_vehicules = pd.read_csv(\"data/vehicules-2023.csv\", sep = ';')\n",
    "df_vehicules.head()"
   ]
  },
  {
   "cell_type": "code",
   "execution_count": 7,
   "metadata": {},
   "outputs": [
    {
     "name": "stderr",
     "output_type": "stream",
     "text": [
      "/tmp/ipykernel_169995/3473159961.py:2: DtypeWarning: Columns (12) have mixed types. Specify dtype option on import or set low_memory=False.\n",
      "  df_lieux = pd.read_csv(r\"/home/onyxia/Projet-Python-pour-la-Data-Science/data/lieux-2023.csv\", sep = ';')\n"
     ]
    },
    {
     "data": {
      "text/html": [
       "<div>\n",
       "<style scoped>\n",
       "    .dataframe tbody tr th:only-of-type {\n",
       "        vertical-align: middle;\n",
       "    }\n",
       "\n",
       "    .dataframe tbody tr th {\n",
       "        vertical-align: top;\n",
       "    }\n",
       "\n",
       "    .dataframe thead th {\n",
       "        text-align: right;\n",
       "    }\n",
       "</style>\n",
       "<table border=\"1\" class=\"dataframe\">\n",
       "  <thead>\n",
       "    <tr style=\"text-align: right;\">\n",
       "      <th></th>\n",
       "      <th>Num_Acc</th>\n",
       "      <th>catr</th>\n",
       "      <th>voie</th>\n",
       "      <th>v1</th>\n",
       "      <th>v2</th>\n",
       "      <th>circ</th>\n",
       "      <th>nbv</th>\n",
       "      <th>vosp</th>\n",
       "      <th>prof</th>\n",
       "      <th>pr</th>\n",
       "      <th>pr1</th>\n",
       "      <th>plan</th>\n",
       "      <th>lartpc</th>\n",
       "      <th>larrout</th>\n",
       "      <th>surf</th>\n",
       "      <th>infra</th>\n",
       "      <th>situ</th>\n",
       "      <th>vma</th>\n",
       "    </tr>\n",
       "  </thead>\n",
       "  <tbody>\n",
       "    <tr>\n",
       "      <th>0</th>\n",
       "      <td>202300000001</td>\n",
       "      <td>4</td>\n",
       "      <td>RUE DE RIVOLI</td>\n",
       "      <td>0</td>\n",
       "      <td>NaN</td>\n",
       "      <td>1</td>\n",
       "      <td>2</td>\n",
       "      <td>0</td>\n",
       "      <td>1</td>\n",
       "      <td>-1</td>\n",
       "      <td>-1</td>\n",
       "      <td>1</td>\n",
       "      <td>NaN</td>\n",
       "      <td>-1</td>\n",
       "      <td>2</td>\n",
       "      <td>0</td>\n",
       "      <td>1</td>\n",
       "      <td>30</td>\n",
       "    </tr>\n",
       "    <tr>\n",
       "      <th>1</th>\n",
       "      <td>202300000001</td>\n",
       "      <td>4</td>\n",
       "      <td>RUE SAINT FLORENTIN</td>\n",
       "      <td>0</td>\n",
       "      <td>NaN</td>\n",
       "      <td>1</td>\n",
       "      <td>1</td>\n",
       "      <td>0</td>\n",
       "      <td>1</td>\n",
       "      <td>-1</td>\n",
       "      <td>-1</td>\n",
       "      <td>1</td>\n",
       "      <td>NaN</td>\n",
       "      <td>-1</td>\n",
       "      <td>2</td>\n",
       "      <td>0</td>\n",
       "      <td>1</td>\n",
       "      <td>30</td>\n",
       "    </tr>\n",
       "    <tr>\n",
       "      <th>2</th>\n",
       "      <td>202300000002</td>\n",
       "      <td>3</td>\n",
       "      <td>120</td>\n",
       "      <td>0</td>\n",
       "      <td>NaN</td>\n",
       "      <td>2</td>\n",
       "      <td>3</td>\n",
       "      <td>2</td>\n",
       "      <td>1</td>\n",
       "      <td>-1</td>\n",
       "      <td>-1</td>\n",
       "      <td>1</td>\n",
       "      <td>NaN</td>\n",
       "      <td>-1</td>\n",
       "      <td>2</td>\n",
       "      <td>0</td>\n",
       "      <td>1</td>\n",
       "      <td>50</td>\n",
       "    </tr>\n",
       "    <tr>\n",
       "      <th>3</th>\n",
       "      <td>202300000003</td>\n",
       "      <td>3</td>\n",
       "      <td>5</td>\n",
       "      <td>0</td>\n",
       "      <td>NaN</td>\n",
       "      <td>2</td>\n",
       "      <td>4</td>\n",
       "      <td>0</td>\n",
       "      <td>1</td>\n",
       "      <td>1</td>\n",
       "      <td>0</td>\n",
       "      <td>1</td>\n",
       "      <td>NaN</td>\n",
       "      <td>-1</td>\n",
       "      <td>2</td>\n",
       "      <td>5</td>\n",
       "      <td>1</td>\n",
       "      <td>50</td>\n",
       "    </tr>\n",
       "    <tr>\n",
       "      <th>4</th>\n",
       "      <td>202300000003</td>\n",
       "      <td>3</td>\n",
       "      <td>87</td>\n",
       "      <td>0</td>\n",
       "      <td>NaN</td>\n",
       "      <td>2</td>\n",
       "      <td>4</td>\n",
       "      <td>0</td>\n",
       "      <td>1</td>\n",
       "      <td>1</td>\n",
       "      <td>0</td>\n",
       "      <td>1</td>\n",
       "      <td>NaN</td>\n",
       "      <td>-1</td>\n",
       "      <td>2</td>\n",
       "      <td>5</td>\n",
       "      <td>1</td>\n",
       "      <td>50</td>\n",
       "    </tr>\n",
       "    <tr>\n",
       "      <th>5</th>\n",
       "      <td>202300000004</td>\n",
       "      <td>2</td>\n",
       "      <td>6</td>\n",
       "      <td>0</td>\n",
       "      <td>NaN</td>\n",
       "      <td>2</td>\n",
       "      <td>4</td>\n",
       "      <td>0</td>\n",
       "      <td>1</td>\n",
       "      <td>18</td>\n",
       "      <td>1</td>\n",
       "      <td>1</td>\n",
       "      <td>NaN</td>\n",
       "      <td>12</td>\n",
       "      <td>2</td>\n",
       "      <td>0</td>\n",
       "      <td>1</td>\n",
       "      <td>50</td>\n",
       "    </tr>\n",
       "    <tr>\n",
       "      <th>6</th>\n",
       "      <td>202300000005</td>\n",
       "      <td>4</td>\n",
       "      <td>NaN</td>\n",
       "      <td>0</td>\n",
       "      <td>NaN</td>\n",
       "      <td>1</td>\n",
       "      <td>1</td>\n",
       "      <td>0</td>\n",
       "      <td>1</td>\n",
       "      <td>-1</td>\n",
       "      <td>-1</td>\n",
       "      <td>1</td>\n",
       "      <td>NaN</td>\n",
       "      <td>-1</td>\n",
       "      <td>2</td>\n",
       "      <td>0</td>\n",
       "      <td>1</td>\n",
       "      <td>30</td>\n",
       "    </tr>\n",
       "    <tr>\n",
       "      <th>7</th>\n",
       "      <td>202300000005</td>\n",
       "      <td>4</td>\n",
       "      <td>NaN</td>\n",
       "      <td>0</td>\n",
       "      <td>NaN</td>\n",
       "      <td>2</td>\n",
       "      <td>2</td>\n",
       "      <td>0</td>\n",
       "      <td>1</td>\n",
       "      <td>-1</td>\n",
       "      <td>-1</td>\n",
       "      <td>1</td>\n",
       "      <td>NaN</td>\n",
       "      <td>-1</td>\n",
       "      <td>2</td>\n",
       "      <td>0</td>\n",
       "      <td>1</td>\n",
       "      <td>30</td>\n",
       "    </tr>\n",
       "    <tr>\n",
       "      <th>8</th>\n",
       "      <td>202300000006</td>\n",
       "      <td>4</td>\n",
       "      <td>NaN</td>\n",
       "      <td>0</td>\n",
       "      <td>NaN</td>\n",
       "      <td>1</td>\n",
       "      <td>1</td>\n",
       "      <td>0</td>\n",
       "      <td>1</td>\n",
       "      <td>-1</td>\n",
       "      <td>-1</td>\n",
       "      <td>1</td>\n",
       "      <td>NaN</td>\n",
       "      <td>-1</td>\n",
       "      <td>2</td>\n",
       "      <td>0</td>\n",
       "      <td>1</td>\n",
       "      <td>50</td>\n",
       "    </tr>\n",
       "    <tr>\n",
       "      <th>9</th>\n",
       "      <td>202300000007</td>\n",
       "      <td>3</td>\n",
       "      <td>7</td>\n",
       "      <td>0</td>\n",
       "      <td>NaN</td>\n",
       "      <td>2</td>\n",
       "      <td>4</td>\n",
       "      <td>3</td>\n",
       "      <td>1</td>\n",
       "      <td>-1</td>\n",
       "      <td>-1</td>\n",
       "      <td>1</td>\n",
       "      <td>NaN</td>\n",
       "      <td>-1</td>\n",
       "      <td>2</td>\n",
       "      <td>0</td>\n",
       "      <td>1</td>\n",
       "      <td>50</td>\n",
       "    </tr>\n",
       "  </tbody>\n",
       "</table>\n",
       "</div>"
      ],
      "text/plain": [
       "        Num_Acc  catr                 voie  v1   v2  circ nbv  vosp  prof  \\\n",
       "0  202300000001     4        RUE DE RIVOLI   0  NaN     1   2     0     1   \n",
       "1  202300000001     4  RUE SAINT FLORENTIN   0  NaN     1   1     0     1   \n",
       "2  202300000002     3                  120   0  NaN     2   3     2     1   \n",
       "3  202300000003     3                    5   0  NaN     2   4     0     1   \n",
       "4  202300000003     3                   87   0  NaN     2   4     0     1   \n",
       "5  202300000004     2                    6   0  NaN     2   4     0     1   \n",
       "6  202300000005     4                  NaN   0  NaN     1   1     0     1   \n",
       "7  202300000005     4                  NaN   0  NaN     2   2     0     1   \n",
       "8  202300000006     4                  NaN   0  NaN     1   1     0     1   \n",
       "9  202300000007     3                    7   0  NaN     2   4     3     1   \n",
       "\n",
       "    pr  pr1  plan lartpc larrout  surf  infra  situ  vma  \n",
       "0   -1   -1     1    NaN      -1     2      0     1   30  \n",
       "1   -1   -1     1    NaN      -1     2      0     1   30  \n",
       "2   -1   -1     1    NaN      -1     2      0     1   50  \n",
       "3    1    0     1    NaN      -1     2      5     1   50  \n",
       "4    1    0     1    NaN      -1     2      5     1   50  \n",
       "5   18    1     1    NaN      12     2      0     1   50  \n",
       "6   -1   -1     1    NaN      -1     2      0     1   30  \n",
       "7   -1   -1     1    NaN      -1     2      0     1   30  \n",
       "8   -1   -1     1    NaN      -1     2      0     1   50  \n",
       "9   -1   -1     1    NaN      -1     2      0     1   50  "
      ]
     },
     "execution_count": 7,
     "metadata": {},
     "output_type": "execute_result"
    }
   ],
   "source": [
    "# Base des lieux \n",
    "df_lieux = pd.read_csv(r\"/home/onyxia/Projet-Python-pour-la-Data-Science/data/lieux-2023.csv\", sep = ';')\n",
    "df_lieux.head(10)"
   ]
  },
  {
   "cell_type": "code",
   "execution_count": 8,
   "metadata": {},
   "outputs": [
    {
     "data": {
      "text/html": [
       "<div>\n",
       "<style scoped>\n",
       "    .dataframe tbody tr th:only-of-type {\n",
       "        vertical-align: middle;\n",
       "    }\n",
       "\n",
       "    .dataframe tbody tr th {\n",
       "        vertical-align: top;\n",
       "    }\n",
       "\n",
       "    .dataframe thead th {\n",
       "        text-align: right;\n",
       "    }\n",
       "</style>\n",
       "<table border=\"1\" class=\"dataframe\">\n",
       "  <thead>\n",
       "    <tr style=\"text-align: right;\">\n",
       "      <th></th>\n",
       "      <th>Num_Acc</th>\n",
       "      <th>jour</th>\n",
       "      <th>mois</th>\n",
       "      <th>an</th>\n",
       "      <th>hrmn</th>\n",
       "      <th>lum</th>\n",
       "      <th>dep</th>\n",
       "      <th>com</th>\n",
       "      <th>agg</th>\n",
       "      <th>int</th>\n",
       "      <th>atm</th>\n",
       "      <th>col</th>\n",
       "      <th>adr</th>\n",
       "      <th>lat</th>\n",
       "      <th>long</th>\n",
       "    </tr>\n",
       "  </thead>\n",
       "  <tbody>\n",
       "    <tr>\n",
       "      <th>0</th>\n",
       "      <td>202300000001</td>\n",
       "      <td>7</td>\n",
       "      <td>5</td>\n",
       "      <td>2023</td>\n",
       "      <td>06:00</td>\n",
       "      <td>1</td>\n",
       "      <td>75</td>\n",
       "      <td>75101</td>\n",
       "      <td>2</td>\n",
       "      <td>4</td>\n",
       "      <td>2</td>\n",
       "      <td>7</td>\n",
       "      <td>RUE DE RIVOLI</td>\n",
       "      <td>48,86638600</td>\n",
       "      <td>2,32347100</td>\n",
       "    </tr>\n",
       "    <tr>\n",
       "      <th>1</th>\n",
       "      <td>202300000002</td>\n",
       "      <td>7</td>\n",
       "      <td>5</td>\n",
       "      <td>2023</td>\n",
       "      <td>05:30</td>\n",
       "      <td>5</td>\n",
       "      <td>94</td>\n",
       "      <td>94080</td>\n",
       "      <td>2</td>\n",
       "      <td>1</td>\n",
       "      <td>3</td>\n",
       "      <td>6</td>\n",
       "      <td>Avenue de Paris</td>\n",
       "      <td>48,84547782</td>\n",
       "      <td>2,42868146</td>\n",
       "    </tr>\n",
       "    <tr>\n",
       "      <th>2</th>\n",
       "      <td>202300000003</td>\n",
       "      <td>7</td>\n",
       "      <td>5</td>\n",
       "      <td>2023</td>\n",
       "      <td>20:50</td>\n",
       "      <td>1</td>\n",
       "      <td>94</td>\n",
       "      <td>94022</td>\n",
       "      <td>2</td>\n",
       "      <td>3</td>\n",
       "      <td>2</td>\n",
       "      <td>1</td>\n",
       "      <td>Avenue du Général Leclerc</td>\n",
       "      <td>48,76240000</td>\n",
       "      <td>2,40655000</td>\n",
       "    </tr>\n",
       "    <tr>\n",
       "      <th>3</th>\n",
       "      <td>202300000004</td>\n",
       "      <td>6</td>\n",
       "      <td>5</td>\n",
       "      <td>2023</td>\n",
       "      <td>23:57</td>\n",
       "      <td>5</td>\n",
       "      <td>94</td>\n",
       "      <td>94078</td>\n",
       "      <td>2</td>\n",
       "      <td>1</td>\n",
       "      <td>3</td>\n",
       "      <td>5</td>\n",
       "      <td>Rue de Paris</td>\n",
       "      <td>48,73248432</td>\n",
       "      <td>2,44687575</td>\n",
       "    </tr>\n",
       "    <tr>\n",
       "      <th>4</th>\n",
       "      <td>202300000005</td>\n",
       "      <td>7</td>\n",
       "      <td>5</td>\n",
       "      <td>2023</td>\n",
       "      <td>00:50</td>\n",
       "      <td>5</td>\n",
       "      <td>94</td>\n",
       "      <td>94068</td>\n",
       "      <td>2</td>\n",
       "      <td>2</td>\n",
       "      <td>3</td>\n",
       "      <td>3</td>\n",
       "      <td>56bis Avenue Raspail</td>\n",
       "      <td>48,78581000</td>\n",
       "      <td>2,49217000</td>\n",
       "    </tr>\n",
       "  </tbody>\n",
       "</table>\n",
       "</div>"
      ],
      "text/plain": [
       "        Num_Acc  jour  mois    an   hrmn  lum dep    com  agg  int  atm  col  \\\n",
       "0  202300000001     7     5  2023  06:00    1  75  75101    2    4    2    7   \n",
       "1  202300000002     7     5  2023  05:30    5  94  94080    2    1    3    6   \n",
       "2  202300000003     7     5  2023  20:50    1  94  94022    2    3    2    1   \n",
       "3  202300000004     6     5  2023  23:57    5  94  94078    2    1    3    5   \n",
       "4  202300000005     7     5  2023  00:50    5  94  94068    2    2    3    3   \n",
       "\n",
       "                         adr          lat        long  \n",
       "0              RUE DE RIVOLI  48,86638600  2,32347100  \n",
       "1            Avenue de Paris  48,84547782  2,42868146  \n",
       "2  Avenue du Général Leclerc  48,76240000  2,40655000  \n",
       "3               Rue de Paris  48,73248432  2,44687575  \n",
       "4       56bis Avenue Raspail  48,78581000  2,49217000  "
      ]
     },
     "execution_count": 8,
     "metadata": {},
     "output_type": "execute_result"
    }
   ],
   "source": [
    "df_caract = pd.read_csv(\"data/caract-2023.csv\", sep = ';')\n",
    "df_caract.head()"
   ]
  },
  {
   "cell_type": "code",
   "execution_count": 9,
   "metadata": {},
   "outputs": [
    {
     "data": {
      "text/plain": [
       "(163683, 55)"
      ]
     },
     "execution_count": 9,
     "metadata": {},
     "output_type": "execute_result"
    }
   ],
   "source": [
    "df_merge = df_usagers.merge(df_vehicules, on=[\"Num_Acc\",\"id_vehicule\",\"num_veh\"], how=\"inner\") \n",
    "df_merge = df_merge.merge(df_lieux, on=\"Num_Acc\", how=\"inner\")\n",
    "df_merge = df_merge.merge(df_caract, on=\"Num_Acc\", how=\"inner\")\n",
    "df_merge.shape"
   ]
  },
  {
   "cell_type": "markdown",
   "metadata": {},
   "source": [
    "### Modélisation"
   ]
  },
  {
   "cell_type": "code",
   "execution_count": 8,
   "metadata": {},
   "outputs": [],
   "source": [
    "# Packages nécéssaire\n",
    "from sklearn.preprocessing import StandardScaler\n",
    "from sklearn.model_selection import train_test_split\n",
    "from sklearn.linear_model import LassoCV, Lasso\n",
    "import seaborn as sns\n",
    "from sklearn.metrics import accuracy_score\n",
    "from sklearn.model_selection import GridSearchCV\n",
    "from sklearn.model_selection import RepeatedStratifiedKFold,StratifiedKFold\n",
    "from sklearn.linear_model import LogisticRegression\n",
    "from sklearn.pipeline import Pipeline\n",
    "from sklearn.preprocessing import OneHotEncoder, StandardScaler\n"
   ]
  },
  {
   "cell_type": "code",
   "execution_count": 9,
   "metadata": {},
   "outputs": [
    {
     "data": {
      "text/plain": [
       "<Axes: >"
      ]
     },
     "execution_count": 9,
     "metadata": {},
     "output_type": "execute_result"
    },
    {
     "data": {
      "image/png": "[encoded data removed]",
      "text/plain": [
       "<Figure size 640x480 with 1 Axes>"
      ]
     },
     "metadata": {},
     "output_type": "display_data"
    }
   ],
   "source": [
    "# calcul de l'âge des piétons\n",
    "df_merge[\"Age\"] = 2023-df_merge[\"an_nais\"]\n",
    "# Distribution de l'âge\n",
    "df_merge[\"Age\"].hist()"
   ]
  },
  {
   "cell_type": "code",
   "execution_count": 10,
   "metadata": {},
   "outputs": [
    {
     "data": {
      "text/plain": [
       "occutc    98.334586\n",
       "lartpc    99.952347\n",
       "Age        2.145611\n",
       "dtype: float64"
      ]
     },
     "execution_count": 10,
     "metadata": {},
     "output_type": "execute_result"
    }
   ],
   "source": [
    "#supression des variables d'identification\n",
    "var=[\"Num_Acc\",\"jour\",\"an\",\"com\",\"adr\",\"lat\",\"long\",\"voie\",\"v1\",\"v2\",\"id_vehicule\",\"num_veh\",\"id_usager\",\"an_nais\", \"dep\"]\n",
    "Num_acc=df_merge[\"Num_Acc\"]\n",
    "df_merge.drop(var, axis=1,inplace=True)\n",
    "\n",
    "# pourcentage des valeurs manquantes par variables \n",
    "df_merge.isna().sum()[df_merge.isna().sum()!=0]/len(df_merge)*100"
   ]
  },
  {
   "cell_type": "code",
   "execution_count": null,
   "metadata": {},
   "outputs": [],
   "source": [
    "df_merge.drop([\"occutc\",\"lartpc\"], axis=1, inplace=True)"
   ]
  },
  {
   "cell_type": "code",
   "execution_count": 12,
   "metadata": {},
   "outputs": [
    {
     "data": {
      "text/plain": [
       "<Axes: xlabel='Age'>"
      ]
     },
     "execution_count": 12,
     "metadata": {},
     "output_type": "execute_result"
    },
    {
     "data": {
      "image/png": "[encoded data removed]",
      "text/plain": [
       "<Figure size 640x480 with 1 Axes>"
      ]
     },
     "metadata": {},
     "output_type": "display_data"
    }
   ],
   "source": [
    "# imputation des valeurs manquantes de l'âge\n",
    "sns.boxplot(data=df_merge, x=df_merge['Age'])"
   ]
  },
  {
   "cell_type": "code",
   "execution_count": 13,
   "metadata": {},
   "outputs": [],
   "source": [
    "df_merge[\"Age\"]=df_merge[\"Age\"].fillna(df_merge[\"Age\"].median())"
   ]
  },
  {
   "cell_type": "code",
   "execution_count": null,
   "metadata": {},
   "outputs": [
    {
     "data": {
      "text/plain": [
       "Index(['actp', 'nbv', 'pr', 'pr1', 'larrout', 'hrmn'], dtype='object')"
      ]
     },
     "execution_count": 14,
     "metadata": {},
     "output_type": "execute_result"
    }
   ],
   "source": [
    "#recodage des variables trajet et actp de la base usager\n",
    "df_merge[\"trajet\"]=df_merge[\"trajet\"].replace(0, value=-1)\n",
    "df_merge[\"actp\"]=df_merge[\"actp\"].replace(0, value=-1)\n",
    "\n",
    "# variables de type object de la base\n",
    "df_merge.select_dtypes(\"object\").columns"
   ]
  },
  {
   "cell_type": "code",
   "execution_count": 15,
   "metadata": {},
   "outputs": [],
   "source": [
    "# conversion des variables de type object en variables numériques\n",
    "def replace_pr(val):\n",
    "    if len(val.split())==1:\n",
    "        val=val\n",
    "    else:\n",
    "        if len(val.split())>1:\n",
    "            val=val.split()[1]\n",
    "        else:\n",
    "            val=\"-1\"\n",
    "    return val\n",
    "df_merge[\"pr\"]=df_merge[\"pr\"].apply(func=replace_pr)\n",
    "df_merge[\"pr\"]=df_merge[\"pr\"].astype(float)\n",
    "df_merge[\"pr1\"]=df_merge[\"pr1\"].apply(func=replace_pr)\n",
    "df_merge[\"pr1\"]=df_merge[\"pr1\"].astype(float)\n",
    "def rep_virgule(val):\n",
    "    val=val.replace(\",\",\".\")\n",
    "    return val\n",
    "df_merge[\"larrout\"]=df_merge[\"larrout\"].apply(rep_virgule)\n",
    "df_merge[\"larrout\"]=df_merge[\"larrout\"].astype(float)\n",
    "def heure(val):\n",
    "    val=val.split(\":\")[0]\n",
    "    return val\n",
    "df_merge[\"hrmn\"]=df_merge[\"hrmn\"].apply(func=heure)\n",
    "df_merge[\"hrmn\"]=df_merge[\"hrmn\"].astype(float)\n",
    "\n",
    "df_merge[\"nbv\"]=df_merge[\"nbv\"].str.strip()\n",
    "df_merge[\"nbv\"]=df_merge[\"nbv\"].replace(\"#VALEURMULTI\",\"-1\")\n",
    "df_merge[\"nbv\"]=df_merge[\"nbv\"].astype(float)\n",
    "\n",
    "df_merge[\"actp\"]=df_merge[\"actp\"].replace([\"A\",\"B\"],[\"10\",\"11\"])\n",
    "df_merge[\"actp\"]=df_merge[\"actp\"].astype(float)"
   ]
  },
  {
   "cell_type": "code",
   "execution_count": 16,
   "metadata": {},
   "outputs": [],
   "source": [
    "#suppression des colonnes qui ont plus de 20% de valeurs non renseignés\n",
    "diction=[]\n",
    "for column in df_merge.columns:\n",
    "    if ((len(df_merge[df_merge[column]==-1][column])/df_merge.shape[0]*100)>=20) == True:\n",
    "        diction.append(column)\n",
    "        \n",
    "df_merge=df_merge.drop(diction, axis=1)"
   ]
  },
  {
   "cell_type": "code",
   "execution_count": 17,
   "metadata": {},
   "outputs": [],
   "source": [
    "# on remplace toute les valeurs non renseignées des variables restantes par le mode\n",
    "diction2=[]\n",
    "for column in df_merge.columns:\n",
    "    if len(df_merge[df_merge[column]==-1][column])/df_merge.shape[0]!=0:\n",
    "        diction2.append(column)\n",
    "\n",
    "for col in diction2:\n",
    "    mode=df_merge[col].value_counts().idxmax()\n",
    "    df_merge[col]=df_merge[col].replace(-1,mode)\n"
   ]
  },
  {
   "cell_type": "code",
   "execution_count": 18,
   "metadata": {},
   "outputs": [
    {
     "data": {
      "text/plain": [
       "Index(['place', 'catu', 'sexe', 'secu1', 'senc', 'catv', 'obs', 'obsm', 'choc',\n",
       "       'manv', 'motor', 'catr', 'circ', 'vosp', 'prof', 'plan', 'surf',\n",
       "       'infra', 'situ', 'mois', 'lum', 'agg', 'int', 'atm', 'col'],\n",
       "      dtype='object')"
      ]
     },
     "execution_count": 18,
     "metadata": {},
     "output_type": "execute_result"
    }
   ],
   "source": [
    "df_merge.drop([\"Age\",'hrmn','vma',\"nbv\",\"grav\"], axis=1).columns"
   ]
  },
  {
   "cell_type": "markdown",
   "metadata": {},
   "source": [
    "#### Relation target_variable"
   ]
  },
  {
   "cell_type": "code",
   "execution_count": 81,
   "metadata": {},
   "outputs": [
    {
     "name": "stdout",
     "output_type": "stream",
     "text": [
      "place\n",
      "Coefficient cramer: 0.14210689955299835\n",
      "P-value: 0.0\n",
      "catu\n",
      "Coefficient cramer: 0.1702109034131252\n",
      "P-value: 0.0\n",
      "sexe\n",
      "Coefficient cramer: 0.09700762733214484\n",
      "P-value: 0.0\n",
      "secu1\n",
      "Coefficient cramer: 0.28053008705319266\n",
      "P-value: 0.0\n",
      "senc\n",
      "Coefficient cramer: 0.020324693791572535\n",
      "P-value: 8.37246074709603e-39\n",
      "catv\n",
      "Coefficient cramer: 0.25784299424117746\n",
      "P-value: 0.0\n",
      "obs\n",
      "Coefficient cramer: 0.15017468870028533\n",
      "P-value: 0.0\n",
      "obsm\n",
      "Coefficient cramer: 0.13527105698426814\n",
      "P-value: 0.0\n",
      "choc\n",
      "Coefficient cramer: 0.12177687318094058\n",
      "P-value: 0.0\n",
      "manv\n",
      "Coefficient cramer: 0.1614692691514225\n",
      "P-value: 0.0\n",
      "motor\n",
      "Coefficient cramer: 0.11837550161226613\n",
      "P-value: 0.0\n",
      "catr\n",
      "Coefficient cramer: 0.09816888673906023\n",
      "P-value: 0.0\n",
      "circ\n",
      "Coefficient cramer: 0.07511230786540385\n",
      "P-value: 0.0\n",
      "vosp\n",
      "Coefficient cramer: 0.04149788239954468\n",
      "P-value: 3.1974596324172815e-176\n",
      "prof\n",
      "Coefficient cramer: 0.03818899842417063\n",
      "P-value: 2.3358989988161868e-148\n",
      "plan\n",
      "Coefficient cramer: 0.06630436147723692\n",
      "P-value: 0.0\n",
      "surf\n",
      "Coefficient cramer: 0.025964015949734246\n",
      "P-value: 8.980203154981554e-56\n",
      "infra\n",
      "Coefficient cramer: 0.025261039746472293\n",
      "P-value: 1.575711577338539e-50\n",
      "situ\n",
      "Coefficient cramer: 0.1208900106728151\n",
      "P-value: 0.0\n",
      "mois\n",
      "Coefficient cramer: 0.025485437389615506\n",
      "P-value: 1.634932795598192e-48\n",
      "lum\n",
      "Coefficient cramer: 0.06543990978465371\n",
      "P-value: 0.0\n",
      "agg\n",
      "Coefficient cramer: 0.17641720493296345\n",
      "P-value: 0.0\n",
      "int\n",
      "Coefficient cramer: 0.06205065620603971\n",
      "P-value: 0.0\n",
      "atm\n",
      "Coefficient cramer: 0.030749902434348653\n",
      "P-value: 4.157244023373032e-83\n",
      "col\n",
      "Coefficient cramer: 0.13540931295554923\n",
      "P-value: 0.0\n"
     ]
    }
   ],
   "source": [
    "import pandas as pd\n",
    "from scipy.stats import chi2_contingency\n",
    "import numpy as np\n",
    "\n",
    "for col in df_merge.drop([\"Age\",'hrmn','vma',\"nbv\",\"grav\"], axis=1).columns:\n",
    "\n",
    "    # Création d'une table de contingence\n",
    "    contingency_table = pd.crosstab(df_merge[col], df_merge[\"grav\"])\n",
    "\n",
    "    # Calcul du chi-deux et du V de Cramer\n",
    "    chi2, p, dof, expected = chi2_contingency(contingency_table)\n",
    "    n = contingency_table.sum().sum()\n",
    "    mindim = min(contingency_table.shape)-1\n",
    "\n",
    "    # Calcul du V de Cramer\n",
    "    v = np.sqrt(chi2 / (n * mindim))\n",
    "    print(col)\n",
    "    print('Coefficient cramer:', v)\n",
    "    print('P-value:', p)"
   ]
  },
  {
   "cell_type": "code",
   "execution_count": 87,
   "metadata": {},
   "outputs": [
    {
     "name": "stdout",
     "output_type": "stream",
     "text": [
      "Age\n",
      "Coefficient de corrélation de point bisériel: -0.08163511486137105\n",
      "P-value: 5.269283166204373e-240\n",
      "hrmn\n",
      "Coefficient de corrélation de point bisériel: -0.01771183730366321\n",
      "P-value: 7.704100668302511e-13\n",
      "vma\n",
      "Coefficient de corrélation de point bisériel: -0.0020499136181500325\n",
      "P-value: 0.40691001603327903\n",
      "nbv\n",
      "Coefficient de corrélation de point bisériel: -0.008021053581738541\n",
      "P-value: 0.0011738230628344504\n"
     ]
    }
   ],
   "source": [
    "from scipy.stats import pearsonr\n",
    "for col in [\"Age\",'hrmn','vma',\"nbv\"]:\n",
    "    #dfcol=df[[col,\"grav\"]].dropna()\n",
    "    corr, p_value = pearsonr(df_merge[col], df_merge[\"grav\"])\n",
    "    print(col)\n",
    "    print('Coefficient de corrélation de point bisériel:', corr)\n",
    "    print('P-value:', p_value)"
   ]
  },
  {
   "cell_type": "code",
   "execution_count": 19,
   "metadata": {},
   "outputs": [],
   "source": [
    "#On caractérise chaque accident par le niveau de gravité le plus haut\n",
    "df_merge[\"Num_Acc\"]=Num_acc\n",
    "import numpy as np\n",
    "id_acc=df_merge[\"Num_Acc\"].unique()\n",
    "index_true=[]\n",
    "for i in id_acc:\n",
    "    df_id=df_merge[df_merge[\"Num_Acc\"]==i]\n",
    "    n_grav=np.max(df_id[\"grav\"])\n",
    "    index=df_merge[(df_merge[\"Num_Acc\"]==i) & (df_merge[\"grav\"]==n_grav)].index[0]\n",
    "    #if len(index)!=0:\n",
    "    #df_merge.drop(index=index, inplace=True)\n",
    "    index_true.append(index)\n",
    "        \n",
    "df_merge.drop([\"Num_Acc\"], axis=1, inplace=True)"
   ]
  },
  {
   "cell_type": "code",
   "execution_count": 20,
   "metadata": {},
   "outputs": [
    {
     "data": {
      "text/plain": [
       "grav\n",
       "4    38645\n",
       "3    13904\n",
       "2     2273\n",
       "Name: count, dtype: int64"
      ]
     },
     "execution_count": 20,
     "metadata": {},
     "output_type": "execute_result"
    }
   ],
   "source": [
    "# Niveau de gravité de l'accident présente dans la nouvelle base\n",
    "df_merge=df_merge.loc[index_true]\n",
    "df_merge[\"grav\"].value_counts()"
   ]
  },
  {
   "cell_type": "markdown",
   "metadata": {},
   "source": [
    "Dans les accidents enregistrés, aucun n'a laisser toutes les personnes impliquées indemnes.\n",
    "\n",
    "On recode la variable \"gravité\" par: \n",
    "- 2: niveau de gravité **grave** (2)\n",
    "- 3: niveau de gravité **moyen** (1)\n",
    "- 4: niveau de gravité **faible** (0)"
   ]
  },
  {
   "cell_type": "code",
   "execution_count": 21,
   "metadata": {},
   "outputs": [
    {
     "data": {
      "text/plain": [
       "grav\n",
       "0    70.491773\n",
       "1    25.362081\n",
       "2     4.146146\n",
       "Name: count, dtype: float64"
      ]
     },
     "execution_count": 21,
     "metadata": {},
     "output_type": "execute_result"
    }
   ],
   "source": [
    "#recodage de la gravité de l'accident\n",
    "df_merge[\"grav\"]=df_merge[\"grav\"].replace([3,4], value=[1,0])\n",
    "# distribution de la gravité\n",
    "df_merge[\"grav\"].value_counts()/df_merge.shape[0]*100"
   ]
  },
  {
   "cell_type": "markdown",
   "metadata": {},
   "source": [
    "#### Sélection des variables"
   ]
  },
  {
   "cell_type": "markdown",
   "metadata": {},
   "source": [
    "Pour la selection des variables qui seront utilisées dans le modèle de régression logistique, nous utiliserons une regression Lasso. C'est une technique de régularisation qui consiste à appliquer une pénalité pour éviter le surapprentissage et améliorer la précision des modèles statistiques.\n"
   ]
  },
  {
   "cell_type": "code",
   "execution_count": null,
   "metadata": {},
   "outputs": [],
   "source": [
    "#corrélation entre les variables\n",
    "#plt.figure(figsize=(20,20))\n",
    "#sns.heatmap(df_merge.corr(),annot=True)"
   ]
  },
  {
   "cell_type": "code",
   "execution_count": null,
   "metadata": {},
   "outputs": [],
   "source": [
    "# on retire les variables qui ont une forte corrélation avec d'autres\n",
    "#df_merge=df_merge.drop([\"place\",\"agg\"], axis=1)"
   ]
  },
  {
   "cell_type": "markdown",
   "metadata": {},
   "source": [
    "Par la suite, nous utilisons un encodage onehot sur les variables catégorielles (catégorielles nominales) qui va creer de nouvelles variables indicatrices et vont faciliter les interprétations des résultats du modèle. Aussi, nous standardisons les variables continues."
   ]
  },
  {
   "cell_type": "code",
   "execution_count": 22,
   "metadata": {},
   "outputs": [],
   "source": [
    "# en utilisant une regression lasso\n",
    "numeric_var=[\"Age\",'hrmn','vma',\"nbv\"]\n",
    "lasso_x=df_merge.drop([\"grav\"],axis=1)\n",
    "categorical_var=lasso_x.drop(numeric_var, axis=1).columns\n",
    "lasso_y=df_merge[\"grav\"]\n",
    "\n",
    "numeric_pipeline = Pipeline(\n",
    "    steps=[(\"scale\", StandardScaler())]\n",
    ")\n",
    "\n",
    "categorical_pipeline = Pipeline(\n",
    "    steps=[\n",
    "        (\"one-hot\", OneHotEncoder(handle_unknown=\"ignore\", sparse_output=False)),\n",
    "    ]\n",
    ")"
   ]
  },
  {
   "cell_type": "markdown",
   "metadata": {},
   "source": [
    "Nous déterminons ensuite le meilleur hyperparamètre alpha en utilisant une validation croisée afin que les variables qui seront sélectionner par le Lasso prédisent au mieux le niveau de gravité des accidents."
   ]
  },
  {
   "cell_type": "code",
   "execution_count": null,
   "metadata": {},
   "outputs": [],
   "source": [
    "base=categorical_pipeline.fit_transform(lasso_x.drop(columns=numeric_var,axis=1))\n",
    "base_cont=numeric_pipeline.fit_transform(lasso_x[numeric_var])\n",
    "data=pd.DataFrame(data=base, columns=categorical_pipeline.get_feature_names_out())\n",
    "data[numeric_var]=base_cont\n",
    "\n",
    "my_alphas = np.array([0.001, 0.01, 0.02, 0.025])\n",
    "lcv = LassoCV(alphas=my_alphas, fit_intercept=False, random_state=0, cv=3).fit(\n",
    "    data, lasso_y)\n",
    "print(\"alpha optimal :\", lcv.alpha_)"
   ]
  },
  {
   "cell_type": "markdown",
   "metadata": {},
   "source": [
    "Implémentons enfin le Lasso, et conservons la base de données avec les variables non pénalisées."
   ]
  },
  {
   "cell_type": "code",
   "execution_count": null,
   "metadata": {},
   "outputs": [
    {
     "ename": "NameError",
     "evalue": "name 'lcv' is not defined",
     "output_type": "error",
     "traceback": [
      "\u001b[0;31m---------------------------------------------------------------------------\u001b[0m",
      "\u001b[0;31mNameError\u001b[0m                                 Traceback (most recent call last)",
      "Cell \u001b[0;32mIn[25], line 2\u001b[0m\n\u001b[1;32m      1\u001b[0m \u001b[38;5;66;03m# Application du lasso\u001b[39;00m\n\u001b[0;32m----> 2\u001b[0m model \u001b[38;5;241m=\u001b[39m Lasso(fit_intercept\u001b[38;5;241m=\u001b[39m\u001b[38;5;28;01mFalse\u001b[39;00m, alpha\u001b[38;5;241m=\u001b[39m\u001b[43mlcv\u001b[49m\u001b[38;5;241m.\u001b[39malpha_)\n\u001b[1;32m      3\u001b[0m lasso_optimal\u001b[38;5;241m=\u001b[39mmodel\u001b[38;5;241m.\u001b[39mfit(data, lasso_y)\n\u001b[1;32m      4\u001b[0m data\u001b[38;5;241m.\u001b[39mcolumns[np\u001b[38;5;241m.\u001b[39mabs(lasso_optimal\u001b[38;5;241m.\u001b[39mcoef_)\u001b[38;5;241m>\u001b[39m\u001b[38;5;241m0\u001b[39m] \u001b[38;5;66;03m# variables sélectionner\u001b[39;00m\n",
      "\u001b[0;31mNameError\u001b[0m: name 'lcv' is not defined"
     ]
    }
   ],
   "source": [
    "# Application du lasso\n",
    "model = Lasso(fit_intercept=False, alpha=lcv.alpha_)\n",
    "lasso_optimal=model.fit(data, lasso_y)\n",
    "data.columns[np.abs(lasso_optimal.coef_)>0] # variables sélectionner"
   ]
  },
  {
   "cell_type": "code",
   "execution_count": null,
   "metadata": {},
   "outputs": [],
   "source": [
    "data_model=data[data.columns[np.abs(lasso_optimal.coef_)>0]]"
   ]
  },
  {
   "cell_type": "markdown",
   "metadata": {},
   "source": [
    "#### Implémentation de la régression logistique"
   ]
  },
  {
   "cell_type": "markdown",
   "metadata": {},
   "source": [
    "Division de la base de données en données d'entrainement et données de test "
   ]
  },
  {
   "cell_type": "code",
   "execution_count": null,
   "metadata": {},
   "outputs": [],
   "source": [
    "x_train,x_test,y_train,y_test = train_test_split(data_model,lasso_y, test_size=0.2, random_state=42)"
   ]
  },
  {
   "cell_type": "code",
   "execution_count": null,
   "metadata": {},
   "outputs": [],
   "source": [
    "params={'penalty':[\"l2\",None], 'solver':[\"newton-cg\"]}\n",
    "cv=RepeatedStratifiedKFold(n_splits=10, n_repeats=3, random_state=1)\n",
    "grid = GridSearchCV(LogisticRegression(multi_class=\"multinomial\",class_weight=\"balanced\"), params, cv=cv)\n",
    "grid.fit(x_train, y_train)\n",
    "print(\"best params:\",grid.best_params_)\n",
    "print(\"best score:\",grid.best_score_)\n"
   ]
  },
  {
   "cell_type": "code",
   "execution_count": null,
   "metadata": {},
   "outputs": [],
   "source": [
    "model=grid.best_estimator_\n",
    "acc_train = accuracy_score(y_train, model.predict(x_train))\n",
    "acc_test = accuracy_score(y_test, model.predict(x_test))\n",
    "print(\"Training Accuracy:\", round(acc_train, 2))\n",
    "print(\"Test Accuracy:\", round(acc_test, 2))"
   ]
  },
  {
   "cell_type": "code",
   "execution_count": null,
   "metadata": {},
   "outputs": [],
   "source": [
    "#confusion matrix\n",
    "from sklearn import metrics\n",
    "predictions = model.predict(x_test)\n",
    "cm = metrics.confusion_matrix(y_test, predictions)\n",
    "plt.figure(figsize=(9,9))\n",
    "sns.heatmap(cm, annot=True, fmt=\".3f\", linewidths=.5, square = True, cmap = 'Blues_r');\n",
    "plt.ylabel('Actual label');\n",
    "plt.xlabel('Predicted label');\n",
    "all_sample_title = 'Accuracy Score: {0}'.format(acc_test)\n",
    "#plt.title(all_sample_title, size = 15);\n",
    "#plt.savefig('toy_Digits_ConfusionSeabornCodementor.png')"
   ]
  },
  {
   "cell_type": "code",
   "execution_count": null,
   "metadata": {},
   "outputs": [],
   "source": [
    "importances1 = model.coef_[0]\n",
    "odds_ratios1 = pd.Series(np.exp(importances1), index=data_model.columns).sort_values() #coefficient des variables dans le modèle\n",
    "fig1 = px.bar(x=odds_ratios1.tail(15),y=odds_ratios1.tail(15).index, orientation=\"h\",title=\"Odds Ratio-reference 1\")\n",
    "fig1.update_layout(xaxis_title=\"exp(coef)\", yaxis_title=\"Variables\")\n"
   ]
  },
  {
   "cell_type": "code",
   "execution_count": null,
   "metadata": {},
   "outputs": [],
   "source": [
    "importances2 = model.coef_[1]\n",
    "odds_ratios2 = pd.Series(np.exp(importances2), index=data_model.columns).sort_values() #coefficient des variables dans le modèle\n",
    "fig2 = px.bar(x=odds_ratios2.tail(15),y=odds_ratios2.tail(15).index, orientation=\"h\",title=\"Odds Ratio-reference 2\")\n",
    "fig2.update_layout(xaxis_title=\"exp(coef)\", yaxis_title=\"Variables\")"
   ]
  },
  {
   "cell_type": "markdown",
   "metadata": {},
   "source": [
    "- L'utilisation de la ceinture de sécurité seule augmente la chance que la ravité de l'accident soit moyenne de 82%.\n",
    "- Lorsque la voiture se trouve entre deux files avant l'accident, la gravité de l'accident à 54% d'être moyenne que d'être faible\n",
    "- un véhicule scooter<50cm3, l'autoroute, heurté une glissière en béton augmentent la chance d'avoir un accident de gravité moyenne de 54%,51%,47% respectivement.\n",
    "- une collision de trois véhicules et plus-en chaine augmentent la chance d'avoir un accident de gravité moyenne de 45%.\n",
    " - les caractéristiques suivantes: une manoeuvre d'évitement, un accident sur piste cyclable, heurté un véhicule en stationnement, avec un scooter > 50cm3 et <=125cm3, avoir un accident sur la chaussée, ou avec un véhicule léger, ou encore sous une pluie légère,  augmentent la chance d'avoir un accident de gravité moyenne entre 15% et 30%. \n",
    "\n",
    " - Avoir un accident sur un cyclomoteur<50cm3 ou sur une motocyclette augmente la probabilité que l'accident soit grave de plus de 40%."
   ]
  },
  {
   "cell_type": "code",
   "execution_count": null,
   "metadata": {},
   "outputs": [],
   "source": [
    "fig3 = px.bar(x=odds_ratios1.head(10),y=odds_ratios1.head(10).index, orientation=\"h\",title=\"Odds Ratio-reference 1\")\n",
    "fig3.update_layout(xaxis_title=\"exp(coef)\", yaxis_title=\"Variables\")\n"
   ]
  },
  {
   "cell_type": "code",
   "execution_count": null,
   "metadata": {},
   "outputs": [],
   "source": [
    "fig4 = px.bar(x=odds_ratios2.head(10),y=odds_ratios2.head(10).index, orientation=\"h\",title=\"Odds Ratio-reference 2\")\n",
    "fig4.update_layout(xaxis_title=\"exp(coef)\", yaxis_title=\"Variables\")"
   ]
  },
  {
   "cell_type": "markdown",
   "metadata": {},
   "source": [
    "### Implémentation d'un modèle de random forest"
   ]
  },
  {
   "cell_type": "code",
   "execution_count": 92,
   "metadata": {},
   "outputs": [
    {
     "ename": "NameError",
     "evalue": "name 'x_train' is not defined",
     "output_type": "error",
     "traceback": [
      "\u001b[0;31m---------------------------------------------------------------------------\u001b[0m",
      "\u001b[0;31mNameError\u001b[0m                                 Traceback (most recent call last)",
      "Cell \u001b[0;32mIn[92], line 16\u001b[0m\n\u001b[1;32m     14\u001b[0m cv\u001b[38;5;241m=\u001b[39mRepeatedStratifiedKFold(n_splits\u001b[38;5;241m=\u001b[39m\u001b[38;5;241m10\u001b[39m, n_repeats\u001b[38;5;241m=\u001b[39m\u001b[38;5;241m3\u001b[39m, random_state\u001b[38;5;241m=\u001b[39m\u001b[38;5;241m1\u001b[39m)\n\u001b[1;32m     15\u001b[0m grid \u001b[38;5;241m=\u001b[39m GridSearchCV(RandomForestClassifier(class_weight\u001b[38;5;241m=\u001b[39m\u001b[38;5;124m\"\u001b[39m\u001b[38;5;124mbalanced\u001b[39m\u001b[38;5;124m\"\u001b[39m), params_grid, cv\u001b[38;5;241m=\u001b[39mcv)\n\u001b[0;32m---> 16\u001b[0m grid\u001b[38;5;241m.\u001b[39mfit(\u001b[43mx_train\u001b[49m, y_train)\n\u001b[1;32m     17\u001b[0m \u001b[38;5;28mprint\u001b[39m(\u001b[38;5;124m\"\u001b[39m\u001b[38;5;124mbest params:\u001b[39m\u001b[38;5;124m\"\u001b[39m,grid\u001b[38;5;241m.\u001b[39mbest_params_)\n\u001b[1;32m     18\u001b[0m \u001b[38;5;28mprint\u001b[39m(\u001b[38;5;124m\"\u001b[39m\u001b[38;5;124mbest score:\u001b[39m\u001b[38;5;124m\"\u001b[39m,grid\u001b[38;5;241m.\u001b[39mbest_score_)\n",
      "\u001b[0;31mNameError\u001b[0m: name 'x_train' is not defined"
     ]
    }
   ],
   "source": [
    "from sklearn.ensemble import RandomForestClassifier\n",
    "n_estimators = [int(x) for x in np.arange(100, 500, 100)]\n",
    "max_features = ['auto', 'sqrt']\n",
    "max_depth = [10,15]\n",
    "min_samples_split = [2, 5]\n",
    "min_samples_leaf = [1, 2]\n",
    "criterion = ['gini', 'entropy']\n",
    "params_grid = {'n_estimators': n_estimators, \n",
    "               'max_depth': max_depth,\n",
    "               'min_samples_leaf': min_samples_leaf,\n",
    "               'criterion': criterion\n",
    "              }\n",
    "\n",
    "cv=RepeatedStratifiedKFold(n_splits=10, n_repeats=3, random_state=1)\n",
    "grid = GridSearchCV(RandomForestClassifier(class_weight=\"balanced\"), params_grid, cv=cv)\n",
    "grid.fit(x_train, y_train)\n",
    "print(\"best params:\",grid.best_params_)\n",
    "print(\"best score:\",grid.best_score_)"
   ]
  }
 ],
 "metadata": {
  "kernelspec": {
   "display_name": "base",
   "language": "python",
   "name": "python3"
  },
  "language_info": {
   "codemirror_mode": {
    "name": "ipython",
    "version": 3
   },
   "file_extension": ".py",
   "mimetype": "text/x-python",
   "name": "python",
   "nbconvert_exporter": "python",
   "pygments_lexer": "ipython3",
   "version": "3.12.7"
  }
 },
 "nbformat": 4,
 "nbformat_minor": 2
}
