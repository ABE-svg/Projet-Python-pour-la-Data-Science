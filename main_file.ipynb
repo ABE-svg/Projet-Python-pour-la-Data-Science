{
 "cells": [
  {
   "cell_type": "markdown",
   "metadata": {},
   "source": [
    "# **Projet python pour la data science / 2024-2025**"
   ]
  },
  {
   "cell_type": "markdown",
   "metadata": {},
   "source": [
    "Rédigé par:\n",
    "* ABE Kevin\n",
    "* DEMGNE Lisa\n",
    "* Oscar"
   ]
  },
  {
   "cell_type": "markdown",
   "metadata": {},
   "source": [
    "## **Introduction**"
   ]
  },
  {
   "cell_type": "markdown",
   "metadata": {},
   "source": [
    "Un accident de la route ou accident de la circulation est entendu comme une collision non voulue, non prévue et mal anticipée d'au moins un engin roulant avec une chose, un animal ou une personne sur une voie publique ou privée ouverte à la circulation.Ils constituent un véritable fléau mondial, causant chaque année des milliers de morts et de blessés. Ces tragédies bouleversent des vies et ont un impact considérable sur la société. En France, la lutte contre ce phénomène est prise en charge au niveau national par la délégation à la sécurité routière, qui se sert des éclairages fourni par un document d'information édité annuellement par l'ONISR (Observatoire National Interministériel de la Sécurité Routière) faisant la synthèse des principales données de l'accidentologie.\n",
    "\n",
    "Nous nous intéresserons dans le cadre de ce projet à la description de l'accidentologie en France en 2023, ainsi qu'a la prédiction du niveau de gravité d'un accident. Ainsi, ce projet se donne de renseigner sur la fréquence des accidents, le profil des victimes, les caractéristiques des véhicules impliqués, les conditions météorologiques,... et ainsi que les facteurs succeptibles d'influencer le niveau de gravité d'un accident."
   ]
  },
  {
   "cell_type": "code",
   "execution_count": null,
   "metadata": {},
   "outputs": [],
   "source": [
    "!pip install requests\n",
    "!pip install os\n",
    "!pip install matplotlib\n",
    "!pip install pandas \n",
    "!pip install plotly\n",
    "!pip install plotly\n",
    "!pip install io\n",
    "!pip install seaborn\n",
    "!pip install ipywidgets\n",
    "!pip install tabulate\n",
    "!pip install ipywidgets \n",
    "!pip install tabulate \n",
    "!pip install scipy\n",
    "!pip install numpy \n",
    "!pip install IPython"
   ]
  },
  {
   "cell_type": "markdown",
   "metadata": {},
   "source": [
    "### *Packages"
   ]
  },
  {
   "cell_type": "code",
   "execution_count": null,
   "metadata": {},
   "outputs": [],
   "source": [
    "import requests\n",
    "import os\n",
    "import matplotlib.pyplot as plt\n",
    "import pandas as pd\n",
    "import plotly\n",
    "import plotly.express as px\n",
    "import io\n",
    "import seaborn as sns\n",
    "import ipywidgets as widgets\n",
    "from tabulate import tabulate\n",
    "from scipy.stats import chi2_contingency\n",
    "import numpy as np\n",
    "from IPython.display import display\n",
    "# Packages nécéssaire\n",
    "from sklearn.preprocessing import StandardScaler\n",
    "from sklearn.model_selection import train_test_split\n",
    "from sklearn.linear_model import LassoCV, Lasso\n",
    "import seaborn as sns\n",
    "from sklearn.metrics import accuracy_score\n",
    "from sklearn.model_selection import GridSearchCV\n",
    "from sklearn.model_selection import RepeatedStratifiedKFold,StratifiedKFold\n",
    "from sklearn.linear_model import LogisticRegression\n",
    "from sklearn.pipeline import Pipeline\n",
    "from sklearn.preprocessing import OneHotEncoder, StandardScaler\n",
    "from sklearn.impute import SimpleImputer\n"
   ]
  },
  {
   "cell_type": "markdown",
   "metadata": {},
   "source": [
    "### **I- Importation des bases de données et preprocessing**"
   ]
  },
  {
   "cell_type": "markdown",
   "metadata": {},
   "source": [
    "### 1)-Importation des bases de données"
   ]
  },
  {
   "cell_type": "markdown",
   "metadata": {},
   "source": [
    "Dans cette partie, nous allons importer les bases données qui seront utilisées dans ce projet.\n",
    "- base des usagers ayant été impliqué dans un accident de circulation en 2023\n",
    "- base qui donne la description des véhicules impliqués dans les accidents de circulation en 2023\n",
    "- base des lieux où se sont produit les accidents\n",
    "- base contenant les caractéristiques des accidents.\n",
    "\n",
    "\n"
   ]
  },
  {
   "cell_type": "code",
   "execution_count": null,
   "metadata": {},
   "outputs": [],
   "source": [
    "# fonction de téléchargement des données sur les accidents corporels\n",
    "def telecharge(url_data,filename, path):\n",
    "    # Vérifie si le dossier 'data' existe, sinon le crée\n",
    "    if not os.path.exists(path):\n",
    "        os.makedirs(path)\n",
    "    #télécharge les données avec l'url\n",
    "    response = requests.get(url_data)\n",
    "    if response.status_code == 200:\n",
    "        file_path = os.path.join(path, filename)\n",
    "        with open(file_path, 'wb') as file:\n",
    "            file.write(response.content)\n",
    "        print(f\"Fichier {filename} téléchargé avec succès:{file_path}\")\n",
    "    else:\n",
    "        print(f\"Echec de téléchargement pour {filename}. Statut: {response.status_code}\")\n",
    "\n",
    "# API pour accéder à l'url de téléchargement\n",
    "url_root=\"https://www.data.gouv.fr/api/1/datasets/53698f4ca3a729239d2036df/resources/\"\n",
    "urls={\n",
    "    \"usagers-2023.csv\":\"68848e2a-28dd-4efc-9d5f-d512f7dbe66f\",\n",
    "    \"vehicules-2023.csv\":\"146a42f5-19f0-4b3e-a887-5cd8fbef057b\",\n",
    "    \"lieux-2023.csv\":\"8bef19bf-a5e4-46b3-b5f9-a145da4686bc\",\n",
    "    \"caract-2023.csv\":\"104dbb32-704f-4e99-a71e-43563cb604f2\"\n",
    "}\n",
    "path='data'\n",
    "\n",
    "for filename, resource_id in urls.items():\n",
    "    url=url_root+resource_id\n",
    "    response1=requests.get(url)\n",
    "    if response1.status_code==200:\n",
    "        data=response1.json()\n",
    "        url_data=data['url']\n",
    "    else:\n",
    "        print(\"downloading failed\")\n",
    "    telecharge(url_data,filename,path)\n"
   ]
  },
  {
   "cell_type": "code",
   "execution_count": null,
   "metadata": {},
   "outputs": [],
   "source": [
    "# téléchargement de la liste des départements\n",
    "url_code_dep=f\"https://tabular-api.data.gouv.fr/api/resources/e436f772-b05d-47f8-b246-265faab8679f/data/?page=1\"\n",
    "response=requests.get(url_code_dep)\n",
    "data=response.json()\n",
    "df_code_dep = pd.DataFrame(data[\"data\"])\n",
    "df_dep=df_code_dep\n",
    "for i in range(2,7):\n",
    "    url_code_dep=f\"https://tabular-api.data.gouv.fr/api/resources/e436f772-b05d-47f8-b246-265faab8679f/data/?page={i}\"\n",
    "    response=requests.get(url_code_dep)\n",
    "    if response.status_code==200:\n",
    "        data=response.json()\n",
    "        df_code_dep1 = pd.DataFrame(data[\"data\"])\n",
    "    else:\n",
    "        print(\"downloading failed\")\n",
    "    df_dep=pd.concat([df_dep, df_code_dep1], axis=0)\n"
   ]
  },
  {
   "cell_type": "code",
   "execution_count": null,
   "metadata": {},
   "outputs": [],
   "source": [
    "# base des usagers \n",
    "df_usagers = pd.read_csv(\"data/usagers-2023.csv\", sep = ';')\n",
    "df_usagers.head()"
   ]
  },
  {
   "cell_type": "code",
   "execution_count": null,
   "metadata": {},
   "outputs": [],
   "source": [
    "# Base des véhicules \n",
    "df_vehicules = pd.read_csv(\"data/vehicules-2023.csv\", sep = ';')\n",
    "df_vehicules.head()  "
   ]
  },
  {
   "cell_type": "code",
   "execution_count": null,
   "metadata": {},
   "outputs": [],
   "source": [
    "# Base des lieux \n",
    "df_lieux = pd.read_csv(\"data/lieux-2023.csv\", sep = ';')\n",
    "df_lieux.head(5)"
   ]
  },
  {
   "cell_type": "code",
   "execution_count": null,
   "metadata": {},
   "outputs": [],
   "source": [
    "# Base caract\n",
    "df_caract = pd.read_csv(\"data/caract-2023.csv\", sep = ';')\n",
    "df_caract.head()"
   ]
  },
  {
   "cell_type": "markdown",
   "metadata": {},
   "source": [
    "Nous construisons et nettoyons à présent la base de données qui résultera de la fusion des toutes les bases importées précedemment. Cette base de données sera utilisée pour la modélisation.\n",
    "\n",
    "Dans un premier temps, nous fusionons la base des usagers et celle des véhicules sur les variables \"Num_acc\" (Numéro de l'accident), \"id_vehicule\" (identifiant du véhicule) et \"num_veh\" (numéro du véhicule) qui sont commun aux deux bases. Ensuite, nous fusionons les autres bases sur la variable \"Num_acc\". Nous utilisons l'option \"inner\" qui utilise l'intersection des clés dans les deux tables."
   ]
  },
  {
   "cell_type": "code",
   "execution_count": null,
   "metadata": {},
   "outputs": [],
   "source": [
    "# fusion des bases de données\n",
    "df_merge = df_usagers.merge(df_vehicules, on=[\"Num_Acc\",\"id_vehicule\",\"num_veh\"], how=\"inner\") \n",
    "df_merge = df_merge.merge(df_lieux, on=\"Num_Acc\", how=\"inner\")\n",
    "df_merge = df_merge.merge(df_caract, on=\"Num_Acc\", how=\"inner\")"
   ]
  },
  {
   "cell_type": "markdown",
   "metadata": {},
   "source": [
    "### 2)- Preprocessing"
   ]
  },
  {
   "cell_type": "markdown",
   "metadata": {},
   "source": [
    "Nous allons par la suite visualiser le pourcentage de valeurs manquantes de la base:"
   ]
  },
  {
   "cell_type": "code",
   "execution_count": null,
   "metadata": {},
   "outputs": [],
   "source": [
    "df_merge.isna().sum()[df_merge.isna().sum()!=0]/len(df_merge)*100"
   ]
  },
  {
   "cell_type": "markdown",
   "metadata": {},
   "source": [
    "Nous supprimons les variables qui ont trop de valeurs manquantes car elles n'apportent pas vraiment d'informations."
   ]
  },
  {
   "cell_type": "code",
   "execution_count": null,
   "metadata": {},
   "outputs": [],
   "source": [
    "df_merge.drop([\"occutc\",\"lartpc\",\"v2\"], axis=1, inplace=True)\n",
    "df_lieux.drop([\"lartpc\",\"v2\"], axis=1, inplace=True)\n",
    "df_vehicules.drop([\"occutc\"], axis=1, inplace=True)"
   ]
  },
  {
   "cell_type": "markdown",
   "metadata": {},
   "source": [
    "Nous supprimons aussi les variables d'identification de la base df_merge "
   ]
  },
  {
   "cell_type": "code",
   "execution_count": null,
   "metadata": {},
   "outputs": [],
   "source": [
    "var=[\"Num_Acc\",\"jour\",\"an\",\"com\",\"adr\",\"lat\",\"long\",\"voie\",\"v1\",\"v2\",\"id_vehicule\",\"num_veh\",\"id_usager\", \"dep\"]\n",
    "Num_acc=df_merge[\"Num_Acc\"]\n",
    "df_merge.drop(var, axis=1,inplace=True)\n",
    "# supprimer aussi dans les autres bases????"
   ]
  },
  {
   "cell_type": "markdown",
   "metadata": {},
   "source": [
    "Ensuite, nous déduisons de la variable \"an_nais\" (année de naissance), l'âge des individus. "
   ]
  },
  {
   "cell_type": "code",
   "execution_count": null,
   "metadata": {},
   "outputs": [],
   "source": []
  },
  {
   "cell_type": "markdown",
   "metadata": {},
   "source": [
    "Nous allons imputer les valeurs manquantes de l'âge par la médiane car elle est moins sensible aux valeurs abbérantes."
   ]
  },
  {
   "cell_type": "code",
   "execution_count": null,
   "metadata": {},
   "outputs": [],
   "source": [
    "df_merge[\"Age\"]=df_merge[\"Age\"].fillna(df_merge[\"Age\"].median())\n",
    "df_usagers[\"Age\"] = 2023-df_usagers[\"an_nais\"]\n",
    "df_usagers[\"Age\"]=df_usagers[\"Age\"].fillna(df_usagers[\"Age\"].median())"
   ]
  },
  {
   "cell_type": "code",
   "execution_count": null,
   "metadata": {},
   "outputs": [],
   "source": [
    "#recodage des variables trajet et actp de la base usager\n",
    "df_merge[\"trajet\"]=df_merge[\"trajet\"].replace(0, value=-1)\n",
    "df_merge[\"actp\"]=df_merge[\"actp\"].replace(0, value=-1)\n",
    "\n",
    "# variables de type object de la base\n",
    "df_merge.select_dtypes(\"object\").columns"
   ]
  },
  {
   "cell_type": "code",
   "execution_count": null,
   "metadata": {},
   "outputs": [],
   "source": [
    "# conversion des variables de type object en variables numériques\n",
    "def replace_pr(val):\n",
    "    if len(val.split())==1:\n",
    "        val=val\n",
    "    else:\n",
    "        if len(val.split())>1:\n",
    "            val=val.split()[1]\n",
    "        else:\n",
    "            val=\"-1\"\n",
    "    return val\n",
    "df_merge[\"pr\"]=df_merge[\"pr\"].apply(func=replace_pr)\n",
    "df_merge[\"pr\"]=df_merge[\"pr\"].astype(float)\n",
    "df_merge[\"pr1\"]=df_merge[\"pr1\"].apply(func=replace_pr)\n",
    "df_merge[\"pr1\"]=df_merge[\"pr1\"].astype(float)\n",
    "def rep_virgule(val):\n",
    "    val=val.replace(\",\",\".\")\n",
    "    return val\n",
    "df_merge[\"larrout\"]=df_merge[\"larrout\"].apply(rep_virgule)\n",
    "df_merge[\"larrout\"]=df_merge[\"larrout\"].astype(float)\n",
    "def heure(val):\n",
    "    val=val.split(\":\")[0]\n",
    "    return val\n",
    "df_merge[\"hrmn\"]=df_merge[\"hrmn\"].apply(func=heure)\n",
    "df_merge[\"hrmn\"]=df_merge[\"hrmn\"].astype(float)\n",
    "\n",
    "df_merge[\"nbv\"]=df_merge[\"nbv\"].str.strip()\n",
    "df_merge[\"nbv\"]=df_merge[\"nbv\"].replace(\"#VALEURMULTI\",\"-1\")\n",
    "df_merge[\"nbv\"]=df_merge[\"nbv\"].astype(float)\n",
    "\n",
    "df_merge[\"actp\"]=df_merge[\"actp\"].replace([\"A\",\"B\"],[\"10\",\"11\"])\n",
    "df_merge[\"actp\"]=df_merge[\"actp\"].astype(float)"
   ]
  },
  {
   "cell_type": "markdown",
   "metadata": {},
   "source": [
    "## **II- Analyses descriptives**"
   ]
  },
  {
   "cell_type": "markdown",
   "metadata": {},
   "source": [
    "Dans cette partie, nous ferrons essentiellement de l'analyse descriptive univariée et bivariée. De manière plus précise, il s'agira de visualiser la distribution des variables des différentes bases individuellement ou en croisant avec d'autres variables."
   ]
  },
  {
   "cell_type": "markdown",
   "metadata": {},
   "source": [
    "### 1- Description de la base usagers"
   ]
  },
  {
   "cell_type": "markdown",
   "metadata": {},
   "source": [
    "Selon le \"Guide BAAC 2017\" un usager est une personne physique impliquée dans un accident de la circulation en tant que conducteur/passager d'un véhicule ou piéton."
   ]
  },
  {
<<<<<<< HEAD
   "cell_type": "code",
   "execution_count": null,
=======
   "cell_type": "markdown",
>>>>>>> 317c5ae74c9613924bd6f0903bea45e50b59cb98
   "metadata": {},
   "source": [
<<<<<<< HEAD
    "#Mapping \n",
    "sexe_labels = {1: 'Masculin', 2: 'Féminin', -1: 'Autres'}\n",
    "catu_labels = {1: 'Conducteur', 2: 'Passager', 3: 'Piéton'}\n",
    "grav_labels = {1: 'Indemne', 2: 'Tué', 3: 'Blessé hospitalisé > 24h', 4: 'Blessé léger',-1: 'Non renseigné'}\n",
    "secu1_labels = {\n",
    "    -1: \"Non renseigné\",\n",
    "    0: \"Aucun équipement\",\n",
    "    1: \"Ceinture\",\n",
    "    2: \"Casque\",\n",
    "    3: \"Dispositif enfants\",\n",
    "    4: \"Gilet réfléchissant\",\n",
    "    5: \"Airbag (2RM/3RM)\",\n",
    "    6: \"Gants (2RM/3RM)\",\n",
    "    7: \"Gants + Airbag (2RM/3RM)\",\n",
    "    8: \"Non déterminable\",\n",
    "    9: \"Autre\"\n",
    "}\n",
    "\n",
    "secu2_labels = {\n",
    "    -1: \"Non renseigné\",\n",
    "    0: \"Aucun équipement\",\n",
    "    1: \"Ceinture\",\n",
    "    2: \"Casque\",\n",
    "    3: \"Dispositif enfants\",\n",
    "    4: \"Gilet réfléchissant\",\n",
    "    5: \"Airbag (2RM/3RM)\",\n",
    "    6: \"Gants (2RM/3RM)\",\n",
    "    7: \"Gants + Airbag (2RM/3RM)\",\n",
    "    8: \"Non déterminable\",\n",
    "    9: \"Autre\"\n",
    "}\n",
    "\n",
    "secu3_labels = {-1: \"Non renseigné\",0: \"Aucun équipement\",1: \"Ceinture\",2: \"Casque\",3: \"Dispositif enfants\",4: \"Gilet réfléchissant\",\n",
    "    5: \"Airbag (2RM/3RM)\",\n",
    "    6: \"Gants (2RM/3RM)\",\n",
    "    7: \"Gants + Airbag (2RM/3RM)\",\n",
    "    8: \"Non déterminable\",\n",
    "    9: \"Autre\"}\n",
    "locp_labels = {\n",
    "    -1: 'Non renseigné',\n",
    "    0: 'Sans objet',\n",
    "    1: 'A + de 50 m du passage piéton',\n",
    "    2: 'A - de 50 m du passage piéton',\n",
    "    3: 'Sans signalisation lumineuse',\n",
    "    4: 'Avec signalisation lumineuse',\n",
    "    5: 'Trottoir',\n",
    "    6: 'Sur accotement',\n",
    "    7: 'Sur refuge ou BAU',\n",
    "    8: 'Sur contre-allée',\n",
    "    9: 'Inconnue'\n",
    "}                                                                                                                                  \n",
    "actp_labels = {\n",
    "    ' -1': 'Non renseigné',\n",
    "    '0': 'Sans objet',\n",
    "    '1': 'Sens du véhicule heurtant',\n",
    "    '2': 'Sens inverse du véhicule heurtant',\n",
    "    '3': 'Traversant',\n",
    "    '4': 'Masqué',\n",
    "    '5': 'Jouant-courant',\n",
    "    '6': 'Avec animal',\n",
    "    '7': 'Quitte l arrêt du TC',\n",
    "    '8': 'Accède à l arrêt du TC',\n",
    "    '9': 'Autre',\n",
    "    'A': 'Monte ou descend de son véhicule', \n",
    "    'B': 'Inconnu'  \n",
    "}\n",
    "\n",
    "etatp_labels = {\n",
    "    -1:'Non renseigné',\n",
    "    0: 'Sans objet',\n",
    "    1: 'Seul',\n",
    "    2: 'Accompagé',\n",
    "    3: 'En groupe'\n",
    "}\n",
    "trajet_labels = {\n",
    "    -1:'Non renseigné',\n",
    "    0: 'Non renseigné',\n",
    "    1: 'Domicile-travail',\n",
    "    2: 'Domicile-école',\n",
    "    3: 'Courses-achats',\n",
    "    4: 'Utilisation professionnelle',\n",
    "    5: 'Promenade-loisirs',\n",
    "    9: 'Autre'\n",
    "}\n"
   ]
  },
  {
   "cell_type": "code",
   "execution_count": null,
   "metadata": {},
   "outputs": [],
   "source": [
    "missing_percentage = (df_usagers.isnull().sum() / len(df_usagers)) * 100\n",
    "print(\"Pourcentage de valeurs manquantes par variable :\")\n",
    "print(missing_percentage)"
   ]
  },
  {
   "cell_type": "code",
   "execution_count": null,
   "metadata": {},
   "outputs": [],
   "source": [
    "def mapping_apply(data,mapping_dict):\n",
    "    for column, mapping in mapping_dict.items():\n",
    "        if column in data.columns: \n",
    "            data[column] = data[column].map(mapping)"
   ]
  },
  {
   "cell_type": "code",
   "execution_count": null,
   "metadata": {},
   "outputs": [],
   "source": [
    "mapping_dict1 = {\n",
    "    \"sexe\": sexe_labels,\n",
    "    \"catu\": catu_labels,\n",
    "    \"grav\": grav_labels,\n",
    "    \"trajet\": trajet_labels,\n",
    "    \"secu1\": secu1_labels,\n",
    "    \"secu2\": secu2_labels,\n",
    "    \"secu3\": secu3_labels,\n",
    "    \"locp\": locp_labels,\n",
    "    \"actp\": actp_labels,\n",
    "    \"etatp\": etatp_labels}\n",
    "mapping_apply(df_usagers,mapping_dict1)"
=======
    "La base usagers est constituée des variables d'identification des usagers, et principalement de variables catégorielles qui caractérisent les usagers impliqués dans les accidents. "
>>>>>>> 317c5ae74c9613924bd6f0903bea45e50b59cb98
   ]
  },
  {
   "cell_type": "code",
   "execution_count": null,
   "metadata": {},
   "outputs": [],
   "source": [
    "df_usagers.info()"
   ]
  },
  {
   "cell_type": "markdown",
   "metadata": {},
   "source": [
    "Déterminons les variables qui ont des valeurs manquantes:"
   ]
  },
  {
   "cell_type": "code",
   "execution_count": null,
   "metadata": {},
   "outputs": [],
   "source": [
    "# analyser les valeurs manquantes\n",
    "df_usagers.isnull().sum()[df_usagers.isnull().sum()!=0]/len(df_usagers)*100"
   ]
  },
  {
   "cell_type": "markdown",
   "metadata": {},
   "source": [
    "Seul la variable qui donne l'année de naissance des usagers contient des valeurs manquantes. Nous allons utiliser cette variable pour calculer l'âge de ces usagers en 2023."
   ]
  },
  {
   "cell_type": "code",
   "execution_count": null,
   "metadata": {},
   "outputs": [],
   "source": [
    "df_usagers[\"Age\"] = 2023-df_usagers[\"an_nais\"]\n",
    "sns.boxplot(data=df_usagers, x=df_usagers['Age'])"
   ]
  },
  {
   "cell_type": "markdown",
   "metadata": {},
   "source": [
    "Nous allons imputer les valeurs manquantes de la variable \"Age\" par la médiane car elle est moins sensible aux valeurs abbérantes."
   ]
  },
  {
   "cell_type": "code",
   "execution_count": null,
   "metadata": {},
   "outputs": [],
   "source": [
    "df_usagers[\"Age\"]=df_usagers[\"Age\"].fillna(df_usagers[\"Age\"].median())"
   ]
  },
  {
   "cell_type": "code",
   "execution_count": null,
   "metadata": {},
   "outputs": [],
   "source": [
    "#Par la suite, la variable \"actp\" qui donne l'action du piéton apparait comme une variable object alors que c'est une variable catégorielle numérique à cause de la présence de chaine de caractère.\n",
    "#Nous allons corriger cela et la rendre numérique."
   ]
  },
  {
   "cell_type": "code",
   "execution_count": null,
   "metadata": {},
   "outputs": [],
   "source": [
    "#df_usagers[\"actp\"]=df_usagers[\"actp\"].replace(0, value=-1)\n",
    "#df_usagers[\"actp\"]=df_usagers[\"actp\"].replace([\"A\",\"B\"],[\"10\",\"11\"])\n",
    "#df_usagers[\"actp\"]=df_usagers[\"actp\"].astype(float)"
   ]
  },
  {
   "cell_type": "code",
   "execution_count": null,
   "metadata": {},
   "outputs": [],
   "source": [
    "#Appliquer d'abord les mapping ensuite mettre tous les titres dans la fonction. Afficher toutes les variables avant d'étudier en profondeur pour chaque cas. \n",
    "\n",
    "\n",
    "def plot_all_distributions1(df, columns):\n",
    "    \"\"\"\n",
    "    Représente les distributions des variables catégorielles dans un seul cadran avec des sous-graphiques.\n",
    "    \n",
    "    Paramètres:\n",
    "    df : DataFrame pandas contenant les données\n",
    "    columns : Liste des colonnes catégorielles à représenter\n",
    "    \"\"\"\n",
    "    # Dictionnaire pour mapper les variables aux titres\n",
    "    column_titles = {\n",
    "        \"senc\": \"Sens de circulation\",\n",
    "        \"obs\": \"Obstacles fixes heurtés\",\n",
    "        \"obsm\": \"Obstacle mobile heurté\",\n",
    "        \"choc\": \"Point de choc initial\",\n",
    "        \"manv\": \"Manœuvre principale avant accident\",\n",
    "        \"motor\": \"Type de motorisation du véhicule\"\n",
    "    }\n",
    "    \n",
    "    # Définir le nombre de lignes et de colonnes pour les subplots\n",
    "    n_cols = 2  # Nombre de colonnes par ligne pour agrandir les graphiques\n",
    "    n_rows = (len(columns) + n_cols - 1) // n_cols  # Nombre total de lignes (arrondi vers le haut)\n",
    "    \n",
    "    # Initialiser la figure avec une taille plus grande\n",
    "    fig, axes = plt.subplots(n_rows, n_cols, figsize=(20, 6 * n_rows))\n",
    "    axes = axes.flatten()  # Aplatir le tableau des axes pour un accès facile\n",
    "    \n",
    "    # Parcourir les colonnes pour créer chaque graphique\n",
    "    for i, column in enumerate(columns):\n",
    "        sns.countplot(data=df, x=column, palette='viridis', ax=axes[i])\n",
    "        title = column_titles.get(column, column)  # Récupérer le titre ou le nom de la colonne par défaut\n",
    "        axes[i].set_title(f\"Distribution de '{title}'\", fontsize=14)\n",
    "        axes[i].set_xlabel(title, fontsize=12)\n",
    "        axes[i].set_ylabel(\"Fréquence\", fontsize=12)\n",
    "        axes[i].tick_params(axis='x', rotation=45)\n",
    "        \n",
    "        # Ajouter les valeurs au-dessus des barres\n",
    "        for p in axes[i].patches:\n",
    "            axes[i].annotate(f'{int(p.get_height())}',\n",
    "                             (p.get_x() + p.get_width() / 2., p.get_height()),\n",
    "                             ha='center', va='center',\n",
    "                             fontsize=10, color='black',\n",
    "                             xytext=(0, 5), textcoords='offset points')\n",
    "        \n",
    "    # Supprimer les axes vides si le nombre de graphiques est inférieur aux subplots\n",
    "    for j in range(i + 1, len(axes)):\n",
    "        fig.delaxes(axes[j])\n",
    "        \n",
    "    plt.tight_layout()\n",
    "    plt.show()"
   ]
  },
  {
<<<<<<< HEAD
   "cell_type": "code",
   "execution_count": null,
   "metadata": {},
   "outputs": [],
   "source": [
    "columns1 =[\"catu\",\"grav\",\"trajet\",\"sexe\"]\n",
    "columns2 =[\"secu1\",\"secu2\",\"secu3\"]\n",
    "columns3 =[\"locp\",\"actp\",\"etatp\"]"
   ]
  },
  {
   "cell_type": "code",
   "execution_count": null,
   "metadata": {},
   "outputs": [],
   "source": [
    "plot_all_distributions1(df_usagers, columns1)"
   ]
  },
  {
   "cell_type": "markdown",
   "metadata": {},
   "source": [
    "#### Catégorie d'usagers (catu) : Identification des catégories les plus exposées (conducteurs, passagers, piétons).\n",
    "On observe que la majorité des personnes impliquées dans des accidents sont des conducteurs(soit 93462 usagers), ensuite vient les passagers (22806 usagers) et enfin les piétons (9521 usagers).\n",
    "\n",
    "#### Répartition selon la gravité (grav) : Observation de la distribution des niveaux de gravité des accidents.\n",
    "Les résultats montrent que la majorité des usagers impliqués dans les accidents (53339) sont indemnes, ce qui indique que les accidents sont souvent de faible gravité. Aussi, un nombre importante (49603) ont entrainé des blessures légères. \n",
    "Il en ressort également un résultats alarmant selon lequel 19271 des cas d'accidents ont entrainé des blessures graves et nécessitent\n",
    "une hospitalisation de plus de 24 heures et 3398 accidents ont entrainé la mort des usagers\n",
    "\n",
    "#### Analyse des trajets\n",
    "Les statistiques montrent que les promenades-loisirs dominent les motifs de déplacement des usagers impliqués dans des accidents avec une fréquence de 46131, suivies des trajets non renseignés (33303).\n",
    "Les trajets domicile-travail (16475) et utilisation professionnelle (11003) révèlent l'importance des déplacements liés à l'activité professionnelle, totalisant une fréquence de 27478, et pointent des enjeux spécifiques comme les risques associés aux heures de pointe, au stress, et à la fatigue. Les trajets domicile-école (2986) et les déplacements pour courses-achats (3598) sont les moins employés.\n",
    "\n",
    "#### Sexe\n",
    "La majorité des usagers impliqués dans les accidents sont de sexe masculin, représentant 66,8% du total. Cela suggère que, dans cette population, les hommes sont nettement plus nombreux que les femmes à être impliqués dans des accidents.Les femmes représentent 31,3% des usagers impliqués et la catégorie \"autres\" représente 1,9% des cas, ce qui pourrait inclure des personnes dont le sexe n'est pas précisé ou qui ne s'identifient pas selon les catégories traditionnelles de sexe. Cette proportion est relativement faible, mais elle mérite d'être mentionnée."
   ]
  },
  {
   "cell_type": "code",
   "execution_count": null,
   "metadata": {},
   "outputs": [],
   "source": [
    "plot_all_distributions1(df_usagers, columns2)"
   ]
  },
  {
   "cell_type": "markdown",
   "metadata": {},
   "source": [
    "#### Répartition des dispositifs de sécurité (Secu1 et Secu2)\n",
    "\n",
    "En examinant la répartition des dispositifs de sécurité secu1, on constate que la ceinture \n",
    "de sécurité est l'équipement le plus fréquemment utilisé, avec 72988 des usagers tandis que les dispositifs pour enfants représentent \n",
    "une part marginale, à 726 utilisations.\n",
    "\n",
    "Pour secu2, une majorité (44637 utilisations) des usagers impliqués dans les accidents ne portaient aucun équipement. Parmi ceux qui portaient des équipements, les gants (2/3 RM) sont les plus courants (11892 utilisations), suivis des gilets réfléchissants (1525) et des airbags personnels (2/3 RM) (1154). Les autres équipements et les combinaisons airbag personnel + gants (2/3 RM) sont les moins utilisés (467 et 141 utilisations respectivement).\n",
    "\n",
    "secu3 ne sera pas analysé car pratiquement toutes les observations sont non renseignées."
   ]
  },
  {
=======
>>>>>>> 317c5ae74c9613924bd6f0903bea45e50b59cb98
   "cell_type": "markdown",
   "metadata": {},
   "source": [
    "Répartition par sexe : Proportion d'hommes et de femmes impliqués dans les accidents.\n",
    "Selon \"Guide BAAC 2017\" 1 = Masculin, 2 = Feminin"
   ]
  },
  {
   "cell_type": "code",
   "execution_count": null,
   "metadata": {},
   "outputs": [],
   "source": [
    "df_usagers['sexe_label'] = df_usagers['sexe'].replace({\n",
    "    1: 'Masculin: 1', \n",
    "    2: '2 Féminin: 2', \n",
    "    -1: 'Autres: -1'\n",
    "})\n",
    "\n",
<<<<<<< HEAD
    "#### Action du piéton (actp_label) :\n",
    "La majorité des piétons (Supérieur 80 % des piétons) sont dans une situation où l'action est considérée comme \"sans objet\" ou \"non renseigné\". Parmi les actions renseignées,les actions les plus fréquentes sont les piétons traversant (11,9 %) ou des actions considérées comme \"autres\" (1,1 %). Les cas où le piéton est heurté dans le sens du véhicule sont relativement moins fréquents (1 %), tout comme les situations où il se trouve dans le sens inverse du véhicule heurtant (0,5 %). D'autres actions comme \"jouant-courant\", \"avec animal\" ou \"masqué\" sont très peu fréquentes, avec des proportions inférieures à 1 %, et les cas où le piéton monte ou descend de son véhicule ou accède à un arrêt de transport en commun sont rares (moins de 0,2 %). Cela pourrait envisager des mesures de sensibilisation concernant le code de la route. \n",
=======
    "# Compter la répartition des sexes après remplacement\n",
    "sexe_counts = df_usagers['sexe_label'].value_counts()\n",
>>>>>>> 317c5ae74c9613924bd6f0903bea45e50b59cb98
    "\n",
    "colors = ['#66b3ff', '#ff99cc', '#ffcc99']  # Masculin, Féminin, Autres\n",
    "\n",
    "# Tracer un diagramme circulaire\n",
    "plt.figure(figsize=(7, 7))\n",
    "plt.pie(sexe_counts, labels=sexe_counts.index, autopct='%1.1f%%', startangle=90, colors=colors)\n",
    "plt.title(\"Répartition des sexes parmi les usagers impliqués dans les accidents\")\n",
    "plt.axis('equal') \n",
    "plt.show()\n",
    "#La majorité des usagers impliqués dans les accidents sont de sexe masculin, représentant 66,8% du total. \n",
    "# Cela suggère que, dans cette population, les hommes sont nettement plus nombreux que les femmes à être impliqués dans des accidents.\n",
    "# Les femmes représentent 31,3% des usagers impliqués et la catégorie \"autres\" représente 1,9% des cas, ce qui pourrait inclure des \n",
    "# personnes dont le sexe n'est pas précisé ou qui ne s'identifient pas selon les catégories traditionnelles de sexe. \n",
    "# Cette proportion est relativement faible, mais elle mérite d'être mentionnée."
   ]
  },
  {
   "cell_type": "markdown",
   "metadata": {},
   "source": [
    "Repartition selon l'âge"
   ]
  },
  {
   "cell_type": "code",
   "execution_count": null,
   "metadata": {},
   "outputs": [],
   "source": [
    "df_usagers['age'] = 2023 - df_usagers['an_nais']\n",
    "# Calcul des statistiques descriptives\n",
    "age_stats = df_usagers['age'].describe()\n",
    "\n",
    "age_summary = pd.DataFrame({\n",
    "    'Statistique': ['Nombre', 'Moyenne', 'Écart-type', 'Min', '25%', '50% (médiane)', '75%', 'Max'],\n",
    "    'Valeur': [\n",
    "        int(age_stats['count']),\n",
    "        round(age_stats['mean'], 2),\n",
    "        round(age_stats['std'], 2),\n",
    "        int(age_stats['min']),\n",
    "        int(age_stats['25%']),\n",
    "        int(age_stats['50%']),\n",
    "        int(age_stats['75%']),\n",
    "        int(age_stats['max']),\n",
    "    ]\n",
    "})\n",
    "print(tabulate(age_summary, headers='keys', tablefmt='fancy_grid', showindex=False))\n",
    "\n",
    "# Groupement des âges par tranche de 10 ans\n",
    "age_bins = pd.cut(df_usagers['age'], bins=range(0, 121, 10), right=False)\n",
    "age_distribution = age_bins.value_counts().sort_index()\n",
    "\n",
    "distribution_summary = pd.DataFrame({\n",
    "    'Tranche d\\'âge': [f\"[{int(interval.left)}-{int(interval.right - 1)}]\" for interval in age_distribution.index],\n",
    "    'Nombre d\\'usagers': age_distribution.values,\n",
    "    'Proportion (%)': (age_distribution.values / len(df_usagers) * 100).round(2)\n",
    "})\n",
    "\n",
    "print(tabulate(distribution_summary, headers='keys', tablefmt='fancy_grid', showindex=False))\n",
    "\n",
    "# Histogramme\n",
    "plt.figure(figsize=(10, 6))\n",
    "n, bins, patches = plt.hist(df_usagers['age'], bins=20, color='skyblue', edgecolor='black', alpha=0.7)\n",
    "\n",
    "# Ajouter les chiffres au-dessus de chaque barre\n",
    "for i in range(len(patches)):\n",
    "    plt.text(patches[i].get_x() + patches[i].get_width() / 2,  # Position X au centre de la barre\n",
    "             patches[i].get_height(),  # Position Y à la hauteur de la barre\n",
    "             f'{int(n[i])}',  # Afficher le nombre d'usagers\n",
    "             ha='center', va='bottom', fontsize=10, color='black')\n",
    "\n",
    "plt.title('Distribution des âges des usagers', fontsize=14)\n",
    "plt.xlabel('Âge', fontsize=12)\n",
    "plt.ylabel('Nombre d\\'usagers', fontsize=12)\n",
    "\n",
    "# Grille et ajustement\n",
    "plt.grid(axis='y', linestyle='--', alpha=0.7)\n",
    "plt.tight_layout()\n",
    "\n",
    "plt.show()\n",
    "\n",
    "\n",
    "#La population analysée, composée de 123 191 usagers, présente un âge moyen de 38,75 ans, avec une dispersion modérée (écart-type de 19,1 ans) \n",
    "# et une médiane de 35 ans, indiquant que la moitié des individus a cet âge ou moins. La majorité des usagers se situe entre 23 ans (1er quartile) \n",
    "# et 52 ans (3e quartile), avec des âges extrêmes allant de 0 à 110 ans, bien que ces valeurs puissent inclure des erreurs ou des cas particuliers.\n",
    "#  La distribution par tranche d'âge révèle une forte proportion de jeunes (11,2 % entre 10 et 19 ans) et une concentration probable dans les tranches d'âge actif (20-49 ans),\n",
    "#  tandis que les individus très âgés (100 ans et plus) restent marginaux (0,01 %). Cette structure reflète une population principalement jeune et adulte."
   ]
  },
  {
   "cell_type": "markdown",
   "metadata": {},
   "source": [
    "Catégorie d'usagers (catu) : Identification des catégories les plus exposées (conducteurs, passagers, piétons)."
   ]
  },
  {
   "cell_type": "code",
   "execution_count": null,
   "metadata": {},
   "outputs": [],
   "source": [
    "catu_counts = df_usagers['catu'].value_counts()\n",
    "catu_proportions = df_usagers['catu'].value_counts(normalize=True)\n",
    "\n",
    "catu_labels = {1: 'Conducteur', 2: 'Passager', 3: 'Piéton'}\n",
    "catu_counts = catu_counts.rename(index=catu_labels)\n",
    "catu_proportions = catu_proportions.rename(index=catu_labels)\n",
    "\n",
    "catu_summary = pd.DataFrame({'Fréquence': catu_counts,'Proportion': catu_proportions})\n",
    "catu_summary['Proportion (%)'] = catu_summary['Proportion'] * 100\n",
    "catu_summary = catu_summary.rename(columns={'Fréquence': 'Nombre d\\'observations'})\n",
    "\n",
    "# Visualisation\n",
    "total_count = catu_counts.sum()\n",
    "catu_percentage = (catu_counts / total_count) * 100  \n",
    "\n",
    "plt.figure(figsize=(10, 7))\n",
    "sns.barplot(x=catu_counts.index,y=catu_percentage.values,palette=\"viridis\")\n",
    "\n",
    "plt.title(\"Distribution des catégories d'usagers\", fontsize=18, weight='bold', color='navy')\n",
    "plt.xlabel(\"Rôle des usagers\", fontsize=14, weight='bold')\n",
    "plt.ylabel(\"Pourcentage d'usagers\", fontsize=14, weight='bold')\n",
    "plt.xticks(rotation=30, fontsize=12)\n",
    "# Ajouter les valeurs en pourcentages au-dessus des barres\n",
    "for i, value in enumerate(catu_percentage.values):\n",
    "    plt.text(i, value + 0.5, f\"{value:.2f}%\", ha='center', fontsize=12, color='black', weight='bold')\n",
    "# Ajustement des marges pour éviter le chevauchement\n",
    "plt.tight_layout()\n",
    "\n",
    "plt.show()\n",
    "\n",
    "\n",
    "# On observe que la majorité des personnes impliquées dans des accidents sont des conducteurs(soit 74,3% des usagers), \n",
    "# ensuite vient les passagers (18,1%) et enfin les piétons (7.6%). "
   ]
  },
  {
   "cell_type": "markdown",
   "metadata": {},
   "source": [
    "Répartition selon la gravité (grav) : Observation de la distribution des niveaux de gravité des accidents."
   ]
  },
  {
   "cell_type": "code",
   "execution_count": null,
   "metadata": {},
   "outputs": [],
   "source": [
    "# Statistiques descriptives \n",
    "grav_stats = df_usagers['grav'].value_counts()\n",
    "grav_percentage = df_usagers['grav'].value_counts(normalize=True)\n",
    "\n",
    "grav_labels = {1: 'Indemne', 2: 'Tué', 3: 'Blessé hospitalisé > 24h', 4: 'Blessé léger'}\n",
    "\n",
    "colors = {\n",
    "    1: 'green',        # Indemne\n",
    "    2: 'red',          # Tué\n",
    "    3: 'orange',       # Blessé hospitalisé > 24h\n",
    "    4: 'yellow'        # Blessé léger\n",
    "}\n",
    "\n",
    "# Génération des couleurs pour les barres\n",
    "bar_colors = [colors.get(i, 'gray') for i in grav_stats.index]\n",
    "\n",
    "# Création du graphique\n",
    "plt.figure(figsize=(8, 6))\n",
    "plt.bar(grav_stats.index, grav_stats.values, color=bar_colors)\n",
    "\n",
    "# Ajout des titres et des étiquettes\n",
    "plt.title('Répartition des niveaux de gravité des accidents', fontsize=14)\n",
    "plt.xlabel('Niveau de gravité', fontsize=12)\n",
    "plt.ylabel('Nombre d\\'accidents', fontsize=12)\n",
    "plt.xticks(grav_stats.index, [grav_labels.get(i, f\"Gravité {i}\") for i in grav_stats.index], rotation=45)\n",
    "\n",
    "# Ajout d'une légende\n",
    "custom_legend = [plt.Line2D([0], [0], color=color, lw=4) for color in colors.values()]\n",
    "plt.legend(custom_legend, [grav_labels[i] for i in colors.keys()], title=\"Gravité\", fontsize=10)\n",
    "\n",
    "plt.tight_layout()\n",
    "plt.show()\n",
    "\n",
    "#Les résultats montrent que la majorité des usagers impliqués dans les accidents (50919) sont indemnes, ce qui indique que \n",
    "# les accidents sont souvent de faible gravité. Aussi, un nombre importante (49603) ont entrainé des blessures légères. \n",
    "# Il en ressort également un résultats alarmant selon lequel 19271 des cas d'accidents ont entrainé des blessures graves et nécessitent\n",
    "# une hospitalisation de plus de 24 heures et 3398 accidents ont entrainé la mort des usagers.  "
   ]
  },
  {
   "cell_type": "markdown",
   "metadata": {},
   "source": [
    "Analyse de la gravité en fonction du sexe ou de la catégorie d'usager."
   ]
  },
  {
   "cell_type": "code",
   "execution_count": null,
   "metadata": {},
   "outputs": [],
   "source": [
    "# Dictionnaires pour les libellés\n",
    "sexe_labels = {1: 'Masculin', 2: 'Féminin', -1: 'Autre'}\n",
    "catu_labels = {1: 'Conducteur', 2: 'Passager', 3: 'Piéton'}\n",
    "grav_labels = {1: 'Indemne', 2: 'Tué', 3: 'Blessé hospitalisé > 24h', 4: 'Blessé léger'}\n",
    "\n",
    "# 1. Répartition de la gravité selon le sexe (en pourcentage)\n",
    "grav_sexe = pd.crosstab(df_usagers['grav'], df_usagers['sexe'], normalize='columns') * 100\n",
    "grav_sexe = grav_sexe.rename(index=grav_labels, columns=sexe_labels)\n",
    "\n",
    "# Visualisation de la gravité en fonction du sexe\n",
    "plt.figure(figsize=(10, 6))\n",
    "grav_sexe.index = [grav_labels.get(i, str(i)) for i in grav_sexe.index]  # Remplacer les indices par les libellés\n",
    "grav_sexe.plot(kind='bar', stacked=True, figsize=(10, 6), color=['skyblue', 'orange', 'red', 'green'])\n",
    "plt.title('Répartition de la gravité selon le sexe', fontsize=14)\n",
    "plt.xlabel('Niveau de gravité', fontsize=12)\n",
    "plt.ylabel('Pourcentage (%)', fontsize=12)\n",
    "plt.legend(title='Sexe', labels=[sexe_labels.get(x, str(x)) for x in grav_sexe.columns])\n",
    "plt.xticks(rotation=0)\n",
    "plt.tight_layout()\n",
    "plt.show()\n",
    "\n",
    "# 2. Répartition de la gravité selon la catégorie d’usager (en pourcentage)\n",
    "grav_usager = pd.crosstab(df_usagers['grav'], df_usagers['catu'], normalize='columns') * 100\n",
    "grav_usager = grav_usager.rename(index=grav_labels, columns=catu_labels)\n",
    "\n",
    "# Visualisation de la gravité en fonction de la catégorie d’usager\n",
    "plt.figure(figsize=(12, 8))\n",
    "grav_usager.index = [grav_labels.get(i, str(i)) for i in grav_usager.index]  # Remplacer les indices par les libellés\n",
    "grav_usager.plot(kind='bar', stacked=True, figsize=(12, 8), colormap='viridis')\n",
    "plt.title('Répartition de la gravité selon la catégorie d\\'usager', fontsize=14)\n",
    "plt.xlabel('Niveau de gravité', fontsize=12)\n",
    "plt.ylabel('Pourcentage (%)', fontsize=12)\n",
    "plt.legend(title='Catégorie d\\'usager', labels=[catu_labels.get(x, str(x)) for x in grav_usager.columns])\n",
    "plt.xticks(rotation=0)\n",
    "plt.tight_layout()\n",
    "plt.show()\n",
    " \n",
    "#La répartition de la gravité selon le sexe met en évidence une surreprésentation des hommes par rapport aux femmes dans la plupart des catégories de gravité.\n",
    "#  Cependant La catégorie de sexe \"Autre\" représente la majorité des personnes indemnes.\n",
    "#  Les femmes, bien qu’impliquées dans les accidents, présentent des proportions plus faibles dans la plupart des catégories de gravité sauf les bléssés légers. \n",
    "# Cette différence dans la répartition pourrait être liée à des variations dans les types d'usagers ou les comportements sur la route selon le sexe.\n",
    "\n",
    "#Le tableau présente la répartition des accidents par gravité selon la catégorie d'usager (conducteur, passager, piéton). \n",
    "# Il montre que les conducteurs et passagers sont principalement indemnes ou légèrement blessés, avec respectivement 47,48 % \n",
    "# et 38,27 % des conducteurs indemnes. En revanche, les piétons sont plus gravement touchés, avec 64,57 % d'entre eux blessés \n",
    "# légèrement et un taux élevé de blessés hospitalisés (27,27 %). Les conducteurs et passagers ont un pourcentage relativement \n",
    "# faible de décès (2,61 % et 2,12 %, respectivement), tandis que les piétons représentent 4,98 %. Cette répartition souligne \n",
    "# la vulnérabilité des piétons dans les accidents, étant plus susceptibles d'être gravement blessés ou tués, tandis que les \n",
    "# conducteurs et passagers sont plus souvent indemnes ou légèrement blessés."
   ]
  },
  {
   "cell_type": "markdown",
   "metadata": {},
   "source": [
    "analyse des équipements de sécurité (secu1, secu2)"
   ]
  },
  {
   "cell_type": "code",
   "execution_count": null,
   "metadata": {},
   "outputs": [],
   "source": [
    "secu1_labels = {\n",
    "    1: 'Ceinture',\n",
    "    2: 'Casque',\n",
    "    3: 'Dispositif enfants',\n",
    "    8: 'Non déterminable'\n",
    "}\n",
    "\n",
    "secu2_labels = {\n",
    "    0: 'Aucun équipement',\n",
    "    4: 'Gilet réfléchissant',\n",
    "    5: 'Airbag personnel (2/3 RM)',\n",
    "    6: 'Gants (2/3 RM)',\n",
    "    7: 'Airbag personnel + Gants (2/3 RM)',\n",
    "    9: 'Autres équipements'\n",
    "}\n",
    "secu3_labels = {\n",
    "    -1: \"Non renseigné\",\n",
    "    0: \"Aucun équipement\",\n",
    "    1: \"Ceinture\",\n",
    "    2: \"Casque\",\n",
    "    3: \"Dispositif enfants\",\n",
    "    4: \"Gilet réfléchissant\",\n",
    "    5: \"Airbag (2RM/3RM)\",\n",
    "    6: \"Gants (2RM/3RM)\",\n",
    "    7: \"Gants + Airbag (2RM/3RM)\",\n",
    "    8: \"Non déterminable\",\n",
    "    9: \"Autre\"\n",
    "}\n",
    "# Mapping des libellés sur le DataFrame\n",
    "df_usagers['secu1_label'] = df_usagers['secu1'].map(secu1_labels)\n",
    "df_usagers['secu2_label'] = df_usagers['secu2'].map(secu2_labels)\n",
    "df_usagers['secu3_label'] = df_usagers['secu3'].map(secu2_labels)\n",
    "\n",
    "# Création d'un widget pour sélectionner la variable\n",
    "dropdown = widgets.Dropdown(\n",
    "    options=['secu1_label', 'secu2_label', 'secu3_label'],\n",
    "    value='secu1_label',\n",
    "    description='Variable:',\n",
    "    disabled=False\n",
    ")\n",
    "\n",
    "# Fonction pour afficher le graphique\n",
    "def plot_security_distribution(variable):\n",
    "    plt.figure(figsize=(10, 6))\n",
    "    \n",
    "    # Calcul des valeurs et des pourcentages\n",
    "    value_counts = df_usagers[variable].value_counts(normalize=True) * 100\n",
    "    labels = value_counts.index\n",
    "    values = value_counts.values\n",
    "    \n",
    "    # Création du barplot\n",
    "    sns.barplot(\n",
    "        x=labels,\n",
    "        y=values,\n",
    "        palette='viridis'\n",
    "    )\n",
    "    \n",
    "    # Ajout des pourcentages sur les barres\n",
    "    for i, value in enumerate(values):\n",
    "        plt.text(i, value + 1, f'{value:.2f}%', ha='center', fontsize=12, color='black', weight='bold')\n",
    "    \n",
    "    # Titre et labels\n",
    "    plt.title(f'Distribution des équipements de sécurité - {variable}', fontsize=16)\n",
    "    plt.xlabel('Dispositif de sécurité', fontsize=14)\n",
    "    plt.ylabel('Pourcentage d\\'utilisation (%)', fontsize=14)\n",
    "    plt.xticks(rotation=45)\n",
    "    plt.tight_layout()\n",
    "    \n",
    "    # Affichage du graphique\n",
    "    plt.show()\n",
    "\n",
    "\n",
    "# Interactivité : afficher le graphique en fonction de la sélection\n",
    "widgets.interactive(plot_security_distribution, variable=dropdown)"
   ]
  },
  {
   "cell_type": "code",
   "execution_count": null,
   "metadata": {},
   "outputs": [],
   "source": [
    "secu1_labels = {\n",
    "    1: 'Ceinture',\n",
    "    2: 'Casque',\n",
    "    3: 'Dispositif enfants',\n",
    "    8: 'Non déterminable'\n",
    "}\n",
    "\n",
    "secu2_labels = {\n",
    "    0: 'Aucun équipement',\n",
    "    4: 'Gilet réfléchissant',\n",
    "    5: 'Airbag personnel (2/3 RM)',\n",
    "    6: 'Gants (2/3 RM)',\n",
    "    7: 'Airbag personnel + Gants (2/3 RM)',\n",
    "    9: 'Autres équipements'\n",
    "}\n",
    "secu3_labels = {\n",
    "    -1: \"Non renseigné\",\n",
    "    0: \"Aucun équipement\",\n",
    "    1: \"Ceinture\",\n",
    "    2: \"Casque\",\n",
    "    3: \"Dispositif enfants\",\n",
    "    4: \"Gilet réfléchissant\",\n",
    "    5: \"Airbag (2RM/3RM)\",\n",
    "    6: \"Gants (2RM/3RM)\",\n",
    "    7: \"Gants + Airbag (2RM/3RM)\",\n",
    "    8: \"Non déterminable\",\n",
    "    9: \"Autre\"\n",
    "}\n",
    "\n",
    "# Mapping des libellés sur le DataFrame\n",
    "df_usagers['secu1_label'] = df_usagers['secu1'].map(secu1_labels)\n",
    "df_usagers['secu2_label'] = df_usagers['secu2'].map(secu2_labels)\n",
    "df_usagers['secu3_label'] = df_usagers['secu3'].map(secu2_labels)\n",
    "\n",
    "df_usagers['accident_grave'] = df_usagers['grav'].apply(lambda x: 1 if x in [1, 4] else 0)\n",
    "\n",
    "# 1. Étude de l'utilisation des dispositifs de sécurité\n",
    "secu1_usage = df_usagers['secu1_label'].value_counts(normalize=True) * 100\n",
    "secu2_usage = df_usagers['secu2_label'].value_counts(normalize=True) * 100\n",
    "secu3_usage = df_usagers['secu3_label'].value_counts(normalize=True) * 100\n",
    "#print(\"\\nRépartition des dispositifs de sécurité (secu1) :\")\n",
    "#print(tabulate(secu1_usage.reset_index(), headers=[\"Dispositif de sécurité\", \"Pourcentage (%)\"], tablefmt=\"pretty\", floatfmt=\".2f\"))\n",
    "\n",
    "# Visualisation de l'utilisation des dispositifs de sécurité (secu1)\n",
    "plt.figure(figsize=(10, 6))\n",
    "secu1_usage.plot(kind='bar', color=sns.color_palette(\"Blues_r\", len(secu1_usage)), edgecolor='black', width=0.7)\n",
    "\n",
    "plt.title('Utilisation des dispositifs de sécurité (Secu1)', fontsize=16, weight='bold', color='navy')\n",
    "plt.xlabel('Dispositif de sécurité', fontsize=14, weight='bold', color='darkblue')\n",
    "plt.ylabel('Pourcentage (%)', fontsize=14, weight='bold', color='darkblue')\n",
    "\n",
    "# Ajouter les pourcentages au-dessus des barres\n",
    "for i, value in enumerate(secu1_usage):\n",
    "    plt.text(i, value + 1, f\"{value:.2f}%\", ha='center', fontsize=12, color='black', weight='bold')\n",
    "\n",
    "plt.xticks(rotation=45, ha='right', fontsize=12)\n",
    "plt.yticks(fontsize=12)\n",
    "plt.tight_layout()\n",
    "plt.show()\n",
    "\n",
    "print(\"\\nRépartition des équipements de sécurité (secu2) :\")\n",
    "print(tabulate(secu2_usage.reset_index(), headers=[\"Équipement de sécurité\", \"Pourcentage (%)\"], tablefmt=\"pretty\", floatfmt=\".2f\"))\n",
    "\n",
    "# Visualisation de l'utilisation des équipements de sécurité (secu2)\n",
    "plt.figure(figsize=(12, 6))\n",
    "\n",
    "secu2_usage.plot(kind='bar', color=sns.color_palette(\"YlOrRd\", len(secu2_usage)), edgecolor='black', width=0.7)\n",
    "\n",
    "plt.title('Utilisation des équipements de sécurité (Secu2)', fontsize=16, weight='bold', color='darkred')\n",
    "plt.xlabel('Équipement de sécurité', fontsize=14, weight='bold', color='darkred')\n",
    "plt.ylabel('Pourcentage (%)', fontsize=14, weight='bold', color='darkred')\n",
    "\n",
    "# Ajouter les pourcentages au-dessus des barres\n",
    "for i, value in enumerate(secu2_usage):\n",
    "    plt.text(i, value + 1, f\"{value:.2f}%\", ha='center', fontsize=12, color='black', weight='bold')\n",
    "\n",
    "plt.xticks(rotation=45, ha='right', fontsize=12)\n",
    "plt.yticks(fontsize=12)\n",
    "plt.tight_layout()\n",
    "plt.show()\n",
    "\n",
    "# 2. Comparaison des taux de blessures graves ou de décès\n",
    "impact_secu1 = df_usagers.groupby('secu1_label')['accident_grave'].mean() * 100\n",
    "impact_secu2 = df_usagers.groupby('secu2_label')['accident_grave'].mean() * 100\n",
    "\n",
    "print(\"\\nImpact des dispositifs de sécurité (Secu1) sur les accidents graves (en %) :\")\n",
    "print(tabulate(impact_secu1.reset_index(), headers=[\"dispositifs de sécurité\", \"Pourcentage (%)\"], tablefmt=\"pretty\", floatfmt=\".2f\"))\n",
    "\n",
    "# Visualisation de l'impact des dispositifs de sécurité sur les accidents graves (secu1)\n",
    "plt.figure(figsize=(10, 6))\n",
    "impact_secu1.plot(kind='bar', color=sns.color_palette(\"Greens_r\", len(impact_secu1)), edgecolor='black', width=0.7)\n",
    "plt.title('Impact des dispositifs de sécurité (Secu1) sur les accidents graves', fontsize=16, weight='bold', color='darkgreen')\n",
    "plt.xlabel('Dispositif de sécurité', fontsize=14, weight='bold', color='darkgreen')\n",
    "plt.ylabel('Pourcentage d\\'accidents graves (%)', fontsize=14, weight='bold', color='darkgreen')\n",
    "\n",
    "# Ajouter les pourcentages au-dessus des barres\n",
    "for i, value in enumerate(impact_secu1):\n",
    "    plt.text(i, value + 1, f\"{value:.2f}%\", ha='center', fontsize=12, color='black', weight='bold')\n",
    "\n",
    "plt.xticks(rotation=45, ha='right', fontsize=12)\n",
    "plt.yticks(fontsize=12)\n",
    "plt.tight_layout()\n",
    "plt.show()\n",
    "\n",
    "print(\"\\nImpact des équipements de sécurité (Secu2) sur les accidents graves (en %) :\")\n",
    "print(tabulate(impact_secu2.reset_index(), headers=[\"Équipement de sécurité\", \"Pourcentage (%)\"], tablefmt=\"pretty\", floatfmt=\".2f\"))\n",
    "\n",
    "# Visualisation de l'impact des équipements de sécurité sur les accidents graves (secu2)\n",
    "plt.figure(figsize=(12, 6))\n",
    "impact_secu2.plot(kind='bar', color=sns.color_palette(\"Purples_r\", len(impact_secu2)), edgecolor='black', width=0.7)\n",
    "plt.title('Impact des équipements de sécurité (Secu2) sur les accidents graves', fontsize=16, weight='bold', color='darkviolet')\n",
    "plt.xlabel('Équipement de sécurité', fontsize=14, weight='bold', color='darkviolet')\n",
    "plt.ylabel('Pourcentage d\\'accidents graves (%)', fontsize=14, weight='bold', color='darkviolet')\n",
    "\n",
    "# Ajouter les pourcentages au-dessus des barres\n",
    "for i, value in enumerate(impact_secu2):\n",
    "    plt.text(i, value + 1, f\"{value:.2f}%\", ha='center', fontsize=12, color='black', weight='bold')\n",
    "\n",
    "plt.xticks(rotation=45, ha='right', fontsize=12)\n",
    "plt.yticks(fontsize=12)\n",
    "plt.tight_layout()\n",
    "plt.show()\n",
    "\n"
   ]
  },
  {
   "cell_type": "code",
   "execution_count": null,
   "metadata": {},
   "outputs": [],
   "source": [
    "## Répartition des dispositifs de sécurité (Secu1 et Secu2)\n",
    "\n",
    "#En examinant la répartition des dispositifs de sécurité secu1, on constate que la ceinture \n",
    "# de sécurité est l'équipement le plus fréquemment utilisé, avec 65,63 % des usagers. \n",
    "# Le casque suit avec 19,79 %, tandis que les dispositifs pour enfants représentent \n",
    "# une part marginale, à 0,65 %. Une proportion non négligeable (13,92 %) des équipements n'est pas déterminée,\n",
    "#  ce qui pourrait indiquer un manque de données ou d'informations sur certains usagers.\n",
    "\n",
    "#Pour secu2, une majorité (74,62 %) des usagers impliqués dans les accidents ne portaient aucun \n",
    "# équipement spécifique. Parmi ceux qui portaient des équipements, les gants (2/3 RM) sont \n",
    "# les plus courants (19,88 %), suivis des gilets réfléchissants (2,54 %) et\n",
    "# des airbags personnels (2/3 RM) (1,93 %). Les autres équipements et \n",
    "# les combinaisons airbag personnel + gants (2/3 RM) représentent des proportions plus faibles (0,78 % et 0,23 %, respectivement).\n",
    "\n",
    "\n",
    "## Impact des dispositifs de sécurité sur la gravité des accidents\n",
    "\n",
    "#L'analyse laisse croire à une relation entre l'utilisation des dispositifs de sécurité (secu1) \n",
    "# et la gravité des accidents. Les usagers portant des dispositifs pour enfants enregistrent\n",
    "#  le pourcentage le plus élevé d'accidents graves à 90,91 %, suivi \n",
    "# par ceux portant la ceinture de sécurité (89,39 %). Les usagers avec des équipements non déterminables \n",
    "# enregistrent également un impact élevé (83,32 %), tandis que ceux portant un casque présentent un pourcentage moindre (65,38 %).\n",
    "\n",
    "#En ce qui concerne les équipements spécifiques (secu2), les usagers portant des gilets réfléchissants (95,02 %) présentent le pourcentage\n",
    "#d'accidents le plus élevé, suivi par ceux ne portant aucun équipement(93,39 %) . \n",
    "# À l'inverse, les usagers portant des gants (2/3 RM) et des airbags personnels + gants enregistrent des impacts plus modérés, à 64,03 % et 73,05 %, respectivement. \n",
    "#Enfin, ceux portant d'autres équipements affichent le pourcentage le plus faible d'accidents graves (55,46 %), indiquant une meilleure protection potentielle."
   ]
  },
  {
   "cell_type": "markdown",
   "metadata": {},
   "source": [
    "Analyse des trajets"
   ]
  },
  {
   "cell_type": "code",
   "execution_count": null,
   "metadata": {},
   "outputs": [],
   "source": [
    "trajet_labels = {\n",
    "    0: 'Non renseigné',\n",
    "    1: 'Domicile-travail',\n",
    "    2: 'Domicile-école',\n",
    "    3: 'Courses-achats',\n",
    "    4: 'Utilisation professionnelle',\n",
    "    5: 'Promenade-loisirs',\n",
    "    9: 'Autre'\n",
    "}\n",
    "\n",
    "df_usagers['trajet_label'] = df_usagers['trajet'].map(trajet_labels)\n",
    "\n",
    "# Calcul des fréquences et proportions\n",
    "trajet_counts = df_usagers['trajet_label'].value_counts()\n",
    "trajet_proportions = df_usagers['trajet_label'].value_counts(normalize=True) * 100\n",
    "\n",
    "trajet_summary = pd.DataFrame({\n",
    "    'Fréquence': trajet_counts,\n",
    "    'Proportion (%)': trajet_proportions\n",
    "}).sort_values(by='Fréquence', ascending=False)\n",
    "\n",
    "print(\"\\nStatistiques descriptives de la variable 'trajet' :\")\n",
    "print(tabulate(trajet_summary.reset_index(), headers=[\"Type de trajet\", \"Fréquence\", \"Proportion (%)\"], tablefmt=\"pretty\", floatfmt=\".2f\"))\n",
    "\n",
    "# Distribution des types de trajets\n",
    "plt.figure(figsize=(12, 7))\n",
    "sns.barplot(x=trajet_counts.values, y=trajet_counts.index, palette='coolwarm_r')  # Palette inversée\n",
    "\n",
    "plt.title(\"Distribution des types de trajets liés aux accidents\", fontsize=16, fontweight='bold', color='darkblue')\n",
    "plt.xlabel(\"Nombre d'accidents\", fontsize=14, fontweight='bold', color='green')\n",
    "plt.ylabel(\"Type de trajet\", fontsize=14, fontweight='bold', color='green')\n",
    "plt.xticks(fontsize=12, color='purple')\n",
    "plt.yticks(fontsize=12, color='purple')\n",
    "plt.tight_layout()\n",
    "plt.show()\n",
    "\n",
    "\n",
    "#Les statistiques montrent que les promenades-loisirs dominent les motifs de déplacement des usagers impliqués dans des accidents,\n",
    "#  représentant 37,42 %, suivies des trajets non renseignés (27,01 %).\n",
    "#  Les trajets domicile-travail (13,36 %) et utilisation professionnelle (8,92 %) révèlent l'importance des déplacements liés à l'activité \n",
    "# professionnelle, totalisant 22,28 %, et pointent des enjeux spécifiques comme les risques associés aux heures de pointe, au stress, \n",
    "# et à la fatigue. Les trajets domicile-école (2,42 %) et les déplacements pour courses-achats (2,92 %) ont une contribution moindre."
   ]
  },
  {
   "cell_type": "markdown",
   "metadata": {},
   "source": [
    "Analyse descriptive des localisations, actions et états des piétons"
   ]
  },
  {
   "cell_type": "code",
   "execution_count": null,
   "metadata": {},
   "outputs": [],
   "source": [
    "locp_labels = {\n",
    "    0: 'Sans objet',\n",
    "    1: 'A + de 50 m du passage piéton',\n",
    "    2: 'A - de 50 m du passage piéton',\n",
    "    3: 'Sans signalisation lumineuse',\n",
    "    4: 'Avec signalisation lumineuse',\n",
    "    5: 'Trottoir',\n",
    "    6: 'Sur accotement ou BAU',\n",
    "    7: 'Sur contre-allée',\n",
    "    8: 'Inconnue'\n",
    "}                                                                                                                                  \n",
    "actp_labels = {\n",
    "    '-1': 'Non renseigné',\n",
    "    '0': 'Sans objet',\n",
    "    '1': 'Sens du véhicule heurtant',\n",
    "    '2': 'Sens inverse du véhicule heurtant',\n",
    "    '3': 'Traversant',\n",
    "    '4': 'Masqué',\n",
    "    '5': 'Jouant-courant',\n",
    "    '6': 'Avec animal',\n",
    "    '7': 'Quitte l arrêt du TC',\n",
    "    '8': 'Accède à l arrêt du TC',\n",
    "    '9': 'Autre',\n",
    "    'A': 'Monte ou descend de son véhicule', \n",
    "    'B': 'Inconnu'  \n",
    "}\n",
    "\n",
    "etatp_labels = {\n",
    "    0: 'Sans objet',\n",
    "    1: 'Seul',\n",
    "    2: 'Accompagé',\n",
    "    3: 'En groupe'\n",
    "}\n",
    "\n",
    "\n",
    "# Appliquer les mappings aux colonnes\n",
    "df_usagers['locp_label'] = df_usagers['locp'].map(locp_labels)\n",
    "df_usagers['actp_label'] = df_usagers['actp'].map(actp_labels)\n",
    "df_usagers['etatp_label'] = df_usagers['etatp'].map(etatp_labels)\n",
    "\n",
    "# Analyse descriptive : Fréquences et proportions\n",
    "def summarize_variable(column, label):\n",
    "    counts = df_usagers[column].value_counts()\n",
    "    proportions = df_usagers[column].value_counts(normalize=True) * 100\n",
    "    summary = pd.DataFrame({'Fréquence': counts, 'Proportion (%)': proportions})\n",
    "    print(f\"\\nStatistiques descriptives pour {label} :\")\n",
    "    print(tabulate(summary, headers=[\"Catégorie\", \"Fréquence_d_observation\", \"Proportion (%)\"], tablefmt=\"pretty\", floatfmt=\".2f\"))\n",
    "    return summary\n",
    "\n",
    "locp_summary = summarize_variable('locp_label', 'Localisation du piéton')\n",
    "actp_summary = summarize_variable('actp_label', 'Action du piéton')\n",
    "etatp_summary = summarize_variable('etatp_label', 'État du piéton')\n",
    "\n",
    "# Visualisations avec améliorations\n",
    "def plot_distribution(summary, title, ylabel):\n",
    "    plt.figure(figsize=(12, 7))\n",
    "    sns.barplot(x=summary['Fréquence'], y=summary.index, palette='magma')  # Utilisation de la palette 'magma' pour une jolie couleur\n",
    "    plt.title(title, fontsize=16, fontweight='bold', color='darkblue')\n",
    "    plt.xlabel(\"Nombre d'accidents\", fontsize=14, fontweight='bold', color='green')\n",
    "    plt.ylabel(ylabel, fontsize=14, fontweight='bold', color='green')\n",
    "    plt.xticks(fontsize=12, color='purple')\n",
    "    plt.yticks(fontsize=12, color='purple')\n",
    "    plt.tight_layout()\n",
    "    plt.show()\n",
    "\n",
    "plot_distribution(locp_summary, \"Distribution de la localisation des piétons\", \"Localisation\")\n",
    "plot_distribution(actp_summary, \"Distribution des actions des piétons\", \"Action\")\n",
    "plot_distribution(etatp_summary, \"Distribution de l'état des piétons\", \"État\")\n",
    "\n",
    "# Analyse croisée (Localisation vs Action)\n",
    "cross_tab = pd.crosstab(df_usagers['locp_label'], df_usagers['actp_label'], normalize='index') * 100\n",
    "cross_tab = cross_tab.fillna(0)  # Remplacer NaN par 0\n",
    "\n",
    "plt.figure(figsize=(12, 8))\n",
    "sns.heatmap(cross_tab, annot=True, fmt=\".1f\", cmap='coolwarm', cbar_kws={'label': 'Pourcentage'})\n",
    "plt.title(\"Croisement entre localisation et action des piétons\", fontsize=16)\n",
    "plt.xlabel(\"Action du piéton\", fontsize=14)\n",
    "plt.ylabel(\"Localisation du piéton\", fontsize=14)\n",
    "plt.tight_layout()\n",
    "plt.show()"
   ]
  },
  {
   "cell_type": "code",
   "execution_count": null,
   "metadata": {},
   "outputs": [],
   "source": [
    "#### Localisation du piéton (locp_label) :\n",
    "#La majorité des piétons (84,5 %) se trouvent dans des zones sans objet de localisation précise. Parmi les autres catégories, \n",
    "# la majorité se situe à plus de 50 mètres d'un passage piéton (5,3 %) et à moins de 50 mètres (3,2 %). \n",
    "# La signalisation lumineuse est présente dans seulement 2,5 % des cas, et un peu plus de 2 % des piétons se trouvent dans des zones \n",
    "# à plus de 50 mètres du passage piéton. La localisation précise de l'accident est inconnue dans moins de 1 % des cas, et seules de rares \n",
    "# observations concernent des piétons sur des trottoirs (1,4 %) ou sur des accotements (0,5 %).\n",
    "##########\n",
    "\n",
    "#### Action du piéton (actp_label) :\n",
    "#La majorité des piétons (83,8 %) sont dans une situation où l'action est considérée comme \"sans objet\". \n",
    "# Les actions les plus fréquentes sont les piétons traversant (11,9 %) ou des actions considérées comme \"autres\" (1,1 %). \n",
    "# Les cas où le piéton est heurté dans le sens du véhicule sont relativement moins fréquents (1 %), tout comme les situations où\n",
    "#  il se trouve dans le sens inverse du véhicule heurtant (0,5 %). D'autres actions comme \"jouant-courant\", \"avec animal\" ou \"masqué\" \n",
    "# sont très peu fréquentes, avec des proportions inférieures à 1 %, et les cas où le piéton monte ou descend de son véhicule ou accède \n",
    "# à un arrêt de transport en commun sont rares (moins de 0,2 %).\n",
    "##########\n",
    "\n",
    "#### État du piéton (etatp_label) :\n",
    "# La grande majorité des piétons sont seuls lors de l'accident (75,2 %), tandis qu'une proportion importante est accompagnée (20,7 %). \n",
    "# Les cas où le piéton est en groupe sont beaucoup moins fréquents, représentant seulement 4,1 % des observations.\n",
    "\n",
    "####################Croisements \n",
    "#Les résultats montrent une tendance générale où la majorité des piétons traversent la rue de manière traversante,\n",
    "#avec une gande proportion d'actions marquées par l'absence de signalisation ou l'absence de comportement spécifique (\"Sans objet\").\n",
    "#Les localisations près des passages piétons montrent une plus grande tendance à traverser de manière traversante, mais des comportements\n",
    "#tels que \"Sens du véhicule heurtant\" ou \"Autre\" sont plus fréquents dans des zones où la signalisation lumineuse ou les trottoirs sont moins présents.\n",
    "\n",
    "#Il semble aussi qu'une partie des actions liées aux transports en commun (\"Accède à l’arrêt du TC\", \"Quitte l’arrêt du TC\") \n",
    "#soit relativement faible, bien que certaines localisations, comme \"Inconnue\" et \"Sur accotement ou BAU\", montrent une certaine\n",
    "#variété dans les actions des piétons."
   ]
  },
  {
   "cell_type": "markdown",
   "metadata": {},
   "source": [
    "Tableau croisé dynamique pour observer les relations entre les variables"
   ]
  },
  {
   "cell_type": "code",
   "execution_count": null,
   "metadata": {},
   "outputs": [],
   "source": [
    "#Matrice de corrélation\n",
    "col_a_exclu = ['Num_Acc','an_nais']\n",
    "df_usagers_col_a_exclu = df_usagers.drop(columns=col_a_exclu)\n",
    "df_numeric = df_usagers_col_a_exclu.select_dtypes(include=['number'])\n",
    "corr_USAGERS = df_numeric.corr(method=\"pearson\")\n",
    "\n",
    "plt.figure(figsize=(10, 8))\n",
    "sns.heatmap(corr_USAGERS, annot=True, cmap='coolwarm', fmt='.2f', \n",
    "            xticklabels=corr_USAGERS.columns, yticklabels=corr_USAGERS.columns)\n",
    "\n",
    "plt.title(\"Matrice de Corrélation des Variables Usagers\")\n",
    "plt.show()\n",
    "\n",
    "#Selon le tableau de corrélation les variables couples de variables fortement corrélées sont: (place, catu), (place,locp), (place,etatp), (catu,etatp) et (locp,etatp)"
   ]
  },
  {
   "cell_type": "code",
   "execution_count": null,
   "metadata": {},
   "outputs": [],
   "source": [
    "import matplotlib.pyplot as plt\n",
    "import seaborn as sns\n",
    "import ipywidgets as widgets\n",
    "from IPython.display import display\n",
    "\n",
    "# Sélection des variables numériques\n",
    "df_usagers_col_a_exclu = df_usagers.drop(columns=col_a_exclu)\n",
    "df_numeric = df_usagers_col_a_exclu.select_dtypes(include=['number'])\n",
    "\n",
    "# Création du widget Dropdown\n",
    "variable_selector = widgets.Dropdown(\n",
    "    options=df_numeric.columns.tolist(),\n",
    "    description='Variable:',\n",
    "    disabled=False\n",
    ")\n",
    "\n",
    "# Fonction pour afficher le boxplot\n",
    "def show_boxplot(variable):\n",
    "    # Vérifier si la variable existe dans le DataFrame\n",
    "    if variable in df_numeric.columns:\n",
    "        plt.figure(figsize=(10, 6))\n",
    "        sns.set(style=\"whitegrid\")\n",
    "        # Créer un boxplot avec une couleur personnalisée et une taille de boîte ajustée\n",
    "        sns.boxplot(x=df_usagers[variable], \n",
    "                    color='lightcoral', \n",
    "                    width=0.5,          \n",
    "                    fliersize=7,        \n",
    "                    linewidth=2,        \n",
    "                    whis=1.5)           \n",
    "\n",
    "        plt.title(f'Boxplot de {variable}', fontsize=18, fontweight='bold')\n",
    "\n",
    "        plt.xlabel(variable, fontsize=14)\n",
    "        plt.ylabel('Valeur', fontsize=14)\n",
    "\n",
    "        # Afficher la grille pour rendre les graphes plus lisibles\n",
    "        plt.grid(True, axis='y', linestyle='--', alpha=0.7)\n",
    "\n",
    "        # Personnaliser la couleur des axes et ajouter un fond doux\n",
    "        plt.gca().set_facecolor('whitesmoke')\n",
    "        plt.xticks(fontsize=12)\n",
    "        plt.yticks(fontsize=12)\n",
    "\n",
    "        # Afficher le graphique\n",
    "        plt.show()\n",
    "    else:\n",
    "        print(\"La variable spécifiée n'existe pas dans les données.\")\n",
    "\n",
    "# Affichage du widget pour permettre l'interaction\n",
    "display(variable_selector)\n",
    "\n",
    "# Lier le widget avec la fonction de boxplot\n",
    "widgets.interactive(show_boxplot, variable=variable_selector)\n"
   ]
  },
  {
   "cell_type": "code",
   "execution_count": null,
   "metadata": {},
   "outputs": [],
   "source": [
    "col_a_exclu = ['Num_Acc','an_nais','sexe']\n",
    "df_usagers_col_a_exclu = df_usagers.drop(columns=col_a_exclu)\n",
    "\n",
    "df_numeric = df_usagers_col_a_exclu.select_dtypes(include=['number'])\n",
    "\n",
    "variable_selector = widgets.Dropdown(\n",
    "    options=df_numeric.columns.tolist(),\n",
    "    description='Variable:',\n",
    "    disabled=False\n",
    ")\n",
    "\n",
    "# Fonction pour afficher le boxplot\n",
    "def show_boxplot(variable):\n",
    "    # Vérifier si la variable existe dans le DataFrame\n",
    "    if variable in df_numeric.columns:\n",
    "        plt.figure(figsize=(10, 6))\n",
    "        sns.set(style=\"whitegrid\")\n",
    "        # Créer un boxplot avec une couleur personnalisée et une taille de boîte ajustée\n",
    "        sns.boxplot(x=df_usagers[variable], \n",
    "                    color='lightcoral', \n",
    "                    width=0.5,          \n",
    "                    fliersize=7,        \n",
    "                    linewidth=2,        \n",
    "                    whis=1.5)           \n",
    "\n",
    "        plt.title(f'Boxplot de {variable}', fontsize=18, fontweight='bold')\n",
    "\n",
    "        plt.xlabel(variable, fontsize=14)\n",
    "        plt.ylabel('Valeur', fontsize=14)\n",
    "\n",
    "        # Afficher la grille pour rendre les graphes plus lisibles\n",
    "        plt.grid(True, axis='y', linestyle='--', alpha=0.7)\n",
    "\n",
    "        # Personnaliser la couleur des axes et ajouter un fond doux\n",
    "        plt.gca().set_facecolor('whitesmoke')\n",
    "        plt.xticks(fontsize=12)\n",
    "        plt.yticks(fontsize=12)\n",
    "\n",
    "        # Afficher le graphique\n",
    "        plt.show()\n",
    "\n",
    "    else:\n",
    "        print(\"La variable spécifiée n'existe pas dans les données.\")\n",
    "\n",
    "# Lier le widget avec la fonction de boxplot\n",
    "widgets.interactive(show_boxplot, variable=variable_selector)\n",
    "\n"
   ]
  },
  {
   "cell_type": "markdown",
   "metadata": {},
   "source": [
    "### 2)- Description de la base vehicules"
   ]
  },
  {
   "cell_type": "markdown",
   "metadata": {},
   "source": [
    "La base des véhicules est constituée des variables d'identification et des variables catégorielles qui catérisent les véhicules impliqués dans les circulations routières comme la catégorie du véhicule, l'object fixe et mobile heurté par le véhicule, etc."
   ]
  },
  {
   "cell_type": "code",
   "execution_count": null,
   "metadata": {},
   "outputs": [],
   "source": [
    "df_vehicules.info()"
   ]
  },
  {
   "cell_type": "markdown",
   "metadata": {},
   "source": [
    "Déterminons le nombre de valeurs manquantes de la base:"
   ]
  },
  {
   "cell_type": "code",
   "execution_count": null,
   "metadata": {},
   "outputs": [],
   "source": [
    "# analyser les valeurs manquantes\n",
    "df_vehicules.isna().sum()[df_vehicules.isna().sum()!=0]/len(df_vehicules)*100"
   ]
  },
  {
   "cell_type": "markdown",
   "metadata": {},
   "source": [
    "La variable qui donne le nombre d'occupants dans le transport commun a 99% de valeurs manquantes. Nous allons la supprimer car elle n'apporte aucune information."
   ]
  },
  {
   "cell_type": "code",
   "execution_count": null,
   "metadata": {},
   "outputs": [],
   "source": [
    "df_vehicules.drop([\"occutc\"], axis=1, inplace=True)"
   ]
  },
  {
   "cell_type": "markdown",
   "metadata": {},
   "source": [
    "Dictionnaire des variables"
   ]
  },
  {
   "cell_type": "code",
   "execution_count": null,
   "metadata": {},
   "outputs": [],
   "source": [
    "#Sens de circulation \n",
    "senc_labels = {\n",
    "    -1: '-1 Non renseigné',\n",
    "    0: '0 Inconnu',\n",
    "    1: '1 PK ou PR ou numéro d\\'adresse postale croissant',\n",
    "    2: '2 PK ou PR ou numéro d\\'adresse postale décroissant',\n",
    "    3: '3 Absence de repère'\n",
    "}\n",
    "#obstacles_fixes_heurte\n",
    "obs_labels = {\n",
    "    -1: \"Non renseigné\",\n",
    "    0: \"Sans objet\",\n",
    "    1: \"Véhicule en stationnement\",\n",
    "    2: \"Arbre\",\n",
    "    3: \"Glissière métallique\",\n",
    "    4: \"Glissière béton\",\n",
    "    5: \"Autre glissière\",\n",
    "    6: \"Bâtiment, mur, pile de pont\",\n",
    "    7: \"Support de signalisation verticale ou poste d’appel d’urgence\",\n",
    "    8: \"Poteau\",\n",
    "    9: \"Mobilier urbain\",\n",
    "    10: \"Parapet\",\n",
    "    11: \"Ilot, refuge, borne haute\",\n",
    "    12: \"Bordure de trottoir\",\n",
    "    13: \"Fossé, talus, paroi rocheuse\",\n",
    "    14: \"Autre obstacle fixe sur chaussée\",\n",
    "    15: \"Autre obstacle fixe sur trottoir ou accotement\",\n",
    "    16: \"Sortie de chaussée sans obstacle\",\n",
    "    17: \"Buse – tête d’aqueduc\"\n",
    "}\n",
    "#Catégorie du véhicule\n",
    "catv_labels = {\n",
    "    -1:\"Non renseigné\",\n",
    "    0: \"Indéterminable\",\n",
    "    1: \"Bicyclette\",\n",
    "    2: \"Cyclomoteur <50cm3\",\n",
    "    3: \"Voiturette (Quadricycle à moteur carrossé) (anciennement 'voiturette ou tricycle à moteur')\",\n",
    "    4: \"Référence inutilisée depuis 2006 (scooter immatriculé)\",\n",
    "    5: \"Référence inutilisée depuis 2006 (motocyclette)\",\n",
    "    6: \"Référence inutilisée depuis 2006 (side-car)\",\n",
    "    7: \"VL seul\",\n",
    "    8: \"Référence inutilisée depuis 2006 (VL + caravane)\",\n",
    "    9: \"Référence inutilisée depuis 2006 (VL + remorque)\",\n",
    "    10: \"VU seul 1,5T <= PTAC <= 3,5T avec ou sans remorque (anciennement VU seul 1,5T <= PTAC <= 3,5T)\",\n",
    "    11: \"Référence inutilisée depuis 2006 (VU (10) + caravane)\",\n",
    "    12: \"Référence inutilisée depuis 2006 (VU (10) + remorque)\",\n",
    "    13: \"PL seul 3,5T <PTCA <= 7,5T\",\n",
    "    14: \"PL seul > 7,5T\",\n",
    "    15: \"PL > 3,5T + remorque\",\n",
    "    16: \"Tracteur routier seul\",\n",
    "    17: \"Tracteur routier + semi-remorque\",\n",
    "    18: \"Référence inutilisée depuis 2006 (transport en commun)\",\n",
    "    19: \"Référence inutilisée depuis 2006 (tramway)\",\n",
    "    20: \"Engin spécial\",\n",
    "    21: \"Tracteur agricole\",\n",
    "    30: \"Scooter < 50 cm3\",\n",
    "    31: \"Motocyclette > 50 cm3 et <= 125 cm3\",\n",
    "    32: \"Scooter > 50 cm3 et <= 125 cm3\",\n",
    "    33: \"Motocyclette > 125 cm3\",\n",
    "    34: \"Scooter > 125 cm3\",\n",
    "    35: \"Quad léger <= 50 cm3 (Quadricycle à moteur non carrossé)\",\n",
    "    36: \"Quad lourd > 50 cm3 (Quadricycle à moteur non carrossé)\",\n",
    "    37: \"Autobus\",\n",
    "    38: \"Autocar\",\n",
    "    39: \"Train\",\n",
    "    40: \"Tramway\",\n",
    "    41: \"3RM <= 50 cm3\",\n",
    "    42: \"3RM > 50 cm3 <= 125 cm3\",\n",
    "    43: \"3RM > 125 cm3\",\n",
    "    50: \"EDP à moteur\",\n",
    "    60: \"EDP sans moteur\",\n",
    "    80: \"VAE\",\n",
    "    99: \"Autre véhicule\"\n",
    "}\n",
    "#Obstacle mobile heurté\n",
    "obsm_labels = {\n",
    "    -1: \"Non renseigné\",\n",
    "    0: \"Aucun\",\n",
    "    1: \"Piéton\",\n",
    "    2: \"Véhicule\",\n",
    "    4: \"Véhicule sur rail\",\n",
    "    5: \"Animal domestique\",\n",
    "    6: \"Animal sauvage\",\n",
    "    9: \"Autre\"\n",
    "}\n",
    "#point_de_choc_initial\n",
    "choc_labels = {\n",
    "    -1: \"Non renseigné\",\n",
    "    0: \"Aucun\",\n",
    "    1: \"Avant\",\n",
    "    2: \"Avant droit\",\n",
    "    3: \"Avant gauche\",\n",
    "    4: \"Arrière\",\n",
    "    5: \"Arrière droit\",\n",
    "    6: \"Arrière gauche\",\n",
    "    7: \"Côté droit\",\n",
    "    8: \"Côté gauche\",\n",
    "    9: \"Chocs multiples (tonneaux)\"\n",
    "}\n",
    "#manoeuvre_principale_avant_accident\n",
    "manv_labels = {\n",
    "    -1: \"Non renseigné\",\n",
    "    0: \"Inconnue\",\n",
    "    1: \"Sans changement de direction\",\n",
    "    2: \"Même sens, même file\",\n",
    "    3: \"Entre 2 files\",\n",
    "    4: \"En marche arrière\",\n",
    "    5: \"A contresens\",\n",
    "    6: \"En franchissant le terre-plein central\",\n",
    "    7: \"Dans le couloir bus, dans le même sens\",\n",
    "    8: \"Dans le couloir bus, dans le sens inverse\",\n",
    "    9: \"En s’insérant\",\n",
    "    10: \"En faisant demi-tour sur la chaussée\",\n",
    "    11: \"A gauche\",\n",
    "    12: \"A droite\",\n",
    "    13: \"A gauche\",\n",
    "    14: \"A droite\",\n",
    "    15: \"A gauche\",\n",
    "    16: \"A droite\",\n",
    "    17: \"A gauche\",\n",
    "    18: \"A droite\",\n",
    "    19: \"Traversant la chaussée\",\n",
    "    20: \"Manœuvre de stationnement\",\n",
    "    21: \"Manœuvre d’évitement\",\n",
    "    22: \"Ouverture de porte\",\n",
    "    23: \"Arrêté (hors stationnement)\",\n",
    "    24: \"En stationnement (avec occupants)\",\n",
    "    25: \"Circulant sur trottoir\",\n",
    "    26: \"Autres manœuvres\"\n",
    "}\n",
    "#type_motorisation_vehicule\n",
    "motor_labels = {\n",
    "    -1: \"Non renseigné\",\n",
    "    0: \"Inconnue\",\n",
    "    1: \"Hydrocarbures\",\n",
    "    2: \"Hybride électrique\",\n",
    "    3: \"Electrique\",\n",
    "    4: \"Hydrogène\",\n",
    "    5: \"Humaine\",\n",
    "    6: \"Autre\"\n",
    "}"
   ]
  },
  {
   "cell_type": "code",
   "execution_count": null,
   "metadata": {},
   "outputs": [],
   "source": [
    "#Pourcentage de valeurs manquantes pour chaque variable\n",
    "missing_percentage = (df_vehicules.isnull().sum() / len(df_vehicules)) * 100\n",
    "print(\"Pourcentage de valeurs manquantes par variable :\")\n",
    "print(missing_percentage)"
   ]
  },
  {
   "cell_type": "code",
   "execution_count": null,
   "metadata": {},
   "outputs": [],
   "source": [
    "# Suppression de la variable 'occutc' car elle a 99% de variables manquantes\n",
    "df_vehicules = df_vehicules.drop(columns=['occutc'])"
   ]
  },
  {
   "cell_type": "code",
   "execution_count": null,
   "metadata": {},
   "outputs": [],
   "source": [
    "mapping_dict2 = {\n",
    "    \"senc\": senc_labels,\n",
    "    \"catv\": catv_labels,\n",
    "    \"obs\": obs_labels,\n",
    "    \"choc\": choc_labels,\n",
    "    \"obsm\": obsm_labels,\n",
    "    \"manv\": manv_labels,\n",
    "    \"motor\": motor_labels,\n",
    "}\n",
<<<<<<< HEAD
    "mapping_apply(df_vehicules,mapping_dict2)"
   ]
  },
  {
   "cell_type": "code",
   "execution_count": null,
   "metadata": {},
   "outputs": [],
   "source": [
    "col_inclure1 = [\"senc\",\"obs\", \"obsm\"]\n",
    "Col_inclure2 = [\"choc\", \"manv\", \"motor\"]"
=======
    "# Application du mapping\n",
    "for column, mapping in mapping_dict.items():\n",
    "    if column in df_vehicules.columns:  # Vérifie si la colonne existe dans le DataFrame\n",
    "        df_vehicules[column] = df_vehicules[column].map(mapping)\n"
>>>>>>> 317c5ae74c9613924bd6f0903bea45e50b59cb98
   ]
  },
  {
   "cell_type": "code",
   "execution_count": null,
   "metadata": {},
   "outputs": [],
   "source": [
    "def plot_all_distributions(df, columns):\n",
    "    \"\"\"\n",
    "    Représente les distributions des variables catégorielles dans un seul cadran avec des sous-graphiques.\n",
    "    \n",
    "    Paramètres:\n",
    "    df : DataFrame pandas contenant les données\n",
    "    columns : Liste des colonnes catégorielles à représenter\n",
    "    \"\"\"\n",
    "    # Dictionnaire pour mapper les variables aux titres\n",
    "    column_titles = {\n",
    "        \"senc\": \"Sens de circulation\",\n",
    "        \"obs\": \"Obstacles fixes heurtés\",\n",
    "        \"obsm\": \"Obstacle mobile heurté\",\n",
    "        \"choc\": \"Point de choc initial\",\n",
    "        \"manv\": \"Manœuvre principale avant accident\",\n",
    "        \"motor\": \"Type de motorisation du véhicule\"\n",
    "    }\n",
    "    \n",
    "    # Définir le nombre de lignes et de colonnes pour les subplots\n",
    "    n_cols = 2  # Nombre de colonnes par ligne pour agrandir les graphiques\n",
    "    n_rows = (len(columns) + n_cols - 1) // n_cols  # Nombre total de lignes (arrondi vers le haut)\n",
    "    \n",
    "    # Initialiser la figure avec une taille plus grande\n",
    "    fig, axes = plt.subplots(n_rows, n_cols, figsize=(20, 6 * n_rows))\n",
    "    axes = axes.flatten()  # Aplatir le tableau des axes pour un accès facile\n",
    "    \n",
    "    # Parcourir les colonnes pour créer chaque graphique\n",
    "    for i, column in enumerate(columns):\n",
    "        sns.countplot(data=df, x=column, palette='viridis', ax=axes[i])\n",
    "        title = column_titles.get(column, column)  # Récupérer le titre ou le nom de la colonne par défaut\n",
    "        axes[i].set_title(f\"Distribution de '{title}'\", fontsize=14)\n",
    "        axes[i].set_xlabel(title, fontsize=12)\n",
    "        axes[i].set_ylabel(\"Fréquence\", fontsize=12)\n",
    "        axes[i].tick_params(axis='x', rotation=45)\n",
    "        \n",
    "        # Ajouter les valeurs au-dessus des barres\n",
    "        for p in axes[i].patches:\n",
    "            axes[i].annotate(f'{int(p.get_height())}',\n",
    "                             (p.get_x() + p.get_width() / 2., p.get_height()),\n",
    "                             ha='center', va='center',\n",
    "                             fontsize=10, color='black',\n",
    "                             xytext=(0, 5), textcoords='offset points')\n",
    "        \n",
    "    # Supprimer les axes vides si le nombre de graphiques est inférieur aux subplots\n",
    "    for j in range(i + 1, len(axes)):\n",
    "        fig.delaxes(axes[j])\n",
    "        \n",
    "    plt.tight_layout()\n",
    "    plt.show()\n",
    "\n"
   ]
  },
  {
   "cell_type": "code",
   "execution_count": null,
   "metadata": {},
   "outputs": [],
   "source": [
    "# Liste des colonnes\n",
    "col_inclure1 = [\"senc\",\"obs\", \"obsm\"]\n",
    "# Appel de la fonction\n",
    "plot_all_distributions(df_vehicules, col_inclure1)"
   ]
  },
  {
   "cell_type": "code",
   "execution_count": null,
   "metadata": {},
   "outputs": [],
   "source": [
    "Col_inclure2 = [\"choc\", \"manv\", \"motor\"]\n",
    "plot_all_distributions(df_vehicules, Col_inclure2)"
   ]
  },
  {
   "cell_type": "code",
   "execution_count": null,
   "metadata": {},
   "outputs": [],
   "source": [
    "plt.figure(figsize=(20, 8))\n",
    "ax = sns.countplot(x=df_vehicules[\"catv\"], palette='viridis')\n",
    "plt.title(\"Distribution de Categorie de vehicule\")\n",
    "plt.xlabel(\"Catégorie de véhicule\")\n",
    "plt.ylabel(\"Fréquence\")\n",
    "plt.xticks(rotation=45)\n",
    "plt.show()\n"
   ]
  },
  {
<<<<<<< HEAD
   "cell_type": "markdown",
   "metadata": {},
   "source": [
    "### Relation variables-target"
   ]
  },
  {
   "cell_type": "code",
   "execution_count": null,
   "metadata": {},
   "outputs": [],
   "source": [
    "def diagramme_profils(data, target_var, other_var):\n",
    "    croisement = pd.crosstab(data[target_var], data[other_var], normalize='index') * 100\n",
    "    \n",
    "    ax = croisement.plot(kind='bar', stacked=True, colormap=\"viridis\", figsize=(10, 6))\n",
    "    \n",
    "    # Ajouter des numéros sur les barres\n",
    "    for p in ax.patches:\n",
    "        height = p.get_height()\n",
    "        if height > 0:  # Pour éviter d'ajouter un texte si la barre est vide\n",
    "            ax.text(p.get_x() + p.get_width() / 2, p.get_y() + height / 2, f'{height:.1f}%', \n",
    "                    ha='center', va='center', color='white', fontweight='bold')\n",
    "    \n",
    "    plt.title(f\"Diagramme des profils : {target_var} vs {other_var}\")\n",
    "    plt.ylabel(\"Pourcentage (%)\")\n",
    "    plt.xlabel(target_var)\n",
    "    plt.legend(title=other_var, bbox_to_anchor=(1.05, 1), loc='upper left')\n",
    "    plt.tight_layout()\n",
    "    plt.show()"
   ]
  },
  {
   "cell_type": "code",
   "execution_count": null,
   "metadata": {},
   "outputs": [],
   "source": [
    "def create_profile_table(data, var1, var2):\n",
    "    \n",
    "    contingency_table = pd.crosstab(data[var1], data[var2])\n",
    "    profile_table = contingency_table.div(contingency_table.sum(axis=1), axis=0) * 100\n",
    "    return profile_table"
   ]
  },
  {
   "cell_type": "code",
   "execution_count": null,
   "metadata": {},
   "outputs": [],
   "source": [
    "#Mapping \n",
    "catu_labels = {1: 'Conducteur', 2: 'Passager', 3: 'Piéton'}\n",
    "grav_labels = {1: 'Indemne', 2: 'Tué', 3: 'Blessé hospitalisé > 24h', 4: 'Blessé léger',-1: 'Non renseigné'}\n",
    "secu1_labels = {\n",
    "    -1: \"Non renseigné\",\n",
    "    0: \"Aucun équipement\",\n",
    "    1: \"Ceinture\",\n",
    "    2: \"Casque\",\n",
    "    3: \"Dispositif enfants\",\n",
    "    4: \"Gilet réfléchissant\",\n",
    "    5: \"Airbag (2RM/3RM)\",\n",
    "    6: \"Gants (2RM/3RM)\",\n",
    "    7: \"Gants + Airbag (2RM/3RM)\",\n",
    "    8: \"Non déterminable\",\n",
    "    9: \"Autre\"\n",
    "}\n",
    "secu2_labels = {\n",
    "    -1: \"Non renseigné\",\n",
    "    0: \"Aucun équipement\",\n",
    "    1: \"Ceinture\",\n",
    "    2: \"Casque\",\n",
    "    3: \"Dispositif enfants\",\n",
    "    4: \"Gilet réfléchissant\",\n",
    "    5: \"Airbag (2RM/3RM)\",\n",
    "    6: \"Gants (2RM/3RM)\",\n",
    "    7: \"Gants + Airbag (2RM/3RM)\",\n",
    "    8: \"Non déterminable\",\n",
    "    9: \"Autre\"\n",
    "}                                                                                                                \n",
    "etatp_labels = {\n",
    "    -1:'Non renseigné',\n",
    "    0: 'Sans objet',\n",
    "    1: 'Seul',\n",
    "    2: 'Accompagé',\n",
    "    3: 'En groupe'\n",
    "}"
   ]
  },
  {
   "cell_type": "markdown",
   "metadata": {},
   "source": [
    "#### gravité (grav) et catégorie de l'usager (catu)"
   ]
  },
  {
   "cell_type": "code",
   "execution_count": null,
   "metadata": {},
   "outputs": [],
   "source": [
    "df_merge['grav'] = df_merge['grav'].replace(grav_labels)    \n",
    "df_merge['catu'] = df_merge['catu'].replace(catu_labels)  \n",
    "df_merge['secu1'] = df_merge['secu1'].replace(secu1_labels)\n",
    "df_merge['secu2'] = df_merge['secu2'].replace(secu1_labels)\n",
    "df_merge['etatp'] = df_merge['etatp'].replace(etatp_labels)\n",
    "\n",
    "variables_to_replace = ['grav', 'catu', 'secu1', 'secu2', 'etatp']\n",
    "for var in variables_to_replace:\n",
    "    df_merge[var] = df_merge[var].replace(\"Non renseigné\", np.nan)"
   ]
  },
  {
   "cell_type": "code",
   "execution_count": null,
   "metadata": {},
   "outputs": [],
   "source": [
    "diagramme_profils(df_merge, \"grav\", \"catu\")"
   ]
  },
  {
   "cell_type": "markdown",
   "metadata": {},
   "source": [
    "L'influence de la catégorie d'utilisateur (catu) sur la gravité des blessures (grav) montre que 71,11 % des conducteurs blessés sont hospitalisés plus de 24 heures, 67,6 % subissent des blessures légères et 83,3 % sortent indemnes, bien que 71,8 % des conducteurs décèdent dans l'accident. Chez les passagers, 16,7 % sont hospitalisés plus de 24 heures, 20 % sont légèrement blessés, et 16,2 % sont indemnes, avec 14,2 % de passagers tués. En revanche, les piétons sont beaucoup plus vulnérables, avec seulement 0,6 % indemnes, 13,1 % blessés hospitalisé à plus de 24h et un taux élevé de décès, représentant 14 % des victimes tuées, soulignant leur grande fragilité face aux accidents."
   ]
  },
  {
   "cell_type": "markdown",
   "metadata": {},
   "source": [
    "Gravité (grav) et équipement de sécurité1 (secu1)"
   ]
  },
  {
   "cell_type": "code",
   "execution_count": null,
   "metadata": {},
   "outputs": [],
   "source": [
    "create_profile_table(df_merge, \"grav\", \"secu1\")                   "
   ]
  },
  {
   "cell_type": "markdown",
   "metadata": {},
   "source": [
    "Les données semblent indiquer une influence du type d’équipement de sécurité (secu1) sur la gravité des blessures (grav). Par exemple, les proportions de blessés hospitalisés sont particulièrement élevées parmi les utilisateurs de casques (37,69 %) et de ceintures (32,00 %), tout en restant significatives pour ceux sans équipement (18,12 %). Concernant les décès, une part importante concerne les individus sans équipement (25,28 %), mais également les utilisateurs de casques (26,72 %) et de ceintures (32,65 %). À l’inverse, la majorité des personnes indemnes portaient une ceinture (79,17 %) ou utilisaient un dispositif pour enfants (61,67 %), suggérant une meilleure protection offerte par ces équipements. Ces résultats mettent en évidence une corrélation probable entre l’équipement de sécurité utilisé et la gravité des blessures."
   ]
  },
  {
   "cell_type": "markdown",
   "metadata": {},
   "source": [
    "Gravité (grav) et équipement de sécurité2 (secu2)"
   ]
  },
  {
   "cell_type": "code",
   "execution_count": null,
   "metadata": {},
   "outputs": [],
   "source": [
    "create_profile_table(df_merge, \"grav\", \"secu2\") "
   ]
  },
  {
   "cell_type": "markdown",
   "metadata": {},
   "source": [
    "Les données montrent que le type d’équipement de sécurité secondaire (secu2) semble également avoir une influence potentielle sur la gravité des blessures (grav). Les proportions de blessés hospitalisés sont particulièrement élevées parmi les utilisateurs de gants (49,53 %) et les personnes sans équipement (33,04 %), tandis qu’elles sont plus faibles pour les utilisateurs de ceintures (0,55 %) et de dispositifs pour enfants (0,26 %). Concernant les décès, les proportions sont élevées chez les utilisateurs de gants (44,41 %) et ceux sans équipement (36,80 %), ce qui suggère une vulnérabilité accrue dans ces groupes. À l’inverse, les proportions d’indemnes sont majoritairement observées chez les personnes sans équipement (76,53 %), suivies des utilisateurs de ceintures (55,51 %) et de dispositifs pour enfants (28,73 %), ce qui indique une meilleure protection relative pour ces derniers. Ces résultats suggèrent une corrélation probable entre l’équipement de sécurité secondaire utilisé et la gravité des blessures."
   ]
  },
  {
   "cell_type": "markdown",
   "metadata": {},
   "source": [
    "Gravité (grav) et action du piéton (actp)"
   ]
  },
  {
   "cell_type": "code",
   "execution_count": null,
   "metadata": {},
   "outputs": [],
   "source": [
    "diagramme_profils(df_merge, \"grav\", \"etatp\")"
   ]
  },
  {
   "cell_type": "markdown",
   "metadata": {},
   "source": [
    "Les personnes impliquées dans des accidents graves (blessés hospitalisés >24h et tués) sont plus souvent seules (respectivement 79,3 % et 87,2 %), tandis que celles indemnes (28,3 %) et légèrement blessées (22,1 %) sont davantage accompagnées. Les pourcentages en groupe restent faibles dans toutes les catégories, avec des valeurs proches de 4 %, suggérant que l'isolement semble être plus fréquent parmi les victimes d'accidents graves."
   ]
  },
  {
   "cell_type": "code",
   "execution_count": null,
   "metadata": {},
   "outputs": [],
   "source": [
    "def afficher_tableau(data, target_var, other_var):\n",
    "    # Création du croisement\n",
    "    croisement = pd.crosstab(data[target_var], data[other_var], normalize='index') * 100\n",
    "\n",
    "    # Création de la figure pour afficher le tableau\n",
    "    fig, ax = plt.subplots(figsize=(10, 6))\n",
    "    ax.axis('off')  # Masquer les axes\n",
    "    ax.table(cellText=croisement.round(2).values,  # Valeurs arrondies à 2 décimales\n",
    "             colLabels=croisement.columns, \n",
    "             rowLabels=croisement.index, \n",
    "             loc='center', \n",
    "             cellLoc='center', \n",
    "             colLoc='center', \n",
    "             bbox=[0, 0, 1, 1])  # Positionner le tableau\n",
    "\n",
    "    plt.title(f\"Tableau des profils : {target_var} vs {other_var}\")\n",
    "    plt.tight_layout()\n",
    "    print(croisement)\n",
    "    \n",
    "\n"
   ]
  },
  {
   "cell_type": "code",
   "execution_count": null,
   "metadata": {},
   "outputs": [],
   "source": [
    "afficher_tableau(df_merge, \"grav\", \"secu2\")"
   ]
  },
  {
   "cell_type": "code",
   "execution_count": null,
   "metadata": {},
   "outputs": [],
   "source": [
    "obsm_labels = {\n",
    "    -1: \"Non renseigné\",\n",
    "    0: \"Aucun\",\n",
    "    1: \"Piéton\",\n",
    "    2: \"Véhicule\",\n",
    "    4: \"Véhicule sur rail\",\n",
    "    5: \"Animal domestique\",\n",
    "    6: \"Animal sauvage\",\n",
    "    9: \"Autre\"\n",
    "}\n",
    "choc_labels = {\n",
    "    -1: \"Non renseigné\",\n",
    "    0: \"Aucun\",\n",
    "    1: \"Avant\",\n",
    "    2: \"Avant droit\",\n",
    "    3: \"Avant gauche\",\n",
    "    4: \"Arrière\",\n",
    "    5: \"Arrière droit\",\n",
    "    6: \"Arrière gauche\",\n",
    "    7: \"Côté droit\",\n",
    "    8: \"Côté gauche\",\n",
    "    9: \"Chocs multiples (tonneaux)\"\n",
    "}\n",
    "motor_labels = {\n",
    "    -1: \"Non renseigné\",\n",
    "    0: \"Inconnue\",\n",
    "    1: \"Hydrocarbures\",\n",
    "    2: \"Hybride électrique\",\n",
    "    3: \"Electrique\",\n",
    "    4: \"Hydrogène\",\n",
    "    5: \"Humaine\",\n",
    "    6: \"Autre\"\n",
    "}"
   ]
  },
  {
   "cell_type": "code",
   "execution_count": null,
   "metadata": {},
   "outputs": [],
   "source": [
    "df_merge['obsm'] = df_merge['obsm'].replace(obsm_labels)    \n",
    "df_merge['choc'] = df_merge['choc'].replace(choc_labels)  \n",
    "df_merge['motor'] = df_merge['motor'].replace(secu1_labels)\n",
    "\n",
    "variables_to_replace = ['obsm', 'choc', 'motor']\n",
    "for var in variables_to_replace:\n",
    "    df_merge[var] = df_merge[var].replace(\"Non renseigné\", np.nan)"
   ]
  },
  {
   "cell_type": "code",
   "execution_count": null,
   "metadata": {},
   "outputs": [],
   "source": [
    "create_profile_table(df_merge, \"grav\", \"obsm\")"
   ]
  },
  {
   "cell_type": "code",
   "execution_count": null,
   "metadata": {},
   "outputs": [],
   "source": [
    "create_profile_table(df_merge, \"grav\", \"choc\")"
   ]
  },
  {
   "cell_type": "code",
   "execution_count": null,
   "metadata": {},
   "outputs": [],
   "source": [
    "create_profile_table(df_merge, \"grav\", \"motor\") "
   ]
  },
  {
   "cell_type": "code",
   "execution_count": null,
   "metadata": {},
   "outputs": [],
   "source": [
    "# Recodage\n",
    "variables_to_replace = ['grav', 'catu', 'secu1', 'secu2', 'etatp','obsm', 'choc', 'motor']\n",
    "for var in variables_to_replace:\n",
    "    df_merge[var] = df_merge[var].replace(\"Non renseigné\", np.nan)"
   ]
  },
  {
   "cell_type": "code",
   "execution_count": null,
   "metadata": {},
   "outputs": [],
   "source": [
    "#Remapping \n",
    "catu_labels1 = {'Conducteur': 1, 'Passager': 2, 'Piéton': 3}\n",
    "grav_labels1 = {'Indemne': 1, 'Tué': 2, 'Blessé hospitalisé > 24h': 3, 'Blessé léger': 4, 'Non renseigné': -1}\n",
    "secu1_labels1 = {\n",
    "    \"Non renseigné\": -1,\n",
    "    \"Aucun équipement\": 0,\n",
    "    \"Ceinture\": 1,\n",
    "    \"Casque\": 2,\n",
    "    \"Dispositif enfants\": 3,\n",
    "    \"Gilet réfléchissant\": 4,\n",
    "    \"Airbag (2RM/3RM)\": 5,\n",
    "    \"Gants (2RM/3RM)\": 6,\n",
    "    \"Gants + Airbag (2RM/3RM)\": 7,\n",
    "    \"Non déterminable\": 8,\n",
    "    \"Autre\": 9\n",
    "}\n",
    "secu2_labels1 = {\n",
    "    \"Non renseigné\": -1,\n",
    "    \"Aucun équipement\": 0,\n",
    "    \"Ceinture\": 1,\n",
    "    \"Casque\": 2,\n",
    "    \"Dispositif enfants\": 3,\n",
    "    \"Gilet réfléchissant\": 4,\n",
    "    \"Airbag (2RM/3RM)\": 5,\n",
    "    \"Gants (2RM/3RM)\": 6,\n",
    "    \"Gants + Airbag (2RM/3RM)\": 7,\n",
    "    \"Non déterminable\": 8,\n",
    "    \"Autre\": 9\n",
    "}\n",
    "etatp_labels1 = {\n",
    "    'Non renseigné': -1,\n",
    "    'Sans objet': 0,\n",
    "    'Seul': 1,\n",
    "    'Accompagné': 2,\n",
    "    'En groupe': 3\n",
    "}\n",
    "obsm_labels1 = {\n",
    "    \"Non renseigné\": -1,\n",
    "    \"Aucun\": 0,\n",
    "    \"Piéton\": 1,\n",
    "    \"Véhicule\": 2,\n",
    "    \"Véhicule sur rail\": 4,\n",
    "    \"Animal domestique\": 5,\n",
    "    \"Animal sauvage\": 6,\n",
    "    \"Autre\": 9\n",
    "}\n",
    "choc_labels1 = {\n",
    "    \"Non renseigné\": -1,\n",
    "    \"Aucun\": 0,\n",
    "    \"Avant\": 1,\n",
    "    \"Avant droit\": 2,\n",
    "    \"Avant gauche\": 3,\n",
    "    \"Arrière\": 4,\n",
    "    \"Arrière droit\": 5,\n",
    "    \"Arrière gauche\": 6,\n",
    "    \"Côté droit\": 7,\n",
    "    \"Côté gauche\": 8,\n",
    "    \"Chocs multiples (tonneaux)\": 9\n",
    "}\n",
    "motor_labels1 = {\n",
    "    \"Non renseigné\": -1,\n",
    "    \"Inconnue\": 0,\n",
    "    \"Hydrocarbures\": 1,\n",
    "    \"Hybride électrique\": 2,\n",
    "    \"Electrique\": 3,\n",
    "    \"Hydrogène\": 4,\n",
    "    \"Humaine\": 5,\n",
    "    \"Autre\": 6\n",
    "}\n"
   ]
  },
  {
   "cell_type": "code",
   "execution_count": null,
   "metadata": {},
   "outputs": [],
   "source": [
    "df_merge['grav'] = df_merge['grav'].replace(grav_labels1)    \n",
    "df_merge['catu'] = df_merge['catu'].replace(catu_labels1)  \n",
    "df_merge['secu1'] = df_merge['secu1'].replace(secu1_labels1)\n",
    "df_merge['secu2'] = df_merge['secu2'].replace(secu1_labels1)\n",
    "df_merge['etatp'] = df_merge['etatp'].replace(etatp_labels1)\n",
    "df_merge['obsm'] = df_merge['obsm'].replace(obsm_labels1)    \n",
    "df_merge['choc'] = df_merge['choc'].replace(choc_labels1)  \n",
    "df_merge['motor'] = df_merge['motor'].replace(secu1_labels1)"
   ]
  },
  {
   "cell_type": "markdown",
   "metadata": {},
   "source": [
    "Matrice des V de Cramer"
   ]
  },
  {
=======
>>>>>>> 317c5ae74c9613924bd6f0903bea45e50b59cb98
   "cell_type": "code",
   "execution_count": null,
   "metadata": {},
   "outputs": [],
   "source": [
<<<<<<< HEAD
=======
    "# Matrice des V de Cramer\n",
>>>>>>> 317c5ae74c9613924bd6f0903bea45e50b59cb98
    "# Function to calculate Cramer's V\n",
    "def cramers_v(x, y):\n",
    "    confusion_matrix = pd.crosstab(x, y)\n",
    "    chi2 = chi2_contingency(confusion_matrix)[0]\n",
    "    n = confusion_matrix.sum().sum()\n",
    "    phi2 = chi2 / n\n",
    "    r, k = confusion_matrix.shape\n",
    "    return np.sqrt(phi2 / min(k-1, r-1))\n",
    "\n",
    "colonnes_a_inclure = [\"senc\", \"catv\", \"obs\", \"obsm\", \"choc\", \"manv\", \"motor\"]\n",
    "#Créer un DataFrame vide pour la matrice V de Cramer\n",
    "cramers_v_matrix = pd.DataFrame(index=colonnes_a_inclure, columns=colonnes_a_inclure)\n",
    "\n",
    "# Calculer les V de Cramer pour chaque paire de colonnes\n",
    "for col1 in colonnes_a_inclure:\n",
    "    for col2 in colonnes_a_inclure:\n",
    "        cramers_v_matrix.loc[col1, col2] = cramers_v(df_vehicules[col1], df_vehicules[col2])\n",
    "\n",
    "# Convertir la matrice en valeurs numériques\n",
    "cramers_v_matrix = cramers_v_matrix.astype(float)\n",
    "\n",
    "plt.figure(figsize=(10, 8))\n",
    "sns.heatmap(cramers_v_matrix, annot=True, cmap='coolwarm', cbar=True)\n",
    "plt.title(\"Matrice des V de Cramer\")\n",
    "plt.show()"
   ]
  },
  {
   "cell_type": "code",
   "execution_count": null,
   "metadata": {},
   "outputs": [],
   "source": [
<<<<<<< HEAD
    "colonnes_a_inclure1 = [\"grav\",\"sexe\", \"catu\", \"trajet\", \"secu1\", \"secu2\", \"locp\", \"actp\",\"etatp\"]\n",
    "matrice_v_cramer(df_merge,colonnes_a_inclure1)"
   ]
  },
  {
   "cell_type": "markdown",
   "metadata": {},
   "source": [
    "Les relations les plus significatives concernent catu avec locp, actp, et etatp (avec des V de Cramer de 0,69;0,69 et 0,68 respectivement), ce qui reflète la nature interdépendante de ces variables descriptives .Les équipements de sécurité (secu1 et secu2) semblent avoir une influence modérée sur la gravité de l'accident (avec des V de Cramer de 0,26 et 0,17 respectivement) et sont liés entre eux (avec un V de Cramer de0,36).Le sexe influence principalement les choix d’équipement secu1 (avec un V de Cramer de 0,62) mais semble jouer un rôle moindre dans les autres relations."
   ]
  },
  {
   "cell_type": "code",
   "execution_count": null,
   "metadata": {},
   "outputs": [],
   "source": [
    "colonnes_a_inclure2 = [\"grav\",\"senc\", \"catv\", \"obs\", \"obsm\", \"choc\", \"manv\", \"motor\"]\n",
    "matrice_v_cramer(df_merge,colonnes_a_inclure2) "
   ]
  },
  {
   "cell_type": "markdown",
   "metadata": {},
   "source": [
    "Cette matrice des V de Cramer représente la force des associations entre les variables catégoriques nominales de ma base. La matrice des V de Cramer montre que la majorité des relations entre les variables sont faiblement associées (𝑉<0.1), indiquant peu de dépendance entre elles et suggérant que chaque variable apporte des informations distinctes. Une exception notable est l’association modérée entre motor et catv (V=0.49), ce qui suggère que le type de motorisation d’un véhicule est fortement lié à sa catégorie. Une autre relation modérée est observée entre obs et obsm (V=0.29), probablement parce que ces deux variables sont liées à des aspects similaires de l’observation ou de la manœuvre. Ces résultats confirment la pertinence des variables pour une analyse plus approfondie, tout en indiquant que seules quelques-unes sont fortement liées."
=======
    "#Cette matrice des V de Cramer représente la force des associations entre les variables catégoriques nominales de ma base. \n",
    "#La matrice des V de Cramer montre que la majorité des relations entre les variables sont faiblement associées (𝑉<0.1), indiquant \n",
    "# peu de dépendance entre elles et suggérant que chaque variable apporte des informations distinctes. Une exception notable est \n",
    "# l’association modérée entre motor et catv (V=0.53), ce qui suggère que le type de motorisation d’un véhicule est fortement lié à \n",
    "# sa catégorie. Une autre relation modérée est observée entre obs et obsm (V=0.25), probablement parce que ces deux variables sont \n",
    "# liées à des aspects similaires de l’observation ou de la manœuvre. Ces résultats confirment la pertinence des variables pour une \n",
    "# analyse plus approfondie, tout en indiquant que seules quelques-unes sont fortement liées."
>>>>>>> 317c5ae74c9613924bd6f0903bea45e50b59cb98
   ]
  },
  {
   "cell_type": "code",
   "execution_count": null,
   "metadata": {},
   "outputs": [],
   "source": [
    "# ajout du libellé des départements\n",
    "\n",
    "df_code_dep=df_dep[[\"DEP\",\"LIBELLE\"]]\n",
    "#df_code_com=df_com[[\"COM\",\"LIBELLE\"]]\n",
    "df_merge=pd.merge(left=df_merge, right=df_code_dep,left_on=\"dep\", right_on=\"DEP\", how=\"left\")\n",
    "#database=pd.merge(left=df_merge, right=df_code_com,left_on=\"com\", right_on=\"COM\", how=\"left\")\n",
    "database=df_merge.drop([\"DEP\"], axis=1)\n",
    "database.info()"
   ]
  },
  {
   "cell_type": "code",
   "execution_count": null,
   "metadata": {},
   "outputs": [],
   "source": [
    "print(f\"la base usagers a {df_usagers.shape[0]} observations et {df_usagers.shape[1]} variables.\")"
   ]
  },
  {
   "cell_type": "code",
   "execution_count": null,
   "metadata": {},
   "outputs": [],
   "source": [
    "plt.figure(figsize=(12, 4))\n",
    "plt.subplot(1,2,1)\n",
    "grav_dict={-1:\"Non renseigné\",1:'Indemne',2:\"Tué\",3:'Bléssé hospitalisé',4:'Blessé leger'}\n",
    "grav_nv=df_usagers['grav'].replace(grav_dict)\n",
    "grav_prct=(grav_nv.value_counts()/df_usagers.shape[0])*100\n",
    "grav_prct.plot(kind=\"bar\")\n",
    "plt.xticks(rotation=30)\n",
    "plt.xlabel(\"Gravité de l'accident\")\n",
    "plt.ylabel(\"percentage(%)\")\n",
    "\n",
    "plt.subplot(1,2,2)\n",
    "catu_dict={1:\"Conducteur\",2:\"Passager\",3:\"Piéton\"}\n",
    "catu_nv=df_usagers['catu'].replace(catu_dict)\n",
    "catu_prct=(catu_nv.value_counts()/df_usagers.shape[0])*100\n",
    "catu_prct.plot(kind=\"bar\")\n",
    "plt.xticks(rotation=30)\n",
    "plt.xlabel(\"Catégorie d'usager\")\n",
    "plt.ylabel(\"percentage(%)\")\n"
   ]
  },
  {
   "cell_type": "code",
   "execution_count": null,
   "metadata": {},
   "outputs": [],
   "source": [
    "plt.figure(figsize=(12, 4))\n",
    "plt.subplot(1,2,1)\n",
    "sexe_dict={1:\"Homme\",2:\"Femme\"}\n",
    "sexe_nv=df_usagers['sexe'].replace(sexe_dict)\n",
    "sexe_prct=(sexe_nv.value_counts()/df_usagers.shape[0])*100\n",
    "sexe_prct.plot(kind=\"bar\")\n",
    "plt.xticks(rotation=45)\n",
    "plt.xlabel(\"Sexe\")\n",
    "plt.ylabel(\"percentage(%)\")\n",
    "\n",
    "\n",
    "plt.subplot(1,2,2)\n",
    "#grav_dict={-1:\"Non renseigné\",1:'Indemne',2:\"Tué\",3:'Bléssé hospitalisé',4:'Blessé leger'}\n",
    "#grav_nv=df_usagers['grav'].replace(grav_dict)\n",
    "grav_prct=(df_usagers['trajet'].value_counts()/df_usagers.shape[0])*100\n",
    "grav_prct.plot(kind=\"bar\")\n",
    "plt.xticks(rotation=30)\n",
    "plt.xlabel(\"Gravité de l'accident\")\n",
    "plt.ylabel(\"percentage(%)\")\n"
   ]
  },
  {
   "cell_type": "code",
   "execution_count": null,
   "metadata": {},
   "outputs": [],
   "source": [
    "#cration carte\n",
    "import geopandas as gpd"
   ]
  },
  {
   "cell_type": "markdown",
   "metadata": {},
   "source": [
    "### 3)- Description de la base lieux"
   ]
  },
  {
   "cell_type": "markdown",
   "metadata": {},
   "source": [
    "La base des lieux est constituée de la variable d'identification qui donne le numéro de l'accident, car l'accident a lieu dans un endroit précis, ainsi que des variables catégorielles qui caractérisent le lieu de l'accident telles que la catégorie de la route, l'infrastructure de la route, le regime de circulation, etc. Aussi, il y a des variables continues telles que le nombre de voie de la circulation sur la route, la vitesse maximale, etc."
   ]
  },
  {
   "cell_type": "code",
   "execution_count": null,
   "metadata": {},
   "outputs": [],
   "source": [
    "df_lieux.info()"
   ]
  },
  {
   "cell_type": "code",
   "execution_count": null,
   "metadata": {},
   "outputs": [],
   "source": [
    "Déterminons les variables qui ont les valeurs manquantes:"
   ]
  },
  {
   "cell_type": "code",
   "execution_count": null,
   "metadata": {},
   "outputs": [],
   "source": [
    "# analyser les valeurs manquantes\n",
    "df_lieux.isna().sum()[df_lieux.isna().sum()!=0]/len(df_lieux)*100"
   ]
  },
  {
   "cell_type": "markdown",
   "metadata": {},
   "source": [
    "Trois variables ont des valeurs manquantes, il s'agit des variables qui donne le numéro de la route, lettre indice alphanumérique de la route, et la largeur du terre plain central. Nous allons les supprimer de la base car elles n'apportent pas d'informations."
   ]
  },
  {
   "cell_type": "code",
   "execution_count": null,
   "metadata": {},
   "outputs": [],
   "source": [
    "df_merge.drop([\"voie\",\"lartpc\",\"v2\"], axis=1, inplace=True)"
   ]
  },
  {
   "cell_type": "markdown",
   "metadata": {},
   "source": [
    "Les variables \"pr1\" (distance en mètres au PR (par rapport à la borne amont), \"larrout\" (Largeur de la chaussée affectée à la circulation des véhicules ne sont pas compris les bandes d'arrêt \n",
    "d'urgence, les TPC et les places de stationnement (en m)), \"nbv\" (Nombre voies de la circulation) sont des variables continues. Mais apparaissent comme des variables de type object. Nous allons corriger cela."
   ]
  },
  {
   "cell_type": "code",
   "execution_count": null,
   "metadata": {},
   "outputs": [],
   "source": [
    "def replace_pr(val):\n",
    "    if len(val.split())==1:\n",
    "        val=val\n",
    "    else:\n",
    "        if len(val.split())>1:\n",
    "            val=val.split()[1]\n",
    "        else:\n",
    "            val=\"-1\"\n",
    "    return val\n",
    "df_merge[\"pr1\"]=df_merge[\"pr1\"].apply(func=replace_pr)\n",
    "df_merge[\"pr1\"]=df_merge[\"pr1\"].astype(float)\n",
    "def rep_virgule(val):\n",
    "    val=val.replace(\",\",\".\")\n",
    "    return val\n",
    "df_merge[\"larrout\"]=df_merge[\"larrout\"].apply(rep_virgule)\n",
    "df_merge[\"larrout\"]=df_merge[\"larrout\"].astype(float)\n",
    "df_merge[\"nbv\"]=df_merge[\"nbv\"].str.strip()\n",
    "df_merge[\"nbv\"]=df_merge[\"nbv\"].replace(\"#VALEURMULTI\",\"-1\")\n",
    "df_merge[\"nbv\"]=df_merge[\"nbv\"].astype(float)"
   ]
  },
  {
   "cell_type": "code",
   "execution_count": null,
   "metadata": {},
   "outputs": [],
   "source": [
    "catr_labels = {\n",
    "    1: \"Autoroute\",\n",
    "    2: \"Route nationale\",\n",
    "    3: \"Route départementale\",\n",
    "    4: \"Voie communale\",\n",
    "    5: \"Hors réseau public\",\n",
    "    6: \"Parc de stationnement\",\n",
    "    7: \"Routes de métropole urbaine\",\n",
    "    9: \"Autre\"\n",
    "}\n",
    "\n",
    "circ_labels = {\n",
    "    -1: \"Non renseigné\",\n",
    "    1: \"À sens unique\",\n",
    "    2: \"Bidirectionnelle\",\n",
    "    3: \"À chaussées séparées\",\n",
    "    4: \"Avec voies d’affectation variable\"\n",
    "}\n",
    "\n",
    "vosp_labels = {\n",
    "    -1: \"Non renseigné\",\n",
    "    0: \"Sans objet\",\n",
    "    1: \"Piste cyclable\",\n",
    "    2: \"Bande cyclable\",\n",
    "    3: \"Voie réservée\"\n",
    "}\n",
    "\n",
    "prof_labels = {\n",
    "    -1: \"Non renseigné\",\n",
    "    1: \"Plat\",\n",
    "    2: \"Pente\",\n",
    "    3: \"Sommet de côte\",\n",
    "    4: \"Bas de côte\"\n",
    "}\n",
    "\n",
    "plan_labels = {\n",
    "    -1: \"Non renseigné\",\n",
    "    1: \"Partie rectiligne\",\n",
    "    2: \"En courbe à gauche\",\n",
    "    3: \"En courbe à droite\",\n",
    "    4: \"En 'S'\"\n",
    "}\n",
    "\n",
    "surf_labels = {\n",
    "    -1: \"Non renseigné\",\n",
    "    1: \"Normale\",\n",
    "    2: \"Mouillée\",\n",
    "    3: \"Flaques\",\n",
    "    4: \"Inondée\",\n",
    "    5: \"Enneigée\",\n",
    "    6: \"Boue\",\n",
    "    7: \"Verglacée\",\n",
    "    8: \"Corps gras – huile\",\n",
    "    9: \"Autre\"\n",
    "}\n",
    "\n",
    "infra_labels = {\n",
    "    -1: \"Non renseigné\",\n",
    "    0: \"Aucun\",\n",
    "    1: \"Souterrain - tunnel\",\n",
    "    2: \"Pont - autopont\",\n",
    "    3: \"Bretelle d’échangeur\",\n",
    "    4: \"Voie ferrée\",\n",
    "    5: \"Carrefour aménagé\",\n",
    "    6: \"Zone piétonne\",\n",
    "    7: \"Zone de péage\",\n",
    "    8: \"Chantier\",\n",
    "    9: \"Autres\"\n",
    "}\n",
    "\n",
    "situ_labels = {\n",
    "    -1: \"Non renseigné\",\n",
    "    0: \"Aucun\",\n",
    "    1: \"Sur chaussée\",\n",
    "    2: \"Sur bande d’arrêt d’urgence\",\n",
    "    3: \"Sur accotement\",\n",
    "    4: \"Sur trottoir\",\n",
    "    5: \"Sur piste cyclable\",\n",
    "    6: \"Sur autre voie spéciale\",\n",
    "    8: \"Autres\"\n",
    "}\n"
   ]
  },
  {
   "cell_type": "code",
   "execution_count": null,
   "metadata": {},
   "outputs": [],
   "source": [
    "# Comptage des occurrences par catégorie de route\n",
    "catr_counts = df_lieux['catr'].value_counts().sort_index()\n",
    "\n",
    "# Remplacement des codes par les labels pour l'affichage\n",
    "catr_counts.index = catr_counts.index.map(catr_labels)\n",
    "\n",
    "# Création du diagramme\n",
    "plt.figure(figsize=(10, 6))\n",
    "catr_counts.plot(kind='bar', color='skyblue', edgecolor='black')\n",
    "plt.title(\"Nombre d'accidents par type de route (catr)\")\n",
    "plt.xlabel(\"Type de route\")\n",
    "plt.ylabel(\"Nombre d'accidents\")\n",
    "plt.xticks(rotation=45)\n",
    "plt.tight_layout()\n",
    "\n",
    "# Affichage du graphique\n",
    "plt.show()"
   ]
  },
  {
   "cell_type": "markdown",
   "metadata": {},
   "source": [
    "### 3)- Description de la base Caract"
   ]
  },
  {
   "cell_type": "markdown",
   "metadata": {},
   "source": [
    "La base est constituée de variables catégorielles comme la nature de l'intersection, les conditions atmosphérique, ainsi que des variables continues telles que la longitude et la latitude."
   ]
  },
  {
   "cell_type": "code",
   "execution_count": null,
   "metadata": {},
   "outputs": [],
   "source": [
    "df_caract.info()"
   ]
  },
  {
   "cell_type": "markdown",
   "metadata": {},
   "source": [
    "Déterminons les variables qui ont des valeurs manquantes:"
   ]
  },
  {
   "cell_type": "code",
   "execution_count": null,
   "metadata": {},
   "outputs": [],
   "source": [
    "# analyser les valeurs manquantes\n",
    "df_caract.isna().sum()[df_caract.isna().sum()!=0]/len(df_caract)*100"
   ]
  },
  {
   "cell_type": "markdown",
   "metadata": {},
   "source": [
    "Seule la variable qui donne les adresses postales contient des valeurs manquantes. Ce n'est pas une variable importante pour les analyses.\n",
    "\n",
    "On constate que les variables longitude et latitude apparaissent comme des variables de type object alors qu\"elles ne le sont pas.  "
   ]
  },
  {
   "cell_type": "code",
   "execution_count": null,
   "metadata": {},
   "outputs": [],
   "source": [
    "# Remplacer les virgules par des points et convertir en float\n",
    "df_caract['lat'] = df_caract['lat'].str.replace(',', '.').astype(float)\n",
    "df_caract['long'] = df_caract['long'].str.replace(',', '.').astype(float)"
   ]
  },
  {
   "cell_type": "code",
   "execution_count": null,
   "metadata": {},
   "outputs": [],
   "source": [
    "lum_labels = {\n",
    "    1: \"Plein jour\",\n",
    "    2: \"Crépuscule ou aube\",\n",
    "    3: \"Nuit sans éclairage public\",\n",
    "    4: \"Nuit avec éclairage public non allumé\",\n",
    "    5: \"Nuit avec éclairage public allumé\"\n",
    "}\n",
    "\n",
    "agg_labels = {\n",
    "    1: \"Hors agglomération\",\n",
    "    2: \"En agglomération\"\n",
    "}\n",
    "\n",
    "int_labels = {\n",
    "    1: \"Hors intersection\",\n",
    "    2: \"Intersection en X\",\n",
    "    3: \"Intersection en T\",\n",
    "    4: \"Intersection en Y\",\n",
    "    5: \"Intersection à plus de 4 branches\",\n",
    "    6: \"Giratoire\",\n",
    "    7: \"Place\",\n",
    "    8: \"Passage à niveau\",\n",
    "    9: \"Autre intersection\"\n",
    "}\n",
    "\n",
    "atm_labels = {\n",
    "    -1: \"Non renseigné\",\n",
    "    1: \"Normale\",\n",
    "    2: \"Pluie légère\",\n",
    "    3: \"Pluie forte\",\n",
    "    4: \"Neige - grêle\",\n",
    "    5: \"Brouillard - fumée\",\n",
    "    6: \"Vent fort - tempête\",\n",
    "    7: \"Temps éblouissant\",\n",
    "    8: \"Temps couvert\",\n",
    "    9: \"Autre\"\n",
    "}\n",
    "\n",
    "col_labels = {\n",
    "    -1: \"Non renseigné\",\n",
    "    1: \"Deux véhicules - frontale\",\n",
    "    2: \"Deux véhicules – par l’arrière\",\n",
    "    3: \"Deux véhicules – par le côté\",\n",
    "    4: \"Trois véhicules et plus – en chaîne\",\n",
    "    5: \"Trois véhicules et plus - collisions multiples\",\n",
    "    6: \"Autre collision\",\n",
    "    7: \"Sans collision\"\n",
    "}\n"
   ]
  },
  {
   "cell_type": "code",
   "execution_count": null,
   "metadata": {},
   "outputs": [],
   "source": [
    "# Calcul des pourcentages d'accidents par mois\n",
    "mois_counts = df_caract['mois'].value_counts(normalize=True).sort_index() * 100\n",
    "\n",
    "# Création du diagramme avec pourcentages\n",
    "plt.figure(figsize=(10, 6))\n",
    "mois_counts.plot(kind='bar', color='lightcoral', edgecolor='black')\n",
    "plt.title(\"Pourcentage d'accidents par mois\")\n",
    "plt.xlabel(\"Mois\")\n",
    "plt.ylabel(\"Pourcentage d'accidents\")\n",
    "plt.xticks(ticks=range(len(mois_counts)), labels=[\n",
    "    \"Janvier\", \"Février\", \"Mars\", \"Avril\", \"Mai\", \"Juin\", \n",
    "    \"Juillet\", \"Août\", \"Septembre\", \"Octobre\", \"Novembre\", \"Décembre\"\n",
    "], rotation=45)\n",
    "plt.gca().yaxis.set_major_formatter(plt.FuncFormatter(lambda y, _: f'{y:.0f}%'))\n",
    "plt.tight_layout()\n",
    "\n",
    "# Affichage du graphique\n",
    "plt.show()"
   ]
  },
  {
   "cell_type": "code",
   "execution_count": null,
   "metadata": {},
   "outputs": [],
   "source": [
    "# Filtrer les données pour le mois d'octobre (mois = 10)\n",
    "octobre_data = df_caract[df_caract['mois'] == 10]\n",
    "\n",
    "# Croiser les accidents d'octobre avec les conditions atmosphériques (atm)\n",
    "atm_counts = octobre_data['atm'].value_counts().sort_index()\n",
    "\n",
    "# Remplacer les codes par leurs labels pour l'affichage\n",
    "atm_counts.index = atm_counts.index.map(atm_labels)\n",
    "\n",
    "# Création du diagramme\n",
    "plt.figure(figsize=(10, 6))\n",
    "atm_counts.plot(kind='bar', color='steelblue', edgecolor='black')\n",
    "plt.title(\"Nombre d'accidents en octobre par conditions atmosphériques (atm)\")\n",
    "plt.xlabel(\"Conditions atmosphériques\")\n",
    "plt.ylabel(\"Nombre d'accidents\")\n",
    "plt.xticks(rotation=45)\n",
    "plt.tight_layout()\n",
    "\n",
    "# Affichage du graphique\n",
    "plt.show()"
   ]
  },
  {
   "cell_type": "code",
   "execution_count": null,
   "metadata": {},
   "outputs": [],
   "source": [
    "accidents_par_departement = df_caract.groupby('dep').size().reset_index(name='nombre_accidents')\n",
    "accidents_par_departement.head()"
   ]
  },
  {
   "cell_type": "code",
   "execution_count": null,
   "metadata": {},
   "outputs": [],
   "source": [
    "france_map = gpd.read_file(\"https://france-geojson.gregoiredavid.fr/repo/departements.geojson\")\n",
    "france_map = france_map.merge(accidents_par_departement, left_on=\"code\", right_on=\"dep\")\n",
    "fig, ax = plt.subplots(1, 1, figsize=(10, 10))\n",
    "france_map.plot(column=\"nombre_accidents\", cmap=\"OrRd\", linewidth=0.8, ax=ax, edgecolor=\"0.8\", legend=True)\n",
    "\n",
    "plt.title(\"Nombre d'accidents de la route par département\")\n",
    "plt.axis(\"off\")\n",
    "plt.show()#i"
   ]
  },
  {
   "cell_type": "code",
   "execution_count": null,
   "metadata": {},
   "outputs": [],
   "source": [
    "dep_IDF = [\"75\", \"77\", \"78\", \"91\", \"92\", \"93\", \"94\", \"95\"]\n",
    "accidents_idf = df_caract[df_caract['dep'].isin(dep_IDF)]\n",
    "\n",
    "# Remplacer les virgules par des points et convertir en float\n",
    "accidents_idf['lat'] = accidents_idf['lat'].str.replace(',', '.').astype(float)\n",
    "accidents_idf['long'] = accidents_idf['long'].str.replace(',', '.').astype(float)\n",
    "\n",
    "accidents_idf.head()"
   ]
  },
  {
   "cell_type": "code",
   "execution_count": null,
   "metadata": {},
   "outputs": [],
   "source": [
    "import folium\n",
    "from folium.plugins import HeatMap\n",
    "\n",
    "accidents_coords = accidents_idf[['lat', 'long']].dropna()\n",
    "\n",
    "# Initialiser la carte centrée sur l'Île-de-France\n",
    "map_idf = folium.Map(location=[48.8566, 2.3522], zoom_start=10)\n",
    "\n",
    "# Ajouter la carte de densité\n",
    "HeatMap(\n",
    "    data=accidents_coords.values,\n",
    "    radius=10,               \n",
    "    blur=15,                 \n",
    "    max_zoom=10,             \n",
    "    min_opacity=0.2,         \n",
    "    gradient={               \n",
    "        0.2: 'blue',\n",
    "        0.4: 'lime',\n",
    "        0.6: 'yellow',\n",
    "        0.8: 'orange',\n",
    "        1.0: 'red'\n",
    "    }\n",
    ").add_to(map_idf)\n",
    "\n",
    "# Afficher la carte\n",
    "map_idf"
   ]
  },
  {
   "cell_type": "markdown",
   "metadata": {},
   "source": [
    "## **II- Relation variables-target**"
   ]
  },
  {
   "cell_type": "code",
   "execution_count": null,
   "metadata": {},
   "outputs": [],
   "source": [
    "# la variable qui impacte le niveau de gravité différencie lorsque l'on aggrege ou non"
   ]
  },
  {
   "cell_type": "markdown",
   "metadata": {},
   "source": [
    "## **III- Modélisation**"
   ]
  },
  {
   "cell_type": "markdown",
   "metadata": {},
   "source": [
    "### 1- Construction de la base de données pour la modélisation"
   ]
  },
  {
   "cell_type": "markdown",
   "metadata": {},
   "source": [
    "De l'analyse descriptive, les variables qui semblent avoir plus d'influence sur la gravité de l'accident sont: la catégorie du véhicule, l'obstacle fixe heurté, la manoeuvre utilisé, l'agglomération, la catégorie d'usager et l'équipement de sécurité.\n",
    "\n",
    "On restreint la base de données à ces variables."
   ]
  },
  {
   "cell_type": "code",
   "execution_count": null,
   "metadata": {},
   "outputs": [],
   "source": [
    "df_model=df_merge.drop(['id_usager', 'id_vehicule', 'num_veh', 'place', 'sexe', 'an_nais', 'trajet', 'secu2', 'secu3', 'locp',\n",
    "       'actp', 'etatp', 'senc', 'choc', 'motor',\n",
    "       'occutc', 'voie', 'v1', 'v2', 'circ', 'nbv', 'vosp', 'prof',\n",
    "       'pr', 'pr1', 'plan', 'lartpc', 'larrout', 'surf', 'infra',\n",
    "       'vma', 'jour', 'mois', 'an', 'hrmn', 'lum', 'dep', 'com', 'int',\n",
    "       'atm', 'adr', 'lat', 'long'], axis=1)"
   ]
  },
  {
   "cell_type": "markdown",
   "metadata": {},
   "source": [
    "On caractérise le niveau d'accident par le niveau le plus haut. En effet, dans un accident, il peut y avoir plusieurs niveaux de gravité car celui-ci depend de chaque individu impliqué dans l'accident. Pour que l'on puisse définir un niveau de gravité à l'échelle de chaque accident et non de l'usager, on caractérise le niveau de l'accident par le niveau de gravité maximale des dommages subit par les personnes impliqués dans l'accident.\n",
    "\n",
    "Néamoins étant donné que cette procédure va engendré une perte d'information à l'échelle individuelle, nous allons créé deux bases de modélisation. Nous nous permettons de faire cela car notre but ici est plus explicatif et pas prédictif.\n"
   ]
  },
  {
   "cell_type": "code",
   "execution_count": null,
   "metadata": {},
   "outputs": [],
   "source": [
    "df_model1=df_model[[\"secu1\",\"catu\",\"grav\"]]\n",
    "df_model2=df_model.drop([\"secu1\",\"catu\"], axis=1)"
   ]
  },
  {
   "cell_type": "code",
   "execution_count": null,
   "metadata": {},
   "outputs": [],
   "source": [
    "#On caractérise chaque accident par le niveau de gravité le plus haut\n",
    "#df_model[\"Num_Acc\"]=Num_acc\n",
    "import numpy as np\n",
    "id_acc=df_model2[\"Num_Acc\"].unique()\n",
    "index_true=[]\n",
    "for i in id_acc:\n",
    "    df_id=df_model2[df_model2[\"Num_Acc\"]==i]\n",
    "    n_grav=np.max(df_id[\"grav\"])\n",
    "    index=df_model2[(df_model2[\"Num_Acc\"]==i) & (df_model2[\"grav\"]==n_grav)].index[0]\n",
    "    #if len(index)!=0:\n",
    "    #df_merge.drop(index=index, inplace=True)\n",
    "    index_true.append(index)\n",
    "        \n",
    "df_model2.drop([\"Num_Acc\"], axis=1, inplace=True)"
   ]
  },
  {
   "cell_type": "code",
   "execution_count": null,
   "metadata": {},
   "outputs": [],
   "source": [
    "# Niveau de gravité de l'accident présente dans la nouvelle base\n",
    "df_model2=df_model2.loc[index_true]\n",
    "df_model2[\"grav\"].value_counts()"
   ]
  },
  {
   "cell_type": "markdown",
   "metadata": {},
   "source": [
    "Dans les accidents enregistrés, aucun n'a laisser toutes les personnes impliquées indemnes.\n",
    "\n",
    "On recode la variable \"gravité\" par: \n",
    "- 2: niveau de gravité **grave** (2)\n",
    "- 3: niveau de gravité **moyen** (1)\n",
    "- 4: niveau de gravité **faible** (0)"
   ]
  },
  {
   "cell_type": "code",
   "execution_count": null,
   "metadata": {},
   "outputs": [],
   "source": [
    "#recodage de la gravité de l'accident\n",
    "df_model2[\"grav\"]=df_model2[\"grav\"].replace([3,4], value=[1,0])\n",
    "\n",
    "# supression des valeurs non renseigner\n",
    "df_model2=df_model2[df_model2[\"grav\"]!=-1]\n",
    "df_model1=df_model1[df_model1[\"grav\"]!=-1]\n",
    "# distribution de la gravité\n",
    "df_model2[\"grav\"].value_counts()/df_model2.shape[0]*100"
   ]
  },
  {
   "cell_type": "code",
   "execution_count": null,
   "metadata": {},
   "outputs": [],
   "source": [
    "Par la suite, nous allons recoder "
   ]
  },
  {
   "cell_type": "code",
   "execution_count": null,
   "metadata": {},
   "outputs": [],
   "source": [
    "for column in df_model1.columns:\n",
    "    df_model1[column] = df_model1[column].replace(-1, np.nan)\n",
    "\n",
    "for column in df_model2.columns:\n",
    "    df_model2[column] = df_model2[column].replace(-1, np.nan)\n"
   ]
  },
  {
   "cell_type": "code",
   "execution_count": null,
   "metadata": {},
   "outputs": [],
   "source": [
    "#1: Sans changement de direction\n",
    "#11: changeant de file\n",
    "#13: déporté\n",
    "#15: tournant\n",
    "#17: dépassant\n",
    "#19: divers\n",
    "df_model[\"manv\"] = df_model[\"manv\"].replace(2,value=1)\n",
    "df_model[\"manv\"] = df_model[\"manv\"].replace(12,value=11)\n",
    "df_model[\"manv\"] = df_model[\"manv\"].replace(14,value=13)\n",
    "df_model[\"manv\"] = df_model[\"manv\"].replace(16,value=15)\n",
    "df_model[\"manv\"] = df_model[\"manv\"].replace(18,value=17)\n",
    "df_model[\"manv\"] = df_model[\"manv\"].replace([20,21,22,23,24,25,26],value=19)"
   ]
  },
  {
   "cell_type": "code",
   "execution_count": null,
   "metadata": {},
   "outputs": [],
   "source": [
    "#3: glissière\n",
    "#12: Bordure de trottoir et autres éléments sur le trottoir\n",
    "#7: Elements de sécurité routière\n",
    "#6: construction\n",
    "#14: bordure de chaussée et autres sur la chaussée\n",
    "df_model[\"obs\"] = df_model[\"obs\"].replace([4,5],value=3)\n",
    "df_model[\"obs\"] = df_model[\"obs\"].replace(15,value=12)\n",
    "df_model[\"obs\"] = df_model[\"obs\"].replace([8,11],value=7)\n",
    "df_model[\"obs\"] = df_model[\"obs\"].replace(10,value=6)\n",
    "df_model[\"obs\"] = df_model[\"obs\"].replace(16,value=14)"
   ]
  },
  {
   "cell_type": "code",
   "execution_count": null,
   "metadata": {},
   "outputs": [],
   "source": [
    "#1: véhicules à deux roues\n",
    "#2: quadricycle\n",
    "#3: engin lourd\n",
    "#4: véhicule léger\n",
    "#5: véhicule utilitaire\n",
    "#7: tracteur routier\n",
    "#8: transport en commun\n",
    "#9: 3RM\n",
    "#10: EDP\n",
    "df_model[\"catv\"] = df_model[\"catv\"].replace([4,30,32,2,5,31,33,34],value=1)\n",
    "df_model[\"catv\"] = df_model[\"catv\"].replace([36,35,3, 13,14,15],value=2)\n",
    "df_model[\"catv\"] = df_model[\"catv\"].replace([16,17,20,21],value=3)\n",
    "df_model[\"catv\"] = df_model[\"catv\"].replace([7,8,9],value=4)\n",
    "df_model[\"catv\"] = df_model[\"catv\"].replace([10,11,12],value=5)\n",
    "df_model[\"catv\"] = df_model[\"catv\"].replace([16,17],value=7)\n",
    "df_model[\"catv\"] = df_model[\"catv\"].replace([18,37,39,19,40,38],value=8)\n",
    "df_model[\"catv\"] = df_model[\"catv\"].replace([41,42,43],value=9)\n",
    "df_model[\"catv\"] = df_model[\"catv\"].replace([50,60],value=10)"
   ]
  },
  {
   "cell_type": "markdown",
   "metadata": {},
   "source": [
    "#### Selection de variables"
   ]
  },
  {
   "cell_type": "code",
   "execution_count": null,
   "metadata": {},
   "outputs": [],
   "source": [
    "lasso_x1=df_model1.drop([\"grav\"],axis=1)\n",
    "lasso_y1=df_model1[\"grav\"]\n",
    "\n",
    "lasso_x2=df_model2.drop([\"grav\"],axis=1)\n",
    "lasso_y2=df_model2[\"grav\"]  \n",
    "\n",
    "categorical_pipeline = Pipeline(\n",
    "    steps=[\n",
    "        (\"impute\", SimpleImputer(strategy=\"most_frequent\")),\n",
    "        (\"one-hot\", OneHotEncoder(handle_unknown=\"ignore\", sparse_output=False)),\n",
    "    ]\n",
    ")\n",
    "\n",
    "base1=categorical_pipeline.fit_transform(lasso_x1)\n",
    "data1=pd.DataFrame(data=base1, columns=categorical_pipeline.get_feature_names_out())\n",
    "\n",
    "base2=categorical_pipeline.fit_transform(lasso_x2)\n",
    "data2=pd.DataFrame(data=base2, columns=categorical_pipeline.get_feature_names_out())\n",
    "\n",
    "my_alphas = np.array([0.001, 0.01, 0.02, 0.025])\n"
   ]
  },
  {
   "cell_type": "code",
   "execution_count": null,
   "metadata": {},
   "outputs": [],
   "source": [
    "lcv = LassoCV(alphas=my_alphas, fit_intercept=False, random_state=0, cv=3).fit(\n",
    "    data1, lasso_y1)\n",
    "print(\"alpha optimal :\", lcv.alpha_)    ²"
   ]
  },
  {
   "cell_type": "code",
   "execution_count": null,
   "metadata": {},
   "outputs": [],
   "source": [
    "lcv = LassoCV(alphas=my_alphas, fit_intercept=False, random_state=0, cv=3).fit(\n",
    "    data2, lasso_y2)\n",
    "print(\"alpha optimal :\", lcv.alpha_)"
   ]
  },
  {
   "cell_type": "markdown",
   "metadata": {},
   "source": [
    "## **Conclusion**"
   ]
  }
 ],
 "metadata": {
  "kernelspec": {
   "display_name": "base",
   "language": "python",
   "name": "python3"
  },
  "language_info": {
   "codemirror_mode": {
    "name": "ipython",
    "version": 3
   },
   "file_extension": ".py",
   "mimetype": "text/x-python",
   "name": "python",
   "nbconvert_exporter": "python",
   "pygments_lexer": "ipython3",
   "version": "3.12.7"
  }
 },
 "nbformat": 4,
 "nbformat_minor": 2
}
