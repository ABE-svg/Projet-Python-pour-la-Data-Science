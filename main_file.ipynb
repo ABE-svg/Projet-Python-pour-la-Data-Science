{
 "cells": [
  {
   "cell_type": "markdown",
   "metadata": {},
   "source": [
    "# **Projet python pour la data science / 2024-2025**"
   ]
  },
  {
   "cell_type": "markdown",
   "metadata": {},
   "source": [
    "Rédigé par:\n",
    "* ABE Kevin\n",
    "* DEMGNE Lisa\n",
    "* ZAIDAN Oscar"
   ]
  },
  {
   "cell_type": "markdown",
   "metadata": {},
   "source": [
    "## **Introduction**"
   ]
  },
  {
   "cell_type": "markdown",
   "metadata": {},
   "source": [
    "   Un accident de la route ou accident de la circulation est entendu comme une collision non voulue, non prévue et mal anticipée d'au moins un engin roulant avec une chose, un animal ou une personne sur une voie publique ou privée ouverte à la circulation.Ils constituent un véritable fléau mondial, causant chaque année des milliers de morts et de blessés. Ces tragédies bouleversent des vies et ont un impact considérable sur la société. En France, la lutte contre ce phénomène est prise en charge au niveau national par la délégation à la sécurité routière, qui se sert des éclairages fourni par un document d'information édité annuellement par l'ONISR (Observatoire National Interministériel de la Sécurité Routière) faisant la synthèse des principales données de l'accidentologie.\n",
    "\n",
    "Nous nous intéresserons dans le cadre de ce projet à la description de l'accidentologie en France en 2023, ainsi qu'a la prédiction du niveau de gravité d'un accident. Ainsi, ce projet se donne de renseigner sur la fréquence des accidents, le profil des victimes, les caractéristiques des véhicules impliqués, les conditions météorologiques,... et ainsi que les facteurs succeptibles d'influencer le niveau de gravité d'un accident."
   ]
  },
  {
   "cell_type": "code",
<<<<<<< HEAD
   "execution_count": 61,
=======
   "execution_count": null,
>>>>>>> c12b8e6454b21ae829c5864cd30e82adc7163348
   "metadata": {},
   "outputs": [],
   "source": [
    "import warnings\n",
    "warnings.filterwarnings(\"ignore\", category=FutureWarning)"
   ]
  },
  {
   "cell_type": "code",
<<<<<<< HEAD
   "execution_count": 62,
   "metadata": {},
   "outputs": [
    {
     "name": "stdout",
     "output_type": "stream",
     "text": [
      "Requirement already satisfied: requests in /opt/conda/lib/python3.12/site-packages (2.32.3)\n",
      "Requirement already satisfied: charset_normalizer<4,>=2 in /opt/conda/lib/python3.12/site-packages (from requests) (3.4.0)\n",
      "Requirement already satisfied: idna<4,>=2.5 in /opt/conda/lib/python3.12/site-packages (from requests) (3.10)\n",
      "Requirement already satisfied: urllib3<3,>=1.21.1 in /opt/conda/lib/python3.12/site-packages (from requests) (2.2.3)\n",
      "Requirement already satisfied: certifi>=2017.4.17 in /opt/conda/lib/python3.12/site-packages (from requests) (2024.12.14)\n",
      "\u001b[31mERROR: Could not find a version that satisfies the requirement os (from versions: none)\u001b[0m\u001b[31m\n",
      "\u001b[0m\u001b[31mERROR: No matching distribution found for os\u001b[0m\u001b[31m\n",
      "\u001b[0mRequirement already satisfied: matplotlib in /opt/conda/lib/python3.12/site-packages (3.10.0)\n",
      "Requirement already satisfied: contourpy>=1.0.1 in /opt/conda/lib/python3.12/site-packages (from matplotlib) (1.3.1)\n",
      "Requirement already satisfied: cycler>=0.10 in /opt/conda/lib/python3.12/site-packages (from matplotlib) (0.12.1)\n",
      "Requirement already satisfied: fonttools>=4.22.0 in /opt/conda/lib/python3.12/site-packages (from matplotlib) (4.55.3)\n",
      "Requirement already satisfied: kiwisolver>=1.3.1 in /opt/conda/lib/python3.12/site-packages (from matplotlib) (1.4.7)\n",
      "Requirement already satisfied: numpy>=1.23 in /opt/conda/lib/python3.12/site-packages (from matplotlib) (2.2.1)\n",
      "Requirement already satisfied: packaging>=20.0 in /opt/conda/lib/python3.12/site-packages (from matplotlib) (24.2)\n",
      "Requirement already satisfied: pillow>=8 in /opt/conda/lib/python3.12/site-packages (from matplotlib) (11.0.0)\n",
      "Requirement already satisfied: pyparsing>=2.3.1 in /opt/conda/lib/python3.12/site-packages (from matplotlib) (3.2.0)\n",
      "Requirement already satisfied: python-dateutil>=2.7 in /opt/conda/lib/python3.12/site-packages (from matplotlib) (2.9.0.post0)\n",
      "Requirement already satisfied: six>=1.5 in /opt/conda/lib/python3.12/site-packages (from python-dateutil>=2.7->matplotlib) (1.17.0)\n",
      "Requirement already satisfied: pandas in /opt/conda/lib/python3.12/site-packages (2.2.3)\n",
      "Requirement already satisfied: numpy>=1.26.0 in /opt/conda/lib/python3.12/site-packages (from pandas) (2.2.1)\n",
      "Requirement already satisfied: python-dateutil>=2.8.2 in /opt/conda/lib/python3.12/site-packages (from pandas) (2.9.0.post0)\n",
      "Requirement already satisfied: pytz>=2020.1 in /opt/conda/lib/python3.12/site-packages (from pandas) (2024.1)\n",
      "Requirement already satisfied: tzdata>=2022.7 in /opt/conda/lib/python3.12/site-packages (from pandas) (2024.2)\n",
      "Requirement already satisfied: six>=1.5 in /opt/conda/lib/python3.12/site-packages (from python-dateutil>=2.8.2->pandas) (1.17.0)\n",
      "Requirement already satisfied: plotly in /opt/conda/lib/python3.12/site-packages (5.24.1)\n",
      "Requirement already satisfied: tenacity>=6.2.0 in /opt/conda/lib/python3.12/site-packages (from plotly) (9.0.0)\n",
      "Requirement already satisfied: packaging in /opt/conda/lib/python3.12/site-packages (from plotly) (24.2)\n",
      "Requirement already satisfied: plotly in /opt/conda/lib/python3.12/site-packages (5.24.1)\n",
      "Requirement already satisfied: tenacity>=6.2.0 in /opt/conda/lib/python3.12/site-packages (from plotly) (9.0.0)\n",
      "Requirement already satisfied: packaging in /opt/conda/lib/python3.12/site-packages (from plotly) (24.2)\n",
      "\u001b[31mERROR: Could not find a version that satisfies the requirement io (from versions: none)\u001b[0m\u001b[31m\n",
      "\u001b[0m\u001b[31mERROR: No matching distribution found for io\u001b[0m\u001b[31m\n",
      "\u001b[0mRequirement already satisfied: seaborn in /opt/conda/lib/python3.12/site-packages (0.13.2)\n",
      "Requirement already satisfied: numpy!=1.24.0,>=1.20 in /opt/conda/lib/python3.12/site-packages (from seaborn) (2.2.1)\n",
      "Requirement already satisfied: pandas>=1.2 in /opt/conda/lib/python3.12/site-packages (from seaborn) (2.2.3)\n",
      "Requirement already satisfied: matplotlib!=3.6.1,>=3.4 in /opt/conda/lib/python3.12/site-packages (from seaborn) (3.10.0)\n",
      "Requirement already satisfied: contourpy>=1.0.1 in /opt/conda/lib/python3.12/site-packages (from matplotlib!=3.6.1,>=3.4->seaborn) (1.3.1)\n",
      "Requirement already satisfied: cycler>=0.10 in /opt/conda/lib/python3.12/site-packages (from matplotlib!=3.6.1,>=3.4->seaborn) (0.12.1)\n",
      "Requirement already satisfied: fonttools>=4.22.0 in /opt/conda/lib/python3.12/site-packages (from matplotlib!=3.6.1,>=3.4->seaborn) (4.55.3)\n",
      "Requirement already satisfied: kiwisolver>=1.3.1 in /opt/conda/lib/python3.12/site-packages (from matplotlib!=3.6.1,>=3.4->seaborn) (1.4.7)\n",
      "Requirement already satisfied: packaging>=20.0 in /opt/conda/lib/python3.12/site-packages (from matplotlib!=3.6.1,>=3.4->seaborn) (24.2)\n",
      "Requirement already satisfied: pillow>=8 in /opt/conda/lib/python3.12/site-packages (from matplotlib!=3.6.1,>=3.4->seaborn) (11.0.0)\n",
      "Requirement already satisfied: pyparsing>=2.3.1 in /opt/conda/lib/python3.12/site-packages (from matplotlib!=3.6.1,>=3.4->seaborn) (3.2.0)\n",
      "Requirement already satisfied: python-dateutil>=2.7 in /opt/conda/lib/python3.12/site-packages (from matplotlib!=3.6.1,>=3.4->seaborn) (2.9.0.post0)\n",
      "Requirement already satisfied: pytz>=2020.1 in /opt/conda/lib/python3.12/site-packages (from pandas>=1.2->seaborn) (2024.1)\n",
      "Requirement already satisfied: tzdata>=2022.7 in /opt/conda/lib/python3.12/site-packages (from pandas>=1.2->seaborn) (2024.2)\n",
      "Requirement already satisfied: six>=1.5 in /opt/conda/lib/python3.12/site-packages (from python-dateutil>=2.7->matplotlib!=3.6.1,>=3.4->seaborn) (1.17.0)\n",
      "Requirement already satisfied: xlrd in /opt/conda/lib/python3.12/site-packages (2.0.1)\n",
      "Requirement already satisfied: ipywidgets in /opt/conda/lib/python3.12/site-packages (8.1.5)\n",
      "Requirement already satisfied: comm>=0.1.3 in /opt/conda/lib/python3.12/site-packages (from ipywidgets) (0.2.2)\n",
      "Requirement already satisfied: ipython>=6.1.0 in /opt/conda/lib/python3.12/site-packages (from ipywidgets) (8.31.0)\n",
      "Requirement already satisfied: traitlets>=4.3.1 in /opt/conda/lib/python3.12/site-packages (from ipywidgets) (5.14.3)\n",
      "Requirement already satisfied: widgetsnbextension~=4.0.12 in /opt/conda/lib/python3.12/site-packages (from ipywidgets) (4.0.13)\n",
      "Requirement already satisfied: jupyterlab-widgets~=3.0.12 in /opt/conda/lib/python3.12/site-packages (from ipywidgets) (3.0.13)\n",
      "Requirement already satisfied: decorator in /opt/conda/lib/python3.12/site-packages (from ipython>=6.1.0->ipywidgets) (5.1.1)\n",
      "Requirement already satisfied: jedi>=0.16 in /opt/conda/lib/python3.12/site-packages (from ipython>=6.1.0->ipywidgets) (0.19.2)\n",
      "Requirement already satisfied: matplotlib-inline in /opt/conda/lib/python3.12/site-packages (from ipython>=6.1.0->ipywidgets) (0.1.7)\n",
      "Requirement already satisfied: pexpect>4.3 in /opt/conda/lib/python3.12/site-packages (from ipython>=6.1.0->ipywidgets) (4.9.0)\n",
      "Requirement already satisfied: prompt_toolkit<3.1.0,>=3.0.41 in /opt/conda/lib/python3.12/site-packages (from ipython>=6.1.0->ipywidgets) (3.0.48)\n",
      "Requirement already satisfied: pygments>=2.4.0 in /opt/conda/lib/python3.12/site-packages (from ipython>=6.1.0->ipywidgets) (2.18.0)\n",
      "Requirement already satisfied: stack_data in /opt/conda/lib/python3.12/site-packages (from ipython>=6.1.0->ipywidgets) (0.6.3)\n",
      "Requirement already satisfied: parso<0.9.0,>=0.8.4 in /opt/conda/lib/python3.12/site-packages (from jedi>=0.16->ipython>=6.1.0->ipywidgets) (0.8.4)\n",
      "Requirement already satisfied: ptyprocess>=0.5 in /opt/conda/lib/python3.12/site-packages (from pexpect>4.3->ipython>=6.1.0->ipywidgets) (0.7.0)\n",
      "Requirement already satisfied: wcwidth in /opt/conda/lib/python3.12/site-packages (from prompt_toolkit<3.1.0,>=3.0.41->ipython>=6.1.0->ipywidgets) (0.2.13)\n",
      "Requirement already satisfied: executing>=1.2.0 in /opt/conda/lib/python3.12/site-packages (from stack_data->ipython>=6.1.0->ipywidgets) (2.1.0)\n",
      "Requirement already satisfied: asttokens>=2.1.0 in /opt/conda/lib/python3.12/site-packages (from stack_data->ipython>=6.1.0->ipywidgets) (3.0.0)\n",
      "Requirement already satisfied: pure_eval in /opt/conda/lib/python3.12/site-packages (from stack_data->ipython>=6.1.0->ipywidgets) (0.2.3)\n",
      "Requirement already satisfied: tabulate in /opt/conda/lib/python3.12/site-packages (0.9.0)\n",
      "Requirement already satisfied: ipywidgets in /opt/conda/lib/python3.12/site-packages (8.1.5)\n",
      "Requirement already satisfied: comm>=0.1.3 in /opt/conda/lib/python3.12/site-packages (from ipywidgets) (0.2.2)\n",
      "Requirement already satisfied: ipython>=6.1.0 in /opt/conda/lib/python3.12/site-packages (from ipywidgets) (8.31.0)\n",
      "Requirement already satisfied: traitlets>=4.3.1 in /opt/conda/lib/python3.12/site-packages (from ipywidgets) (5.14.3)\n",
      "Requirement already satisfied: widgetsnbextension~=4.0.12 in /opt/conda/lib/python3.12/site-packages (from ipywidgets) (4.0.13)\n",
      "Requirement already satisfied: jupyterlab-widgets~=3.0.12 in /opt/conda/lib/python3.12/site-packages (from ipywidgets) (3.0.13)\n",
      "Requirement already satisfied: decorator in /opt/conda/lib/python3.12/site-packages (from ipython>=6.1.0->ipywidgets) (5.1.1)\n",
      "Requirement already satisfied: jedi>=0.16 in /opt/conda/lib/python3.12/site-packages (from ipython>=6.1.0->ipywidgets) (0.19.2)\n",
      "Requirement already satisfied: matplotlib-inline in /opt/conda/lib/python3.12/site-packages (from ipython>=6.1.0->ipywidgets) (0.1.7)\n",
      "Requirement already satisfied: pexpect>4.3 in /opt/conda/lib/python3.12/site-packages (from ipython>=6.1.0->ipywidgets) (4.9.0)\n",
      "Requirement already satisfied: prompt_toolkit<3.1.0,>=3.0.41 in /opt/conda/lib/python3.12/site-packages (from ipython>=6.1.0->ipywidgets) (3.0.48)\n",
      "Requirement already satisfied: pygments>=2.4.0 in /opt/conda/lib/python3.12/site-packages (from ipython>=6.1.0->ipywidgets) (2.18.0)\n",
      "Requirement already satisfied: stack_data in /opt/conda/lib/python3.12/site-packages (from ipython>=6.1.0->ipywidgets) (0.6.3)\n",
      "Requirement already satisfied: parso<0.9.0,>=0.8.4 in /opt/conda/lib/python3.12/site-packages (from jedi>=0.16->ipython>=6.1.0->ipywidgets) (0.8.4)\n",
      "Requirement already satisfied: ptyprocess>=0.5 in /opt/conda/lib/python3.12/site-packages (from pexpect>4.3->ipython>=6.1.0->ipywidgets) (0.7.0)\n",
      "Requirement already satisfied: wcwidth in /opt/conda/lib/python3.12/site-packages (from prompt_toolkit<3.1.0,>=3.0.41->ipython>=6.1.0->ipywidgets) (0.2.13)\n",
      "Requirement already satisfied: executing>=1.2.0 in /opt/conda/lib/python3.12/site-packages (from stack_data->ipython>=6.1.0->ipywidgets) (2.1.0)\n",
      "Requirement already satisfied: asttokens>=2.1.0 in /opt/conda/lib/python3.12/site-packages (from stack_data->ipython>=6.1.0->ipywidgets) (3.0.0)\n",
      "Requirement already satisfied: pure_eval in /opt/conda/lib/python3.12/site-packages (from stack_data->ipython>=6.1.0->ipywidgets) (0.2.3)\n",
      "Requirement already satisfied: tabulate in /opt/conda/lib/python3.12/site-packages (0.9.0)\n",
      "Requirement already satisfied: scipy in /opt/conda/lib/python3.12/site-packages (1.14.1)\n",
      "Requirement already satisfied: numpy<2.3,>=1.23.5 in /opt/conda/lib/python3.12/site-packages (from scipy) (2.2.1)\n",
      "Requirement already satisfied: numpy in /opt/conda/lib/python3.12/site-packages (2.2.1)\n",
      "Requirement already satisfied: folium in /opt/conda/lib/python3.12/site-packages (0.19.2)\n",
      "Requirement already satisfied: branca>=0.6.0 in /opt/conda/lib/python3.12/site-packages (from folium) (0.8.1)\n",
      "Requirement already satisfied: jinja2>=2.9 in /opt/conda/lib/python3.12/site-packages (from folium) (3.1.5)\n",
      "Requirement already satisfied: numpy in /opt/conda/lib/python3.12/site-packages (from folium) (2.2.1)\n",
      "Requirement already satisfied: requests in /opt/conda/lib/python3.12/site-packages (from folium) (2.32.3)\n",
      "Requirement already satisfied: xyzservices in /opt/conda/lib/python3.12/site-packages (from folium) (2024.9.0)\n",
      "Requirement already satisfied: MarkupSafe>=2.0 in /opt/conda/lib/python3.12/site-packages (from jinja2>=2.9->folium) (3.0.2)\n",
      "Requirement already satisfied: charset_normalizer<4,>=2 in /opt/conda/lib/python3.12/site-packages (from requests->folium) (3.4.0)\n",
      "Requirement already satisfied: idna<4,>=2.5 in /opt/conda/lib/python3.12/site-packages (from requests->folium) (3.10)\n",
      "Requirement already satisfied: urllib3<3,>=1.21.1 in /opt/conda/lib/python3.12/site-packages (from requests->folium) (2.2.3)\n",
      "Requirement already satisfied: certifi>=2017.4.17 in /opt/conda/lib/python3.12/site-packages (from requests->folium) (2024.12.14)\n",
      "Requirement already satisfied: IPython in /opt/conda/lib/python3.12/site-packages (8.31.0)\n",
      "Requirement already satisfied: decorator in /opt/conda/lib/python3.12/site-packages (from IPython) (5.1.1)\n",
      "Requirement already satisfied: jedi>=0.16 in /opt/conda/lib/python3.12/site-packages (from IPython) (0.19.2)\n",
      "Requirement already satisfied: matplotlib-inline in /opt/conda/lib/python3.12/site-packages (from IPython) (0.1.7)\n",
      "Requirement already satisfied: pexpect>4.3 in /opt/conda/lib/python3.12/site-packages (from IPython) (4.9.0)\n",
      "Requirement already satisfied: prompt_toolkit<3.1.0,>=3.0.41 in /opt/conda/lib/python3.12/site-packages (from IPython) (3.0.48)\n",
      "Requirement already satisfied: pygments>=2.4.0 in /opt/conda/lib/python3.12/site-packages (from IPython) (2.18.0)\n",
      "Requirement already satisfied: stack_data in /opt/conda/lib/python3.12/site-packages (from IPython) (0.6.3)\n",
      "Requirement already satisfied: traitlets>=5.13.0 in /opt/conda/lib/python3.12/site-packages (from IPython) (5.14.3)\n",
      "Requirement already satisfied: parso<0.9.0,>=0.8.4 in /opt/conda/lib/python3.12/site-packages (from jedi>=0.16->IPython) (0.8.4)\n",
      "Requirement already satisfied: ptyprocess>=0.5 in /opt/conda/lib/python3.12/site-packages (from pexpect>4.3->IPython) (0.7.0)\n",
      "Requirement already satisfied: wcwidth in /opt/conda/lib/python3.12/site-packages (from prompt_toolkit<3.1.0,>=3.0.41->IPython) (0.2.13)\n",
      "Requirement already satisfied: executing>=1.2.0 in /opt/conda/lib/python3.12/site-packages (from stack_data->IPython) (2.1.0)\n",
      "Requirement already satisfied: asttokens>=2.1.0 in /opt/conda/lib/python3.12/site-packages (from stack_data->IPython) (3.0.0)\n",
      "Requirement already satisfied: pure_eval in /opt/conda/lib/python3.12/site-packages (from stack_data->IPython) (0.2.3)\n",
      "Requirement already satisfied: geopandas in /opt/conda/lib/python3.12/site-packages (1.0.1)\n",
      "Requirement already satisfied: numpy>=1.22 in /opt/conda/lib/python3.12/site-packages (from geopandas) (2.2.1)\n",
      "Requirement already satisfied: pyogrio>=0.7.2 in /opt/conda/lib/python3.12/site-packages (from geopandas) (0.10.0)\n",
      "Requirement already satisfied: packaging in /opt/conda/lib/python3.12/site-packages (from geopandas) (24.2)\n",
      "Requirement already satisfied: pandas>=1.4.0 in /opt/conda/lib/python3.12/site-packages (from geopandas) (2.2.3)\n",
      "Requirement already satisfied: pyproj>=3.3.0 in /opt/conda/lib/python3.12/site-packages (from geopandas) (3.7.0)\n",
      "Requirement already satisfied: shapely>=2.0.0 in /opt/conda/lib/python3.12/site-packages (from geopandas) (2.0.6)\n",
      "Requirement already satisfied: python-dateutil>=2.8.2 in /opt/conda/lib/python3.12/site-packages (from pandas>=1.4.0->geopandas) (2.9.0.post0)\n",
      "Requirement already satisfied: pytz>=2020.1 in /opt/conda/lib/python3.12/site-packages (from pandas>=1.4.0->geopandas) (2024.1)\n",
      "Requirement already satisfied: tzdata>=2022.7 in /opt/conda/lib/python3.12/site-packages (from pandas>=1.4.0->geopandas) (2024.2)\n",
      "Requirement already satisfied: certifi in /opt/conda/lib/python3.12/site-packages (from pyogrio>=0.7.2->geopandas) (2024.12.14)\n",
      "Requirement already satisfied: six>=1.5 in /opt/conda/lib/python3.12/site-packages (from python-dateutil>=2.8.2->pandas>=1.4.0->geopandas) (1.17.0)\n",
      "Requirement already satisfied: scikit-learn in /opt/conda/lib/python3.12/site-packages (1.6.0)\n",
      "Requirement already satisfied: numpy>=1.19.5 in /opt/conda/lib/python3.12/site-packages (from scikit-learn) (2.2.1)\n",
      "Requirement already satisfied: scipy>=1.6.0 in /opt/conda/lib/python3.12/site-packages (from scikit-learn) (1.14.1)\n",
      "Requirement already satisfied: joblib>=1.2.0 in /opt/conda/lib/python3.12/site-packages (from scikit-learn) (1.4.2)\n",
      "Requirement already satisfied: threadpoolctl>=3.1.0 in /opt/conda/lib/python3.12/site-packages (from scikit-learn) (3.5.0)\n"
     ]
    }
   ],
=======
   "execution_count": null,
   "metadata": {},
   "outputs": [],
>>>>>>> c12b8e6454b21ae829c5864cd30e82adc7163348
   "source": [
    "# installation des packages qui pourrait ne pas être installer au préalable\n",
    "!pip install requests\n",
    "!pip install os\n",
    "!pip install matplotlib\n",
    "!pip install pandas \n",
    "!pip install plotly\n",
    "!pip install plotly\n",
    "!pip install io\n",
    "!pip install seaborn\n",
    "!pip install xlrd\n",
    "!pip install ipywidgets\n",
    "!pip install tabulate\n",
    "!pip install ipywidgets \n",
    "!pip install tabulate \n",
    "!pip install scipy\n",
    "!pip install numpy \n",
    "!pip install folium\n",
    "!pip install IPython\n",
    "!pip install geopandas\n",
    "!pip install scikit-learn"
   ]
  },
  {
   "cell_type": "markdown",
   "metadata": {},
   "source": [
    "### Importation des Packages"
   ]
  },
  {
   "cell_type": "code",
<<<<<<< HEAD
   "execution_count": 63,
=======
   "execution_count": null,
>>>>>>> c12b8e6454b21ae829c5864cd30e82adc7163348
   "metadata": {},
   "outputs": [],
   "source": [
    "import requests\n",
    "import os\n",
    "import matplotlib.pyplot as plt\n",
    "import pandas as pd\n",
    "import geopandas as gpd\n",
    "import folium\n",
    "from folium.plugins import HeatMap\n",
    "import plotly\n",
    "import plotly.express as px\n",
    "import io\n",
    "import seaborn as sns\n",
    "import ipywidgets as widgets\n",
    "from tabulate import tabulate\n",
    "from scipy.stats import chi2_contingency\n",
    "import numpy as np\n",
    "from IPython.display import display\n",
    "from sklearn.model_selection import train_test_split\n",
    "from sklearn.linear_model import LassoCV, Lasso\n",
    "import seaborn as sns\n",
    "from sklearn.metrics import accuracy_score\n",
    "from sklearn.model_selection import GridSearchCV\n",
    "from sklearn.model_selection import RepeatedStratifiedKFold\n",
    "from sklearn.linear_model import LogisticRegression\n",
    "from sklearn.pipeline import Pipeline\n",
    "from sklearn.preprocessing import OneHotEncoder\n",
    "from sklearn.impute import SimpleImputer\n",
    "import matplotlib.colors as mcolors"
   ]
  },
  {
   "cell_type": "markdown",
   "metadata": {},
   "source": [
    "## **I- Importation des bases de données**"
   ]
  },
  {
   "cell_type": "markdown",
   "metadata": {},
   "source": [
    "Dans cette partie, nous allons importer les bases données qui seront utilisées dans ce projet.\n",
    "- base des usagers ayant été impliqué dans un accident de circulation en 2023\n",
    "- base des véhicules impliqués dans les accidents de circulation en 2023\n",
    "- base des lieux où se sont produit les accidents\n",
    "- base contenant les caractéristiques des accidents.\n",
    "- base des données démographiques de l'INSEE.\n",
    "\n",
    "\n"
   ]
  },
  {
   "cell_type": "markdown",
   "metadata": {},
   "source": [
    "### 1- Importation des données sur les accidents de la circulation routière"
   ]
  },
  {
   "cell_type": "code",
<<<<<<< HEAD
   "execution_count": 64,
=======
   "execution_count": null,
>>>>>>> c12b8e6454b21ae829c5864cd30e82adc7163348
   "metadata": {},
   "outputs": [],
   "source": [
    "# fonction de téléchargement des données sur les accidents corporels\n",
    "def telecharge(url_data,filename, path):\n",
    "    # Vérifie si le dossier 'data' existe, sinon le crée\n",
    "    if not os.path.exists(path):\n",
    "        os.makedirs(path)\n",
    "    #télécharge les données avec l'url\n",
    "    response = requests.get(url_data)\n",
    "    if response.status_code == 200:\n",
    "        file_path = os.path.join(path, filename)\n",
    "        with open(file_path, 'wb') as file:\n",
    "            file.write(response.content)\n",
    "        print(f\"Fichier {filename} téléchargé avec succès:{file_path}\")\n",
    "    else:\n",
    "        print(f\"Echec de téléchargement pour {filename}. Statut: {response.status_code}\")\n",
    "\n",
    "# API pour accéder à l'url de téléchargement\n",
    "url_root=\"https://www.data.gouv.fr/api/1/datasets/53698f4ca3a729239d2036df/resources/\"\n",
    "urls={\n",
    "    \"usagers-2023.csv\":\"68848e2a-28dd-4efc-9d5f-d512f7dbe66f\",\n",
    "    \"vehicules-2023.csv\":\"146a42f5-19f0-4b3e-a887-5cd8fbef057b\",\n",
    "    \"lieux-2023.csv\":\"8bef19bf-a5e4-46b3-b5f9-a145da4686bc\",\n",
    "    \"caract-2023.csv\":\"104dbb32-704f-4e99-a71e-43563cb604f2\"\n",
    "}\n",
    "path='data'\n",
    "\n",
    "for filename, resource_id in urls.items():\n",
    "    url=url_root+resource_id\n",
    "    response1=requests.get(url)\n",
    "    if response1.status_code==200:\n",
    "        data=response1.json()\n",
    "        url_data=data['url']\n",
    "    else:\n",
    "        print(\"downloading failed\")\n",
    "    telecharge(url_data,filename,path)\n"
   ]
  },
  {
   "cell_type": "code",
<<<<<<< HEAD
   "execution_count": 65,
   "metadata": {},
   "outputs": [
    {
     "data": {
      "text/html": [
       "<div>\n",
       "<style scoped>\n",
       "    .dataframe tbody tr th:only-of-type {\n",
       "        vertical-align: middle;\n",
       "    }\n",
       "\n",
       "    .dataframe tbody tr th {\n",
       "        vertical-align: top;\n",
       "    }\n",
       "\n",
       "    .dataframe thead th {\n",
       "        text-align: right;\n",
       "    }\n",
       "</style>\n",
       "<table border=\"1\" class=\"dataframe\">\n",
       "  <thead>\n",
       "    <tr style=\"text-align: right;\">\n",
       "      <th></th>\n",
       "      <th>Num_Acc</th>\n",
       "      <th>id_usager</th>\n",
       "      <th>id_vehicule</th>\n",
       "      <th>num_veh</th>\n",
       "      <th>place</th>\n",
       "      <th>catu</th>\n",
       "      <th>grav</th>\n",
       "      <th>sexe</th>\n",
       "      <th>an_nais</th>\n",
       "      <th>trajet</th>\n",
       "      <th>secu1</th>\n",
       "      <th>secu2</th>\n",
       "      <th>secu3</th>\n",
       "      <th>locp</th>\n",
       "      <th>actp</th>\n",
       "      <th>etatp</th>\n",
       "    </tr>\n",
       "  </thead>\n",
       "  <tbody>\n",
       "    <tr>\n",
       "      <th>0</th>\n",
       "      <td>202300000001</td>\n",
       "      <td>203 851 184</td>\n",
       "      <td>155 680 557</td>\n",
       "      <td>A01</td>\n",
       "      <td>1</td>\n",
       "      <td>1</td>\n",
       "      <td>4</td>\n",
       "      <td>1</td>\n",
       "      <td>1978.0</td>\n",
       "      <td>5</td>\n",
       "      <td>2</td>\n",
       "      <td>0</td>\n",
       "      <td>-1</td>\n",
       "      <td>-1</td>\n",
       "      <td>-1</td>\n",
       "      <td>-1</td>\n",
       "    </tr>\n",
       "    <tr>\n",
       "      <th>1</th>\n",
       "      <td>202300000002</td>\n",
       "      <td>203 851 182</td>\n",
       "      <td>155 680 556</td>\n",
       "      <td>A01</td>\n",
       "      <td>1</td>\n",
       "      <td>1</td>\n",
       "      <td>1</td>\n",
       "      <td>2</td>\n",
       "      <td>1997.0</td>\n",
       "      <td>9</td>\n",
       "      <td>1</td>\n",
       "      <td>0</td>\n",
       "      <td>-1</td>\n",
       "      <td>-1</td>\n",
       "      <td>-1</td>\n",
       "      <td>-1</td>\n",
       "    </tr>\n",
       "    <tr>\n",
       "      <th>2</th>\n",
       "      <td>202300000002</td>\n",
       "      <td>203 851 183</td>\n",
       "      <td>155 680 556</td>\n",
       "      <td>A01</td>\n",
       "      <td>10</td>\n",
       "      <td>3</td>\n",
       "      <td>3</td>\n",
       "      <td>1</td>\n",
       "      <td>1997.0</td>\n",
       "      <td>9</td>\n",
       "      <td>0</td>\n",
       "      <td>-1</td>\n",
       "      <td>-1</td>\n",
       "      <td>2</td>\n",
       "      <td>3</td>\n",
       "      <td>1</td>\n",
       "    </tr>\n",
       "    <tr>\n",
       "      <th>3</th>\n",
       "      <td>202300000003</td>\n",
       "      <td>203 851 180</td>\n",
       "      <td>155 680 554</td>\n",
       "      <td>B01</td>\n",
       "      <td>1</td>\n",
       "      <td>1</td>\n",
       "      <td>3</td>\n",
       "      <td>1</td>\n",
       "      <td>1987.0</td>\n",
       "      <td>0</td>\n",
       "      <td>2</td>\n",
       "      <td>6</td>\n",
       "      <td>0</td>\n",
       "      <td>0</td>\n",
       "      <td>0</td>\n",
       "      <td>-1</td>\n",
       "    </tr>\n",
       "    <tr>\n",
       "      <th>4</th>\n",
       "      <td>202300000003</td>\n",
       "      <td>203 851 181</td>\n",
       "      <td>155 680 555</td>\n",
       "      <td>A01</td>\n",
       "      <td>1</td>\n",
       "      <td>1</td>\n",
       "      <td>1</td>\n",
       "      <td>2</td>\n",
       "      <td>1984.0</td>\n",
       "      <td>0</td>\n",
       "      <td>1</td>\n",
       "      <td>0</td>\n",
       "      <td>0</td>\n",
       "      <td>0</td>\n",
       "      <td>0</td>\n",
       "      <td>-1</td>\n",
       "    </tr>\n",
       "  </tbody>\n",
       "</table>\n",
       "</div>"
      ],
      "text/plain": [
       "        Num_Acc    id_usager  id_vehicule num_veh  place  catu  grav  sexe  \\\n",
       "0  202300000001  203 851 184  155 680 557     A01      1     1     4     1   \n",
       "1  202300000002  203 851 182  155 680 556     A01      1     1     1     2   \n",
       "2  202300000002  203 851 183  155 680 556     A01     10     3     3     1   \n",
       "3  202300000003  203 851 180  155 680 554     B01      1     1     3     1   \n",
       "4  202300000003  203 851 181  155 680 555     A01      1     1     1     2   \n",
       "\n",
       "   an_nais  trajet  secu1  secu2  secu3  locp actp  etatp  \n",
       "0   1978.0       5      2      0     -1    -1   -1     -1  \n",
       "1   1997.0       9      1      0     -1    -1   -1     -1  \n",
       "2   1997.0       9      0     -1     -1     2    3      1  \n",
       "3   1987.0       0      2      6      0     0    0     -1  \n",
       "4   1984.0       0      1      0      0     0    0     -1  "
      ]
     },
     "execution_count": 65,
     "metadata": {},
     "output_type": "execute_result"
    }
   ],
=======
   "execution_count": null,
   "metadata": {},
   "outputs": [],
>>>>>>> c12b8e6454b21ae829c5864cd30e82adc7163348
   "source": [
    "# base des usagers \n",
    "df_usagers = pd.read_csv(\"data/usagers-2023.csv\", sep = ';')\n",
    "df_usagers2 = df_usagers.copy()\n",
    "df_usagers.head()"
   ]
  },
  {
   "cell_type": "code",
<<<<<<< HEAD
   "execution_count": 66,
   "metadata": {},
   "outputs": [
    {
     "data": {
      "text/html": [
       "<div>\n",
       "<style scoped>\n",
       "    .dataframe tbody tr th:only-of-type {\n",
       "        vertical-align: middle;\n",
       "    }\n",
       "\n",
       "    .dataframe tbody tr th {\n",
       "        vertical-align: top;\n",
       "    }\n",
       "\n",
       "    .dataframe thead th {\n",
       "        text-align: right;\n",
       "    }\n",
       "</style>\n",
       "<table border=\"1\" class=\"dataframe\">\n",
       "  <thead>\n",
       "    <tr style=\"text-align: right;\">\n",
       "      <th></th>\n",
       "      <th>Num_Acc</th>\n",
       "      <th>id_vehicule</th>\n",
       "      <th>num_veh</th>\n",
       "      <th>senc</th>\n",
       "      <th>catv</th>\n",
       "      <th>obs</th>\n",
       "      <th>obsm</th>\n",
       "      <th>choc</th>\n",
       "      <th>manv</th>\n",
       "      <th>motor</th>\n",
       "      <th>occutc</th>\n",
       "    </tr>\n",
       "  </thead>\n",
       "  <tbody>\n",
       "    <tr>\n",
       "      <th>0</th>\n",
       "      <td>202300000001</td>\n",
       "      <td>155 680 557</td>\n",
       "      <td>A01</td>\n",
       "      <td>1</td>\n",
       "      <td>30</td>\n",
       "      <td>0</td>\n",
       "      <td>0</td>\n",
       "      <td>5</td>\n",
       "      <td>1</td>\n",
       "      <td>1</td>\n",
       "      <td>NaN</td>\n",
       "    </tr>\n",
       "    <tr>\n",
       "      <th>1</th>\n",
       "      <td>202300000002</td>\n",
       "      <td>155 680 556</td>\n",
       "      <td>A01</td>\n",
       "      <td>2</td>\n",
       "      <td>7</td>\n",
       "      <td>0</td>\n",
       "      <td>1</td>\n",
       "      <td>1</td>\n",
       "      <td>1</td>\n",
       "      <td>1</td>\n",
       "      <td>NaN</td>\n",
       "    </tr>\n",
       "    <tr>\n",
       "      <th>2</th>\n",
       "      <td>202300000003</td>\n",
       "      <td>155 680 554</td>\n",
       "      <td>B01</td>\n",
       "      <td>1</td>\n",
       "      <td>2</td>\n",
       "      <td>0</td>\n",
       "      <td>2</td>\n",
       "      <td>1</td>\n",
       "      <td>16</td>\n",
       "      <td>1</td>\n",
       "      <td>NaN</td>\n",
       "    </tr>\n",
       "    <tr>\n",
       "      <th>3</th>\n",
       "      <td>202300000003</td>\n",
       "      <td>155 680 555</td>\n",
       "      <td>A01</td>\n",
       "      <td>2</td>\n",
       "      <td>7</td>\n",
       "      <td>0</td>\n",
       "      <td>2</td>\n",
       "      <td>2</td>\n",
       "      <td>15</td>\n",
       "      <td>1</td>\n",
       "      <td>NaN</td>\n",
       "    </tr>\n",
       "    <tr>\n",
       "      <th>4</th>\n",
       "      <td>202300000004</td>\n",
       "      <td>155 680 551</td>\n",
       "      <td>B01</td>\n",
       "      <td>1</td>\n",
       "      <td>7</td>\n",
       "      <td>0</td>\n",
       "      <td>2</td>\n",
       "      <td>9</td>\n",
       "      <td>2</td>\n",
       "      <td>4</td>\n",
       "      <td>NaN</td>\n",
       "    </tr>\n",
       "  </tbody>\n",
       "</table>\n",
       "</div>"
      ],
      "text/plain": [
       "        Num_Acc  id_vehicule num_veh  senc  catv  obs  obsm  choc  manv  \\\n",
       "0  202300000001  155 680 557     A01     1    30    0     0     5     1   \n",
       "1  202300000002  155 680 556     A01     2     7    0     1     1     1   \n",
       "2  202300000003  155 680 554     B01     1     2    0     2     1    16   \n",
       "3  202300000003  155 680 555     A01     2     7    0     2     2    15   \n",
       "4  202300000004  155 680 551     B01     1     7    0     2     9     2   \n",
       "\n",
       "   motor  occutc  \n",
       "0      1     NaN  \n",
       "1      1     NaN  \n",
       "2      1     NaN  \n",
       "3      1     NaN  \n",
       "4      4     NaN  "
      ]
     },
     "execution_count": 66,
     "metadata": {},
     "output_type": "execute_result"
    }
   ],
=======
   "execution_count": null,
   "metadata": {},
   "outputs": [],
>>>>>>> c12b8e6454b21ae829c5864cd30e82adc7163348
   "source": [
    "# Base des véhicules \n",
    "df_vehicules = pd.read_csv(\"data/vehicules-2023.csv\", sep = ';')\n",
    "df_vehicules.head()  "
   ]
  },
  {
   "cell_type": "code",
<<<<<<< HEAD
   "execution_count": 67,
   "metadata": {},
   "outputs": [
    {
     "name": "stderr",
     "output_type": "stream",
     "text": [
      "/tmp/ipykernel_17649/483356611.py:2: DtypeWarning: Columns (12) have mixed types. Specify dtype option on import or set low_memory=False.\n",
      "  df_lieux = pd.read_csv(\"data/lieux-2023.csv\", sep = ';')\n"
     ]
    },
    {
     "data": {
      "text/html": [
       "<div>\n",
       "<style scoped>\n",
       "    .dataframe tbody tr th:only-of-type {\n",
       "        vertical-align: middle;\n",
       "    }\n",
       "\n",
       "    .dataframe tbody tr th {\n",
       "        vertical-align: top;\n",
       "    }\n",
       "\n",
       "    .dataframe thead th {\n",
       "        text-align: right;\n",
       "    }\n",
       "</style>\n",
       "<table border=\"1\" class=\"dataframe\">\n",
       "  <thead>\n",
       "    <tr style=\"text-align: right;\">\n",
       "      <th></th>\n",
       "      <th>Num_Acc</th>\n",
       "      <th>catr</th>\n",
       "      <th>voie</th>\n",
       "      <th>v1</th>\n",
       "      <th>v2</th>\n",
       "      <th>circ</th>\n",
       "      <th>nbv</th>\n",
       "      <th>vosp</th>\n",
       "      <th>prof</th>\n",
       "      <th>pr</th>\n",
       "      <th>pr1</th>\n",
       "      <th>plan</th>\n",
       "      <th>lartpc</th>\n",
       "      <th>larrout</th>\n",
       "      <th>surf</th>\n",
       "      <th>infra</th>\n",
       "      <th>situ</th>\n",
       "      <th>vma</th>\n",
       "    </tr>\n",
       "  </thead>\n",
       "  <tbody>\n",
       "    <tr>\n",
       "      <th>0</th>\n",
       "      <td>202300000001</td>\n",
       "      <td>4</td>\n",
       "      <td>RUE DE RIVOLI</td>\n",
       "      <td>0</td>\n",
       "      <td>NaN</td>\n",
       "      <td>1</td>\n",
       "      <td>2</td>\n",
       "      <td>0</td>\n",
       "      <td>1</td>\n",
       "      <td>-1</td>\n",
       "      <td>-1</td>\n",
       "      <td>1</td>\n",
       "      <td>NaN</td>\n",
       "      <td>-1</td>\n",
       "      <td>2</td>\n",
       "      <td>0</td>\n",
       "      <td>1</td>\n",
       "      <td>30</td>\n",
       "    </tr>\n",
       "    <tr>\n",
       "      <th>1</th>\n",
       "      <td>202300000001</td>\n",
       "      <td>4</td>\n",
       "      <td>RUE SAINT FLORENTIN</td>\n",
       "      <td>0</td>\n",
       "      <td>NaN</td>\n",
       "      <td>1</td>\n",
       "      <td>1</td>\n",
       "      <td>0</td>\n",
       "      <td>1</td>\n",
       "      <td>-1</td>\n",
       "      <td>-1</td>\n",
       "      <td>1</td>\n",
       "      <td>NaN</td>\n",
       "      <td>-1</td>\n",
       "      <td>2</td>\n",
       "      <td>0</td>\n",
       "      <td>1</td>\n",
       "      <td>30</td>\n",
       "    </tr>\n",
       "    <tr>\n",
       "      <th>2</th>\n",
       "      <td>202300000002</td>\n",
       "      <td>3</td>\n",
       "      <td>120</td>\n",
       "      <td>0</td>\n",
       "      <td>NaN</td>\n",
       "      <td>2</td>\n",
       "      <td>3</td>\n",
       "      <td>2</td>\n",
       "      <td>1</td>\n",
       "      <td>-1</td>\n",
       "      <td>-1</td>\n",
       "      <td>1</td>\n",
       "      <td>NaN</td>\n",
       "      <td>-1</td>\n",
       "      <td>2</td>\n",
       "      <td>0</td>\n",
       "      <td>1</td>\n",
       "      <td>50</td>\n",
       "    </tr>\n",
       "    <tr>\n",
       "      <th>3</th>\n",
       "      <td>202300000003</td>\n",
       "      <td>3</td>\n",
       "      <td>5</td>\n",
       "      <td>0</td>\n",
       "      <td>NaN</td>\n",
       "      <td>2</td>\n",
       "      <td>4</td>\n",
       "      <td>0</td>\n",
       "      <td>1</td>\n",
       "      <td>1</td>\n",
       "      <td>0</td>\n",
       "      <td>1</td>\n",
       "      <td>NaN</td>\n",
       "      <td>-1</td>\n",
       "      <td>2</td>\n",
       "      <td>5</td>\n",
       "      <td>1</td>\n",
       "      <td>50</td>\n",
       "    </tr>\n",
       "    <tr>\n",
       "      <th>4</th>\n",
       "      <td>202300000003</td>\n",
       "      <td>3</td>\n",
       "      <td>87</td>\n",
       "      <td>0</td>\n",
       "      <td>NaN</td>\n",
       "      <td>2</td>\n",
       "      <td>4</td>\n",
       "      <td>0</td>\n",
       "      <td>1</td>\n",
       "      <td>1</td>\n",
       "      <td>0</td>\n",
       "      <td>1</td>\n",
       "      <td>NaN</td>\n",
       "      <td>-1</td>\n",
       "      <td>2</td>\n",
       "      <td>5</td>\n",
       "      <td>1</td>\n",
       "      <td>50</td>\n",
       "    </tr>\n",
       "  </tbody>\n",
       "</table>\n",
       "</div>"
      ],
      "text/plain": [
       "        Num_Acc  catr                 voie  v1   v2  circ nbv  vosp  prof  \\\n",
       "0  202300000001     4        RUE DE RIVOLI   0  NaN     1   2     0     1   \n",
       "1  202300000001     4  RUE SAINT FLORENTIN   0  NaN     1   1     0     1   \n",
       "2  202300000002     3                  120   0  NaN     2   3     2     1   \n",
       "3  202300000003     3                    5   0  NaN     2   4     0     1   \n",
       "4  202300000003     3                   87   0  NaN     2   4     0     1   \n",
       "\n",
       "    pr  pr1  plan lartpc larrout  surf  infra  situ  vma  \n",
       "0   -1   -1     1    NaN      -1     2      0     1   30  \n",
       "1   -1   -1     1    NaN      -1     2      0     1   30  \n",
       "2   -1   -1     1    NaN      -1     2      0     1   50  \n",
       "3    1    0     1    NaN      -1     2      5     1   50  \n",
       "4    1    0     1    NaN      -1     2      5     1   50  "
      ]
     },
     "execution_count": 67,
     "metadata": {},
     "output_type": "execute_result"
    }
   ],
=======
   "execution_count": null,
   "metadata": {},
   "outputs": [],
>>>>>>> c12b8e6454b21ae829c5864cd30e82adc7163348
   "source": [
    "# Base des lieux \n",
    "df_lieux = pd.read_csv(\"data/lieux-2023.csv\", sep = ';')\n",
    "df_lieux.head(5)"
   ]
  },
  {
   "cell_type": "code",
<<<<<<< HEAD
   "execution_count": 68,
   "metadata": {},
   "outputs": [
    {
     "data": {
      "text/html": [
       "<div>\n",
       "<style scoped>\n",
       "    .dataframe tbody tr th:only-of-type {\n",
       "        vertical-align: middle;\n",
       "    }\n",
       "\n",
       "    .dataframe tbody tr th {\n",
       "        vertical-align: top;\n",
       "    }\n",
       "\n",
       "    .dataframe thead th {\n",
       "        text-align: right;\n",
       "    }\n",
       "</style>\n",
       "<table border=\"1\" class=\"dataframe\">\n",
       "  <thead>\n",
       "    <tr style=\"text-align: right;\">\n",
       "      <th></th>\n",
       "      <th>Num_Acc</th>\n",
       "      <th>jour</th>\n",
       "      <th>mois</th>\n",
       "      <th>an</th>\n",
       "      <th>hrmn</th>\n",
       "      <th>lum</th>\n",
       "      <th>dep</th>\n",
       "      <th>com</th>\n",
       "      <th>agg</th>\n",
       "      <th>int</th>\n",
       "      <th>atm</th>\n",
       "      <th>col</th>\n",
       "      <th>adr</th>\n",
       "      <th>lat</th>\n",
       "      <th>long</th>\n",
       "    </tr>\n",
       "  </thead>\n",
       "  <tbody>\n",
       "    <tr>\n",
       "      <th>0</th>\n",
       "      <td>202300000001</td>\n",
       "      <td>7</td>\n",
       "      <td>5</td>\n",
       "      <td>2023</td>\n",
       "      <td>06:00</td>\n",
       "      <td>1</td>\n",
       "      <td>75</td>\n",
       "      <td>75101</td>\n",
       "      <td>2</td>\n",
       "      <td>4</td>\n",
       "      <td>2</td>\n",
       "      <td>7</td>\n",
       "      <td>RUE DE RIVOLI</td>\n",
       "      <td>48,86638600</td>\n",
       "      <td>2,32347100</td>\n",
       "    </tr>\n",
       "    <tr>\n",
       "      <th>1</th>\n",
       "      <td>202300000002</td>\n",
       "      <td>7</td>\n",
       "      <td>5</td>\n",
       "      <td>2023</td>\n",
       "      <td>05:30</td>\n",
       "      <td>5</td>\n",
       "      <td>94</td>\n",
       "      <td>94080</td>\n",
       "      <td>2</td>\n",
       "      <td>1</td>\n",
       "      <td>3</td>\n",
       "      <td>6</td>\n",
       "      <td>Avenue de Paris</td>\n",
       "      <td>48,84547782</td>\n",
       "      <td>2,42868146</td>\n",
       "    </tr>\n",
       "    <tr>\n",
       "      <th>2</th>\n",
       "      <td>202300000003</td>\n",
       "      <td>7</td>\n",
       "      <td>5</td>\n",
       "      <td>2023</td>\n",
       "      <td>20:50</td>\n",
       "      <td>1</td>\n",
       "      <td>94</td>\n",
       "      <td>94022</td>\n",
       "      <td>2</td>\n",
       "      <td>3</td>\n",
       "      <td>2</td>\n",
       "      <td>1</td>\n",
       "      <td>Avenue du Général Leclerc</td>\n",
       "      <td>48,76240000</td>\n",
       "      <td>2,40655000</td>\n",
       "    </tr>\n",
       "    <tr>\n",
       "      <th>3</th>\n",
       "      <td>202300000004</td>\n",
       "      <td>6</td>\n",
       "      <td>5</td>\n",
       "      <td>2023</td>\n",
       "      <td>23:57</td>\n",
       "      <td>5</td>\n",
       "      <td>94</td>\n",
       "      <td>94078</td>\n",
       "      <td>2</td>\n",
       "      <td>1</td>\n",
       "      <td>3</td>\n",
       "      <td>5</td>\n",
       "      <td>Rue de Paris</td>\n",
       "      <td>48,73248432</td>\n",
       "      <td>2,44687575</td>\n",
       "    </tr>\n",
       "    <tr>\n",
       "      <th>4</th>\n",
       "      <td>202300000005</td>\n",
       "      <td>7</td>\n",
       "      <td>5</td>\n",
       "      <td>2023</td>\n",
       "      <td>00:50</td>\n",
       "      <td>5</td>\n",
       "      <td>94</td>\n",
       "      <td>94068</td>\n",
       "      <td>2</td>\n",
       "      <td>2</td>\n",
       "      <td>3</td>\n",
       "      <td>3</td>\n",
       "      <td>56bis Avenue Raspail</td>\n",
       "      <td>48,78581000</td>\n",
       "      <td>2,49217000</td>\n",
       "    </tr>\n",
       "  </tbody>\n",
       "</table>\n",
       "</div>"
      ],
      "text/plain": [
       "        Num_Acc  jour  mois    an   hrmn  lum dep    com  agg  int  atm  col  \\\n",
       "0  202300000001     7     5  2023  06:00    1  75  75101    2    4    2    7   \n",
       "1  202300000002     7     5  2023  05:30    5  94  94080    2    1    3    6   \n",
       "2  202300000003     7     5  2023  20:50    1  94  94022    2    3    2    1   \n",
       "3  202300000004     6     5  2023  23:57    5  94  94078    2    1    3    5   \n",
       "4  202300000005     7     5  2023  00:50    5  94  94068    2    2    3    3   \n",
       "\n",
       "                         adr          lat        long  \n",
       "0              RUE DE RIVOLI  48,86638600  2,32347100  \n",
       "1            Avenue de Paris  48,84547782  2,42868146  \n",
       "2  Avenue du Général Leclerc  48,76240000  2,40655000  \n",
       "3               Rue de Paris  48,73248432  2,44687575  \n",
       "4       56bis Avenue Raspail  48,78581000  2,49217000  "
      ]
     },
     "execution_count": 68,
     "metadata": {},
     "output_type": "execute_result"
    }
   ],
=======
   "execution_count": null,
   "metadata": {},
   "outputs": [],
>>>>>>> c12b8e6454b21ae829c5864cd30e82adc7163348
   "source": [
    "# Base caract\n",
    "df_caract = pd.read_csv(\"data/caract-2023.csv\", sep = ';')\n",
    "df_caract2 =df_caract.copy()\n",
    "df_caract.head()"
   ]
  },
  {
   "cell_type": "markdown",
   "metadata": {},
   "source": [
    "Nous construisons à présent la base de données qui résultera de la fusion des toutes les bases importées précedemment.\n",
    "Dans un premier temps, nous fusionnons la base des usagers et celle des véhicules sur les variables \"Num_acc\" (Numéro de l'accident), \"id_vehicule\" (identifiant du véhicule) et \"num_veh\" (numéro du véhicule) qui sont commun aux deux bases. Ensuite, nous fusionnons les autres bases sur la variable \"Num_acc\". Nous utilisons l'option \"inner\" qui utilise l'intersection des clés dans les deux tables."
   ]
  },
  {
   "cell_type": "code",
<<<<<<< HEAD
   "execution_count": 69,
=======
   "execution_count": null,
>>>>>>> c12b8e6454b21ae829c5864cd30e82adc7163348
   "metadata": {},
   "outputs": [],
   "source": [
    "# fusion des bases de données\n",
    "df_merge = df_usagers.merge(df_vehicules, on=[\"Num_Acc\",\"id_vehicule\",\"num_veh\"], how=\"inner\") \n",
    "df_merge = df_merge.merge(df_lieux, on=\"Num_Acc\", how=\"inner\")\n",
    "df_merge = df_merge.merge(df_caract, on=\"Num_Acc\", how=\"inner\")"
   ]
  },
  {
   "cell_type": "markdown",
   "metadata": {},
   "source": [
    "### 2- Importation des données démographiques de l'INSEE"
   ]
  },
  {
   "cell_type": "markdown",
   "metadata": {},
   "source": [
    "Dans cette section, nous récupérons le nombre d'habitants par département disponible sur le site de l'INSEE."
   ]
  },
  {
   "cell_type": "code",
<<<<<<< HEAD
   "execution_count": 70,
=======
   "execution_count": null,
>>>>>>> c12b8e6454b21ae829c5864cd30e82adc7163348
   "metadata": {},
   "outputs": [],
   "source": [
    "# URL du fichier XLS contenant les données de population par département\n",
    "url = \"https://www.insee.fr/fr/statistiques/fichier/7752095/estim-pop-dep-sexe-gca-1975-2024.xls\"\n",
    "\n",
    "# Chemin du dossier où enregistrer les fichiers\n",
    "output_dir = \"data\"\n",
    "os.makedirs(output_dir, exist_ok=True)  # S'assure que le dossier \"data\" existe\n",
    "\n",
    "try:\n",
    "    # Télécharger le fichier XLS\n",
    "    response = requests.get(url)\n",
    "    response.raise_for_status()  # Vérifie que la requête a réussi\n",
    "\n",
    "    # Chemin complet pour enregistrer le fichier XLS\n",
    "    xls_file_path = os.path.join(output_dir, \"estim-pop-dep-sexe-gca-1975-2024.xls\")\n",
    "\n",
    "    # Sauvegarder le fichier XLS localement\n",
    "    with open(xls_file_path, \"wb\") as file:\n",
    "        file.write(response.content)\n",
    "    print(f\"Fichier téléchargé et enregistré sous '{xls_file_path}'\")\n",
    "\n",
    "    # Charger les données dans un DataFrame pandas\n",
    "    data = pd.read_excel(xls_file_path, sheet_name=None, engine='xlrd')  # Charger toutes les feuilles\n",
    "\n",
    "    # Afficher les noms des feuilles pour choisir celle à traiter\n",
    "    print(\"Feuilles disponibles :\", data.keys())\n",
    "\n",
    "    # Sélectionner une feuille spécifique (par exemple, la première)\n",
    "    sheet_name = list(data.keys())[2]  # Adapte selon le nom exact de la feuille\n",
    "    population_data = data[sheet_name]\n",
    "\n",
    "    # Chemin complet pour enregistrer le fichier CSV\n",
    "    csv_file_path = os.path.join(output_dir, \"estim_pop_departement.csv\")\n",
    "\n",
    "    # Sauvegarder la feuille sélectionnée dans un fichier CSV local\n",
    "    population_data.to_csv(csv_file_path, index=False, encoding=\"utf-8\")\n",
    "    print(f\"Fichier '{csv_file_path}' enregistré avec succès !\")\n",
    "\n",
    "except ImportError as e:\n",
    "    print(\"Erreur : xlrd n'est pas installé. Installez-le avec `pip install xlrd`.\")\n",
    "except requests.RequestException as e:\n",
    "    print(\"Erreur lors du téléchargement des données :\", e)\n",
    "except Exception as e:\n",
    "    print(\"Erreur lors du traitement des données :\", e)\n"
   ]
  },
  {
   "cell_type": "code",
<<<<<<< HEAD
   "execution_count": 71,
=======
   "execution_count": null,
>>>>>>> c12b8e6454b21ae829c5864cd30e82adc7163348
   "metadata": {},
   "outputs": [],
   "source": [
    "# Chemin du fichier local\n",
    "file_path = 'data/estim-pop-dep-sexe-gca-1975-2024.xls'\n",
    "\n",
    "try:\n",
    "    # Charger la feuille 2023\n",
    "    data_2023 = pd.read_excel(file_path, sheet_name='2023', engine='xlrd', header=None)\n",
    "\n",
    "    # Extraire les colonnes pertinentes\n",
    "    df_population = data_2023.iloc[5:101, [0, 7]]  # Lignes 6 à 101, colonnes 1 et 8\n",
    "\n",
    "    # Renommer les colonnes pour plus de clarté\n",
    "    df_population.columns = ['Département', 'Population']\n",
    "\n",
    "    # Supprimer les lignes contenant des valeurs nulles, si nécessaire\n",
    "    df_population.dropna(inplace=True)\n",
    "\n",
    "    # Sauvegarder dans un fichier CSV\n",
    "    df_population.to_csv(\"data/population_2023.csv\", index=False, encoding='utf-8')\n",
    "    print(\"Fichier 'population_2023.csv' créé avec succès.\")\n",
    "\n",
    "except Exception as e:\n",
    "    print(f\"Erreur lors du traitement du fichier : {e}\")\n"
   ]
  },
  {
   "cell_type": "code",
<<<<<<< HEAD
   "execution_count": 72,
   "metadata": {},
   "outputs": [
    {
     "data": {
      "text/html": [
       "<div>\n",
       "<style scoped>\n",
       "    .dataframe tbody tr th:only-of-type {\n",
       "        vertical-align: middle;\n",
       "    }\n",
       "\n",
       "    .dataframe tbody tr th {\n",
       "        vertical-align: top;\n",
       "    }\n",
       "\n",
       "    .dataframe thead th {\n",
       "        text-align: right;\n",
       "    }\n",
       "</style>\n",
       "<table border=\"1\" class=\"dataframe\">\n",
       "  <thead>\n",
       "    <tr style=\"text-align: right;\">\n",
       "      <th></th>\n",
       "      <th>Département</th>\n",
       "      <th>Population</th>\n",
       "    </tr>\n",
       "  </thead>\n",
       "  <tbody>\n",
       "    <tr>\n",
       "      <th>5</th>\n",
       "      <td>01</td>\n",
       "      <td>674071</td>\n",
       "    </tr>\n",
       "    <tr>\n",
       "      <th>6</th>\n",
       "      <td>02</td>\n",
       "      <td>523308</td>\n",
       "    </tr>\n",
       "    <tr>\n",
       "      <th>7</th>\n",
       "      <td>03</td>\n",
       "      <td>333355</td>\n",
       "    </tr>\n",
       "    <tr>\n",
       "      <th>8</th>\n",
       "      <td>04</td>\n",
       "      <td>167334</td>\n",
       "    </tr>\n",
       "    <tr>\n",
       "      <th>9</th>\n",
       "      <td>05</td>\n",
       "      <td>141438</td>\n",
       "    </tr>\n",
       "  </tbody>\n",
       "</table>\n",
       "</div>"
      ],
      "text/plain": [
       "  Département Population\n",
       "5          01     674071\n",
       "6          02     523308\n",
       "7          03     333355\n",
       "8          04     167334\n",
       "9          05     141438"
      ]
     },
     "execution_count": 72,
     "metadata": {},
     "output_type": "execute_result"
    }
   ],
=======
   "execution_count": null,
   "metadata": {},
   "outputs": [],
>>>>>>> c12b8e6454b21ae829c5864cd30e82adc7163348
   "source": [
    "df_population.head()"
   ]
  },
  {
   "cell_type": "markdown",
   "metadata": {},
   "source": [
    "## **II- Analyses descriptives**"
   ]
  },
  {
   "cell_type": "markdown",
   "metadata": {},
   "source": [
    "Dans cette partie, nous ferons essentiellement de l'analyse descriptive univariée et bivariée. De manière plus précise, il s'agira de visualiser la distribution des variables des différentes bases individuellement ou en croisant avec d'autres variables."
   ]
  },
  {
   "cell_type": "markdown",
   "metadata": {},
   "source": [
    "### 1)- Description de la base des usagers"
   ]
  },
  {
   "cell_type": "markdown",
   "metadata": {},
   "source": [
    "Selon le \"Guide BAAC 2017\" un usager est une personne physique impliquée dans un accident de la circulation en tant que conducteur/passager d'un véhicule ou piéton.\n",
    "\n",
    "La base usagers est constituée des variables d'identification des usagers, et principalement de variables catégorielles qui donnent des caractéristiques sur les usagers au moment de l'accident."
   ]
  },
  {
   "cell_type": "code",
<<<<<<< HEAD
   "execution_count": 73,
=======
   "execution_count": null,
>>>>>>> c12b8e6454b21ae829c5864cd30e82adc7163348
   "metadata": {},
   "outputs": [],
   "source": [
    "df_usagers.info()"
   ]
  },
  {
   "cell_type": "markdown",
   "metadata": {},
   "source": [
    "Par la suite, nous allons analyser les valeurs manquantes de cette base. Pour ce faire, en dehors des valeurs manquantes par défaut, nous remplaçons les modalités -1 par des valeurs manquantes, car en réalité ce sont des valeurs non renseignées donc des valeurs manquantes."
   ]
  },
  {
   "cell_type": "code",
<<<<<<< HEAD
   "execution_count": 74,
=======
   "execution_count": null,
>>>>>>> c12b8e6454b21ae829c5864cd30e82adc7163348
   "metadata": {},
   "outputs": [],
   "source": [
    "#recodage des variables trajet et actp de la base usager\n",
    "df_usagers[\"trajet\"]=df_usagers[\"trajet\"].replace(0, value=-1)\n",
    "df_usagers[\"actp\"]=df_usagers[\"actp\"].replace(0, value=-1)\n",
    "\n",
    "for column in df_usagers.columns:\n",
    "    df_usagers[column] = df_usagers[column].replace(-1, np.nan)\n",
    "    df_usagers[column] = df_usagers[column].replace(' -1', np.nan)\n",
    "    \n",
    "missing_percentage = (df_usagers.isnull().sum() / len(df_usagers)) * 100\n",
    "print(\"Pourcentage de valeurs manquantes par variable :\")\n",
    "print(missing_percentage)"
   ]
  },
  {
   "cell_type": "markdown",
   "metadata": {},
   "source": [
    "Plusieurs variables contiennent des valeurs manquantes, et certaines n'apportent quasiment aucunes informations. Il s'agit des variables \"secu3\" (3e équipement de sécurité) et \"etatp\" (renseigne si le piéton était accompagné ou non). Nous allons donc les supprimer dans la suite. En outre, d'autres variables ont près de la moitié de leurs valeurs qui sont manquantes (localisation du piéton, action du piéton, deuxième équipement de sécurité), ce qui pourrait biaisé les analyses. Il seront à en tenir compte dans les analyses."
   ]
  },
  {
   "cell_type": "code",
<<<<<<< HEAD
   "execution_count": 75,
=======
   "execution_count": null,
>>>>>>> c12b8e6454b21ae829c5864cd30e82adc7163348
   "metadata": {},
   "outputs": [],
   "source": [
    "df_usagers=df_usagers.drop([\"etatp\",\"secu3\"], axis=1)"
   ]
  },
  {
   "cell_type": "markdown",
   "metadata": {},
   "source": [
    "Pour une meilleure visualisation des graphiques, nous allons affectés des labels aux modalités. "
   ]
  },
  {
   "cell_type": "code",
<<<<<<< HEAD
   "execution_count": 76,
=======
   "execution_count": null,
>>>>>>> c12b8e6454b21ae829c5864cd30e82adc7163348
   "metadata": {},
   "outputs": [],
   "source": [
    "#Mapping \n",
    "sexe_labels = {1: 'Masculin', 2: 'Féminin', -1: 'Autres'}\n",
    "catu_labels = {1: 'Conducteur', 2: 'Passager', 3: 'Piéton'}\n",
    "grav_labels = {1: 'Indemne', 2: 'Tué', 3: 'Blessé hospitalisé > 24h', 4: 'Blessé léger',-1: 'Non renseigné'}\n",
    "secu1_labels = {-1: \"Non renseigné\", 0: \"Aucun équipement\", 1: \"Ceinture\", 2: \"Casque\", 3: \"Dispositif enfants\", 4: \"Gilet réfléchissant\",\n",
    "                5: \"Airbag (2RM/3RM)\", 6: \"Gants (2RM/3RM)\", 7: \"Gants + Airbag (2RM/3RM)\", 8: \"Non déterminable\", 9: \"Autre\" }\n",
    "\n",
    "secu2_labels = { -1: \"Non renseigné\", 0: \"Aucun équipement\", 1: \"Ceinture\", 2: \"Casque\", 3: \"Dispositif enfants\", 4: \"Gilet réfléchissant\",\n",
    "                 5: \"Airbag (2RM/3RM)\", 6: \"Gants (2RM/3RM)\", 7: \"Gants + Airbag (2RM/3RM)\", 8: \"Non déterminable\", 9: \"Autre\" }\n",
    "\n",
    "secu3_labels = {-1: \"Non renseigné\",0: \"Aucun équipement\",1: \"Ceinture\",2: \"Casque\",3: \"Dispositif enfants\",4: \"Gilet réfléchissant\",\n",
    "                5: \"Airbag (2RM/3RM)\", 6: \"Gants (2RM/3RM)\", 7: \"Gants + Airbag (2RM/3RM)\", 8: \"Non déterminable\", 9: \"Autre\"}\n",
    "\n",
    "locp_labels = { -1: 'Non renseigné', 0: 'Sans objet', 1: 'A + de 50 m du passage piéton', 2: 'A - de 50 m du passage piéton',\n",
    "             3: 'Sans signalisation lumineuse', 4: 'Avec signalisation lumineuse', 5: 'Trottoir', 6: 'Sur accotement', 7: 'Sur refuge ou BAU',\n",
    "            8: 'Sur contre-allée', 9: 'Inconnue' }                                                                                                                                  \n",
    "actp_labels = { ' -1': 'Non renseigné', '0': 'Sans objet', '1': 'Sens du véhicule heurtant', '2': 'Sens inverse du véhicule heurtant',\n",
    "              '3': 'Traversant', '4': 'Masqué', '5': 'Jouant-courant', '6': 'Avec animal', '7': 'Quitte l arrêt du TC', '8': 'Accède à l arrêt du TC',\n",
    "              '9': 'Autre', 'A': 'Monte ou descend de son véhicule', 'B': 'Inconnu' }\n",
    "\n",
    "etatp_labels = { -1:'Non renseigné', 0: 'Sans objet', 1: 'Seul', 2: 'Accompagé', 3: 'En groupe' }\n",
    "\n",
    "trajet_labels = { -1:'Non renseigné', 0: 'Non renseigné', 1: 'Domicile-travail', 2: 'Domicile-école', 3: 'Courses-achats', 4: 'Utilisation professionnelle',\n",
    "                 5: 'Promenade-loisirs', 9: 'Autre'}\n"
   ]
  },
  {
   "cell_type": "code",
<<<<<<< HEAD
   "execution_count": 77,
=======
   "execution_count": null,
>>>>>>> c12b8e6454b21ae829c5864cd30e82adc7163348
   "metadata": {},
   "outputs": [],
   "source": [
    "def mapping_apply(data,mapping_dict):\n",
    "    for column, mapping in mapping_dict.items():\n",
    "        if column in data.columns: \n",
    "            data[column] = data[column].map(mapping)"
   ]
  },
  {
   "cell_type": "code",
<<<<<<< HEAD
   "execution_count": 78,
=======
   "execution_count": null,
>>>>>>> c12b8e6454b21ae829c5864cd30e82adc7163348
   "metadata": {},
   "outputs": [],
   "source": [
    "mapping_dict1 = {\n",
    "    \"sexe\": sexe_labels,\n",
    "    \"catu\": catu_labels,\n",
    "    \"grav\": grav_labels,\n",
    "    \"trajet\": trajet_labels,\n",
    "    \"secu1\": secu1_labels,\n",
    "    \"secu2\": secu2_labels,\n",
    "    \"secu3\": secu3_labels,\n",
    "    \"locp\": locp_labels,\n",
    "    \"actp\": actp_labels,\n",
    "    \"etatp\": etatp_labels}\n",
    "    \n",
    "mapping_apply(df_usagers, mapping_dict1)"
   ]
  },
  {
   "cell_type": "markdown",
   "metadata": {},
   "source": [
    "La fonction ci-dessous permet de représenter les distributions des variables catégorielles. Nous allons l'utiliser dans la suite pour faire les représentations graphiques. Elle prend en entrée le dataframe pandas contenant les données et la liste des colonnes à représenter."
   ]
  },
  {
   "cell_type": "code",
<<<<<<< HEAD
   "execution_count": 79,
=======
   "execution_count": null,
>>>>>>> c12b8e6454b21ae829c5864cd30e82adc7163348
   "metadata": {},
   "outputs": [],
   "source": [
    "def plot_all_distributions1(df, columns):\n",
    "\n",
    "    # Définitions des titres des graphiques en fontion des variables choisies\n",
    "    column_titles = {\n",
    "        \"catu\":\"Categorie d'usagers\",\n",
    "        \"grav\":\"gravite des blessures de l'usager\",\n",
    "        \"trajet\":\"Motif du deplacement au moment de l'accident\",\n",
    "        \"secu1\":\"Equipement de securite 1\",\n",
    "        \"secu2\":\"Equipement de securite 2\",\n",
    "        \"secu3\":\"Equipement de securite 3\",\n",
    "        \"locp\":\"Localisation du pieton\",\n",
    "        \"actp\":\"Action du pieton\",\n",
    "        \"etatp\":\"Etat du pieton\",\n",
    "        \"senc\": \"Sens de circulation\",\n",
    "        \"obs\": \"Obstacles fixes heurtés\",\n",
    "        \"obsm\": \"Obstacle mobile heurté\",\n",
    "        \"choc\": \"Point de choc initial\",\n",
    "        \"manv\": \"Manœuvre principale avant l'accident\",\n",
    "        \"motor\": \"Type de motorisation du véhicule\",\n",
    "        \"place\": \"place\"\n",
    "    }\n",
    "    \n",
    "    # Définir le nombre de lignes et de colonnes pour les subplots\n",
    "    n_cols = 2  # Nombre de colonnes par ligne pour agrandir les graphiques\n",
    "    n_rows = (len(columns) + n_cols - 1) // n_cols  # Nombre total de lignes (arrondi vers le haut)\n",
    "    \n",
    "    # Initialiser la figure avec une taille plus grande\n",
    "    fig, axes = plt.subplots(n_rows, n_cols, figsize=(20, 6 * n_rows))\n",
    "    axes = axes.flatten()  # Aplatir le tableau des axes pour un accès facile\n",
    "    \n",
    "    # Parcourir les colonnes pour créer chaque graphique\n",
    "    for i, column in enumerate(columns):\n",
    "        sns.countplot(data=df, x=column, palette='viridis', ax=axes[i])\n",
    "        title = column_titles.get(column, column)  # Récupérer le titre ou le nom de la colonne par défaut\n",
    "        axes[i].set_title(f\"Distribution de '{title}'\", fontsize=14)\n",
    "        axes[i].set_xlabel(title, fontsize=12)\n",
    "        axes[i].set_ylabel(\"Counts\", fontsize=12)\n",
    "        axes[i].tick_params(axis='x', rotation=60)\n",
    "        \n",
    "        # Ajouter les valeurs au-dessus des barres\n",
    "        for p in axes[i].patches:\n",
    "            axes[i].annotate(f'{int(p.get_height())}',\n",
    "                             (p.get_x() + p.get_width() / 2., p.get_height()),\n",
    "                             ha='center', va='center',\n",
    "                             fontsize=10, color='black',\n",
    "                             xytext=(0, 5), textcoords='offset points')\n",
    "        \n",
    "    # Supprimer les axes vides si le nombre de graphiques est inférieur aux subplots\n",
    "    for j in range(i + 1, len(axes)):\n",
    "        fig.delaxes(axes[j])\n",
    "        \n",
    "    plt.tight_layout()\n",
    "    plt.show()"
   ]
  },
  {
   "cell_type": "code",
<<<<<<< HEAD
   "execution_count": 80,
=======
   "execution_count": null,
>>>>>>> c12b8e6454b21ae829c5864cd30e82adc7163348
   "metadata": {},
   "outputs": [],
   "source": [
    "columns1 =[\"catu\",\"grav\",\"trajet\",\"sexe\"]\n",
    "columns2 =[\"secu1\",\"secu2\",\"place\",\"actp\"]\n",
    "columns3 =[\"locp\"]"
   ]
  },
  {
   "cell_type": "code",
<<<<<<< HEAD
   "execution_count": 81,
=======
   "execution_count": null,
>>>>>>> c12b8e6454b21ae829c5864cd30e82adc7163348
   "metadata": {},
   "outputs": [],
   "source": [
    "plot_all_distributions1(df_usagers, columns1)"
   ]
  },
  {
   "cell_type": "markdown",
   "metadata": {},
   "source": [
    "On observe que la majorité des personnes impliquées dans des accidents sont des conducteurs (soit 93462 usagers), ensuite vient les passagers (22806 usagers) et enfin les piétons (9521 usagers).\n",
    "Par la suite, il en ressort que la majorité des usagers s'en sont sortit indemnes après l'accident, suivie d'un nombre important d'usagers (49603) qui ont subit des blessures légères. Il en ressort également un résultats alarmant selon lequel 19271 des cas d'accidents ont entrainé des blessures graves et nécessitent une hospitalisation de plus de 24 heures et 3398 accidents ont entrainé la mort des usagers\n",
    "\n",
    "En outre, une grande majorité des usagers  qui ont été victime d'un accident étaient en déplacement pour des promenades ou des loisirs. Il pourrait s'agir pour la plupart des jeunes qui pourrait être distrait et donc plus succeptible d'avoir un accident. Ensuite, les trajets domicile-travail et utilisation professionnelle révèlent l'importance des déplacements liés à l'activité professionnelle, totalisant une fréquence de 27478, et pointent des enjeux spécifiques comme les risques associés aux heures de pointe, au stress, et à la fatigue. Les trajets domicile-école (2986) et les déplacements pour courses-achats (3598) sont les moins observés.\n",
    "\n",
    "Enfin, la majorité des usagers impliqués dans les accidents sont de sexe masculin, représentant 66,8% du total. Cela suggère que, dans cette population, les hommes sont nettement plus nombreux que les femmes à être impliqués dans des accidents.Les femmes représentent 31,3% des usagers impliqués et la catégorie \"autres\" représente 1,9% des cas, ce qui pourrait inclure des personnes dont le sexe n'est pas précisé ou qui ne s'identifient pas selon les catégories traditionnelles de sexe. Cette proportion est relativement faible, mais elle mérite d'être mentionnée."
   ]
  },
  {
   "cell_type": "code",
<<<<<<< HEAD
   "execution_count": 82,
=======
   "execution_count": null,
>>>>>>> c12b8e6454b21ae829c5864cd30e82adc7163348
   "metadata": {},
   "outputs": [],
   "source": [
    "# Dans les commentaires, mentionner le fait que les résultats sont biaisé à cause de la forte proportion des valeurs manquantes \n",
    "# et peuvent en réalité ne pas refléter la vraie distribution dans la population des accidentés enregistré\n",
    "plot_all_distributions1(df_usagers, columns2)"
   ]
  },
  {
   "cell_type": "markdown",
   "metadata": {},
   "source": [
    "En examinant la répartition des dispositifs de sécurité secu1, on constate que la ceinture \n",
    "de sécurité est l'équipement le plus fréquemment utilisé, avec 72988 des usagers tandis que les dispositifs pour enfants représentent \n",
    "une part marginale, à 726 utilisations.\n",
    "\n",
    "Par suite, on observe de part la représentation de la variable \"secu2\" que une grande majorité des usagers n'utilisent pas un deuxième équipement de sécurité. Ils se contentent d'un seul équipement. Pour ceux qui en ont, ils portent des gangs en plus ou bien des équipements non déterminables pour la plupart. Les autres équipements et les combinaisons airbag personnel + gants (2/3 RM) sont les moins utilisés (467 et 141 utilisations respectivement). Cependant pour cette variable, les observations pourrait ne pas refléter la tendance réelle dans la population des accidentés enregistrés à cause de la forte proportion de valeurs manquantes.\n",
    "\n",
    "La variable \"place\" indique la position occupée par les usagers dans le véhicule au moment de l’accident. Les résultats montrent que la majorité des usagers se trouvent en position \"1\" (93440 usagers) au moment de l'accident, correspondant probablement au conducteur, suivie par la position \"2\" (14 060 usagers), qui représente vraisemblablement un passager avant. La position \"10\", qui concerne les piétons, regroupe 9 521 individus, tandis que les positions \"8\" (583 usagers) et \"6\" (202 usagers), probablement liées à des sièges spécifiques à l’arrière ou à des configurations de véhicules moins fréquentes comme les transports en commun ou les deux-roues, affichent les plus faibles fréquences. Ces résultats pourraient s’expliquer par une plus grande exposition des conducteurs et passagers avant dans les accidents, alors que les places moins accessibles ou moins utilisées sont naturellement sous-représentées. La proportion notable de piétons illustre également leur vulnérabilité dans les accidents de la route.\n",
    "\n",
    "De plus, pour la variable qui renseigne l'action du piéton, on observe une forte proportion d'actions sans objet, qui s'explique par le fait que cette variable n'est renseignée que pour les piétons (l'usager appartient à la catégorie des piétons). Donc pour un conducteur ou un passager, cette variable est manquante ou renseignée sans objet. Par exemple, 42% de valeurs manquantes de cette variable sont dû aux conducteurs comme on le montre par la suite. Pour les piétons (qui sont au nombre de 9521 usagers), près de 78% traversaient la route au moment de l'accident.Tandis que environ 7% se déplaçaient dans le sens du véhicule heurtant."
   ]
  },
  {
   "cell_type": "code",
<<<<<<< HEAD
   "execution_count": 83,
   "metadata": {},
   "outputs": [
    {
     "data": {
      "text/plain": [
       "np.float64(41.979823354983345)"
      ]
     },
     "execution_count": 83,
     "metadata": {},
     "output_type": "execute_result"
    }
   ],
=======
   "execution_count": null,
   "metadata": {},
   "outputs": [],
>>>>>>> c12b8e6454b21ae829c5864cd30e82adc7163348
   "source": [
    "df_usagers[df_usagers[\"catu\"]==\"Conducteur\"][\"actp\"].isnull().sum() / len(df_usagers)*100"
   ]
  },
  {
   "cell_type": "code",
<<<<<<< HEAD
   "execution_count": 84,
=======
   "execution_count": null,
>>>>>>> c12b8e6454b21ae829c5864cd30e82adc7163348
   "metadata": {},
   "outputs": [],
   "source": [
    "plot_all_distributions1(df_usagers, columns3)"
   ]
  },
  {
   "cell_type": "markdown",
   "metadata": {},
   "source": [
    "Ici également on a une forte proportion des sans objets, qui see justifie comme précedemment.\n",
    "La majorité des piétons se trouvaient dans des lieux sans signalisation lumineuse (34,35% des piétons), ensuite vient ceux qui se trouvaient à moins de 50 mètre du passage piéton (21%) puis ceux qui se trouvaient dans des zones à plus de 50 mètres du passage piéton (15%). La localisation précise de l'accident est inconnue dans moins de 6 % des cas, et seules de rares observations concernent des piétons sur des accotements (3,5 %) ou sur contre-allée (1,6 %).\n"
   ]
  },
  {
   "cell_type": "markdown",
   "metadata": {},
   "source": [
    "Par suite, nous analysons le distribution de l'âge chez les usagers. Pour ce faire, nous utiliserons la variable qui donne l'année de naissance des usagers pour calculer l'âge de ces usagers en 2023."
   ]
  },
  {
   "cell_type": "code",
<<<<<<< HEAD
   "execution_count": 85,
=======
   "execution_count": null,
>>>>>>> c12b8e6454b21ae829c5864cd30e82adc7163348
   "metadata": {},
   "outputs": [],
   "source": [
    "# Calcul de l'âge\n",
    "df_usagers['age'] = 2023 - df_usagers['an_nais']\n",
    "# Calcul des statistiques descriptives\n",
    "age_stats = df_usagers['age'].describe()\n",
    "\n",
    "age_summary = pd.DataFrame({'Statistique': ['Nombre', 'Moyenne', 'Écart-type', 'Min', '25%', '50% (médiane)', '75%', 'Max'],'Valeur': [int(age_stats['count']),round(age_stats['mean'], 2),round(age_stats['std'], 2),int(age_stats['min']),int(age_stats['25%']),int(age_stats['50%']),int(age_stats['75%']),int(age_stats['max']),]})\n",
    "print(tabulate(age_summary, headers='keys', tablefmt='fancy_grid', showindex=False))\n",
    "# Histogramme\n",
    "plt.figure(figsize=(10, 6))\n",
    "n, bins, patches = plt.hist(df_usagers['age'], bins=20, color='skyblue', edgecolor='black', alpha=0.7)\n",
    "# Ajouter les chiffres au-dessus de chaque barre\n",
    "for i in range(len(patches)):\n",
    "    plt.text(patches[i].get_x() + patches[i].get_width() / 2,  # Position X au centre de la barre\n",
    "             patches[i].get_height(),  # Position Y à la hauteur de la barre\n",
    "             f'{int(n[i])}',  # Afficher le nombre d'usagers\n",
    "             ha='center', va='bottom', fontsize=10, color='black')\n",
    "\n",
    "plt.title('Distribution des âges des usagers', fontsize=14)\n",
    "plt.xlabel('Âge', fontsize=12)\n",
    "plt.ylabel('Nombre d\\'usagers', fontsize=12)\n",
    "# Grille et ajustement\n",
    "plt.grid(axis='y', linestyle='--', alpha=0.7)\n",
    "plt.tight_layout()\n",
    "plt.show()"
   ]
  },
  {
   "cell_type": "markdown",
   "metadata": {},
   "source": [
    "La population analysée, composée de 123 191 usagers, présente un âge moyen de 38,75 ans, avec une dispersion modérée (écart-type de 19,1 ans) \n",
    "et une médiane de 35 ans (la moitié des individus ont moins de 35 ans). La majorité des usagers se situe entre 23 ans (1er quartile) \n",
    "et 52 ans (3e quartile), avec des âges extrêmes allant de 0 à 110 ans, bien que ces valeurs puissent être biaisées par des valeurs abbérantes.\n",
    "La distribution par tranche d'âge révèle une forte proportion de jeunes (11,2 % entre 10 et 19 ans) et une concentration probable dans les tranches d'âge actif (20-49 ans), tandis que les individus très âgés (100 ans et plus) restent marginaux (0,01 %). \n",
    "Ceci pourrait s'expliquer par le fait que ce sont les jeunes qui sont le plus souvent moins prudent sur la route, ou bien il peut s'agir de jeunes ayant eu leur permis il y a pas longtemps."
   ]
  },
  {
   "cell_type": "markdown",
   "metadata": {},
   "source": [
    "### 2)- Description de la base vehicules"
   ]
  },
  {
   "cell_type": "markdown",
   "metadata": {},
   "source": [
    "La base des véhicules est constituée des variables d'identification et des variables catégorielles qui catérisent les véhicules impliqués dans les circulations routières comme la catégorie du véhicule, l'object fixe et mobile heurté par le véhicule, etc."
   ]
  },
  {
   "cell_type": "code",
<<<<<<< HEAD
   "execution_count": 86,
=======
   "execution_count": null,
>>>>>>> c12b8e6454b21ae829c5864cd30e82adc7163348
   "metadata": {},
   "outputs": [],
   "source": [
    "df_vehicules.info()"
   ]
  },
  {
   "cell_type": "code",
<<<<<<< HEAD
   "execution_count": 87,
=======
   "execution_count": null,
>>>>>>> c12b8e6454b21ae829c5864cd30e82adc7163348
   "metadata": {},
   "outputs": [],
   "source": [
    "for column in df_vehicules.columns:\n",
    "    df_vehicules[column] = df_vehicules[column].replace(-1, np.nan)\n",
    "    df_vehicules[column] = df_vehicules[column].replace(' -1', np.nan)\n",
    "    \n",
    "missing_percentage = (df_vehicules.isnull().sum() / len(df_vehicules)) * 100\n",
    "print(\"Pourcentage de valeurs manquantes par variable :\")\n",
    "print(missing_percentage)"
   ]
  },
  {
   "cell_type": "markdown",
   "metadata": {},
   "source": [
    "Les variables de cette base contiennent moins de valeurs manquantes à l'exception de la variable \"occutc\"(renseigne sur le nombre d'occupant dans les transports en commun) qui a plus de 99% de valeurs manquantes. Nous allons la supprimer dans la suite car elle n'apporte pas d'informations."
   ]
  },
  {
   "cell_type": "code",
<<<<<<< HEAD
   "execution_count": 88,
=======
   "execution_count": null,
>>>>>>> c12b8e6454b21ae829c5864cd30e82adc7163348
   "metadata": {},
   "outputs": [],
   "source": [
    "df_vehicules = df_vehicules.drop([\"occutc\"], axis=1)"
   ]
  },
  {
   "cell_type": "markdown",
   "metadata": {},
   "source": [
    "Nous définissons le dictionnaire des variables pour cette base\n"
   ]
  },
  {
   "cell_type": "code",
<<<<<<< HEAD
   "execution_count": 89,
=======
   "execution_count": null,
>>>>>>> c12b8e6454b21ae829c5864cd30e82adc7163348
   "metadata": {},
   "outputs": [],
   "source": [
    "#Sens de circulation \n",
    "senc_labels = {-1: 'Non renseigné', 0: 'Inconnu', 1: 'PK ou PR ou numéro d\\'adresse postale croissant', \n",
    "            2: 'PK ou PR ou numéro d\\'adresse postale décroissant', 3: 'Absence de repère'}\n",
    "#obstacles_fixes_heurte\n",
    "obs_labels = {-1: \"Non renseigné\", 0: \"Sans objet\", 1: \"Véhicule en stationnement\", 2: \"Arbre\", 3: \"Glissière métallique\", 4: \"Glissière béton\",\n",
    "            5: \"Autre glissière\", 6: \"Bâtiment, mur, pile de pont\", 7: \"Support de signalisation verticale ou poste d’appel d’urgence\", 8: \"Poteau\",\n",
    "            9: \"Mobilier urbain\", 10: \"Parapet\", 11: \"Ilot, refuge, borne haute\", 12: \"Bordure de trottoir\", 13: \"Fossé, talus, paroi rocheuse\",\n",
    "            14: \"Autre obstacle fixe sur chaussée\", 15: \"Autre obstacle fixe sur trottoir ou accotement\", 16: \"Sortie de chaussée sans obstacle\", \n",
    "            17: \"Buse – tête d’aqueduc\"}\n",
    "#Catégorie du véhicule\n",
    "#1: véhicules à deux roues\n",
    "#2: quadricycle\n",
    "#3: engin lourd\n",
    "#4: véhicule léger\n",
    "#5: véhicule utilitaire\n",
    "#7: transport en commun\n",
    "#8: 3RM\n",
    "#9: EDP\n",
    "df_vehicules[\"catv\"] = df_vehicules[\"catv\"].replace([4,30,32,2,5,31,33,34],value=1)\n",
    "df_vehicules[\"catv\"] = df_vehicules[\"catv\"].replace([36,35,3],value=2)\n",
    "df_vehicules[\"catv\"] = df_vehicules[\"catv\"].replace([20,21, 13,14,15,16,17],value=3)\n",
    "df_vehicules[\"catv\"] = df_vehicules[\"catv\"].replace([7,8,9],value=4)\n",
    "df_vehicules[\"catv\"] = df_vehicules[\"catv\"].replace([10,11,12],value=5)\n",
    "df_vehicules[\"catv\"] = df_vehicules[\"catv\"].replace([18,37,39,19,40,38],value=7)\n",
    "df_vehicules[\"catv\"] = df_vehicules[\"catv\"].replace([41,42,43],value=8)\n",
    "df_vehicules[\"catv\"] = df_vehicules[\"catv\"].replace([50,60],value=9)\n",
    "\n",
    "catv_labels = { -1:\"Non renseigné\", 0: \"Indéterminable\", 1: \"vehicules à deux roues\", 2: \"quadricycle\",\n",
    "        3: \"engin lourd\", 4: \"vehicules léger\",\n",
    "        5: \"vehicules utilitaire\", 6: \"Référence inutilisée depuis 2006 (side-car)\", 7: \"transport en commun\",\n",
    "        8: \"3RM\", 9: \"EDP\", 80: \"VAE\", 99: \"Autre véhicule\"}\n",
    "#Obstacle mobile heurté\n",
    "obsm_labels = {-1: \"Non renseigné\", 0: \"Aucun\", 1: \"Piéton\", 2: \"Véhicule\", 4: \"Véhicule sur rail\", 5: \"Animal domestique\", 6: \"Animal sauvage\",\n",
    "        9: \"Autre\"}\n",
    "#point_de_choc_initial\n",
    "choc_labels = {-1: \"Non renseigné\", 0: \"Aucun\", 1: \"Avant\", 2: \"Avant droit\", 3: \"Avant gauche\", 4: \"Arrière\", 5: \"Arrière droit\", 6: \"Arrière gauche\",\n",
    "         7: \"Côté droit\", 8: \"Côté gauche\", 9: \"Chocs multiples (tonneaux)\"}\n",
    "#manoeuvre_principale_avant_accident\n",
    "manv_labels= {-1: \"Non renseigné\", 0: \"Inconnue\", 1: \"Sans changement de direction\", 2: \"Même sens, même file\", 3: \"Entre 2 files\", 4: \"En marche arrière\",\n",
    "        5: \"A contresens\", 6: \"En franchissant le terre-plein central\", 7: \"Dans le couloir bus, dans le même sens\", 8: \"Dans le couloir bus, dans le sens inverse\",\n",
    "        9: \"En s’insérant\", 10: \"En faisant demi-tour sur la chaussée\", 11: \"Changeant de file\", 12: \"Changeant de file\", 13: \"Déporté\", 14: \"Déporté\",\n",
    "        15: \"Tournant\", 16: \"Tournant\", 17: \"Dépassant\", 18: \"Dépassant\", 19: \"Divers\", 20: \"Divers\", 21: \"Divers\", 22: \"Divers\", 23: \"Divers\",\n",
    "        24: \"Divers\", 25: \"Divers\", 26: \"Divers\"}\n",
    "\n",
    "#type_motorisation_vehicule\n",
    "motor_labels = {-1: \"Non renseigné\", 0: \"Inconnue\", 1: \"Hydrocarbures\", 2: \"Hybride électrique\", 3: \"Electrique\", 4: \"Hydrogène\", 5: \"Humaine\",\n",
    "        6: \"Autre\"}"
   ]
  },
  {
   "cell_type": "code",
<<<<<<< HEAD
   "execution_count": 90,
=======
   "execution_count": null,
>>>>>>> c12b8e6454b21ae829c5864cd30e82adc7163348
   "metadata": {},
   "outputs": [],
   "source": [
    "mapping_dict2 = {\n",
    "    \"senc\": senc_labels,\n",
    "    \"catv\": catv_labels,\n",
    "    \"obs\": obs_labels,\n",
    "    \"choc\": choc_labels,\n",
    "    \"obsm\": obsm_labels,\n",
    "    \"manv\": manv_labels,\n",
    "    \"motor\": motor_labels,\n",
    "}\n",
    "mapping_apply(df_vehicules,mapping_dict2)"
   ]
  },
  {
   "cell_type": "code",
<<<<<<< HEAD
   "execution_count": 91,
=======
   "execution_count": null,
>>>>>>> c12b8e6454b21ae829c5864cd30e82adc7163348
   "metadata": {},
   "outputs": [],
   "source": [
    "plot_all_distributions1(df_vehicules, [\"senc\", \"obsm\",\"choc\", \"motor\"])"
   ]
  },
  {
   "cell_type": "markdown",
   "metadata": {},
   "source": [
    "Dans la majorité des cas, l'accident a eu lieu dans un sens de circulation de point kilométrique (PK), ou point de repère (PR) ou numéro d'adresse postale croissant (41 843 cas), suivis des cas avec PK ou PR ou numéro d'adresse postale décroissant(32002). tandis qu'une proportion non négligeable (5 173 usagers) a été enregistrée avec un sens de circulation inconnu, ce qui pourrait refléter des lacunes dans la collecte des données ou des situations ambiguës, telles que des accidents survenus à des intersections, dans des zones non balisées, ou impliquant des usagers pour lesquels la direction était difficile à déterminer.\n",
    "\n",
    "Concernant l'obstacle mobile heurté (obsm), dans la plupart des accidents l'objet mobile heurté est un véhicule. Ensuite, 17 760 véhicules n'ont pas heurté un obstacle mobile lors de l'accident (il pourrait s'agir plutôt d'obstacle fixe), et 9 349 véhicules ont heurté des piétons. Ces chiffres pourraient refléter un non-respect du code de la route ou des comportements imprudents. En revanche, une faible proportion des accidents est liée à des animaux domestiques (77 cas), des animaux sauvages (134 cas) et des véhicules sur rail (93 cas).\n",
    "\n",
    "D'autre part, les chocs lors des accidents se produisent principalement à l’avant du véhicule (34 068 cas), suivis des collisions à l’avant gauche (13 917 cas) et à l’avant droit (11 505 cas), tandis que les chocs multiples (tonneaux) sont rares (1 274 cas), suggérant que les impacts frontaux sont les plus fréquents, mais que les risques graves, bien que moins fréquents, concernent surtout les accidents complexes et les collisions arrière droit (2 668 cas).\n",
    "\n",
    "Par suite, la distribution du type de motorisation du véhicule montre une nette domination des véhicules à hydrocarbures, avec 72 949 occurrences, ce qui reflète leur omniprésence dans les transports actuels. Les motorisations alternatives, comme l'hydrogène (110 véhicules), les hybrides électriques (1 918 véhicules) et les électriques (4 983 véhicules), affichent des fréquences bien plus faibles, témoignant de leur adoption encore limitée. Les véhicules à propulsion humaine (5 352 cas) et les motorisations \"inconnues\" (7 537 cas) occupent une part non négligeable, ce qui pourrait s'expliquer par des catégories spécifiques de véhicules ou des limitations dans la collecte des données. Ces résultats traduisent la prédominance actuelle des véhicules thermiques tout en laissant entrevoir une légère diversification vers des alternatives plus écologiques."
   ]
  },
  {
   "cell_type": "code",
<<<<<<< HEAD
   "execution_count": 92,
=======
   "execution_count": null,
>>>>>>> c12b8e6454b21ae829c5864cd30e82adc7163348
   "metadata": {},
   "outputs": [],
   "source": [
    "def other_plot(df, column, title, xlabel, ylabel=\"Frequence\", rotation=45, palette='viridis'):\n",
    "    plt.figure(figsize=(20, 6))\n",
    "    ax = sns.countplot(x=df[column], palette=palette)\n",
    "    \n",
    "    # Ajouter les chiffres sur les barres\n",
    "    for p in ax.patches:\n",
    "        ax.annotate(f'{int(p.get_height())}', \n",
    "                    (p.get_x() + p.get_width() / 2., p.get_height()), \n",
    "                    ha='center', va='baseline', fontsize=12, color='black', xytext=(0, 5), \n",
    "                    textcoords='offset points')\n",
    "    \n",
    "    plt.title(title)\n",
    "    plt.xlabel(xlabel)\n",
    "    plt.ylabel(ylabel)\n",
    "    plt.xticks(rotation=rotation)\n",
    "    plt.show()\n"
   ]
  },
  {
   "cell_type": "code",
<<<<<<< HEAD
   "execution_count": 93,
=======
   "execution_count": null,
>>>>>>> c12b8e6454b21ae829c5864cd30e82adc7163348
   "metadata": {},
   "outputs": [],
   "source": [
    "other_plot(df_vehicules, \"obs\", \"Distribution de obstacle fixe heurté\", \"Obstacle fixe heurté\")"
   ]
  },
  {
   "cell_type": "markdown",
   "metadata": {},
   "source": [
    "On observe une prépondérance des valeurs sans objets qui après analyse de la base, s'interprète comme aucun obstacle fixe heurté ou bien non déterminé. Pour des véhicules qui ont heurté un obstacle mobile sans avoir heurté un obstacle fixe, la valeur pour cette variable est sans objet. Parmi les obstacles fixes les plus fréquemment heurtés, on trouve les véhicules en stationnement (2 234 cas), glissières de béton (1 397 cas), et les fossés, talus ou parois rocheuses (1 717 cas), tandis que les obstacles moins courants incluent des buses - têtes d'aqueduc (100 cas) et des îlots-refuges, bornes hautes (57 cas)."
   ]
  },
  {
   "cell_type": "code",
<<<<<<< HEAD
   "execution_count": 94,
=======
   "execution_count": null,
>>>>>>> c12b8e6454b21ae829c5864cd30e82adc7163348
   "metadata": {},
   "outputs": [],
   "source": [
    "other_plot(df_vehicules, \"manv\", \"Distribution de manoeuvre principale avant l’accident\", \"Manoeuvre principale avant l’accident \")"
   ]
  },
  {
   "cell_type": "markdown",
   "metadata": {},
   "source": [
    "La distribution de la manœuvre principale avant l'accident révèle que la majorité des usagers n’effectuaient aucun changement de direction (38 979 cas), ce qui reflète une situation où les accidents surviennent principalement lors de trajets linéaires, sans manœuvres complexes. Les catégories \"Même sens, même file\" (10 654 cas) et \"Tournant\" (9 827 cas) représentent également des situations courantes, probablement dues à des erreurs dans des contextes de dépassement ou de virages. Les catégories \"Inconnu\" (6 253 cas) et \"Déporté\" (6 025 cas) indiquent des manœuvres moins précises ou des comportements inattendus avant l'accident. Enfin, les fréquences les plus faibles concernent des manœuvres spécifiques comme \"Dans le couloir, dans le sens inverse\" (22 cas) et \"En marche arrière\" (452 cas), ce qui peut s’expliquer par leur rareté dans les déplacements habituels. Ces résultats montrent que les accidents sont davantage liés à des situations de conduite courantes qu’à des manœuvres atypiques."
   ]
  },
  {
   "cell_type": "code",
<<<<<<< HEAD
   "execution_count": 95,
=======
   "execution_count": null,
>>>>>>> c12b8e6454b21ae829c5864cd30e82adc7163348
   "metadata": {},
   "outputs": [],
   "source": [
    "other_plot(df_vehicules, \"catv\", \"Distribution de categorie de vehicule\", \"categorie de vehicule\")"
   ]
  },
  {
   "cell_type": "markdown",
   "metadata": {},
   "source": [
    "La distribution de la catégorie de véhicule (catv) montre une nette prédominance des véhicules légers seuls (VL seul), avec 54 620 cas, ce qui reflète leur rôle central dans la majorité des déplacements. Les catégories \"EDP à moteur\" (7 688 cas) et \"Scooter > 50 cm3 et <= 125 cm3\" (6 853 cas) occupent également des parts significatives (Non au sens de la théorie des tests), indiquant leur utilisation fréquente, notamment en milieu urbain. À l'inverse, les véhicules moins courants, comme les \"Quads légers <= 50 cm3 (Quadricycles à moteur non carrossés)\" (3 cas) et les \"3 roues motorisées <= 50 cm3\" (21 cas), affichent des fréquences extrêmement faibles. Ces résultats mettent en évidence une concentration des accidents impliquant des véhicules largement répandus et un risque plus limité pour des véhicules moins couramment utilisés, probablement en raison de leur usage spécifique ou restreint. "
   ]
  },
  {
   "cell_type": "markdown",
   "metadata": {},
   "source": [
    "### 3)- Description de la base des lieux"
   ]
  },
  {
   "cell_type": "markdown",
   "metadata": {},
   "source": [
    "La base des lieux est constituée de la variable d'identification qui donne le numéro de l'accident, car l'accident a lieu dans un endroit précis, ainsi que des variables catégorielles qui caractérisent le lieu de l'accident telles que la catégorie de la route, l'infrastructure de la route, le regime de circulation, etc. Aussi, il y a des variables continues telles que le nombre de voie de la circulation sur la route, la vitesse maximale, etc."
   ]
  },
  {
   "cell_type": "code",
<<<<<<< HEAD
   "execution_count": 96,
=======
   "execution_count": null,
>>>>>>> c12b8e6454b21ae829c5864cd30e82adc7163348
   "metadata": {},
   "outputs": [],
   "source": [
    "df_lieux.info()"
   ]
  },
  {
   "cell_type": "code",
<<<<<<< HEAD
   "execution_count": 97,
=======
   "execution_count": null,
>>>>>>> c12b8e6454b21ae829c5864cd30e82adc7163348
   "metadata": {},
   "outputs": [],
   "source": [
    "for column in df_lieux.columns:\n",
    "    df_lieux[column] = df_lieux[column].replace(-1, np.nan)\n",
    "    df_lieux[column] = df_lieux[column].replace(' -1', np.nan)\n",
    "    \n",
    "missing_percentage = (df_lieux.isnull().sum() / len(df_lieux)) * 100\n",
    "print(\"Pourcentage de valeurs manquantes par variable :\")\n",
    "print(missing_percentage)"
   ]
  },
  {
   "cell_type": "markdown",
   "metadata": {},
   "source": [
    "Plusieurs variables ont de fortes proportions de valeurs manquantes dans cette base. Néamoins toutes n'interviendront pas dans les analyses, notamment les variables \"voie\",\"v1\",\"v2\" qui servent à identifier la route. De plus la variable qui donne la largeur du terre plein centrale (lartpc) à 99% de valeurs manquantes tandis que celle qui donne la largeur de la chaussée affectée à la circulation des véhicules (larrout) à 74% de valeurs manquantes.\n"
   ]
  },
  {
   "cell_type": "markdown",
   "metadata": {},
   "source": [
    " Définissons le dictionnaire des variables."
   ]
  },
  {
   "cell_type": "code",
<<<<<<< HEAD
   "execution_count": 98,
=======
   "execution_count": null,
>>>>>>> c12b8e6454b21ae829c5864cd30e82adc7163348
   "metadata": {},
   "outputs": [],
   "source": [
    "catr_labels = {1: \"Autoroute\", 2: \"Route nationale\", 3: \"Route départementale\",4: \"Voie communale\", 5: \"Hors réseau public\",\n",
    "        6: \"Parc de stationnement\", 7: \"Routes de métropole urbaine\", 9: \"Autre\"}\n",
    "\n",
    "circ_labels = { 1: \"À sens unique\",  2: \"Bidirectionnelle\", 3: \"À chaussées séparées\", 4: \"Avec voies d’affectation variable\"}\n",
    "\n",
    "vosp_labels = { 0: \"Sans objet\", 1: \"Piste cyclable\", 2: \"Bande cyclable\", 3: \"Voie réservée\"}\n",
    "\n",
    "prof_labels = { 1: \"Plat\", 2: \"Pente\", 3: \"Sommet de côte\", 4: \"Bas de côte\"}\n",
    "\n",
    "plan_labels = { 1: \"Partie rectiligne\", 2: \"En courbe à gauche\", 3: \"En courbe à droite\",4: \"En 'S'\"}\n",
    "\n",
    "surf_labels = {  1: \"Normale\", 2: \"Mouillée\", 3: \"Flaques\", 4: \"Inondée\", 5: \"Enneigée\", 6: \"Boue\", 7: \"Verglacée\",\n",
    "     8: \"Corps gras – huile\", 9: \"Autre\"}\n",
    "\n",
    "infra_labels = { 0: \"Aucun\", 1: \"Souterrain - tunnel\", 2: \"Pont - autopont\", 3: \"Bretelle d’échangeur\", 4: \"Voie ferrée\",\n",
    "     5: \"Carrefour aménagé\", 6: \"Zone piétonne\", 7: \"Zone de péage\", 8: \"Chantier\",9: \"Autres\"}\n",
    "\n",
    "situ_labels = {0: \"Aucun\",1: \"Sur chaussée\",2: \"Sur bande d’arrêt d’urgence\",3: \"Sur accotement\",4: \"Sur trottoir\",\n",
    "    5: \"Sur piste cyclable\", 6: \"Sur autre voie spéciale\", 8: \"Autres\"}"
   ]
  },
  {
   "cell_type": "code",
<<<<<<< HEAD
   "execution_count": 99,
=======
   "execution_count": null,
>>>>>>> c12b8e6454b21ae829c5864cd30e82adc7163348
   "metadata": {},
   "outputs": [],
   "source": [
    "lum_labels = {1: \"Plein jour\",2: \"Crépuscule ou aube\", 3: \"Nuit sans éclairage public\", 4: \"Nuit avec éclairage public non allumé\",\n",
    "    5: \"Nuit avec éclairage public allumé\"\n",
    "}\n",
    "\n",
    "agg_labels = {\n",
    "    1: \"Hors agglomération\",\n",
    "    2: \"En agglomération\"\n",
    "}\n",
    "\n",
    "int_labels = { 1: \"Hors intersection\", 2: \"Intersection en X\", 3: \"Intersection en T\", 4: \"Intersection en Y\", 5: \"Intersection à plus de 4 branches\",\n",
    "    6: \"Giratoire\",7: \"Place\", 8: \"Passage à niveau\", 9: \"Autre intersection\"\n",
    "}\n",
    "\n",
    "atm_labels = { 1: \"Normale\", 2: \"Pluie légère\", 3: \"Pluie forte\", 4: \"Neige - grêle\", 5: \"Brouillard - fumée\",\n",
    "     6: \"Vent fort - tempête\", 7: \"Temps éblouissant\", 8: \"Temps couvert\", 9: \"Autre\"\n",
    "}\n",
    "\n",
    "col_labels = { 1: \"Deux véhicules - frontale\", 2: \"Deux véhicules – par l’arrière\",3: \"Deux véhicules – par le côté\",\n",
    "    4: \"Trois véhicules et plus – en chaîne\", 5: \"Trois véhicules et plus - collisions multiples\", 6: \"Autre collision\", 7: \"Sans collision\"\n",
    "}"
   ]
  },
  {
   "cell_type": "code",
<<<<<<< HEAD
   "execution_count": 100,
=======
   "execution_count": null,
>>>>>>> c12b8e6454b21ae829c5864cd30e82adc7163348
   "metadata": {},
   "outputs": [],
   "source": [
    "# mapping des variables\n",
    "mapping_dict1 = {\n",
    "    \"catr\": catr_labels,\n",
    "    \"circ\": circ_labels,\n",
    "    \"vosp\": vosp_labels,\n",
    "    \"prof\": prof_labels,\n",
    "    \"plan\": plan_labels,\n",
    "    \"agg\": agg_labels,\n",
    "    \"col\": col_labels,\n",
    "    \"atm\": atm_labels,\n",
    "    \"situ\": situ_labels,\n",
    "    \"infra\": infra_labels,\n",
    "    \"surf\": surf_labels}\n",
    "    \n",
    "mapping_apply(df_lieux, mapping_dict1)"
   ]
  },
  {
   "cell_type": "markdown",
   "metadata": {},
   "source": [
    "Nous allons dans un premier temps observer le nombre d'accidents par type de route et par mois. "
   ]
  },
  {
   "cell_type": "code",
<<<<<<< HEAD
   "execution_count": 101,
=======
   "execution_count": null,
>>>>>>> c12b8e6454b21ae829c5864cd30e82adc7163348
   "metadata": {},
   "outputs": [],
   "source": [
    "# Comptage des occurrences par catégorie de route\n",
    "catr_counts = df_lieux['catr'].value_counts().sort_index()\n",
    "catr_gravite_prop = (\n",
    "    df_lieux.merge(df_usagers, on=[\"Num_Acc\"], how=\"inner\")\n",
    "    .groupby(['catr', 'grav'])\n",
    "    .size()\n",
    "    .unstack(fill_value=0)\n",
    ")\n",
    "\n",
    "# Calcul des proportions par catégorie de route\n",
    "catr_gravite_prop = catr_gravite_prop.div(catr_gravite_prop.sum(axis=1), axis=0)\n",
    "\n",
    "# Création des deux graphiques côte à côte\n",
    "fig, axes = plt.subplots(1, 2, figsize=(15, 6), sharey=False)\n",
    "\n",
    "# Graphique 1 : Nombre d'accidents par type de route\n",
    "axes[0].bar(catr_counts.index, catr_counts, color='green', edgecolor='black')\n",
    "axes[0].set_title(\"Nombre d'accidents par type de route (catr)\")\n",
    "axes[0].set_xlabel(\"Type de route\")\n",
    "axes[0].set_ylabel(\"Nombre d'accidents\")\n",
    "axes[0].tick_params(axis='x', rotation=45)\n",
    "\n",
    "#Graphique 2 :\n",
    "# Calcul des pourcentages d'accidents par mois\n",
    "mois_counts = df_caract['mois'].value_counts(normalize=True).sort_index() * 100\n",
    "\n",
    "axes[1].bar(mois_counts.index, mois_counts, color='lightcoral', edgecolor='black')\n",
    "axes[1].set_title(\"Pourcentage d'accidents par mois\")\n",
    "axes[1].set_xlabel(\"Mois\")\n",
    "axes[1].set_ylabel(\"Pourcentage d'accidents\")\n",
    "axes[1].set_xticks(range(1, 13))\n",
    "axes[1].set_xticklabels([\n",
    "    \"Janvier\", \"Février\", \"Mars\", \"Avril\", \"Mai\", \"Juin\", \n",
    "    \"Juillet\", \"Août\", \"Septembre\", \"Octobre\", \"Novembre\", \"Décembre\"\n",
    "], rotation=45)\n",
    "axes[1].yaxis.set_major_formatter(plt.FuncFormatter(lambda y, _: f'{y:.0f}%'))\n",
    "\n",
    "# Ajustement de la mise en page\n",
    "plt.tight_layout()\n",
    "plt.show()\n"
   ]
  },
  {
   "cell_type": "markdown",
   "metadata": {},
   "source": [
    "De la distribution des accidents par type de route, on observe que: \n",
    "- Les **voies communales** et les **routes départementales** présentent le plus grand nombre d'accidents, avec une proportion nettement supérieure aux autres types de routes.\n",
    "- Les **autoroutes** et les **routes nationales** ont beaucoup moins d'accidents en comparaison.\n",
    "- Les types de routes comme le **parc de stationnement**, les **routes de métropole urbaine** et les routes **hors réseau public** ont des nombres d'accidents très faibles.\n",
    "\n",
    "S'agissant de la distribution des accidents par mois, on constate une augmentation des accidents pendant les mois d'été (**mai, juin, juillet**), avec un pic en **juin**. Tandis que les mois d'hiver (**novembre, décembre, février**) enregistrent des pourcentages légèrement inférieurs.\n",
    "\n",
    "\n",
    "\n"
   ]
  },
  {
   "cell_type": "markdown",
   "metadata": {},
   "source": [
    "Observons maintenant les conditions atmosphériques. "
   ]
  },
  {
   "cell_type": "code",
<<<<<<< HEAD
   "execution_count": 102,
=======
   "execution_count": null,
>>>>>>> c12b8e6454b21ae829c5864cd30e82adc7163348
   "metadata": {},
   "outputs": [],
   "source": [
    "months_jj = [6, 7]\n",
    "months_so = [ 9, 10]\n",
    "# Créer des copies explicites des DataFrames filtrés\n",
    "data_jj = df_caract[df_caract['mois'].isin(months_jj)].copy()\n",
    "data_so = df_caract[df_caract['mois'].isin(months_so)].copy()\n",
    "\n",
    "# Remplacer les indices par leurs labels AVANT de calculer les pourcentages\n",
    "data_jj['atm_label'] = data_jj['atm'].map(atm_labels)\n",
    "data_so['atm_label'] = data_so['atm'].map(atm_labels)\n",
    "\n",
    "# Compter les accidents par conditions atmosphériques pour chaque groupe\n",
    "atm_counts_jj = data_jj['atm_label'].value_counts().sort_index()\n",
    "atm_counts_so = data_so['atm_label'].value_counts().sort_index()\n",
    "\n",
    "# Calcul des pourcentages pour chaque groupe\n",
    "total_jj = atm_counts_jj.sum()\n",
    "total_so = atm_counts_so.sum()\n",
    "\n",
    "jj_percentages = {label: (atm_counts_jj.get(label, 0) / total_jj) * 100 for label in atm_counts_jj.index}\n",
    "so_percentages = {label: (atm_counts_so.get(label, 0) / total_so) * 100 for label in atm_counts_so.index}\n",
    "\n",
    "# Préparation des données pour affichage côte à côte\n",
    "combined_labels = sorted(set(atm_counts_jj.index).union(set(atm_counts_so.index)))\n",
    "jj_values = [jj_percentages.get(label, 0) for label in combined_labels]\n",
    "so_values = [so_percentages.get(label, 0) for label in combined_labels]\n",
    "\n",
    "x = np.arange(len(combined_labels))  # Positions pour les groupes de barres\n",
    "\n",
    "# Création du graphique\n",
    "plt.figure(figsize=(12, 6))\n",
    "bar_width = 0.4\n",
    "\n",
    "# Barres pour Juin-Juillet\n",
    "plt.bar(x - bar_width / 2, jj_values, bar_width, color='skyblue', edgecolor='black', label='Juin-Juillet', alpha=0.7)\n",
    "\n",
    "# Barres pour Septembre-Octobre\n",
    "plt.bar(x + bar_width / 2, so_values, bar_width, color='orange', edgecolor='black', label='Septembre-Octobre', alpha=0.7)\n",
    "\n",
    "# Personnalisation du graphique\n",
    "plt.title(\"Pourcentage d'accidents par conditions atmosphériques\")\n",
    "plt.xlabel(\"Conditions atmosphériques\")\n",
    "plt.ylabel(\"Pourcentage d'accidents\")\n",
    "plt.xticks(ticks=x, labels=combined_labels, rotation=45)\n",
    "plt.legend()\n",
    "plt.tight_layout()\n",
    "\n",
    "# Affichage du graphique\n",
    "plt.show()\n"
   ]
  },
  {
   "cell_type": "markdown",
   "metadata": {},
   "source": [
    "Le graphique précédent montre une augmentation notable du nombre d'accidents pendant les mois de **juin, juillet** et **septembre, octobre**. Cela pourrait être lié à des périodes spécifiques de l'année :\n",
    "- **Juin et juillet** correspondent aux mois de vacances, marqués par une augmentation des déplacements.\n",
    "- **Septembre et octobre** coïncident avec la rentrée scolaire et professionnelle, entraînant une hausse de l'activité sur les routes.\n",
    "\n",
    "En approfondissant l'analyse des conditions météorologiques pendant ces périodes, on constate que :\n",
    "- Bien que les **conditions normales** (sans intempéries) restent majoritaires, les mois de **septembre-octobre** enregistrent une proportion plus élevée d'accidents survenant par **temps pluvieux**.\n",
    "\n",
    "Ces observations pourraient encourager une exploration plus détaillée des interactions entre la météo et les comportements des usagers de la route pendant ces périodes.\n"
   ]
  },
  {
   "cell_type": "code",
<<<<<<< HEAD
   "execution_count": 103,
=======
   "execution_count": null,
>>>>>>> c12b8e6454b21ae829c5864cd30e82adc7163348
   "metadata": {},
   "outputs": [],
   "source": [
    "# Filtrage des données nécessaires pour l'analyse des infrastructures\n",
    "infra_counts = df_lieux['infra'].value_counts().sort_index()\n",
    "surf_counts = df_lieux['surf'].value_counts().sort_index()\n",
    "prof_counts = df_lieux['prof'].value_counts().sort_index()\n",
    "plan_counts = df_lieux['plan'].value_counts().sort_index()\n",
    "\n",
    "# Calcul des pourcentages pour chaque variable\n",
    "infra_percentages = (infra_counts / infra_counts.sum()) * 100\n",
    "surf_percentages = (surf_counts / surf_counts.sum()) * 100\n",
    "prof_percentages = (prof_counts / prof_counts.sum()) * 100\n",
    "plan_percentages = (plan_counts / plan_counts.sum()) * 100\n",
    "\n",
    "# Création des graphiques pour chaque variable\n",
    "plt.figure(figsize=(12, 6))\n",
    "\n",
    "# Graphique pour les infrastructures\n",
    "plt.subplot(2, 2, 1)\n",
    "infra_percentages.plot(kind='bar', color='skyblue', edgecolor='black')\n",
    "plt.title(\"Aménagements - Infrastructure (infra)\")\n",
    "plt.xlabel(\"Type d'infrastructure\")\n",
    "plt.ylabel(\"Pourcentage d'accidents\")\n",
    "plt.xticks(rotation=45)\n",
    "\n",
    "# Graphique pour l'état de la surface\n",
    "plt.subplot(2, 2, 2)\n",
    "surf_percentages.plot(kind='bar', color='lightgreen', edgecolor='black')\n",
    "plt.title(\"État de la surface (surf)\")\n",
    "plt.xlabel(\"État de la surface\")\n",
    "plt.ylabel(\"Pourcentage d'accidents\")\n",
    "plt.xticks(rotation=45)\n",
    "\n",
    "# Graphique pour le profil en long\n",
    "plt.subplot(2, 2, 3)\n",
    "prof_percentages.plot(kind='bar', color='salmon', edgecolor='black')\n",
    "plt.title(\"Profil en long (prof)\")\n",
    "plt.xlabel(\"Profil\")\n",
    "plt.ylabel(\"Pourcentage d'accidents\")\n",
    "plt.xticks(rotation=45)\n",
    "\n",
    "# Graphique pour le tracé en plan\n",
    "plt.subplot(2, 2, 4)\n",
    "plan_percentages.plot(kind='bar', color='orange', edgecolor='black')\n",
    "plt.title(\"Tracé en plan (plan)\")\n",
    "plt.xlabel(\"Tracé\")\n",
    "plt.ylabel(\"Pourcentage d'accidents\")\n",
    "plt.xticks(rotation=45)\n",
    "\n",
    "plt.tight_layout()\n",
    "plt.show()\n"
   ]
  },
  {
   "cell_type": "markdown",
   "metadata": {},
   "source": [
    "La majorité des accidents se produisent dans des zones sans infrastructure particulière **(Aucun)**, ce qui pourrait inclure des routes standard sans aménagements spécifiques.\n",
    "Les infrastructures comme les Souterrains - tunnels, Ponts, ou Zones piétonnes enregistrent très peu d'accidents, probablement en raison d'une conception adaptée ou d'une moindre fréquentation.\n",
    "\n",
    "*Hypothèse* : Les zones standard et non aménagées peuvent représenter des risques accrus, notamment en raison d'un manque de signalisation ou d'infrastructures de sécurité.\n",
    "\n",
    "En outre, **l'état Normal** de la surface est de loin le plus fréquent pour les accidents, ce qui peut indiquer que la météo ou les conditions de la chaussée ne sont pas systématiquement les principaux facteurs. Les états Mouillée et d'autres conditions comme Verglacée ou Boueuse représentent une faible proportion d'accidents.\n",
    "\n",
    "*Hypothèse* : Les accidents se produisent souvent dans des conditions normales, suggérant que d'autres facteurs comme la vitesse, l'inattention, ou les caractéristiques des routes (profil, plan) peuvent jouer un rôle important."
   ]
  },
  {
   "cell_type": "markdown",
   "metadata": {},
   "source": [
    "### 4)- Description de la base caract"
   ]
  },
  {
   "cell_type": "markdown",
   "metadata": {},
   "source": [
    "La base des caractéristiques renseignent sur la situation spatiale, temporelle et météorologique au moment de l'accident. Elle est constitué de variables catégorielles et continues. \n"
   ]
  },
  {
   "cell_type": "code",
<<<<<<< HEAD
   "execution_count": 104,
=======
   "execution_count": null,
>>>>>>> c12b8e6454b21ae829c5864cd30e82adc7163348
   "metadata": {},
   "outputs": [],
   "source": [
    "df_caract.info()"
   ]
  },
  {
   "cell_type": "markdown",
   "metadata": {},
   "source": [
    "Les variables **lat** et **long** qui donnent respectivement la latitude et la longitude  apparaissent comme des variables de type object car le séparateur de décimal n'est pas celui reconnu par python. Pour corriger cela, il suffit de remplacer les points par des virgules."
   ]
  },
  {
   "cell_type": "code",
<<<<<<< HEAD
   "execution_count": 105,
=======
   "execution_count": null,
>>>>>>> c12b8e6454b21ae829c5864cd30e82adc7163348
   "metadata": {},
   "outputs": [],
   "source": [
    "# Remplacer les virgules par des points et convertir en float\n",
    "df_caract['lat'] = df_caract['lat'].str.replace(',', '.').astype(float)\n",
    "df_caract['long'] = df_caract['long'].str.replace(',', '.').astype(float)"
   ]
  },
  {
   "cell_type": "code",
<<<<<<< HEAD
   "execution_count": 106,
=======
   "execution_count": null,
>>>>>>> c12b8e6454b21ae829c5864cd30e82adc7163348
   "metadata": {},
   "outputs": [],
   "source": [
    "accidents_par_departement = df_caract.groupby('dep').size().reset_index(name='nombre_accidents')\n",
    "\n",
    "france_map = gpd.read_file(\"https://france-geojson.gregoiredavid.fr/repo/departements.geojson\")\n",
    "france_map = france_map.merge(accidents_par_departement, left_on=\"code\", right_on=\"dep\")\n",
    "fig, ax = plt.subplots(1, 1, figsize=(10, 10))\n",
    "france_map.plot(column=\"nombre_accidents\", cmap=\"OrRd\", linewidth=0.8, ax=ax, edgecolor=\"0.8\", legend=True)\n",
    "\n",
    "#Ajout des noms de départements\n",
    "for idx, row in france_map.iterrows():\n",
    "    if not pd.isna(row['nom']):  # Vérifie que le nom est défini\n",
    "        ax.annotate(\n",
    "            text=row['nom'],  # Texte à afficher (nom du département)\n",
    "            xy=row['geometry'].centroid.coords[0],  # Position (centre du département)\n",
    "            ha='center', fontsize=8, color='black'  # Alignement et style\n",
    "        )\n",
    "\n",
    "plt.title(\"Nombre d'accidents de la route par département\")\n",
    "plt.axis(\"off\")\n",
    "plt.show()\n",
    "\n",
    "# Trier les départements par nombre d'accidents en ordre décroissant\n",
    "top_departements = accidents_par_departement.sort_values(by='nombre_accidents', ascending=False).head(5)\n",
    "\n",
    "# Afficher les résultats\n",
    "print(\"Departements avec le plus d'accidents :\")\n",
    "print(top_departements)\n",
    "\n"
   ]
  },
  {
   "cell_type": "markdown",
   "metadata": {},
   "source": [
    "Les départements affichant des couleurs rouges foncées (notamment **Île-de-France**, **Rhône** et **Bouches-du-Rhône**) affichent un grand nombre d'accidents. Ceci pourrait s'expliquer par le fait que ces zones correspondent à des régions fortement urbanisées et densément peuplées, où le trafic routier est plus intense.\n",
    "La majorité des départements, représentés en beige clair, présentent un nombre relativement faible d'accidents. Ces départements sont souvent situés dans des zones rurales ou moins peuplées, où la circulation est moins dense.\n",
    "\n",
    "En terme de disparités régionales, les régions avec de grandes agglomérations présentent une concentration plus élevée d'accidents, ce qui est cohérent avec une densité de trafic plus importante."
   ]
  },
  {
   "cell_type": "markdown",
   "metadata": {},
   "source": [
    "Nous nous focalisons sur la distribution des accidents en île de france sur la carte suivante:"
   ]
  },
  {
   "cell_type": "code",
<<<<<<< HEAD
   "execution_count": 107,
   "metadata": {},
   "outputs": [
    {
     "data": {
      "text/html": [
       "<div style=\"width:100%;\"><div style=\"position:relative;width:100%;height:0;padding-bottom:60%;\"><span style=\"color:#565656\">Make this Notebook Trusted to load map: File -> Trust Notebook</span><iframe srcdoc=\"&lt;!DOCTYPE html&gt;\n",
       "&lt;html&gt;\n",
       "&lt;head&gt;\n",
       "    \n",
       "    &lt;meta http-equiv=&quot;content-type&quot; content=&quot;text/html; charset=UTF-8&quot; /&gt;\n",
       "    \n",
       "        &lt;script&gt;\n",
       "            L_NO_TOUCH = false;\n",
       "            L_DISABLE_3D = false;\n",
       "        &lt;/script&gt;\n",
       "    \n",
       "    &lt;style&gt;html, body {width: 100%;height: 100%;margin: 0;padding: 0;}&lt;/style&gt;\n",
       "    &lt;style&gt;#map {position:absolute;top:0;bottom:0;right:0;left:0;}&lt;/style&gt;\n",
       "    &lt;script src=&quot;https://cdn.jsdelivr.net/npm/leaflet@1.9.3/dist/leaflet.js&quot;&gt;&lt;/script&gt;\n",
       "    &lt;script src=&quot;https://code.jquery.com/jquery-3.7.1.min.js&quot;&gt;&lt;/script&gt;\n",
       "    &lt;script src=&quot;https://cdn.jsdelivr.net/npm/bootstrap@5.2.2/dist/js/bootstrap.bundle.min.js&quot;&gt;&lt;/script&gt;\n",
       "    &lt;script src=&quot;https://cdnjs.cloudflare.com/ajax/libs/Leaflet.awesome-markers/2.0.2/leaflet.awesome-markers.js&quot;&gt;&lt;/script&gt;\n",
       "    &lt;link rel=&quot;stylesheet&quot; href=&quot;https://cdn.jsdelivr.net/npm/leaflet@1.9.3/dist/leaflet.css&quot;/&gt;\n",
       "    &lt;link rel=&quot;stylesheet&quot; href=&quot;https://cdn.jsdelivr.net/npm/bootstrap@5.2.2/dist/css/bootstrap.min.css&quot;/&gt;\n",
       "    &lt;link rel=&quot;stylesheet&quot; href=&quot;https://netdna.bootstrapcdn.com/bootstrap/3.0.0/css/bootstrap-glyphicons.css&quot;/&gt;\n",
       "    &lt;link rel=&quot;stylesheet&quot; href=&quot;https://cdn.jsdelivr.net/npm/@fortawesome/fontawesome-free@6.2.0/css/all.min.css&quot;/&gt;\n",
       "    &lt;link rel=&quot;stylesheet&quot; href=&quot;https://cdnjs.cloudflare.com/ajax/libs/Leaflet.awesome-markers/2.0.2/leaflet.awesome-markers.css&quot;/&gt;\n",
       "    &lt;link rel=&quot;stylesheet&quot; href=&quot;https://cdn.jsdelivr.net/gh/python-visualization/folium/folium/templates/leaflet.awesome.rotate.min.css&quot;/&gt;\n",
       "    \n",
       "            &lt;meta name=&quot;viewport&quot; content=&quot;width=device-width,\n",
       "                initial-scale=1.0, maximum-scale=1.0, user-scalable=no&quot; /&gt;\n",
       "            &lt;style&gt;\n",
       "                #map_1212b9936c189868a575502b542d6053 {\n",
       "                    position: relative;\n",
       "                    width: 100.0%;\n",
       "                    height: 100.0%;\n",
       "                    left: 0.0%;\n",
       "                    top: 0.0%;\n",
       "                }\n",
       "                .leaflet-container { font-size: 1rem; }\n",
       "            &lt;/style&gt;\n",
       "        \n",
       "    &lt;script src=&quot;https://cdn.jsdelivr.net/gh/python-visualization/folium@main/folium/templates/leaflet_heat.min.js&quot;&gt;&lt;/script&gt;\n",
       "&lt;/head&gt;\n",
       "&lt;body&gt;\n",
       "    \n",
       "    \n",
       "            &lt;div class=&quot;folium-map&quot; id=&quot;map_1212b9936c189868a575502b542d6053&quot; &gt;&lt;/div&gt;\n",
       "        \n",
       "&lt;/body&gt;\n",
       "&lt;script&gt;\n",
       "    \n",
       "    \n",
       "            var map_1212b9936c189868a575502b542d6053 = L.map(\n",
       "                &quot;map_1212b9936c189868a575502b542d6053&quot;,\n",
       "                {\n",
       "                    center: [48.84620775351753, 2.3652469040688704],\n",
       "                    crs: L.CRS.EPSG3857,\n",
       "                    ...{\n",
       "  &quot;zoom&quot;: 10,\n",
       "  &quot;zoomControl&quot;: true,\n",
       "  &quot;preferCanvas&quot;: false,\n",
       "}\n",
       "\n",
       "                }\n",
       "            );\n",
       "\n",
       "            \n",
       "\n",
       "        \n",
       "    \n",
       "            var tile_layer_7494de7e0d9e56ba65afde3694502527 = L.tileLayer(\n",
       "                &quot;https://tile.openstreetmap.org/{z}/{x}/{y}.png&quot;,\n",
       "                {\n",
       "  &quot;minZoom&quot;: 0,\n",
       "  &quot;maxZoom&quot;: 19,\n",
       "  &quot;maxNativeZoom&quot;: 19,\n",
       "  &quot;noWrap&quot;: false,\n",
       "  &quot;attribution&quot;: &quot;\\u0026copy; \\u003ca href=\\&quot;https://www.openstreetmap.org/copyright\\&quot;\\u003eOpenStreetMap\\u003c/a\\u003e contributors&quot;,\n",
       "  &quot;subdomains&quot;: &quot;abc&quot;,\n",
       "  &quot;detectRetina&quot;: false,\n",
       "  &quot;tms&quot;: false,\n",
       "  &quot;opacity&quot;: 1,\n",
       "}\n",
       "\n",
       "            );\n",
       "        \n",
       "    \n",
       "            tile_layer_7494de7e0d9e56ba65afde3694502527.addTo(map_1212b9936c189868a575502b542d6053);\n",
       "        \n",
       "    \n",
       "            var heat_map_a77be6591b34ab1dc8e770e991846d15 = L.heatLayer(\n",
       "                [[48.866386, 2.323471], [48.84547782, 2.42868146], [48.7624, 2.40655], [48.73248432, 2.44687575], [48.78581, 2.49217], [48.83717, 2.51361], [48.78693219, 2.36756095], [48.78238, 2.4951], [48.76240184, 2.40690601], [48.83266, 2.54378], [48.9957224, 2.51560628], [48.83611, 2.5646], [48.95859534, 2.4158147], [48.94211, 2.42916], [48.90631671, 2.48228681], [48.88677185, 2.20519647], [48.802023, 2.318006], [48.332902, 2.147226], [48.6343, 2.4059], [48.74674, 2.32631], [48.62889, 2.48127], [48.678375, 2.336155], [48.8128495, 2.33616725], [48.78993, 2.124102], [48.9278682, 2.35769659], [48.95991, 2.46651], [48.98885, 2.18178], [48.82728643, 2.46925563], [48.671118, 2.337108], [48.82647627, 2.52002917], [48.71474, 2.37104], [48.7542676, 2.38140831], [48.63101, 2.4248], [48.93993, 2.0957], [48.530303, 2.025945], [48.62536, 2.41718], [49.0524226, 2.19653606], [48.85742, 2.44007], [48.95779393, 2.27531787], [48.914083, 2.483032], [49.03175492, 2.1166257], [48.961334, 2.269049], [48.917595, 2.485145], [48.90913, 2.502029], [48.38871, 2.96866], [49.03508733, 2.09852278], [48.962209, 2.37179], [48.95586913, 2.38074408], [48.87686, 2.4789], [48.9588, 2.3586], [48.949808, 2.385921], [48.910918, 2.515002], [48.910341, 2.511096], [48.97349223, 2.36594216], [48.908172, 2.496516], [48.907114, 2.4893], [48.91781, 2.48103], [48.71355, 2.40028], [48.905577, 2.479165], [48.909591, 2.51454], [48.913535, 2.478551], [48.95831621, 2.35855259], [48.8594, 2.43717], [48.85035, 2.664717], [48.89148, 2.44784], [48.902083, 2.461329], [48.856624, 2.257509], [48.73953, 2.30035], [48.93172886, 2.3561068], [48.966852, 3.164018], [48.834144, 2.404051], [48.89372743, 2.4353696], [48.87613647, 2.44855594], [48.88092, 2.42009], [48.8850988, 2.43465029], [48.87672, 2.42325], [48.87093, 2.41727], [48.86758954, 2.41697341], [48.87113937, 2.43077821], [48.86335, 2.41434], [48.62347, 2.39039], [48.7192, 2.29881], [48.871824, 2.083314], [48.79246904, 2.34446138], [48.777711, 2.218096], [48.964974, 1.924912], [48.93540166, 2.26544968], [48.96216227, 2.54624123], [48.70579, 2.366829], [48.90640692, 2.45788515], [48.93472322, 2.30194713], [49.05119, 2.42953], [48.82854107, 2.47576095], [48.83826565, 2.49372861], [48.886602, 2.407326], [48.862956, 2.415185], [48.877304, 2.413933], [48.87211, 2.346702], [48.92355, 2.29651], [48.66441, 2.35314], [49.061132, 2.182293], [48.371161, 2.163749], [48.99152208, 2.47641921], [48.98873183, 2.20723271], [48.99084, 2.16775], [48.584171, 2.244164], [48.70576, 2.36306], [48.68085, 2.34269], [48.518445, 2.288209], [48.84351, 2.10988], [48.36124, 2.89981], [48.61253, 2.27827], [48.58308, 2.47649], [48.70833, 1.89022], [48.97943, 2.048], [48.57241, 2.62113], [48.7416, 2.25426], [48.686, 2.40964], [48.687731, 2.371749], [48.425363, 2.144949], [48.905136, 2.130817], [48.988523, 1.91296], [48.41335, 2.71301], [48.266795, 2.68501], [48.900792, 2.35757], [48.8843, 2.367683], [48.816347, 2.363837], [48.830161, 2.356094], [48.846575, 2.254875], [48.879578, 2.353311], [48.866593, 2.268615], [48.877915, 2.326937], [48.860679, 2.375304], [48.874093, 2.32463086], [48.897731, 2.329031], [48.86259042, 2.31902486], [48.848567, 2.276053], [48.854341, 2.344906], [48.850949, 2.241836], [48.83499, 2.41974], [48.73555, 2.44692], [48.847144, 2.274472], [48.7514004, 2.49005288], [48.809774, 2.3592], [48.850719, 2.267201], [48.9654, 2.5693], [48.82587212, 2.30023026], [48.9573, 2.5473], [48.83944, 2.54716], [48.9075, 2.52012], [48.869402, 2.310963], [48.93065, 2.45546], [48.846238, 2.279644], [48.901677, 2.571321], [48.90552, 2.55873], [48.85345, 2.364121], [48.908474, 2.480133], [48.848035, 2.43953], [48.9065806, 2.48574062], [48.9254, 2.46572], [48.771352, 2.397034], [48.93779, 2.32434], [48.82517023, 2.49566022], [48.81935107, 2.30450571], [48.88091739, 2.49465876], [48.84165528, 2.22129688], [48.8764, 2.24642], [48.86935, 2.49559], [48.90247311, 2.24166467], [48.9096419, 2.29946136], [48.87716344, 2.48007967], [48.83992, 2.23582], [48.87447842, 2.552038], [48.93895, 2.44059], [48.91120349, 2.27060124], [48.86212, 2.21142], [48.84291, 2.21938], [48.84365512, 2.22308743], [48.93498, 2.29995], [48.93766, 2.25795], [48.92437, 2.24235], [48.78280325, 2.24508119], [48.816656, 2.337574], [48.868032, 2.387029], [48.847925, 2.411438], [48.859012, 2.41433], [48.838653, 2.254637], [48.848521, 2.28288], [48.83390236, 2.29013792], [48.84093, 2.368338], [48.865273, 2.374536], [48.869018, 2.355443], [48.872, 2.347911], [48.862881, 2.315152], [48.84655, 2.41749], [48.80276154, 2.55370009], [48.69621, 2.55414], [48.90749, 2.34412], [48.88101821, 2.4090515], [48.86527, 2.52932], [48.9339, 2.4248], [48.91311394, 2.38293235], [48.90835592, 2.31297076], [48.753114, 2.308342], [48.872303, 2.37653], [48.884578, 2.286301], [48.900501, 2.324889], [48.853564, 2.334198], [48.884321, 2.36768], [48.898228, 2.348549], [48.87915, 2.303144], [48.843676, 2.298584], [48.847785, 2.30158], [48.845087, 2.320089], [48.83548, 2.315462], [48.856755, 2.371076], [48.868556, 2.363043], [48.847411, 2.312194], [48.858357, 2.34464], [48.876054, 2.337575], [48.72799, 2.47416], [48.878235, 2.39791], [48.802288, 2.489756], [48.846927, 2.326838], [48.79919, 2.54251], [48.892332, 2.379167], [48.88402328, 2.51014741], [48.885698, 2.347416], [48.86749, 2.55663], [48.87660074, 2.97945046], [49.085953, 2.113023], [48.907375, 2.520196], [48.872349, 2.296426], [48.86378, 2.280702], [48.86772, 2.55925], [48.82145646, 2.27257937], [48.871101, 2.283462], [48.83323533, 2.2452668], [48.829181, 2.292366], [48.840539, 2.333704], [48.815786, 2.360495], [48.878991, 2.355804], [48.875205, 2.370355], [48.853992, 2.32383], [48.859572, 2.329304], [48.848128, 2.363724], [48.84395994, 2.41762465], [48.79367, 2.43449], [48.95029, 2.35769], [48.62521, 2.33097], [48.92334, 2.34288], [48.848456, 2.2449], [48.88601099, 2.21458465], [48.81885304, 2.23187327], [48.91808521, 2.22294963], [48.81924872, 2.24969342], [48.86627623, 2.41437177], [48.890417, 2.241709], [48.94364712, 2.28775617], [48.928776, 2.268825], [48.90192772, 2.31900305], [48.73809258, 2.28948802], [48.81089151, 2.33460036], [48.701524, 2.398363], [48.920081, 2.988337], [48.87394436, 2.42220908], [48.92989, 2.42587], [48.89730805, 2.19757944], [49.00384, 1.90691], [48.95067, 2.38567], [48.92325, 2.38482], [48.882331, 2.8222289], [48.94857, 3.126293], [48.98174, 2.271], [48.976171, 2.352461], [48.94105, 2.24311], [48.65915, 2.292279], [48.70566, 2.3612], [48.77615637, 2.23692456], [48.83976303, 2.20327874], [49.03187, 2.11556], [48.86588, 2.41673], [48.92426, 2.3572], [48.28046, 2.68331], [48.41313, 2.74158], [48.807217, 3.083554], [48.70751, 2.25078], [48.90008747, 2.20944671], [48.96682579, 2.25512844], [48.83297415, 2.53364925], [48.77051476, 2.44791993], [48.9147116, 2.63454857], [48.84560028, 2.66239958], [48.87232, 2.67672], [48.454406, 2.671203], [48.899907, 2.391475], [48.897616, 2.324154], [48.83698621, 2.25620449], [48.834546, 2.332611], [48.847472, 2.396703], [48.841357, 2.37495], [48.835837, 2.453161], [48.860235, 2.376009], [48.863748, 2.354885], [48.858678, 2.358759], [48.77817, 2.39649], [48.84665144, 2.41663331], [48.81467664, 2.39431947], [48.78269, 2.46427], [48.94965, 2.56903], [48.92347329, 2.34791994], [48.85409979, 2.51431748], [48.86118, 2.54133], [48.95496, 2.33399], [48.82527, 2.21585], [48.7981, 2.2827], [48.890115, 2.29852], [48.82266, 2.314235], [48.90553314, 2.23925695], [48.90159, 2.26631], [48.882511, 2.369259], [48.91837687, 2.31544241], [48.848897, 2.347469], [48.75217, 2.30789], [48.847904, 2.33253], [48.87823, 2.37354], [48.881463, 2.316007], [48.89058, 2.320196], [48.730531, 2.318242], [48.683113, 2.284958], [48.847917, 2.271405], [48.841475, 2.263877], [48.846555, 2.283988], [48.838287, 2.319624], [48.83463, 2.393518], [48.828189, 2.390314], [48.865845, 2.371548], [48.861354, 2.367168], [48.868931, 2.38046], [48.868325, 2.370933], [48.879496, 2.321841], [48.788018, 2.389907], [48.819526, 2.482435], [48.83938556, 2.48515007], [48.81542, 2.36311], [48.75723, 2.40433], [48.82787383, 2.272677], [48.78793, 2.4466], [49.07421357, 3.13502741], [48.76467, 2.49052], [48.836146, 2.129035], [48.78351, 2.45278], [48.76295663, 2.34128346], [48.95503, 2.53725], [48.932792, 2.342561], [48.693987, 2.229945], [48.833191, 2.406946], [48.91517, 2.33759], [48.900847, 2.334437], [48.77680855, 2.23069899], [48.94184, 2.34699], [48.88309768, 2.26592597], [48.890564, 2.376969], [48.92996362, 2.34088992], [48.89659, 2.335644], [48.93235337, 2.37533115], [48.89015578, 2.24212911], [48.8794431, 2.48200013], [48.89701, 2.46967], [48.884591, 2.297662], [48.89226, 2.46042], [49.03091887, 2.12129607], [48.884587, 2.297642], [48.90646011, 2.56976576], [48.95014, 2.44837], [48.862961, 2.286479], [48.90092898, 2.55788327], [48.859226, 2.275143], [48.90726, 2.49618], [48.94091, 2.42209], [48.848779, 2.276246], [48.91547, 2.51538], [48.82216627, 2.29837149], [48.824126, 2.321215], [48.82398, 2.21242], [48.833784, 2.312883], [48.88563, 2.21991], [48.68992, 2.34651], [48.828791, 2.327733], [48.796543, 2.131299], [48.88672247, 2.20964295], [48.849339, 2.389535], [48.77794457, 2.23309994], [48.833848, 2.403254], [48.94069, 2.29144], [48.840297, 2.374501], [48.90078677, 2.25638741], [48.875241, 2.333997], [48.83464653, 2.24663705], [48.86901751, 2.30986476], [48.90891803, 2.27012917], [48.90622, 2.34413], [48.851647, 2.312535], [48.870709, 2.34788], [48.76145, 2.29128], [48.76164, 2.30817], [48.8475, 2.49308], [48.81574, 2.38297], [48.81792, 2.402452], [48.724464, 2.418709], [48.96076228, 2.55264662], [48.89302, 2.41224], [48.694085, 2.287614], [48.8895, 2.4575], [48.85897, 2.5815], [48.445305, 3.163408], [48.863241, 2.440561], [48.93148, 2.38], [48.90143, 2.3302], [48.92542238, 2.41553843], [48.88893, 2.5073], [48.901162, 2.349376], [48.93698, 2.46416], [48.8349573, 2.273399], [48.947149, 2.4838], [48.85042, 2.324623], [48.916923, 2.381908], [48.868507, 2.362881], [48.82514506, 2.2160452], [48.846216, 2.27964], [48.86054355, 2.21314173], [48.867047, 2.383022], [48.8871287, 2.2078152], [48.863046, 2.311887], [48.81470911, 2.32587799], [48.804487, 2.517765], [48.732773, 2.10356], [48.86470219, 2.49964365], [48.88277607, 2.22361721], [48.907305, 2.524568], [48.880771, 2.485075], [48.873615, 2.482504], [49.023834, 2.395159], [48.95261823, 2.46231079], [48.95002, 2.46062], [48.970846, 1.980138], [48.79947061, 2.34226962], [48.71558, 2.17441], [48.71558, 2.17441], [48.790204, 2.058478], [48.916512, 2.531596], [48.906247, 2.210398], [48.885055, 2.508672], [48.907096, 2.33217], [48.94661725, 2.44182927], [48.9311293, 2.32352796], [48.90828831, 2.45147679], [48.9344735, 2.39765242], [48.93788866, 2.29766722], [48.90892746, 2.44905923], [49.02729, 2.20454], [48.83014633, 2.48913123], [48.770827, 2.522524], [48.90836489, 2.45188613], [48.866014, 2.215437], [48.73536, 2.28941], [48.83479441, 2.58274578], [48.93425, 2.38725], [48.92234, 2.40712], [48.83519321, 2.57205899], [48.95875561, 2.44530559], [48.9231, 2.38397], [48.92450604, 2.38433361], [48.83538, 2.57214], [48.954298, 2.416355], [48.93277706, 2.41330439], [48.92310495, 2.38826841], [48.83647, 2.54697], [48.98425, 2.37081], [48.93485, 2.42597], [48.97844, 2.38509], [48.836653, 2.548353], [48.965676, 2.334443], [48.836504, 2.551036], [48.83642921, 2.55189158], [48.836449, 2.549878], [48.71713, 2.28259], [48.93422403, 2.39288139], [48.73285, 2.32801], [48.90578, 2.049943], [48.77647956, 2.7089081], [48.76806, 2.68239], [48.83341146, 2.7089952], [48.866722, 2.676105], [49.08193374, 1.93337917], [48.601715, 2.224259], [48.8159, 2.841972], [48.6231, 2.46628], [48.743307, 2.816319], [48.79974803, 2.34378034], [48.719, 2.31061], [48.7702866, 2.34542494], [48.61596, 2.42904], [48.91943159, 2.22419963], [48.83519709, 2.17572425], [48.968378, 1.859457], [48.88419589, 2.26244272], [48.98112, 2.49824], [48.88778, 2.4725], [48.9634, 2.52179], [48.96252, 2.2635], [48.81986293, 2.40335937], [48.75738552, 2.47631192], [48.76801926, 2.37873486], [48.626, 2.343], [48.93526651, 2.26536727], [48.965109, 1.761655], [48.87582, 2.47822], [48.96594643, 2.40867734], [48.99343925, 2.32155383], [48.95266, 2.22789], [48.70412, 2.31728], [48.69092, 2.52598], [48.7162, 2.37124], [48.98509, 2.36164], [48.97521548, 2.33710259], [48.60073, 2.47081], [48.86471, 2.7913], [48.844933, 2.41426], [48.826185, 2.298358], [48.858039, 2.334259], [48.89108, 2.37378169], [48.829463, 2.297542], [48.835189, 2.398764], [48.85041599, 2.39245632], [48.870592, 2.354946], [48.88425401, 2.35939407], [48.870144, 2.350506], [48.875268, 2.332313], [48.86763, 2.353325], [48.78048649, 2.40358745], [48.849187, 2.496151], [48.742347, 2.44672], [48.75192234, 2.3879155], [48.96227968, 2.51580385], [48.96213041, 2.51566894], [48.95772641, 2.54555529], [48.94067057, 2.53179421], [48.91253238, 2.33545464], [48.94551213, 2.36380785], [48.8319, 2.58404], [48.92874, 2.55512], [48.838967, 2.358555], [48.8530466, 2.20164281], [48.844484, 2.352407], [48.80193896, 2.29228216], [48.90082, 2.31586], [48.898646, 2.357732], [48.84512143, 2.23526828], [48.74401, 2.29739], [48.848211, 2.257026], [48.823312, 2.365695], [48.816934, 2.360151], [48.856774, 2.377877], [49.169408, 2.228851], [48.877633, 2.370387], [48.858501, 2.355256], [48.856173, 2.365757], [48.77969, 2.39565], [48.76293015, 2.36852367], [48.77070205, 2.32261464], [48.95664219, 2.56371081], [48.93472747, 2.51268853], [48.95412457, 2.57273189], [48.90836, 2.33267], [48.945858, 2.359384], [48.9014, 2.51934], [48.89318967, 2.4130159], [48.89141286, 2.46552503], [48.85194, 2.41812], [48.88370788, 2.42850081], [48.95313, 2.31575], [48.92332299, 2.38527141], [48.81531086, 2.27727735], [48.87844082, 2.20561495], [48.82923179, 2.28301384], [48.91048079, 2.24151564], [48.77739829, 2.24142534], [48.834, 2.24294], [48.83106869, 2.2572543], [48.73111883, 2.31259096], [48.73624149, 2.29175341], [48.72309, 2.31192], [48.5622, 2.48104], [48.71067, 2.28695], [48.62533065, 2.41809726], [48.64220099, 2.39358187], [48.816409, 2.358981], [48.56, 2.48445], [48.777995, 2.214251], [49.054271, 2.694208], [49.024752, 1.873217], [48.900606, 2.373933], [48.850233, 2.324167], [48.852093, 2.340315], [48.849206, 2.414929], [48.866486, 2.412668], [48.900387, 2.370399], [48.878432, 2.370451], [48.898695, 2.367626], [48.88152, 2.289212], [48.837105, 2.260132], [48.867456, 2.299239], [48.828179, 2.302783], [48.83514541, 2.26635933], [48.835136, 2.277845], [48.837542, 2.322941], [48.846621, 2.276936], [48.834176, 2.397716], [48.853316, 2.281972], [48.859456, 2.292652], [48.80802566, 2.37068331], [48.80592, 2.37602], [48.763618, 2.339251], [48.7923, 2.4577], [48.76881, 2.42073], [48.93252323, 2.35565076], [48.92254366, 2.34324151], [48.85376, 2.517723], [48.865604, 2.44385], [48.8847, 2.431], [48.904252, 2.472506], [48.92102665, 2.37692771], [48.93486443, 2.32484132], [48.86049799, 2.21321797], [48.8210288, 2.21881092], [48.85944556, 2.19464564], [48.88069412, 2.27409929], [48.89861, 2.27913], [48.92781231, 2.27181718], [48.90122698, 2.30540916], [48.83690491, 2.23635776], [48.8399956, 2.24561244], [48.617932, 2.483724], [48.692561, 3.186051], [48.827141, 2.39103], [48.84930393, 2.33731717], [48.883642, 2.396997], [48.921, 2.24981], [48.876881, 2.394327], [48.9132, 2.23917], [48.889687, 2.368118], [48.831281, 2.302468], [48.840448, 2.315133], [48.843418, 2.370749], [48.85794461, 2.38032103], [48.871572, 2.353621], [48.861984, 2.350172], [48.867571, 2.346374], [48.80425386, 2.47119065], [48.79275, 2.51667], [48.83194474, 2.5329929], [48.758562, 2.370985], [48.8581, 2.49136], [49.001555, 2.464505], [48.766254, 2.528959], [48.9648, 2.53225], [48.96155, 2.555], [48.94602499, 2.51023656], [48.9129, 2.33506], [48.8403, 2.5568], [48.8557, 2.42893], [48.87894, 2.4393], [48.95272438, 2.33026293], [48.92314, 2.44853], [48.9180693, 2.40776271], [48.92459, 2.53846], [48.9529086, 2.51745533], [48.860703, 2.224837], [48.8486, 2.19056], [48.922363, 2.294843], [48.926715, 2.294667], [48.930866, 2.255192], [48.91838, 2.2243], [48.89742, 2.3105], [48.92780405, 2.27796525], [48.530862, 2.014945], [48.401664, 2.470341], [48.956791, 1.893758], [49.005845, 2.504797], [48.78814065, 2.3444426], [48.61947, 2.42614], [48.9281997, 2.33143165], [48.86596656, 2.41295005], [48.9102, 2.47515], [49.02916687, 2.53027797], [48.88205, 2.45558], [48.90728251, 2.45507534], [48.81766797, 2.41481141], [48.75378301, 2.36800781], [49.065298, 2.70813], [49.0188, 2.4632], [48.588, 2.24487], [48.678507, 2.346833], [48.705637, 2.359675], [48.89839, 2.075737], [48.8953, 2.1053], [48.956659, 2.904702], [48.67378, 2.34275], [48.43918, 2.72824], [48.71411, 2.17593], [48.71135, 2.18607], [48.9825, 1.68655], [48.92796388, 2.23851064], [48.93351, 2.37785], [48.92256319, 2.35502741], [49.03233, 2.11057], [48.9856, 2.41572], [48.68791, 2.32079], [48.71356, 2.37797], [48.69291, 2.37076], [48.45848, 2.17729], [48.56121, 2.63373], [48.520942, 2.56911], [48.816707, 2.365107], [48.82266, 2.314235], [48.857326, 2.392578], [48.882003, 2.402516], [48.853352, 2.27872], [48.836818, 2.253584], [48.8773232, 2.28401899], [48.824166, 2.376794], [48.83127645, 2.35626698], [49.070111, 2.714829], [48.8622, 2.334661], [48.81975, 2.39616], [48.79948, 2.38925], [48.747258, 2.46209], [48.82024, 2.46878], [48.81783, 2.39392], [48.91092, 2.34418], [48.94754, 2.37489], [48.88892679, 2.51748785], [48.88061656, 2.43702171], [48.93445647, 2.41942495], [48.912281, 2.485204], [48.90745, 2.45641], [48.85106059, 2.25193977], [48.63431, 2.4063], [48.82543967, 2.2158688], [48.81621, 2.359911], [48.81712755, 2.27411538], [48.874615, 2.339315], [48.89991516, 2.23975204], [48.86663, 2.321946], [48.91424545, 2.22952839], [48.848008, 2.367639], [48.89992251, 2.31444597], [48.88927, 2.371274], [48.79002364, 2.28877366], [48.89775, 2.37074], [48.84075516, 2.2289139], [48.888468, 2.353568], [48.78241243, 2.31654167], [48.86490753, 2.2490859], [48.820904, 2.325526], [48.710206, 2.441828], [48.831359, 2.366339], [48.8453, 2.379516], [48.852845, 2.388495], [48.948343, 2.194181], [48.39303, 2.94566], [48.86553, 2.71356], [48.90053, 2.51857], [48.8835, 2.399945], [48.85864, 2.26136], [48.89721, 2.5296], [48.846861, 2.316686], [48.852062, 2.34812], [48.8408, 2.34937], [48.88289836, 2.37062484], [48.89386, 2.3733], [48.888799, 2.323328], [48.886191, 2.3162221], [48.878521, 2.282954], [48.849565, 2.281288], [48.833479, 2.298671], [48.822982, 2.348896], [48.855754, 2.391347], [48.884274, 2.359201], [48.876526, 2.344295], [48.87124873, 2.34452695], [48.865857, 2.319885], [48.8651, 2.32233], [48.859265, 2.330219], [48.858751, 2.300508], [48.857357, 2.328889], [48.86685082, 2.35286593], [48.84800063, 2.43963861], [48.741916, 2.446593], [48.76031545, 2.44999932], [48.7899721, 2.51868238], [48.84953, 2.49546], [48.788518, 2.361944], [48.800626, 2.341477], [48.79707444, 2.36804831], [48.77186, 2.4902], [48.87923146, 2.47630036], [48.786443, 2.449796], [48.91145634, 2.51683474], [48.859908, 2.414207], [48.91897597, 2.52456047], [48.82170029, 2.49875852], [48.848228, 2.320196], [48.91295, 2.51838], [48.81486548, 2.48118791], [48.863085, 2.38736], [48.91216, 2.52135], [48.880942, 2.401646], [48.81948408, 2.5019403], [48.93431255, 2.5645633], [48.93862, 2.357877], [48.842445, 2.251391], [48.92124, 2.52301], [48.863697, 2.297769], [48.90961, 2.39871], [48.869485, 2.295604], [48.869076, 2.283949], [48.89018, 2.47121], [48.848159, 2.300652], [48.85025, 2.55376], [48.841239, 2.280816], [48.83022, 2.55889], [48.824442, 2.35781], [48.819143, 2.359461], [48.85260319, 2.51265451], [48.847805, 2.39909], [48.87012, 2.45037], [48.836675, 2.403511], [48.91669937, 2.53019281], [48.882791, 2.332057], [48.95534648, 2.29526952], [48.730406, 2.446912], [48.73081877, 2.45912641], [48.928951, 2.452892], [48.80284, 2.43411], [48.92567, 2.39681], [48.79752338, 2.43322767], [48.92697998, 2.39249906], [48.81228, 2.35723], [48.799774, 2.365551], [48.9214, 2.41148], [48.77819, 2.39648], [48.952612, 2.497502], [48.753558, 2.376021], [48.78259078, 2.4945095], [48.92947, 2.48678], [48.95779277, 2.30967183], [48.92760672, 2.39200749], [48.931341, 2.484792], [48.8975297, 2.53338926], [48.95291114, 2.44374043], [48.920859, 2.41034], [48.94015807, 2.46248309], [48.82585161, 2.20270112], [48.87889, 2.27076], [48.805868, 2.291856], [48.85461665, 2.22274728], [48.804, 2.2978], [48.8585, 2.19142], [48.802316, 2.296826], [48.930906, 2.255201], [48.89471, 2.19269], [48.90927, 2.2936], [48.91146, 2.29861], [48.807697, 2.294797], [48.81751822, 2.32557714], [48.9304, 2.30122], [48.90596534, 2.23896325], [48.92286, 2.25538], [48.92195, 2.3599], [48.919108, 2.255542], [48.91857885, 2.47854047], [48.929971, 2.245869], [48.934308, 2.255856], [48.899958, 2.314383], [49.00326053, 2.53684187], [48.83534, 2.56962], [48.83627877, 2.55459225], [48.83656, 2.54396], [48.909, 2.35809], [48.593853, 2.212533], [48.68862, 2.28631], [48.83153835, 2.26721272], [49.11560117, 1.86832488], [48.561613, 2.226877], [48.63151, 2.502724], [48.70143, 2.19278], [48.78126141, 2.34641715], [48.83397544, 2.16646875], [48.96396, 1.78224], [48.807703, 2.052858], [48.97957, 2.24105], [48.88654, 2.48272], [48.95843, 2.5322], [48.89911818, 2.46954739], [48.68207, 2.3299], [48.92014931, 2.35751688], [48.93540166, 2.26544968], [48.91936344, 2.35754643], [48.839082, 2.21705493], [48.81757294, 2.21630638], [48.83036016, 2.49447745], [48.90496696, 2.47168528], [48.86690246, 2.42530058], [48.93911152, 2.30488793], [48.740086, 2.488716], [48.96722733, 2.25396317], [48.76796, 2.44099], [48.9288, 2.48155], [49.05856, 2.41969], [49.00261, 2.17018], [48.8045176, 2.43789263], [49.03244, 2.11163], [48.92971012, 2.62822378], [48.77388047, 2.39939904], [48.76055, 2.40811], [48.82612828, 2.55773132], [48.76479, 2.25996], [48.96699, 2.31753], [48.960958, 2.189669], [48.69535, 2.33303], [48.975877, 2.396192], [48.43268, 2.16822], [48.47833, 2.7437], [48.89792, 2.11398], [48.270605, 2.72938], [48.384715, 2.954216], [48.826188, 2.357294], [48.820387, 2.324441], [48.820274, 2.324397], [48.848971, 2.328739], [48.867088, 2.398014], [48.49221, 2.58078], [48.22575, 2.70836], [48.889688, 2.316683], [48.41547, 2.7203], [48.851449, 3.09031], [48.819796, 2.325761], [48.84114, 2.43291], [48.733506, 2.462071], [48.8201, 2.47448], [48.81258, 2.34931], [48.819288, 2.392584], [48.761092, 2.318407], [48.76530306, 2.47660589], [48.77243, 2.43992], [48.75294, 2.38717], [48.7897, 2.5596], [48.82041, 2.48526], [48.96277555, 2.26400971], [48.92182484, 2.37738132], [48.966527, 2.366147], [48.9594838, 2.39865075], [48.96129, 2.26923], [48.87730355, 2.47539173], [48.77391529, 2.40417896], [48.8847023, 2.48308789], [48.82648029, 2.52228801], [48.87898274, 2.47194555], [48.83529971, 2.53838754], [48.903613, 2.392063], [48.75591137, 2.38351111], [48.855551, 2.526378], [48.86855641, 2.4606509], [48.95254, 2.38475], [48.92065944, 2.38731484], [48.88079843, 2.18191338], [48.88562098, 2.19627022], [48.89363946, 2.29113668], [48.81877345, 2.24412274], [48.90600025, 2.23917603], [48.89515, 2.24999], [48.92002, 2.25263], [48.90848, 2.30028], [48.895385, 2.394802], [48.852714, 2.259865], [48.830526, 2.319263], [48.875498, 2.357703], [48.870123, 2.306497], [48.414968, 3.2341], [48.7356, 2.4466], [48.8061048, 2.33737349], [48.81834, 2.41121], [48.879995, 2.183708], [48.88868, 2.27748], [48.995544, 2.302403], [48.983816, 1.915328], [48.93277, 2.04967], [48.755223, 2.704773], [48.418264, 2.926764], [48.60489, 2.56682], [48.68693, 2.32584], [48.816409, 2.358981], [48.96308, 2.54946], [48.99281, 2.18742], [48.86352432, 2.48282611], [49.05548348, 2.20291972], [48.91734, 2.47811], [48.82912282, 2.4808934], [48.82650013, 2.51586685], [48.77414959, 2.40719183], [48.77414959, 2.40719183], [48.91103973, 2.63626412], [48.9658, 2.28391], [48.71324, 2.39973], [48.888644, 2.161283], [48.9036, 2.14044], [48.944159, 2.095308], [48.84544, 2.74549], [48.878061, 2.408447], [48.885193, 2.287302], [48.884068, 2.285102], [48.834288, 2.283936], [48.882208, 2.374499], [48.849587, 2.344885], [48.852339, 2.348251], [48.899598, 2.328735], [48.831816, 2.314141], [48.863246, 2.285287], [48.835411, 2.329298], [48.835358, 2.406601], [48.86164568, 2.37732813], [48.826045, 2.374758], [48.864356, 2.371522], [48.837736, 2.39727], [48.874808, 2.357436], [48.871026, 2.36592], [48.858554, 2.376491], [48.862828, 2.313424], [48.87678, 2.361027], [48.79838737, 2.47564955], [48.82676386, 2.5367783], [48.71685, 2.53688], [48.867954, 2.362365], [48.95453809, 2.33439597], [48.879153, 2.327001], [48.95524683, 2.33336815], [48.92770825, 2.45166628], [48.87877, 2.322262], [48.905179, 2.48034], [48.865212, 2.355681], [48.89879609, 2.30335683], [48.791056, 2.381348], [48.8311, 2.24106], [48.75529, 2.38579], [49.112418, 2.215144], [49.112889, 2.213359], [48.84766, 2.48791], [48.787569, 2.450744], [48.76631, 2.48784], [48.76623, 2.47414], [48.77284, 2.4001], [48.96318, 2.57014], [48.94661, 2.38647], [48.93494, 2.4258], [48.914376, 2.494038], [48.918558, 2.392777], [48.903334, 2.387281], [48.82558, 2.29265], [48.85817465, 2.19394684], [48.91734414, 2.30747348], [48.701275, 2.905283], [48.71073, 2.29968], [48.62486, 2.30432], [48.6854, 2.32719], [48.69943, 2.31189], [48.92712802, 2.23638145], [48.93615504, 2.3006601], [48.93740949, 2.40993619], [48.489079, 1.803732], [48.92248, 2.37868], [48.95198648, 2.2795558], [48.96846, 2.56591], [48.90870624, 2.35812243], [48.93538856, 2.40271792], [48.83066, 2.60778], [48.81745795, 2.41989569], [48.880992, 2.282333], [48.863502, 2.413408], [48.900802, 2.369807], [48.842462, 2.328431], [48.88022, 2.401277], [48.890079, 2.361295], [48.898768, 2.344178], [48.891059, 2.302533], [48.850505, 2.299994], [48.83914, 2.26881], [48.841518, 2.286969], [48.831286, 2.302452], [48.822115, 2.342072], [48.824604, 2.339887], [48.825751, 2.346581], [48.853261, 2.37728], [48.873433, 2.337828], [48.70176, 2.42527], [48.862743, 2.311637], [48.85946728, 2.345154], [48.851068, 2.362211], [48.80609, 2.45341], [48.90103, 2.12876], [48.816066, 2.357973], [48.7893, 2.3369], [48.82789, 2.69838], [48.76026791, 2.35350993], [48.63469, 2.53518], [48.40170344, 2.72188318], [48.79632317, 2.46362641], [48.63589, 2.40124], [48.822973, 2.411393], [48.90778596, 2.37883337], [48.90558947, 2.20974594], [48.90267, 2.52281], [48.86547936, 2.46876016], [48.84298206, 2.22247096], [48.87956, 2.44866], [48.778941, 2.202884], [49.05559, 2.20312], [48.88602, 2.4212], [48.98787, 2.50626], [48.96311, 2.29711], [48.91128886, 2.49112997], [48.99145, 2.51079], [48.90484158, 2.50824891], [48.92482, 2.39033], [48.90792969, 2.49414984], [48.91862318, 2.39232116], [48.93551413, 2.33388591], [48.96222102, 2.52337066], [48.88564537, 2.17616057], [48.88668867, 2.47586131], [48.88402225, 2.26301551], [49.03385171, 2.11134374], [48.82225306, 2.23225549], [48.94074039, 2.29291143], [48.79648773, 2.21765399], [48.96407, 2.5208], [48.89601447, 2.27998674], [49.04030613, 2.08317518], [48.89213, 2.28768], [48.93246, 2.37408], [48.93377768, 2.31342405], [49.00449, 2.24545], [48.93914, 2.28439], [48.97714, 2.47251], [48.80071802, 2.31395423], [48.9072168, 2.28591666], [48.81720028, 2.44370615], [48.78450516, 2.61663], [48.862284, 2.30635], [48.867085, 2.320658], [48.77041, 2.44692], [48.85962, 2.49001], [48.86292165, 2.48707674], [48.89827, 2.40629], [48.86071203, 2.45976652], [48.86291, 2.44163], [48.93448992, 2.36721168], [48.9171, 2.44428], [48.89921883, 2.54166716], [48.81558, 2.29033], [48.88534, 2.25675], [48.930818, 2.267298], [48.90703724, 2.30057895], [48.82387, 2.23782], [48.91256, 2.29601], [48.707226, 3.197939], [48.957813, 2.805612], [48.615236, 2.351589], [48.62462, 2.41869], [48.644223, 2.539601], [48.791049, 2.106297], [48.90368296, 2.4666784], [48.900488, 2.322065], [48.867136, 2.383384], [48.90079088, 2.37162799], [48.888012, 2.356204], [48.71907, 2.27005], [48.861845, 2.291642], [48.69121, 2.3221], [48.827343, 2.293198], [48.64397, 2.39175], [48.835452, 2.333437], [48.851606, 2.326883], [48.93440186, 2.28032461], [48.844804, 2.404043], [48.883422, 2.347976], [48.87035602, 2.34955341], [48.92458528, 2.38937632], [48.855106, 2.361706], [48.9446849, 2.28538563], [48.79417, 2.41613], [48.83826565, 2.49372861], [48.724692, 2.445158], [48.8103, 2.43225], [48.81723758, 2.45368052], [48.72114, 2.41833], [48.71368975, 2.56097692], [48.74286, 2.559836], [49.02891, 2.56093], [48.82589, 2.21779], [48.82397979, 2.20980629], [48.85564469, 2.19514534], [48.88712, 2.17959], [48.82982, 2.26128], [48.914629, 2.229093], [49.140636, 2.255153], [48.6899, 2.46555], [48.579042, 1.943314], [48.912011, 2.146546], [48.87921, 2.70157], [48.631898, 2.497016], [48.80193886, 2.34201599], [48.71849, 2.29246], [48.722, 2.312], [48.75609704, 2.34121956], [48.69861, 2.31344], [48.721531, 2.251348], [48.841346, 2.1061], [48.89382816, 2.47190204], [48.98761518, 2.20662576], [48.93664599, 2.29068481], [48.93164776, 2.3697567], [48.86176, 2.48349], [48.9496723, 2.2802208], [48.82665078, 2.51617424], [48.95096029, 2.44989302], [48.82665078, 2.51617424], [48.85482912, 2.27961112], [48.8681865, 2.5010781], [48.84003462, 2.15508789], [48.5733, 2.4674], [48.535, 2.657], [48.98498, 2.38547], [48.58423, 2.47213], [48.67945, 2.20075], [48.6849, 2.53036], [48.68232, 2.53151], [48.82876, 3.02801], [48.8666721, 2.32205272], [48.857703, 2.327972], [48.850412, 2.353529], [48.886697, 2.304433], [48.839987, 2.29038], [48.63175, 2.50444], [48.821098, 2.354415], [48.826176, 2.3573], [48.89512395, 2.1929711], [48.81836, 2.451657], [48.98622, 2.50804], [48.845846, 2.367629], [48.86369651, 2.48274872], [48.98695437, 2.24255979], [48.862451, 2.366882], [48.869993, 2.371057], [48.876098, 2.360605], [48.882663, 2.350344], [48.876388, 2.307886], [48.863257, 2.333813], [49.00048312, 2.41578519], [48.862464, 2.336261], [48.98962, 2.291787], [48.81071237, 2.42318501], [48.79983524, 2.34290743], [48.717199, 2.494106], [48.80504222, 2.38821664], [48.654431, 2.389184], [48.7308992, 2.41844851], [48.62394, 2.41296], [48.82135351, 2.53461671], [48.82271, 2.56218], [48.97017, 2.36962], [48.95315, 2.3076], [48.90837904, 2.49777764], [48.91914894, 2.3863287], [48.841357, 2.413552], [48.82116319, 2.3024109], [48.8904613, 2.19930005], [48.843158, 2.413707], [48.89998116, 2.28195101], [48.877655, 2.280344], [48.89367902, 2.28832394], [48.859496, 2.262727], [48.90592629, 2.23950371], [48.886334, 2.286531], [48.90559167, 2.27732152], [48.930996, 2.267187], [48.848075, 2.350494], [48.90380535, 2.29057029], [48.884209, 2.349485], [48.871187, 2.272599], [48.854388, 2.28865], [48.822317, 2.314343], [48.825669, 2.382084], [48.870019, 2.379104], [48.8629, 2.387539], [48.899505, 2.396538], [48.91201761, 2.51377366], [48.8285049, 2.21044081], [48.96846, 2.33292], [48.98517, 2.35747], [48.971701, 2.304975], [48.65015, 2.27217], [48.7298, 2.26968], [48.61764, 2.47701], [48.615126, 2.461564], [48.98389, 1.9153], [48.324585, 2.577233], [48.97692, 2.47523], [48.566356, 2.880521], [48.97482756, 2.34263062], [48.67878, 2.34646], [48.78709, 1.9815], [48.4071, 2.70327], [49.03875766, 2.31096447], [48.631, 2.503], [48.78404999, 2.34665964], [48.71218, 2.25275], [48.89084, 2.47342], [49.0282805, 2.20346689], [49.03745, 2.12221], [48.817844, 2.334024], [48.748571, 2.61388023], [48.862608, 2.413553], [48.8271602, 2.51033987], [48.834142, 2.313255], [48.8035342, 2.62736421], [48.883043, 2.37149], [48.730763, 2.308482], [48.82687932, 2.51122881], [48.897544, 2.32891], [48.983853, 1.681415], [48.77627223, 2.43100362], [48.8931253, 2.23367661], [48.897222, 2.342291], [48.87821319, 2.4466415], [48.884421, 2.301218], [48.91799266, 2.37906722], [48.798594, 2.623613], [49.102856, 3.082695], [48.864118, 2.272851], [48.82822, 2.617906], [48.858259, 2.272311], [48.76210053, 2.38167667], [48.850231, 2.299592], [48.846584, 2.387471], [48.852139, 2.389604], [48.879347, 2.370115], [48.866611, 2.321969], [48.860394, 2.34056], [48.868923, 2.354023], [48.86925, 2.3329], [48.858013, 2.365461], [48.84135415, 2.43054371], [48.74237013, 2.47211105], [48.76232, 2.44247], [48.77018, 2.44361], [48.80126, 2.47797], [48.676826, 2.176351], [48.79177, 2.32874], [48.694428, 2.41744], [48.798258, 2.328257], [48.72211, 2.50198], [48.690882, 2.370652], [48.763448, 2.318258], [48.78313, 2.45252], [48.716033, 2.371078], [48.7352, 2.40541], [48.82393479, 2.49713016], [48.8978, 2.11264], [48.67804, 2.529], [48.78641, 2.43241], [49.00671, 2.5555], [48.682889, 2.364609], [48.55288, 2.64305], [48.94946493, 2.38471378], [48.620829, 2.581707], [48.91480112, 2.35812298], [48.94272202, 2.3641794], [48.88123, 2.71437], [48.87531, 2.47789], [48.8537309, 2.50846772], [48.93421, 2.41846], [48.90690569, 2.48746159], [48.94600212, 2.46050298], [48.91461878, 2.39931], [48.87272386, 2.16322874], [48.87925, 2.25779], [48.88527111, 2.19557208], [48.8150255, 2.26783589], [48.90475, 2.2447], [48.907078, 2.317735], [48.82920843, 2.22886473], [48.92026, 2.2819], [48.712942, 1.973231], [48.90017259, 2.37638891], [48.950803, 3.126528], [48.8835, 2.399945], [48.869784, 2.271684], [48.76446314, 2.34264628], [48.877778, 2.316286], [48.70908, 2.30833], [48.89990223, 2.38529921], [48.67927, 2.33363], [48.866524, 2.268792], [48.71098, 2.29355], [48.838837, 2.358202], [48.93576409, 2.28722247], [48.85472, 2.0596], [48.851306, 2.411119], [48.7549, 2.34533], [48.876424, 2.376851], [49.03843116, 2.48465076], [48.78431731, 2.34694866], [48.87528738, 2.44004158], [48.77318113, 2.34587558], [48.891826, 2.301581], [48.91524, 2.3579], [48.860213, 2.29093], [48.62519, 2.47158], [48.857361, 2.264678], [48.83546, 2.571], [48.72814, 2.1656], [48.55584, 2.49189], [48.864978, 2.267427], [48.839957, 2.361729], [48.816586, 2.347239], [48.88961195, 2.16890822], [48.86429599, 2.41363406], [48.879513, 2.36804], [48.77689465, 2.22498357], [48.83236996, 2.32504606], [48.876546, 2.301692], [48.9244141, 2.23084474], [48.83511937, 2.51344121], [48.96235, 2.47364], [48.80041, 2.34774], [48.825793, 2.299593], [49.06191, 2.32597], [48.84759061, 2.48789477], [48.74609, 2.36959], [48.82494, 2.39264], [48.97803406, 2.43674397], [48.82248, 2.39755], [48.72829035, 2.60429471], [48.81344, 2.53715], [48.803839, 2.416722], [48.76152155, 2.49235572], [48.989971, 2.5461], [48.939465, 2.24846363], [48.89521, 2.50066], [48.89516, 2.50065], [48.96336509, 2.35650381], [48.89015, 2.45892], [48.9244, 2.4016], [48.84536501, 2.52824692], [48.90628595, 2.31393769], [48.83690352, 2.58244962], [48.9046627, 2.44445272], [48.83466775, 2.50743923], [48.9130795, 2.40225027], [48.96367546, 2.2979116], [48.92683417, 2.32776189], [48.78456562, 2.24955261], [48.87446785, 2.25531265], [48.649101, 2.168341], [48.88921103, 2.22018528], [48.812243, 2.302807], [48.74581674, 2.31446542], [48.394579, 2.494251], [48.622509, 2.361986], [48.71495, 2.17448], [48.92167671, 2.30596916], [48.97689459, 2.39130735], [48.94589035, 2.28373638], [48.99129, 2.433579], [48.96414794, 2.31361717], [48.91936344, 2.35754643], [49.07128, 2.08185], [48.86823415, 2.42795706], [48.93517, 2.2084], [48.76317, 2.4799], [48.71534, 2.20228], [48.86116, 2.51619], [48.721043, 2.203732], [48.807312, 2.36294447], [48.789086, 2.3616], [48.61961, 2.42562], [48.79253545, 2.34469358], [48.816066, 2.357973], [48.626641, 2.346269], [48.96595112, 2.40869497], [48.9654, 2.283], [48.69515, 2.167654], [48.68124, 2.53038], [48.71401, 2.37267], [49.008091, 1.905064], [48.975947, 1.915738], [48.61891, 2.54247], [48.86089, 2.69638], [48.900926, 2.358867], [48.875335, 2.393549], [48.857294, 2.409818], [48.901899, 2.37274], [48.89849, 2.356093], [48.889058, 2.359898], [48.897848, 2.336152], [48.870522, 2.274544], [48.841915, 2.367878], [48.844209, 2.390275], [48.843796, 2.369704], [48.868796, 2.367629], [48.866145, 2.301346], [48.8655, 2.303356], [48.851078, 2.362217], [48.857897, 2.3502], [48.861982, 2.350163], [48.82012, 2.46769], [48.79329, 2.49791], [48.79133, 2.36948], [48.85266, 2.49064], [48.85486824, 2.49281891], [48.7909, 2.46273], [48.7691894, 2.42247677], [48.96496, 2.51882], [48.92079086, 2.4106729], [48.948914, 2.334256], [48.96410874, 2.34407553], [48.90328, 2.55595], [48.90149, 2.54691], [48.93674, 2.504353], [48.85385199, 2.19280243], [48.88839941, 2.25818932], [48.88805668, 2.2861889], [48.90999453, 2.25496281], [48.90622004, 2.30320528], [48.84048577, 2.2286135], [48.84036161, 2.24755347], [48.79506, 2.30644], [48.98515756, 2.3742485], [49.02032356, 2.4654758], [49.030935, 2.459515], [48.67443, 2.17731], [48.98982, 1.89613], [48.92258, 2.35269], [48.92988, 2.48135], [48.87391673, 2.43718835], [48.96288121, 2.26552784], [48.83027345, 2.49234529], [48.828825, 2.618534], [48.77355694, 2.40191898], [49.03771145, 2.45500982], [48.625331, 2.311606], [48.71454, 2.33456], [48.69563, 2.5222], [48.7184, 2.48879], [48.7056, 2.35963], [48.89565, 2.13935], [48.85553, 2.76928], [48.41568, 2.72084], [48.80953, 3.08285], [48.900847, 2.334437], [48.901047, 2.344], [48.866942, 2.41322], [48.878169, 2.409362], [48.88545, 2.370203], [48.88324994, 2.36913085], [48.888748, 2.331806], [48.877134, 2.287668], [48.860223, 2.281057], [48.843522, 2.271174], [48.815747, 2.36070335], [48.838997, 2.389257], [48.862588, 2.319064], [48.862835, 2.313436], [48.846298, 2.311916], [48.846075, 2.438223], [48.73426019, 2.4624036], [48.77072, 2.476747], [48.80918, 2.36519], [48.7607901, 2.37129606], [48.79236, 2.45792], [48.95938, 2.503103], [48.84320059, 2.55955294], [48.853097, 2.514014], [48.895, 2.54295], [48.901414, 2.570414], [48.913653, 2.432575], [48.931095, 2.501498], [48.90789, 2.38765], [48.81477488, 2.30381727], [48.88447154, 2.26213628], [48.899266, 2.29345898], [48.76387149, 2.27182674], [48.8510642, 2.2344321], [48.82786888, 2.24671501], [48.79815739, 2.30349129], [48.91217979, 2.30037224], [48.412945, 3.261899], [48.380132, 2.560718], [48.76012157, 2.28083073], [48.7225, 2.29919], [48.787585, 2.145424], [48.777753, 2.217567], [48.88676, 2.47699], [48.97789, 2.24081], [48.97622779, 2.23643124], [48.77610897, 2.41417148], [48.77000825, 2.38147652], [48.75424833, 2.38105273], [49.01468, 2.05773], [48.72453, 2.26857], [48.79143067, 2.6040494], [48.18048, 2.72155], [48.61997, 2.43096], [48.63624, 2.43867], [48.87549, 2.70167], [48.44005, 2.72646], [48.394446, 3.092695], [48.86990436, 2.41220713], [48.85355741, 2.39269942], [48.89670713, 2.3706007], [48.88656227, 2.34956011], [48.892275, 2.301108], [48.879738, 2.289377], [48.857943, 2.281186], [48.8736, 2.292816], [48.8634608, 2.24812299], [48.86036576, 2.29122072], [48.82649133, 2.34159261], [48.84111422, 2.38895103], [48.29149407, 2.67922794], [48.870628, 2.332074], [48.77481935, 2.40692116], [48.845, 2.43384], [48.58222, 1.83229], [48.84890721, 2.4549062], [48.772853, 2.360972], [48.952332, 1.914738], [48.77413, 2.43959], [48.76864252, 2.41386339], [48.79342, 2.55471], [48.81517, 2.52325], [48.825339, 2.50229], [48.71085, 2.53929], [48.86686, 2.49767], [48.85107, 2.51666], [48.85985106, 2.43882403], [48.92556, 2.4406], [48.93834, 2.42749], [48.900427, 2.549713], [48.92750772, 2.47373405], [48.82089, 2.31217], [48.923222, 2.252337], [48.71262, 2.28271], [48.7326, 2.31148], [48.71436, 2.17609], [48.64906, 2.18649], [48.917578, 1.851148], [48.70839, 2.25629], [48.6969, 2.38407], [48.800115, 1.980437], [48.93650752, 2.29084397], [48.94067835, 2.29263081], [48.87665786, 2.47771427], [48.9279, 2.3577], [48.80856288, 2.44905786], [48.821922, 2.316733], [48.826081, 2.387937], [48.853568, 2.41404], [48.824838, 2.384286], [48.835006, 2.261347], [48.881514, 2.402691], [48.816467, 2.34455], [48.881108, 2.365166], [48.894957, 2.384091], [48.88347395, 2.32717976], [48.858052, 2.265126], [48.85735877, 2.26465613], [48.831572, 2.341254], [48.822086, 2.325317], [48.825248, 2.373169], [48.87654114, 2.33095497], [48.87659, 2.345236], [48.95246789, 2.36920327], [48.86424, 2.42834], [48.90278239, 2.53132611], [48.956507, 2.495537], [48.913361, 2.402535], [48.91468, 2.3682], [48.911598, 2.386027], [48.89131587, 2.27518782], [48.8967631, 2.28619024], [48.92412, 2.29538], [48.933539, 2.302461], [48.89132, 2.25795], [48.90019391, 2.27373449], [48.83105877, 2.23262116], [48.90779, 2.29221], [48.610817, 2.510789], [48.835203, 2.411409], [48.877377, 2.409157], [48.890426, 2.326589], [48.894334, 2.32988], [48.866718, 2.365162], [48.855563, 2.390129], [48.851645, 2.390499], [48.87504164, 2.340855], [48.865005, 2.313712], [48.860632, 2.295487], [48.857308, 2.34692], [48.78473027, 2.39559594], [48.846575, 2.415859], [48.78904808, 2.49527004], [48.791289, 2.320031], [48.81570165, 2.39351347], [48.75494376, 2.38590565], [48.78086, 2.57342], [48.96572, 2.36313], [48.91484855, 2.34915644], [48.8378, 2.5819], [48.94964142, 2.34137937], [48.94161651, 2.49845048], [48.934888, 2.32485], [48.85964026, 2.21530616], [48.81114563, 2.32640326], [48.8175, 2.3079], [48.81955258, 2.31041998], [48.92097, 2.29498], [48.93350633, 2.30243236], [48.89794989, 2.31125683], [48.75066438, 2.30676614], [48.69991, 2.37579], [48.532303, 2.006853], [48.8651, 2.08805], [48.81449566, 2.35556902], [48.83963957, 2.19735978], [48.87275, 2.43539], [48.95961163, 2.46644694], [48.717276, 2.599117], [48.787242, 2.617241], [48.868091, 2.381969], [48.882154, 2.29168], [48.879643, 2.294708], [48.86411955, 2.27759778], [48.863791, 2.290652], [48.841962, 2.322659], [48.82326, 2.32554], [48.939419, 2.744286], [48.859773, 2.324335], [48.855083, 2.361663], [48.878424, 2.345115], [48.78390329, 2.39337373], [48.78627, 2.50367], [48.83554, 2.49386], [48.66478, 2.41955], [48.796121, 2.431231], [48.70047, 2.4476], [48.76574, 2.47619], [48.70194, 2.37183], [48.7624, 2.4067], [48.71358, 2.36314], [48.81499, 2.4615], [48.61091, 2.45329], [48.68683, 2.16853], [48.926927, 2.520054], [48.42881, 2.1418], [48.91791438, 2.33060762], [48.71535, 2.24841], [48.88750224, 2.46488422], [48.715859, 2.436731], [48.865013, 2.453648], [48.831344, 2.404078], [48.88329579, 2.52826765], [48.95411, 2.31717], [48.895031, 2.306589], [48.906622, 2.485638], [48.90056188, 2.42881932], [48.82802, 2.326949], [48.952608, 2.497517], [48.850621, 2.342812], [48.83165, 2.26239], [48.89791657, 2.26342571], [48.853529, 2.410791], [48.84237, 2.23067], [48.853635, 2.289881], [48.836278, 2.306511], [48.88032, 2.10862], [48.639291, 2.361892], [48.96007, 1.85959], [48.83724, 2.296414], [48.97549, 2.86545], [48.824651, 2.319576], [48.85027, 2.65322], [48.820006, 2.34709], [48.37598, 2.94481], [48.825989, 2.35365], [48.50945, 2.67944], [48.4159, 2.72571], [48.825811, 2.350362], [48.834062, 2.454936], [48.871763, 2.357184], [48.880616, 2.361999], [48.847725, 2.36432], [48.869004, 2.35562], [48.84822, 2.4371], [48.820013, 2.471466], [48.797144, 2.440909], [48.81662938, 2.39962703], [48.78334, 2.32805], [48.73111364, 2.42209241], [48.822919, 2.419804], [48.962202, 2.371651], [48.8462, 2.55217], [48.85908, 2.58139], [48.77024, 2.46137], [48.88668, 2.53306], [48.95163, 2.32086], [48.919543, 2.450845], [48.9228, 2.45761], [48.856615, 2.326864], [48.94796, 2.414], [48.91491, 2.4409], [48.950341, 2.523214], [48.82245159, 2.26729095], [48.83153, 2.25272], [48.947689, 3.080771], [48.93771745, 2.42860469], [48.874641, 3.194538], [48.850235, 2.324156], [48.895643, 2.346335], [48.901229, 2.342683], [48.74166, 2.32203], [48.889466, 2.330392], [48.886835, 2.359629], [48.60277, 2.438], [48.874458, 2.292283], [48.79309594, 2.34508279], [48.75018, 2.22139], [48.64795, 2.38654], [48.72093, 2.37066], [48.845659, 2.277874], [48.784506, 2.034096], [48.86369, 2.240058], [48.92648547, 2.23549596], [48.89827, 2.00576], [48.90719, 2.35851], [48.875887, 2.339857], [48.78937, 2.46545], [48.91000889, 2.44512121], [48.95422, 2.45588], [48.869926, 2.328001], [48.99732912, 2.5185583], [48.855791, 2.302996], [48.82945356, 2.52827231], [48.853742, 2.365679], [48.862747, 2.33538], [48.78288723, 2.37676187], [48.78972796, 2.40270406], [48.81797813, 2.39818635], [48.75378107, 2.36232126], [48.77315, 2.49084], [48.82435, 2.49603], [48.9615, 2.5551], [48.95179174, 2.38825265], [48.90799, 2.34051], [48.91659223, 2.33424484], [48.8887, 2.45749], [48.88993068, 2.45867848], [48.85692108, 2.44480401], [48.917212, 2.53317905], [48.94198, 2.46452], [48.91705, 2.37972], [48.98727, 2.41956], [48.88556036, 2.19624585], [48.81029, 2.30207], [48.69839, 2.18716], [48.89883888, 2.25665385], [48.90142398, 2.25981966], [48.83425105, 2.24393874], [48.7704888, 2.31201857], [48.74112, 2.32109], [48.60711, 2.431487], [48.6744, 2.34235], [48.62, 2.46], [48.93512928, 2.28395155], [48.93480505, 2.28150149], [48.91537288, 2.36805677], [48.85127305, 2.53429592], [48.8086465, 2.21195337], [48.92863623, 2.35847443], [48.96826485, 2.60209057], [48.90676269, 2.64007446], [48.83020089, 2.495767], [48.75372695, 2.35565731], [48.828353, 2.397596], [48.827973, 2.290836], [48.684131, 2.489325], [48.852285, 2.338753], [48.865535, 2.393295], [48.896704, 2.392254], [48.8082154, 2.2400672], [48.889587, 2.375267], [48.889012, 2.304211], [48.83384, 2.471967], [48.881985, 2.319191], [48.838605, 2.289425], [48.832741, 2.311509], [48.834855, 2.342662], [48.831817, 2.379132], [48.62483, 2.43696], [48.846806, 2.413151], [48.856934, 2.3988], [48.89206, 2.307842], [48.842541, 2.409859], [48.95705, 2.3346], [48.851432, 2.350422], [48.84581, 2.372451], [48.95045523, 2.2243318], [48.849222, 2.342007], [48.854776, 2.369541], [48.59458, 2.26426], [48.874413, 2.383375], [48.66572, 2.33761], [48.884271, 2.364651], [48.879578, 2.389505], [48.65757, 2.30837], [48.871757, 2.330566], [48.901036, 2.353295], [48.635709, 2.787462], [48.896964, 2.345183], [48.673373, 2.352631], [48.871492, 2.343066], [48.900899, 2.361608], [48.70065, 2.32467], [48.897733, 2.337513], [48.873307, 2.324304], [48.822847, 2.312865], [48.88009, 2.302246], [48.87488603, 2.3198787], [48.87438, 2.294949], [48.831961, 2.341067], [48.866662, 2.322014], [48.883263, 2.30719], [48.833511, 2.382103], [48.874197, 2.328399], [48.8404, 2.30425], [48.863705, 2.348202], [48.833564, 2.309216], [48.78236494, 2.25911826], [48.856724, 2.279208], [48.845123, 2.311121], [48.861253, 2.358206], [48.821782, 2.325023], [48.851697, 2.285357], [48.861222, 2.353493], [48.874896, 2.359003], [48.826531, 2.310956], [48.77433, 2.40512], [48.85359506, 2.34711528], [48.83405, 2.332146], [48.41296, 2.70692], [48.848412, 2.434538], [48.81073, 2.38007], [48.826169, 2.359957], [48.73024, 2.4478], [48.845696, 2.386549], [48.787272, 2.354228], [48.80969, 2.36264], [48.855275, 2.388114], [48.80531133, 2.37644564], [48.881276, 2.358117], [48.80221, 2.35495], [48.81297, 2.37032], [48.869995, 2.31551], [48.75756, 2.38976], [48.81857, 2.37369], [48.840461, 2.295719], [48.76122, 2.41045], [48.851216, 2.319249], [48.75892, 2.36848], [48.82114506, 2.48801789], [48.851051, 2.362292], [48.77966, 2.443606], [48.84456034, 2.4396476], [48.81752, 2.55521], [48.83168764, 2.53342983], [48.802568, 2.447094], [48.92553638, 2.35066384], [48.75756995, 2.31638711], [48.95812, 2.55828], [48.75772, 2.32945], [48.95668563, 2.33153164], [48.96012033, 2.50218234], [48.76559422, 2.47689195], [48.75135, 2.40737], [48.94313, 2.44165], [48.96258, 2.49863], [48.844494, 2.4395], [48.63133, 2.519874], [48.93904364, 2.34785682], [48.90679, 2.38766], [48.817223, 2.459069], [48.86688, 2.49764], [48.62811, 2.47993], [48.80005, 2.4226], [48.89975, 2.39611], [48.88486, 2.25046], [48.8686094, 2.44755811], [49.0123935, 2.52888322], [48.93378, 2.31347], [48.92083786, 2.51538903], [48.90379057, 2.33360589], [48.91760319, 2.30815619], [48.92952, 2.55304], [48.86685179, 2.50456212], [48.86362178, 2.41984407], [48.92365, 2.28762], [48.87079704, 2.46842355], [48.88476571, 2.2392945], [48.96367238, 2.29793139], [48.92917348, 2.43414444], [48.91339, 2.23052], [48.94918111, 2.32990891], [48.89241, 2.54886], [48.90966382, 2.30673462], [48.9001, 2.56897], [48.90426, 2.45486], [48.90576398, 2.4802797], [48.83226, 2.25954], [48.90475563, 2.45293086], [48.91332179, 2.38698842], [48.90758358, 2.26584703], [48.93374, 2.49056], [48.81179547, 2.28074402], [48.93739328, 2.32436299], [48.81639754, 2.2831285], [48.80741999, 2.18816891], [48.87064, 2.15935], [48.88155666, 2.18312949], [48.9006597, 2.21694982], [48.88663, 2.20115], [48.8856014, 2.21976149], [48.89326, 2.25231], [48.9057, 2.21028], [48.910406, 2.234649], [48.81973018, 2.32552439], [48.62441, 2.37737], [48.90274, 2.31883], [48.9218, 2.30583], [48.90759868, 2.23818719], [48.79075, 2.26278], [48.74691334, 2.30713025], [48.89949704, 2.26171035], [48.90663, 2.29889], [48.78638553, 2.25398988], [48.83208, 2.25306], [48.79502562, 2.30646041], [48.91395, 2.30956], [48.83704616, 2.18468584], [48.599072, 2.496997], [48.663559, 2.199411], [49.02242, 2.497587], [48.928445, 1.609618], [48.817884, 2.35351], [48.901208, 2.353476], [48.817212, 2.334982], [48.847428, 2.41456], [48.861934, 2.2646], [48.87827311, 2.28020364], [48.87378, 2.327025], [48.838706, 2.340566], [48.843125, 2.326434], [48.83968373, 2.33668149], [48.844413, 2.365025], [48.889985, 2.321249], [48.87002, 2.286183], [48.84933, 2.281625], [48.836861, 2.283584], [48.840797, 2.316274], [48.839032, 2.278283], [48.82787806, 2.30417848], [48.826531, 2.34159], [48.833414, 2.35421], [48.859949, 2.316205], [48.853276, 2.313018], [48.871808, 2.339045], [48.861985, 2.350163], [48.850802, 2.361437], [48.79555, 2.50881], [48.80785069, 2.37493944], [48.748086, 2.36933], [48.77289781, 2.46571465], [48.7396272, 2.4068071], [48.81679, 2.45947], [48.82492, 2.50092], [48.720016, 2.566071], [48.79966592, 2.42591147], [48.95619243, 2.57665034], [49.00207, 2.53705], [48.957502, 2.33789], [48.95048673, 2.34042853], [48.92354884, 2.41391985], [48.9010677, 2.45520696], [48.905009, 2.439478], [48.89854, 2.44187], [48.88127679, 2.27171302], [48.8946017, 2.22532332], [48.81746, 2.32664], [48.80189, 2.28738], [48.82745264, 2.2770282], [48.92460758, 2.28409876], [48.91434, 2.29697], [48.74771059, 2.29932368], [48.75657189, 2.2816658], [48.675012, 2.168072], [48.62387, 2.2661], [48.71073, 2.28843], [48.626, 2.353], [48.65409, 2.38047], [48.777254, 2.223418], [48.963053, 1.833688], [48.784529, 2.223155], [48.91636, 2.42967], [48.93897699, 2.3024278], [48.93557, 2.40278], [48.94364712, 2.28775617], [48.90759, 2.47309], [48.81720461, 2.42851783], [48.82994857, 2.61980264], [48.97156364, 2.57335321], [48.82800728, 2.4730466], [48.81915, 2.32324], [48.69095, 2.45396], [48.661255, 2.359245], [48.89477, 2.09718], [48.927133, 2.884128], [48.83784, 2.70993], [48.872376, 2.412504], [48.844967, 2.255002], [48.817318, 2.366127], [48.820273, 2.37556], [48.896462, 2.310057], [48.897854, 2.359105], [48.882262, 2.286022], [48.896248, 2.310003], [48.874949, 2.27113], [48.855853, 2.264758], [48.85817, 2.274299], [48.874922, 2.271112], [48.825217, 2.380391], [48.862588, 2.310411], [48.880981, 2.370073], [48.873908, 2.349562], [48.874154, 2.298921], [48.85906346, 2.29326189], [48.864411, 2.351528], [48.757281, 2.38808], [48.85024, 2.46472], [48.85711, 2.49183], [48.88963, 2.50139], [48.899037, 2.407865], [48.86310703, 2.4440271], [48.86713, 2.42917], [48.9262, 2.42579], [48.906412, 2.483173], [48.90955, 2.44572], [48.93362127, 2.30274975], [48.83493049, 2.24090838], [49.103434, 2.509172], [48.527264, 2.756518], [48.81658529, 2.33656859], [48.69581, 2.23516], [48.94364712, 2.28775617], [49.04211, 2.18871], [48.94920532, 2.28069842], [48.96296926, 2.265324], [48.64574262, 2.55287143], [48.637491, 2.330457], [48.6963, 2.45635], [48.44931, 2.17147], [48.43517, 2.16771], [48.93049, 2.14242], [48.38898, 2.959746], [48.50942, 2.65797], [48.855447, 2.413826], [48.864974, 2.395557], [48.886629, 2.384844], [48.897327, 2.392608], [48.850653, 2.284024], [48.834525, 2.334987], [48.83445, 2.333449], [48.831269, 2.342498], [48.830347, 2.37043], [48.822235, 2.330387], [48.870075, 2.355647], [48.879134, 2.303156], [48.876342, 2.296922], [48.862898, 2.317681], [48.869125, 2.343204], [48.870399, 2.340925], [48.820154, 2.476024], [48.75379, 2.36348], [48.76836, 2.39152], [48.81525, 2.52278], [48.92881778, 2.36242674], [48.877789, 2.520341], [48.88384642, 2.53071931], [48.81933718, 2.30435157], [48.86998387, 2.22428834], [48.87703301, 2.18453608], [48.88459689, 2.19385497], [49.10523, 2.260587], [49.137291, 2.273237], [49.031231, 2.799502], [48.73318, 2.31594], [48.75988, 2.25941], [48.66279, 2.36874], [48.901756, 2.20302], [48.858324, 2.051896], [48.83643, 2.12776], [48.969917, 1.911523], [48.89912191, 2.46932995], [48.89279, 2.4729], [48.97463, 2.49117], [48.93403539, 2.38575811], [48.97587, 2.48265], [48.92699031, 2.48157263], [49.05805321, 2.20880281], [48.87205909, 2.43354142], [48.92316604, 2.4273026], [48.96600043, 2.47713089], [48.83170164, 2.64572401], [48.82909738, 2.47958054], [48.67576, 2.38546], [48.656923, 2.339715], [48.71662, 2.37106], [48.979154, 2.058439], [48.91005335, 2.37879733], [48.89531, 2.337563], [48.877347, 2.279256], [48.872342, 2.296388], [48.872953, 2.272885], [48.8237154, 2.36490101], [48.84422, 2.411025], [48.85078298, 2.37294763], [48.86247, 2.366892], [48.853266, 2.387717], [48.881112, 2.353331], [48.8777889, 2.31628597], [48.8624762, 2.35042781], [48.870126, 2.333646], [48.77817, 2.3965], [48.809933, 2.445028], [48.80981773, 2.35934454], [48.76235298, 2.40680659], [48.82603522, 2.54027697], [49.01220698, 2.52115465], [48.91314, 2.32668], [48.892782, 2.410964], [48.88805196, 2.45848084], [48.87085, 2.41753], [48.88343, 2.4298], [48.917472, 2.456088], [48.907253, 2.535408], [48.90823062, 2.48985512], [48.90850663, 2.37785795], [48.90312, 2.3741], [48.90592936, 2.39245125], [48.92795, 2.33113], [48.81864, 2.30702], [48.89002522, 2.27379978], [48.80253199, 2.28615135], [48.89699418, 2.29552835], [48.89298663, 2.25264108], [48.90463, 2.31291], [48.90025, 2.30218], [48.83169, 2.2425], [48.83036319, 2.24536031], [49.049008, 3.016434], [48.67112, 2.34679], [48.68943, 2.32435], [48.68558, 2.32726], [48.89355695, 2.18863069], [48.80359917, 2.21419888], [48.788591, 2.068377], [48.9261, 2.35695], [48.96526067, 2.25973884], [48.93114, 2.36801], [48.97685891, 2.23427744], [48.54850735, 3.29338227], [48.90425, 2.20717], [48.780473, 2.181529], [48.8382291, 2.19103797], [48.96087, 1.93015], [48.91975, 2.00348], [49.03546598, 2.09715486], [48.91557, 2.47787], [49.034173, 2.453529], [48.70027, 2.46783], [48.71012, 2.38545], [48.88941, 2.10373], [48.868997, 2.291569], [48.860075, 2.333394], [48.863672, 2.321585], [48.859454, 2.409439], [48.89051, 2.383123], [48.85555, 2.266102], [48.825865, 2.300224], [48.823055, 2.369392], [48.770444, 2.446882], [48.788862, 2.466626], [48.83103, 2.49304], [48.77306769, 2.33827485], [48.80156602, 2.41639875], [48.94212782, 2.37708566], [48.94190858, 2.3416481], [48.86185, 2.44665], [48.91638538, 2.49564326], [48.90876, 2.45371], [48.835751, 2.242292], [48.84951, 2.2375], [48.77678171, 2.3191908], [48.79924, 1.99066], [48.97269957, 2.49253392], [48.782248, 2.616277], [48.7043, 2.4354], [48.65385, 2.39644], [48.71308, 2.28234], [48.618404, 2.540559], [48.6419, 2.53538], [48.71331, 2.30857], [49.05534638, 2.17159688], [48.93452516, 2.26967584], [48.837451, 2.068692], [48.96209, 2.26724], [48.91934, 2.35742], [48.701498, 2.828465], [48.96209, 2.26724], [48.693874, 2.237616], [48.88339239, 2.46986931], [48.90722835, 2.47254249], [48.95789816, 2.53055763], [48.83515238, 2.57609455], [48.888994, 2.667469], [48.872376, 2.412504], [48.834927, 2.266773], [48.855152, 2.406141], [48.874661, 2.383008], [48.882956, 2.370613], [48.889926, 2.363085], [48.881552, 2.300695], [48.846397, 2.283171], [48.829388, 2.35632], [48.841276, 2.373387], [48.849615, 2.374283], [48.828061, 2.290946], [48.856826, 2.365998], [48.859377, 2.262867], [48.859066, 2.339087], [48.900802, 2.369807], [48.78722, 2.56254], [48.71209, 2.18333], [48.835932, 2.405657], [48.75912, 2.32946], [48.73068, 2.30871], [48.860414, 2.291153], [48.99092, 2.52421], [48.858724, 2.414744], [48.6302, 2.40974], [48.93912, 2.3797752], [48.870558, 2.408813], [48.89176, 2.40643], [48.62933, 2.48327], [48.86978083, 2.42619485], [48.886075, 2.398245], [48.93557975, 2.30154336], [48.91346, 2.38631], [48.86321, 2.268552], [48.83958871, 2.2007699], [48.938244, 2.32415], [48.83840342, 2.25696078], [48.89129479, 2.28579193], [48.844665, 2.318606], [48.89814, 2.26402], [48.898719, 2.005721], [49.03544363, 2.09728717], [48.833695, 2.33192], [48.99851, 2.32208], [48.90625339, 2.47214056], [48.57519, 2.46595], [48.821574, 2.372481], [48.99732912, 2.5185583], [48.75769527, 2.33590151], [48.819137, 2.359575], [48.71839, 2.25622], [48.96415792, 2.28866994], [48.83434, 2.35354], [48.96973, 2.48227], [48.5967, 2.61], [48.96573, 2.317772], [48.93720852, 2.40978107], [48.853591, 2.380406], [48.78809908, 2.34493544], [48.77568996, 2.41313841], [48.855469, 2.370525], [48.97108326, 2.29290247], [48.7761544, 2.42762751], [48.91598, 2.35784], [48.88064, 2.362017], [48.980028, 2.243219], [48.96069827, 2.61897152], [48.87378269, 2.32057983], [48.77323814, 2.39995477], [48.96569101, 2.55693444], [48.877744, 2.315594], [48.83642302, 2.55202737], [48.84335, 2.48598], [48.76292775, 2.36845232], [48.79928, 2.46628], [48.74036, 2.40914], [48.77444, 2.51095], [48.81452962, 2.41119843], [48.832542, 2.406109], [48.96159, 2.57065], [48.830927, 2.402991], [48.94809406, 2.56120727], [48.95946, 2.39877], [48.876058, 2.33713], [48.88591087, 2.47265875], [48.886105, 2.359525], [48.90171, 2.41359], [48.84727777, 2.54884066], [48.892524, 2.34431], [48.89601606, 2.47716781], [48.858548, 2.244879], [48.929138, 2.478983], [49.01989, 1.95909], [48.929013, 2.478158], [48.851203, 2.253295], [48.81394486, 2.28851885], [48.84811, 2.290123], [48.87038834, 2.1964716], [48.91066274, 2.29088567], [48.837375, 2.38271], [48.88687591, 2.17031658], [48.91637682, 2.30807863], [48.91247506, 2.26162076], [48.858127, 2.371947], [48.88241036, 2.26756167], [48.853269, 2.377276], [48.90676468, 2.25565624], [48.868641, 2.372086], [48.89992074, 2.31444485], [48.865906, 2.319907], [48.83087106, 2.24509925], [48.84333903, 2.2363565], [48.855674, 2.348322], [48.855545, 2.359691], [48.86011, 2.34361], [48.79915816, 2.34484291], [48.77362, 2.33455], [48.85272207, 2.47140911], [48.76882667, 2.46000939], [48.742107, 2.393732], [48.7955099, 2.55022884], [48.78694, 2.56257], [48.9383, 2.51334], [48.90299, 2.334], [48.85608425, 2.42505742], [48.92063773, 2.45667482], [48.90608373, 2.25819813], [48.93203506, 2.4269556], [48.901, 2.54763], [48.90986961, 2.36735697], [48.701748, 2.3086], [49.00634, 1.91194], [48.90676, 2.38765], [48.83978, 2.21936], [48.791799, 2.097257], [48.89403462, 2.41746157], [48.8419, 2.22138], [48.83681424, 2.18677838], [48.88435308, 2.26939827], [48.94263, 2.47816], [48.81276, 2.30156], [48.9299797, 2.30228269], [49.067593, 2.2286], [48.86612, 2.42228], [48.81954298, 2.27892458], [48.89636832, 2.47001756], [48.90334368, 2.25606501], [48.99381, 2.514908], [48.83466, 2.22607], [48.85354418, 2.41079852], [48.62554, 2.886973], [48.864759, 2.412075], [48.93101113, 2.27704391], [48.97538183, 2.2414242], [48.873555, 2.294149], [48.884527, 2.362667], [48.96300436, 2.52239723], [48.848537, 2.265356], [48.835406, 2.266885], [48.77702802, 2.43912685], [48.833405, 2.319037], [48.830104, 2.320417], [48.818883, 2.359539], [48.851303, 2.376148], [48.83911, 2.40414], [48.847522, 2.402182], [48.880616, 2.362031], [48.798789, 2.42342], [48.875789, 2.299586], [48.864441, 2.351535], [48.90746, 2.30019], [48.79266332, 2.38662395], [48.814674, 2.360912], [48.808446, 2.407745], [48.75949598, 2.37090064], [48.774851, 2.489868], [48.81482, 2.39087], [48.712885, 2.297977], [48.797566, 2.015271], [48.89175, 2.40497], [48.697695, 2.29013], [48.94772882, 2.4484019], [48.6852, 2.32742], [48.92726011, 2.35679933], [48.683433, 2.328926], [48.88919986, 2.27313459], [48.65419, 2.34942], [48.9244141, 2.23084474], [48.92221322, 2.23554906], [48.63267, 2.43517], [48.90338406, 2.31280178], [48.89213, 2.47323], [48.80480311, 2.32221127], [48.4332, 2.16719], [48.97697542, 2.47517467], [49.04997, 2.431], [48.62738, 2.58036], [48.81739242, 2.43622472], [48.63014, 2.61773], [48.5340628, 2.6546029], [48.423183, 3.248946], [48.89435, 2.24903], [48.9948941, 2.36513972], [48.73654, 2.34798], [48.516617, 2.268079], [48.637659, 2.862754], [48.45802, 2.17706], [48.76597, 2.68237], [48.72719, 2.30306], [48.70834, 2.25078], [48.821152, 2.317932], [48.9154303, 2.2202268], [48.857737, 2.345455], [48.78593647, 2.22286766], [48.85534, 2.345989], [49.03513188, 2.09841549], [48.86495943, 2.33476639], [48.89544, 2.47107], [48.91432506, 2.31078565], [48.97462627, 2.48970687], [48.79983715, 2.44627859], [48.819197, 2.371793], [48.817787, 2.353378], [48.881438, 2.402473], [48.774462, 2.902107], [48.866593, 2.268615], [48.886176, 2.333804], [48.88995, 2.303469], [48.872561, 2.273662], [48.71966, 2.22301], [48.748351, 2.074184], [48.83674611, 2.44132787], [48.64999, 2.36865], [48.83760058, 2.41325051], [48.85430923, 2.36373693], [48.78943537, 2.38922918], [48.78793, 2.385544], [48.74013167, 2.45704174], [48.74776, 2.46068], [48.75325273, 2.35606366], [48.637945, 1.83405], [48.769228, 2.402291], [48.77574, 2.58651], [48.813809, 2.99552], [48.80629, 2.4185], [48.92446118, 2.33343216], [48.9090284, 2.36563727], [48.87686, 2.46511], [48.87188, 2.419421], [48.818994, 2.33117], [48.960854, 2.351653], [48.62418, 2.41915], [48.9076692, 2.4933292], [48.69896, 2.31265], [48.849986, 2.197777], [48.72988, 2.30042], [49.01118077, 2.48385832], [48.88263572, 2.26741299], [48.65744, 2.37643], [48.973495, 2.310835], [48.89567167, 2.22208411], [48.905727, 2.005148], [48.91444, 2.00557], [48.90282815, 2.27320218], [48.78705, 2.14857], [49.03327, 2.11153], [48.92314448, 2.25123435], [48.81743988, 2.42118259], [48.89261, 2.302462], [48.76505788, 2.26496726], [48.8774, 2.10648], [48.77357, 2.28669], [48.835142, 2.269365], [48.980332, 2.049466], [48.9110459, 2.2985217], [48.77888, 2.31781], [48.87183649, 2.79765769], [48.818263, 2.369457], [48.89318817, 2.70829866], [48.842574, 2.057538], [49.14950377, 2.37959152], [48.851609, 2.331126], [48.868846, 2.390389], [48.882556, 2.341915], [48.501156, 1.90795], [48.888418, 2.348001], [48.596507, 2.05174], [48.85350094, 2.36963511], [48.866197, 2.369659], [48.880699, 2.360246], [48.85881, 2.328732], [48.74602086, 2.46849811], [48.793871, 2.464228], [48.95123018, 2.52628148], [48.88498499, 2.19069276], [48.84549667, 2.23613799], [48.547481, 2.76628], [48.631955, 2.685492], [48.647392, 2.671724], [49.052678, 2.786307], [49.13264488, 1.78906775], [48.81710442, 2.33469325], [48.60044, 2.43915], [48.98492453, 2.24170914], [48.98802, 2.27384], [48.874209, 2.023938], [48.943088, 1.9517], [49.058399, 2.284542], [48.9311293, 2.32352796], [48.86737315, 2.48181211], [48.96795, 2.56422], [48.83584948, 2.56275053], [48.81731613, 2.44009667], [48.77122081, 2.38978389], [48.81980862, 2.40430844], [48.97796, 2.56298], [48.843158, 2.413707], [48.817045, 2.348402], [48.819228, 2.329614], [48.872067, 2.408485], [48.869693, 2.402636], [48.891215, 2.343662], [48.893217, 2.302572], [48.86629, 2.247151], [48.832705, 2.362211], [48.834015, 2.364705], [48.830798, 2.399482], [48.835115, 2.431382], [48.843396, 2.370712], [48.849613, 2.374287], [48.864008, 2.370676], [48.850357, 2.381348], [48.852166, 2.389745], [48.87765983, 2.37001115], [48.79872, 2.47368], [48.80383, 2.4331], [48.76578, 2.48876], [48.76304, 2.40618], [48.804139, 2.422153], [48.93635, 2.51532], [48.88627, 2.456891], [48.8516, 2.53393], [48.85765, 2.44408], [48.91800537, 2.44756159], [48.82405063, 2.28994846], [48.85039, 2.21344], [48.85331907, 2.21760454], [48.86974, 2.1853], [48.86120701, 2.19570833], [48.89144158, 2.2078684], [48.82349949, 2.2696774], [48.94263, 2.30295], [48.91937762, 2.2900182], [48.90190039, 2.2561976], [48.91937483, 2.25266978], [48.8169421, 2.29406744], [48.614328, 2.368997], [49.106691, 2.426444], [48.623107, 2.135427], [48.651255, 2.032827], [48.706642, 2.062608], [48.81630481, 2.36078148], [48.798681, 1.915179], [48.84817532, 2.23384674], [48.90368296, 2.4666784], [48.665039, 2.419089], [48.4374, 2.16303], [48.87818, 2.70148], [48.874364, 2.275955], [48.872518, 2.264424], [48.74468, 2.32288], [48.69671, 2.21463], [48.90183264, 2.20286349], [49.03385054, 2.11133838], [48.94036, 2.42343], [48.836465, 2.547832], [48.76906913, 2.37939164], [48.969307, 2.032331], [48.99732, 2.36062], [48.96790978, 2.28082216], [49.011572, 1.906922], [48.86911, 2.64598], [48.7394, 2.60738], [48.99421, 2.44111], [48.701666, 2.339293], [48.70603, 2.39147], [48.89578, 2.72412], [48.87654, 2.68286], [48.817844, 2.334024], [48.90073, 2.372563], [48.876247, 2.334227], [48.854708, 2.339314], [48.843491, 2.325321], [48.86589, 2.399332], [48.888378, 2.374116], [48.898893, 2.380948], [48.89312, 2.363414], [48.880887, 2.284047], [48.850906, 2.271787], [48.857357, 2.264662], [48.872685, 2.284576], [48.829013, 2.298941], [48.823692, 2.375921], [48.825668, 2.382084], [48.816999, 2.343695], [48.850514, 2.379363], [48.880247, 2.353655], [48.875543, 2.326669], [48.874152, 2.298927], [48.86666822, 2.32201087], [48.80521, 2.487386], [48.79674, 2.51385], [48.81211931, 2.35699978], [48.772746, 2.339464], [48.929669, 2.341], [48.8300594, 2.56152229], [48.85647, 2.43735], [48.946909, 2.344367], [48.91850681, 2.44865493], [48.90745, 2.53252], [48.9224, 2.37211], [48.81097154, 2.29955221], [48.86424977, 2.20820582], [48.872761, 2.22109312], [48.82545044, 2.19803953], [48.83, 2.15191], [48.82082659, 2.22617269], [48.82281272, 2.27355659], [48.82106059, 2.26251215], [48.90486, 2.23898], [48.91454643, 2.22896531], [48.78958293, 2.25271153], [48.83769, 2.24599], [48.98712309, 2.44085044], [48.528645, 2.549964], [48.5575, 2.61132], [48.32073, 2.6953], [48.886514, 2.397054], [48.835112, 2.25999], [48.864239, 2.266641], [48.864126, 2.392272], [48.88438, 2.369209], [48.893372, 2.338261], [48.887736, 2.312558], [48.842312, 2.310553], [48.831686, 2.340878], [48.833693, 2.360575], [48.837662, 2.390776], [48.858156, 2.364496], [48.7349, 2.41773], [48.79457, 2.36024], [48.810119, 2.340704], [48.81143, 2.382939], [48.757671, 2.329453], [48.944632, 2.34838], [48.940672, 2.338696], [48.858678, 2.449008], [48.92736, 2.54753], [48.906032, 2.480382], [48.86817316, 2.15723366], [48.88749, 2.23324], [48.81452605, 2.30564699], [48.89837, 2.25286], [48.898637, 2.307394], [48.77702, 2.31018], [49.1120013, 2.21980065], [49.11918949, 2.22598135], [48.964095, 2.267892], [49.06442, 2.26269], [48.82728643, 2.46925563], [48.82678408, 2.51416833], [48.965078, 2.407309], [48.7051, 2.43739], [48.665846, 2.551929], [48.833569, 2.408341], [48.884787, 2.359249], [48.893115, 2.302399], [48.860204, 2.290907], [48.835403, 2.266885], [48.858069, 2.349685], [48.869327, 2.354265], [48.84457231, 2.43877172], [48.79800638, 2.49129742], [48.80466, 2.41149], [48.78706, 2.42287], [48.99478616, 2.54284859], [48.86806483, 2.44662416], [48.955353, 2.312221], [48.89865, 2.54887], [48.9398718, 2.5060564], [48.918795, 2.369055], [48.867909, 2.194344], [48.88489, 2.25507], [48.63479, 2.736858], [48.58137, 2.45951], [48.93554103, 2.28513973], [48.92435, 2.0], [48.83978493, 2.20977193], [48.93338, 2.48078], [48.94920532, 2.28069842], [48.9259159, 2.39833117], [48.92634273, 2.42216545], [49.06994601, 2.08295579], [49.0183652, 2.09600687], [48.900701, 2.334452], [48.853921, 2.253668], [48.852707, 2.406128], [48.859149, 2.402129], [48.894062, 2.361758], [48.885154, 2.295659], [48.824644, 2.319529], [48.831825, 2.39767], [48.867955, 2.36239], [48.870021, 2.379098], [48.876544, 2.31568], [48.875844, 2.262196], [48.760877, 2.449482], [48.72761782, 2.44548033], [48.80242, 2.39725], [48.730822, 2.425458], [48.756482, 2.374005], [48.78771096, 2.52068156], [48.96540053, 2.57298276], [48.873578, 2.275295], [48.819228, 2.329614], [48.94889777, 2.39011497], [48.901194, 2.350747], [48.869784, 2.271684], [48.86824977, 2.48504812], [48.851873, 2.414958], [48.901223, 2.370703], [48.89445, 2.41976], [48.895368, 2.307319], [48.843235, 2.269542], [48.88007, 2.46079], [48.860838, 2.291329], [48.85384, 2.54485], [48.833696, 2.331799], [48.84442397, 2.36503243], [48.84663, 2.5564], [48.842108, 2.401365], [48.866166, 2.369632], [48.872118, 2.35004], [48.85918124, 2.52420041], [48.856615, 2.266321], [48.92818913, 2.55199513], [48.91558535, 2.44241148], [48.91000623, 2.50878553], [48.92775, 2.46653], [48.855447, 2.413826], [48.90755226, 2.21192658], [48.834102, 2.40929], [48.846538, 2.414356], [48.882815, 2.375692], [48.882806, 2.370305], [48.8863, 2.300582], [48.882336, 2.302088], [48.872619, 2.279397], [48.845844, 2.283688], [48.855888, 2.289786], [48.845075, 2.320046], [48.838233, 2.283693], [48.823681, 2.323172], [48.853669, 2.375565], [48.852825, 2.371052], [48.868618, 2.372085], [48.867089, 2.31604], [48.867234, 2.301927], [49.146749, 2.299506], [48.7778, 2.46259], [48.76959, 2.46441], [48.76418974, 2.40546727], [48.82793, 2.53012], [48.85227964, 2.33873069], [48.877994, 2.40951], [48.7328, 2.52205], [48.77903, 2.42554], [48.886643, 2.372011], [48.92961177, 2.54050586], [48.866277, 2.367427], [48.85953344, 2.22421771], [48.878524, 2.354048], [48.89234567, 2.26893461], [48.867963, 2.302797], [48.90042737, 2.26079598], [48.78410529, 2.45985147], [48.78993, 2.52225], [48.88902, 2.45677], [48.85345085, 2.51619588], [48.660795, 2.224458], [48.91127, 2.516693], [48.92255, 2.54411], [48.93377, 2.56049], [48.87260838, 2.55373518], [48.63763, 2.28992], [48.95927, 2.30823], [48.68353, 2.43204], [48.899315, 2.540638], [48.93417924, 2.32900947], [48.45897, 2.17764], [48.9297517, 2.32603356], [48.81729, 2.32882], [48.8375991, 2.2478874], [48.83633946, 2.25215703], [48.76186287, 2.29803085], [49.12043703, 2.01078773], [49.090682, 3.069225], [48.779822, 2.891743], [48.877655, 2.280344], [48.534738, 2.00169], [48.898624, 2.393336], [48.900488, 2.322065], [48.861712, 2.413697], [48.821355, 2.31918], [48.865076, 2.391887], [48.74981, 2.21046], [48.61185, 2.43282], [48.9832, 1.6849], [48.889864, 2.396625], [48.89249218, 2.66675279], [48.888974, 2.393767], [48.885561, 2.365795], [48.88879, 2.393106], [48.897823, 2.343134], [48.890249, 2.359918], [48.97164082, 2.30304793], [48.877299, 2.294478], [48.895071, 2.321283], [48.882681, 2.314938], [48.625, 2.3236], [48.87401, 2.294192], [48.76010678, 2.28064495], [48.866853, 2.306434], [48.7908173, 2.34457243], [48.78885, 2.42114], [48.77342126, 2.34590575], [48.72308169, 2.44462189], [48.83784916, 2.18980923], [48.78604, 2.21031], [48.935952, 2.28705609], [48.81058, 2.38], [48.54438, 2.67797], [48.91403882, 2.33292403], [48.791272, 2.072068], [48.94522484, 2.35195234], [48.95894229, 2.83335686], [48.970419, 1.894521], [48.94793248, 2.33856417], [48.7933, 2.27083], [48.93559831, 2.40348051], [48.87661, 2.44332], [49.01246621, 2.22204119], [48.74373, 2.32256], [48.99026895, 2.19614983], [48.62363, 2.38918], [48.83231629, 2.66676002], [48.711879, 2.284928], [48.594573, 2.614917], [48.6659, 2.19086], [48.62106, 2.46107], [48.80193886, 2.34201599], [48.77278861, 2.34604004], [48.83920007, 2.21186215], [48.616236, 2.508767], [48.88849622, 2.24910695], [48.966715, 1.92224], [48.94747, 1.9471], [48.92201331, 2.22672771], [48.797652, 1.911572], [48.96093703, 2.32601702], [48.87079506, 2.15722482], [48.873692, 2.275113], [48.985091, 2.295405], [48.96024199, 2.47332287], [48.875592, 2.381883], [48.9939, 2.18536], [49.02003, 2.0262], [48.92963775, 2.36322463], [48.88655992, 2.38461524], [48.93594318, 2.31910014], [48.93726, 2.41041], [48.88155431, 2.30070502], [48.89022, 2.10368], [48.93389, 2.48076], [48.881216, 2.288644], [48.982482, 1.969681], [48.94234, 2.4322], [48.864115, 2.277584], [48.973777, 2.486815], [48.617286, 2.543415], [48.848024, 2.301549], [48.96199218, 2.46989183], [48.846408, 2.283175], [48.92468643, 2.62950739], [48.839898, 2.361761], [48.81070243, 2.44917546], [48.76122778, 2.49120678], [48.86674503, 2.36679733], [48.83522527, 2.57472356], [48.873427, 2.322416], [48.83620546, 2.5559632], [48.880659, 2.318324], [48.78269366, 2.44086088], [48.848855, 2.37297], [48.869337, 2.354244], [48.9066654, 2.63983324], [48.7892202, 2.4785623], [48.897923, 2.338361], [48.886158, 2.287435], [48.76414, 2.38354], [48.866968, 2.280415], [48.837595, 2.277677], [48.78683, 2.54288], [48.828768, 2.307671], [48.82835949, 2.40497321], [48.867788, 2.313853], [48.920525, 2.540092], [48.867984, 2.326659], [48.919256, 2.353884], [48.86714492, 2.45668083], [48.80082, 2.47078], [48.952838, 2.442308], [48.8211, 2.37914], [48.8199, 2.2906], [48.78561, 2.43641], [48.88237, 2.19157], [48.82389, 2.49721], [48.88543, 2.1945], [48.889918, 2.292477], [48.90683, 2.33208], [48.93885223, 2.25653708], [48.91275519, 2.5400612], [48.90321, 2.30601], [48.95203, 2.516178], [48.90660199, 2.37577297], [48.9013, 2.31524], [48.81931737, 2.30448537], [48.78919, 2.26089], [48.86502119, 2.21922129], [48.8332235, 2.24526376], [48.96019, 2.32695], [48.8827161, 2.27651596], [49.07529, 2.07681], [48.83554, 2.24946], [48.89452823, 2.29033493], [48.70307, 2.44369], [48.91407, 2.30991], [48.90938305, 2.2318992], [48.79284049, 2.26980105], [48.34001, 2.8463], [49.070881, 2.618185], [48.697996, 2.963471], [48.445493, 2.883106], [48.47696, 1.912984], [48.875701, 2.410144], [48.88646, 2.394401], [48.853317, 2.345905], [48.87196, 2.290742], [48.893097, 2.348407], [48.862634, 2.268082], [48.874082, 2.324593], [48.827086, 2.368696], [48.91337, 2.53023], [48.871055, 2.365944], [48.90604433, 2.37514222], [49.05439, 2.699531], [48.877187, 2.28372], [48.84268649, 2.1864152], [48.86276, 2.2999], [48.85722, 2.309939], [48.854964, 2.306547], [48.870858, 2.342849], [48.71057, 2.28708], [48.860084, 2.367404], [48.99077818, 2.19376802], [48.81015582, 2.40687838], [48.85991343, 2.6666107], [48.79587, 2.33535], [48.76965562, 2.38000814], [48.739299, 2.318744], [48.78322, 2.34537], [48.76092035, 2.49734715], [48.71328, 2.27794], [48.73933499, 2.41697107], [48.7584371, 2.32563827], [48.62504, 2.30934], [48.81258992, 2.53187596], [48.964617, 1.822725], [48.77215045, 2.40688774], [48.86919, 2.42968], [48.81415169, 2.30533451], [48.776998, 2.513523], [48.89400206, 2.24078538], [48.819807, 2.459598], [48.744, 2.324], [48.93736, 2.37194], [48.93851705, 2.30001759], [48.73636, 2.22862], [48.797104, 2.622287], [48.95346271, 2.33626097], [48.76322073, 2.6158798], [48.85303, 2.22279], [48.69407, 2.31969], [48.82814833, 2.61805928], [48.88915483, 2.25919783], [48.8019795, 2.34359623], [48.90987, 2.21565], [48.77662426, 2.34629943], [48.851647, 2.312532], [48.88661694, 2.20676243], [48.97685891, 2.23427744], [48.80768217, 2.29479736], [48.83006, 2.61699], [48.8979938, 2.28483617], [48.860672, 2.282359], [48.89645971, 2.29172677], [48.65222063, 2.61326769], [48.89651555, 2.25139618], [48.847155, 2.406238], [48.92400523, 2.24811388], [48.96215508, 2.40214348], [48.872271, 2.355908], [48.62152, 2.42459], [48.875889, 2.339872], [48.62493, 2.45198], [48.866803, 2.322099], [48.859032, 2.304255], [48.86977734, 2.35227048], [48.39679, 2.69194], [48.796992, 2.418235], [48.997502, 2.182144], [48.80107, 2.40187], [49.00366685, 2.31856585], [48.65154, 2.27256], [48.84819933, 2.4377203], [48.7049, 2.36765], [48.741034, 2.479682], [48.983879, 1.967279], [48.812845, 2.361183], [48.81669, 2.39532], [48.52922, 2.58078], [48.79216802, 2.44615442], [48.833894, 2.547866], [48.81158, 2.51453], [48.8026, 2.4215], [48.95715, 2.39414], [48.93373427, 2.51866044], [48.88658, 2.471883], [48.89864987, 2.52871236], [48.866445, 2.529065], [48.85852826, 2.43164485], [48.92675, 2.43821], [48.91863, 2.32884], [48.905373, 2.474949], [48.911708, 2.509542], [48.892008, 2.488983], [48.94767342, 2.45166091], [48.830807, 2.403154], [48.84974355, 2.22111353], [48.852294, 2.34364], [48.856333, 2.370893], [48.88454339, 2.2384944], [48.864446, 2.408505], [48.846846, 2.360984], [48.88811341, 2.26481527], [48.889254, 2.371299], [48.895776, 2.341359], [48.898332, 2.36167], [48.88042, 2.27377], [48.87352689, 2.29584754], [48.88485851, 2.29792356], [48.80333092, 2.27741227], [48.84738239, 2.27891743], [48.84945, 2.303742], [48.85005111, 2.28045702], [48.82392, 2.26788], [48.821787, 2.326724], [48.834457, 2.42018], [48.92471, 2.32492], [48.84924, 2.49631], [48.850087, 2.358933], [48.94809063, 2.5612188], [48.9, 2.24], [48.84442316, 2.49762851], [48.879397, 2.491299], [48.91004442, 2.2992897], [48.79180835, 2.36957408], [48.89920368, 2.55428654], [48.77669, 2.23054], [48.80156, 2.32402], [48.90384184, 2.39176333], [48.92816044, 2.27709621], [48.82723, 2.52077], [48.91185545, 2.37966324], [48.82053608, 2.29018718], [48.89864, 2.40711], [48.88144154, 2.1785506], [48.88750576, 2.46492177], [48.83410422, 2.2648555], [48.874278, 2.52694], [48.912985, 2.523465], [48.87802, 2.43528], [49.142237, 2.289803], [48.89710016, 2.31014907], [49.16799802, 2.21885741], [48.77678339, 2.31626585], [49.161211, 2.338602], [48.66246, 2.255931], [48.929274, 1.613338], [48.519788, 2.483082], [48.557899, 1.94144], [48.435095, 2.849793], [48.79819142, 2.21667127], [48.65870955, 2.61286308], [48.7388, 2.3181], [48.972158, 2.59268], [48.95655271, 2.62589792], [48.68634, 2.3265], [48.66245, 2.36852], [48.76020129, 2.32061692], [48.6917, 2.32209], [48.92812889, 2.3579759], [48.92126, 2.37568], [48.968865, 2.251202], [48.92902, 2.35988], [48.95727, 2.276], [48.92736, 2.40711], [49.05741, 2.29748], [48.9084409, 2.35836017], [48.89992162, 2.31448352], [48.894498, 2.370603], [48.878535, 2.402512], [48.884211, 2.384278], [48.878469, 2.370436], [48.882988, 2.385609], [48.898182, 2.386022], [48.886079, 2.383089], [48.881487, 2.370407], [48.892392, 2.345061], [48.876003, 2.368358], [48.882987, 2.344095], [48.890837, 2.359964], [48.884709, 2.307827], [48.889124, 2.322747], [48.84691, 2.259672], [48.86024324, 2.29048052], [48.83869, 2.25395], [48.847528, 2.269105], [48.84732, 2.284732], [48.831178, 2.291885], [48.835119, 2.30379], [48.853702, 2.28768], [48.834291, 2.283909], [48.826199, 2.383317], [48.833646, 2.373606], [48.87601, 2.368323], [48.873252, 2.364217], [48.86883, 2.367648], [48.875263, 2.332308], [48.87021, 2.32989], [48.865864, 2.319853], [48.865869, 2.319902], [48.847974, 2.316146], [48.828663, 2.3147], [48.86113948, 2.30547819], [48.851357, 2.362285], [48.884097, 2.330821], [48.865612, 2.336622], [48.860581, 2.349376], [48.854338, 2.344919], [48.96986014, 2.31668293], [48.96441, 2.30466], [48.68806, 2.53348], [48.699643, 2.371832], [48.428018, 2.151903], [48.89261, 2.302462], [48.862587, 2.413767], [48.864274, 2.413499], [48.841434, 2.254139], [48.860643, 2.295479], [48.820909, 2.891142], [48.65571, 2.37873], [48.622681, 2.289647], [48.77222023, 2.34575745], [48.75976855, 2.2622524], [48.89000239, 2.17016741], [48.89453775, 2.22945678], [48.780536, 2.180044], [48.810346, 2.055613], [48.970326, 1.902646], [48.91954, 2.004711], [48.778668, 2.222551], [48.88065, 2.45189], [48.94920532, 2.28069842], [48.92739, 2.40738], [48.94815749, 2.28119607], [48.87973, 2.44963], [48.83225661, 2.66501136], [48.565509, 3.300588], [48.67395, 2.3426], [48.928364, 1.989032], [48.781593, 2.167368], [48.77653794, 2.23443726], [48.83978058, 2.20456477], [48.90687, 2.21143], [48.849918, 2.343608], [48.859622, 2.401553], [48.876949, 2.297244], [48.863307, 2.283416], [48.84611, 2.314235], [48.836045, 2.278178], [48.99323, 2.38297], [48.843764, 2.286359], [48.62584, 2.25957], [48.816778, 2.334941], [48.64701, 2.27664], [48.832663, 2.374604], [48.832948, 2.378733], [48.834653, 2.400763], [48.861148, 2.377883], [48.87852, 2.354044], [48.862371, 2.309654], [48.871978, 2.339998], [48.750826, 2.446788], [48.7325, 2.41824], [48.719882, 2.566347], [48.96084017, 2.5562489], [48.88569, 2.51182], [48.8891, 2.45484], [48.93493, 2.56887], [48.81871, 2.29169], [48.85943, 2.20961], [48.81186965, 2.30385929], [48.82985459, 2.26079777], [48.931725, 2.266606], [48.928282, 2.270236], [48.79213, 2.25944], [48.82970989, 2.2357741], [48.90964, 2.03433], [48.982414, 3.079433], [48.9574, 2.89691], [48.659427, 2.456077], [48.60835, 2.4352], [48.873995, 2.02405], [48.945517, 1.948973], [48.93408555, 2.27788505], [48.9247, 2.39135], [48.82664869, 2.5137924], [48.78200276, 2.44056815], [48.67953, 2.38124], [48.871428, 2.413002], [48.828642, 2.398889], [48.863502, 2.413408], [48.847428, 2.41456], [48.882612, 2.283497], [48.855157, 2.275296], [48.8843315, 2.39129609], [48.886617, 2.33263466], [48.894601, 2.305127], [48.844764, 2.283905], [48.85914, 2.379469], [48.877054, 2.363836], [48.874954, 2.301047], [48.86439, 2.320311], [48.867212, 2.306804], [48.86631, 2.324165], [48.859089, 2.346392], [48.865463, 2.356088], [48.72735, 2.44539], [48.80776, 2.50911], [48.80747349, 2.43754399], [48.806089, 2.345914], [48.7929349, 2.33603185], [48.8527, 2.4816], [48.804184, 2.457361], [48.83298, 2.54589], [48.81693343, 2.45226055], [48.879331, 2.546716], [48.9444, 2.3377], [48.95467, 2.307986], [48.917767, 2.374813], [48.93621918, 2.33317089], [48.92423478, 2.32904471], [48.8433122, 2.17444217], [48.8680164, 2.19307914], [48.88155, 2.25238], [48.90419, 2.20635], [48.82750204, 2.27680291], [48.862628, 2.319032], [48.854303, 2.363748], [48.803653, 2.377435], [48.78762, 2.51791], [48.800718, 2.333388], [48.77323, 2.367453], [48.760557, 2.31830809], [48.75913511, 2.39506607], [48.80632, 2.530083], [48.82152251, 2.48903538], [48.965134, 2.539195], [48.95824, 2.29524], [48.938919, 2.370017], [48.94326, 2.49322], [48.82554, 2.29261], [48.86174, 2.196041], [48.90643783, 2.22437203], [48.82456606, 2.27094457], [48.9336983, 2.31342539], [48.914922, 2.252883], [48.933581, 2.252309], [48.84108692, 2.22511232], [48.801237, 2.30743], [48.91101, 2.29858], [48.471144, 2.874088], [48.53056, 1.850123], [48.638106, 2.396659], [48.7481, 2.32704], [48.819548, 2.0675], [48.92757, 1.99156], [48.89605238, 2.47019827], [48.603902, 2.633665], [48.8366, 2.54514], [48.99024, 2.29648], [48.612532, 2.278243], [48.889788, 2.15638], [48.92228, 2.03815], [48.84421807, 2.58319509], [48.820678, 2.323145], [48.877377, 2.409157], [48.87677, 2.3956], [48.863292, 2.399719], [48.889508, 2.369555], [48.888881, 2.396854], [48.898612, 2.363193], [48.894796, 2.34076], [48.892065, 2.307827], [48.879739, 2.358696], [48.872011, 2.340063], [48.862608, 2.319075], [48.861981, 2.350191], [48.85333, 2.357812], [48.847732, 2.364261], [48.84226906, 2.43324798], [48.941816, 2.346168], [48.8899953, 2.45350608], [48.867722, 2.559289], [48.90449, 2.5528], [48.91792, 2.32953], [48.80731233, 2.18786448], [48.82442833, 2.21219346], [48.84851, 2.20302], [48.89763065, 2.28282407], [48.91710688, 2.30314784], [48.89199, 2.25863], [48.933226, 2.266771], [48.734106, 2.313146], [48.73209658, 2.31101274], [48.75992, 2.25677], [48.858979, 2.050774], [48.900468, 2.330182], [48.877099, 2.285174], [48.93020885, 2.32579343], [48.857358, 2.264689], [48.77093879, 2.38756083], [48.8487678, 2.265691], [48.82535841, 2.39214184], [48.843076, 2.366609], [48.838179, 2.372994], [48.86560697, 2.44378075], [48.87580721, 2.55353554], [48.85356, 2.392712], [48.848273, 2.315705], [48.86985, 2.32806], [48.857184, 2.347337], [48.85618, 2.346474], [49.01377977, 2.41339803], [48.789196, 2.503619], [48.72096, 2.27268], [48.813378, 2.446783], [48.7772797, 2.34594496], [48.71012, 2.44175], [48.81644, 2.34935], [48.80560546, 2.36377998], [48.80488154, 2.34201558], [48.6347, 2.5353], [48.76695, 2.41485], [48.58408, 2.4552], [48.78418, 2.42362], [48.6086, 2.57868], [48.7912, 2.071901], [48.86826562, 2.49189792], [48.90268, 2.13688], [48.965153, 1.759841], [48.781214, 2.170323], [48.91025, 2.52762], [49.003925, 1.9666547], [48.92072962, 2.45324136], [48.81308429, 2.35419577], [48.970015, 1.869791], [48.92029, 2.41025], [48.83462607, 2.17191184], [48.77633175, 2.34605055], [48.8181927, 2.28459567], [48.90138002, 2.47016001], [48.43968, 2.72727], [48.85411804, 2.22257406], [48.81258763, 2.24003948], [48.75842, 2.32572], [48.94684, 2.47625], [48.94239, 2.43039], [48.82896352, 2.26428616], [48.8302764, 2.61245605], [48.86256315, 2.48291334], [48.93750165, 2.47995195], [48.86611228, 2.41541368], [48.843955, 2.749072], [48.822561, 2.314169], [48.9899, 2.27641], [48.885204, 2.305584], [48.840892, 2.316595], [48.990937, 2.289383], [48.847782, 2.301582], [48.60151, 2.24697], [48.843614, 2.295743], [48.722664, 2.466076], [48.859945, 2.314836], [48.711622, 2.371114], [48.78781, 2.40256], [48.813907, 2.384566], [48.70376, 2.35354], [48.95464, 2.53785], [48.96704, 2.56797], [48.908821, 2.710233], [48.89686, 2.22403], [48.619612, 2.080075], [48.8350074, 2.24128246], [48.957564, 2.875926], [48.8496, 2.67774], [48.81499, 3.08226], [48.890279, 2.382684], [48.87329, 2.272378], [48.879766, 2.407328], [48.848975, 2.284572], [48.824787, 2.415596], [48.827141, 2.39103], [48.863062, 2.379321], [48.900954, 2.346667], [48.895471, 2.383141], [48.816224, 2.363941], [48.86017401, 2.29151845], [48.881911, 2.282727], [48.74478, 2.38632], [48.849971, 2.282455], [48.88288, 2.51378], [48.691, 2.322], [48.832418, 2.311017], [48.92565332, 2.24724931], [48.93513721, 2.26665421], [48.849803, 2.386567], [48.82734, 2.078], [48.878014, 2.305161], [48.89707199, 2.46965129], [48.556714, 1.938346], [48.864089, 2.320196], [48.98424459, 2.50466824], [48.854448, 2.325841], [48.88865176, 2.47259966], [48.854071, 2.355744], [48.97380877, 2.48839259], [48.933024, 2.762135], [48.857298, 2.349615], [48.8552845, 2.48933585], [48.860964, 2.340841], [48.81561665, 2.46172848], [48.740296, 2.486343], [48.80696244, 2.5089477], [48.9333, 2.51616], [48.85506278, 2.45628226], [48.798002, 2.455888], [48.7783, 2.45521], [48.8193, 2.5022], [48.76298539, 2.30430529], [48.81747, 2.51595], [48.65198, 2.38268], [48.91956766, 2.38265052], [48.96964, 1.86721], [48.95369, 2.41637], [48.88983, 2.47343], [48.93837004, 2.30014011], [48.90995507, 2.50798613], [49.03336862, 2.5402969], [48.90761014, 2.42582299], [48.93277, 2.32536], [48.93788866, 2.29766722], [48.82115613, 2.30839759], [48.86751, 2.22694], [48.98104436, 2.30220973], [48.89017265, 2.21906018], [48.84136, 2.23131], [48.72059, 2.44055], [48.83344, 2.24807], [48.66315, 2.400347], [48.7652226, 2.24538423], [48.89649, 2.12174], [48.98344, 2.29387], [48.75987838, 2.26783991], [48.89877, 2.09109], [48.87812, 2.74483], [48.63067, 2.43915], [48.76101392, 2.31812717], [48.831967, 2.698871], [48.6784, 2.3359], [48.73964, 2.18078], [48.38271, 2.97234], [48.61843, 2.55341], [48.59197, 2.59147], [48.957784, 1.934499], [48.840057, 2.092784], [48.87013196, 2.43074208], [48.44479, 2.16639], [48.873123, 2.409459], [48.98219562, 2.3154223], [48.70716, 2.44189], [48.68858, 2.3713], [48.95956, 2.27285], [48.437396, 2.163841], [48.79871719, 2.44499982], [48.89195, 2.378654], [48.884244, 2.302669], [48.83234642, 2.32503533], [48.862201, 2.299324], [48.857538, 2.351296], [48.91198, 2.14649], [48.78608, 2.39186], [48.98929, 2.05979], [48.900935, 2.338542], [48.84575, 2.81312], [48.953044, 2.500448], [48.871218, 2.27332], [48.794338, 3.107329], [48.850008, 2.338712], [48.90731, 2.34431], [48.89103824, 2.50803173], [48.83680548, 2.35185805], [48.874818, 2.397918], [48.85182, 2.4445], [48.72498, 2.26227], [48.856962, 2.404452], [48.93474, 2.56719], [48.875973, 2.372665], [48.91261, 2.51928], [48.88929, 2.297413], [48.95191, 2.52846], [48.89338, 2.310862], [48.985386, 2.084538], [48.82796, 2.22517], [48.90307828, 2.26825297], [48.881264, 2.295544], [48.78972282, 2.30045311], [48.845934, 2.264789], [48.91197178, 2.301566], [48.84783, 2.242226], [48.848008, 2.24897], [48.841918, 2.28997], [48.843768, 2.28639], [48.822406, 2.323901], [48.825717, 2.38193], [48.83936, 2.371432], [48.834419, 2.409877], [48.881492, 2.370055], [48.870074, 2.300994], [48.856685, 2.348897], [49.04127, 2.11293], [48.79374, 2.46127], [48.661397, 2.364201], [48.80181555, 2.44847354], [48.7164, 2.39321], [48.82148, 2.41377], [49.016016, 1.910404], [48.9308038, 2.35010626], [48.85521, 2.52459], [48.95322578, 2.31201712], [48.92481204, 2.41489358], [48.95393, 2.38405], [48.89929, 2.56345], [48.936011, 2.466684], [48.909798, 2.398825], [48.93389791, 2.33273931], [48.82028378, 2.29062492], [48.87057, 2.18423], [48.81877297, 2.24018276], [48.93426476, 2.3175289], [48.8341154, 2.24482995], [48.83551969, 2.24000931], [48.90970454, 2.28676665], [48.83320096, 2.35435456], [48.90531996, 2.26426435], [48.872553, 2.378521], [48.850825, 2.361459], [48.881559, 2.300701], [48.852707, 2.259855], [48.864096, 2.299466], [48.847151, 2.274479], [48.829582, 2.451057], [48.965169, 1.763263], [48.847291, 2.385978], [48.87859, 2.47631], [48.850102, 2.384715], [48.882652, 2.343686], [48.64598426, 2.62308483], [48.875967, 2.300241], [48.740528, 2.484288], [48.8382135, 2.49124525], [48.848263, 2.414947], [48.832264, 2.533758], [48.89525, 2.37196], [48.78230686, 2.35532874], [48.889879, 2.396631], [48.777823, 2.464735], [48.896612, 2.3597574], [48.87383, 2.21762], [48.883853, 2.349473], [48.81061192, 2.30895415], [48.878982, 2.292772], [48.891011, 2.287358], [48.837837, 2.265288], [48.829718, 2.295714], [48.838183, 2.270645], [48.858437, 2.389436], [48.882861, 2.359048], [48.80157, 2.37894], [48.733766, 2.446732], [48.77021, 2.44044], [48.76271, 2.4786], [48.781557, 2.407816], [48.44363, 2.12523], [48.93314, 2.34799], [48.93582661, 2.36789864], [48.99854, 2.10378], [48.85238029, 2.56809925], [48.91966792, 2.45100407], [48.92536092, 2.41561192], [48.89105384, 2.27024263], [48.90231778, 2.28715897], [48.89706459, 2.28933279], [48.88731, 2.24958], [48.89836891, 2.25658572], [48.78481, 2.31104], [48.654, 2.38], [48.74928726, 2.32841223], [48.645681, 2.162932], [48.53249, 2.50083], [48.62405, 2.29921], [48.713638, 2.276318], [48.92431667, 2.23108042], [48.82725286, 2.22440344], [48.88652814, 2.16549995], [48.796372, 2.039832], [48.969816, 1.867271], [48.968989, 1.862377], [48.94925302, 2.44676549], [48.900179, 2.811486], [48.95805467, 2.52849698], [48.97312, 2.49099], [48.97566099, 2.49022422], [48.97265, 2.49233], [48.79510362, 2.44232708], [49.004034, 2.392614], [48.699, 2.469], [48.6603, 2.3683], [48.44925, 2.18784], [48.68994, 2.32358], [48.93958, 2.09586], [48.91244562, 2.21780957], [48.7731, 2.61672], [48.93615747, 2.28919347], [48.60471, 2.64618], [48.80962829, 2.21206164], [48.79855, 1.915058], [48.87391673, 2.43718835], [48.969467, 2.250208], [48.90844, 2.45082], [48.88318367, 2.47202095], [48.93399243, 2.38993411], [48.85191141, 2.66193581], [48.82953894, 2.49806034], [48.78839103, 2.44007985], [48.865931, 2.764445], [48.4076, 2.6875], [48.874745, 2.410543], [48.873182, 2.411905], [48.855745, 2.405169], [48.863478, 2.389827], [48.833715, 2.31498], [48.827386, 2.356889], [48.831044, 2.448881], [48.878984, 2.355784], [48.862826, 2.313466], [48.861022, 2.29487], [48.85293, 2.368507], [48.7646, 2.44185], [48.850649, 2.252218], [48.81133104, 2.36197861], [48.824292, 2.30637], [48.77315778, 2.40174678], [48.825225, 2.30219], [48.90580736, 2.33239272], [48.886122, 2.288028], [48.95, 2.328], [48.848927, 2.406566], [48.94052587, 2.4463436], [48.883275, 2.301943], [48.95304, 2.50263], [48.84684933, 2.161915], [48.840502, 2.295767], [48.84984625, 2.18446174], [48.87786, 2.2343], [48.90088604, 2.25634371], [48.486804, 2.851467], [49.07553158, 2.27643371], [48.995092, 2.892973], [48.88979, 2.827939], [49.1842777, 1.73182598], [48.828471, 2.397418], [48.900869, 2.364336], [48.819228, 2.329614], [48.831821, 2.314114], [48.88434, 2.314575], [48.883813, 2.304682], [48.828947, 2.387717], [48.87497, 2.357338], [48.875066, 2.339505], [48.885662, 2.316816], [48.88107, 2.52627], [48.91640382, 2.44415358], [48.808101, 2.288136], [49.150916, 1.787688], [48.90665091, 2.24627137], [48.76020129, 2.32061692], [48.97037, 1.90638], [48.9288887, 2.26194799], [48.8382291, 2.19103797], [48.9324074, 2.24852678], [48.78577808, 2.27480534], [48.92763153, 2.33315814], [48.91955894, 2.28017978], [48.941457, 2.47843623], [48.854377, 2.414079], [48.81641, 2.345917], [48.881999, 2.393293], [48.882355, 2.320981], [48.605589, 2.430747], [48.875124, 2.295984], [48.849507, 2.365647], [48.760461, 2.443019], [48.83466, 2.54944], [48.91256404, 2.33464032], [48.87358, 2.43369], [48.92842, 2.45223], [48.8443594, 2.20842227], [48.88474, 2.23964], [48.84048654, 2.22860831], [49.02477584, 2.49922924], [49.07726512, 1.94468614], [49.12090436, 2.02695558], [48.67261, 2.34418], [48.6698, 2.34955], [48.81567897, 2.33682579], [48.792408, 2.073354], [48.88818802, 2.24926628], [48.92207, 2.35707], [49.04122122, 2.08079948], [48.92684, 2.40341], [48.95967623, 2.27188361], [48.97369139, 2.48648286], [48.62108, 2.116992], [48.99616119, 2.37127125], [48.74614, 2.26683], [48.6044, 2.46828], [48.996869, 1.913191], [48.91247, 2.59513], [48.75637611, 2.70515746], [48.425113, 2.908064], [48.86079, 2.69399], [48.63875, 2.39591], [49.03717, 2.09074], [48.91913, 2.3572], [48.93837004, 2.30014011], [48.963424, 2.264711], [48.970308, 2.249598], [49.03189623, 2.11539388], [48.96300436, 2.52239723], [48.79932574, 2.62419184], [48.764234, 2.61541914], [48.82902097, 2.61865052], [48.83736648, 2.49419421], [48.70692, 2.59631], [48.85099, 2.7869], [48.886466, 2.371428], [48.83879398, 2.26132751], [48.84119, 2.291805], [48.821013, 2.350756], [48.857792, 2.370931], [48.857702, 2.392276], [48.870612, 2.355016], [48.868495, 2.362983], [48.870605, 2.355001], [48.876804, 2.361025], [48.873624, 2.335346], [48.875261, 2.332291], [48.85177393, 2.313844], [48.77125, 2.44026], [48.729242, 2.44713], [48.751357, 2.461364], [48.85333, 2.47588], [48.77701508, 2.44166724], [48.79126, 2.46526], [48.7667, 2.50886], [48.95629216, 2.54134427], [48.94145, 2.34243], [48.877417, 2.499015], [48.96007, 2.29869], [48.91722, 2.419676], [48.92298, 2.45779], [48.9234, 2.45931], [48.86959032, 2.1854724], [48.88330756, 2.26485443], [48.87955016, 2.27702683], [48.78203474, 2.22628579], [48.90493509, 2.2536571], [48.83070344, 2.23440921], [48.83368543, 2.24398792], [48.82607, 2.23311], [48.91309373, 2.30692363], [48.74022403, 2.28017235], [48.78178, 3.296], [49.090281, 2.368683], [48.287219, 2.86534], [48.75247446, 2.33047185], [48.634653, 2.400793], [48.62849, 2.4806], [48.68628, 2.18985], [48.772875, 2.225378], [48.90101, 2.005071], [48.88398, 2.46943], [49.06299, 2.3258], [48.88897465, 2.47422427], [48.94925302, 2.44676549], [48.90443, 2.46555], [48.835672, 2.808302], [48.75710948, 2.38389571], [48.81771331, 2.45475769], [49.04892, 2.331371], [48.64463, 1.84026], [48.630049, 2.332354], [48.69419, 2.33098], [48.705613, 2.360386], [48.59127, 2.68917], [48.817721, 2.333999], [48.82678093, 2.39018887], [48.831843, 2.397727], [48.876972, 2.408671], [48.863474, 2.389843], [48.878353, 2.403427], [48.884516, 2.363692], [48.886466, 2.295772], [48.838728, 2.289491], [48.83514, 2.277844], [48.838389, 2.342093], [48.865826, 2.371559], [48.884215, 2.365352], [48.873074, 2.332287], [48.858645, 2.298595], [48.738828, 2.446656], [48.80184894, 2.5474543], [48.75666, 2.498], [48.947555, 2.527106], [48.91021, 2.3577], [48.88626463, 2.41056078], [48.85307817, 2.43884171], [48.878, 2.45714], [48.90088492, 2.36386299], [48.819915, 2.359218], [48.90038888, 2.37039685], [48.827846, 2.329133], [48.865917, 2.371111], [48.878435, 2.370104], [48.870101, 2.310055], [48.85985, 2.352738], [48.862464, 2.336255], [48.820798, 2.376664], [48.93014, 2.35066], [48.860567, 2.348132], [48.93346, 2.54304], [48.85023, 2.32718], [48.89937, 2.5603], [48.861711, 2.291615], [48.839755, 2.255753], [48.81737186, 2.19610155], [48.820004, 2.339803], [48.830033, 2.439532], [48.8523658, 2.393442], [48.851623, 2.390508], [48.880617, 2.362027], [48.880094, 2.31346], [48.848259, 2.315773], [48.864447, 2.351547], [48.869685, 2.326639], [48.853447, 2.367167], [48.77867509, 2.39766216], [48.806709, 2.363273], [48.80664, 2.35142], [48.794354, 2.369051], [48.78268, 2.39398], [48.7537, 2.36558], [48.77569, 2.4899], [48.768531, 2.487948], [48.80955582, 2.54506371], [48.81222, 2.53401], [48.95604, 2.54082], [48.84122043, 2.5784263], [48.87268364, 2.43594231], [48.94265, 2.56922], [48.91530794, 2.45908008], [48.91249152, 2.47877103], [48.82323, 2.29625], [48.81735, 2.30733], [48.82261129, 2.2845313], [48.83752196, 2.15485883], [48.84312191, 2.22186202], [48.91174644, 2.22055927], [48.81609, 2.31124], [48.89597497, 2.2902444], [48.8286, 2.28248], [48.89964, 2.27224], [48.83366, 2.25653], [48.74044, 2.30184], [48.71264, 2.28954], [48.98257, 1.68673], [48.848237, 2.247354], [48.97107622, 2.24907517], [48.96317823, 2.52207041], [48.657599, 3.103402], [48.88515, 2.47212], [48.8867163, 2.47692347], [48.96300436, 2.52239723], [48.95844, 2.52713], [48.334272, 2.032621], [48.337788, 2.167525], [48.885809, 2.288302], [48.859533, 2.329291], [48.8706, 2.354953], [48.831692, 2.344386], [48.857159, 2.338609], [48.848968, 2.328742], [48.874086, 2.413048], [49.115312, 2.019269], [48.873687, 2.3765], [48.879736, 2.289492], [48.859214, 2.268998], [48.86826, 2.277377], [48.872494, 2.282906], [48.849936, 2.272229], [48.861806, 2.230303], [48.838779, 2.293014], [48.51659, 2.381995], [48.844754, 2.283894], [48.827499, 2.292124], [48.834973, 2.277581], [48.821542, 2.327935], [48.7271, 2.31367], [48.844815, 2.402028], [48.66761, 2.35698], [48.88198, 2.320514], [48.69803, 2.31396], [48.866781, 2.322095], [48.91719011, 2.30784188], [49.052741, 2.786255], [48.873703, 2.306497], [49.03589387, 2.09570646], [48.962525, 2.75068], [48.864483, 2.334966], [49.10594, 2.55131], [48.858537, 2.34823], [48.93412, 2.38391], [48.90389, 2.47134], [48.851832, 2.356547], [48.853322, 2.3578], [48.93376, 2.3809], [49.02389297, 2.53550291], [48.851054, 2.362285], [48.96346, 2.52181], [48.83562025, 2.66525863], [48.79475, 2.39707], [48.87593751, 2.66912639], [49.016429, 2.882629], [48.85078, 2.50384], [48.82217919, 2.39282615], [48.83189783, 2.67415376], [48.739018, 2.767493], [48.75625946, 2.34657562], [48.75940121, 2.50031751], [48.8583, 2.49131], [48.83100751, 2.60627873], [48.78279, 2.45952], [48.77610897, 2.41417148], [48.74840561, 2.50904278], [48.95223891, 2.52908975], [48.946136, 2.51510739], [48.89006105, 2.45297012], [48.91287706, 2.50048726], [48.95249, 2.49688], [48.87266303, 2.16338038], [48.75331485, 2.33176301], [48.91046304, 2.21421719], [48.73849, 2.17867], [48.798125, 2.28296], [48.68702, 2.32608], [48.908182, 2.051426], [48.89061272, 2.29173392], [48.83488984, 2.17313111], [48.92422, 2.29457], [48.83699462, 2.23630518], [48.83169441, 2.14920613], [48.9311293, 2.32352796], [48.93386, 2.38603], [48.95758, 2.27564], [48.86575, 2.42124], [49.03831, 2.087934], [48.92705786, 2.35713065], [48.852722, 2.329378], [49.00361, 2.28831], [48.88086587, 2.4751941], [48.809513, 2.509715], [48.815808, 2.623204], [48.71567, 2.25563], [48.79807, 2.50244], [48.42991, 2.1842], [48.91469805, 2.63429878], [48.839703, 2.538924], [48.78852, 2.45135], [48.75259807, 2.41638078], [48.80003694, 2.48593917], [48.8786, 2.09969], [48.71994695, 2.56636092], [48.53637, 2.7034], [48.97795, 2.55645], [48.87657, 2.69953], [48.911708, 2.325141], [48.942498, 2.364629], [48.89672, 2.50447], [48.87215197, 2.55930215], [48.91526101, 2.43200451], [48.90196515, 2.46003896], [48.97411, 2.34014], [48.8853339, 2.22361028], [49.05835025, 2.00296909], [48.81434236, 2.3210831], [48.82731, 2.27786], [48.932049, 2.310725], [48.922682, 2.252581], [48.904657, 2.30963141], [48.8316, 2.25824], [48.741586, 2.28433415], [49.11835546, 2.25256335], [48.997495, 1.668901], [49.154079, 2.270324], [48.87688405, 2.64914598], [48.964385, 1.760044], [49.04050768, 2.71581478], [49.036468, 2.564127], [48.64383, 2.075531], [48.579276, 1.818581], [48.900701, 2.334452], [48.825912, 2.298574], [48.859033, 2.41411], [48.892317, 2.379133], [48.837881, 2.281776], [48.77431145, 2.34553563], [48.900787, 2.338559], [48.83637, 2.326594], [48.76761859, 2.3442356], [48.900869, 2.364336], [48.836467, 2.374614], [48.81520826, 2.33637682], [48.900503, 2.384818], [48.68545, 2.32711], [48.63235, 2.5296], [48.869784, 2.271684], [48.827465, 2.419395], [48.69827, 2.19238], [48.863283, 2.414083], [48.932825, 1.973916], [48.91808521, 2.22294963], [48.855693, 2.371644], [48.849504, 2.352877], [48.8645, 2.48231], [48.94695037, 2.47598946], [48.848546, 2.362762], [48.86665, 2.397114], [49.0467717, 2.45605464], [48.96157, 2.47377], [48.76843218, 2.3678906], [49.0412385, 2.12812338], [48.897771, 2.333427], [48.92005, 2.35853], [49.00326696, 2.16891228], [48.76266428, 2.47877428], [48.825083, 2.316836], [48.86628452, 2.41411418], [49.01412222, 2.14740336], [48.7561223, 2.32239957], [48.833241, 2.420385], [48.82854107, 2.47576095], [48.87835874, 2.44648683], [48.871438, 2.360324], [48.822354, 2.410712], [48.90635, 2.47223], [48.84825895, 2.49161327], [48.872786, 2.280393], [48.93858011, 2.30135264], [48.96085, 2.55636], [48.863741, 2.354922], [48.832062, 2.652488], [48.96431, 2.52016], [48.897452, 2.468729], [48.858737, 2.348473], [48.66477, 2.39835], [48.93058384, 2.32463231], [48.78995, 2.37423], [48.91925, 2.37825], [48.76604, 2.49055], [48.84572378, 2.22382888], [48.75837, 2.40962], [48.93956707, 2.35069125], [48.9068387, 2.2614206], [48.92608417, 2.35999452], [48.830839, 2.634812], [48.89158, 2.40528], [48.91295808, 2.51840734], [48.960886, 2.293431], [48.75910401, 2.38383813], [48.82922, 2.61576], [48.956308, 2.30855], [48.95768, 2.34492], [48.90661, 2.44987], [48.92932669, 2.47993316], [48.8137093, 2.30490196], [48.6712, 2.52609], [48.8128, 2.30166], [48.43983, 2.16877], [48.82973149, 2.2673808], [48.91904197, 2.22299731], [48.93201, 2.26635], [48.75, 2.6125], [49.00573, 2.42707], [48.90844989, 2.30021238], [48.57202, 2.62156], [48.92926369, 2.28446531], [48.61065, 2.44896], [49.025533, 2.387091], [48.79951772, 2.34247635], [48.75895409, 2.32434215], [48.76918213, 2.34391194], [48.96917, 2.07307], [48.86690246, 2.42530059], [48.91351503, 2.43444657], [48.85393, 2.69071], [49.03851501, 2.48434782], [48.81728543, 2.43173439], [48.85986, 2.81075], [48.81737184, 2.4349508], [48.858451, 2.921772], [48.9901, 2.4297], [48.99427, 2.20301], [48.56432, 2.482127], [48.53073, 2.50102], [48.82467978, 2.3932333], [49.00156707, 2.42964685], [48.989, 2.25916], [48.643435, 2.282713], [48.60121, 2.31816], [48.7236, 2.24803], [48.703232, 2.315789], [48.658, 2.3579], [48.62881, 2.42402], [48.93941, 2.07596], [48.95492, 1.85986], [48.874475, 2.275778], [48.900471, 2.323526], [48.870563, 2.413456], [48.847546, 2.329981], [48.854395, 2.340719], [48.96105, 2.07391], [48.8944236, 2.38149941], [49.00496, 2.11639], [48.896152, 2.352902], [48.887115, 2.301774], [48.895456, 2.326567], [48.870023, 2.257601], [48.871187, 2.284962], [48.872485, 2.291992], [48.840004, 2.290355], [48.834505, 2.334647], [48.819606, 2.341906], [48.831813, 2.314166], [48.827893, 2.345647], [48.861844, 2.321847], [48.866615, 2.381311], [48.869081, 2.362417], [48.870548, 2.361191], [48.880099, 2.313461], [48.855327, 2.352743], [48.859246, 2.367645], [48.898224, 2.352505], [48.857732, 2.350772], [48.895146, 2.315556], [48.824654, 2.499715], [48.79924064, 2.34010506], [48.95444, 2.55196], [48.798907, 2.453815], [48.8989973, 2.54541782], [48.9399996, 2.34496705], [48.92296159, 2.51408614], [48.936244, 2.373218], [48.81522126, 2.22150207], [48.920696, 2.526149], [48.90959842, 2.30678782], [48.95103511, 2.33939347], [48.90711, 2.53572], [48.89903475, 2.55407399], [48.93564, 2.47557], [48.94102, 2.45877], [48.9410555, 2.49480557], [48.92722892, 2.33015084], [48.82415, 2.21048], [49.12819308, 2.37025738], [48.88571392, 2.21925616], [48.64635, 2.533808], [48.65609, 2.37864], [48.95598293, 2.47342937], [48.90769383, 2.63891275], [48.66644, 2.3965], [48.57754, 2.46395], [49.007126, 2.119754], [48.623954, 2.468245], [48.91165005, 2.2168204], [48.81141418, 2.21289598], [48.91388028, 2.35799795], [48.77928728, 2.61536001], [48.897526, 2.389438], [48.886026, 2.349542], [48.883854, 2.349475], [48.840406, 2.30425], [48.840238, 2.271976], [48.863895, 2.404137], [48.855408, 2.405292], [48.856446, 2.373482], [48.879238, 2.362906], [48.869848, 2.366828], [48.864088, 2.235287], [48.849742, 2.361516], [48.89038228, 2.29837954], [48.889237, 2.296154], [48.84046, 2.413686], [48.82618997, 2.39193499], [48.880641, 2.362005], [48.867948, 2.386604], [48.873941, 2.385293], [48.88997, 2.362493], [48.890046, 2.30386], [48.82232738, 2.31420189], [48.832737, 2.362167], [48.83087977, 2.35626161], [48.851553, 2.390558], [48.894616, 2.347176], [48.855496, 2.360087], [48.870382, 2.349533], [48.856519, 2.349482], [48.858524, 2.342517], [48.7901, 2.39315], [48.78837845, 2.50639844], [48.81649, 2.338], [48.80632, 2.530052], [48.81353, 2.5109], [48.771638, 2.509405], [48.90407, 2.47087], [48.958172, 2.495363], [48.89756197, 2.19700545], [48.91896742, 2.22025484], [48.8176437, 2.32207873], [48.83156, 2.2672], [48.93163492, 2.31923506], [48.92697, 2.31438], [48.91108459, 2.31004313], [48.80735, 2.270547], [48.829, 2.24612], [49.09884758, 2.53137231], [48.698134, 2.192247], [48.58284, 2.45698], [48.719897, 2.310716], [48.95528809, 2.27796417], [48.97648, 2.2415], [48.96208, 2.5464], [49.03421791, 2.10199934], [48.996905, 2.419503], [48.62622, 2.26262], [48.7137, 2.48909], [48.61167, 2.45317], [48.617508, 2.568695], [48.474722, 2.678764], [48.561611, 2.354286], [48.86923132, 2.22999474], [48.816449, 2.342122], [48.855428, 2.414051], [48.898299, 2.386144], [48.603868, 2.805612], [48.66829, 2.35401], [48.80193886, 2.34201599], [48.782318, 2.223139], [48.867415, 2.033212], [48.783697, 2.158476], [48.86628, 2.41456], [48.84919697, 2.49125102], [48.7704672, 2.38375781], [48.78530834, 2.44039875], [48.83372592, 2.59108543], [48.93698458, 2.32766725], [48.97473, 2.48645], [48.97731578, 2.36465693], [48.94637, 2.22963], [48.70598, 2.39122], [48.697588, 2.354561], [48.69132, 2.370748], [48.60873, 2.46397], [48.8781, 2.76195], [48.85391, 2.69071], [48.88065233, 2.704871], [48.862587, 2.413767], [48.82776546, 2.393486], [48.873182, 2.411905], [48.847819, 2.329549], [48.838494, 2.357064], [48.84433278, 2.34203562], [48.8562, 2.40493], [48.88811, 2.32103], [48.841871, 2.262435], [48.829906, 2.295619], [48.821561, 2.372528], [48.831754, 2.388339], [48.84281, 2.38456], [48.85364, 2.39322], [48.87986343, 2.36365619], [48.838484, 2.375933], [48.865952, 2.320926], [48.900976, 2.330161], [48.868387, 2.359444], [48.863654, 2.342781], [48.78442276, 2.39816844], [48.84113, 2.43293], [48.81903204, 2.46788891], [48.798165, 2.347107], [48.81961, 2.39991], [48.81373333, 2.51023972], [48.705412, 2.552748], [48.94803, 2.33853], [48.939494, 2.489619], [48.907103, 2.376322], [48.80696133, 2.3044526], [48.82987686, 2.23095059], [48.79293, 2.31573], [48.91221552, 2.28473139], [48.92319912, 2.38836229], [48.90759692, 2.49194317], [48.918173, 2.404992], [48.93963, 2.30415], [48.90078, 2.30682], [48.862858, 3.342125], [48.987483, 2.512988], [48.569192, 2.754271], [48.932223, 1.973644], [48.72384, 2.31244], [48.66987, 2.34952], [48.6616, 2.37], [49.0401, 2.47149], [48.98542, 2.43859], [48.70915, 2.38709], [48.87196, 2.10373], [48.827466, 2.392312], [48.864483, 2.409021], [48.88371, 2.346993], [48.855819, 2.263679], [48.82499, 2.302137], [48.849457, 2.369918], [48.847553, 2.408961], [48.839741, 2.387322], [48.874766, 2.370306], [48.883849, 2.36859], [48.860637, 2.295471], [48.861987, 2.35018], [48.854523, 2.368797], [48.863217, 2.335518], [48.75365, 2.45057], [48.81851627, 2.39568204], [48.76905, 2.36812], [48.8110871, 2.56369776], [48.827293, 2.51277092], [48.82878, 2.48589], [48.94349, 2.59082], [48.88064836, 2.47723126], [48.90423, 2.47073], [48.85816711, 2.44203266], [48.9124, 2.47953], [48.90657, 2.45], [48.945, 2.4498], [48.91315512, 2.38036931], [48.8291378, 2.26383001], [48.83468, 2.22594], [48.816833, 2.364982], [48.901237, 2.344249], [48.8584475, 2.342505], [48.901076, 2.345273], [48.875144, 2.296017], [48.864964, 2.395548], [48.87778, 2.4082], [48.822268, 2.315459], [48.87853, 2.294223], [48.888789, 2.393107], [48.894453, 2.313479], [48.879549, 2.280875], [48.88259, 2.37973], [48.889105, 2.31614], [48.893456, 2.325375], [48.88172, 2.373793], [48.893306, 2.30283], [48.847163, 2.274442], [48.864984, 2.288665], [48.86182, 2.291655], [48.836228, 2.310173], [48.857831, 2.250238], [48.838354, 2.322294], [48.824128, 2.344528], [48.839946, 2.361742], [48.8059449, 2.37568308], [48.820258, 2.371826], [48.7332, 2.4468], [48.8468934, 2.41139], [48.836702, 2.378291], [48.724339, 2.445046], [48.864657, 2.303798], [48.862906, 2.317676], [48.860966, 2.31499], [48.79583, 2.44246], [48.86651, 2.364788], [48.869007, 2.355595], [48.79, 2.41], [48.8247, 2.40883], [48.735585, 2.446849], [48.82283, 2.47251], [48.77242, 2.46231], [48.850771, 2.50309], [48.90237814, 2.3932755], [48.820138, 2.475473], [48.81506, 2.28292], [48.78796476, 2.43575397], [48.77944, 2.45918], [48.70224, 2.30766], [48.818914, 2.522481], [48.611225, 2.434362], [48.75609704, 2.34121956], [48.78845, 2.42885], [49.149373, 2.279647], [48.89386664, 2.41659818], [48.76754609, 2.2442129], [48.89583255, 2.46259626], [48.94355783, 2.28738079], [48.81477264, 2.29698792], [48.95182, 2.28002], [48.87864396, 2.18639749], [48.7764277, 2.41579932], [48.89204, 2.24599], [48.91842496, 2.22390801], [48.83029831, 2.628491], [48.9189314, 2.24073386], [48.84047, 2.23162], [48.77011469, 2.38223272], [48.80598874, 2.31372401], [48.9202, 2.31519], [48.635231, 2.357946], [48.620683, 2.374495], [49.01615, 2.09206], [48.63732, 2.3318], [48.96796, 1.9989], [48.72753, 2.30358], [48.66828, 2.35455], [48.768846, 2.37919993], [48.80856288, 2.44905786], [48.901047, 2.344], [48.852658, 2.414748], [48.832072, 2.288339], [48.876382, 2.409421], [48.862819, 2.264975], [48.844061, 2.254911], [48.900847, 2.334437], [48.845513, 2.319139], [48.882612, 2.283497], [48.889051, 2.374601], [48.847134, 2.351231], [48.68314, 2.53809], [48.89027, 2.398039], [48.892677, 2.35979], [48.844829, 2.382951], [48.888347, 2.349589], [48.80079, 2.43116], [48.87253, 2.264428], [48.763536, 2.406256], [48.843778, 2.286348], [48.832084, 2.310475], [48.91718, 2.0126], [48.83491, 2.54726], [48.841471, 2.329755], [48.82799, 2.40351], [48.840153, 2.370349], [48.933086, 2.511732], [48.84539841, 2.36680269], [48.84733, 2.370261], [48.93267472, 2.3748881], [48.877631, 2.351555], [48.92101, 2.36158], [48.874214, 2.329769], [48.890842, 2.400882], [48.868583, 2.349719], [48.87239012, 2.55379787], [48.853955, 2.364765], [48.863892, 2.342379], [48.74804314, 2.4662298], [48.85099548, 2.49728204], [48.81723929, 2.29470205], [48.7581323, 2.32682889], [48.62384, 2.46862], [48.78244318, 2.49508899], [48.88975386, 2.27633339], [48.82446632, 2.54415706], [48.77319669, 2.34566363], [48.91092215, 2.29184908], [48.81302, 2.48953], [48.75938138, 2.32309048], [48.7597123, 2.26475667], [48.93129, 2.364], [48.88823597, 2.45997782], [48.81757294, 2.21630638], [48.89970431, 2.44864911], [48.98129, 2.49859], [48.86487, 2.55528], [48.90620241, 2.459907], [48.87363434, 2.50884494], [48.92328565, 2.4807592], [48.91936344, 2.35754643], [48.87449125, 2.55195788], [48.7849558, 2.44038353], [48.90522539, 2.44190779], [48.83550949, 2.5693073], [48.94179, 2.44968], [48.81713893, 2.44226193], [48.842396, 2.218874], [48.92717, 2.22795], [48.87484, 2.25231], [48.89974136, 2.21995939], [48.89398, 2.1817], [48.82341461, 2.2709164], [48.81736431, 2.27372042], [48.933369, 2.300625], [48.90442187, 2.27874738], [48.918124, 2.230784], [48.900495, 2.373846], [48.78456, 2.24955], [48.76215142, 2.28573024], [48.862422, 2.409178], [48.8921, 2.327114], [48.77883, 2.28746], [48.91550204, 2.3025839], [48.898916, 2.322361], [48.84299, 2.312807], [48.96078, 2.40118], [48.830951, 2.312295], [49.00624, 2.40081], [48.867531, 2.299411], [48.97613976, 2.34781265], [48.852447, 2.354851], [48.81425, 2.40781], [48.756144, 2.373559], [48.95887, 1.98028], [48.755827, 2.346297], [48.7566629, 2.41410103], [48.957139, 2.898718], [48.819066, 2.371901], [48.95864, 2.88004], [48.94850831, 2.35760915], [48.889296, 2.403407], [48.891333, 2.326889], [49.104823, 2.531834], [48.8932682, 2.40964879], [48.85785869, 2.33623624], [48.89859, 2.43586], [48.825768, 2.314409], [48.87897927, 2.41300524], [48.457535, 2.588329], [48.83885283, 2.36099303], [48.90478941, 2.47035108], [48.84291, 2.423275], [48.91451171, 2.38959195], [48.874637, 2.357391], [48.81983, 2.31082], [48.80530833, 2.18314201], [48.880618, 2.362028], [48.82691, 2.22132], [48.875037, 2.309198], [48.855617, 2.303336], [49.11292, 2.216275], [48.754048, 2.449157], [49.153008, 2.256773], [48.80242941, 2.4926227], [48.80261455, 2.51158029], [48.79186, 2.49802], [48.804632, 2.438254], [48.81012, 2.34067], [48.75516, 2.40494], [48.76955419, 2.4645393], [48.788783, 2.461613], [48.82161887, 2.48967576], [49.01147399, 2.52127111], [48.88365329, 2.47945803], [48.62379, 2.29785], [48.88709, 2.47049], [48.63552, 2.53538], [48.84784, 2.5528], [48.86554, 2.53683], [48.970517, 1.87801], [48.928886, 2.4397], [48.83850309, 2.19236004], [48.82477444, 2.30184898], [48.83921391, 2.21834502], [48.80390104, 2.28865251], [48.93513695, 2.30171031], [48.82775845, 2.22479876], [48.86937, 2.48244], [48.801, 2.29374], [49.03386578, 2.11132765], [48.79675638, 2.28807047], [49.02856189, 2.52593279], [48.98692009, 2.50492573], [48.9345, 2.39654], [48.88748, 2.4731], [48.92971, 2.30913], [48.92426, 2.34198], [48.88879, 2.24782], [48.98826, 2.20528], [48.79228789, 2.31555372], [48.9638, 2.52113], [48.78952058, 2.31298551], [48.96991748, 2.59832365], [48.59353611, 2.6410138], [48.8306, 2.7572], [48.75866642, 2.46997279], [48.83613158, 2.54122138], [48.85837971, 2.48781332], [48.92303128, 2.25184071], [48.971911, 3.138439], [48.69902, 2.29962], [48.911507, 2.03194], [48.54715, 3.29215], [48.80044, 2.6337], [48.86664, 2.73788], [48.66278, 2.36787], [48.77376519, 2.34617558], [48.82187046, 2.22150108], [48.863626, 2.040937], [48.92376825, 2.22996229], [48.901124, 2.876942], [48.97238617, 2.2473371], [48.95432, 2.45653], [48.94625, 2.44147], [48.92572, 2.39606], [48.82650013, 2.51586685], [48.668694, 2.612329], [48.7761107, 2.42505182], [48.818684, 2.457463], [48.782318, 2.616032], [48.823131, 2.31157], [48.890115, 2.29852], [48.882946, 2.38885], [48.887416, 2.349681], [48.869506, 2.323649], [48.862429, 2.301608], [48.730483, 2.44684], [48.9187, 2.52045], [48.64897, 2.18644], [48.93719759, 2.49864018], [48.71531, 2.17384], [48.91579632, 2.27175817], [48.96888116, 2.48032451], [49.03773617, 2.08928876], [48.96154811, 2.31798112], [48.85684395, 2.48790403], [48.73015, 2.30041], [48.78352, 2.616569], [48.74164, 2.26088], [48.869924, 2.301005], [48.892269, 2.301017], [48.84734826, 2.32792407], [49.00313664, 2.3920691], [48.846883, 2.413873], [48.981355, 2.369519], [48.88142084, 2.36187413], [49.05510616, 2.05250144], [48.78768222, 2.39062661], [48.67522, 2.3841], [48.899458, 2.070529], [48.8484336, 2.43489513], [48.947946, 1.846398], [48.742826, 2.465883], [48.7655, 2.4476], [48.78549366, 2.71132109], [48.78486275, 2.49532717], [48.82985, 2.51174], [48.884, 2.7085], [48.81792799, 2.42412928], [48.84393, 2.10981], [48.98950392, 2.52638876], [48.59821, 2.59118], [48.919775, 2.357733], [48.87881449, 2.70147371], [48.90539268, 2.39527989], [48.8636, 2.52992], [48.93364, 2.54339], [48.956111, 2.308512], [48.90860694, 2.45101306], [48.92227675, 2.4640735], [48.88418, 2.20322], [48.89581, 2.27857], [48.89760773, 2.30061516], [48.77726, 2.30822], [48.91723, 2.29392], [48.910643, 2.291972], [48.75772551, 2.32805983], [48.91246, 2.27612], [48.787362, 2.147975], [48.9144, 2.31192], [48.842, 2.11124], [49.00739355, 2.16194967], [48.410018, 3.245779], [48.89465546, 2.471265], [48.85197, 1.878083], [48.68249, 2.49125], [48.78134, 2.222978], [48.93488462, 2.28273043], [48.93626044, 2.28962372], [48.76767, 2.64628], [49.01168438, 2.1517226], [48.91058, 2.44346], [48.91922, 2.35739], [48.93786065, 2.29673004], [48.81722515, 2.42374656], [48.869171, 2.270687], [48.845831, 2.414445], [48.836323, 2.256396], [48.845354, 2.257551], [48.893265, 2.397999], [48.876713, 2.286459], [48.885647, 2.30669], [48.837887, 2.281779], [48.837206, 2.273879], [48.826156, 2.312749], [48.86245, 2.301942], [48.8547, 2.385324], [48.875895, 2.339896], [48.881996, 2.320511], [48.857964, 2.315212], [48.862919, 2.3507], [48.82002, 2.47728], [48.760674, 2.341382], [48.767869, 2.394477], [48.834555, 2.549698], [48.81042, 2.54742], [48.91792477, 2.33096141], [48.88852781, 2.45730433], [48.888218, 2.460693], [48.92129, 2.51913], [48.89876219, 2.47802978], [48.84555477, 2.17396572], [48.83288198, 2.15036273], [48.89349897, 2.20616341], [48.89421699, 2.2250399], [48.79675747, 2.28808075], [48.89436935, 2.29567267], [48.94175297, 2.295295], [48.900819, 2.333069], [48.846693, 2.415864], [48.7759764, 2.22895145], [48.898806, 2.383841], [48.892484, 2.374716], [48.7893, 2.31406], [48.895968, 2.373939], [48.75839, 2.307], [48.872692, 2.284575], [48.857666, 2.273633], [48.868596, 2.274175], [48.840626, 2.304981], [48.834466, 2.272677], [48.85398462, 2.30953288], [48.823231, 2.325557], [48.87381509, 2.35677204], [48.77043, 2.44698], [48.79942, 2.49901], [48.76872, 2.48836], [48.96443, 2.56582], [48.94524, 2.35182], [48.84, 2.56], [48.88332, 2.51205], [48.88296, 2.53422], [48.89937, 2.55955], [48.89852, 2.55192], [48.955929, 2.496393], [48.923996, 2.504496], [48.86404309, 2.20849425], [48.87379768, 2.18291044], [48.77023818, 2.27402329], [48.796541, 1.866984], [48.593896, 2.063949], [48.76329456, 2.30558731], [48.79896363, 2.34374287], [48.83918281, 2.19487929], [48.8833591, 2.45795473], [48.96281, 2.54833], [48.77669983, 2.41635026], [48.39049, 2.80647], [48.887231, 2.309386], [48.824005, 2.346692], [48.838004, 2.344213], [48.869993, 2.371021], [48.87975, 2.358658], [48.870762, 2.365396], [48.869484, 2.313412], [48.75296, 2.4534], [48.81263511, 2.36142325], [48.75481508, 2.34686114], [48.79059, 2.58146], [48.7392, 2.51609], [49.01219, 2.59568], [48.88086481, 2.47222099], [48.9023, 2.52011], [48.891349, 2.515254], [48.88735459, 2.46586865], [48.869397, 2.463375], [48.8731, 2.45368], [48.90685, 2.430665], [48.82047, 2.29087], [48.9069736, 2.21131235], [48.81977, 2.31076], [48.80547, 2.28703], [48.79965, 2.28169], [48.82100946, 2.26245537], [48.92195238, 2.29480737], [48.93109219, 2.24422172], [48.90208993, 2.2909686], [48.8158741, 2.25411505], [48.76315126, 2.31176752], [48.57491, 2.46594], [48.8069485, 2.34653959], [48.90809836, 2.21351713], [48.88130031, 2.47480899], [48.588542, 2.304126], [48.687294, 2.173568], [48.68977, 2.38626], [48.69569, 2.36494], [48.43869, 2.16702], [48.69051, 2.61049], [48.878061, 2.408447], [48.900887, 2.364217], [48.8899, 2.383086], [48.884177, 2.3686], [48.875774, 2.289028], [48.863261, 2.283626], [48.871706, 2.365387], [48.874803, 2.357405], [48.872368, 2.337446], [48.799825, 2.377778], [48.79569, 2.44773], [48.77165, 2.49017], [48.770139, 2.425579], [48.81487284, 2.5199604], [48.74474123, 2.5065735], [48.75987303, 2.52693844], [48.93616907, 2.36988455], [48.91812, 2.35799], [48.8925461, 2.51940832], [48.86701, 2.50097], [48.91006, 2.50831], [48.90661, 2.45081], [48.90880919, 2.45005041], [48.94135, 2.46385], [48.93873565, 2.47274412], [48.828409, 2.190734], [48.88813798, 2.19151765], [48.80006215, 2.30139166], [48.579833, 2.417829], [48.430906, 2.266413], [48.61098, 2.43305], [48.70847, 2.30657], [48.72192, 2.31151], [48.92832946, 2.35827677], [48.87834, 2.47705], [48.97093, 2.49969], [48.81748654, 2.44035369], [48.6398, 1.83935], [49.001201, 1.891274], [48.916755, 2.024167], [48.48671, 2.69634], [48.88301107, 2.71487732], [48.841494, 2.318708], [48.833142, 2.398791], [48.862652, 2.367308], [48.864186, 2.380239], [48.873975, 2.306059], [48.854577, 2.288849], [48.86287145, 2.31519163], [48.868648, 2.357676], [48.740416, 2.446647], [48.829341, 2.517798], [48.795758, 2.433709], [48.79412, 2.3368], [48.815744, 2.366512], [48.7462, 2.37175], [48.77928, 2.4923], [48.81714, 2.45367], [48.95911, 2.57247], [48.93137212, 2.35686443], [48.896983, 2.515345], [48.89388, 2.43452], [48.91945, 2.45052], [48.93584, 2.435233], [48.90303, 2.56226], [48.91126, 2.384676], [48.93070162, 2.3208189], [48.87220323, 2.22412097], [48.89948046, 2.3028717], [48.83862851, 2.2361598], [48.83837571, 2.240834], [48.83707824, 2.23787892], [48.90741111, 2.26576692], [48.842744, 3.193904], [48.860713, 2.047205], [48.90206507, 2.20316291], [48.91139887, 2.44020849], [49.06084, 2.309894], [48.92253435, 2.35702102], [48.91977, 2.35723243], [48.830374, 2.069249], [48.95700911, 2.47337222], [48.814771, 2.826372], [48.92164654, 2.36690506], [48.82846891, 2.47633616], [48.81251, 2.36168], [48.667654, 2.811255], [48.469105, 2.858521], [48.637726, 2.061862], [48.69958, 2.45453], [48.6594, 2.37278], [48.71137, 2.35907], [48.70722, 2.36163], [48.826659, 2.29572], [48.852901, 2.336994], [48.852688, 2.406117], [48.866449, 2.41263], [48.87803, 2.37068], [48.868379, 2.285663], [48.850698, 2.292342], [48.842768, 2.30303501], [48.861909, 2.372143], [48.875792, 2.348264], [48.874638, 2.369681], [48.871387, 2.302568], [48.77018, 2.4405], [48.8076164, 2.50586128], [48.79314, 2.36926], [48.92445649, 2.57007712], [48.87333236, 2.22146308], [48.8413586, 2.1794799], [48.889736, 2.268159], [48.89418, 2.19585], [48.78748482, 2.24882975], [48.75002, 2.30875], [48.703369, 2.248799], [49.03319521, 2.10962176], [48.827258, 2.390884], [48.857024, 2.398145], [48.91268, 2.5226], [49.01305, 1.91675], [48.872526, 2.412676], [48.899104, 2.317124], [48.864911, 2.410887], [48.886269, 2.371519], [48.887703, 2.395965], [48.865003, 2.27867], [48.849948, 2.288408], [48.41296, 2.70686], [48.84047, 2.315176], [48.26757485, 2.69940617], [48.823283, 2.32562], [48.858942, 2.38525], [48.864709, 2.329328], [48.868319, 2.330248], [48.84643039, 2.43576752], [48.81233942, 2.35363036], [49.061189, 2.189217], [48.807342, 2.375043], [48.75377, 2.35785], [48.779647, 2.4596], [48.79948224, 2.54609227], [48.81634, 2.49969], [48.94969, 2.55678], [48.92371129, 2.37153186], [48.93112772, 2.34977592], [48.94343478, 2.36291081], [48.89449, 2.41975], [48.85709, 2.53121], [48.9268614, 2.38969156], [48.865133, 2.208594], [48.88196047, 2.23045242], [48.81579, 2.32082], [48.805296, 2.29802], [48.92585, 2.29148], [48.93748, 2.25816], [48.90503, 2.23908], [48.90403587, 2.26948893], [48.90816888, 2.29965359], [48.82756, 2.24563], [48.83376, 2.24364], [48.91698, 2.28815], [49.0271052, 2.51444995], [48.82799527, 2.52620846], [48.83020089, 2.495767], [48.8116153, 2.27515966], [49.012363, 2.35219002], [48.878055, 2.27962], [48.845095, 2.32011], [48.850346, 2.342629], [48.80098849, 2.34364314], [48.89001, 2.396056], [48.80048354, 2.34369821], [48.85116, 2.300905], [48.846895, 2.411989], [48.88279, 2.370277], [48.80072795, 2.34367155], [48.843611, 2.295756], [48.845094, 2.352183], [48.93541254, 2.26118997], [48.848225, 2.280614], [48.92990191, 2.30211945], [48.845549, 2.395379], [48.883279, 2.301953], [48.964949, 1.801531], [48.82813, 2.39218], [48.93484607, 2.25934802], [48.866211, 2.301491], [48.77786, 2.21643], [48.85434, 2.344908], [48.836199, 2.33174], [48.79643659, 2.21723738], [48.763113, 2.34873], [48.9666118, 2.47689199], [48.879498, 2.350807], [48.91906, 2.38712], [48.9988, 2.36914], [48.865253, 2.351976], [48.92797, 2.32628], [48.81921, 2.30284], [48.80978, 2.50982], [48.90025575, 2.20019907], [48.80092814, 2.32786882], [48.561301, 2.351911], [48.800877, 2.333458], [48.80831, 2.40993], [48.93404109, 2.54226592], [48.876888, 2.480324], [48.88329733, 2.47482354], [48.89231, 2.540697], [48.86659, 2.5623], [48.92167, 2.44451], [48.83266, 2.1531], [48.90512022, 2.32053751], [48.71257, 2.2457], [48.68642, 2.40409], [48.6563, 2.39259], [48.68816, 2.3715], [48.43169, 2.1514], [48.86026, 2.12089], [48.93389, 2.03866], [48.775758, 3.31532], [48.56594, 2.63032], [48.95586, 2.88953], [48.851879, 2.328631], [48.842522, 2.337492], [48.849958, 2.354884], [48.148694, 2.749672], [48.880126, 2.398559], [48.883353, 2.309513], [48.869541, 2.28503], [48.846082, 2.276972], [48.838766, 2.290202], [48.842985, 2.326324], [48.484003, 1.912965], [48.827389, 2.307173], [48.828476, 2.372929], [48.81887, 2.359546], [48.831703, 2.357934], [48.838432, 2.439025], [48.842091, 2.376396], [48.837521, 2.42533], [48.864615, 2.378013], [48.86812, 2.372411], [48.865071, 2.315569], [48.816112, 2.343916], [48.828233, 2.32561], [48.855823, 2.368484], [48.795565, 2.406884], [48.7297, 2.44694], [48.731848, 2.450854], [48.74192, 2.32013], [48.74792503, 2.45064412], [48.90255581, 2.20307529], [49.00052596, 2.52228228], [48.843158, 2.523668], [48.171953, 2.86078], [48.92465, 2.3407], [48.81809968, 2.39792785], [49.078284, 1.97344], [49.144605, 1.803346], [48.81058, 2.403432], [48.787209, 1.847793], [48.81527069, 2.37561509], [48.84371204, 2.46584339], [48.77755957, 2.45750796], [48.8133025, 2.51125279], [48.81322747, 2.53704069], [48.91274183, 2.23938525], [48.771325, 2.5237], [48.72768, 2.530454], [48.966764, 2.542174], [48.96366, 2.57224], [48.87882668, 2.472233], [48.84481, 2.53896], [48.848263, 2.414947], [48.87803407, 2.45746002], [48.92632142, 2.52579476], [48.95963, 2.30432], [48.90580425, 2.53963902], [48.91514241, 2.48404662], [48.95019, 2.45463], [48.88760889, 2.26026803], [48.8795, 2.27114], [48.80639542, 2.27671668], [48.89979643, 2.23996568], [48.62286, 2.28921], [48.63433, 2.40608], [48.79143618, 2.28954166], [48.8325419, 2.2597973], [48.73048853, 2.30839062], [48.96976, 1.86408], [48.57865, 2.46318], [48.93546, 2.61318], [48.83475953, 2.23945946], [48.69787, 2.24088], [48.82505, 2.24877], [48.90490374, 2.28338465], [48.632, 2.406], [48.91380641, 2.30160624], [48.970257, 1.734698], [48.95474, 1.93843], [48.96602, 2.25752], [48.91165005, 2.2168204], [48.94617059, 2.44137667], [48.87291, 2.43567], [49.03791015, 2.08944082], [48.82665078, 2.51617424], [48.989464, 2.377097], [48.98146, 2.292589], [49.03226905, 2.47394085], [48.98758072, 2.16671795], [48.92383, 2.20685], [48.69344, 2.29139], [48.705924, 2.371725], [48.60493, 2.46787], [48.43315, 2.17881], [48.98681, 1.89469], [48.96191, 2.88017], [48.26736, 2.69853], [48.81603278, 2.794181], [48.79259523, 2.34427063], [48.62628, 2.41578], [48.6263, 2.35223], [48.631493, 2.514598], [48.80072795, 2.34367155], [48.841703, 2.104253], [48.88710935, 2.25283375], [48.851104, 2.351292], [48.691561, 2.294973], [48.898447, 2.352482], [48.72688, 2.27707], [48.88221, 2.30117], [48.881038, 2.314177], [48.872967, 2.293123], [48.832232, 2.379765], [48.831297, 2.712053], [48.848785, 2.367984], [48.874915, 2.357302], [48.70737, 2.48102], [48.877503, 2.352855], [48.69694, 2.49743], [48.866242, 2.313843], [48.874203, 2.30743], [48.688, 2.3772], [48.851751, 2.367011], [48.81378028, 2.42590007], [48.74438, 2.3586], [48.765407, 2.368139], [48.97639047, 2.51310153], [49.00547, 2.59291], [48.70112, 2.30934], [48.90805, 2.34416], [48.63157, 2.51775], [48.957255, 2.321731], [48.94056569, 2.43103801], [48.68972, 2.32391], [48.93146, 2.42812], [48.93440186, 2.28032461], [48.93876774, 2.47268864], [48.77623152, 2.23440873], [48.912559, 2.369936], [48.82159, 2.30442], [48.800429, 1.954944], [48.846583, 2.223527], [48.8099, 2.2429], [48.879421, 2.108681], [48.86278071, 2.66799677], [48.76401, 2.27094], [48.86121, 2.66508], [48.78165178, 2.44112328], [48.9166742, 2.30597422], [48.9513, 2.91041], [48.68174, 2.60388], [48.83173, 2.71558], [48.84942, 2.7677], [48.770117, 3.340468], [48.834351, 2.276014], [48.899104, 2.317124], [48.839711, 2.402524], [48.85209844, 2.34030247], [48.883753, 2.373979], [48.890843, 2.359967], [48.840804, 2.256213], [49.00686, 2.38425], [48.68646, 2.40409], [48.797507, 1.924067], [48.70065, 2.35303], [48.68887, 2.38508], [49.058486, 1.525555], [48.65891, 2.37447], [48.64067, 2.39385], [48.61569587, 2.56103048], [48.92846986, 2.41326385], [48.94234, 2.47827], [48.98082714, 2.2244317], [48.94067835, 2.29263081], [48.8733299, 2.48004132], [48.86991, 2.43047], [48.9339962, 2.38457104], [48.82050762, 2.40183223], [48.64498261, 2.54553568], [48.773825, 2.611984], [48.7761107, 2.42505182], [48.85948, 2.77615], [48.42395, 2.7394], [48.9009625, 2.36379325], [48.848316, 2.414768], [48.86144922, 2.41393447], [48.864167, 2.386159], [48.835959, 2.257468], [48.866666, 2.397123], [48.865034, 2.394759], [48.893172, 2.303521], [48.868826, 2.392104], [48.874198, 2.323905], [48.876432, 2.37214], [48.82357, 2.317101], [48.882943, 2.290749], [48.828074, 2.396298], [48.85027, 2.344539], [48.865022, 2.234461], [48.840484, 2.312905], [48.846403, 2.351709], [48.846966, 2.34063], [48.844004, 2.369343], [48.887127, 2.38677], [48.899937, 2.385345], [48.888035, 2.299699], [48.832548, 2.396566], [48.886661, 2.290481], [48.843743, 2.302373], [48.862257, 2.339192], [48.858217, 2.328321], [48.834402, 2.332253], [48.804989, 2.344552], [48.862135, 2.31235], [48.827112, 2.385614], [48.78125638, 2.57213639], [48.8429, 2.363963], [48.851338, 2.376159], [48.72198, 2.53359], [48.836549, 2.351166], [48.881277, 2.358114], [48.90960253, 2.32995719], [48.90343207, 2.33448476], [48.851307, 2.376141], [48.864662, 2.32052135], [48.832738, 2.311534], [48.88941, 2.4066], [48.861748, 2.365309], [48.91672405, 2.5322333], [48.83508, 2.5013], [48.863417, 2.350931], [48.916966, 2.381864], [48.79987096, 2.43763051], [48.87004333, 2.23126799], [48.852441, 2.360559], [48.84774, 2.47034], [48.855412, 2.352748], [48.88711154, 2.17961401], [48.79442, 2.37173], [48.8022331, 2.45961725], [48.79489, 2.51432], [48.8171, 2.38189], [48.931007, 2.244652], [48.773067, 2.398173], [48.77417, 2.48209], [48.81182, 2.51067], [48.94467, 2.35462], [48.83304359, 2.26031363], [48.91407, 2.51957], [48.81153, 2.30022], [48.88381742, 2.271714], [48.90162692, 2.19741315], [48.83208157, 2.26807997], [48.8429765, 2.54379094], [48.91385843, 2.23000742], [48.86519, 2.45387], [48.89937, 2.44685], [48.91932728, 2.39653706], [48.81618854, 2.29508847], [48.88775085, 2.23419991], [48.87805, 2.25715], [48.90036748, 2.26950717], [48.83766, 2.24606], [48.91592, 2.29458], [48.75839, 2.307], [48.605376, 2.082531], [49.05418158, 2.57295996], [49.02545108, 2.34548441], [48.6316, 2.49339], [48.779007, 2.199934], [48.90224173, 2.2034508], [49.036351, 2.09396878], [48.98595974, 2.24209995], [48.97104, 2.49948], [48.819242, 2.458531], [48.78839102, 2.44007985], [48.820452, 2.46066], [49.010935, 2.129586], [48.838036, 2.08825], [48.698623, 2.372914], [48.60205, 2.47757], [48.47807, 2.19671], [48.849125, 2.052659], [48.83964, 2.710855], [48.48519, 2.66552], [48.58486, 2.45392], [48.97063, 1.88755], [48.778051, 2.213446], [49.030146, 3.010173], [48.93895984, 2.3073606], [48.90837, 2.4509], [48.92190936, 2.36424249], [48.95885089, 2.46459185], [48.80861819, 2.63032097], [48.84536665, 2.49270959], [48.94198406, 2.46801616], [48.6977, 2.39452], [48.647885, 2.367112], [48.850325, 2.347549], [48.852648, 2.333167], [48.880422, 2.37962], [48.875852, 2.262205], [48.73165, 2.31532], [48.833246, 2.331528], [48.741353, 2.320856], [48.834468, 2.332583], [48.93554103, 2.28513973], [48.827691, 2.371388], [48.79374, 2.04095], [48.820926, 2.354944], [48.798488, 2.044172], [48.85949286, 2.3772727], [48.877778, 2.31634], [48.862863, 2.313431], [48.9330032, 2.25090697], [48.863761, 2.354864], [48.83558, 2.130056], [48.853959, 2.473452], [48.746822, 2.407216], [48.73532, 2.40098], [48.95165, 2.38196], [48.88822, 2.46077], [48.86568257, 2.53450874], [48.86971968, 2.47072086], [48.86435, 2.46772], [48.957121, 2.321255], [48.86425759, 2.20113713], [48.82828981, 2.19384822], [48.81954895, 2.2559537], [48.78345681, 2.24662256], [48.619141, 2.493], [48.8803, 2.47535], [49.06749081, 2.21727448], [48.96562366, 2.60764472], [48.82899155, 2.72059197], [48.85115, 2.489818], [48.98519746, 2.36147046], [48.59733, 2.47424], [48.997142, 2.851285], [48.71213, 2.28463], [48.93535855, 2.28516302], [48.798617, 2.003875], [48.9233048, 2.48049511], [48.81948161, 2.40571551], [48.77601929, 2.4276246], [48.81723163, 2.4298979], [48.677174, 2.174054], [48.69416, 2.50763], [48.683998, 2.531786], [48.89550339, 2.30764389], [48.858697, 2.409835], [48.886555, 2.384617], [48.890244, 2.359916], [48.874363, 2.271394], [48.851713, 2.267749], [48.841721, 2.386936], [48.861161, 2.3024], [48.78600688, 2.49520853], [48.79986, 2.3552], [48.769308, 2.422342], [48.750381, 2.417955], [48.948347, 2.378637], [48.83844, 2.54718], [48.91643, 2.45803], [48.929241, 2.35496], [48.9132432, 2.4784772], [48.908428, 2.451436], [48.94009099, 2.43844718], [48.82555721, 2.21633828], [48.88786297, 2.16539249], [48.78834334, 2.25838137], [48.76285299, 2.28262782], [48.84067, 2.066991], [48.62193, 2.42328], [48.95481, 2.45745], [48.91854, 2.35757], [48.93788866, 2.29766722], [48.75524349, 2.50744352], [48.77186057, 2.61192396], [48.860805, 2.414057], [48.84186, 2.363172], [48.881915, 2.283376], [48.88155, 2.299629], [48.858, 2.252686], [48.847872, 2.301227], [48.839833, 2.284827], [48.825339, 2.35106], [48.851307, 2.372323], [48.829542, 2.451093], [48.862624, 2.376493], [48.85949, 2.34355], [48.85613, 2.357108], [48.26488, 2.71067], [48.870053, 2.350976], [48.78077, 2.38279], [48.77755, 2.45562], [48.81587013, 2.32088998], [48.89712837, 2.29542911], [48.89628, 2.24048], [48.78517338, 2.31016785], [48.81688, 2.348326], [48.853161, 2.335939], [48.89891293, 2.38256747], [48.879572, 2.389501], [48.885221, 2.307251], [48.883228, 2.296606], [48.896271, 2.309989], [48.997659, 3.007207], [48.874378, 2.292935], [48.847127, 2.274709], [48.873241, 2.294674], [48.858309, 2.272642], [48.844658, 2.290502], [48.8389511, 2.3267135], [48.829227, 2.317316], [48.824768, 2.325973], [48.839212, 2.35933], [48.843945, 2.373024], [48.82742956, 2.38927567], [48.87630335, 2.3574526], [48.76069661, 2.31909804], [48.74204, 2.46621], [48.72728, 2.30353], [48.808525, 2.362981], [48.63543, 2.53562], [48.79999, 2.41915], [48.713659, 2.276047], [48.92686, 2.40338], [48.94304, 2.58852], [48.92855498, 2.41576754], [48.96011, 2.55306], [48.96346787, 2.26421667], [48.87833813, 2.47687816], [48.90841, 2.33254], [48.94699, 2.36102], [49.04933106, 2.54743338], [48.88709775, 2.47365447], [48.86000221, 2.46566623], [48.95284, 2.41645], [48.96030445, 2.48819189], [48.880986, 2.227081], [48.85007076, 2.20305499], [48.81495877, 2.30411544], [48.78536731, 2.22440913], [48.8236516, 2.27302802], [48.675432, 2.353579], [48.9203562, 2.28424028], [48.9311, 2.04591], [48.92823, 2.00572], [48.85113, 2.049274], [48.562735, 2.48262], [48.838054, 1.941404], [48.900348, 2.322174], [48.83953, 2.25398], [48.827258, 2.390884], [48.900171, 2.377907], [48.840464, 2.413466], [48.864566, 2.407314], [48.885811, 2.37064], [48.877172, 2.392672], [48.884265, 2.333199], [48.881807, 2.31842], [48.86437363, 2.32030928], [48.866371, 2.323478], [48.849435, 2.315155], [48.79896363, 2.34374287], [48.86308673, 2.31938124], [48.67725, 2.33832], [48.863867, 2.349011], [48.80356955, 2.3439041], [48.60931, 2.43977], [48.76932, 2.46429], [48.96535, 1.76062], [48.93762, 2.50018], [48.82756, 2.07838], [48.88181322, 2.45277856], [48.86361761, 2.45428896], [48.83972869, 2.21941899], [48.92393286, 2.41404599], [48.90526811, 2.48128846], [48.93950668, 2.50150457], [48.88308, 2.014595], [48.8852667, 2.22462684], [48.96165, 2.46645], [48.92812889, 2.3579759], [48.731205, 2.304157], [49.03956297, 2.08485961], [49.04066, 2.12779], [49.03406, 2.10337], [49.05402806, 2.20008731], [48.96023, 2.27091], [48.94076741, 2.42507543], [49.07215, 2.22452], [48.77623444, 2.43292233], [48.822587, 2.462849], [48.900402, 2.371506], [48.60273, 2.121096], [48.66866, 2.33816], [48.859033, 2.41411], [48.820562, 2.323112], [48.847876, 2.359454], [48.86046, 2.40061], [48.852707, 2.406124], [48.897331, 2.344857], [48.895848, 2.326736], [48.84151, 2.266541], [48.837227, 2.372886], [48.855299, 2.345877], [48.7563, 2.4723], [48.792449, 2.49156], [48.80767363, 2.37482464], [48.794615, 2.36026], [48.79858, 2.45472], [48.76105, 2.49711], [48.81221, 2.41272], [48.95287, 2.56736], [49.002447, 2.536984], [48.94044961, 2.52798145], [48.90919994, 2.34418633], [48.93222654, 2.37581003], [48.88467318, 2.48342924], [48.86395, 2.43167], [48.85852852, 2.52223114], [48.87867912, 2.27903634], [48.896126, 2.308709], [48.8971962, 2.21984178], [48.870597, 2.272352], [48.82913786, 2.26381445], [48.93210972, 2.29045764], [48.822626, 2.335138], [48.90363071, 2.30564654], [48.90092124, 2.36383688], [48.89999627, 2.30625093], [48.91276, 2.30391], [48.892666, 2.395321], [48.860973, 2.301195], [48.858381, 2.260737], [49.113256, 2.254451], [48.832636, 2.315674], [48.84619, 2.295173], [48.820457, 2.342827], [48.846936, 2.326833], [48.835891, 2.394201], [48.877095, 2.410657], [48.85975, 2.376847], [48.883246, 2.381108], [48.853528, 2.392734], [48.76104, 2.3184], [48.875459, 2.392288], [48.77391, 2.36761], [48.888942, 2.372463], [48.74784, 2.36935], [48.888366, 2.374122], [48.9691, 2.5459], [48.895775, 2.321857], [48.90353013, 2.37448472], [48.91822227, 2.23884881], [48.88164, 2.318833], [48.7819, 2.31639], [48.836454, 2.306633], [48.85381, 2.294214], [48.836234, 2.306449], [48.833514, 2.286588], [48.823512, 2.335696], [48.828791, 2.327753], [48.864186, 2.380237], [48.878464, 2.279935], [48.869858, 2.360729], [48.848076, 2.283573], [48.84500301, 2.31069088], [48.858544, 2.244888], [48.854729, 2.304722], [48.838751, 2.299252], [48.815194, 2.332973], [48.825871, 2.300216], [48.76610491, 2.39929162], [48.862412, 2.301601], [48.803453, 2.537386], [48.838867, 2.361004], [48.81543279, 2.51533645], [48.866542, 2.37303], [48.77632229, 2.51130107], [48.95117, 2.38148], [48.882662, 2.36986041], [48.95564621, 2.31179602], [48.87965, 2.327021], [48.89042, 2.45324], [48.876839, 2.285502], [48.84264706, 2.57234529], [48.832645, 2.331063], [48.92179, 2.38338], [48.860649, 2.295461], [48.86141299, 2.21591234], [48.851364, 2.362306], [48.82917, 2.22411], [48.85332798, 2.35781729], [48.81073, 2.19182], [48.86926, 2.332269], [48.82154506, 2.25050211], [48.854951, 2.353557], [48.92193546, 2.29985207], [48.84847, 2.49625], [48.91114814, 2.25463539], [48.8011, 2.36521], [48.89638, 2.24041], [48.79486, 2.35457], [48.90893398, 2.23657876], [48.81632, 2.34103], [48.89732, 2.31052], [48.815285, 2.375603], [48.82618, 2.25122], [48.8024, 2.3973], [48.91764, 2.28549], [48.756025, 2.373222], [48.7857, 2.44947], [48.74965815, 2.30443999], [48.78854, 2.4846], [48.78087, 2.52083], [48.90452016, 2.33007482], [48.469084, 2.8585], [48.90266606, 2.52281768], [49.028808, 2.500033], [49.1354893, 2.28235602], [48.84883, 2.54539], [48.86272, 2.54584], [48.86484, 2.55466], [48.88193, 2.42268], [48.95678015, 2.29942828], [48.690904, 3.338449], [48.917096, 2.555255], [48.90292, 2.50823], [48.910893, 2.446592], [48.94214412, 2.46776568], [48.951158, 2.496701], [48.86204653, 2.19621509], [48.88272256, 2.18835801], [48.90127253, 2.21027076], [48.8046991, 2.29794431], [48.69065, 2.22247], [48.90444373, 2.23249519], [48.62522, 2.53991], [48.91323745, 2.24060333], [48.88497546, 2.47135463], [48.9164, 2.28956], [48.97106448, 2.24906981], [48.74113115, 2.31485939], [49.02015, 2.10777], [48.98892662, 2.41007209], [48.70408, 2.59469], [48.925111, 1.991921], [48.545336, 2.722936], [49.004008, 1.604329], [48.90088492, 2.36389518], [48.854365, 2.396183], [48.87853, 2.402559], [48.888093, 2.299665], [48.84344, 2.282745], [48.825077, 2.320531], [48.337981, 2.597119], [48.846174, 2.41106], [48.495471, 2.200195], [48.831803, 2.397635], [48.852388, 2.326466], [48.866987, 2.33587], [48.843018, 2.464842], [48.91761978, 2.35722587], [48.874, 2.52978], [48.91772312, 2.43614085], [48.92303184, 2.39509678], [48.93670207, 2.49715703], [48.88759496, 2.17313898], [48.88824233, 2.19409543], [48.80072795, 2.34367155], [48.91014, 2.29925], [48.80048354, 2.34369821], [48.91458, 2.28318], [48.62345, 2.46653], [48.700301, 2.31081], [48.9299473, 2.28339672], [48.6329, 2.5029], [48.83887386, 2.1936047], [48.77129754, 2.34584423], [48.967866, 1.745041], [48.94651571, 2.2827709], [48.75239992, 2.33121177], [48.88656, 2.48053], [48.965148, 1.764426], [48.78050715, 2.4413936], [48.751992, 2.614445], [48.970636, 1.876598], [48.82931384, 2.49951954], [48.96795, 1.857943], [48.98025923, 2.49780178], [48.96358, 2.52152], [48.89542, 2.47057], [48.88128, 2.475], [48.83216, 2.65293], [48.83216525, 2.53266592], [48.6895, 2.4724], [48.56017, 2.64569], [48.79757098, 2.30895549], [48.89029, 2.50982], [48.96311, 2.26024], [48.99046138, 2.29642153], [49.04289, 2.01785], [48.60857, 2.30532], [48.855447, 2.413826], [48.6849, 2.4964], [48.854539, 2.254923], [48.67953, 2.37552], [48.890069, 2.396274], [48.7057, 2.39328], [48.44166, 2.13733], [48.85971, 2.27853], [48.83741933, 2.2899735], [48.819233, 2.358215], [48.83382, 2.41582], [48.877916, 2.351624], [48.873046, 2.370026], [48.866781, 2.322098], [48.7497, 2.4676], [48.89078883, 2.40075157], [48.84607, 2.5588], [48.91249, 2.52245], [48.949102, 2.193659], [48.9004241, 2.55683452], [48.90322188, 2.56028894], [48.95321, 2.88013], [48.90499403, 2.42647358], [48.86144, 2.17059], [48.84162, 2.71905], [48.89512296, 2.22789198], [48.79889061, 2.23311737], [48.8747, 2.72324], [48.91634631, 2.71175388], [49.035958, 1.576808], [48.958398, 2.882363], [48.753548, 2.223305], [48.93391754, 2.27790653], [48.7976, 1.9113], [48.97440712, 2.24318997], [48.99210087, 2.51284602], [49.00512685, 2.1657448], [48.99210087, 2.51284602], [48.96199218, 2.46989183], [48.94156576, 2.42856033], [48.92724936, 2.41911829], [49.0435424, 2.47942176], [48.92672, 2.40249], [49.03385084, 2.11134575], [48.95286423, 2.47371465], [49.05685485, 2.28809664], [48.88182, 2.47348], [48.93701, 2.29203], [48.9660499, 2.25742944], [48.77011469, 2.38223272], [48.8268961, 2.5128995], [48.67223736, 2.6113282], [48.97402, 2.27427], [48.684, 2.377], [48.91144, 2.16158], [48.849723, 2.252205], [48.854745, 2.397522], [48.869283, 2.309185], [48.838896, 2.297633], [48.846549, 2.400308], [49.045241, 2.107638], [48.83768061, 2.42555916], [48.89736, 2.312431], [48.850859, 2.314349], [48.648, 2.375], [48.831344, 2.404078], [48.764515, 2.441914], [48.70859, 2.37135], [48.849763, 2.252406], [48.74255779, 2.42224717], [48.44763, 2.13855], [48.872526, 2.412676], [48.82099318, 2.40117386], [48.873073, 2.413374], [48.943192, 2.352717], [48.853753, 2.412035], [48.88194, 2.4946], [48.853979, 2.405729], [48.816817, 2.344116], [48.909, 2.44967], [48.8382546, 2.18255746], [48.881936, 2.370053], [48.89997891, 2.23986968], [48.86375, 2.354884], [48.77685, 2.32686], [48.89707199, 2.46965129], [48.89364719, 2.24850789], [48.859114, 2.477688], [48.78554097, 2.25397021], [48.79638, 2.45777], [48.7337, 2.31439], [48.80212966, 2.52458324], [48.76111, 2.54905], [49.0453204, 2.12995684], [48.875007, 2.478388], [48.9027, 2.47078], [48.94509048, 2.34213098], [48.93473, 2.42615], [48.89927, 2.5467], [48.89780571, 2.19210997], [48.89936062, 2.22183287], [48.89679592, 2.22939402], [48.82999316, 2.26012874], [48.91452777, 2.22919106], [48.90463, 2.31293], [48.91757422, 2.28579104], [48.91318046, 2.30725855], [48.875218, 2.298486], [48.898663, 2.370398], [48.88212, 2.320452], [48.873256, 2.305635], [48.839918, 2.302513], [48.82780508, 2.30523258], [48.645, 2.19448], [48.82297372, 2.37781852], [48.62556, 2.31474], [48.82799931, 2.39009231], [48.6254, 2.35359], [48.875322, 2.350935], [48.76366514, 2.34209856], [48.857271, 2.357366], [48.738841, 2.319588], [48.83497651, 2.41978884], [48.76819604, 2.44083522], [48.73253, 2.31578], [48.74919633, 2.3570081], [48.816787, 2.348635], [48.765605, 2.396555], [48.81531, 2.06172], [48.89346, 2.41122], [48.839853, 2.116323], [48.8924951, 2.18633917], [48.86144979, 2.4561055], [48.97486, 2.30447], [48.91454622, 2.21938482], [48.905706, 2.477485], [48.81327, 2.29043], [48.781684, 2.16636], [48.853315, 2.21588], [48.94718707, 2.25654781], [48.90491893, 2.35845923], [48.87911188, 2.44890332], [48.88433191, 2.27819699], [48.822587, 2.462849], [48.89097, 2.239534], [48.7580093, 2.47075818], [48.91716959, 2.3195824], [48.83097823, 2.63889488], [48.92329314, 2.27599946], [49.144487, 2.294853], [49.142121, 2.288296], [48.63126055, 2.62880408], [48.724537, 2.082902], [48.725188, 2.04887], [48.78627, 1.97966], [48.9595, 2.89416], [48.434, 2.17087], [48.852207, 2.932169], [48.504441, 2.79243], [49.01884249, 2.35046536], [48.994764, 1.870753], [48.55535, 2.6723], [48.87373, 2.80977], [48.63126, 2.51817], [48.71199, 2.30795], [48.6497, 2.3846], [48.76108, 2.22643], [48.87336976, 2.15727103], [48.92648671, 2.40257539], [48.71372, 2.17735], [49.05282, 2.177688], [48.625, 2.337], [48.76302008, 2.49548877], [48.662708, 2.36787], [48.77338115, 2.40113955], [48.970426, 1.905235], [48.83397544, 2.16646875], [48.898624, 2.393336], [48.839708, 2.356608], [48.87404, 2.408106], [48.891106, 2.318], [48.890257, 2.304589], [48.832807, 2.383194], [48.79363, 2.46094], [48.728238, 2.433885], [48.98408407, 2.52582559], [48.88985, 2.51546], [48.910322, 2.509781], [48.82017, 2.24264], [48.992558, 2.386741], [48.9835, 2.4692], [48.96617417, 2.30073452], [48.95928, 2.32897], [48.704099, 2.433695], [48.71343, 2.44862], [48.674881, 2.352419], [48.70598, 2.3873], [48.71495, 2.39821], [48.4034, 2.12222], [48.900348, 2.322174], [48.943606, 3.122226], [48.982907, 1.532013], [48.81629, 2.345777], [48.894322, 2.345388], [48.88277489, 2.31018484], [48.88299, 2.32414], [48.843771, 2.306539], [48.846672, 2.30623], [48.69002, 1.85111], [48.819655, 2.341933], [48.840873, 2.325487], [48.833328, 2.336182], [48.823012, 2.366382], [48.96222, 1.77251], [48.81995035, 2.36411512], [48.835026, 2.401305], [48.770088, 1.946037], [48.7427, 2.1882], [48.849117, 2.39466], [48.86668433, 2.32204825], [48.85826, 2.29212], [48.871491, 2.343082], [48.868184, 2.360097], [48.731068, 2.44671], [48.75481, 2.38277], [48.75801, 2.36981], [48.769232, 2.337172], [48.76062916, 2.47959035], [48.770153, 2.46135], [48.935012, 2.340994], [48.918169, 2.357798], [48.84439, 2.57642], [48.93541, 2.57281], [48.86825, 2.41876], [48.871652, 2.418319], [48.8827, 2.535], [48.953474, 2.319603], [48.950487, 2.442849], [48.917092, 2.392951], [48.93549662, 2.33296216], [48.84350084, 2.20264994], [48.88936, 2.27296], [48.8951056, 2.29501963], [48.90067, 2.28453], [48.89661, 2.28707], [48.90926406, 2.30701223], [48.80510665, 2.25922376], [48.80954376, 2.27194011], [48.84523278, 2.23717734], [49.1192404, 2.23101988], [49.15776679, 2.28833869], [48.75264, 2.943708], [48.82237136, 2.90315068], [48.72736, 2.16585], [48.75138018, 2.32947546], [48.68624, 2.21258], [48.8382291, 2.19103797], [48.837495, 2.125009], [48.89101935, 2.23950963], [48.981172, 2.223851], [48.95528809, 2.27796417], [48.866942, 2.41322], [48.900623, 2.387504], [48.881438, 2.402473], [48.839637, 2.254165], [48.854607, 2.342516], [48.871799, 2.389332], [48.86790651, 2.38475534], [48.887135, 2.384671], [48.897799, 2.347237], [48.85128, 2.278359], [48.872685, 2.284589], [48.830947, 2.312247], [48.83571, 2.386078], [48.84211, 2.449116], [48.865499, 2.313846], [48.86775719, 2.31395817], [48.859126, 2.47648], [48.74859, 2.41214], [48.81094553, 2.51976264], [48.939527, 2.339467], [48.85301702, 2.42167679], [48.9166, 2.44445], [48.95344, 2.49132], [48.87942086, 2.17943609], [48.77223964, 2.31237173], [49.097472, 2.293643], [48.69567, 2.31808], [48.683846, 2.328477], [48.61647, 2.45566], [48.83598254, 2.18217218], [48.7911923, 2.2202633], [48.789171, 2.129723], [48.96359, 2.26399], [48.90892746, 2.44905923], [48.90785, 2.3584], [49.06814, 2.39187], [49.03336637, 2.54209042], [49.018009, 2.14144], [48.83345767, 2.59320237], [48.83284555, 2.53382868], [48.83507994, 2.57743834], [48.82934939, 2.52849537], [48.75008681, 2.51503631], [48.7756511, 2.41314483], [49.034909, 2.110682], [48.6312, 2.32857], [48.646782, 2.274368], [48.6844, 2.1996], [48.875901, 2.104134], [49.006722, 2.12104], [48.52919, 2.54666], [48.56845, 2.71652], [48.57856, 2.59475], [48.37286, 2.64353], [48.607383, 3.378457], [48.624035, 2.37459], [48.63144, 2.49509], [48.769387, 2.34486209], [48.64262, 2.39194], [49.02835153, 2.53798332], [48.92247728, 2.35626225], [49.04675736, 2.18432665], [48.94503017, 2.47686505], [48.628, 2.482], [48.97474071, 2.48863265], [49.08815, 2.55096], [48.90477, 2.35847], [48.753896, 2.353524], [48.82545834, 2.39268336], [48.77630937, 2.43517187], [49.02831568, 2.46591568], [48.71988, 2.22504], [48.68634, 2.42156], [48.69838, 2.38203], [48.43267, 2.16837], [48.94025, 2.16704], [48.89524, 2.08071], [48.996891, 1.913174], [49.05985417, 2.01397419], [48.997295, 1.908843], [49.01582, 1.91042], [48.742702, 2.331009], [48.9786, 2.082], [48.78058946, 2.60025498], [48.68436, 2.48875], [48.78997, 2.65518], [48.8771, 2.79832], [48.87189, 2.73687], [48.83473, 2.7087], [48.8621, 2.72242], [48.886423, 2.289297], [48.851923, 2.349172], [48.888312, 2.38628], [48.877192, 2.406547], [48.89112, 2.377568], [48.893011, 2.327454], [48.87777813, 2.27937412], [48.878363, 2.279796], [48.865687, 2.245546], [48.836174, 2.323471], [48.82703, 2.324971], [48.844476, 2.368136], [48.85149, 2.369252], [48.878633, 2.334574], [48.883875, 2.328582], [48.882148, 2.333729], [48.878338, 2.326973], [48.860106, 2.367457], [48.862923, 2.350697], [48.770824, 2.401187], [48.88343, 2.399739], [48.734209, 2.519676], [48.95674, 2.54277], [48.900359, 2.376642], [48.93246689, 2.40825648], [48.877786, 2.331898], [48.82867183, 2.23006904], [48.866593, 2.383559], [48.862633, 2.230855], [48.859554, 2.275202], [48.83265944, 2.3310703], [48.836806, 2.351853], [48.864608, 2.378038], [48.871725, 2.367896], [48.861049, 2.313238], [48.855851, 2.350816], [48.793006, 2.394022], [48.80685, 2.43497], [48.793487, 2.434428], [48.9596, 2.38215], [48.92888332, 2.51926106], [48.936449, 2.356065], [48.91815955, 2.52179459], [48.91036, 2.378963], [48.86414, 2.20821], [48.83723, 2.15145], [48.88597563, 2.2610499], [48.91997, 2.31455], [48.89768311, 2.23824763], [48.90212166, 2.30705649], [48.90138105, 2.30768278], [48.91555047, 2.2653649], [48.74863, 2.32774], [48.82499763, 2.221007], [48.98244, 1.686974], [48.83335317, 2.16131084], [48.95204423, 2.27986403], [48.83683, 2.66519], [48.900488, 2.322065], [48.846575, 2.254875], [48.841434, 2.254139], [48.882484, 2.370418], [48.894455, 2.313438], [48.868378, 2.282312], [48.847944, 2.25734], [48.835982, 2.278286], [48.834042, 2.296968], [48.825482, 2.300273], [48.84235, 2.37107], [48.854075, 2.382672], [48.864789, 2.401322], [48.856375, 2.37678], [48.878248, 2.354339], [48.883862, 2.328563], [48.75270488, 2.48581016], [48.779063, 2.199744], [48.93542176, 2.2605831], [49.05653, 2.20573], [48.79788, 2.49603], [48.81503, 2.41835], [48.91661, 2.44463], [48.963953, 2.411935], [48.69466, 2.35899], [48.65112, 2.36821], [48.64133, 2.4202], [48.42811, 2.1709], [48.985935, 1.912918], [48.859584, 2.794584], [48.881918, 2.697164], [48.837961, 2.752948], [48.873, 2.59], [48.84341, 2.720013], [48.2671, 2.6929], [48.2823, 2.73576], [48.856005, 2.857218], [49.02961709, 2.55884618], [49.050201, 2.502139], [48.902442, 1.888479], [48.97754, 2.46241], [48.75843686, 2.3477169], [48.83850309, 2.19236003], [48.97649655, 2.23542974], [48.68492, 2.1798], [48.83487165, 2.58137503], [48.69057, 2.5255], [48.71320577, 2.37127125], [48.817416, 2.354674], [48.839637, 2.254165], [48.900503, 2.384818], [49.004766, 1.910231], [48.849937, 2.343626], [48.8481802, 2.25269079], [48.885945, 2.382193], [48.962786, 1.836956], [48.893607, 2.336333], [48.839256, 2.291934], [48.875548, 2.701622], [48.838316, 2.339351], [48.787284, 3.134132], [48.821287, 2.368212], [48.868117, 2.372454], [48.869356, 2.354295], [48.875829, 2.300286], [48.875051, 2.306108], [48.860371, 2.326719], [48.862485, 2.363334], [48.894393, 2.305535], [48.796571, 2.409287], [48.813858, 2.421412], [48.81099, 2.38357], [48.77471, 2.33967], [48.85250184, 2.49063697], [48.77331, 2.40947], [48.81242, 2.46745], [48.82198161, 2.49099956], [48.936066, 2.365095], [48.89595, 2.52703], [48.9058062, 2.39467182], [48.87707876, 2.24117607], [48.88913766, 2.45488322], [48.858121, 2.414325], [49.02155, 2.16081], [48.86976, 2.55346], [48.895158, 2.30641], [48.87783829, 2.27973282], [48.872676, 2.453368], [48.864274, 2.413499], [48.92808, 2.45591], [48.84399098, 2.27733761], [48.81190998, 2.29460174], [48.41387, 2.71515], [48.825565, 2.315317], [48.82148725, 2.28766716], [48.854698, 2.385376], [48.88347, 2.24884], [48.875262, 2.332292], [48.86231386, 2.33104616], [48.79536411, 2.27440345], [48.801067, 2.509454], [48.7836, 2.34584], [48.82525349, 2.26781219], [48.82649769, 2.23967546], [48.81152, 2.38424], [48.93868, 2.48895], [49.12320117, 2.25300193], [48.8776, 2.47569], [48.897701, 2.506978], [49.09878715, 2.26471599], [48.92964, 2.54802], [49.149114, 2.288758], [48.88249967, 2.26735014], [48.817614, 2.367469], [48.89012397, 2.24946678], [48.889591, 2.297417], [48.91731764, 2.26205975], [48.849145, 2.41514], [48.7834212, 2.26923868], [48.81803, 2.352164], [48.83712765, 2.24461654], [48.86488886, 2.41294205], [48.75846432, 2.30699533], [48.6226, 2.371379], [48.830807, 2.403154], [48.851888, 2.334555], [48.858565, 2.244878], [48.867787, 2.39621], [48.862385, 2.372509], [48.872823, 2.354427], [48.873316, 2.324305], [48.860581, 2.349357], [48.866438, 2.323538], [48.859858, 2.352755], [48.79248899, 2.51540156], [48.742688, 2.422136], [48.919681, 2.361697], [48.91538, 2.36529], [48.86728, 2.45693], [48.93697, 2.45441], [48.92245638, 2.38359198], [48.92505, 2.32975], [48.75670165, 2.27611586], [48.75611, 2.28331], [48.826376, 2.297013], [48.828471, 2.397418], [48.834256, 2.275894], [48.837816, 2.412726], [48.82146, 2.319226], [48.884012, 2.303803], [48.838675, 2.253957], [48.946948, 1.94746], [48.82774854, 2.22492176], [48.82266, 2.37284], [48.82476, 2.074568], [48.83866217, 2.37575054], [49.062509, 2.187602], [48.897746, 2.329047], [48.9230794, 2.62986948], [48.873114, 2.297068], [48.447081, 2.902279], [48.75020241, 2.433945], [48.80237, 2.492], [48.77426976, 2.438788], [48.9575, 2.5453], [48.94849519, 2.38628943], [48.94679586, 2.37080455], [48.895, 2.5137], [48.90108162, 2.41223415], [48.525704, 1.831327], [48.88441, 2.53628], [48.94031, 2.44457], [48.82846, 2.22447], [48.965946, 2.408771], [48.88148, 2.24645], [48.988555, 2.421767], [48.90662, 2.21514], [49.052871, 2.501326], [49.05551629, 2.04999626], [48.89251, 2.27951], [48.963105, 2.201084], [48.90975196, 2.23532349], [48.68046, 2.42708], [48.87401379, 2.27537155], [48.847999, 2.371421], [48.85433, 2.410434], [48.868744, 2.705742], [48.878026, 2.370696], [48.88173, 2.317946], [48.867872, 2.250986], [48.845354, 2.257555], [48.828115, 2.384862], [48.855654, 2.383753], [48.859494, 2.36766], [48.87273772, 2.29829103], [48.871022, 2.300897], [48.856949, 2.353841], [48.64528, 2.53463], [48.80243, 2.48727], [48.56809, 2.47183], [48.76822, 2.36816], [48.79205878, 2.34458465], [48.8563, 2.49208], [48.81171215, 2.5105387], [48.621, 2.463], [48.79967, 2.42597], [48.62403, 2.37449], [49.01215424, 2.57790506], [48.88297654, 2.47995219], [48.62736, 2.41387], [48.89247558, 2.51920179], [48.965592, 1.751228], [48.89218578, 2.51818389], [48.96283, 2.52221], [48.876164, 2.419869], [48.91563, 2.35768], [48.95128, 2.32294], [49.03911284, 2.0860076], [48.92623, 2.39671], [48.9861, 2.50631], [48.9200729, 2.38284498], [48.9351, 2.32847], [48.91676699, 2.47800698], [48.81303356, 2.2794874], [48.93327, 2.37606], [48.81976, 2.31047], [48.88345, 2.24891], [48.820749, 2.280513], [48.93774913, 2.2782281], [48.90629309, 2.24867553], [48.90277, 2.24809], [48.914547, 2.228843], [48.89794, 2.30788], [48.77857752, 2.26008564], [48.857296, 2.273051], [48.870571, 2.408986], [48.85555, 2.409745], [48.99315, 2.24678], [48.885485, 2.308066], [48.99529, 2.20015], [48.867648, 2.25089], [48.843865, 2.256883], [48.69187, 2.15935], [48.836843, 2.302729], [48.67686, 2.34987], [48.845068, 2.319918], [48.6547, 2.38883], [48.8280205, 2.32694775], [48.82056, 2.324215], [48.830748, 2.325702], [48.83947894, 2.32103616], [48.83866688, 2.3757425], [48.864632, 2.334908], [48.868986, 2.355576], [48.78366, 2.39025], [48.90302, 2.47125], [48.533107, 2.001448], [48.89893, 2.0732], [48.730857, 2.457938], [48.793131, 2.515658], [48.838058, 2.48429], [48.996849, 1.913134], [48.94805022, 2.44448841], [48.75379, 2.35656], [48.996338, 1.907954], [48.81938225, 2.53955975], [48.79925, 2.63866], [48.82392287, 2.39473975], [48.88323576, 2.5282985], [48.94699, 2.34516], [48.90573811, 2.48031646], [48.8937129, 2.47929722], [48.89030368, 2.26473123], [48.82011, 2.26121], [48.89529, 2.24661], [48.83842337, 2.23218262], [48.78216297, 2.34689144], [48.96985, 2.82971], [48.607475, 2.582122], [48.83939388, 2.21898131], [48.86338, 2.67534], [48.96161914, 2.25928366], [48.26829, 2.68615], [49.00983419, 2.15635796], [48.997334, 1.910889], [48.92995, 2.03766], [48.6184, 2.54029], [48.85188094, 2.77814941], [48.873081, 2.276727], [48.864813, 2.408939], [48.885084, 2.383773], [48.898088, 2.344367], [48.889734, 2.34964], [48.85339, 2.345613], [48.839482, 2.337601], [48.858357, 2.414626], [48.876355, 2.393124], [48.890411, 2.326602], [48.874392, 2.28285], [48.84581498, 2.30955362], [48.835141, 2.305568], [48.832526, 2.297625], [48.844427, 2.317692], [48.851302, 2.376134], [48.855151, 2.370335], [48.869709, 2.343895], [48.864115, 2.3501326], [48.80086, 2.43441], [48.79606, 2.36836], [48.78461, 2.43675], [48.7669, 2.403992], [48.82025634, 2.40385804], [48.94192, 2.57364], [48.83513, 2.411619], [48.8705985, 2.55476117], [48.85993, 2.413982], [48.91624, 2.38164], [48.88010644, 2.18108252], [48.853756, 2.34429], [48.90255816, 2.27459908], [48.83682443, 2.25365326], [48.827094, 2.292701], [48.92566338, 2.24716265], [48.838547, 2.311505], [48.90722905, 2.26466328], [48.82878642, 2.32774615], [48.90656, 2.29078], [48.8307816, 2.32941172], [48.827847, 2.326656], [48.8383, 2.332], [48.82287547, 2.35298002], [48.843483, 2.370693], [48.8221, 2.442], [48.857433, 2.379698], [48.871418, 2.307311], [48.87616175, 2.31948289], [48.87775285, 2.31557143], [48.861902, 2.302038], [48.855942, 2.357966], [48.84325, 2.5034], [48.814722, 2.360909], [48.773931, 2.351866], [48.78009, 2.46553], [48.78407, 2.45417], [48.81484, 2.5244], [48.91245546, 2.33561654], [48.86233, 2.44393], [48.8745, 2.55199], [48.88851638, 2.54741594], [48.87615, 2.54971], [48.88277683, 2.53501915], [48.96009338, 2.30375737], [48.90159942, 2.476047], [48.82611, 2.21852], [48.87164509, 2.20105451], [48.89707394, 2.22414047], [48.91976, 2.32245], [48.93381, 2.25559], [48.91262, 2.31236], [48.74876, 2.21678], [48.75628517, 2.33422052], [48.77350191, 2.34614102], [49.076512, 2.204819], [48.60915, 2.4397], [48.91182, 2.35786], [48.80856288, 2.44905786], [48.290375, 2.682118], [48.83212511, 2.65067079], [48.290018, 2.682998], [48.877729, 2.145711], [48.967085, 2.284387], [48.70306, 2.45413], [48.713018, 2.350722], [48.8459, 2.62015], [48.83727, 2.74003], [48.80782, 3.08342], [48.900334, 2.380785], [48.874745, 2.410543], [48.71895, 2.29896], [48.829202, 2.390256], [48.85428168, 2.48956832], [48.853042, 2.342947], [48.83623318, 2.55184364], [48.852441, 2.406129], [48.81577215, 2.45029735], [48.888376, 2.374136], [48.75511212, 2.38274011], [48.860647, 2.240629], [48.83504713, 2.5747177], [48.838539, 2.252225], [48.77637562, 2.42140187], [48.838194, 2.258221], [48.83020089, 2.495767], [48.830364, 2.293993], [48.842647, 2.30269], [48.825871, 2.38482], [48.867661, 2.377289], [48.875497, 2.324025], [48.859579, 2.329523], [48.867776, 2.343795], [48.78257, 2.38085], [48.800541, 2.352466], [48.81396, 2.3386], [48.767721, 2.385459], [48.77768, 2.4577], [48.77635, 2.46807], [48.76805374, 2.48753214], [49.03001571, 2.4646765], [48.77548, 2.54829], [48.8174063, 2.52723768], [48.70414, 2.37168], [48.800098, 2.427085], [48.716083, 2.370803], [48.68333, 2.38333], [48.95549, 2.539], [48.946047, 2.366971], [48.84281, 2.54074], [48.83926, 2.55552], [48.870835, 2.463173], [48.953404, 2.336274], [48.899306, 2.557853], [48.89902766, 2.49126792], [48.90535, 2.42093], [48.923556, 2.500025], [48.82208391, 2.29402435], [48.84774376, 2.20777273], [48.88358389, 2.24362671], [48.80929481, 2.28535652], [48.82711437, 2.26761818], [48.84605598, 2.2441349], [48.80583276, 2.3245765], [48.92397568, 2.28216666], [48.851814, 2.415215], [48.890886, 2.299416], [48.85857876, 2.26113439], [48.848805, 2.355332], [48.824279, 2.321087], [48.819798, 2.325758], [48.829657, 2.348308], [48.870096, 2.395759], [48.83424, 2.381181], [48.871269, 2.344332], [48.861225, 2.358205], [48.867344, 2.363361], [48.852004, 2.361146], [48.79841, 2.47411], [48.79456, 2.35986], [48.791602, 2.461996], [48.76553334, 2.52504498], [48.9414, 2.57132], [48.86756, 2.53291], [48.95106, 2.32743], [48.91883152, 2.4048569], [48.93560824, 2.33471132], [48.90039828, 2.26074815], [48.521238, 2.504239], [48.71746, 2.2685], [48.71117, 2.29734], [48.66798, 2.3545], [48.71286, 2.28686], [48.82706, 2.07714], [48.97778, 2.49359], [48.95848, 2.2743], [48.686706, 2.597239], [48.83416652, 2.53591477], [48.93292, 2.23244], [48.70736, 2.50108], [48.7299, 2.31441], [48.81455092, 2.35560776], [48.841324, 2.102097], [48.887698, 2.011411], [48.836445, 2.089358], [48.91273457, 2.43680722], [48.92333, 2.38295], [48.93724465, 2.29915559], [48.79644473, 2.44316089], [49.021956, 2.113202], [48.63354, 2.34367], [48.7152, 2.29882], [48.704, 2.487], [48.769648, 2.636644], [48.72191053, 2.65263855], [48.53511, 2.65722], [48.839951, 2.710799], [48.83117, 2.70671], [48.81349, 2.37175], [48.80731, 2.35436], [48.848022, 2.490193], [48.81784, 2.41809], [48.805625, 2.384431], [48.87836, 2.44541], [48.91791138, 2.3791253], [48.81773392, 2.23063588], [48.923076, 2.25632], [48.90000576, 2.31778935], [48.47487, 1.85508], [48.71142, 2.30752], [48.74007, 2.22499], [48.804503, 2.049861], [48.965856, 1.850768], [48.89482877, 2.22905785], [48.8591, 2.05016], [48.97353, 2.2458], [48.92458528, 2.38937632], [48.93230265, 2.48082971], [48.92354496, 2.38317132], [48.92375, 2.48068], [48.92786049, 2.40957519], [48.81292733, 2.44895577], [48.78275411, 2.44084607], [48.942616, 2.628501], [48.81733586, 2.43366427], [48.597636, 2.63483], [48.86122426, 2.48410075], [48.77183853, 2.39424537], [48.692582, 2.444902], [48.9059, 2.14877], [48.47383, 2.69281], [48.885845, 2.341514], [48.856858, 2.341155], [48.897784, 2.393798], [48.85132, 2.34041], [48.8827, 2.283359], [48.837701, 2.345498], [48.83687, 2.412401], [48.853986, 2.405714], [48.889237, 2.296154], [48.816707, 2.365107], [48.877099, 2.4069], [48.897799, 2.333485], [48.889876, 2.396631], [48.843601, 2.295735], [48.88878, 2.34658], [48.883653, 2.396988], [48.878079, 2.281028], [48.85428, 2.343166], [48.835158, 2.258875], [48.859145, 2.402116], [48.846964, 2.294353], [48.869521, 2.393168], [48.881848, 2.388394], [48.842311, 2.363531], [48.89858, 2.386477], [48.864589, 2.378039], [48.900815, 2.339917], [48.873188, 2.358843], [48.893639, 2.336364], [48.878052, 2.32261], [48.885258, 2.294799], [48.880781, 2.285195], [48.851699, 2.364347], [48.897637, 2.324125], [48.794713, 2.334971], [48.76774028, 2.46957227], [48.872537, 2.264465], [48.76687998, 2.41438293], [48.871134, 2.288856], [48.7251276, 2.41859615], [48.908481, 2.328294], [48.83223577, 2.37977386], [48.93519, 2.37235], [48.862425, 2.301611], [48.9479, 2.3384], [48.847971, 2.371474], [48.8791871, 2.47837454], [48.843046, 2.401248], [48.88954, 2.47068], [48.8589, 2.46347], [48.850472, 2.384451], [48.92206272, 2.45591669], [48.91548485, 2.40472162], [48.935251, 2.329825], [48.82197718, 2.30391361], [48.875815, 2.343691], [48.86264, 2.22581], [48.880536, 2.253936], [48.88235, 2.33697], [48.883207, 2.274545], [48.871478, 2.343072], [48.89633516, 2.27315658], [48.87136, 2.347895], [48.890801, 2.21583456], [48.875432, 2.296239], [48.81992715, 2.24270511], [48.878389, 2.315551], [48.862278, 2.301955], [48.88644839, 2.28515893], [48.851728, 2.324376], [48.93583, 2.27975], [48.868966, 2.352223], [48.90571, 2.25354], [48.851913, 2.36135], [48.8302, 2.23891], [48.797655, 2.303271], [48.862005, 2.364664], [48.865457, 2.356131], [48.84609059, 2.42102703], [48.73107, 2.44681], [48.73309382, 2.4468905], [48.76643, 2.38648], [48.7543, 2.3748], [48.761953, 2.352413], [48.75397, 2.31279], [48.76843833, 2.46581966], [48.82408, 2.41995], [48.8223, 2.49799], [48.738162, 2.516969], [48.81421, 2.41136], [48.80188, 2.42614], [48.95069174, 2.35781665], [48.94652, 2.38646], [48.94020282, 2.35658692], [48.94695825, 2.3259841], [49.06835027, 2.39100677], [48.94508285, 2.37383936], [48.82050762, 2.40183223], [48.85527774, 2.51329088], [48.615458, 2.63137], [48.668668, 2.612379], [48.807992, 2.63001], [48.87201758, 2.55378582], [48.9493883, 2.3312141], [48.92098071, 2.38313559], [48.82743209, 2.25267202], [48.90524, 2.54159], [48.90305848, 2.5622279], [48.91082314, 2.5146058], [48.85173487, 2.22021103], [48.90543, 2.24437], [48.97265, 2.40063], [48.93087734, 2.25521484], [48.97616, 2.39449], [48.69682, 2.30652], [48.76545844, 2.25978434], [48.71505, 2.37346], [48.83704266, 2.23644091], [48.91387145, 2.27363527], [48.95835, 2.32952], [48.91387, 2.28347], [48.992079, 1.908364], [48.75072737, 2.30452532], [48.71369, 2.37116], [48.991448, 2.090325], [48.62881, 2.42402], [48.269404, 2.685777], [48.724795, 1.988171], [48.73903, 2.31841], [48.74682, 2.32643], [48.96162, 2.54503], [49.06726802, 2.3781064], [48.830814, 2.693132], [49.03093, 2.45967], [48.64999, 2.33183], [48.869887, 2.27151], [48.85993, 2.413982], [48.895031, 2.306589], [48.864586, 2.412423], [48.897734, 2.329014], [48.868835, 2.291445], [48.88835, 2.349611], [48.87840982, 2.29840636], [48.851375, 2.343202], [48.97076, 1.919562], [48.839986, 2.290357], [48.852488, 2.404887], [48.852594, 2.286168], [48.58683, 2.60275], [48.864739, 2.403178], [48.819827, 3.014833], [48.823042, 2.325488], [48.889595, 2.355907], [48.82806877, 2.3848325], [48.850309, 2.382764], [48.846756, 2.381771], [48.841114, 2.389032], [48.87398549, 2.29727983], [48.85545165, 2.37047732], [48.81413, 2.36109], [48.807737, 2.357248], [48.88062, 2.36203], [48.81663419, 2.39525422], [48.849507, 2.365649], [48.94666, 2.56358], [48.87623, 2.334779], [48.89851895, 2.47305907], [48.866782, 2.322097], [48.888352, 2.349584], [48.85668, 2.34835], [48.92775, 2.3916], [48.884916, 2.297937], [48.856868, 2.341219], [48.83483721, 2.14630097], [48.80988962, 2.38508427], [48.87867, 2.280067], [48.80875623, 2.24462762], [48.81804864, 2.37390661], [48.851171, 2.300936], [48.81727, 2.37598], [48.89527, 2.29493], [48.820212, 2.33868], [48.73595, 2.55003], [48.919528, 2.237271], [48.854812, 2.368732], [48.940474, 2.357519], [48.796279, 2.32175], [48.876251, 2.3342], [48.91655249, 2.53152788], [48.862828, 2.313466], [48.93515774, 2.57052451], [48.855355, 2.359587], [48.88048833, 2.4083671], [48.92931, 2.39659], [48.823637, 2.382249], [48.802594, 2.51158], [48.82422, 2.21254], [48.860823, 2.413832], [48.831345, 2.516776], [48.860277, 2.263373], [48.82438427, 2.21300751], [48.841765, 2.22165], [48.79638, 2.34324], [48.837436, 2.401459], [48.888767, 2.393119], [48.81114354, 2.40093452], [48.88592, 2.21605], [48.90011617, 2.38835156], [48.757671, 2.316494], [48.90953, 2.21731], [48.852785, 2.298339], [48.867741, 2.506459], [48.87180975, 2.37627357], [48.923357, 2.3213], [48.859253, 2.36759], [48.85032, 2.23773], [48.918154, 2.521715], [48.78730638, 2.3864952], [48.75131, 2.46481], [48.88482, 2.43101], [48.852479, 2.511482], [48.947206, 2.342627], [48.77659, 2.35916], [48.77291, 2.43448], [48.80231734, 2.29678622], [48.731395, 2.415223], [48.95288, 2.58949], [48.90225, 2.2395], [48.95671, 2.56155], [48.90685, 2.23885], [48.95818, 2.55833], [48.77924, 2.22848], [48.93753107, 2.374219], [48.84051143, 2.23961806], [48.86187, 2.43712], [48.87425, 2.42804], [48.90646, 2.58785], [48.90687227, 2.48703539], [48.8957, 2.42623], [48.9062376, 2.3947674], [49.047861, 1.828982], [48.75720178, 2.32940447], [48.6561, 2.37817], [48.59904, 2.44031], [48.83351336, 2.16261282], [48.79854, 2.00022], [48.95186906, 2.27956653], [49.02528, 2.53638], [49.00317183, 2.52470434], [48.558247, 3.147497], [48.96440785, 2.26199961], [49.03178837, 2.11674035], [48.9344735, 2.39765242], [48.9496723, 2.2802208], [48.77669983, 2.41635026], [48.70263, 2.60145], [48.81694401, 2.45457186], [48.974169, 2.305574], [48.67817, 2.5271], [48.7908173, 2.34457243], [48.679656, 2.162839], [48.6373, 2.3993], [48.61138, 2.46126], [48.62977, 2.45162], [48.74849, 2.3267], [48.85383105, 2.77364032], [48.62484, 2.42687], [48.40061, 2.70741], [48.93576409, 2.28722247], [48.64557, 2.40432], [48.84122, 2.093842], [48.87593751, 2.66912639], [48.664252, 2.277724], [48.65809, 2.4118], [48.75979435, 2.32184781], [48.602084, 2.067978], [48.66806, 2.35617], [48.79696969, 2.34384666], [48.93370714, 2.2742219], [48.9864, 2.21139], [48.97287, 2.48507], [48.94598218, 2.47643491], [48.717286, 2.599318], [48.965351, 2.608798], [48.97664, 2.4302], [48.74585, 2.22035], [48.62661, 2.41537], [48.69836, 2.50486], [48.70219, 2.3081], [48.71702, 2.37083], [49.01546, 2.14514], [48.4373, 2.16312], [48.94647077, 2.28241919], [49.03091888, 2.12129607], [48.818121, 2.456369], [48.75738975, 2.47653199], [48.819242, 2.458531], [48.927511, 2.025446], [48.81713893, 2.44226193], [48.7766716, 2.41970908], [48.87949912, 2.27714643], [48.900758, 2.337189], [48.862608, 2.413553], [48.838654, 2.357837], [48.890509, 2.383128], [48.898859, 2.378122], [48.898699, 2.359358], [49.00754477, 2.40146756], [48.887075, 2.347543], [48.985616, 2.423], [48.8927777, 2.301732], [48.66719, 2.31314], [48.872972, 2.293131], [48.7121, 2.38], [48.829227, 2.298068], [48.851724, 2.284339], [48.71298, 2.36487], [48.6078, 2.47087], [48.831198, 2.354354], [48.879372, 2.331427], [48.871482, 2.34308], [48.45767, 2.17679], [48.855235, 2.294549], [48.864391, 2.344157], [48.863943, 2.335199], [48.78158, 2.37255], [48.80688, 2.37502], [48.77587, 2.44037], [48.94976, 2.38599], [48.91670273, 2.32610534], [48.89019, 2.45311], [48.84782, 2.5765], [48.88713, 2.51677], [48.80681, 2.18552], [48.8882789, 2.19340235], [48.91741984, 2.30752273], [48.77218, 2.31231], [48.7882564, 2.29340851], [48.79622, 2.32187], [48.90489, 2.28774], [48.978708, 2.013502], [48.87384, 2.63792], [48.916357, 2.875212], [48.866672, 2.32202], [48.845231, 2.325217], [48.868309, 2.388191], [48.895305, 2.372052], [48.900697, 2.344205], [48.847416, 2.273731], [48.840469, 2.290751], [48.848528, 2.282858], [48.824224, 2.336078], [48.828136, 2.352779], [48.944066, 3.128899], [48.840267, 2.380588], [49.0018889, 1.6076846], [48.811, 2.452], [48.74171742, 2.3560566], [48.772965, 2.444783], [48.74168, 2.42935], [48.81630826, 2.53857534], [48.90276, 2.39282], [48.934178, 2.562202], [48.950489, 2.495734], [48.8182168, 2.30856478], [48.80831322, 2.34031176], [48.90685, 2.21226], [48.62486, 2.36368], [48.90080852, 2.22457767], [48.75993977, 2.27329095], [48.88658872, 2.28413254], [48.83936013, 2.21689418], [48.90067, 2.28398], [48.808429, 2.053935], [48.88749184, 2.25218368], [48.82463897, 2.26782471], [48.83956984, 2.2130155], [48.89876053, 2.26241648], [48.96878607, 2.48061025], [48.9142663, 2.22913519], [48.98829419, 2.20429427], [48.76275368, 2.27988929], [48.92155225, 2.36732304], [48.83531166, 2.24256098], [48.83465518, 2.24294454], [48.78860335, 2.30452806], [48.90973386, 2.2928457], [48.78220264, 2.3164916], [49.13593271, 2.2548312], [48.43969, 2.69042], [48.81106, 3.0778], [49.07060465, 2.17168808], [48.76021232, 2.33864852], [48.71658, 2.2634], [48.90030972, 2.20819115], [48.787167, 2.148295], [48.83151, 2.14454], [48.83831683, 2.19175147], [48.92755851, 2.23725934], [49.00223641, 2.52363934], [48.92272104, 2.34559178], [48.84027522, 2.49328165], [48.79777024, 2.62301428], [49.01084, 2.04671], [48.63513, 2.321], [48.71023, 2.29771], [48.69694, 2.43595], [48.44078, 2.15436], [48.90268, 2.13693], [48.98778, 1.89669], [48.840464, 2.413466], [48.820406, 2.375444], [48.89511, 2.33181], [48.874288, 2.245817], [48.864182, 2.28674], [48.876783, 2.285583], [48.879878, 2.282702], [48.85853, 2.27497], [48.855005, 2.384812], [48.8079893, 2.50912714], [48.82276, 2.55966], [48.8908631, 2.40144879], [48.8431, 2.54361], [48.955003, 2.30139618], [48.92365509, 2.43976824], [48.94828912, 2.52988867], [48.93738, 2.32939], [48.818, 2.32224], [48.88929145, 2.25182873], [48.8524, 2.22829], [48.79014534, 2.3440838], [48.730155, 2.307558], [48.7454, 2.32439], [48.71101, 2.29825], [48.790765, 2.110564], [48.902288, 2.203934], [48.93664875, 2.29983247], [48.86562694, 2.41958736], [48.90251, 2.13573], [48.851224, 2.784793], [48.42314, 2.76773], [48.856321, 2.414137], [48.827141, 2.39103], [48.878194, 2.279974], [48.863476, 2.389832], [48.838008, 2.257573], [48.869153, 2.28414], [48.834405, 2.310813], [48.845556, 2.310234], [48.834058, 2.324408], [48.831029, 2.377592], [48.855758, 2.391327], [48.869325, 2.363372], [48.877343, 2.365828], [48.867951, 2.362382], [48.873931, 2.315893], [48.862588, 2.319022], [48.804126, 2.325054], [48.78788, 2.45014], [48.817935, 2.441552], [48.91222206, 2.3442319], [48.87262449, 2.45331639], [48.94173051, 2.45926397], [48.82252, 2.28476], [48.81145, 2.21119], [48.90369789, 2.30324775], [48.90756, 2.30013], [48.84004, 2.2366], [48.78005, 2.31367], [48.900911, 2.360246], [48.819984, 2.325696], [48.890069, 2.396274], [48.864691, 2.394513], [48.867783, 2.396215], [48.836709, 2.253626], [48.828107, 2.384874], [48.851022, 2.377215], [48.871105, 2.316313], [48.860075, 2.34909], [48.871233, 2.344566], [48.79069675, 2.39258653], [48.8013, 2.5222], [48.800111, 2.497301], [48.7968, 2.35472], [48.78847, 2.3618], [48.786287, 2.375968], [48.77391641, 2.4865087], [48.769404, 2.465235], [48.96303, 2.51789], [48.90678, 2.3318], [48.944197, 2.342166], [48.90165044, 2.51836945], [48.8945, 2.42038], [48.84039, 2.58134], [48.856616, 2.510459], [48.91434, 2.52355], [48.9651, 2.34427], [48.917538, 2.443953], [48.93018, 2.443], [48.93223909, 2.39351173], [48.913034, 2.506322], [48.91045057, 2.38505949], [48.918112, 2.379023], [48.81876, 2.20776], [48.88643352, 2.18787253], [48.8803825, 2.24496156], [48.89568222, 2.21584193], [48.81440703, 2.24675596], [48.89101128, 2.24777484], [48.90089256, 2.30552137], [48.80136958, 2.32374287], [49.062836, 2.523151], [48.7615291, 2.34008141], [48.76323303, 2.34206347], [48.753485, 2.223323], [48.895239, 2.007189], [48.87447, 2.43874], [48.94683358, 2.44255543], [48.81744769, 2.43111134], [48.85724, 2.48879], [48.92869685, 2.62840045], [48.83100751, 2.60627873], [48.69563, 2.336915], [49.00017, 1.88929], [48.9569, 2.90017], [48.44074, 2.65103], [49.050921, 2.733976], [48.90909, 2.6377], [48.71142, 2.29776], [48.71341, 2.34945], [48.900616, 2.330349], [48.901194, 2.350747], [48.834941, 2.26804], [48.844933, 2.41426], [48.845516, 2.319163], [48.8690871, 2.28549], [48.83622, 2.402903], [48.861007, 2.374785], [48.87852, 2.354068], [48.871771, 2.357131], [48.87863, 2.350543], [48.871157, 2.332344], [48.859917, 2.296674], [48.855354, 2.35959], [48.866776, 2.361965], [48.7853, 2.4952], [48.84768, 2.4979], [48.79237347, 2.36948363], [48.80901, 2.36263], [48.79043313, 2.52227077], [48.82084419, 2.49999958], [48.95747, 2.54512], [48.88097308, 2.48008168], [48.94452638, 2.33741158], [48.95874, 2.3008], [48.93443923, 2.46848355], [48.907425, 2.376751], [48.81715068, 2.30712086], [48.82710365, 2.22204119], [48.89289605, 2.18661457], [48.79897029, 2.28690237], [48.82725198, 2.27821738], [48.60539, 2.46733], [48.82593, 2.26953], [48.65895, 2.4121], [48.90131655, 2.26000392], [48.60611, 2.4666], [48.7727904, 2.25171179], [48.64241, 2.42043], [48.60427, 2.4775], [48.82554285, 2.24188149], [48.63068, 2.41274], [48.702046, 3.10112], [49.074133, 1.952852], [48.697929, 2.2487], [48.484937, 2.229323], [48.6976, 2.3946], [48.8645289, 2.41338193], [48.82834422, 2.38826573], [48.846313, 2.330985], [48.872109, 2.377036], [48.75923, 2.32379], [48.851866, 2.401376], [48.97291672, 2.48744845], [48.57026, 2.61937], [48.84274, 2.723898], [48.85228, 2.72221], [48.871725, 2.404383], [48.977517, 2.493333], [48.865178, 2.407279], [48.9409, 2.47896], [48.89327, 2.36143], [48.98502843, 2.50547741], [48.94127, 2.47883], [48.890291, 2.358321], [48.893569, 2.311795], [48.79310493, 2.44131616], [48.883277, 2.296577], [48.58696, 2.636647], [48.882129, 2.300138], [48.882517, 2.31052], [48.665098, 2.613261], [48.865821, 2.29603], [48.849939, 2.27222], [48.84606916, 2.27694869], [48.845123, 2.276391], [48.84956397, 2.28126168], [48.85374331, 2.28972673], [48.840078, 2.321732], [48.865464, 2.301402], [48.866844, 2.361913], [48.871285, 2.335932], [48.856573, 2.34953], [48.80411, 2.37252], [48.763883, 2.529391], [48.73433, 2.52032], [48.77546, 2.52428], [49.00243984, 2.53329813], [48.821922, 2.316733], [48.92488, 2.325422], [48.893172, 2.303521], [48.864005, 2.208598], [48.857246, 2.258489], [48.88669178, 2.28305072], [48.826491, 2.389146], [48.90683256, 2.21201509], [48.843217, 2.36418], [48.90886, 2.25532], [48.893986, 2.380895], [48.89722326, 2.29957011], [48.864897, 2.249075], [48.77400656, 2.24489897], [48.834809, 2.341573], [48.866942, 2.41322], [48.8412, 2.2252], [48.74852, 2.32784], [48.837189, 2.353], [48.90824, 2.28414], [48.831092, 2.35606], [48.71458, 2.27288], [48.855642, 2.295187], [48.86495, 2.397267], [48.862608, 2.413553], [48.850992, 2.377203], [48.842254, 2.413632], [48.884832, 2.381962], [48.66085, 2.37098], [48.642646, 2.391731], [48.838819, 2.269443], [48.850411, 2.392517], [48.789453, 2.34440982], [48.859548, 2.329342], [48.871669, 2.274052], [48.863802, 2.382271], [48.826976, 2.313984], [48.645165, 2.534629], [48.90086, 2.365712], [48.869462, 2.373919], [48.833881, 2.327263], [48.843707, 2.353689], [48.63145, 2.50236], [48.852743, 2.303232], [48.825795, 2.357398], [48.62536, 2.39572], [48.872534, 2.264433], [48.64409, 2.5377], [48.837576, 2.436858], [48.846007, 2.313901], [48.72196, 2.29586], [48.788308, 2.137474], [48.835804, 2.289715], [48.84024, 2.436141], [48.797153, 1.909635], [48.859877, 2.300852], [48.819161, 2.359476], [48.873136, 2.326738], [48.825475, 2.348747], [48.863398, 2.350969], [48.82588, 2.07609], [48.841929, 2.367915], [48.93395618, 2.38339584], [48.662983, 2.514853], [48.77383887, 2.39942676], [48.873428, 2.322411], [48.842414, 2.38547], [48.753753, 2.485159], [48.837884, 2.493818], [49.04869, 2.54723], [48.848674, 2.372585], [48.836392, 2.475603], [48.97054, 2.24921], [48.784588, 2.367381], [48.846993, 2.383798], [48.96114, 2.46937], [48.817137, 2.453088], [48.869545, 2.362107], [48.92692, 2.33586], [48.78365, 2.34576], [48.878563, 2.354059], [48.8570023, 2.53110158], [48.86577158, 2.41749625], [48.77299, 2.43535], [48.87491, 2.332463], [48.8633, 2.46666], [48.83501479, 2.57867375], [48.80223837, 2.39702582], [48.9335371, 2.36995843], [48.91983718, 2.45139844], [48.8453, 2.43966], [48.93610499, 2.3646348], [48.93246, 2.40668], [48.84479311, 2.43661469], [48.89556, 2.4267], [48.83943, 2.49047], [48.91582975, 2.42566963], [48.88670569, 2.41167734], [48.93609325, 2.46652331], [48.80955, 2.38042], [48.87608, 2.42346], [48.785025, 2.347989], [48.93396, 2.490957], [48.95413, 2.33533], [48.821504, 2.409431], [48.911195, 2.379358], [48.96938, 2.37841], [48.94622, 2.31737], [48.93555653, 2.33291656], [48.80421633, 2.19461627], [48.8785, 2.50976], [48.88040366, 2.22938441], [48.89145, 2.2079], [48.88025667, 2.18129441], [48.91066, 2.5121], [48.80684144, 2.29341763], [48.90585586, 2.21059889], [48.86174347, 2.41716], [48.88508, 2.53386], [48.91911964, 2.29024887], [48.88251811, 2.20442981], [48.90627407, 2.48208672], [48.81468, 2.308721], [48.91829653, 2.30977035], [48.91401411, 2.49188873], [48.90591598, 2.25189149], [48.80562937, 2.31343317], [48.91595602, 2.37695038], [48.79057739, 2.31467396], [48.78097617, 2.31598015], [48.94292035, 2.31832069], [48.75220475, 2.30452314], [48.89770303, 2.25656658], [48.91574, 2.22674], [49.149321, 2.24812], [48.839801, 3.470208], [48.73996, 2.125527], [48.950521, 2.761195], [48.77497329, 2.34633377], [48.8019795, 2.34359623], [48.72372, 2.278182], [48.965676, 1.750212], [48.75359848, 2.33149496], [48.7950526, 2.34443674], [48.970134, 1.90948], [48.65349, 2.38115], [48.83343519, 2.16195504], [48.77139558, 2.39237225], [48.75460606, 2.38177965], [48.75989409, 2.27833686], [48.8303229, 2.48934965], [48.8277368, 2.39321172], [48.854749, 2.410248], [48.880043, 2.29887], [49.1106993, 2.0555377], [48.894327, 2.313636], [48.573342, 2.238507], [48.858568, 2.284502], [48.586228, 1.869795], [48.869911, 2.285297], [48.829004, 2.298958], [48.95634513, 2.3322612], [48.838305, 2.298462], [48.953702, 1.656398], [48.97742, 2.30716], [48.83058, 2.319298], [48.864844, 2.368268], [48.60338, 2.24823], [48.879123, 2.368742], [48.66399, 2.52435], [48.870125, 2.351061], [48.68024, 2.36482], [48.868172, 2.365428], [48.877036, 2.297399], [48.94428, 2.16436], [48.75620362, 2.33732646], [48.7301183, 2.30785096], [48.62503, 2.32287], [48.91362, 2.16133], [48.89356969, 2.23306507], [48.93280548, 2.3021252], [48.95927808, 2.27316141], [48.93398895, 2.39130199], [48.76020129, 2.32061692], [48.92365, 2.34243], [48.94355783, 2.28738079], [48.8036176, 2.34401681], [48.75969, 2.26549], [49.0417221, 2.080383], [48.63139, 2.49287], [48.93788866, 2.29766722], [48.74267, 2.3225], [48.82050762, 2.40183223], [48.823575, 2.462949], [48.72686, 2.3031], [48.841018, 2.097659], [48.788439, 2.068056], [48.94920532, 2.28069842], [48.93838168, 2.31330853], [48.91277, 2.35829], [48.93873, 2.29434], [48.82665078, 2.51617424], [48.7760143, 2.42729991], [48.646, 2.358], [48.9926332, 2.42770493], [48.90281, 2.11482], [48.41388, 3.05267], [48.87698, 2.6849], [48.822011, 2.316797], [48.87538, 2.70336], [48.80707, 3.13169], [48.900886, 2.365712], [48.885809, 2.288302], [48.87908, 2.28007], [48.849892, 2.349464], [48.949188, 2.071832], [48.884948, 2.326783], [48.888037, 2.32461], [48.87993, 2.28824], [48.5449, 2.67912], [48.824451, 2.319653], [48.680949, 2.378046], [48.824238, 2.357018], [48.63463, 2.4388], [48.877828, 2.351232], [48.45814, 2.1773], [48.85371, 2.31467], [48.856207, 2.302489], [49.0027, 2.07572], [48.865356, 2.327296], [48.74809, 2.41536], [48.8226914, 2.41666965], [48.75875, 2.50015], [48.84382, 2.54832], [48.85714106, 2.52408043], [48.90110314, 2.49969538], [48.94272, 2.47891], [48.94497, 2.47171], [48.85808465, 2.21087694], [48.83492, 2.22576], [48.819992, 2.36812], [48.866679, 2.264943], [48.847494, 2.352706], [48.890843, 2.359896], [48.849978, 2.269404], [48.832949, 2.378741], [48.857154, 2.3789], [48.861983, 2.350179], [48.78336, 2.41779], [48.835924, 2.474996], [48.816837, 2.3787555], [48.77386143, 2.39918348], [48.94711029, 2.37299372], [48.929047, 2.434324], [48.877377, 2.409157], [48.89006278, 2.21929371], [48.843246, 2.269502], [48.81565339, 2.31640488], [48.885259, 2.384614], [48.89434, 2.28299], [48.885402, 2.297631], [48.75136877, 2.30455801], [48.870782, 2.288098], [48.820512, 2.366019], [48.829783, 2.356207], [48.830237, 2.333747], [48.843375, 2.370816], [48.605376, 2.082188], [48.77606, 2.898813], [48.58949504, 2.65386628], [49.149804, 1.788094], [48.63651, 2.39941], [48.63146, 2.50281], [48.74839, 2.32732], [48.94661725, 2.44182927], [48.69495, 2.31894], [48.97399, 2.488348], [48.778307, 2.222478], [48.91813898, 2.22276483], [48.96938098, 2.48064637], [49.03791744, 2.12330895], [48.6597377, 2.61287775], [48.9156, 2.35799], [48.97018412, 2.48292089], [48.97336, 2.24588], [48.50942, 2.65786], [48.95855836, 2.32927591], [48.8523, 2.76312], [48.884578, 2.286301], [48.834256, 2.275894], [48.878432, 2.370434], [48.888289, 2.324165], [48.875788, 2.273462], [48.859918, 2.290449], [48.83529, 2.33277], [48.834049, 2.444865], [48.87193, 2.337283], [48.872925, 2.33324], [48.859493, 2.345196], [48.736002, 2.446668], [48.808092, 2.357161], [48.81089, 2.36403], [48.951024, 2.3397909], [48.909354, 2.437761], [48.82329, 2.29637], [48.86791, 2.19423], [48.8859122, 2.2165896], [48.89627, 2.25192], [48.78451732, 2.24495552], [48.77009352, 2.27301925], [48.66588, 2.36653], [48.92539969, 2.23328224], [48.778292, 2.222328], [49.06099, 2.35853], [48.90207598, 2.47041227], [48.89645125, 2.4703365], [48.86553, 2.42046], [49.03494197, 2.09896803], [48.95786, 2.27507], [48.831519, 2.678183], [48.81723758, 2.45368052], [48.82854107, 2.47576095], [48.82648029, 2.52228801], [48.8361336, 2.55730702], [48.85138, 2.213046], [48.9746, 2.4164], [49.05870236, 2.04829484], [48.66131, 2.37529], [48.876323, 2.278525], [48.847435, 2.340364], [48.87059, 2.281192], [48.833422, 2.309799], [48.869618, 2.37838], [48.880468, 2.321312], [48.76187961, 2.47900057], [48.814972, 2.360995], [48.75709, 2.32873], [48.82005, 2.48313], [48.94462, 2.51723], [48.92683471, 2.36558371], [48.88417531, 2.40353554], [48.89329, 2.43747], [48.95237096, 2.49588673], [48.82319043, 2.30548605], [48.83032426, 2.17988089], [48.88423332, 2.26028144], [48.88407087, 2.27070183], [48.88520885, 2.21949148], [48.81845, 2.31947], [48.80705, 2.29365], [48.82395145, 2.27280915], [48.82506, 2.27212], [48.93293, 2.2928], [48.92676, 2.29449], [48.90608, 2.23886], [48.9051446, 2.25605965], [48.9009667, 2.30489597], [48.91197834, 2.31041864], [48.9014, 2.31518], [48.92397, 2.28214], [48.91236, 2.28461], [48.501337, 3.157518], [48.488078, 1.912358], [48.910187, 2.698486], [48.685439, 2.217913], [48.83468, 2.274681], [48.876323, 2.278525], [48.866234, 2.352539], [48.840902, 2.414127], [48.889739, 2.349589], [48.884478, 2.364819], [48.892474, 2.308789], [48.847995, 2.250335], [48.833625, 2.309015], [48.83958, 2.29298], [48.838064, 2.294604], [48.834751, 2.43748], [48.8389, 2.4605], [48.849849, 2.373994], [48.874838, 2.355702], [48.880773, 2.340237], [48.876965, 2.329561], [48.875324, 2.315753], [48.85768, 2.300195], [48.82709, 2.307811], [48.84943454, 2.31514335], [48.855097, 2.361674], [48.86957268, 2.35254943], [48.86678, 2.36191], [48.785441, 2.399911], [48.805694, 2.348622], [48.75211, 2.36878], [48.75592, 2.35617], [48.78998544, 2.55021416], [48.76972438, 2.50992316], [48.87614, 2.54982], [48.93206711, 2.39948175], [48.83781007, 2.15721354], [48.85375837, 2.21797693], [48.8213664, 2.25003161], [48.81799148, 2.25086398], [48.92761, 2.29724], [48.90406, 2.31185], [48.77071584, 2.24799871], [48.675813, 2.22087], [48.66927, 2.35077], [48.671627, 2.193912], [48.75994034, 2.27899253], [48.7136, 2.27555], [48.67884, 2.33505], [48.94785, 2.44451], [48.79614431, 2.44319764], [48.77633, 2.42206], [48.83515238, 2.57609455], [48.75717, 2.38389], [48.98246, 2.42143], [48.9905, 2.32651], [48.69767, 2.51899], [48.68661, 2.49842], [48.686079, 2.408718], [48.5526, 3.29108], [48.95759, 2.849409], [48.87378, 2.68997], [48.83025978, 2.49298865], [48.81737044, 2.42861395], [48.81418936, 2.448755], [48.85106447, 2.49004498], [48.82945356, 2.52827231], [48.77246663, 2.3972476], [49.05399, 2.04454], [48.71939, 2.45417], [48.832335, 2.11254], [49.005032, 2.11639], [48.62733, 2.59144], [48.9811, 2.4672], [48.95621, 2.25596], [48.87886, 2.11237], [48.827758, 2.393245], [48.901041, 2.350764], [48.869799, 2.400075], [48.888389, 2.374138], [48.85174311, 2.32676804], [48.845649, 2.367218], [48.85934, 2.386835], [48.853485, 2.369609], [48.835496, 2.302387], [48.857239, 2.347114], [48.869541, 2.336791], [48.879241, 2.343235], [48.792681, 2.49746], [48.76371, 2.35708], [48.88126, 2.4766], [48.853417, 2.367151], [48.898988, 2.443948], [48.846484, 2.366884], [48.81265, 2.21459], [48.845323, 2.438206], [48.9075, 2.23817], [48.75338, 2.32837], [48.853476, 2.452191], [48.76204086, 2.30143771], [48.815647, 2.514366], [48.916964, 2.357962], [48.75236, 2.30463], [48.869983, 2.496843], [48.816707, 2.365107], [48.902397, 2.39938], [48.895562, 2.307691], [48.843889, 2.550665], [48.883423, 2.334292], [48.93401458, 2.56148547], [48.844421, 2.220405], [48.88217, 2.371121], [48.88296, 2.28077], [48.870661, 2.259376], [48.809847, 2.285312], [48.78638907, 2.23015666], [48.838594, 2.269777], [48.83359074, 2.26712376], [48.925566, 2.260799], [48.846761, 2.285648], [48.830857, 2.242276], [48.821294, 2.334344], [48.92666661, 2.27349052], [48.881107, 2.365174], [49.020433, 2.378178], [48.86529, 2.343077], [48.72578, 2.44458], [48.835652, 2.492523], [48.814963, 2.417565], [48.82594, 2.51443], [49.00361, 2.56497], [48.86162464, 2.50359444], [48.89157, 2.41661], [48.90917, 2.41812], [48.90532942, 2.37426889], [48.88744987, 2.16726637], [48.7952, 2.23327], [48.92617735, 2.28482299], [48.89636743, 2.2584815], [48.92753, 2.26625], [48.83392, 2.24479], [48.83103, 2.2349], [48.91365, 2.29897], [48.91176, 2.28514], [48.66819, 2.3549], [48.69036, 2.22208], [48.84244656, 2.2222865], [48.82338063, 2.22201913], [49.046195, 2.792072], [48.975042, 2.241486], [48.93894463, 2.30501249], [48.92706, 2.40353], [49.03091846, 2.12131619], [48.68278, 2.38252], [48.63426, 2.40328], [48.89272, 2.08286], [48.92889155, 2.33055607], [48.97949903, 2.2278563], [48.96395155, 2.26313134], [48.96682579, 2.25512844], [48.83180524, 2.49163099], [48.805989, 2.441635], [48.733417, 1.759981], [48.7181, 2.3103], [48.96559, 2.25938], [48.67808, 2.34328], [48.87299, 2.48117], [48.821065, 2.320486], [49.03368993, 2.11147785], [48.821206, 2.37789], [49.01932, 2.13923], [48.829517, 2.368955], [48.93902806, 2.41747499], [48.851103, 2.351289], [48.84272, 2.329836], [48.95216497, 2.47360826], [48.88795792, 2.47241735], [48.879474, 2.290622], [48.93849892, 2.29423732], [48.862925, 2.291934], [48.876815, 2.361014], [48.77309121, 2.39941125], [48.881167, 2.315334], [48.864999, 2.313697], [48.849417, 2.303772], [48.78839, 2.50637], [48.782211, 2.367342], [48.88992022, 2.27711856], [48.8059802, 2.27892458], [48.83474993, 2.27420747], [48.81729533, 2.32880652], [48.90617244, 2.2474274], [48.862014, 2.264393], [48.70008, 2.47764], [48.900577, 2.388861], [48.89991927, 2.31445491], [48.891842, 2.301593], [48.71289, 2.37149], [48.8670485, 2.32068479], [48.889092, 2.316134], [48.859499, 2.348857], [48.83799603, 2.31928736], [48.809709, 2.554795], [48.638101, 2.438045], [48.864442, 2.330155], [48.81455292, 2.39706606], [48.74773, 2.46066], [48.76681, 2.33625], [48.91776, 2.32968], [48.963846, 2.380548], [48.93527871, 2.35589574], [48.9475329, 2.37531736], [48.879373, 2.478189], [48.85502222, 2.41908923], [48.90468, 2.39334], [48.87834185, 2.42247722], [48.86439659, 2.5112185], [48.85682109, 2.49907717], [48.90708, 2.48836], [48.81810298, 2.19712025], [48.8857075, 2.19642811], [48.907393, 2.212883], [48.828, 2.2675], [48.81769, 2.30788], [48.922601, 2.241312], [48.89835, 2.26875], [48.9039, 2.30527], [48.885651, 2.31683], [48.90011517, 2.31478125], [48.83361, 2.24369], [48.844281, 2.342158], [48.78379, 2.24748], [48.850396, 2.353527], [48.83213, 2.23889], [48.850344, 2.342612], [48.75666, 2.30638], [48.853524, 2.41079], [48.854038, 2.399919], [48.864906, 2.398671], [48.638663, 2.36035], [48.879298, 2.398166], [48.877637, 2.40863], [48.884063, 2.328445], [48.889897, 2.303875], [48.864421, 2.277945], [48.841564, 2.318328], [48.834965, 2.344995], [48.84037, 2.379896], [48.828, 2.389], [48.839885, 2.408903], [48.445284, 3.355808], [48.864869, 2.321226], [48.880107, 2.287935], [48.867345, 2.363382], [48.854604, 2.362951], [48.81067331, 2.44354981], [48.75823164, 2.34674782], [48.863492, 2.413409], [48.74785243, 2.36931968], [48.901041, 2.352764], [48.75334406, 2.34968752], [48.844051, 2.413842], [48.73958, 2.41818], [48.95131823, 2.35790793], [48.858363, 2.400705], [48.87162074, 2.49556565], [48.870772, 2.399239], [48.91645, 2.40607], [48.879812, 2.370433], [48.85716088, 2.53133308], [48.895768, 2.328328], [48.8541, 2.51936], [48.826018, 2.347463], [48.95226449, 2.30725855], [48.869995, 2.37106], [48.90977, 2.44484], [48.91561, 2.3846], [48.81456007, 2.39684612], [48.93608747, 2.33389914], [48.93451, 2.53847], [48.850079, 2.221851], [48.90603437, 2.33227462], [48.75630157, 2.33994087], [48.89894, 2.28768], [48.90308583, 2.33398184], [48.89643344, 2.28658587], [48.86627623, 2.41437177], [48.962, 2.54627], [48.82790573, 2.27404207], [48.9047578, 2.35824189], [48.93297771, 2.28481025], [48.88198545, 2.35101905], [48.7647343, 2.4621159], [48.928049, 2.250937], [48.87251603, 2.47679215], [48.842797, 2.484977], [48.89830608, 2.31010348], [48.86513907, 2.50559387], [48.7613, 2.40323], [48.900933, 2.308013], [48.81498, 2.46293], [48.87113346, 2.54366755], [48.90079744, 2.30552897], [48.86447654, 2.21887533], [48.91796, 2.28434], [48.93893767, 2.51300723], [48.85731088, 2.22348154], [48.906166, 2.481345], [48.909766, 2.507322], [48.927733, 2.483297], [48.914599, 2.385009], [48.92665923, 2.32069659], [48.8269927, 2.22160488], [48.8961285, 2.22055078], [48.82602722, 2.27781951], [48.82641334, 2.2755821], [48.93290577, 2.2963893], [48.84211843, 2.23946071], [48.76836045, 2.31094551], [48.8128373, 2.3365056], [48.91244561, 2.21780957], [48.800647, 1.954138], [48.87145721, 2.15725696], [48.81745795, 2.41989569], [48.834482, 2.295678], [48.848322, 2.34153], [48.865742, 2.387548], [48.879798, 2.370502], [48.895278, 2.371979], [48.843762, 2.306555], [48.840895, 2.305895], [48.870744, 2.378114], [48.855113, 2.387127], [48.874086, 2.340722], [48.853943, 2.364717], [48.83779008, 2.41787276], [48.85098301, 2.43442789], [48.85635875, 2.42667362], [48.912854, 2.54429], [48.900594, 2.568029], [48.9097265, 2.3860918], [48.91343, 2.21886], [48.856703, 2.002065], [48.77442413, 2.24051438], [48.80243756, 2.34202217], [48.862094, 1.994064], [48.67996, 2.3327], [48.63547, 2.40101], [48.86544542, 2.48185307], [49.029551, 2.538581], [49.00831775, 2.1595595], [48.92630539, 2.40132558], [48.908569, 1.851078], [48.657903, 1.901557], [48.96594, 2.47671], [48.80103887, 2.4472408], [48.82678408, 2.51416833], [48.83441554, 2.49343043], [48.83620546, 2.5559632], [48.686945, 2.352698], [48.76849278, 2.34465162], [48.63025, 2.48593], [48.89707, 2.006425], [48.83444245, 2.17035024], [48.977214, 1.714992], [48.967012, 1.854769], [48.844051, 2.413842], [48.94736, 2.44359], [48.62754, 2.3995], [48.900868, 2.342645], [48.92208986, 2.35860909], [48.63567, 2.40165], [48.89139, 2.375924], [48.94376249, 2.47766197], [48.789607, 2.126618], [48.86765, 2.42752], [48.888775, 2.393104], [48.93542176, 2.2605831], [48.92568, 2.39782], [48.885086, 2.330293], [49.011, 2.55239], [48.92648671, 2.40257539], [48.86577158, 2.41749625], [48.95871451, 2.27421284], [48.876294, 2.296859], [48.899311, 2.31838], [48.93788866, 2.29766722], [48.97165, 2.49617], [48.845831, 2.414445], [48.84558, 2.294663], [48.87669083, 2.44286735], [48.93263, 2.40321], [48.900899, 2.361608], [48.81761421, 2.41995748], [48.853798, 2.294168], [48.86274088, 2.29442328], [48.96179, 2.52377], [48.87807278, 2.35129175], [48.72828524, 2.60506736], [48.645136, 2.546884], [48.835388, 2.302782], [48.872472, 2.336651], [48.83120762, 2.60505058], [48.827269, 2.464363], [48.768846, 2.37919993], [48.858989, 2.330984], [48.64789, 2.37952], [48.83259993, 2.49223714], [48.84584, 2.367634], [48.83352, 2.51938], [48.794765, 2.363775], [48.80378, 2.3776], [48.860983, 2.367238], [48.779187, 2.453035], [48.848912, 2.362551], [48.788694, 2.451733], [48.865456, 2.355997], [48.740498, 2.408996], [48.78517, 2.39218], [48.72756, 2.53106], [48.911625, 2.325091], [48.85437, 2.52096], [48.87881261, 2.49021687], [48.8204632, 2.24988484], [48.87465415, 2.48384222], [48.90726, 2.3004], [48.99283853, 2.42718458], [48.88907702, 2.41016127], [48.68223, 2.16494], [48.87607602, 2.42010489], [48.95638, 2.4161], [49.16936, 2.228717], [48.90056, 2.30831], [48.77423, 1.99933], [48.84289, 2.7402], [48.65124, 2.38325], [48.84955, 2.6442], [48.750232, 2.632763], [48.858178, 2.796284], [48.86064, 2.79253], [48.26752, 2.69931], [49.013128, 1.590976], [48.601, 2.438], [48.71793, 2.29231], [48.7284, 2.3142], [48.72959, 2.16536], [48.95845019, 2.27428978], [48.94012834, 2.29364245], [48.9519, 2.27987], [48.83221456, 2.65192439], [48.81497228, 2.62559359], [48.79983715, 2.44627859], [48.79823929, 2.44457391], [48.892295, 2.349092], [48.82777918, 2.35679108], [48.238977, 2.902252], [48.88316446, 2.34986472], [48.871231, 2.344595], [48.880847, 2.324824], [48.866901, 2.349458], [48.78358335, 2.39630395], [48.75197, 2.47025], [48.81910664, 2.39947611], [48.762814, 2.401367], [48.84291, 2.47012], [48.71655731, 2.57224929], [48.899369, 2.559537], [48.936725, 2.496809], [48.89182132, 2.25841507], [48.93148036, 2.28342211], [48.968331, 2.3429], [48.70572, 2.36143], [48.69163, 2.37802], [48.978543, 2.024962], [48.88137, 2.65674], [48.761365, 3.024083], [48.79612, 3.02409], [48.77318113, 2.34587558], [48.77137155, 2.34509948], [48.71524, 2.29832], [48.71082, 2.29879], [49.07036568, 2.22137332], [49.013994, 2.218261], [49.05879733, 2.41957005], [49.01769243, 2.03441387], [48.72521, 2.31679], [48.6505, 2.37889], [48.705776, 2.367599], [48.54297, 2.63159], [48.898096, 2.344138], [48.882459, 2.296095], [48.823261, 2.354117], [48.87372, 2.295704], [48.79921748, 2.39147794], [48.81004901, 2.38552746], [48.81416, 2.56516], [48.9489274, 2.51773095], [48.863556, 2.41864], [48.91673, 2.4446], [48.93558, 2.47543], [48.8202129, 2.24238396], [48.80334, 2.26662], [48.90465006, 2.28185892], [48.668582, 2.279229], [48.463631, 2.555265], [48.70156, 2.30847], [48.69319, 2.32057], [48.7331, 2.316], [48.95563, 2.27798], [49.03164, 2.49317], [48.92961992, 2.32818847], [49.04028501, 2.08315467], [48.8846661, 2.66785612], [48.84830363, 2.23126544], [48.778, 2.214242], [48.83258, 2.138189], [48.86630511, 2.4131552], [49.03617521, 2.09541678], [48.92763127, 2.33308867], [49.00062, 2.52238], [48.5416, 2.6283], [48.953027, 2.883742], [48.88434, 2.71147], [48.80323, 3.08564], [48.70009, 2.31765], [48.69141, 2.37059], [48.876534, 2.409645], [48.877655, 2.280344], [48.852713, 2.414464], [48.887035, 2.29029], [48.831429, 2.403851], [48.839882, 2.31243], [48.851104, 2.351295], [48.859665, 2.403088], [48.89853, 2.386531], [48.900657, 2.387002], [48.884531, 2.326964], [48.885669, 2.316823], [48.86263148, 2.26811349], [48.86215, 2.230505], [48.851563, 2.30026], [48.83178, 2.330318], [48.843769, 2.286354], [48.834224, 2.34896], [48.822639, 2.373072], [48.83464, 2.393516], [48.848219, 2.384001], [48.882419, 2.348927], [48.872742, 2.321368], [48.847675, 2.284142], [48.857607, 2.368059], [48.75308, 2.47521], [48.852028, 2.509349], [48.82011, 2.47841], [48.78504743, 2.38848594], [48.80264, 2.403547], [48.79023, 2.52244], [48.73443, 2.52009], [48.95637737, 2.54154498], [48.95839508, 2.35401928], [48.87279231, 2.47799054], [48.9121, 2.38549], [48.91549654, 2.3999523], [48.851584, 2.213067], [48.88264, 2.27685], [48.88189591, 2.28016287], [48.83153541, 2.26721585], [48.83394756, 2.2331804], [48.920565, 2.281368], [48.92122, 2.27841], [48.91344328, 2.29918152], [48.914752, 2.312129], [48.309093, 2.535626], [48.676383, 2.684591], [48.872906, 2.274447], [48.816114, 2.362523], [48.863476, 2.39958], [48.886468, 2.369355], [48.86453, 2.301301], [48.839223, 2.330616], [48.82323743, 2.32553959], [48.825743, 2.363021], [48.84389, 2.373163], [48.836218, 2.404759], [48.866005, 2.378851], [48.88327, 2.34692], [48.880151, 2.30778], [48.86421248, 2.3018074], [48.848832, 2.31142], [48.852069, 2.365442], [48.859632, 2.34481], [48.862469, 2.350437], [48.866844, 2.361909], [48.796514, 2.398536], [48.754034, 2.44869938], [48.777659, 2.438597], [48.812424, 2.472948], [48.74946, 2.40649], [48.8184, 2.41098], [48.77498, 2.52548], [48.96271, 2.5166], [48.98068471, 2.53191924], [48.943732, 2.451453], [48.94228, 2.53269], [48.831894, 2.584045], [48.909534, 2.445693], [48.93888, 2.32686], [48.82382901, 2.20884025], [48.84382012, 2.21857872], [48.86782629, 2.19519585], [48.89398568, 2.26802149], [48.81422025, 2.31574394], [48.93377574, 2.31337667], [48.89999, 2.30614], [48.76552798, 2.26040125], [48.78525992, 2.31013656], [48.692561, 3.198545], [48.859698, 2.880859], [48.75485637, 2.34650229], [48.71477, 2.26684], [48.77730361, 2.34638358], [48.72736, 2.31373], [48.58101, 2.45971], [48.76321419, 2.31082028], [48.78358086, 2.34675599], [48.66812, 2.35461], [48.71905, 2.29925], [48.66838, 2.35398], [48.93513721, 2.26665421], [48.964436, 1.797336], [48.930158, 1.983519], [48.83469779, 2.17151041], [48.77531057, 2.23927949], [48.92210032, 2.22649712], [48.97143, 2.27607], [48.95150621, 2.28003055], [48.96395, 2.26747], [48.86737315, 2.48181211], [48.77395173, 2.61204393], [48.861394, 2.292767], [48.83971, 2.283147], [48.822786, 2.326606], [48.853288, 2.370251], [48.881616, 2.365797], [48.869611, 2.367], [48.879634, 2.327042], [48.852081, 2.30763], [48.780789, 2.390674], [48.832427, 2.525029], [48.78567, 2.366823], [48.81122, 2.38402], [48.76333, 2.33381], [48.75552, 2.37348], [48.8438, 2.465], [48.76690945, 2.4037456], [48.91295, 2.33522], [48.87811549, 2.45750144], [48.95199373, 2.34306222], [48.95726, 2.30994], [48.95896, 2.306802], [48.962104, 2.310959], [48.910722, 2.385161], [48.86774519, 2.22179747], [48.85564518, 2.22110831], [48.89331722, 2.26794809], [48.93291, 2.29947], [48.91039542, 2.23438912], [48.90844466, 2.30020112], [48.75877, 2.27011], [48.94303, 2.62851], [48.84777, 2.10878], [48.926426, 2.038494], [48.410948, 2.466077], [48.82721274, 2.2243744], [48.93542176, 2.2605831], [48.96315, 2.5224], [48.90633853, 2.35831511], [49.03246, 2.11034], [48.88505, 2.4715], [48.96459, 2.27001], [48.94920532, 2.28069842], [48.96764117, 2.51079814], [48.854137, 2.355796], [48.97211, 2.48444], [48.835977, 2.315367], [48.77151333, 2.39201701], [48.90038417, 2.37683952], [48.900793, 2.386981], [48.87863, 2.372161], [48.848038, 2.392832], [48.904063, 2.329082], [48.8444852, 2.54182488], [48.83333, 2.24318], [48.83935, 2.23754], [48.57154, 2.365443], [49.020741, 2.383883], [48.96426, 2.31341], [48.636587, 2.321637], [48.66847, 2.37696], [48.7061, 2.39427], [48.820274, 2.324397], [48.826913, 2.326509], [48.832242, 2.379782], [48.819777, 2.372808], [48.873763, 2.342648], [48.837551, 2.322936], [48.842553, 2.51263], [48.81422452, 2.4291088], [48.81313, 2.38044], [48.797487, 2.329485], [48.76644, 2.4847], [48.766888, 2.403762], [48.82137, 2.39949], [48.88602, 2.49194], [48.88319349, 2.41160192], [48.88010086, 2.25082129], [48.89622542, 2.19588768], [48.91819, 2.24443], [48.90145762, 2.30114178], [48.90002095, 2.31147677], [48.79941704, 2.31097808], [48.63729, 2.795607], [49.05940423, 2.53426373], [48.94804682, 2.28091085], [48.82425459, 2.36795604], [48.815749, 2.360794], [48.898629, 2.378181], [48.89083845, 2.3599121], [48.89764055, 2.33234704], [48.8657052, 2.29977161], [48.84652103, 2.28541911], [48.85545871, 2.28783309], [48.81909793, 2.36126125], [48.848829, 2.399502], [48.613789, 2.348757], [48.88382, 2.368551], [49.073149, 1.513903], [48.871016, 2.303483], [48.806959, 1.79929], [48.85082534, 2.36144096], [48.80458, 1.867677], [48.864415, 2.346656], [48.781032, 2.403133], [48.8112889, 2.38395542], [48.78485, 2.45105], [48.74521, 2.41026], [48.79881, 2.54502], [48.94657, 2.38666], [48.936068, 2.531452], [48.91571, 2.33113], [48.94806, 2.33158], [48.90621, 2.45998], [48.94647077, 2.28241919], [48.81070243, 2.44917546], [48.68282, 2.32953], [48.75772551, 2.32805983], [48.62376, 2.38229], [48.75772551, 2.32805983], [48.7760957, 2.22940165], [48.83041529, 2.4904233], [48.59433289, 2.6355623], [48.83642, 2.55222], [48.83020089, 2.495767], [48.61498, 2.25546], [48.826936, 1.952178], [48.92083, 2.0343], [48.869643, 2.413267], [48.859496, 2.262727], [48.854539, 2.254923], [48.820099, 2.325741], [48.884658, 2.286128], [48.876904, 2.297299], [48.849138, 2.298131], [48.834362, 2.313625], [48.843377, 2.365961], [48.84644, 2.366836], [48.869537, 2.379691], [48.62465, 2.26302], [48.872657, 2.3593], [48.623, 2.387], [48.874826, 2.326777], [48.61466, 2.45296], [48.868873, 2.30989], [48.87027, 2.330054], [48.829325, 2.467027], [48.8098, 2.32631], [48.8165, 2.33801], [48.7171, 2.57132], [48.97302904, 2.51052728], [48.97675, 2.55859], [48.69308, 2.50159], [48.93423, 2.34343], [48.83862215, 2.56725669], [48.86974, 2.44969], [48.91198299, 2.52079034], [49.020321, 3.031661], [48.87793252, 2.56917501], [48.825999, 2.387071], [48.970802, 1.907287], [48.88331604, 2.52851708], [48.901104, 2.346646], [48.91275112, 2.39843854], [48.851156, 2.252293], [48.90953903, 2.37713188], [48.862346, 2.406327], [48.91793611, 2.37908517], [48.881547, 2.300689], [48.83667, 2.19481], [48.86765, 2.25089], [48.88442178, 2.27527097], [48.844127, 2.368866], [48.83458, 2.26693], [48.871757, 2.357203], [48.862295, 2.305431], [48.914548, 2.229141], [48.864689, 2.338587], [48.78164933, 2.29332894], [48.787945, 2.367785], [48.84507955, 2.23533757], [48.78663, 2.43074], [48.91362, 2.28156], [48.908449, 2.268888], [48.94063, 2.57844], [48.8808, 2.45028], [48.91659, 2.28915], [48.87631, 2.18582], [48.87976, 2.20735], [48.89037844, 2.24164236], [48.90339464, 2.31294662], [48.62608, 2.34042], [48.91638, 2.28955], [48.63319, 2.53403], [48.86244, 2.37663], [48.901112, 2.508427], [48.6256, 2.35544], [48.93184, 2.26061], [48.934845, 1.966473], [48.8275, 2.2527], [49.07166365, 2.24461198], [48.95772, 2.46285], [48.87004, 2.4305], [49.0309255, 2.12129474], [48.96388, 2.52115], [48.98775556, 2.20669627], [48.9630397, 2.26571023], [48.94049514, 2.42470833], [48.97506, 2.34714], [48.94364712, 2.28775617], [48.65168, 2.27277], [48.69945746, 2.59393277], [48.71369, 2.34683], [48.65435, 2.39685], [48.86859, 2.79224], [48.61864, 2.42458], [49.051933, 1.656275], [49.047967, 2.747226], [49.01915006, 3.02651968], [48.75772551, 2.32805983], [48.69983, 2.31112], [48.65, 2.38447], [48.77043046, 2.34474022], [48.9376601, 2.29661159], [48.81331781, 2.3360259], [48.89645325, 2.47035339], [48.63296, 2.537076], [48.964104, 2.405731], [48.92190936, 2.36424249], [48.66321, 2.36708], [48.999911, 2.407916], [48.709009, 2.188772], [48.83441554, 2.49343043], [48.82725286, 2.22440344], [48.97127107, 2.25888133], [48.81752866, 2.42251517], [48.82734237, 2.22446553], [48.78282771, 2.44060622], [48.93851705, 2.30001759], [48.83674117, 2.54365064], [48.61646, 2.2566], [48.94074039, 2.29291143], [48.71214, 2.30811], [48.736965, 2.348422], [48.69113, 2.45369], [48.648732, 2.353318], [48.708222, 2.380285], [49.00354955, 2.1884197], [48.855447, 2.413826], [48.71835, 2.50012], [48.82612, 2.312701], [48.707, 2.36], [48.88249268, 2.38264114], [48.988157, 2.074285], [48.88108, 2.289708], [48.855626, 2.280927], [48.837345, 2.319472], [48.845094, 2.320125], [48.71869, 2.23148], [48.850356, 2.381391], [48.68231, 2.4938], [48.82664908, 2.39040077], [48.691877, 2.489649], [48.87799, 2.35211], [48.68136, 2.34324], [48.73898512, 2.7474761], [48.8737, 2.306513], [48.85766, 2.30025], [48.851203, 2.362626], [48.867368, 2.344005], [48.862457, 2.350516], [48.868887, 2.33854], [48.78755, 2.4951], [48.88277, 2.70796], [48.79599, 2.36841], [48.76806, 2.35275], [48.75136618, 2.50296396], [48.85132, 2.53424], [48.91312, 2.523729], [48.92914195, 2.47888416], [48.86026753, 2.18534678], [48.89718, 2.27441], [48.916448, 2.24597], [48.889439, 1.722547], [48.858381, 2.400674], [48.873599, 2.390369], [48.491436, 2.221863], [48.85474, 2.410258], [48.854072, 2.410705], [48.889112, 2.322723], [48.881552, 2.300692], [48.854679, 2.269366], [48.861528, 2.297521], [48.81937503, 2.46355712], [48.8099, 2.3273], [48.81129927, 2.38411897], [48.74019943, 2.35357486], [48.77199, 2.41824], [48.82305, 2.41133], [48.8710314, 2.4709298], [48.86324, 2.44407], [48.91821, 2.53571], [48.92918771, 2.51238846], [48.82658, 2.22654], [48.82644, 2.21926], [48.8721745, 2.18297392], [48.89812622, 2.2801432], [48.90118384, 2.28516161], [48.82989805, 2.2661975], [48.918231, 2.238889], [48.82547, 2.23427], [48.916278, 2.26758], [48.58618, 2.45184], [48.74019, 2.32033], [48.75337728, 2.33158098], [48.790653, 2.111032], [48.92201331, 2.2267277], [48.82523, 2.385529], [48.93540166, 2.26544968], [49.063652, 2.268117], [48.8562815, 2.48912403], [48.857182, 2.347499], [48.96577046, 2.60780349], [48.844136, 2.330926], [48.75334269, 2.35993713], [48.85493533, 2.48858118], [48.844532, 2.302242], [48.848101, 2.286827], [48.82055315, 2.3242414], [48.852832, 2.374511], [48.860135, 2.364593], [48.876146, 2.318274], [48.87278, 2.298427], [48.86284, 2.313452], [48.860549, 2.295626], [48.816707, 2.365107], [48.900792, 2.35757], [48.851656, 2.36767], [48.843, 2.366444], [48.77047, 2.48423], [48.847264, 2.327166], [48.865667, 2.468915], [48.846942, 2.326855], [48.8794, 2.42207], [48.848832, 2.341751], [48.89837, 2.55329], [49.05794424, 2.04721212], [48.863041, 2.388044], [48.909782, 2.451228], [49.05781778, 2.00791193], [48.9293058, 2.47993876], [48.883866, 2.368591], [48.940753, 2.463147], [48.884973, 2.330098], [48.69464, 2.4141], [48.88436407, 2.26936358], [48.68, 2.376], [48.887328, 2.367064], [48.8081, 2.3055], [48.880094, 2.307532], [48.82377206, 2.27422558], [48.92303974, 2.2518906], [48.838881, 2.256821], [48.83877, 2.25004], [48.82813631, 2.23299913], [48.843314, 2.295757], [48.83460222, 2.23286703], [48.75101449, 2.29656838], [48.837545, 2.322944], [48.82264408, 2.31488585], [48.850307, 2.398603], [48.8994, 2.07252], [48.867591, 2.301242], [48.857495, 2.305354], [48.867022, 2.352988], [48.787486, 2.402515], [48.8406995, 2.59287993], [48.76655198, 2.47996402], [48.74941, 2.47783], [48.82694, 2.50946], [48.79122, 2.42578], [48.95335, 2.57366], [48.84661, 2.5564], [48.8599571, 2.43890388], [48.86186, 2.44674], [48.889885, 2.452714], [48.94805448, 2.45140761], [48.96446, 2.494656], [48.93040229, 2.32707417], [48.82060297, 2.31164795], [48.8195833, 2.30611145], [48.84973412, 2.22108964], [48.89060425, 2.17638481], [48.87962989, 2.25023299], [48.89250203, 2.21360743], [48.93425736, 2.30306715], [48.89978738, 2.24553055], [48.91586271, 2.22699165], [48.90129, 2.31519], [48.78963889, 2.30039701], [48.9003609, 2.32234758], [48.816714, 2.340298], [48.84684, 2.360946], [48.887952, 2.389985], [48.889114, 2.395929], [48.896687, 2.37061], [48.846883, 2.274512], [48.864995, 2.288663], [48.836084, 2.293977], [48.839453, 2.33757], [48.837366, 2.373853], [48.830458, 2.394143], [48.8327222, 2.383234], [48.880616, 2.361996], [48.871839, 2.301138], [48.85941161, 2.32969165], [48.864461, 2.330144], [48.68739, 2.19032], [48.77231, 2.36769], [48.77349205, 2.37153947], [48.64458099, 2.54279873], [48.764467, 2.441863], [48.80011533, 2.21576871], [48.73585, 2.46504], [48.80359917, 2.21419888], [48.72763198, 2.44548342], [48.9646, 1.92512], [48.851254, 2.494914], [48.93311271, 2.3757853], [48.77581, 2.48991], [48.97734767, 2.51842161], [48.92936, 2.48122], [48.719, 2.31], [48.91284149, 2.33478993], [48.92738, 2.33399], [48.89456, 2.44372], [48.95792573, 2.62435454], [48.89764, 2.4625], [48.87072, 2.02843], [48.77837532, 2.61481323], [48.91341, 2.51133], [48.8361336, 2.55730702], [48.801896, 2.04677], [48.88171, 2.53981], [48.80779, 2.18673], [48.941729, 1.952466], [48.9144, 2.21907], [48.81478, 2.2255], [48.83932334, 2.21819252], [48.90460578, 2.25584909], [48.796784, 2.024291], [48.7826, 2.24483], [48.78831212, 2.30124414], [49.02829223, 2.52583086], [48.91287, 2.27567], [48.93073, 2.27541], [48.96659, 2.51374], [48.80750055, 2.44873851], [48.8239729, 2.39430684], [48.586164, 3.234497], [48.9916353, 2.3616448], [48.97248007, 2.27846682], [48.68571, 2.20916], [48.65369, 2.39132], [48.7063, 2.33282], [48.943381, 2.128701], [48.41866, 2.87181], [48.96906076, 2.32170671], [48.879758, 2.675307], [48.86128, 2.67319], [48.705431, 2.438832], [48.69051, 2.48123], [48.693632, 2.413461], [48.71809, 2.44317], [48.890304, 2.159878], [48.79425, 2.64934], [48.87796, 2.74433], [48.81459276, 3.07004621], [48.82002896, 3.08999991], [49.032858, 2.634841], [49.092305, 1.742191], [48.489918, 2.355655], [48.816409, 2.358981], [48.76252432, 2.34134966], [48.61968, 2.55091], [48.9364031, 2.28946318], [48.975688, 1.72416], [48.79727463, 2.21701222], [48.788939, 2.060818], [48.88804303, 2.2497499], [48.96033, 2.27117], [48.97102, 2.2492], [48.89292727, 2.47244859], [48.95935418, 2.46587877], [48.94917898, 2.28036318], [48.97507308, 2.24260437], [48.90439426, 2.64468623], [49.02766672, 2.02178478], [48.701387, 2.371791], [49.00241, 2.1116], [48.877655, 2.280344], [48.857246, 2.258489], [48.870195, 2.350261], [48.851381, 2.343176], [48.848909, 2.328732], [48.89866543, 2.37105703], [48.889587, 2.304004], [48.893128, 2.310258], [48.835949, 2.254269], [48.847534, 2.402411], [48.860192, 2.376086], [48.884266, 2.364651], [48.8836558, 2.33244243], [48.87331, 2.3243], [48.858229, 2.333229], [48.72453, 2.44502], [48.79745, 2.45649], [48.79864, 2.38186], [48.78988392, 2.55002175], [48.7874, 2.4231], [48.95801, 2.39689], [48.94482, 2.35348], [48.93567987, 2.33595613], [48.80401, 2.29791], [48.77871697, 2.30566218], [49.116691, 2.229931], [49.161041, 2.297336], [48.898489, 2.551889], [48.8645339, 2.20746696], [48.9069, 2.24432], [48.918923, 2.240729], [48.90641112, 2.30351999], [48.905369, 2.31031], [48.78481, 2.23807], [48.70659, 2.30618], [48.75580758, 2.33353913], [48.7782741, 2.34650341], [48.631361, 2.504628], [48.94774549, 2.44391968], [48.94074039, 2.29291143], [48.975359, 2.332783], [48.76637, 2.23015], [48.784568, 1.955294], [48.75936294, 2.67805651], [48.816215, 2.358558], [48.83698, 2.255462], [48.838513, 2.322607], [48.88595, 2.382147], [48.86581813, 2.28927344], [48.825765, 2.346586], [48.841915, 2.367862], [48.847488, 2.381201], [48.849691, 2.379482], [48.849071, 2.321686], [48.857451, 2.364449], [48.81345, 2.48006], [48.78892, 2.48591], [48.800594, 2.484171], [48.845809, 2.490079], [48.78018, 2.33915], [48.95206, 2.41517], [48.86688677, 2.22944409], [48.8448, 2.2175], [48.89132927, 2.27518246], [48.89355082, 2.26774657], [48.806738, 2.293453], [48.81683, 2.306747], [48.90661, 2.24808], [48.923039, 2.254626], [48.83396, 2.24482], [48.83202, 2.25309], [48.92833137, 2.48120159], [48.875327, 2.36739], [48.41245, 2.69789], [49.04392, 2.08499], [48.69843, 2.42606], [48.868805, 2.573847], [48.834657, 2.740087], [48.962912, 2.452591], [48.99112197, 2.27862239], [48.264502, 2.695601], [48.418333, 2.67318], [48.843784, 3.088368], [48.84061817, 2.43488789], [48.8905, 2.349606], [48.847916, 2.25947], [48.837157, 2.390517], [48.861654, 2.351627], [48.7322, 2.408], [48.78992, 2.43124], [48.82250963, 2.26797277], [48.90907, 2.23631], [48.788942, 3.199214], [48.74369, 2.32333], [48.73057039, 2.30851382], [48.74795, 2.32665], [48.83971944, 2.21953969], [48.81737894, 2.41732391], [48.57555, 2.63901], [48.98194213, 2.3531878], [48.675957, 2.336313], [48.88932, 2.09898], [48.62436, 2.54626], [48.818723, 2.33099], [48.62579, 2.35573], [48.89784194, 2.19804328], [48.93576409, 2.28722247], [48.97690265, 2.47768521], [48.820562, 2.323112], [48.87186, 2.4336], [48.828, 2.731], [48.828471, 2.397418], [48.91039, 2.6408], [48.854602, 2.342514], [48.884098, 2.375247], [48.888408, 2.347998], [48.831897, 2.28169], [48.850347, 2.347559], [48.890554, 2.334311], [48.85764, 2.403897], [48.845563, 2.312553], [48.878397, 2.374222], [48.84915, 2.281893], [48.88527, 2.349529], [48.847129, 2.375706], [48.875344, 2.396486], [48.897735, 2.337508], [48.865855, 2.319885], [48.88292, 2.299351], [48.893559, 2.322663], [48.874096, 2.295774], [48.890241, 2.31723], [48.858025, 2.272572], [48.838933, 2.256786], [48.86407, 2.320124], [48.843203, 2.275469], [48.870878, 2.285031], [48.618587, 2.451078], [48.845651, 2.287981], [48.882201, 2.366526], [48.58714, 2.47252], [48.862882, 2.387147], [48.875199, 2.335222], [48.63154, 2.44119], [48.853271, 2.377298], [48.879669, 2.323935], [48.853932, 2.358344], [48.872979, 2.356313], [48.746022, 2.463227], [48.851537, 2.363686], [48.85159, 2.48712], [48.75481, 2.44437], [48.7749, 2.481], [48.77706, 2.46888], [48.78186, 2.419525], [48.74528215, 2.4638245], [48.95942541, 2.55084277], [48.76243, 2.47725], [48.89204, 2.5056], [48.82688, 2.51015], [49.00804, 2.55757], [48.903677, 2.391914], [48.92795, 2.33113], [48.919006, 2.524444], [48.90229793, 2.34412059], [48.78835764, 2.23008256], [48.9373327, 2.36816043], [48.82816, 2.25367], [48.95015, 2.32837], [48.866267, 2.215774], [48.602836, 2.383046], [48.84168156, 2.21584931], [48.88715387, 2.16948062], [48.91886166, 2.22245961], [48.90973433, 2.21578091], [48.81121, 2.31843], [48.918542, 2.252655], [48.90115, 2.30526], [48.79392, 2.2651], [48.83472775, 2.24703938], [48.999831, 2.484176], [48.631391, 2.642534], [48.50563, 2.163416], [48.75762305, 2.32812012], [48.62374, 2.38002], [48.62364, 2.39138], [48.61874631, 2.42732003], [48.674654, 2.675874], [48.62494, 2.33068], [48.96034883, 2.2711122], [49.02389, 2.32772], [48.91384971, 2.35800952], [48.669426, 1.956596], [48.957228, 1.891687], [49.01041606, 2.1546185], [48.86576613, 2.42064352], [48.92345412, 2.48055468], [48.86576613, 2.42064352], [48.94925302, 2.44676549], [48.864239, 2.266541], [48.94049514, 2.42470833], [48.820004, 2.374225], [48.95912873, 2.47345001], [48.821086, 2.377998], [48.82648029, 2.52228801], [48.898852, 2.34424], [48.8287204, 2.47702199], [48.901182, 2.339985], [48.840877, 2.265178], [48.857741, 2.279922], [48.74422, 2.19048], [48.853354, 2.278733], [48.91514617, 2.30963154], [48.96024199, 2.47332287], [48.94122394, 2.29162986], [48.824117, 2.383399], [48.93788866, 2.29766722], [48.86212, 2.380157], [48.72183, 2.29553], [48.86933038, 2.35427141], [48.78543196, 2.34573083], [48.99419719, 2.42385864], [48.858315, 2.322369], [48.862156, 2.300001], [48.69586, 2.31743], [48.92009017, 2.30667222], [48.863402, 2.350948], [48.854314, 2.292312], [48.90293811, 2.20539182], [48.81313, 2.4214], [48.87012, 2.48243], [48.8046, 2.34425], [48.97522663, 2.24280953], [48.787631, 2.367891], [48.543519, 2.67849], [48.84601879, 2.47037172], [48.97453, 1.91684], [48.8014, 2.44663], [48.3994, 2.9611], [48.800681, 2.450675], [48.83265734, 2.54380462], [48.8135, 2.52804], [48.81204608, 2.54803868], [48.92645164, 2.35152841], [48.91911, 2.42052], [48.92468, 2.37867], [49.03018, 2.45557], [48.90549, 2.58735], [48.95282489, 2.49985099], [48.9751653, 2.29188189], [48.95965495, 2.39891946], [48.81378952, 2.27865055], [49.03052454, 2.47038424], [48.864697, 2.219001], [48.63195, 2.33158], [48.71858, 2.29255], [48.82104, 2.20184], [48.69744, 2.2953], [48.88452834, 2.26040733], [48.85917, 2.7197], [48.23074, 2.70509], [48.92635, 2.65622], [48.53239, 2.57491], [48.822561, 2.314169], [48.84037, 2.09587], [48.794359, 2.04974], [48.834136, 2.589399], [48.843213, 2.254373], [48.843836, 2.662853], [48.844089, 2.254686], [48.85936413, 2.48655322], [48.896398, 2.393298], [48.893164, 2.37987], [48.895937, 2.317355], [48.84636, 2.295329], [48.661668, 2.092654], [48.867236, 2.30599], [48.875131, 2.29601], [48.569096, 1.90748], [48.866105, 2.289371], [48.857324, 2.292534], [48.993786, 2.33683], [48.855359, 2.359579], [48.98106196, 2.44576693], [48.78265, 2.40195], [48.73726, 2.297], [48.76038255, 2.44302946], [48.732852, 2.40359265], [48.94759, 2.53448], [48.91965132, 2.36171536], [48.88393049, 2.48835211], [48.85143, 2.5727], [48.93348, 2.4231], [48.92992204, 2.48081267], [48.85955, 2.21381], [48.89767065, 2.2182101], [48.817724, 2.322086], [48.93563473, 2.2720845], [48.930333, 2.284608], [48.76360182, 2.34384403], [48.929447, 2.299288], [48.79124, 2.29248], [48.69582, 2.31747], [48.92489, 2.48104], [48.91549, 2.29537], [48.9446849, 2.28538563], [48.88549, 2.47276], [48.94355783, 2.28738079], [49.09659024, 2.20396042], [48.897468, 2.312269], [48.832542, 2.406109], [48.895784, 2.383602], [48.772985, 3.326679], [48.881538, 2.300722], [48.857628, 2.277551], [48.852733, 2.275894], [48.999072, 2.426372], [48.649169, 2.380419], [48.847713, 2.284139], [48.83488, 2.26608], [48.831562, 2.385325], [48.846482, 2.40037], [48.84528, 2.368408], [48.98941, 1.9132], [48.826474, 2.297076], [48.872945, 2.333332], [48.827927, 2.394822], [49.00502, 1.9015], [48.875197, 2.298443], [48.862112, 2.299791], [48.83568, 2.274681], [48.857118, 2.304313], [48.84655, 2.344476], [48.861993, 2.321213], [48.851829, 2.341455], [48.870391, 2.336934], [48.875254, 2.39537], [48.811031, 2.510096], [48.80587892, 2.41076303], [48.86478, 2.410116], [48.87120698, 2.4709623], [48.890895, 2.353202], [48.95899, 2.2903], [48.90464, 2.55082], [48.886704, 2.350736], [48.94014907, 2.4624925], [48.820416, 2.290998], [48.89295512, 2.18681279], [48.81839, 2.31891], [48.81662891, 2.24758007], [48.900672, 2.3684433], [48.815989, 2.362638], [48.897022, 2.311083], [48.89361, 2.395287], [48.893046, 2.380064], [48.839637, 2.254165], [48.853524, 2.41079], [48.8884, 2.347993], [48.848978, 2.41129], [48.895612, 2.346347], [48.895125, 2.382757], [48.888934, 2.290572], [48.90083555, 2.38892555], [48.891263, 2.340647], [48.877295, 2.29444], [48.848015, 2.244774], [48.82264408, 2.31484294], [48.897619, 2.329002], [48.868637, 2.29589], [48.816415, 2.360486], [48.854617, 2.250647], [48.858531, 2.383666], [48.861656, 2.22928], [48.853706, 2.385193], [48.879522, 2.357188], [48.860269, 2.290503], [48.859539, 2.329291], [48.83797, 2.29897], [48.741277, 2.4777], [48.843491, 2.324276], [48.876666, 2.360942], [48.79805833, 2.32819156], [48.872043, 2.36956], [48.79232, 2.36957], [48.799326, 2.400814], [48.730637, 2.449552], [48.81436, 2.37375], [48.79006, 2.47344], [48.75520146, 2.37020212], [48.834226, 2.516914], [48.78995982, 2.55000535], [48.807325, 2.446545], [48.90831326, 2.51378015], [48.784598, 2.367318], [48.903733, 2.439075], [48.81726, 2.45599], [48.82388905, 2.28303283], [48.82016436, 2.52273251], [48.86845, 2.2234], [48.80575, 2.41516], [48.88098058, 2.22714427], [48.95764, 2.57224], [48.87894, 2.18151], [48.9546, 2.5361], [48.88181124, 2.28050977], [48.87352, 2.52969], [48.81309029, 2.32608676], [48.7959397, 2.25238234], [48.92118, 2.51475], [48.82745192, 2.24518955], [48.8777, 2.55598], [48.92114747, 2.27594912], [48.90935, 2.55014], [48.90662, 2.44371], [48.813367, 2.29932547], [48.82049841, 2.30394579], [48.88566101, 2.21923113], [48.81111, 2.29877], [48.79892889, 2.23314643], [48.90302538, 2.2581844], [48.860606, 2.925145], [48.70205, 2.30813], [48.76877597, 2.34362068], [48.75536798, 2.34171662], [48.821272, 2.615266], [48.850023, 2.661594], [48.84939, 2.834415], [48.75738975, 2.47653199], [48.52841, 2.54881], [48.97978, 2.46587], [48.737925, 2.264926], [48.68253, 2.1709], [48.70275, 2.42796], [48.67775, 2.49709], [48.6695, 2.36295], [48.4109, 2.12726], [48.91584, 2.06576], [48.884226, 2.828583], [48.735785, 2.704428], [48.253079, 2.732071], [48.79951772, 2.34247635], [48.78021943, 2.34653059], [48.75762305, 2.32812012], [48.75646884, 2.33489378], [48.63092, 2.51113], [48.627, 2.415], [48.76695347, 2.24441492], [48.848202, 2.248716], [48.8320354, 2.1517684], [48.71377, 2.27518], [48.90574373, 2.20997706], [48.93391754, 2.27790653], [48.84842319, 2.22997214], [48.92249, 2.42736], [48.88668, 2.48072], [48.96472134, 1.82036137], [48.88844553, 2.47369949], [49.06243439, 2.21264845], [48.91623043, 2.35752085], [49.03334361, 2.10555387], [48.86863, 2.42906], [48.88402, 2.46432], [48.81626132, 2.45282484], [48.819353, 2.458441], [48.941536, 2.321406], [48.95322908, 2.33662737], [48.94133696, 2.32229429], [48.93449241, 2.3211236], [48.90206, 2.2738], [48.90227782, 2.26799029], [48.87, 2.13], [48.66085, 2.55883], [48.95683, 2.88576], [48.96629, 2.91888], [48.73815, 2.297209], [48.72222, 2.46963], [48.6731, 2.50255], [48.73979, 2.72376], [48.67125, 2.55838], [48.83520774, 2.78295433], [48.901104, 2.346646], [48.816833, 2.364982], [48.861103, 2.324175], [48.872528, 2.376559], [48.864663, 2.404629], [48.874113, 2.255427], [48.838604, 2.289416], [48.83587, 2.361091], [48.857785, 2.370916], [48.878893, 2.362424], [48.657411, 2.952082], [49.132679, 1.931577], [48.723971, 1.956173], [48.77779858, 2.34644477], [48.74588, 2.32413], [48.7456, 2.32526], [48.75691382, 2.33507254], [48.92069124, 2.47959998], [48.92865, 2.35891], [48.92501602, 2.42564723], [48.96267, 2.47068], [48.95866, 2.52701], [49.0408254, 2.08207548], [48.82318581, 2.39579469], [48.96294783, 2.33895734], [49.05569089, 2.04818845], [48.63858, 2.33479], [48.67772, 2.4226], [48.900464, 2.080163], [48.98621, 1.92058], [48.73624, 2.73419], [48.40579, 2.79906], [48.53802, 2.6228], [48.85896, 2.75786], [48.819228, 2.329614], [48.843024, 2.260105], [48.851386, 2.343172], [48.840861, 2.337333], [48.864638, 2.405585], [48.882199, 2.374522], [48.889703, 2.368129], [48.878914, 2.339831], [48.868832, 2.273532], [48.847621, 2.299663], [48.843735, 2.295885], [48.824419, 2.304796], [48.834969, 2.331763], [48.833763, 2.382569], [48.874106, 2.339766], [48.882719, 2.326393], [48.86442, 2.351493], [48.72776, 2.4457], [48.80482, 2.34476], [48.767217, 2.407271], [48.76456, 2.406535], [48.81307033, 2.51282483], [48.935743, 2.338611], [48.86830939, 2.49180168], [48.95305387, 2.31600702], [48.91815001, 2.47684888], [48.92689, 2.47219], [48.87220276, 2.22853214], [48.89976, 2.19955], [48.81886363, 2.23464578], [48.90362, 2.31864], [48.83971191, 2.23976952], [48.84613, 2.24814], [48.900787, 2.338559], [48.73861, 2.30205], [48.90086, 2.365712], [48.896021, 2.394351], [48.631438, 2.504346], [48.873307, 2.3243], [48.79309594, 2.34508279], [48.845227, 2.328535], [48.859696, 2.404855], [48.863697, 2.408635], [48.76061147, 2.31935953], [48.895845, 2.383548], [48.890236, 2.359905], [48.80756471, 2.34094016], [48.881957, 2.295914], [48.85621, 2.281649], [48.86425, 2.41412], [48.836137, 2.297234], [48.821684, 2.326675], [48.92279781, 2.35128419], [48.829591, 2.3284], [48.830938, 2.385598], [48.866018, 2.366325], [48.95967623, 2.27188361], [48.86886, 2.364678], [48.861063, 2.325152], [48.847932, 2.315975], [48.861818, 2.350892], [48.79277, 2.39133], [48.97065, 2.48255], [48.77002988, 2.44049084], [48.79176382, 2.53296764], [48.78728, 2.48843], [48.814248, 2.464247], [48.8214243, 2.39921053], [48.771329, 2.361179], [48.76932552, 2.41565216], [48.77107455, 2.38866733], [48.72316, 2.56049], [48.85273, 2.51331], [48.93411, 2.56245], [48.912298, 2.550966], [48.893203, 2.496082], [48.948259, 2.44998], [48.915248, 2.374815], [48.80864583, 2.29123458], [48.91350833, 2.22670846], [48.79155086, 2.26318449], [48.92541, 2.27946], [48.70497, 2.41353], [48.4232, 2.1391], [48.650401, 3.409039], [48.867522, 2.700077], [48.817884, 2.35351], [48.882785, 2.370285], [48.875273, 2.395223], [48.896502, 2.319399], [48.847989, 2.264162], [48.836257, 2.294397], [48.823204, 2.316007], [48.871126, 2.376709], [48.86485, 2.368307], [48.876119, 2.318349], [48.863764, 2.332116], [48.859258, 2.367654], [48.7943, 2.36221], [48.77814, 2.34424], [48.79756, 2.45632], [48.79404009, 2.44708121], [48.75207, 2.4058], [48.821492, 2.413084], [48.8224, 2.39234], [48.7741, 2.50797], [48.97139309, 2.3662624], [48.90237954, 2.33926401], [48.8662567, 2.48711815], [48.898664, 2.517068], [48.9037, 2.47629], [48.95855542, 2.48545557], [48.85909, 2.21226], [48.84245, 2.20808], [48.88066, 2.18165], [48.87724105, 2.24402457], [48.882192, 2.27534], [48.81853279, 2.23124117], [48.830416, 2.280095], [48.925239, 2.32105], [48.64617, 2.19207], [48.842125, 2.09337], [49.028862, 2.538242], [48.88604, 2.47307], [48.71217, 2.3077], [48.75647, 2.20964], [48.691478, 2.315644], [48.71399, 2.24257], [48.71353, 2.37329], [48.41863, 2.17762], [48.983848, 1.911631], [48.80107754, 2.46425003], [48.93118, 2.34978], [48.91804283, 2.3790373], [48.76277, 2.30431], [48.78982766, 2.34470638], [48.80662035, 2.34623432], [48.93721944, 2.31700839], [48.786587, 2.151677], [48.777379, 2.22349], [48.96300436, 2.52239723], [48.86629, 2.48165], [48.81737044, 2.42861395], [48.927418, 2.628395], [48.976692, 1.861294], [48.99123, 2.59927], [48.85939, 2.79471], [48.882612, 2.283497], [48.83479937, 2.26808667], [48.827581, 2.392145], [48.832724, 2.362208], [48.848253, 2.331047], [48.852641, 2.347641], [48.851109, 2.272344], [48.834483, 2.33433], [48.837618, 2.322947], [48.875775, 2.348226], [48.874624, 2.33136], [48.837225, 2.495582], [48.811733, 2.454137], [48.76315, 2.478971], [48.83154, 2.53418], [48.82123, 2.48796], [48.82746, 2.52208], [49.00085617, 2.52058178], [48.87226727, 2.54708469], [48.86460544, 2.5011275], [48.93298, 2.56114], [48.89637647, 2.43055828], [48.82812851, 2.22600442], [48.85146101, 2.21314682], [48.81984168, 2.31084967], [48.89706659, 2.2893025], [48.91130838, 2.29871696], [48.893015, 2.327435], [48.886173, 2.297328], [48.884461, 2.319523], [48.88522, 2.307211], [48.885735, 2.299167], [48.858276, 2.255677], [48.865069, 2.286069], [48.872522, 2.264425], [48.828778, 2.327704], [48.844836, 2.380444], [48.857354, 2.380839], [48.853925, 2.310305], [48.849813, 2.323289], [48.853982, 2.364785], [48.845189, 2.431558], [48.84332, 2.431991], [48.8446, 2.43949], [48.82776179, 2.51117709], [48.81015, 2.36228], [48.522062, 1.908177], [48.77902, 2.34088], [48.770076, 2.462562], [48.79836, 2.4458], [48.62471, 2.41819], [48.7053, 2.28713], [48.8186681, 2.40996015], [48.729457, 2.306788], [48.69724, 2.31525], [48.97644, 1.72009], [48.816435, 2.460114], [48.965079, 1.764328], [48.80821269, 2.55409357], [49.00933, 2.56154], [48.831715, 2.083067], [48.94606, 2.34796], [48.86523057, 2.48172641], [48.94346, 2.37233], [48.93375, 2.58513], [48.96810406, 2.25241184], [48.909949, 2.444003], [48.92933, 2.51119], [48.93558002, 2.328713], [48.838916, 2.417472], [48.85967167, 2.18128324], [48.91833, 2.35727], [48.8181353, 2.30851167], [48.92348245, 2.25734782], [48.825842, 2.382314], [48.78226632, 2.25319648], [48.8390449, 2.22412348], [48.884293, 2.367655], [48.79622305, 2.32176125], [48.96277, 2.41824], [48.878669, 2.300854], [48.78175, 2.31443], [48.851397, 2.343175], [48.698, 2.186], [48.893092, 2.340219], [48.894452, 2.313457], [48.652818, 2.388837], [48.89640623, 2.31033683], [48.864561, 2.301283], [48.819702, 2.342815], [48.975869, 1.915807], [48.841365, 2.318507], [48.831869, 2.355266], [48.839829, 2.361667], [48.853526, 2.410791], [48.878575, 2.350545], [48.875179, 2.323821], [48.880889, 2.31759], [48.854022, 2.355005], [48.853254, 2.36859], [48.82026662, 2.47331402], [48.79689, 2.34996], [48.803672, 2.395942], [48.78656343, 2.44746557], [48.73097, 2.43577], [48.96226, 2.5408], [48.941913, 2.341677], [48.87728, 2.52395], [48.85139, 2.57121], [48.90301883, 2.56218928], [48.94502925, 2.43523023], [48.91538504, 2.37841424], [48.82008, 2.28607], [48.81296829, 2.293109], [48.87067, 2.22007], [48.90299785, 2.31286749], [48.74612, 2.31382], [49.09987787, 1.89621449], [48.825793, 2.357422], [48.855479, 2.381832], [48.83494, 2.41984], [48.813715, 2.404811], [48.75128, 2.35343], [48.79217, 2.55545], [48.796981, 2.463847], [48.91279102, 2.46993122], [48.94983309, 2.49126377], [48.82163294, 2.31301636], [48.84899817, 2.20116824], [48.85530762, 2.22291157], [48.62178, 2.54502], [48.87038894, 2.19647736], [48.76076577, 2.34564162], [48.90205884, 2.26388741], [48.80476702, 2.34457441], [48.804765, 2.049858], [48.96631, 1.85195], [48.89931466, 2.30945438], [48.98693, 1.664935], [48.82811367, 2.24207193], [48.983163, 1.685059], [48.88171885, 2.45421891], [48.91326, 2.30712], [48.93810053, 2.29792713], [48.94605193, 2.44078471], [48.93817308, 2.31344484], [48.88087, 2.47514], [48.7542676, 2.38140831], [48.871289, 2.29336], [48.878801, 2.385692], [48.88352, 2.338808], [48.85805641, 2.34964192], [48.89245, 2.30913], [48.884783, 2.359282], [48.836853, 2.283587], [48.82879, 2.327819], [48.89528, 2.312063], [48.83277, 2.31149], [48.888847, 2.304299], [48.884657, 2.317866], [48.87062, 2.35496], [48.858544, 2.244856], [48.873161, 2.331538], [48.860024, 2.324574], [49.073486, 2.570634], [48.840683, 2.280367], [48.86871, 2.348668], [48.84041, 2.304248], [48.82057199, 2.32413143], [48.769165, 2.461181], [48.875538, 2.356732], [48.82996868, 2.58132577], [48.881608, 2.336706], [48.94872, 2.335167], [48.873855, 2.296016], [48.9182, 2.448], [48.87440182, 2.30105639], [48.90564, 2.54895], [48.852241, 2.309256], [48.857792, 2.322425], [48.90536462, 2.3742578], [48.867052, 2.352974], [48.915275, 2.371344], [48.916677, 2.381813], [48.79385509, 2.48661], [48.7652, 2.35563], [48.75038291, 2.36751001], [48.87337, 2.22151], [48.81247295, 2.51394466], [48.87624713, 2.20113471], [48.896147, 2.517401], [48.81912, 2.25907], [48.933791, 2.576219], [48.82382, 2.27237], [48.94761, 2.33248], [48.90684649, 2.2447536], [48.953, 2.31266], [48.908612, 2.542545], [48.89710421, 2.24028379], [48.6264, 2.4154], [48.89539, 2.28204], [48.90417492, 2.30284005], [48.83954038, 2.24825835], [48.938489, 2.258477], [48.63296, 2.40372], [48.915078, 2.228028], [48.80161, 2.32387], [48.75884006, 2.32440976], [48.89999, 2.30614], [48.7111, 2.289], [48.93600687, 2.28843139], [48.798802, 1.995364], [48.822313, 2.380376], [48.844037, 2.414089], [48.88939539, 2.23745281], [48.84943, 2.395674], [48.81513791, 2.21468284], [48.90038, 2.321843], [48.860424, 2.285909], [48.86756, 2.48195], [48.864985, 2.299876], [48.95704497, 2.27629596], [48.820973, 2.329904], [48.82732384, 2.50906368], [48.829789, 2.349931], [48.850671, 2.394491], [48.867972, 2.302815], [48.864667, 2.329299], [48.856071, 2.350689], [48.847259, 2.364901], [48.750187, 2.463162], [48.836684, 2.532619], [48.80675282, 2.36313061], [48.508755, 2.345617], [48.81288693, 2.40270406], [48.76152, 2.35633], [48.76149181, 2.40755081], [48.9667485, 2.56497055], [48.91292, 2.36055], [48.94072, 2.43166], [48.833294, 2.633826], [48.86108431, 2.48980921], [48.89535974, 2.42556155], [48.8782, 2.7016], [48.93359, 2.54271], [48.37659, 2.73948], [48.88049, 2.54399], [48.89886275, 2.53782275], [48.91812, 2.47709], [48.95064455, 2.49167944], [48.91526101, 2.37299055], [48.91360146, 2.38558397], [48.82243822, 2.29457885], [48.85961947, 2.21362532], [48.90764105, 2.21075284], [48.81995064, 2.25725502], [48.922234, 2.236044], [48.249719, 2.626982], [48.81409182, 2.25780308], [48.895223, 2.940955], [48.84078, 2.22775], [49.098069, 2.137265], [48.91493269, 2.27504835], [48.65941, 2.1837], [48.71231, 2.18275], [48.57817, 2.46317], [48.74336, 2.18997], [48.7822504, 2.34645225], [48.94103503, 2.42624484], [48.778319, 2.222332], [48.91902717, 2.3575817], [48.97408, 2.48846], [49.06257, 2.27641], [48.9605, 2.54155], [48.93788866, 2.29766722], [48.93904651, 2.30613129], [48.94355783, 2.28738079], [48.977393, 2.233181], [48.96767474, 2.2528413], [48.75424369, 2.38104533], [49.05052, 2.19023], [48.79983715, 2.44627859], [48.81737894, 2.41732391], [48.405932, 3.240976], [48.681365, 2.342903], [48.431226, 2.165267], [48.97706697, 2.4979654], [48.886581, 2.397263], [48.52766, 2.6552], [49.00583106, 2.29498923], [48.882612, 2.283497], [48.820927, 2.321828], [48.71192, 2.51982], [48.870536, 2.413224], [48.68512, 2.34928], [48.852123, 2.415693], [48.884188, 2.368626], [48.878158, 2.409429], [48.888801, 2.346591], [48.92177, 2.08355], [48.877221, 2.297517], [48.906319, 2.152402], [48.875841, 2.273632], [48.839725, 2.272873], [48.841189, 2.31698], [48.879149, 2.709297], [48.822244, 2.330398], [48.862915, 2.371517], [48.86585, 2.319869], [48.873143, 2.297062], [48.872143, 2.321813], [48.80442852, 2.36889669], [48.757106, 2.388088], [48.78421, 2.45157], [48.95523, 2.3792], [48.90868585, 2.33270377], [48.8826612, 2.51694068], [48.906573, 2.53730616], [48.9067, 2.55613], [48.93575648, 2.46776038], [48.91498117, 2.40425223], [48.81443, 2.30337], [48.87658836, 2.24045187], [48.90556373, 2.23967671], [48.89478292, 2.28795379], [49.069601, 2.714149], [48.91802, 2.32037], [49.141444, 2.105149], [48.775399, 1.812658], [48.820273, 2.37556], [48.899154, 2.33624], [48.846706, 2.27303], [48.836517, 2.255977], [48.850193, 2.241918], [48.835125, 2.289045], [48.826635, 2.363609], [48.86507, 2.316626], [48.965477, 2.569238], [48.951681, 2.444334], [48.93317591, 2.36668535], [48.9014409, 2.41295159], [48.83546, 2.58287], [48.935331, 2.493141], [48.90707685, 2.38451734], [48.58613, 2.4519], [48.80251, 2.29133], [48.74223, 2.32217], [48.915771, 2.13184], [48.85954, 2.04954], [49.03547536, 2.09719777], [48.90986637, 2.35795605], [49.04645, 2.43915], [49.07500284, 2.55208716], [48.902549, 2.648334], [48.597727, 2.634812], [48.830943, 2.760928], [48.877298, 2.339391], [48.86472653, 2.30135679], [48.854378, 2.354947], [48.75140662, 2.49025512], [48.84182757, 2.50530674], [48.80300124, 2.33812465], [48.8015327, 2.33169539], [48.78600648, 2.34208567], [48.5971, 2.2477], [48.81167, 2.53662], [48.69746405, 2.55180967], [48.73289, 2.51379], [48.97111, 2.36623], [48.94532005, 2.3515474], [48.893675, 2.136555], [48.911113, 2.357767], [48.96486, 1.86641], [48.87690521, 2.4797853], [48.90857963, 2.54509131], [48.90697, 2.48706], [48.86529544, 2.22696796], [48.89003, 2.26034], [48.88595, 2.2157], [48.90567028, 2.23901464], [48.76902959, 2.25045741], [48.82924, 2.24018], [48.9111, 2.29863], [48.900495, 2.373846], [48.8444664, 2.44019866], [48.90086, 2.36433], [48.824299, 2.384666], [48.8533, 2.405917], [48.878976, 2.371287], [48.894839, 2.346342], [48.887308, 2.349563], [48.880709, 2.293457], [48.890115, 2.29852], [48.819735, 2.325727], [48.855752, 2.391328], [48.8549, 2.37302], [48.8658833, 2.376304], [48.858399, 2.311167], [48.76556031, 2.44151283], [48.82006064, 2.47950053], [48.80977, 2.36227], [48.74232231, 2.47500622], [48.78762199, 2.33013394], [48.7374, 2.4192], [48.904492, 2.32868], [48.9329346, 2.33572823], [48.83192929, 2.2381901], [48.92652976, 2.2724703], [48.74077166, 2.28162825], [48.634199, 2.726251], [49.18549, 2.064872], [48.676322, 2.49864], [48.789542, 1.608558], [48.61039, 2.44499], [48.62802, 2.48016], [48.7665676, 2.24478607], [48.68487, 2.18938], [48.83231571, 2.15438418], [48.83736624, 2.18864663], [48.95759, 2.27568], [49.13934056, 1.98479176], [48.95707, 2.46129], [48.92396263, 2.38567719], [48.9603, 2.48815], [48.93319851, 2.48961278], [49.02288, 2.45772], [48.733729, 2.285939], [48.697077, 2.306334], [48.4023, 2.9866], [48.619494, 2.543732], [48.64087, 2.19967], [48.52875, 2.51684], [48.96296, 2.89774], [48.63786, 2.39712], [48.93967, 2.92382], [48.84862148, 2.2283151], [48.86307, 2.67504], [48.3651, 2.6916], [48.83953087, 2.19743855], [48.86633, 2.42288], [48.83120837, 2.63960212], [48.963042, 2.451137], [48.9906016, 2.32130036], [48.70738, 2.31139], [48.66552, 2.51329], [48.63421, 2.4371], [48.798232, 2.064249], [48.97721, 1.88411], [48.334275, 2.786695], [48.8672, 2.80763], [48.844933, 2.41426], [48.898623, 2.378182], [48.89202, 2.359882], [48.894609, 2.344457], [48.899158, 2.329775], [48.857309, 2.273022], [48.581203, 2.964345], [48.681021, 1.982286], [48.74811, 2.32737], [48.76565, 2.22994], [48.93464218, 2.28152144], [48.78883, 2.068581], [48.93774911, 2.41208205], [48.98673234, 2.50466824], [48.97114, 2.24913], [48.95299, 2.47417], [48.93155, 2.36974], [48.96133, 2.52385], [48.947182, 2.628858], [48.83649423, 2.55041242], [48.97540034, 2.31731057], [48.995683, 2.32632], [49.03996, 2.07561], [48.729754, 2.242725], [48.68601, 2.34893], [48.92257, 2.08556], [48.984453, 2.11777], [48.95091, 2.89379], [48.71559, 2.31001], [48.66545, 2.51209], [48.7055, 2.39109], [48.533903, 2.67564], [48.84945, 2.76748], [48.85138118, 2.34318084], [48.866659, 2.397114], [48.858811, 2.328759], [48.82618, 2.357259], [48.831698, 2.397897], [48.859661, 2.388097], [48.87455, 2.358749], [48.873293, 2.358743], [48.881492, 2.370056], [48.870877, 2.346733], [48.864446, 2.342645], [48.862302, 2.363691], [48.85852, 2.348224], [48.73532064, 2.4517065], [48.872376, 2.412504], [48.856033, 2.332494], [48.849599, 2.356125], [48.900477, 2.330193], [48.897763, 2.333826], [48.887348, 2.350486], [48.90094134, 2.37030566], [48.884035, 2.322454], [48.867945, 2.23427], [48.87166156, 2.29539424], [48.82998398, 2.30559736], [48.836148, 2.297247], [48.822081, 2.325438], [48.87633534, 2.35598266], [48.879338, 2.32551], [48.873999, 2.297312], [48.857599, 2.368034], [48.78159492, 2.40273088], [48.75700759, 2.44380677], [48.78607, 2.32914], [48.776281, 2.339965], [48.94972226, 2.36533231], [48.87103, 2.48657], [48.92392916, 2.48616904], [48.82134756, 2.30450624], [48.895617, 2.277542], [48.931051, 2.306622], [48.80036, 2.31815], [48.91790071, 2.27911323], [48.92328856, 2.27588037], [48.916504, 2.289309], [48.90845, 2.29295], [48.78275, 2.31586], [48.76170971, 2.31572551], [48.778056, 2.213416], [48.96133067, 2.2686043], [48.93503675, 2.40334511], [48.91529, 2.35797], [48.98062982, 2.2409411], [48.692762, 2.595246], [48.728054, 2.24538], [48.70607, 2.41846], [48.85824, 2.274849], [48.841421, 2.337499], [48.831799, 2.314118], [48.85278, 2.370669], [48.847349, 2.386798], [48.878856, 2.362348], [48.871067, 2.331951], [48.875144, 2.322954], [48.802804, 1.815839], [48.838043, 1.678317], [48.80389457, 2.3420366], [48.905074, 2.005316], [48.897474, 2.006129], [48.89044962, 2.17238729], [48.850213, 2.069036], [48.844822, 2.088042], [48.860845, 2.046942], [48.91936344, 2.35754643], [48.97402708, 2.24421501], [48.89375409, 2.47211909], [48.98390662, 2.50297308], [48.88833, 2.47219], [48.95778, 2.2741], [48.81737044, 2.42861395], [48.879421, 2.090204], [49.03814, 2.467804], [49.02371, 2.46534], [48.9904473, 2.43018329], [48.96468, 2.32075], [49.03556, 2.08163], [48.74476, 2.25832], [48.68389, 2.48958], [48.69757, 2.45487], [48.678691, 2.495793], [48.68063, 2.37986], [48.68877, 2.37103], [48.46914, 2.19515], [48.86462, 2.79132], [48.844085, 2.254681], [48.890551, 2.334289], [48.88861164, 2.31565833], [48.886716, 2.308657], [48.841096, 2.287903], [48.836363, 2.371338], [48.84321, 2.370305], [48.849514, 2.365626], [48.86622, 2.352533], [48.78718, 2.39106], [48.84567618, 2.42687291], [48.833886, 2.518577], [48.81144, 2.35128], [48.76894, 2.42082], [48.87567, 2.45906], [48.8900071, 2.54558101], [48.88202979, 2.20481819], [48.93431, 2.25594], [48.93654616, 2.25714684], [48.92106, 2.2786], [48.78313, 2.31507], [48.63077, 2.48777], [48.81213557, 2.21352626], [48.93788866, 2.29766722], [48.87238, 2.43436], [48.90861, 2.44966], [48.9336534, 2.38109544], [48.8708613, 2.43145626], [48.82640425, 2.61687495], [48.86331391, 2.4666761], [48.885193, 2.287302], [48.828471, 2.397418], [48.828768, 2.398716], [48.885193, 2.287302], [48.869209, 2.391907], [48.859835, 2.303019], [48.862875, 2.399867], [48.87958, 2.38951], [48.898697, 2.359013], [48.891185, 2.351622], [48.66545, 1.838244], [48.870334, 2.29787], [48.874125, 2.291264], [48.801951, 2.612512], [48.95821, 2.87259], [48.858175, 2.27261], [48.84309, 2.80208], [48.823536, 2.319439], [48.824688, 2.325963], [48.829219, 2.317295], [48.827058, 2.374241], [48.819483, 2.344611], [48.818873, 2.359556], [48.884257, 2.358378], [48.873527, 2.33304], [48.875661, 2.319628], [48.85403, 2.361123], [48.854305, 2.355933], [48.864442, 2.351544], [48.79978141, 2.41355628], [48.74149, 2.468554], [48.824674, 2.470042], [48.78604416, 2.35747813], [48.77491265, 2.4424307], [48.78396, 2.47183], [48.73288225, 2.42467064], [48.84142, 2.50453], [48.72775, 2.54967], [48.96383591, 2.38052595], [48.96556, 2.36311], [48.94111225, 2.36158389], [48.89466941, 2.42113088], [48.89512628, 2.39974213], [48.89074245, 2.40065083], [48.89316, 2.4443], [48.85857831, 2.42996496], [48.215265, 2.922259], [48.8873, 2.53343], [48.89576787, 2.50012323], [48.89008457, 2.46023101], [48.92918, 2.47928], [48.9277864, 2.48325801], [48.92968282, 2.4906025], [48.90526344, 2.37259707], [48.88013564, 2.2508736], [48.89029, 2.26076], [48.88868, 2.22206], [48.81317, 2.31964], [48.800736, 2.288102], [48.82818, 2.2675], [48.9146, 2.22866], [48.76588, 2.25064], [48.83242546, 2.23942727], [49.019726, 1.577688], [48.900488, 2.322065], [48.882612, 2.283497], [48.66198, 2.36964], [48.900646, 2.331722], [48.70729, 2.30669], [48.900891, 2.388337], [48.74893, 2.21903], [48.887413, 2.349562], [48.90807693, 2.21348528], [48.884137, 2.353487], [48.76284698, 2.30411982], [48.884601, 2.296837], [48.9496723, 2.2802208], [48.89249355, 2.23689035], [48.865087, 2.234526], [48.93576409, 2.28722247], [48.90132, 2.46915], [48.95201228, 2.27957378], [48.862421, 2.293694], [48.797254, 2.017559], [48.86316083, 2.26858556], [48.90807879, 2.47333735], [48.99359806, 2.51450136], [48.497594, 2.994992], [48.841334, 2.343671], [48.82651871, 2.52107045], [48.825291, 2.463879], [48.823026, 2.325575], [48.83059272, 2.63216178], [48.76785011, 2.37867726], [48.833722, 2.331864], [48.865153, 2.413215], [48.839952, 2.351406], [48.816639, 2.341668], [48.870698, 2.356473], [48.881047, 2.314215], [48.898986, 2.317292], [48.876112, 2.323656], [48.944014, 2.13642], [48.8535583, 2.334211], [48.854483, 2.305797], [48.866644, 2.337369], [48.85715, 2.33863], [48.863404, 2.35095], [48.878982, 2.371316], [48.79004146, 2.51212089], [48.819473, 2.363779], [48.80212, 2.48009], [48.845398, 2.366878], [48.80104, 2.36515], [48.81653, 2.37451], [48.831754, 2.397785], [48.81134, 2.40317], [48.831754, 2.397785], [48.77277284, 2.33945797], [48.99139536, 2.43841231], [48.7953, 2.4474], [48.870683, 2.33231], [48.962808, 2.323201], [48.875523, 2.326634], [48.77754, 2.47843], [48.9903, 2.29634], [48.77035792, 2.40171379], [48.873055, 2.323581], [48.856401, 2.356131], [48.71991, 2.5662], [48.75098531, 2.44640339], [48.98567, 2.52141], [48.65543, 2.33852], [48.74947776, 2.48112188], [48.93349, 2.37098], [48.75406917, 2.44862455], [48.89254401, 2.40986114], [48.8378, 2.56838], [48.79276421, 2.3693663], [48.91785, 2.52896], [48.88339, 2.4164], [48.73288994, 2.40599151], [48.87669755, 2.55195558], [48.82331, 2.40658], [48.90856087, 2.54341757], [48.82403179, 2.42070136], [48.860419, 2.213246], [48.82312, 2.20957], [48.799894, 2.426933], [48.80870951, 2.19723478], [48.843, 2.739], [48.93567, 2.34291], [48.852481, 2.216254], [48.87592, 2.16998], [48.925901, 2.376961], [48.808257, 2.293199], [48.90192442, 2.52146277], [48.936788, 2.304033], [48.86582, 2.52287], [48.78285097, 2.24506885], [48.905, 2.47597], [48.827254, 2.233889], [48.74973, 2.30881], [48.91736, 2.39567], [48.74427, 2.29161], [48.91138683, 2.40043759], [48.88015172, 2.18120322], [48.85951315, 2.18204141], [48.88334872, 2.24278003], [48.88294163, 2.27559471], [48.890812, 2.21579343], [48.82954491, 2.25127602], [48.8375843, 2.24795978], [48.83847692, 2.23769903], [48.863857, 3.156971], [48.896045, 2.380579], [48.893961, 2.321421], [48.89288, 2.316339], [48.864955, 2.295909], [48.864624, 2.372336], [48.85745, 2.291115], [48.825015, 2.302158], [48.75553, 2.32773], [48.96583, 2.3637], [48.96276478, 2.38445835], [48.90804056, 2.3441568], [48.92972, 2.35658], [48.90580163, 2.46518016], [48.86972651, 2.53906819], [48.9325762, 2.32541262], [48.89031779, 2.21774966], [48.9303098, 2.29350463], [49.151114, 1.884686], [49.11687288, 2.21000375], [48.559554, 2.152044], [48.68705, 2.34764], [48.71626, 2.37128], [48.73183, 2.31547], [48.73051377, 2.30845499], [48.6257, 2.26229], [48.70978, 2.30484], [48.6425, 2.3931], [48.93484397, 2.26726483], [48.797992, 2.008784], [48.83936013, 2.21689418], [48.897541, 2.006053], [48.81513791, 2.21468284], [48.90003871, 2.21071229], [49.04733, 2.46888], [48.845101, 2.086656], [48.93835245, 2.31353259], [48.93877, 2.41647], [48.99136, 2.51183], [49.02922, 2.53342], [48.75368062, 2.3685413], [48.9619319, 2.61610299], [48.83020089, 2.495767], [48.79871719, 2.44499982], [48.82968442, 2.71123662], [48.851873, 2.414958], [48.878026, 2.370693], [48.557104, 1.904191], [48.882737, 2.370306], [48.65386277, 2.61594443], [48.9238663, 2.22972613], [48.884029, 2.368837], [48.788888, 2.068636], [48.898732, 2.370327], [48.833638, 2.135095], [48.94589035, 2.28373638], [48.85747, 2.291013], [48.840415, 2.304249], [48.823005, 2.326634], [48.858544, 2.373128], [48.832059, 2.398795], [48.67858, 2.33562], [48.84565965, 2.36730695], [48.75552034, 2.34097827], [48.681, 2.331], [48.908391, 2.005267], [48.857114, 2.368853], [48.42433, 2.13731], [48.8382291, 2.19103797], [49.03421791, 2.10199934], [48.8822, 2.337684], [48.91899344, 2.357294], [48.7849558, 2.44038353], [48.77671436, 2.61351557], [48.862819, 2.264975], [48.79125458, 2.69160748], [48.853789, 2.312742], [48.890245, 2.298465], [48.878465, 2.402895], [48.8755, 2.392093], [48.862867, 2.313472], [48.895471, 2.349577], [48.743421, 2.476949], [48.72460439, 2.44503012], [48.881147, 2.283996], [48.77120539, 2.4400152], [48.866669, 2.264905], [48.80129, 2.35582], [48.85781774, 2.47221069], [48.82555, 2.53521], [48.86846, 2.4684], [48.83677, 2.29818], [48.872012, 2.418662], [48.95424761, 2.33487958], [48.849825, 2.323295], [48.90189459, 2.4850747], [48.83522, 2.17019], [48.865465, 2.356192], [48.83386849, 2.49261895], [48.90848268, 2.21352249], [48.79877, 2.280196], [48.75507237, 2.32288192], [48.89333, 2.29048], [48.926413, 2.243778], [48.74522536, 2.3881115], [48.85055833, 2.22674444], [48.84162, 2.24707], [48.84638958, 2.24724591], [48.74888, 2.40662], [48.9157912, 2.29473978], [48.90611, 2.34306], [48.74036601, 2.31129259], [48.89150087, 2.39864685], [48.94858855, 2.38016424], [48.90564223, 2.39398869], [48.80766, 2.18941], [48.78570839, 2.2290431], [48.91259, 2.27394], [48.820558, 2.365893], [48.874308, 2.358612], [48.864727, 2.301716], [48.865148, 2.299851], [48.861075, 2.349647], [48.853982, 2.364784], [48.81642397, 2.33956298], [48.75461, 2.41028], [48.967342, 2.551668], [48.84125, 2.5599], [48.86950019, 2.46376484], [48.91524, 2.53512], [48.91081887, 2.51372606], [48.91845845, 2.52577507], [48.92794194, 2.43189674], [48.85901375, 2.21170172], [48.85234788, 2.19611764], [48.88851299, 2.22431409], [48.91730513, 2.30750799], [48.90362672, 2.25759959], [48.92862919, 2.25159734], [48.840077, 2.082703], [48.518951, 2.504598], [48.92303386, 2.25430727], [48.83447, 2.2421], [48.797, 2.31737], [48.575049, 2.111086], [48.91624814, 2.28236273], [48.91562, 2.30787], [48.455171, 2.522489], [48.91352, 2.29914], [48.77987, 2.3135], [48.928118, 1.569725], [49.12238, 2.244473], [49.10731497, 2.23691983], [48.71333, 2.28941], [48.91987444, 2.30667989], [48.872598, 2.025976], [48.79379358, 2.21880725], [48.75993188, 2.26284379], [48.92193, 2.36188], [48.8993, 2.0055], [48.83620546, 2.5559632], [48.887648, 2.011535], [48.977002, 1.715643], [49.036351, 2.09396878], [48.830795, 2.329388], [48.865429, 2.394894], [48.89162, 2.4733], [48.886641, 2.38482], [48.77572926, 2.41366314], [48.861972, 2.230384], [48.850462, 2.383078], [49.08599527, 2.5496757], [48.928421, 2.728429], [48.319748, 2.654188], [48.557097, 1.904229], [48.78543196, 2.34573083], [48.567, 2.472], [48.93480505, 2.28150149], [49.028852, 2.127219], [48.8303, 2.63104], [48.81374522, 2.39538833], [48.97174, 2.30509], [48.67571, 2.33591], [48.43077, 2.16458], [48.908849, 2.042982], [48.876704, 2.116542], [48.95304, 2.88534], [48.857398, 2.755314], [48.82265581, 3.13701779], [48.839637, 2.254165], [48.816833, 2.364982], [48.831429, 2.403851], [48.830927, 2.402991], [48.873042, 2.297003], [48.824286, 2.321071], [48.84024134, 2.35922849], [48.850361, 2.327739], [48.847389, 2.353126], [48.879765, 2.408362], [48.874914, 2.271098], [48.841033, 2.317135], [48.822253, 2.324494], [48.833968, 2.364709], [48.834161, 2.344843], [48.822264, 2.371655], [48.862587, 2.413767], [48.825949, 2.345231], [48.868742, 2.413252], [48.859248, 2.367574], [48.893941, 2.394657], [48.850376, 2.392547], [48.878327, 2.37062], [48.877746, 2.365361], [48.884627, 2.379035], [48.8622, 2.320533], [48.894203, 2.336777], [48.851274, 2.358113], [48.884468, 2.319506], [48.78427634, 2.36722098], [48.7918, 2.40168], [48.871087, 2.303511], [48.76213, 2.35141], [48.846738, 2.265526], [48.872427, 2.294055], [48.85482, 2.46757], [48.72310628, 2.5688834], [48.834981, 2.265825], [48.94943, 2.53017], [48.82152, 2.332861], [48.9045, 2.32873], [48.93224, 2.365192], [48.836617, 2.325854], [48.93523, 2.57251], [48.822957, 2.3778], [48.90993809, 2.39880291], [48.874354, 2.322747], [48.88305, 2.18061], [48.88296915, 2.26628906], [48.874572, 2.309649], [48.89150154, 2.17751294], [48.851051, 2.362271], [48.92763414, 2.30234212], [48.8647, 2.329329], [48.90227914, 2.23975025], [48.871696, 2.341618], [48.91275505, 2.31282368], [48.72716, 2.45022], [48.83909704, 2.24681541], [48.80433, 2.43269], [48.82856994, 2.25416109], [48.73283, 2.42992], [48.80622687, 2.41854867], [48.95267, 2.56344], [49.00365, 2.56369], [48.87698709, 2.52490403], [49.07001424, 2.48999119], [48.71073, 2.28825], [48.7421, 2.3221], [48.919419, 2.00395], [49.05139836, 2.15157688], [48.76009108, 2.61582478], [48.7964005, 2.44337608], [48.75904856, 2.61567284], [48.99962, 2.2921], [48.98351936, 2.31211245], [48.69972, 2.31978], [48.684682, 2.415642], [48.68759, 2.43318], [48.90157, 2.11435], [48.862587, 2.413767], [48.847408, 2.328138], [48.843047, 2.326375], [48.891324, 2.37231], [48.847719, 2.272587], [48.847054, 2.29594], [48.83835, 2.322353], [48.816618, 2.336369], [48.850412, 2.387305], [48.877208, 2.323033], [48.804411, 2.329196], [48.74787, 2.36933], [48.749075, 2.47373], [48.80668525, 2.47885457], [48.795627, 2.483956], [48.7825405, 2.49447593], [48.79238506, 2.46007396], [48.76767688, 2.46805657], [48.8188, 2.49006], [48.76296317, 2.53535195], [48.95002, 2.386], [48.929364, 2.510976], [48.89718, 2.523], [48.86366205, 2.44931476], [48.91829, 2.5286], [48.86829, 2.55705], [48.93641126, 2.4510816], [48.9555, 2.41613], [48.89435, 2.484377], [48.90862111, 2.45095432], [48.94412072, 2.46751426], [48.95186775, 2.5011443], [48.80862581, 2.18759045], [48.87238694, 2.20261194], [48.90018787, 2.21437722], [48.80988468, 2.30171889], [48.80252151, 2.23732844], [48.90449697, 2.23917246], [48.91881669, 2.22329155], [48.78519913, 2.30160736], [48.83331, 2.24245], [48.92182, 2.27763], [48.90759927, 2.29213625], [48.78431731, 2.34694866], [48.732, 2.315], [48.738072, 2.318888], [48.93542176, 2.2605831], [48.778416, 2.222341], [48.92276318, 2.22752047], [48.93664875, 2.29983248], [48.841322, 2.101393], [48.92457, 2.39043], [48.9889759, 2.24363565], [48.8271602, 2.51033987], [48.761553, 2.615913], [48.86125511, 2.48383625], [49.05475226, 2.04076007], [48.663726, 2.399829], [48.659375, 2.372778], [48.865961, 2.353801], [48.856457, 2.364314], [48.862718, 2.335279], [48.802406, 2.129591], [48.79314, 2.48261], [48.78961, 2.43541], [48.81625562, 2.36780316], [48.81512, 2.3938], [48.8397, 2.5501], [48.97974, 2.86375], [48.85302, 2.5333], [48.8586, 2.42912], [48.88278, 2.44001], [48.91722952, 2.38198418], [48.82610037, 2.29000367], [48.84206118, 2.20425814], [48.85691, 2.20974], [48.87886, 2.1814], [48.90398603, 2.26941347], [48.90177, 2.30725], [48.8076764, 2.32614362], [48.74409, 2.29741], [48.73503862, 2.3093074], [48.734422, 2.231471], [48.57808, 2.46353], [49.02618996, 2.53691107], [48.882773, 2.667901], [48.82583445, 2.38728136], [48.880114, 2.313291], [48.898584, 2.384719], [48.878619, 2.280045], [48.85495163, 2.22618252], [48.841858, 2.319899], [48.830009, 2.365732], [48.861584, 2.382581], [48.865641, 2.377335], [48.870101, 2.351007], [48.874056, 2.347282], [48.852067, 2.365418], [48.860577, 2.34941], [48.7840878, 2.32828751], [48.95298, 2.35819], [48.95247, 2.33773], [48.92517, 2.44131], [48.956911, 2.498487], [48.89015692, 2.25623773], [48.79462, 2.29147], [48.90012322, 2.39180088], [48.878454, 2.28099], [48.900468, 2.387516], [48.872387, 2.378122], [48.858686, 2.414764], [48.8782797, 2.29570475], [48.85838, 2.274986], [48.81675265, 2.33369699], [48.83893357, 2.37006676], [48.846746, 2.415865], [48.856943, 2.353808], [48.8627217, 2.33524686], [48.865816, 2.36088], [48.752827, 2.223241], [48.86453537, 2.33488539], [48.83949368, 2.20466483], [48.94647077, 2.28241919], [48.85464296, 2.36276481], [49.06835027, 2.39100677], [48.855272, 2.361165], [48.7766716, 2.41970908], [48.861983, 2.350163], [48.81731094, 2.44243718], [48.96143, 2.617861], [48.993543, 1.91251], [48.861032, 2.366698], [48.812293, 2.383268], [48.849291, 2.495844], [48.806979, 2.375284], [48.80965, 2.36046], [48.75308, 2.35015], [48.73314, 2.42341], [48.985362, 2.426545], [48.79878, 2.55774], [48.98134831, 2.46753037], [48.99439, 2.25013], [48.81888131, 2.52029078], [49.01857394, 2.09636092], [48.9762794, 2.51292676], [48.698373, 2.290612], [48.95448094, 2.38369671], [48.9515065, 2.35798652], [48.902905, 2.330836], [48.91574, 2.33106], [48.93245, 2.34301], [48.94305, 2.38187], [48.90053, 2.41088], [48.95389, 2.31105], [48.91830831, 2.40786141], [48.87868294, 2.18651265], [48.88139615, 2.26205885], [48.89829942, 2.29436228], [48.89830743, 2.29430942], [48.93681162, 2.30386823], [48.88829207, 2.25372684], [48.684947, 2.222205], [49.132735, 2.391447], [48.553575, 1.931319], [49.008111, 2.769874], [49.022913, 3.046689], [48.662723, 1.868615], [48.60869, 2.43759], [48.65941, 2.37388], [48.847598, 2.253689], [49.05400463, 2.20008731], [48.98015842, 2.49808344], [48.92294104, 2.42735624], [48.93801, 2.41316], [48.95675, 2.27453], [48.95667, 2.27456], [48.7766716, 2.41970908], [48.83627877, 2.55459225], [48.656634, 2.353913], [48.700204, 2.325646], [48.877387, 2.411519], [48.878137, 2.409436], [48.893059, 2.327493], [48.872348, 2.242614], [48.816453, 2.360361], [48.833205, 2.354385], [48.830339, 2.347016], [48.857786, 2.380149], [48.871773, 2.371976], [48.870029, 2.350662], [48.82005, 2.48064], [48.78606, 2.32751], [48.84398, 2.46437], [48.75458, 2.41032], [48.81237, 2.48897], [48.87727, 2.52397], [48.92703279, 2.43837974], [48.90855, 2.54513], [48.896248, 2.459143], [48.91165, 2.46487], [48.93709579, 2.47437832], [48.87107136, 2.18384993], [48.88881328, 2.2740975], [48.80720409, 2.28532768], [48.81881094, 2.24370785], [48.90322697, 2.28396052], [48.610654, 3.143238], [48.9849, 2.21555], [48.9245, 2.35715], [49.06135043, 2.55175173], [48.884402, 2.329459], [48.97755, 2.43397], [48.635253, 2.285632], [48.70017, 2.43757], [48.708037, 2.365716], [48.90071, 2.08048], [48.9774, 1.96929], [48.99713, 2.09395], [48.870597, 2.272352], [48.874364, 2.275955], [48.901041, 2.350764], [48.857246, 2.258489], [48.86566345, 2.2682333], [48.822561, 2.314169], [48.839538, 2.347935], [48.862488, 2.406463], [48.873717, 2.38955], [48.865279, 2.40838], [48.85294, 2.40746], [48.878351, 2.38813], [48.885012, 2.383284], [48.863273, 2.296351], [48.849413, 2.242018], [48.84656, 2.286002], [48.851107, 2.351301], [48.840746, 2.316099], [48.837841, 2.31911], [48.875221, 2.370322], [48.873181, 2.35884], [48.883347, 2.369154], [48.86914219, 2.36434579], [48.874284, 2.332699], [48.859956, 2.314839], [48.861058, 2.313241], [48.849517, 2.365629], [48.83854, 2.521447], [48.78634059, 2.3375355], [48.76704427, 2.36296029], [48.84337951, 2.4677023], [48.74468, 2.40709], [48.76880625, 2.42072448], [48.94974461, 2.57310334], [48.9525, 2.3657], [48.93198, 2.53815], [48.93242696, 2.32203879], [48.91817641, 2.35523005], [48.83020089, 2.495767], [48.87688076, 2.46816553], [48.85838, 2.43431], [48.81086274, 2.4489179], [48.93166538, 2.50145763], [48.95294488, 2.49510903], [48.86977516, 2.22425133], [48.83515238, 2.57609455], [48.832122, 2.222405], [48.88050552, 2.24505024], [49.0764, 2.07553], [48.806986, 2.293619], [48.81430518, 2.2348693], [48.91937, 2.32169], [48.90533, 2.23473], [48.88737609, 2.23266274], [48.89735689, 2.26390779], [48.91575, 2.23242], [48.778711, 2.228911], [48.79204572, 2.2843878], [48.93212, 2.27465], [48.9159, 2.29138], [48.78779593, 2.31870264], [48.75581, 2.30148], [48.98603, 2.41086], [49.01576, 2.3127], [48.616664, 2.458723], [48.851664, 2.778207], [48.385261, 2.720966], [48.442535, 2.646571], [48.655577, 3.149393], [48.76529187, 2.45926654], [48.86260913, 2.41406322], [48.864856, 2.318313], [48.88245, 2.311846], [48.841377, 2.268888], [48.849155, 2.298149], [48.819898, 2.365086], [48.866779, 2.366827], [48.7419, 2.69185], [48.872904, 2.36373], [48.868019, 2.304711], [48.86125, 2.32054], [48.814053, 2.464715], [48.80665264, 2.39236549], [48.73665, 2.44934], [48.748812, 2.51285], [48.892666, 2.395321], [48.891843, 2.39578], [48.9420493, 2.36544286], [48.86831178, 2.41347313], [48.90839, 2.39725], [48.833191, 2.406946], [48.88183006, 2.18578398], [48.90005, 2.320884], [48.89227883, 2.26881891], [48.88552438, 2.19618738], [48.870483, 2.272529], [48.79638113, 2.2784999], [48.76161, 2.28824], [48.819417, 2.328291], [48.895385, 2.394802], [48.84684, 2.360949], [48.879647, 2.39958], [48.878999, 2.302423], [48.85783, 2.250242], [48.863204, 2.296176], [48.867664, 2.250899], [48.874934, 2.271101], [48.98859, 2.45876], [48.869765, 2.292103], [49.041905, 2.467657], [48.962981, 2.33417094], [48.832105, 2.293429], [48.821752, 2.317932], [48.826533, 2.319967], [48.821563, 2.369393], [48.858466, 2.3894], [48.847388, 2.318199], [48.88851, 2.68458], [48.74064, 3.109217], [48.855076, 2.306714], [48.83913, 2.72143], [48.856275, 2.292926], [48.857304, 2.349907], [48.749147, 2.474742], [48.82149, 2.39386], [48.76146084, 2.40325543], [48.77385548, 2.39921638], [48.7779, 2.4659], [48.81715428, 2.49708071], [48.84186, 2.56819], [48.92406, 2.53909], [48.894958, 2.542815], [48.92472, 2.40106], [48.93625749, 2.46593031], [48.947623, 2.491649], [48.927766, 2.488163], [48.84359072, 2.17530392], [48.88296914, 2.27547669], [48.89513954, 2.17426993], [48.92877851, 2.29966201], [48.93378396, 2.31337166], [48.93228, 2.30456], [48.90552923, 2.25572544], [48.90222382, 2.23949321], [48.78310676, 2.31518322], [48.488795, 2.512779], [48.900728, 2.362969], [48.849347, 2.35602], [48.849052, 2.338881], [48.871163, 2.288871], [48.846185, 2.295788], [48.827738, 2.305503], [48.76697, 2.40476], [49.00406561, 2.57118165], [48.9522, 2.38187], [48.86922, 2.46274], [48.90607791, 2.30141982], [48.79003666, 2.34385393], [48.8708613, 2.43145626], [48.97399752, 2.48805982], [49.03691139, 2.09293842], [48.93668671, 2.318106], [48.48706, 3.212385], [48.87614, 2.358289], [48.965716, 2.607385], [48.851831, 2.356554], [48.849504, 2.365642], [48.854155, 2.354715], [49.09992236, 2.54329205], [48.78323, 2.40754], [48.81806242, 2.39792114], [48.76269, 2.3182], [48.818948, 2.539302], [48.93579, 2.340828], [48.87450317, 2.44878253], [48.89964, 2.48239], [48.95154, 2.48195], [48.977795, 2.369982], [49.01179, 2.30491], [48.97522428, 2.3370114], [48.644437, 2.281402], [48.72921, 2.27775], [48.687107, 2.399638], [48.71137, 2.35905], [48.43185, 2.15485], [48.44094, 2.1504], [48.89681, 2.10697], [48.96807, 1.85784], [48.96998, 1.83253], [49.04558887, 2.44667782], [48.85062, 2.65795], [48.85806851, 2.48816509], [48.8239729, 2.39430684], [48.888198, 2.292365], [48.71434, 2.27235], [48.872532, 2.378555], [48.62303, 2.2698], [48.857097, 2.273476], [48.960773, 1.930545], [48.859428, 2.229364], [48.83978582, 2.2193934], [48.876696, 2.273272], [48.97726, 2.47194], [48.83598, 2.27826], [48.90441, 2.35824], [48.824903, 2.318393], [48.834808, 2.405641], [48.99132307, 2.19141748], [48.79213, 2.39352], [48.94920532, 2.28069842], [48.80108, 2.36525], [48.96358, 2.52151], [48.81231, 2.37075], [49.07307, 2.23774], [49.06147, 2.36001], [48.73159, 2.40602], [48.83080044, 2.69269565], [48.82928864, 2.52841632], [48.87626, 2.4561], [48.86022718, 2.22458303], [48.84665, 2.22353], [48.71931, 2.868912], [48.573349, 2.030416], [48.86359, 2.52636], [48.857681, 2.500791], [48.94813, 2.33156], [48.90331314, 2.55091247], [48.84023127, 2.19265267], [48.88646, 2.16904], [48.90040439, 2.26077855], [48.8341626, 2.24258512], [48.77951057, 2.31537625], [48.72904, 2.30632], [48.7385, 2.319127], [48.969395, 1.736783], [48.93699329, 2.29326176], [48.96418169, 2.26854107], [48.71718, 2.29495], [48.706029, 2.423318], [48.80274, 3.09604], [48.822726, 3.137247], [48.75477, 2.38486], [48.731096, 2.513784], [48.96082, 2.55631], [48.944391, 2.3422], [48.8433972, 2.54818732], [48.92150284, 2.55914927], [48.91936043, 2.312745], [48.90439266, 2.25593716], [48.842328, 2.254192], [48.91459182, 2.22899258], [48.79253215, 2.31556356], [48.882809, 2.400819], [48.9289, 2.27947], [48.76238504, 2.30856255], [48.898951, 2.386599], [48.889652, 2.38261], [48.89126, 2.347349], [48.844041, 2.265746], [48.839003, 2.460284], [48.79742, 2.32974], [48.80961, 2.37838], [48.75908, 2.50302], [48.83868, 2.54318], [48.92591295, 2.48473728], [48.82359314, 2.3083654], [48.88626849, 2.21189708], [48.92046221, 2.22076714], [48.76438763, 2.30923623], [49.0734442, 2.24219799], [48.71369, 2.27794], [48.69792, 2.19208], [48.9783, 1.7099], [48.89347708, 2.1888457], [48.95969, 2.27195], [48.95201228, 2.27957378], [48.95627, 2.27727], [49.05184373, 2.54811147], [48.92747504, 2.33356513], [48.82728643, 2.46925563], [48.82671118, 2.52258828], [48.6926, 2.45003], [48.709492, 2.366017], [48.72141, 2.31138], [48.76020129, 2.32061692], [48.77530463, 2.3457025], [48.69892, 2.31295], [49.070807, 2.918978], [48.269069, 2.607236], [48.591586, 2.207603], [48.702631, 2.253635], [49.036978, 1.5784], [49.036004, 1.460313], [48.891371, 2.300476], [48.840355, 2.314891], [48.842496, 2.33821], [48.853751, 2.344301], [48.890885, 2.353221], [48.832763, 2.278722], [48.8344, 2.383761], [48.8451, 2.36724], [48.818678, 2.446058], [48.873223, 2.331137], [48.868554, 2.309294], [48.854534, 2.309606], [48.864426, 2.351526], [48.852355, 2.360508], [48.834336, 2.513948], [48.79465, 2.53341], [48.922523, 2.347295], [48.91535, 2.52915], [48.96419, 2.34734], [48.88807343, 2.23421931], [48.90043237, 2.27471709], [48.71589, 2.2667], [48.62847, 2.41281], [48.81567897, 2.33682579], [48.77124963, 2.34563824], [48.81739194, 2.41475247], [48.85463125, 2.6634471], [48.86092646, 2.540683], [49.03105388, 2.47515857], [49.06003228, 2.16815293], [48.944267, 3.114478], [49.06260528, 1.91619158], [48.90060751, 2.36687779], [48.862819, 2.264975], [48.899586, 2.392595], [49.07119273, 2.22280025], [48.875449, 2.397954], [48.884704, 2.325771], [48.885842, 2.302529], [48.896659, 2.309619], [48.820121, 2.348039], [48.82657491, 2.3571454], [48.850666, 2.394498], [48.873764, 2.358289], [48.8690528, 2.30987012], [48.79629, 2.50661], [48.80827189, 2.35714942], [48.81830495, 2.39365749], [48.728309, 2.43433], [48.81098943, 2.38368425], [48.81192, 2.51714], [48.774416, 2.510941], [48.7342759, 2.52037257], [48.88290332, 2.47973091], [48.909417, 2.550051], [48.90768, 2.44897], [48.943646, 2.459186], [48.874928, 2.231049], [48.8967, 2.19589], [48.81796, 2.32256], [48.918524, 2.252673], [48.697185, 3.292288], [48.537011, 3.070679], [48.593278, 2.19165], [48.720131, 2.843474], [48.96427076, 2.26827495], [48.879051, 2.865897], [48.917666, 1.851076], [49.02483, 1.521505], [48.97267257, 2.31003106], [48.70135, 2.49281], [48.92886, 2.04899], [48.62659, 2.35033], [48.7874735, 2.34578361], [48.87629, 2.67942], [48.8128373, 2.3365056], [48.83328451, 2.15990414], [48.96379, 1.92628], [48.93510157, 2.26605905], [48.782949, 2.22321], [48.82338063, 2.22201913], [48.893277, 2.00815], [48.90207598, 2.47041227], [48.95699411, 2.46113992], [48.97502005, 2.4898839], [48.96808, 2.50926], [48.93876737, 2.30748313], [48.92188, 2.36001], [48.83297415, 2.53364925], [48.83281718, 2.53379035], [48.83636, 2.5513], [48.81720461, 2.42851783], [48.71036, 2.49931], [48.71155, 2.35915], [48.613148, 2.48337], [48.90153, 2.13157], [48.970302, 2.032218], [49.006385, 2.118224], [49.005077, 2.09355], [48.825036, 2.303549], [48.883104, 2.386672], [48.886714, 2.346603], [48.837739, 2.280272], [48.860978, 2.374788], [48.879744, 2.358725], [48.864464, 2.318964], [48.861228, 2.34968], [48.86007283, 2.3490867], [48.82010237, 2.47845112], [48.80797, 2.4735], [48.79115, 2.496567], [48.792767, 2.369257], [48.77166, 2.45974], [48.74513211, 2.38863355], [48.820665, 2.402338], [48.948513, 2.386322], [48.901479, 2.327944], [48.934418, 2.34929], [48.938699, 2.358473], [48.88665159, 2.50891417], [48.864002, 2.381203], [48.832185, 2.37734], [48.89555037, 2.40055829], [48.854756, 2.397494], [48.876908, 2.423414], [48.870001, 2.394461], [48.880352, 2.2868], [48.922086, 2.455942], [48.893967, 2.321427], [48.909654, 2.45155], [48.858875, 2.276404], [48.93783722, 2.32428914], [48.846609, 2.274136], [48.877027, 2.283396], [48.854132, 2.222605], [48.83836, 2.27033], [48.841647, 2.308434], [48.838016, 2.146215], [48.850826, 2.283713], [48.88903, 2.2631], [48.842925, 2.384407], [48.846351, 2.38772], [48.88234, 2.25322], [48.860689, 2.367389], [48.82683525, 2.27935463], [48.878899, 2.362426], [48.879433, 2.314284], [48.93376, 2.3178], [48.94094, 2.30351], [48.866157, 2.321945], [48.89659, 2.25224], [48.730593, 2.446848], [48.72884, 2.44642], [48.90349025, 2.25450218], [48.83248678, 2.53119841], [48.80631946, 2.27660832], [48.82008092, 2.47576341], [48.79103847, 2.31979769], [48.802504, 2.338358], [48.84389, 2.45948], [48.78447, 2.45847], [48.77411, 2.399279], [48.92828, 2.51875], [48.931992, 2.352946], [48.927696, 2.437703], [48.90608912, 2.55281047], [48.82636478, 2.21869826], [48.84275474, 2.21941486], [48.86046134, 2.17724517], [48.87256115, 2.17803776], [48.88340575, 2.27351591], [48.88162, 2.25246], [48.79963, 2.28171], [48.89886192, 2.27887094], [48.93334698, 2.30269253], [48.9266261, 2.29333967], [48.91453073, 2.22889484], [48.77787, 2.29062], [48.91978, 2.31405], [48.62509, 2.33019], [48.77617937, 2.22840361], [48.65573, 2.31129], [48.713781, 2.443209], [48.474687, 2.678825], [48.864239, 2.266641], [48.844941, 2.414035], [48.87968692, 2.28083253], [48.872906, 2.274447], [48.882434, 2.386211], [48.881665, 2.388506], [48.88026, 2.400397], [48.878654, 2.294201], [48.834569, 2.357769], [48.865249, 2.374549], [48.864997, 2.313697], [48.8275, 2.5276], [49.02699782, 2.51473188], [48.91415084, 2.34533039], [48.85472, 2.52254], [48.87654, 2.45466], [48.91400565, 2.49173458], [48.88515, 2.22597], [48.90004, 2.30631], [48.78981074, 2.25270889], [49.080075, 2.444689], [48.656747, 2.926349], [48.965666, 1.811443], [48.96251, 2.26372], [48.95891, 2.52631], [48.92667, 2.40326], [48.97563, 2.2412], [49.04808411, 2.43497837], [48.77630937, 2.43517187], [48.834967, 2.8055], [48.7766716, 2.41970908], [48.83044403, 2.49190676], [48.586943, 2.636793], [48.76111962, 2.46826261], [48.714452, 2.447921], [48.43686, 2.1364], [48.830983, 2.800036], [48.88358, 2.8451], [48.614896, 2.351031], [48.71322, 2.28624], [48.75423746, 2.3518639], [48.78022461, 2.34674665], [48.83922315, 2.2111532], [48.97641088, 2.23645806], [48.96143, 2.46628], [48.96033709, 2.27110147], [49.05184369, 2.54809856], [48.86577158, 2.41749625], [49.01544622, 2.53143909], [48.75940121, 2.50031751], [48.82732384, 2.50906368], [48.95368, 1.85588], [48.69384, 2.50228], [48.65919, 2.39978], [48.932983, 2.129813], [48.92736, 2.14036], [48.857166, 2.25862], [48.863492, 2.413639], [48.847366, 2.414748], [48.901194, 2.350747], [48.850605, 2.252006], [48.881811, 2.282884], [48.859051, 2.293498], [48.847024, 2.365219], [48.844533, 2.345341], [48.847103, 2.341954], [48.892642, 2.391442], [48.892085, 2.307853], [48.882442, 2.31181], [48.885797, 2.298244], [48.878649, 2.294215], [48.831868, 2.325285], [48.837993, 2.319063], [48.828081, 2.326876], [48.838329, 2.356873], [48.82900814, 2.35641718], [48.827241, 2.374963], [48.857358, 2.380881], [48.87482, 2.357372], [48.866627, 2.337359], [48.84668901, 2.41613334], [48.82014, 2.46936], [48.804574, 2.438142], [48.762879, 2.348971], [48.79131, 2.44167], [48.817694, 2.497252], [48.96186, 2.29534], [48.9642, 2.347], [48.9085286, 2.53996099], [48.90065413, 2.56229417], [49.03213774, 2.46829748], [48.90716845, 2.48894513], [48.6995, 2.494], [48.93922826, 2.46144606], [48.688785, 2.357513], [48.9085801, 2.37801837], [48.6745, 2.35265], [48.85837, 2.22372], [48.43281, 2.17575], [48.89263505, 2.2660616], [48.90102313, 2.22484212], [48.805494, 2.291011], [48.80911058, 2.29728252], [48.83009875, 2.26096183], [48.966528, 1.865303], [48.91739, 2.30745], [48.92447, 2.30445], [48.90073, 2.27515], [48.92367, 2.27996], [48.904699, 3.350106], [48.677944, 3.193857], [48.835303, 2.078851], [48.828353, 2.397596], [48.86466771, 2.41312981], [48.87576907, 2.35653073], [48.882245, 2.286307], [48.861801, 2.285751], [48.870853, 2.253109], [48.831485, 2.277657], [48.836692, 2.403488], [48.869759, 2.366181], [48.867865, 2.329819], [48.797694, 2.379676], [48.76552, 2.44763], [48.74189228, 2.48544364], [48.800474, 2.435233], [48.785345, 2.370614], [48.81056, 2.380003], [48.92844229, 2.34119481], [48.89871859, 2.54814441], [48.912776, 2.396188], [48.906026, 2.389682], [48.82485, 2.2678], [48.9015561, 2.24375278], [48.9027, 2.30405], [48.78218732, 2.28241307], [48.84078717, 2.23151922], [48.867836, 2.390685], [48.853522, 2.410813], [48.869533, 2.393157], [48.893626, 2.3301], [48.880374, 2.308834], [48.882979, 2.32415], [48.88475, 2.298566], [48.874917, 2.271103], [48.873629, 2.277293], [48.839946, 2.328841], [48.820006, 2.339811], [48.875273, 2.373162], [48.883068, 2.361553], [48.859687, 2.300829], [48.863206, 2.333806], [48.80814551, 2.44588257], [48.77102, 2.36198], [48.82205, 2.40864], [48.81786, 2.444552], [48.79972, 2.42718], [48.88491313, 2.50244898], [48.90045764, 2.46534938], [48.86284904, 2.43667943], [48.8828, 2.4192], [48.93368896, 2.45566052], [48.90960749, 2.50573636], [49.05702487, 2.20668655], [48.94138885, 2.46384958], [48.8354459, 2.53871181], [48.92663894, 2.47120017], [48.94151, 2.32143], [48.82424, 2.22019], [48.52711, 2.65341], [48.87882036, 2.17728787], [48.8917, 2.27288], [48.88637, 2.20967], [48.81773, 2.32436], [48.82206737, 2.3145774], [48.63555, 2.41211], [48.79903725, 2.2331813], [48.74478, 2.19202], [48.93746, 2.27542], [48.71075, 2.28731], [48.94631468, 2.29923517], [48.61014, 2.43304], [48.90008747, 2.20944671], [48.83667, 2.25341], [48.92118805, 2.27390237], [48.91578768, 2.30849415], [48.9713639, 2.4985811], [48.96002948, 2.27121949], [48.77011469, 2.38223272], [48.361177, 2.900078], [48.99079, 2.37417], [48.9642, 2.4132], [49.01340975, 2.08976403], [48.68554, 2.30683], [48.70894, 2.3113], [48.845696, 3.018846], [48.93747288, 2.2956682], [48.92865065, 2.23945697], [48.8791675, 2.47634149], [48.96125, 2.26871], [48.921958, 2.235119], [48.94762, 2.44793], [48.848091, 2.327941], [48.885811, 2.334787], [48.840815, 2.256176], [48.853553, 2.289937], [48.866942, 2.41322], [48.876979, 2.408634], [48.828642, 2.398889], [48.870002, 2.371054], [48.871758, 2.357174], [48.853921, 2.253668], [48.870903, 2.346754], [48.870047, 2.350966], [48.91480106, 2.20579983], [48.874174, 2.326991], [48.677773, 2.343542], [48.868502, 2.395661], [48.874257, 2.331334], [48.822333, 2.314356], [49.016932, 2.600405], [48.8585199, 2.34822571], [48.837557, 2.322934], [48.86818, 2.64867], [48.864901, 2.331949], [48.834546, 2.332619], [48.848956, 2.417626], [48.38193019, 2.95237128], [48.40602861, 2.70218546], [48.818922, 2.39925], [48.822202, 2.358526], [48.77298, 2.43476], [48.884139, 2.366817], [48.94002, 2.57345], [48.871153, 2.321632], [48.94857402, 2.38014374], [48.858838, 2.312979], [48.93394, 2.56666], [48.868582, 2.343431], [48.87421604, 2.43220299], [48.863907, 2.338152], [48.903496, 2.391761], [48.82029, 2.37969], [48.91228079, 2.37471521], [48.88738, 2.27895], [48.75589683, 2.32002564], [48.81442369, 2.30552763], [48.77146, 2.40637], [48.94481027, 2.3105219], [48.732722, 2.512957], [48.93304485, 2.30263889], [48.704285, 2.551113], [48.925622, 2.291045], [48.90609, 2.23895], [48.89937, 2.55953], [48.73835085, 2.29051799], [48.84463307, 2.2203704], [48.900479, 2.37528], [48.817045, 2.348402], [48.82723, 2.29311], [48.89261, 2.302462], [48.816749, 2.336224], [48.869663, 2.413494], [48.833345, 2.312369], [48.85322, 2.41423], [48.77537186, 2.34614811], [48.841965, 2.329911], [48.70382, 2.30639], [48.86497, 2.410973], [48.894178, 2.345965], [48.6625, 2.36822], [48.889797, 2.342939], [48.864728, 2.284381], [49.012417, 2.472195], [48.76216836, 2.34052108], [48.966888, 2.290848], [48.6108, 2.4329], [48.964685, 1.799781], [48.962266, 1.928584], [48.96399, 1.787715], [48.957984, 2.018206], [48.86966029, 2.42972435], [48.80088, 2.63309], [48.90207598, 2.47041227], [48.8421989, 2.4927536], [48.6449, 2.54591], [48.825675, 2.386693], [48.824292, 2.30637], [48.899354, 2.392553], [49.05775441, 2.00597048], [48.844264, 2.410136], [48.839028, 2.34923], [48.85242, 2.40452], [48.885779, 2.370978], [48.83585, 2.278296], [48.823877, 2.357962], [48.835435, 2.397794], [48.865274, 2.374512], [48.867948, 2.324606], [48.509649, 2.5998], [48.869312, 2.354271], [48.50735, 2.60805], [48.855951, 2.367322], [48.850716, 2.361123], [48.41863, 2.73715], [48.808553, 2.362651], [48.82685, 2.58377], [48.85630348, 2.4261691], [48.87972, 2.27603], [48.7400712, 2.31942594], [48.93335203, 2.38374209], [48.85806851, 2.48816509], [48.81760575, 2.42124411], [48.825146, 2.463772], [48.6745, 2.4129], [48.6509, 2.38256], [48.54289, 2.64736], [48.70622, 2.59631], [48.82520657, 2.30326134], [48.85464, 2.254711], [48.853772, 2.344347], [48.835025, 2.332174], [48.847693, 2.284141], [48.839457, 2.322288], [48.834058, 2.324443], [48.8262367, 2.38626069], [48.854399, 2.384077], [49.0161429, 2.17679769], [48.858259, 2.389886], [48.6976, 2.52424], [48.87884, 2.47637], [48.76265, 2.495], [48.858547, 2.348205], [48.61154, 2.46993], [48.82743426, 2.46915402], [48.81170568, 2.44367293], [48.7695939, 2.42372292], [48.89658433, 2.66217082], [49.005007, 2.116454], [48.79698818, 2.44355794], [48.9285, 2.52723], [48.83140473, 2.64207057], [48.860742, 2.468056], [48.68583, 2.62556], [48.52992, 2.55656], [48.87659524, 2.52523784], [48.44321, 2.7859], [48.87536724, 2.52598708], [48.91636, 2.56955], [48.89421, 2.54942], [48.92907878, 2.32614756], [48.93056675, 2.32072592], [48.84669283, 2.18137443], [48.85418864, 2.21213758], [48.89006, 2.27377], [48.94415, 2.25099], [48.70731, 2.45526], [48.62226, 2.41699], [48.63791, 2.40318], [48.86932, 2.57454], [48.61923, 2.54289], [48.664195, 2.568438], [48.853907, 2.69064], [48.901236, 2.352112], [48.890283, 2.32078], [48.836108, 2.392236], [48.86729, 2.375897], [48.8798, 2.365532], [48.86667134, 2.32201767], [48.855899, 2.351089], [48.831046, 2.468872], [48.84526214, 2.4892399], [48.73038049, 2.30823398], [48.82033118, 2.48535318], [48.77541, 2.51519], [48.71276, 2.28279], [48.83845, 2.5494], [48.833191, 2.406946], [48.73237, 2.31567], [48.843158, 2.413707], [48.8689, 2.537056], [48.86577158, 2.41749625], [48.879025, 2.292857], [48.81192129, 2.23018304], [48.895335, 2.307301], [48.93316138, 2.30376855], [48.867893, 2.234109], [48.8791675, 2.47634149], [48.82992042, 2.23227113], [48.822086, 2.325425], [48.8244, 2.337632], [48.9689, 2.2512], [48.97819, 2.24083], [48.822807, 2.358412], [48.874704, 2.328462], [48.79992769, 2.44606437], [48.850757, 2.309256], [48.94606481, 2.36695718], [48.75796854, 2.39093918], [48.94524194, 2.35185882], [48.81323, 2.52879], [48.88066247, 2.4772098], [48.87746294, 2.47516069], [48.92248043, 2.45669693], [48.9274604, 2.49181257], [48.85835, 2.22375], [48.88496, 2.1947], [48.99322, 2.32396], [48.89869, 2.28683], [48.94226, 2.25635], [48.90678134, 2.26127252], [48.62302, 2.31602], [48.7079, 2.3714], [48.93233, 2.04109], [48.638169, 2.505248], [48.81314, 2.69276], [48.618101, 2.496289], [48.7624, 2.6712], [48.58152303, 3.47403504], [48.76020129, 2.32061692], [48.76020129, 2.32061692], [48.86994, 2.43016], [48.99916, 2.17631], [49.0342071, 2.1125447], [48.766159, 1.940237], [48.8755221, 2.19410419], [48.86338258, 2.18180627], [48.87834926, 2.18791276], [48.97832, 2.30844], [48.94852, 2.25422], [48.5915, 2.3092], [48.718616, 2.241875], [48.69588, 2.50297], [48.742269, 2.701374], [48.580809, 1.781716], [48.62453483, 2.54124693], [48.65747, 2.1825], [48.79253545, 2.34469358], [48.74637, 2.32446], [48.90752236, 2.35821845], [49.05777551, 2.42087603], [49.07243211, 2.22575068], [48.81968608, 2.40404784], [48.697297, 2.459608], [48.70468, 2.43152], [48.92732, 2.16063], [48.56463, 2.64397], [48.53564, 2.70916], [48.877888, 2.716535], [48.587439, 2.690461], [48.624525, 2.29833], [48.714886, 2.253768], [48.93440333, 2.25689089], [48.79919, 1.96395], [48.91506449, 2.35790288], [48.91824, 2.42899], [48.94919, 2.47623], [48.94603148, 2.47667134], [48.93588, 2.48026], [48.89061, 2.47352], [48.94067835, 2.29263081], [48.95550443, 2.27815032], [48.87806, 2.44586], [48.825146, 2.463772], [48.85464, 2.254711], [48.81854244, 2.37034804], [48.829089, 2.618681], [48.887035, 2.290229], [48.746067, 2.514244], [48.897213, 2.394354], [48.883212, 2.387928], [48.886174, 2.31022], [48.87494, 2.271083], [48.859265, 2.289532], [48.837241, 2.296444], [48.835204, 2.333174], [48.834102, 2.336643], [48.840949, 2.325828], [48.831077, 2.344252], [48.84847758, 2.57841903], [48.833741, 2.382521], [48.844047, 2.377285], [48.8807782, 2.34024346], [48.875249, 2.324264], [48.7542, 2.47749], [49.00472492, 2.12655187], [48.763714, 2.448127], [48.77331, 2.49029], [48.812417, 2.386586], [48.81806, 2.36981], [48.97624652, 2.50359796], [48.93869468, 2.35657031], [48.87805, 2.52495], [48.89372, 2.40945], [48.84265, 2.57418], [48.85149, 2.53403], [48.85864633, 2.42822723], [48.92788, 2.54876], [48.95544, 2.33899], [48.91654, 2.44451], [48.91642, 2.36838], [48.83827614, 2.1702826], [48.88688973, 2.17649281], [48.88246, 2.26741], [48.90113823, 2.21635133], [48.81685586, 2.30686158], [48.81760087, 2.23060101], [48.89747363, 2.28015482], [48.81882655, 2.25807443], [48.92334698, 2.29702793], [48.90041027, 2.2607621], [48.90419443, 2.25705278], [48.77306598, 2.27606267], [48.84118307, 2.22579896], [48.78496679, 2.30676162], [48.77952, 2.31532], [48.77889, 2.31516], [48.73366313, 2.30774447], [49.110858, 2.205004], [48.825791, 2.386589], [48.818397, 2.369347], [48.854284, 2.41038], [48.884806, 2.377935], [48.892316, 2.334353], [48.876073, 2.270828], [48.860885, 2.291646], [48.845656, 2.287946], [48.854904, 2.386171], [48.882489, 2.369186], [48.878091, 2.305357], [48.872159, 2.309056], [48.857261, 2.347139], [48.783341, 2.360668], [48.75395437, 2.31274948], [48.83034, 2.54536], [48.73432, 2.52016], [48.753475, 2.506936], [48.94947, 2.51964], [48.900992, 2.443781], [48.84303247, 2.14916021], [48.91989098, 2.27976769], [48.99572, 2.35222], [48.984492, 2.294952], [48.69615, 2.1625], [48.69012, 2.37752], [48.739037, 2.125726], [49.019883, 1.958966], [48.54652, 3.30683], [48.85636, 2.77074], [49.091581, 2.531716], [48.76284698, 2.30411982], [48.68866, 2.324668], [48.72471, 2.24309], [48.84046, 2.413696], [48.91898869, 2.22378867], [48.875803, 2.273523], [48.841043, 2.109633], [48.864021, 2.288117], [48.88653915, 2.16571926], [48.850081, 2.29523], [48.89648239, 2.22334855], [48.846553, 2.286113], [48.83515238, 2.57609455], [48.82786394, 2.38874853], [48.757606, 2.615584], [48.81737044, 2.42861395], [48.850619, 2.378771], [48.848283, 2.397535], [48.866172, 2.369721], [48.881105, 2.365169], [48.75178, 2.40585], [48.91852866, 2.43604481], [48.82884, 2.52571], [48.81309, 2.37055], [48.82685, 2.52102], [48.940804, 2.594119], [48.93548, 2.379275], [48.91658, 2.363709], [48.99592, 2.0063], [48.868325, 2.401448], [48.878395, 2.370518], [48.898546, 2.356082], [48.855393, 2.263408], [48.834348, 2.313646], [48.72652, 2.40728], [48.94567511, 2.51459773], [48.83121, 2.1525], [48.83691, 2.25214], [48.602645, 2.491981], [48.48734, 3.292674], [48.905046, 2.881028], [48.607564, 2.894302], [48.68301, 2.32914], [48.81474151, 2.33655222], [48.63538, 2.53514], [48.71653, 2.29065], [48.89262958, 2.18617361], [49.03512876, 2.09846616], [48.90602834, 2.35830849], [48.96664045, 2.47689933], [48.848949, 2.315407], [48.57635, 2.26691], [48.73245, 2.22925], [48.661005, 2.518844], [48.70567, 2.35502], [48.90457, 2.14701], [48.88664, 2.09731], [48.97074, 1.91977], [48.840925, 2.61832], [48.86746, 2.67874], [48.89369207, 2.21202984], [48.8473, 2.22728], [48.90998, 2.28798], [48.854539, 2.254923], [48.830807, 2.403154], [48.838837, 2.34573], [48.871724, 2.404318], [48.897092, 2.359331], [48.880137, 2.281895], [48.891057, 2.302522], [48.461742, 3.220979], [48.851323, 2.278488], [48.847385, 2.273699], [48.83395, 2.318154], [48.825104, 2.311177], [48.83052287, 2.31922665], [48.836722, 2.398433], [48.861786, 2.367046], [48.859492, 2.367659], [48.872966, 2.333314], [48.862506, 2.30922], [48.851402, 2.326763], [48.861026, 2.351369], [48.85671, 2.348925], [48.85580143, 2.36847943], [48.84968, 2.43461], [48.847002, 2.517378], [48.79058, 2.33174], [48.754347, 2.375414], [48.76516, 2.48073], [48.76559, 2.41066], [48.80321, 2.53787], [48.94846935, 2.52031363], [48.86528, 2.53397], [48.86897869, 2.56032295], [48.88995036, 2.52401072], [48.95443628, 2.33473299], [48.90819478, 2.51590994], [48.81897348, 2.30958045], [48.82261, 2.20175], [48.837621, 2.151368], [48.88613445, 2.27456957], [48.87900138, 2.27951892], [48.89021153, 2.19095259], [48.88678, 2.20523], [48.37005, 2.509319], [48.81186, 2.30896], [48.814381, 2.32575], [48.932246, 2.272807], [48.913339, 2.230713], [48.77105095, 2.3120454], [48.865041, 2.234458], [48.849669, 2.241987], [48.836379, 2.334317], [48.823077, 2.353113], [48.836282, 2.371199], [48.842546, 2.371929], [48.711539, 2.293833], [48.865787, 2.374007], [48.71065, 2.287], [48.81658529, 2.33656859], [48.88409, 2.367531], [48.63061, 2.2309], [48.876269, 2.334233], [48.93006804, 2.32558289], [48.873755, 2.294497], [48.9394, 2.38812], [48.85748, 2.291275], [48.93788866, 2.29766722], [48.825819, 2.326117], [48.99543144, 2.18221307], [48.85114109, 2.36237463], [48.92755223, 2.3326993], [48.9136, 2.47714], [48.79646142, 2.48269699], [48.77128006, 2.3466765], [48.85841005, 2.48778049], [48.84153391, 2.66365441], [48.754789, 2.505604], [48.76049276, 2.46901782], [48.94251, 2.57119], [48.98938, 2.51935], [48.80779495, 2.44901486], [48.911, 2.373], [48.84212, 2.54314], [48.853414, 2.44370779], [48.87856061, 2.41147488], [48.94213973, 2.4210155], [48.879205, 2.370101], [48.92825, 2.4633], [48.81751098, 2.3254618], [48.92611228, 2.25300997], [48.90887, 2.31297], [48.98745, 2.44826], [49.03959942, 2.08186716], [48.70296, 2.32108], [48.8502, 2.58519], [48.845719, 3.089059], [49.044943, 2.760808], [48.859198, 2.943901], [49.026065, 2.345152], [48.77137155, 2.34509948], [48.79003666, 2.34385393], [48.931966, 1.97629], [48.864928, 2.397243], [48.833785, 2.085995], [48.91899344, 2.357294], [48.893554, 2.380734], [48.91936344, 2.35754643], [48.77604023, 2.42618623], [48.900756, 2.389129], [48.82836797, 2.47558356], [48.887989, 2.316718], [48.89654588, 2.23609829], [48.838654, 2.259762], [48.84933, 2.281629], [48.84933099, 2.28163719], [48.827845, 2.328994], [48.86977, 2.352278], [48.877032, 2.302848], [48.861132, 2.310269], [48.856469, 2.321121], [48.870252, 2.329982], [48.97839, 2.29199], [48.779104, 2.396009], [48.96926, 2.29585], [48.75614, 2.34622], [49.002059, 2.536962], [48.82233386, 2.30357105], [48.88616, 2.21291], [48.79116274, 2.6039921], [48.89503521, 2.29104102], [48.82387787, 2.24290234], [48.96699, 2.30463], [48.67458, 2.17935], [48.66, 2.52], [48.685802, 2.346566], [48.847428, 2.41456], [48.837685, 2.345511], [48.841657, 2.351945], [48.868319, 2.401412], [48.849301, 2.414612], [48.87386, 2.387266], [48.899806, 2.319159], [48.849428, 2.303757], [48.842692, 2.27688], [48.364586, 2.517768], [48.8401, 2.37494], [48.800232, 2.999949], [48.874839, 2.357381], [48.874008, 2.344767], [48.87323, 2.300194], [48.866394, 2.323485], [48.878255, 2.29896], [48.83176023, 2.532976], [48.95801, 2.54632], [48.91649, 2.53164], [48.87432, 2.55968], [48.88164403, 2.27054894], [48.89755156, 2.2950536], [48.75599, 2.30124], [48.62547, 2.35321], [48.6274, 2.47767], [48.86594, 2.41262], [48.86594046, 2.41262019], [48.62372, 2.3778], [48.884745, 2.392252], [48.889569, 2.395652], [48.63418, 2.40104], [48.888762, 2.39315], [48.6251, 2.36174], [48.900701, 2.387098], [48.66341, 2.36691], [48.829686, 2.420277], [48.83632636, 2.18475813], [48.852937, 2.388511], [48.878147, 2.330103], [48.851824, 2.35656], [48.75311, 2.47521], [48.77392, 2.35184], [48.79052, 2.45337], [48.940491, 2.575834], [48.90715, 2.32636], [48.92048633, 2.42107923], [48.95022, 2.49192], [48.61053, 2.43324], [48.89793, 2.29183], [48.93484397, 2.26726483], [48.89065454, 2.27918968], [48.93498875, 2.31987855], [48.90032352, 2.24502468], [48.776402, 2.256747], [48.82602422, 2.24569559], [48.91089077, 2.28939146], [48.68636, 2.52835], [48.61154, 2.46991], [48.856414, 2.144966], [48.97945, 1.91282], [48.71031, 2.30741], [48.808936, 2.054416], [48.9585871, 2.27405291], [48.9585871, 2.27405291], [48.858133, 2.41411], [48.856391, 2.274772], [48.883854, 2.353321], [48.883904, 2.353316], [48.86464183, 2.31196225], [48.78948244, 2.54892504], [48.90958018, 2.33306453], [48.945266, 2.351735], [48.94686169, 2.37115324], [48.857078, 2.531388], [48.91984, 2.45139], [48.86532679, 2.20377946], [48.84477, 2.17305], [48.90066, 2.21756], [48.900646, 2.331722], [48.83224881, 2.238691], [48.9312121, 2.27805108], [48.880362, 2.406296], [48.893852, 2.373414], [48.842049, 2.303077], [48.827805, 2.32915], [48.822642, 2.314834], [48.83741, 2.318595], [48.854071, 2.382657], [48.8639431, 2.31039047], [48.868419, 2.301146], [48.859545, 2.329284], [48.859239, 2.330217], [48.900675, 2.333095], [48.858812, 2.357364], [48.826886, 2.391831], [48.75303, 2.4468], [48.79404097, 2.50739336], [48.89132113, 2.37788039], [48.90101081, 2.38818294], [48.794881, 2.518263], [48.887498, 2.325572], [48.80241834, 2.43463562], [48.869661, 2.291887], [48.864993, 2.28867], [48.78327, 2.34545], [48.845343, 2.257558], [48.75963, 2.36519], [48.828775, 2.327709], [48.76556133, 2.46654895], [48.870816, 2.333306], [48.86670198, 2.32201052], [48.76768, 2.41755], [48.861796, 2.353851], [48.76794, 2.41027], [48.864198, 2.347607], [48.97352659, 2.36594439], [48.853454, 2.367203], [48.88301643, 2.49594435], [48.84499534, 2.41869164], [48.861, 2.50927], [48.84536743, 2.4306744], [48.95333844, 2.49903209], [48.90414785, 2.37224489], [48.74666, 2.48879], [48.84435908, 2.21858561], [48.79259, 2.49508], [48.88714461, 2.16963033], [49.15204867, 1.97881301], [48.79174, 2.50363], [48.88459806, 2.23432159], [48.81213, 2.35683], [48.80074393, 2.28340298], [48.81308, 2.37084], [48.78861513, 2.23468646], [48.82507, 2.24837], [48.804166, 2.450819], [48.76295, 2.47976], [48.75886, 2.50149], [48.80447, 2.41951], [48.91539435, 2.35622308], [48.8975, 2.39934], [48.83455, 2.58312], [48.90086, 2.365712], [48.95795923, 2.3210781], [48.84945, 2.354399], [48.87484351, 2.2377035], [48.871984, 2.391882], [48.89958367, 2.19935529], [48.882004, 2.402494], [48.89863387, 2.27796793], [48.8838, 2.347021], [48.88936087, 2.28887647], [48.849356, 2.281596], [48.93622622, 2.27939241], [48.851504, 2.31398], [48.9126625, 2.2514981], [48.858723, 2.348342], [48.92563378, 2.24745724], [48.875892, 2.33989], [48.77901214, 2.28373826], [48.80844, 2.40775], [48.9192375, 2.29002786], [48.75423453, 2.34791762], [48.84388217, 2.46485078], [48.74704519, 2.4187181], [48.78084, 2.57336], [48.81216, 2.55865], [48.814822, 2.527585], [48.80665824, 2.42211185], [48.86170468, 2.21237451], [48.8269, 2.18852], [48.8594, 2.18329], [48.657407, 3.103251], [48.81874648, 2.23161221], [48.93598, 2.26749], [48.89670599, 2.25368214], [48.81301422, 2.25795597], [48.77198, 2.25406], [48.905019, 2.709731], [48.961656, 3.147529], [48.62368, 2.384], [48.61975, 2.42602], [48.91536269, 2.22043859], [48.88652814, 2.16549995], [48.485534, 2.207957], [48.7784096, 2.2081719], [48.87313, 2.43576], [48.92231113, 2.35858548], [48.87077, 2.43171], [48.72932, 2.29635], [49.00451, 2.16732], [48.71723, 2.25088], [48.77137155, 2.34509948], [48.964934, 1.819044], [48.93677, 2.4087], [48.98024046, 2.24094272], [48.92565743, 2.40075946], [48.81883008, 2.23488986], [48.94215817, 2.47819483], [49.02633, 2.53647], [48.75895409, 2.32434215], [48.77124963, 2.34563824], [48.62494, 2.36305], [48.66287, 2.36782], [48.60893, 2.43792], [48.99397427, 2.33713746], [48.99254873, 2.37568885], [49.01707522, 2.46823043], [48.97711626, 2.45679617], [48.97802702, 2.43694782], [48.97395314, 2.4606961], [48.68615, 2.41022], [49.02886, 2.20853], [48.96289647, 2.29215682], [48.99050379, 2.32129811], [48.692639, 2.435071], [48.696849, 2.369293], [48.999256, 1.74198], [48.98795, 2.88446], [48.86077, 2.76583], [48.610127, 2.586293], [48.866362, 2.323471], [48.84887, 2.5532], [48.87824, 2.45752], [48.95286, 2.3235], [48.916483, 2.436201], [48.907, 2.376], [48.880352, 2.229637], [48.82597804, 2.198158], [48.90569, 2.21028], [48.81490275, 2.23424613], [48.817646, 2.273269], [48.8231, 2.26786], [48.89375, 2.24837], [48.934317, 2.255892], [48.85139, 2.23305], [48.62805, 2.41306], [48.77418337, 2.34622975], [48.793083, 2.084155], [49.136743, 2.367328], [48.93542176, 2.2605831], [48.83477584, 2.17317586], [48.860516, 2.047353], [48.90872, 2.47344], [48.90717, 2.35845], [49.05809891, 2.20914245], [48.93138, 2.36994], [48.96456235, 2.47442275], [48.94605193, 2.44078471], [48.89347, 2.47254], [48.91009, 2.47461], [48.94364712, 2.28775617], [48.925825, 2.39761793], [48.75738, 2.47639], [48.821086, 2.461568], [48.7537, 2.51134], [49.0139015, 2.23654997], [48.96689, 2.31755], [48.98409, 2.85828], [49.035758, 2.796042], [48.577956, 1.967229], [48.75476, 2.34825], [49.0674, 2.39873], [48.96347642, 2.26421356], [48.96007, 2.52481], [49.11981, 2.55626], [48.83532726, 2.4937909], [48.97147, 2.30462], [48.947227, 2.879714], [48.94874, 2.87998], [48.83397544, 2.16646875], [48.90206859, 2.20357418], [48.964185, 2.267937], [48.92693884, 2.40503458], [48.901047, 2.344], [48.93788866, 2.29766722], [48.851461, 2.337051], [48.848818, 2.355292], [48.97102575, 2.49879599], [48.86299, 2.387488], [48.90292, 2.47084], [48.887318, 2.367126], [48.878882, 2.285584], [48.7761883, 2.43180914], [48.869439, 2.28519], [48.819133, 2.329596], [48.84560016, 2.27313593], [48.873126, 2.288651], [48.882866, 2.370183], [48.831011, 2.292334], [48.836447, 2.30664], [48.893729, 2.373377], [48.834681, 2.40078], [48.895163, 2.382744], [48.831564, 2.385352], [48.850325, 2.270368], [48.861563, 2.382608], [48.893828, 2.311758], [48.861219, 2.353475], [48.854813, 2.368629], [48.867426, 2.285923], [48.73313, 2.450715], [48.872628, 2.279409], [48.809497, 2.358442], [48.81443, 2.37384], [48.849312, 2.281684], [48.815, 2.37822], [48.7762, 2.34138], [48.841601, 2.318278], [48.7782, 2.33478], [48.837425, 2.318092], [48.9505, 2.5647], [48.9412573, 2.54251079], [48.816012, 2.345987], [48.941169, 2.382924], [48.89477664, 2.40972696], [48.822687, 2.372924], [48.91975, 2.45148], [48.82616289, 2.36001402], [48.912599, 2.551755], [48.852457, 2.389236], [48.893932, 2.47783], [48.879557, 2.353342], [48.81844978, 2.30888307], [48.87383, 2.23014], [48.86427, 2.355164], [48.8278657, 2.26712868], [48.86628746, 2.35976726], [48.90117731, 2.31545046], [48.830807, 2.403154], [48.805361, 2.483966], [48.78974609, 2.25267738], [48.886221, 2.391472], [48.82765175, 2.24681407], [48.763219, 2.493556], [48.873799, 2.267976], [48.753096, 2.339738], [48.833574, 2.336332], [48.80505, 2.57233], [48.835562, 2.333561], [48.81262, 2.51734], [48.834822, 2.265667], [48.9558, 2.38316], [48.833981, 2.364788], [48.9038, 2.33927], [48.856307, 2.371033], [48.89894299, 2.51852185], [48.866663, 2.373489], [48.861196, 2.439463], [48.959182, 2.495836], [48.873127, 2.297083], [48.90403501, 2.37505585], [48.79621215, 2.38677737], [48.86521, 2.21938], [48.78761, 2.4359], [48.796023, 2.292291], [48.81916151, 2.23439455], [48.8044, 2.37716], [48.818, 2.2769], [48.87897462, 2.47846907], [48.83669379, 2.25326532], [48.90527416, 2.50200396], [48.75869, 2.3069], [48.85289253, 2.20587015], [48.78420473, 2.24872863], [48.8309124, 2.25822097], [48.78962652, 2.31357023], [48.928449, 1.60962], [48.379036, 3.008799], [48.73194131, 2.3106088], [48.75359848, 2.33149496], [48.63603, 2.39996], [48.83477584, 2.17317586], [48.915308, 2.22011012], [48.89184038, 2.1783988], [48.92312, 2.38254], [48.94411853, 2.28638822], [48.94067835, 2.29263081], [48.7761107, 2.42505182], [48.83592061, 2.53990748], [48.83636712, 2.54936457], [48.655702, 2.699419], [48.73222, 2.25606], [48.69609, 2.44524], [48.981449, 1.912492], [48.74604, 2.32573], [48.79379358, 2.21880725], [48.89790505, 2.46977341], [48.79411216, 2.44179389], [48.447524, 2.632788], [48.714558, 2.599699], [48.99893, 2.15193], [48.70439, 2.32226], [48.80839441, 2.34798035], [48.935874, 1.962439], [48.87828, 2.47673], [48.92648671, 2.40257539], [48.96192, 2.26767], [48.93036, 2.36622], [48.89912191, 2.46932995], [49.071489, 2.244523], [48.99193, 2.18987], [48.87092, 2.48233], [48.940858, 2.628409], [48.962395, 2.615572], [48.83052112, 2.60996707], [48.96247225, 2.61535863], [48.821001, 2.461626], [48.978949, 2.38194], [48.97787855, 2.44667351], [49.00219584, 2.18505621], [48.70935, 2.43576], [48.68134, 2.53568], [48.71173, 2.36947], [48.88942, 2.10386], [49.00705, 2.11846], [48.55735, 2.61111], [48.95665, 2.85791], [48.885193, 2.287302], [48.869784, 2.271684], [48.890899, 2.395809], [48.82609326, 2.29883373], [48.869784, 2.271684], [48.844089, 2.254686], [48.821065, 2.320486], [48.832542, 2.406109], [48.82690335, 2.39188671], [48.834973, 2.273399], [48.846604, 2.351622], [48.875929, 2.381182], [48.886973, 2.38636], [48.879579, 2.389482], [48.872803, 2.294317], [48.883077, 2.287484], [48.82848, 2.3416], [48.820188, 2.347991], [48.834499, 2.363845], [48.863368, 2.384512], [48.871644, 2.363627], [48.870364, 2.349567], [48.865422, 2.30141], [48.86194, 2.319841], [48.862973, 2.341882], [48.863742, 2.354894], [48.858531, 2.348233], [48.73117236, 2.44693731], [48.79280603, 2.49752377], [48.762592, 2.369922], [48.76693926, 2.47228807], [48.75397081, 2.41209608], [48.90894, 2.35821], [48.99194, 2.51301], [49.03549763, 2.11711049], [48.85116637, 2.49060216], [48.69839941, 2.59402346], [48.85248, 2.10824], [48.90344, 2.4685], [48.67296, 2.52468], [48.959197, 2.76827], [48.938721, 2.035945], [48.804291, 1.867161], [48.94129, 2.05804], [48.61792, 2.42775], [48.92912436, 2.24069854], [48.98597429, 2.1818912], [48.7299, 2.28822], [48.871428, 2.413002], [48.872906, 2.274447], [48.888475, 2.37391], [48.820858, 2.354895], [48.87642001, 2.40234733], [48.836806, 2.351834], [48.834956, 2.344994], [48.892678, 2.348864], [48.877344, 2.355112], [48.863578, 2.239767], [48.868228, 2.373977], [48.860766, 2.325299], [48.850612, 2.392158], [48.858902, 2.293282], [48.870825, 2.373647], [48.865214, 2.355696], [48.77627223, 2.43100362], [48.80385564, 2.40914029], [48.81177, 2.37118], [48.753891, 2.381734], [48.7702, 2.44052], [48.836622, 2.526958], [48.81041, 2.54753], [48.80463217, 2.36076477], [48.902529, 2.334296], [48.82061214, 2.48609501], [48.908046, 2.396913], [48.79466, 2.42275], [48.95357354, 2.33600925], [48.9507, 2.58012], [48.94079, 2.431], [48.94801, 2.53251], [48.8581605, 2.43649315], [48.91406, 2.439425], [48.9204, 2.37748], [48.93889538, 2.56891461], [48.91460118, 2.42171628], [48.91882741, 2.22279333], [48.90888731, 2.38691211], [48.81838679, 2.25219548], [48.7852882, 2.30246758], [48.82397458, 2.29685873], [48.638619, 2.514573], [48.66122, 2.37018], [48.80794, 2.34065008], [48.84856113, 2.22959966], [48.848304, 2.245986], [48.83922315, 2.2111532], [48.93376075, 2.25454017], [48.96828, 1.743789], [48.90647, 2.35854], [48.88045, 2.45182], [48.74489, 2.32377], [48.95943129, 2.53723652], [48.66356, 2.36673], [48.88089109, 2.47481346], [48.96735747, 2.47640848], [48.93837004, 2.30014011], [48.79247896, 2.4410626], [48.81292733, 2.44895577], [48.966886, 2.255576], [48.95947, 2.27208], [48.86544542, 2.48185307], [48.974689, 2.351791], [48.46023, 2.16885], [48.44052, 2.17535], [48.932352, 2.237982], [48.43703, 2.16345], [48.44953, 2.15498], [48.64387, 2.33224], [48.75428, 2.03857], [48.827294, 2.675526], [49.07305563, 2.23582212], [48.39438, 2.96913], [48.8791675, 2.47634149], [49.05153899, 2.15162516], [48.92566114, 2.33952919], [48.83005427, 2.49555288], [48.77637562, 2.42140187], [48.77637562, 2.42140187], [48.83401, 2.409516], [48.85993, 2.413982], [48.8277, 2.291932], [48.78982766, 2.34470638], [48.892666, 2.395321], [48.7488, 2.32633], [48.853079, 2.346789], [48.918991, 2.01094], [49.05234392, 2.18443036], [48.882676, 2.384352], [48.88589, 2.355707], [48.889377, 2.322332], [48.62245, 2.25815], [48.850246, 2.299588], [48.6522, 2.3698], [48.831623, 2.324422], [48.445598, 2.17066], [48.825455, 2.302299], [48.83456, 2.332634], [48.974894, 1.853589], [49.007342, 2.118299], [48.830677, 2.311749], [48.54397, 2.6783], [48.826747, 2.384354], [48.870683, 2.332511], [48.869144, 2.314287], [48.868874, 2.309919], [48.864421, 2.351566], [48.857312, 2.352411], [48.871943, 2.340023], [48.85244, 2.46535], [48.78417, 2.53202], [48.82466, 2.4142], [48.82097, 2.48767], [48.95331, 2.39098], [48.93966, 2.51268], [48.88502, 2.50523], [48.92272, 2.34018], [48.94485, 2.35352], [48.8364, 2.56283], [48.90699, 2.52082], [48.964151, 2.347898], [48.862089, 2.366984], [48.92308, 2.412], [48.884172, 2.384204], [48.91806366, 2.48170155], [48.893365, 2.338269], [48.910229, 2.4777], [48.829704, 2.326107], [48.91185644, 2.37968481], [48.822765, 2.373168], [48.81468, 2.29679], [48.861106, 2.381148], [48.83837341, 2.17082852], [48.871805, 2.36459], [48.81098, 2.30453], [48.858521, 2.348231], [48.90832, 2.2377], [48.863899, 2.342359], [48.92482579, 2.26664633], [48.84718, 2.45135], [48.90083455, 2.31597751], [48.77103153, 2.44000903], [48.78861051, 2.27699295], [48.80272, 2.46049], [48.77423, 2.46104], [48.837291, 2.237467], [48.81446, 2.36084], [48.79763, 2.30958], [48.85590109, 2.35065311], [48.78756, 2.4359], [48.874876, 2.410697], [48.853557, 2.410769], [48.78103139, 2.52916257], [48.864666, 2.404651], [48.9527, 2.36734], [48.856822, 2.396887], [48.9263327, 2.3419239], [48.889232, 2.371474], [48.897425, 2.35942], [48.887621, 2.32018], [48.90540768, 2.38724853], [48.823274, 2.325602], [48.80067, 2.29377], [48.85325621, 2.36857831], [48.80336396, 2.38283318], [48.91983318, 2.31396759], [48.89965, 2.30915], [48.83437008, 2.51247481], [48.90703454, 2.29694903], [48.80325673, 2.39453566], [48.91641, 2.2823], [48.78609, 2.43084], [49.01041, 2.54173], [48.94054201, 2.37188548], [48.925964, 2.356597], [48.89486, 2.40972], [48.895092, 2.550273], [48.86765897, 2.22596079], [48.882787, 2.271191], [48.81017033, 2.31426492], [48.82556024, 2.26870224], [48.90712, 2.23893], [48.83928, 2.24452], [48.663651, 2.277394], [48.920215, 2.98871], [48.900695, 2.365705], [48.830807, 2.403154], [48.66532, 2.36363], [48.897213, 2.394354], [48.624289, 2.469274], [48.6986, 2.3134], [48.796, 2.038255], [48.830171, 2.402188], [48.86630746, 2.41412759], [48.880992, 2.282333], [48.74582, 2.32569], [48.868175, 2.343591], [48.92190936, 2.36424249], [48.62327, 2.42054], [48.817844, 2.334024], [48.97195611, 2.24798144], [48.66939, 2.19447], [48.848619, 2.348531], [48.8019795, 2.34359623], [48.892266, 2.30102], [48.78982, 2.0592], [48.828006, 2.303963], [48.855585, 2.057822], [48.829854, 2.328636], [48.77659, 2.23342], [48.821614, 2.369141], [49.06799174, 2.25449202], [48.852708, 2.37125], [48.96084236, 2.25965323], [48.82922, 2.419941], [48.854284, 2.383503], [48.83618999, 2.54068673], [48.873768, 2.358324], [48.87099, 2.30341], [48.878663, 2.300852], [48.874105, 2.295763], [48.87857, 2.30085], [48.865855, 2.343382], [48.72469, 2.44443], [48.8071, 2.50901], [48.7995, 2.34397], [48.6847, 2.19118], [48.73267, 2.51284], [48.9212, 2.36163], [48.889155, 2.410226], [48.89876, 2.54739], [48.918639, 2.448754], [48.904647, 2.548517], [48.63091, 2.31756], [48.666636, 2.396362], [48.93779, 2.47389], [48.9975, 1.90986], [48.45168, 2.17169], [48.93487788, 2.3249875], [48.87064153, 2.22461119], [48.79178332, 2.34476096], [48.82121261, 2.21866742], [48.82831, 2.2017], [48.62789, 2.41332], [48.828646, 2.124864], [48.66832, 2.35421], [48.872149, 2.096492], [48.90684325, 2.2120399], [48.89853, 2.21519], [48.69473, 2.19458], [48.93223, 2.1397], [48.88795556, 2.18953997], [48.92458528, 2.38937632], [48.99157, 2.00796], [48.81739194, 2.41475247], [48.90679477, 2.29649931], [48.82361946, 2.23848827], [48.92869685, 2.62840045], [48.787, 3.124], [49.120176, 2.210485], [48.893232, 2.470766], [48.70202, 2.59821], [48.85718, 2.77214], [48.837046, 2.485347], [48.900586, 2.328988], [48.899104, 2.317124], [48.852482, 2.338759], [49.098278, 2.52128], [48.882151, 2.371154], [48.892454, 2.330533], [48.913272, 2.767155], [48.885045, 2.34731], [48.530731, 2.294378], [48.84361, 2.29575], [48.887394, 2.349618], [48.839349, 2.297014], [48.86483357, 2.41194695], [48.83181, 2.314151], [48.870148, 2.350468], [48.84442878, 2.44068736], [48.74997206, 2.49209565], [48.839738, 2.534576], [48.896021, 2.394351], [48.78212482, 2.45483655], [48.8104, 2.5724], [48.893337, 2.303411], [48.819471, 2.373123], [48.81455068, 2.41533118], [48.849594, 2.344822], [48.93630502, 2.45124373], [48.835838, 2.352513], [48.90855316, 2.38484917], [48.73317, 2.31563], [48.863795, 2.382298], [48.82472, 2.28985], [48.87629, 2.357458], [48.873179, 2.221324], [48.72718, 2.31366], [48.875214, 2.370312], [48.87920604, 2.24006966], [48.7198, 2.2936], [48.897615, 2.324156], [48.88343591, 2.27355033], [48.872943, 2.333242], [48.62111, 2.46117], [48.89472326, 2.25064087], [48.851227, 2.314152], [48.858993, 2.339847], [48.935474, 1.963642], [48.737962, 2.471217], [48.89941417, 2.27160251], [48.800461, 1.97114], [48.80654879, 2.47876762], [48.83666616, 2.25321248], [48.781342, 2.222812], [48.807641, 2.435529], [48.7539, 2.35361], [48.798275, 2.007611], [48.712191, 2.538646], [49.00034, 2.52512], [48.93724, 2.41078], [48.91411, 2.35827], [48.90101187, 2.41194963], [48.91884496, 2.40846813], [49.0355502, 2.1170102], [48.8316081, 2.67912271], [48.93047994, 2.33211422], [48.77928728, 2.61536001], [48.84687993, 2.21421272], [48.88710242, 2.24221051], [48.88781918, 2.28215665], [48.8099, 2.31719], [48.78379325, 2.28225052], [48.85051912, 2.23675311], [49.160625, 2.328517], [48.864545, 2.849026], [48.96622, 2.31628], [48.73436, 2.29282], [48.74267, 2.26779], [48.654363, 2.370856], [48.79893, 2.04529], [48.54205, 2.52653], [48.607256, 2.888793], [48.700073, 2.419417], [48.64905, 2.38128], [48.69532, 2.31823], [48.652064, 2.351372], [48.57988, 2.47611], [48.73084803, 2.30892956], [48.857246, 2.258489], [48.83887386, 2.1936047], [48.93542176, 2.2605831], [48.867079, 2.383325], [48.94722536, 2.2815668], [48.884055, 2.368853], [48.97039, 2.03222], [48.90975, 2.47474], [48.8734328, 2.27223873], [48.9713639, 2.4985811], [48.84522, 2.61532], [48.8444504, 2.64925152], [48.92229, 2.48032], [48.832242, 2.652388], [48.964165, 2.610993], [48.8353, 2.57336], [48.81070243, 2.44917546], [48.8827, 2.283359], [48.8277, 2.291932], [48.901076, 2.345273], [48.86491, 2.267604], [48.875485, 2.357625], [48.844394, 2.322341], [48.858694, 2.414708], [48.847531, 2.40623], [48.890268, 2.304542], [48.884587, 2.296844], [48.85287894, 2.28656477], [48.848511, 2.28289], [48.99284792, 2.38874316], [48.833049, 2.341201], [48.825136, 2.357588], [48.638939, 2.256764], [48.841928, 2.372225], [48.70899, 2.44192], [48.860543, 2.295617], [48.857558, 2.3175], [48.71136, 2.38994], [48.77809281, 2.41421033], [48.85516, 2.77135], [48.7907, 2.3199], [48.804252, 2.338099], [48.77298897, 2.33919767], [48.81806882, 2.51168273], [48.82408003, 2.49766485], [48.80369052, 2.41280345], [48.87745164, 2.46136137], [48.87874, 2.43954], [48.91946608, 2.41353311], [48.93238204, 2.40613995], [48.91509721, 2.40428902], [48.91776402, 2.37472216], [48.92575623, 2.32672369], [48.86643, 2.22791], [48.90583407, 2.21045973], [48.82304, 2.381235], [48.86735198, 2.41321027], [48.90222, 2.2394], [48.862014, 2.264393], [48.864979, 2.358274], [48.851495, 2.406272], [48.888955, 2.372498], [48.88936058, 2.32234508], [48.883286, 2.307296], [48.85509, 2.22619], [48.847435, 2.273825], [48.859014, 2.293299], [48.823848, 2.332831], [48.83964, 2.395385], [48.862293, 2.385211], [48.8504394, 2.38272965], [48.877037, 2.329477], [48.87329402, 2.2955364], [48.872837, 2.310779], [48.856472, 2.321094], [48.84746005, 2.36554205], [48.79603, 2.3981], [48.844085, 2.254681], [48.80453, 2.43243], [48.892257, 2.300943], [48.885977, 2.398093], [48.76824, 2.38893], [48.75684, 2.3154], [48.883055, 2.310462], [48.839963, 2.254584], [48.79476, 2.44496], [48.827563, 2.292116], [48.78764141, 2.46799573], [48.841884, 2.36788], [48.7835, 2.40769], [48.738782, 2.446591], [48.76440755, 2.40617537], [48.85240283, 2.46298242], [48.824297, 2.498606], [48.76249572, 2.4133696], [48.81478, 2.55956], [48.75443884, 2.50595784], [48.968855, 2.37434331], [48.798193, 2.420645], [48.91025305, 2.33783791], [48.86086, 2.46619], [48.92102177, 2.44915821], [48.873497, 2.454001], [48.919972, 2.446061], [48.92478, 2.40663], [48.87308, 2.4537], [49.053849, 2.334117], [48.90705, 2.488755], [48.92033554, 2.43966155], [48.9113, 2.44659], [48.89457, 2.57573], [48.92384678, 2.49376286], [48.87912, 2.22219], [48.78526569, 2.23274052], [48.84532, 2.19808], [48.88938892, 2.28889525], [48.81752169, 2.32543409], [48.94237052, 2.28392673], [48.89723993, 2.26617193], [48.922327, 2.24927], [48.91057916, 2.30602831], [48.8106431, 2.30802637], [48.77205, 2.24496], [48.91095523, 2.29510278], [48.72232, 2.24931], [48.6787, 2.33389], [48.89292727, 2.47244859], [48.88893243, 2.47376801], [48.9588, 2.46452], [48.93788866, 2.29766722], [48.91952, 2.35729], [48.82665078, 2.51617424], [48.717274, 2.599125], [48.76965561, 2.38000814], [48.999319, 2.879118], [48.70729, 2.31165], [48.42748, 2.15378], [48.43381, 2.20822], [48.72967, 2.31449], [48.57299, 2.46767], [48.63449, 2.53672], [48.88062879, 2.27368809], [48.91531692, 2.22011864], [48.79528, 2.04728], [48.822561, 2.314235], [48.816126, 2.343541], [48.872773, 2.390828], [48.8846, 2.34718], [48.886658, 2.359614], [48.871877, 2.293649], [48.857036, 2.266513], [48.871926, 2.242059], [48.85946, 2.266017], [48.86256678, 2.30996132], [48.829185, 2.374207], [48.865565, 2.367089], [48.873781, 2.327024], [48.874841, 2.319816], [48.861047, 2.313241], [48.857392, 2.324094], [48.862591, 2.319018], [48.855566, 2.294032], [48.866369, 2.323469], [48.881995, 2.340421], [48.793403, 2.369154], [48.759914, 2.408314], [48.98424635, 2.52531901], [48.77173, 2.54474], [48.95815, 2.55833], [48.90990237, 2.33822116], [48.91496764, 2.3384637], [48.88463, 2.50753], [48.95180388, 2.31940051], [48.91966047, 2.47084169], [48.90630483, 2.48239395], [48.90708, 2.46907], [48.91322912, 2.37415565], [48.85101731, 2.19316453], [48.84140803, 2.22118288], [48.82779213, 2.27398127], [48.80975355, 2.31731862], [48.90997219, 2.28446625], [48.72011, 2.182395], [48.62131, 2.42325], [48.77263927, 2.24280547], [48.88922696, 2.24688395], [48.8954056, 2.1942053], [48.833569, 2.135392], [48.9267, 2.40335], [49.06427517, 2.21383601], [49.04149, 2.08089], [48.92750095, 2.33291835], [49.01802, 2.14116], [48.85862314, 2.48692119], [48.827415, 2.617369], [49.067315, 2.331934], [48.792563, 2.934857], [48.80402173, 2.38487944], [48.84788, 2.46415], [48.85368, 2.46973], [48.94496981, 2.58574784], [49.00318, 2.56574], [48.89073491, 2.40059316], [48.88379772, 2.53135326], [48.96409235, 2.34861799], [48.92336, 2.44595], [48.90711017, 2.50608261], [48.9062762, 2.48219473], [48.829089, 2.224378], [48.627364, 2.354738], [49.066074, 2.449543], [48.869171, 2.270687], [48.861062, 2.31326], [48.871768, 2.264369], [48.852104, 2.415714], [48.8864, 2.393455], [48.899545, 2.34871], [48.881514, 2.300682], [48.88803, 2.324617], [48.887757, 2.318363], [48.871772, 2.35715], [48.876538, 2.355835], [48.874812, 2.357385], [48.872355, 2.299483], [48.854117, 2.306315], [48.867027, 2.363344], [48.855241, 2.361148], [48.869126, 2.351567], [48.791667, 2.446185], [48.81714, 2.367469], [48.81615, 2.54813], [48.884129, 2.353233], [48.91377475, 2.53690184], [48.9243, 2.38436], [48.864019, 2.277527], [48.90894674, 2.38687295], [48.866117, 2.289483], [48.865256, 2.230884], [48.887549, 2.278483], [48.821505, 2.369201], [48.88461, 2.25509], [48.882191, 2.333599], [48.851769, 2.317118], [48.8669, 2.344186], [48.85873, 2.348357], [48.8074, 2.4422], [48.811404, 2.384102], [48.75192, 2.35291], [48.7526, 2.37448], [48.95359307, 2.32724937], [48.92079121, 2.45329372], [48.90957, 2.58497], [48.89686, 2.50096], [48.89277507, 2.18752876], [48.9083, 2.31293], [49.059006, 2.171452], [49.15691, 2.047148], [48.717052, 2.03113], [48.78814065, 2.3444426], [48.87528738, 2.44004158], [48.91454975, 2.47732254], [48.91454975, 2.47732254], [48.99151, 2.19085], [48.55993, 2.4843], [48.83887386, 2.1936047], [48.90551, 2.46138], [48.82701466, 2.2242259], [48.92990824, 2.32700212], [49.05498, 2.42402], [48.92788, 2.40351], [49.03492, 2.19666], [48.81737184, 2.4349508], [48.96694425, 2.25535154], [48.85202343, 2.48970428], [48.88757, 2.47287], [48.7631492, 2.38096972], [48.87061713, 2.33207881], [48.71452, 2.33183], [48.670441, 2.365602], [48.76093, 2.66275], [48.902494, 2.151808], [48.8978, 2.1115], [48.918141, 2.02653], [48.430637, 2.66139], [48.842493, 2.338188], [48.842501, 2.338189], [48.890269, 2.32077], [48.848116, 2.264346], [48.862559, 2.294154], [48.849676, 2.387312], [48.871761, 2.314194], [48.83029, 2.513138], [48.95628296, 2.36337508], [48.924654, 2.362579], [48.92746, 2.34161], [48.87728117, 2.47999327], [48.83642, 2.58248], [48.85104, 2.42451], [48.87685, 2.41433], [48.95895, 2.34213], [48.93799017, 2.40479568], [48.813, 2.29873], [48.81541966, 2.27706707], [48.8487959, 2.19062895], [48.8789015, 2.27076387], [48.89658479, 2.27276623], [48.78901406, 2.23387465], [48.80326, 2.25684], [48.819874, 2.374335], [48.900368, 2.375187], [48.900675, 2.333095], [48.81688, 2.348326], [48.851109, 2.330724], [48.848088, 2.327934], [48.86318, 2.38729], [48.887183, 2.320923], [48.894359, 2.313252], [48.821912, 2.325454], [48.826418, 2.341792], [48.857722, 2.347779], [48.80552809, 2.49549025], [48.83554, 2.47382], [48.81578, 2.38304], [48.78147121, 2.34248391], [48.84903, 2.46762], [48.77497, 2.48108], [48.8142224, 2.5662134], [48.81244153, 2.5108636], [48.87353, 2.52967], [48.92039991, 2.45748938], [48.90664, 2.48826], [48.92959853, 2.46719639], [48.89056107, 2.26511613], [48.90143, 2.27802], [48.850732, 2.410948], [48.895548, 2.328289], [48.878492, 2.282976], [48.869108, 2.284015], [48.866982, 2.250379], [48.834508, 2.380862], [48.874238, 2.29969], [48.873847, 2.295945], [48.76404688, 2.4421277], [48.81756, 2.35338], [48.56347, 2.244609], [48.7652665, 2.33852425], [48.750184, 2.413202], [48.719505, 2.520986], [48.94356, 2.59078], [48.89733, 2.47065], [48.95827, 2.32553], [48.907292, 2.480296], [48.90833191, 2.49722096], [48.92939, 2.497607], [48.82196142, 2.30867118], [48.886861, 2.279069], [48.83255258, 2.24019438], [49.14717, 2.260299], [49.10841517, 2.43684193], [48.998638, 2.508434], [48.77892968, 2.34679475], [48.71199, 2.18395], [48.79407352, 2.34456235], [48.865068, 2.286511], [48.76284698, 2.30411982], [48.839991, 2.290364], [48.76371356, 2.34190432], [48.841973, 2.395998], [48.93488462, 2.28273043], [48.875954, 2.359493], [48.864393, 2.330116], [48.92201331, 2.2267277], [48.81292733, 2.44895577], [48.79554, 2.3976], [48.782026, 2.394373], [48.79911, 2.41149], [48.80225, 2.49211], [48.805, 2.4319], [48.80991512, 2.37889811], [48.78352344, 2.34631387], [48.759712, 2.397102], [48.925842, 2.364578], [48.93512928, 2.28395155], [48.93557379, 2.26362781], [48.901106, 2.516439], [48.800102, 1.968676], [48.86478, 2.45323], [48.82844169, 2.50273164], [48.90722, 2.44984], [48.92974722, 2.32603859], [48.8461608, 2.21997656], [48.88904043, 2.26660162], [48.91009702, 2.21505851], [48.89375526, 2.2899726], [48.81481738, 2.26464137], [48.92679264, 2.31478482], [48.7606545, 2.28678614], [48.89670247, 2.23664448], [48.62614, 2.26099], [48.91248, 2.31135], [48.85533602, 2.76856027], [48.65019, 2.3843], [48.9309, 2.27544], [48.782344, 2.223142], [48.93623305, 2.30081199], [48.9361742, 2.28927815], [48.9664443, 2.25627474], [48.94230876, 2.28959192], [48.96206, 2.46972], [48.83015, 2.61295], [48.97288385, 2.31026173], [49.01177, 2.30487], [48.98724, 1.91236], [48.710156, 2.499182], [48.90868572, 2.49947314], [48.87716914, 2.27915615], [48.874254, 2.365766], [48.82826771, 2.39192694], [48.87487, 2.319969], [48.850975, 2.50424], [48.77226, 2.36737], [48.938119, 2.370769], [48.92128446, 2.36283179], [48.95318, 2.32666], [48.91032, 2.44259], [48.82817, 2.22583], [48.82890464, 2.24631384], [48.34889, 1.989103], [48.857224, 2.414234], [48.874827, 2.374008], [48.888361, 2.349572], [48.880982, 2.300275], [48.77431145, 2.34553563], [48.841111, 2.30369], [48.93457005, 2.26855543], [48.831684, 2.338689], [48.84227754, 2.36853004], [48.839082, 2.21705493], [48.834572, 2.3578], [48.781431, 2.167443], [48.846845, 2.369395], [48.932266, 1.976196], [48.875194, 2.323838], [48.78753, 2.146518], [48.79795886, 2.49504635], [48.9330032, 2.25090697], [48.82026, 2.46734], [48.83202658, 2.64943037], [48.819932, 2.465276], [48.8268961, 2.5128995], [48.80613, 2.36356], [48.9147116, 2.63454857], [48.80525, 2.38939], [48.79362968, 2.46090035], [48.76889258, 2.42065005], [48.85797176, 2.54080465], [48.860108, 2.439068], [48.852696, 2.406121], [48.849676, 1.852859], [48.9478958, 2.50147365], [48.867948, 2.408881], [48.89638, 2.29152], [48.894416, 2.372684], [48.90359881, 2.31736825], [48.886563, 2.384634], [48.90357547, 2.31755018], [48.891251, 2.363284], [48.78833, 2.30126], [48.892884, 2.328347], [48.83978, 2.23916], [48.879075, 2.296871], [48.885273, 2.303349], [48.890619, 2.303117], [48.897588, 2.324131], [48.86891, 2.291493], [48.60053, 2.4393], [48.837589, 2.310975], [48.68926, 2.21995], [48.8208, 2.321048], [48.9364031, 2.28946318], [48.819138, 2.359503], [48.84232, 2.371814], [48.847491, 2.381147], [48.9641, 1.775189], [48.884238, 2.364627], [48.963155, 1.834819], [48.92475, 2.34108], [48.855039, 2.306628], [48.93851705, 2.30001759], [48.848839, 2.311427], [48.94355783, 2.28738079], [48.864693, 2.359723], [48.78478843, 2.38771614], [48.96171189, 2.32681096], [48.79344, 2.47866], [48.958179, 2.196016], [48.66762, 2.3329], [48.80901, 2.36624], [48.80479, 2.387305], [48.71774, 2.30722], [48.77869, 2.45745], [48.69365, 2.4133], [48.76463, 2.41633], [48.6846, 2.36709], [48.81855, 2.51148], [48.659, 2.36432], [48.81880535, 2.52029443], [48.762717, 2.519596], [48.45847, 2.17753], [48.865392, 2.561241], [48.88053474, 2.56959357], [48.955929, 2.338751], [48.93604, 2.42709], [48.89433, 2.54959], [48.89666, 2.11992], [48.93374411, 2.31347367], [48.764328, 2.000735], [48.84102, 2.61385], [48.90367135, 2.311977], [48.907937, 2.292544], [48.85704, 2.78573], [48.91617241, 2.30461903], [48.81332, 3.07873], [48.74214, 2.30271], [48.896391, 2.810553], [48.822279, 2.875969], [48.76265903, 2.30300964], [48.60938, 2.43948], [48.93699329, 2.29326176], [48.96072159, 2.46789896], [48.90396716, 2.47131617], [48.94801, 2.44503], [48.84027522, 2.49328165], [48.81737184, 2.4349508], [48.65588, 2.37832], [48.555258, 1.934752], [48.93417121, 2.27149149], [48.77608496, 2.42954952], [48.82940031, 2.48394864], [48.7766716, 2.41970908], [48.855125, 2.387091], [48.879266, 2.362903], [48.57379, 2.46707], [48.75866, 2.48586], [48.69133, 2.32248], [48.82035, 2.511071], [48.816409, 2.358981], [48.94861739, 2.38074213], [48.88543869, 2.25809907], [48.94036, 2.36781], [48.873008, 2.4352839], [48.86624, 2.487126], [48.94173674, 2.29060453], [48.89807, 2.50154], [48.94364712, 2.28775617], [48.8943806, 2.3989245], [49.03653, 2.0942], [48.829349, 2.570782], [49.04605, 2.44253], [48.85247, 2.2127], [48.91231784, 2.47626871], [48.86005, 2.340413], [48.914667, 2.229152], [48.994266, 2.515228], [48.842066, 2.3295335], [48.90501, 2.28777], [48.89423, 2.352883], [49.12341444, 2.55676911], [48.75207362, 2.30779034], [48.891431, 2.302264], [48.9506349, 2.44928777], [48.87729868, 2.27912199], [48.821543, 2.369371], [48.94065417, 2.62841122], [48.843892, 2.373217], [48.94065417, 2.62841122], [48.721007, 2.441061], [48.6812, 2.4282], [48.85316, 2.66537], [48.837594, 2.707857], [48.96474, 2.37289], [48.59181, 2.72579], [48.90807, 2.32755], [48.90876884, 2.33953737], [48.858627, 2.43013], [48.92892995, 2.45285962], [48.89157831, 2.49014281], [48.81014216, 2.31428236], [48.82259581, 2.25772083], [48.92763852, 2.25375295], [48.78131742, 2.24158108], [48.83001712, 2.25638956], [48.84517, 2.24291], [48.91308016, 2.30682582], [48.63141, 2.40726], [48.94589035, 2.28373638], [48.96180699, 2.46685982], [48.83458792, 2.53722059], [49.028587, 2.464376], [48.878879, 2.407906], [48.900731, 2.335823], [48.901118, 2.354841], [48.858565, 2.244856], [48.829611, 2.32852], [48.854168, 2.338952], [48.893172, 2.303521], [48.885032, 2.347344], [48.830882, 2.344177], [48.880803, 2.308915], [48.846428, 2.324772], [48.850275, 2.342672], [48.878406, 2.298392], [48.878701, 2.382295], [48.827799, 2.342408], [48.84004621, 2.26371467], [48.835495, 2.3586], [48.87017136, 2.35473678], [48.823159, 2.373807], [48.864732, 2.301488], [48.850977, 2.323839], [48.934787, 2.727913], [48.854697, 2.392016], [48.9353, 2.53415], [48.89232, 2.505], [48.9004, 2.52925], [48.86666, 2.41263], [48.85333269, 2.44839549], [48.90082997, 2.47084558], [48.84801, 2.367646], [48.86698199, 2.38285384], [48.855876, 2.383252], [48.860509, 2.295671], [48.857421, 2.345604], [48.85367, 2.455], [48.73783, 2.40801], [48.89984, 2.409472], [48.85964525, 2.43295036], [48.9571243, 2.41589078], [48.95332857, 2.41642414], [48.905373, 2.474949], [48.914806, 2.47892], [48.94709, 2.45909], [48.91191, 2.22297], [48.9131361, 2.2258687], [48.73073, 2.32514], [48.91627405, 2.22128736], [48.31783, 1.993258], [48.831114, 2.687782], [48.8288331, 2.50053561], [48.83358368, 2.24389046], [48.71, 2.287], [48.74752, 2.32703], [48.614276, 2.564739], [48.787934, 2.063052], [48.970445, 1.890272], [48.88778, 2.47247], [49.0014152, 2.17205622], [48.92549999, 2.39634991], [48.977153, 2.49783], [48.96361976, 2.52140428], [48.68617, 2.19188], [48.92769, 2.40339], [49.06957407, 2.55231568], [48.677118, 2.609409], [48.82630823, 2.51972233], [48.83612292, 2.54112191], [48.863405, 2.35095], [48.85555, 2.10739], [49.02683, 2.19987], [49.018643, 1.952144], [48.892143, 2.301374], [48.821648, 2.317887], [48.891243, 2.377369], [48.888039, 2.324612], [48.82996868, 2.30559468], [48.833524, 2.334244], [48.837219, 2.323956], [48.853631, 2.387097], [48.868813, 2.367613], [48.878973, 2.35575], [48.857296, 2.273046], [48.861767, 2.365262], [48.78220019, 2.37209503], [48.794594, 2.51162], [48.625435, 2.137667], [48.80727, 2.54961], [48.798574, 2.326875], [48.79076, 2.3199], [48.756431, 2.374134], [48.90089, 2.870212], [48.818574, 2.866128], [48.77549, 2.35368], [48.768354, 2.367835], [48.778204, 2.438286], [48.91650275, 2.34620767], [48.90885355, 2.3782126], [48.83604, 2.54753], [48.86914, 2.43236], [48.87883601, 2.4222959], [48.89331983, 2.48690536], [48.91207778, 2.50865657], [48.93839, 2.33177], [48.87115675, 2.22779131], [48.86511288, 2.20855996], [48.82626, 2.19203], [48.87993176, 2.18057728], [48.89363317, 2.2674349], [48.87946, 2.20825], [48.89248921, 2.21358848], [48.800973, 2.279232], [48.8263, 2.2722], [48.92413671, 2.247987], [48.89988595, 2.3088643], [48.77447, 2.26962], [48.587509, 2.703323], [48.7028309, 2.91785112], [48.578453, 2.298589], [49.138586, 2.291669], [48.94479608, 2.36298095], [48.93455169, 2.51685024], [48.94443217, 2.34229906], [48.91890697, 2.32846669], [48.85271, 2.51199], [48.86175, 2.48269], [48.90255, 2.51156], [48.91197646, 2.52076582], [48.93587658, 2.57633418], [48.87699, 2.55733], [48.9571, 2.3105], [48.92337, 2.38532], [48.51804, 2.204196], [48.853304, 2.375735], [48.87164285, 2.21885991], [48.82919, 2.390249], [48.90818, 2.33262], [48.79853, 1.91447], [48.920997, 2.716631], [48.66818, 2.19396], [48.635, 2.535], [48.69949, 2.31242], [48.82602589, 2.22262601], [48.92559, 2.39789], [48.86612, 2.42297], [48.83047833, 2.63269369], [48.9859, 2.41956], [49.05823249, 2.0035243], [48.68559, 2.37394], [48.90364, 2.29836], [48.808801, 2.273781], [48.787085, 2.255774], [49.059095, 2.188447], [49.098986, 2.531297], [48.791316, 2.056485], [48.86828845, 2.48218385], [48.93753987, 2.41193935], [48.88411231, 2.46310523], [48.838692, 2.412999], [48.88596866, 2.39759132], [48.886423, 2.289297], [48.855155, 2.4114406], [48.873367, 2.410256], [48.883237, 2.387933], [48.882887, 2.3706], [48.86296, 2.272655], [48.846444, 2.378947], [48.852782, 2.388757], [48.95789, 2.801771], [48.869063, 2.310305], [48.96281, 2.2869], [48.79645386, 2.38467667], [48.670573, 2.956374], [48.80128724, 2.49456305], [48.631411, 2.264025], [48.80061918, 2.49609382], [48.592995, 2.984371], [48.80786235, 2.33340302], [48.74885591, 2.40666783], [48.92481, 2.368], [48.9336, 2.37151], [48.8911084, 2.40200986], [48.90461333, 2.47046154], [48.84651, 2.56811], [48.849837, 2.734071], [48.94007639, 2.45772421], [48.85957585, 2.21367234], [48.90233906, 2.31396818], [48.82851467, 2.25413203], [48.73782388, 2.31761634], [48.61139, 2.43077], [48.865421, 2.037463], [48.93512928, 2.28395155], [49.02912935, 2.5014925], [48.87196954, 2.48145735], [49.03436988, 2.10212767], [49.06401434, 2.26534221], [48.92271, 2.3809], [48.8791675, 2.47634149], [48.89094081, 2.47316485], [48.86627623, 2.41437177], [48.91618, 2.35751], [48.979428, 1.913078], [48.68, 2.53], [48.62791, 2.41788], [48.62214, 2.41673], [48.895422, 2.093479], [49.085379, 2.197451], [48.852842, 2.388454], [48.880803, 2.351186], [48.880604, 2.324941], [48.962076, 2.332921], [48.80098246, 2.39915523], [48.746585, 2.446538], [48.7285, 2.28589], [48.71653, 2.4823], [48.75020953, 2.48254253], [48.68731, 2.37229], [48.65932, 2.373303], [48.85127, 2.51082], [48.7974, 2.44], [48.808971, 2.36254], [48.810587, 2.326825], [49.00673, 2.12098], [48.81813, 2.43234], [48.79329, 2.4569], [48.81439755, 2.53770348], [48.914666, 2.331849], [48.908186, 2.32777], [48.8804158, 2.49598982], [48.88674, 2.5118], [48.91560419, 2.40487933], [48.875556, 2.409953], [48.822847, 2.312865], [48.88365, 2.389498], [48.898937, 2.382565], [48.862707, 2.406669], [48.85568, 2.52662], [48.854681, 2.410289], [48.885223, 2.303362], [48.882921, 2.384783], [48.90448, 2.55383], [48.90067334, 2.32114613], [48.87667, 2.265812], [48.82296695, 2.30307072], [48.881525, 2.289213], [48.851267, 2.24182], [48.843623, 2.379771], [48.94622555, 2.30202958], [48.862247, 2.304091], [48.91895924, 2.31167324], [48.85129, 2.27844], [48.92948, 2.28187], [48.856749, 2.348948], [48.84221, 2.299237], [48.84529, 2.43093], [48.73466161, 2.28539631], [48.750739, 2.467714], [48.823075, 2.325408], [48.819436, 2.343664], [48.78065446, 2.33140755], [48.7382, 2.40835], [48.828266, 2.326707], [48.71777577, 2.57017744], [48.833671, 2.331833], [48.91533857, 2.35298663], [48.84230343, 2.36860514], [48.89789752, 2.4055417], [48.90211, 2.39752], [48.91993681, 2.45153934], [48.922629, 2.426913], [48.822786, 2.358354], [48.90736085, 2.49579311], [48.91107, 2.38468], [48.839929, 2.382357], [48.84261, 2.22113], [48.868932, 2.380457], [48.84144, 2.20712], [48.88999144, 2.28505567], [48.860154, 2.37875], [48.92853353, 2.27260217], [48.875784, 2.356502], [48.877673, 2.370157], [48.862014, 2.321173], [48.849511, 2.365638], [48.80933512, 2.47190787], [48.82484, 2.477162], [48.81394092, 2.36096661], [48.74894798, 2.41319177], [48.854754, 2.410272], [48.79823, 2.42066], [48.889151, 2.332246], [48.821605, 2.369038], [48.94923, 2.55046], [48.850354, 1.877123], [48.87964, 2.32704], [48.94021, 2.57734], [48.96609, 2.56331], [48.877772, 2.331975], [48.93015612, 2.52863814], [48.891191, 2.82632], [48.86666363, 2.3220242], [48.758197, 2.877994], [48.9310825, 2.42183465], [48.858887, 2.314757], [48.503919, 2.861331], [48.90863876, 2.49012881], [48.861221, 2.36068], [48.95286403, 2.49897655], [48.80719, 2.44587], [48.626, 2.3551], [48.836635, 2.221835], [48.902123, 2.203614], [48.76036195, 2.39898638], [48.85412, 2.22259], [48.980131, 1.698576], [48.77768, 2.45769], [48.92299, 2.256235], [48.93391583, 2.38755931], [48.91200839, 2.2966066], [48.73226, 2.40866], [49.06427517, 2.21383601], [48.91526, 2.35792], [48.91164, 2.29857], [48.97613, 2.38248], [48.90369, 2.52488], [48.86242753, 2.46604979], [48.94710416, 2.34274034], [48.94103, 2.45878], [48.8845281, 2.26866871], [48.37653, 2.73974], [48.75983, 2.26127], [48.75203818, 2.33088421], [48.76115867, 2.33989983], [48.969442, 1.914234], [48.793269, 2.082101], [48.85684395, 2.48790403], [48.77659469, 2.41691046], [48.77195676, 2.39568914], [48.78949641, 2.44022264], [48.67638, 2.53059], [48.871468, 2.302412], [48.821648, 2.317887], [48.888403, 2.348012], [48.879294, 2.291452], [48.568445, 2.588821], [48.856175, 2.277894], [48.85788, 2.768083], [48.852923, 2.229998], [48.870807, 2.288066], [48.836687, 2.30953], [48.83735, 2.305991], [48.851152, 2.397483], [48.872947, 2.333262], [48.859005, 2.293396], [48.856884, 2.298823], [48.79592825, 2.41161919], [48.74457736, 2.47020024], [48.80606, 2.51065], [48.79447369, 2.35828525], [48.73132, 2.5236], [48.8234977, 2.30283871], [48.93174386, 2.24616936], [48.90853548, 2.23731235], [48.836624, 2.089531], [48.89481613, 2.25051445], [48.963742, 1.828132], [48.913258, 2.240664], [49.05289, 2.11686], [48.866249, 2.569328], [48.55953, 3.277409], [48.96981, 2.82979], [48.820927, 2.321828], [48.852469, 2.338764], [48.849407, 2.356407], [48.863018, 2.295199], [48.863941, 2.272405], [48.843775, 2.286379], [48.830927, 2.355962], [48.82855, 2.384394], [48.856772, 2.377863], [48.895142, 2.382722], [48.888821, 2.331745], [48.864611, 2.377987], [48.835159, 2.277855], [48.862266, 2.302682], [48.627161, 2.818674], [48.855567, 2.390165], [48.840521, 2.434299], [48.879648, 2.326977], [48.869745, 2.308054], [48.85897, 2.293395], [48.852623, 2.359885], [48.859645, 2.313067], [48.72265, 2.44363], [48.81635, 2.34097], [48.77405978, 2.51680503], [48.798222, 2.480968], [48.76007, 2.49499], [48.793245, 2.425534], [48.8926, 2.51286], [48.81695, 2.37933], [48.88012, 2.54509], [48.625154, 2.361403], [48.95720015, 2.31717513], [48.848456, 2.2449], [48.78004687, 2.49299452], [48.93155, 2.42221], [48.9496723, 2.2802208], [48.91362, 2.38548], [48.909031, 2.286713], [48.7819, 2.5698], [48.81541, 2.32803], [48.99906, 1.6828], [48.81659729, 2.45989801], [48.81626037, 2.30593264], [48.83112955, 2.27898949], [48.83296, 2.24633], [48.82723, 2.51525], [48.9145, 2.32986], [48.88728, 2.52117], [48.90152, 2.52881], [48.89775, 2.46235], [49.03466, 2.08273], [48.92764, 2.55298], [48.65155, 2.27255], [48.91971752, 2.54590583], [48.729703, 2.233868], [48.92915, 2.48938], [48.90735634, 2.38781707], [48.706865, 2.1241], [48.711388, 2.375242], [48.92456831, 2.30440557], [48.995005, 1.932082], [48.91427171, 2.22952266], [48.83049, 2.24529], [48.6049, 2.5669], [48.91375917, 2.28759876], [48.92114741, 2.27841407], [48.44415, 2.71885], [48.75137, 2.30456], [48.66763, 2.3575], [48.75926173, 2.32315997], [48.75494, 2.34599], [48.62476, 2.33061], [48.93424671, 2.25694533], [48.77693549, 2.22484589], [48.960905, 1.930052], [48.91336825, 2.21862758], [48.96142191, 2.26895571], [48.87775, 2.4453], [48.95276, 2.27959], [49.01544622, 2.53143909], [48.88672, 2.47982], [48.90288, 2.47089], [48.826278, 2.465882], [48.68853, 2.38223], [48.95159, 2.34317], [48.723788, 2.260714], [48.70134, 2.41533], [48.686236, 2.406113], [48.70338, 2.34959], [48.997061, 1.90878], [48.8412, 2.61569], [48.55116, 2.65274], [48.90065, 2.365705], [48.816445, 2.347125], [48.830171, 2.402188], [48.81930044, 2.32872337], [48.74898464, 2.35721472], [48.900787, 2.338559], [48.841187, 2.107408], [48.860823, 2.413832], [48.91432, 2.005596], [48.974496, 2.491158], [48.820209, 2.366059], [48.853777, 2.344395], [48.63465, 2.34138], [49.01863, 2.53304], [48.85247966, 2.33874142], [48.657685, 2.337743], [48.908891, 2.637821], [48.885125, 2.350835], [48.63522, 2.28557], [48.75429, 2.350559], [48.853799, 2.23719], [49.00268, 2.35891], [48.712722, 2.302643], [48.836, 2.56], [48.868455, 2.298897], [48.70878, 2.37152], [48.77482657, 2.41105831], [48.691913, 2.348448], [48.820402, 2.337944], [48.863926, 2.320957], [48.867943, 2.362324], [48.853435, 2.367172], [48.866538, 2.364796], [48.86759899, 2.35331118], [48.99106, 1.91564], [48.80143957, 2.37928922], [49.00413, 1.90686], [48.794714, 2.418005], [48.98486067, 2.36133635], [48.809574, 2.358712], [48.81315935, 2.51262528], [48.95644, 2.33421], [48.81651281, 2.5003478], [48.721331, 2.277073], [48.95401671, 2.31074318], [48.92113, 2.44739], [48.96036057, 2.48833895], [48.82526367, 2.29302317], [48.86153, 2.81745], [48.85084, 2.20477], [48.86545, 2.20735], [48.8873267, 2.23199219], [48.89446474, 2.19390195], [48.81820347, 2.31941879], [48.89272, 2.28597], [48.82696, 2.27921], [48.921964, 2.319808], [48.89090241, 2.24769509], [48.922927, 2.255422], [48.90845, 2.30013], [48.9288931, 2.27947265], [48.861712, 2.413912], [48.874096, 2.411362], [48.848725, 2.244583], [48.862826, 2.313456], [48.844568, 2.324538], [48.873894, 2.40341], [48.889363, 2.383691], [48.89765, 2.385481], [48.878534, 2.402531], [48.872794, 2.274637], [48.892082, 2.327117], [48.884538, 2.326962], [48.891371, 2.300476], [48.8827, 2.283359], [48.832964, 2.28773], [48.890237, 2.31719], [48.859377, 2.262867], [48.857681, 2.337186], [48.861006, 2.26402], [48.853551, 2.3451], [48.828795, 2.327734], [48.848532, 2.282857], [48.8896839, 2.36810088], [48.870278, 2.385217], [48.819798, 2.325756], [48.888686, 2.293394], [48.895143, 2.311924], [48.817091, 2.344145], [48.886684, 2.30542], [48.840789, 2.258435], [48.85795, 2.380328], [48.875859, 2.281179], [48.897213, 2.394354], [48.865047, 2.234485], [48.852962, 2.396963], [48.838585, 2.269776], [48.862454, 2.310437], [48.861639, 2.246903], [48.87115, 2.321652], [48.82226, 2.33079], [48.875911, 2.318567], [48.866234, 2.35254], [48.860543, 2.295622], [48.860425, 2.326822], [48.838492, 2.289249], [48.833092, 2.324754], [48.844139, 2.281199], [48.863216, 2.354583], [48.825928, 2.322216], [48.827355, 2.369106], [48.86468, 2.329298], [48.847153, 2.292628], [48.869047, 2.355428], [48.83024, 2.325935], [48.873817, 2.356794], [48.822253, 2.330433], [48.790518, 2.42083], [48.821087, 2.354394], [48.84570563, 2.42758034], [48.86776, 2.364359], [48.866237, 2.352542], [48.81517, 2.40134], [48.869742, 2.326511], [48.877372, 2.328373], [48.75336, 2.35682], [48.868658, 2.389618], [48.877414, 2.308173], [48.78357, 2.45212], [48.879552, 2.304979], [48.7715, 2.48469], [48.874774, 2.357359], [48.872689, 2.284639], [48.86441, 2.330127], [48.762163, 2.406807], [48.84847716, 2.43490908], [48.879422, 2.353275], [48.883329, 2.326858], [48.79722, 2.57892], [48.84636, 2.41843], [48.87322, 2.331147], [48.862439, 2.309257], [48.754447, 2.506054], [48.861962, 2.3213], [48.748, 2.46522], [48.860306, 2.353021], [48.92368323, 2.34198864], [48.76078, 2.36027], [48.848912, 2.362541], [48.79363, 2.4864], [48.92117, 2.53791], [48.96851, 2.37837891], [48.79471, 2.41799], [48.92726, 2.35243], [48.93591, 2.43526], [48.76447, 2.40564], [48.75224238, 2.48616984], [48.84931, 2.56479], [48.95615, 2.54026], [48.90737, 2.38477], [48.86438775, 2.41718128], [48.79652, 2.42993], [48.90137, 2.38948], [48.8788537, 2.49027816], [48.91235, 2.54232], [48.82834393, 2.22630098], [48.89867, 2.4446], [48.81176, 2.42256], [48.83652, 2.22185], [48.89927801, 2.56296605], [48.84684933, 2.16096997], [48.80559963, 2.37626874], [48.9039462, 2.47076702], [48.8521758, 2.22004348], [48.88993086, 2.16759261], [48.86439538, 2.55119157], [48.88639689, 2.24414259], [48.79385, 2.46113], [48.88697291, 2.20066532], [48.816952, 2.325753], [48.92032, 2.45028], [48.77414114, 2.43890181], [48.79989943, 2.2821638], [48.93014, 2.28453], [48.77641535, 2.45725107], [48.90603, 2.57955], [48.91280066, 2.23565695], [48.77285, 2.25159], [48.82837, 2.55395], [48.91941331, 2.22665012], [48.89211765, 2.2649399], [48.78822, 2.25851], [48.76709554, 2.27253199], [48.81833, 2.41966], [48.8099, 2.2826], [48.76552904, 2.25374329], [48.83914706, 2.2318764], [48.91352757, 2.27321177], [48.81835, 2.41985], [48.817283, 2.328814], [48.90718909, 2.29133606], [48.816903, 2.306849], [48.95969, 2.49768], [48.81318904, 2.24061286], [48.94444126, 2.34676764], [48.89403859, 2.29212284], [48.87252044, 2.47678008], [48.82817342, 2.2605527], [49.146089, 2.258785], [48.906693, 2.246003], [48.89168, 2.4458], [48.880353, 2.886121], [48.91435426, 2.22942933], [48.91545138, 2.40475327], [48.80378141, 2.31232703], [48.8953, 2.57124], [48.94922307, 2.51113092], [48.86434, 2.20491], [48.88640606, 2.26093858], [48.79965, 2.28114], [48.807276, 2.285224], [48.93279, 2.3019], [48.9169, 2.29564], [48.90568326, 2.23901689], [48.93032, 2.261691], [48.928034, 2.250694], [48.90062, 2.30647], [48.76265903, 2.30300964], [48.91808521, 2.22294963], [48.82769882, 2.50651797], [48.824004, 2.307669], [48.872093, 2.377105], [48.87533, 2.393583], [48.895258, 2.372006], [48.87228, 2.295312], [48.863469, 2.288743], [48.822655, 2.372876], [48.868882, 2.367638], [48.881334, 2.364711], [48.87657, 2.346567], [48.870655, 2.332327], [48.738606, 2.494732], [48.96697, 2.55192], [48.86412415, 2.4668735], [48.8248, 2.19786], [48.80802245, 2.29537815], [48.80381686, 2.28821933], [48.80682, 2.28571], [48.78736354, 2.23555975], [48.8172, 2.25513], [48.89625, 2.24064], [48.78545, 2.25148], [48.62429, 2.39364], [48.87109766, 2.48225139], [48.680474, 2.232424], [48.857283, 2.014991], [48.474436, 2.260727], [48.62493, 2.32151], [48.66536, 2.36323], [48.91903976, 2.22360689], [48.82499763, 2.221007], [48.83559, 2.12996], [48.81728129, 2.28367969], [48.72013, 2.31162], [48.72728, 2.50032], [48.69567, 2.234576], [48.70092, 2.30961], [48.60952, 2.57629], [48.83942655, 2.20596191], [49.04547281, 2.44634628], [48.9338, 2.38271], [49.04549, 2.44736], [48.90789956, 2.35813022], [48.95313, 2.27919], [48.83441554, 2.49343043], [48.81731094, 2.44243718], [48.768846, 2.37919993], [48.96466683, 2.32071161], [48.974131, 1.987177], [48.91734, 2.01282], [48.91754, 2.01241], [48.895385, 2.394802], [48.818397, 2.369347], [48.880383, 2.282184], [48.883616, 2.369009], [48.820406, 2.375444], [48.87535657, 2.29615724], [48.868834, 2.283306], [48.843025, 2.312794], [48.8316889, 2.39787921], [48.872246, 2.338317], [48.871313, 2.302505], [48.773309, 2.409491], [48.890422, 2.509486], [48.91406, 2.58953], [48.94650584, 2.43640358], [48.89626, 2.479837], [48.94541, 2.45127], [48.9344856, 2.32102972], [48.89514836, 2.24991202], [48.83324804, 2.22716475], [48.74466282, 2.30331302], [48.63329, 2.26502], [48.638964, 2.261337], [48.71242, 2.303058], [48.704872, 2.371494], [48.63998, 1.8266], [48.7613, 3.02396], [48.71084, 2.28856], [48.75433692, 2.33216922], [48.83887386, 2.1936047], [48.83969235, 2.21105474], [48.83271459, 2.15695103], [48.96728918, 2.5119989], [49.03444, 2.10118], [48.97479, 2.2443], [49.03549763, 2.11713195], [48.94920532, 2.28069842], [48.78106943, 2.4414599], [48.586247, 2.452016], [48.82094, 2.37772], [48.816347, 2.363837], [48.7403, 2.3187], [48.866022, 2.412676], [48.71706, 2.17131], [48.882602, 2.310247], [48.62391, 2.41988], [48.893011, 2.327416], [48.85915, 2.37949], [48.93404, 2.27166], [48.855726, 2.358976], [48.180409, 2.849793], [48.98261153, 2.37048142], [48.88605314, 2.48408424], [48.848202, 2.248716], [48.889351, 2.953504], [49.01323324, 2.40693122], [48.8571, 2.4223], [48.69661, 2.39347], [48.87072328, 2.4316594], [48.8882438, 2.19414622], [48.87346451, 2.43622341], [49.03701, 2.54124], [48.88676096, 2.4791167], [48.88411231, 2.46310523], [48.912254, 2.635613], [48.83635097, 2.55324845], [48.82465601, 2.39368239], [48.78275411, 2.44084607], [48.728375, 2.604602], [48.80476702, 2.34457441], [48.89707199, 2.46965129], [49.0569623, 2.20683575], [49.03910581, 2.08600223], [48.7761883, 2.43180914], [48.7761883, 2.43180914], [48.76323303, 2.34206347], [48.624, 2.368], [48.97259, 2.48485], [49.04821494, 2.13358004], [49.00604, 1.60141], [48.81754093, 2.43504501], [48.936218, 2.330428], [48.829525, 2.401228], [48.828642, 2.398889], [48.873267, 2.381918], [48.849399, 2.296484], [48.829991, 2.36467], [48.883887, 2.368628], [48.61781, 2.45674], [48.63357, 2.40074], [48.85223759, 2.51094662], [48.89493716, 2.22826373], [48.813607, 2.425997], [48.83764217, 2.81467222], [48.97399, 2.39908], [48.76936, 2.46106], [48.825146, 2.463772], [48.76325445, 2.52318151], [48.891876, 2.395332], [49.009211, 2.255643], [48.838474, 2.350681], [48.86175, 2.53641], [48.98105, 2.27029], [48.896943, 2.385009], [48.863394, 2.286967], [48.62651, 2.34179], [48.8767, 2.273418], [48.831016, 2.29234], [48.83381, 2.36516], [48.70637, 2.39531], [48.84066753, 2.36962974], [48.870967, 2.353201], [48.44072, 2.14345], [48.881417, 2.351445], [49.010296, 1.903816], [48.875665, 2.356616], [48.876294, 2.323546], [48.55707792, 2.55747117], [48.86339956, 2.35096157], [48.866919, 2.674946], [48.85668, 2.34836], [48.8707, 2.78337], [48.8181, 2.46637], [48.8123, 2.38628], [48.39817, 2.69071], [48.75565, 2.38542], [48.76516, 2.35638], [48.92848, 2.36892], [48.87190742, 2.49313288], [48.87117976, 2.47098422], [48.86235, 2.517026], [48.8417436, 2.20132649], [48.844394, 2.220383], [48.985307, 2.381615], [48.92297, 2.24981], [48.79039, 2.26386], [48.65, 2.27], [48.61864, 2.30928], [48.630803, 2.318537], [48.83392, 2.590759], [48.71773, 2.24067], [48.666, 2.527], [48.831263, 2.682284], [48.708614, 2.382403], [48.839637, 2.254165], [48.70588, 2.37141], [48.893172, 2.303521], [48.707132, 2.33117], [48.4116, 2.14395], [48.888911, 2.294871], [48.900101, 2.391479], [48.871654, 2.36013], [48.848099, 2.350481], [48.867262, 2.403799], [48.88234, 2.311757], [48.858463, 2.22728], [48.829596, 2.328426], [48.98435, 2.3871], [49.13410629, 1.83129479], [48.479798, 2.320782], [48.548305, 2.67083], [48.874154, 2.298916], [48.850084, 2.276423], [48.85161, 2.77808], [48.76685, 2.403742], [48.831982, 2.698868], [48.807168, 2.525792], [48.41151, 2.66467], [48.92966735, 2.5096424], [48.81612, 3.11228], [48.92254, 2.52442], [48.9356, 2.33547], [48.98601, 1.73123], [48.56049, 2.59623], [48.48082, 2.66682], [49.145419, 2.283488], [48.79745, 3.09482], [48.66706, 2.19177], [49.170706, 2.211256], [48.69894, 2.31261], [48.89302103, 2.2348168], [48.9588, 2.4733], [48.968804, 2.315016], [49.045732, 2.071387], [48.683542, 2.432061], [48.799603, 1.983725], [48.65288, 2.38521], [48.94353, 2.43618], [48.83962241, 2.72118207], [49.04671, 2.43817], [48.915819, 2.143072], [48.9893669, 2.24385774], [49.04241798, 2.18856615], [48.55936, 2.61849], [48.95083853, 2.27990658], [48.73321171, 2.61033847], [48.260784, 2.443997], [48.9036152, 2.320418], [48.869887, 2.27151], [48.897213, 2.394354], [48.847233, 2.279175], [48.897542, 2.344683], [48.864965, 2.395545], [48.62484, 2.30411], [48.874925, 2.271112], [48.71669, 2.44263], [48.6631, 2.36714], [48.831952, 2.341143], [48.80389457, 2.3420366], [48.872571, 2.376213], [48.93542176, 2.2605831], [48.883425, 2.284172], [48.872291, 2.301707], [48.83339, 2.31227], [48.988343, 1.657033], [48.89997, 2.38647], [48.835, 2.26613], [48.870315, 2.332704], [48.84359, 2.7762], [48.965644, 1.923681], [48.83866923, 2.37572908], [48.861978, 2.350175], [48.969698, 1.867391], [48.849597, 2.344825], [48.850809, 2.361432], [48.77621518, 2.23316898], [48.725, 2.3], [48.86793, 2.386624], [48.787141, 2.450426], [48.780589, 2.222714], [49.06770069, 2.39703848], [48.78827207, 2.48804571], [48.861718, 2.400188], [48.92703, 2.4056], [48.78998147, 2.32635176], [48.86639922, 2.48162801], [48.899467, 2.344091], [48.92521284, 2.39306196], [48.7786524, 2.46480846], [48.8352488, 2.53824913], [48.898725, 2.370369], [48.75496, 2.4118], [48.425278, 2.760915], [48.88753, 2.307491], [48.96441, 2.36617], [48.87301927, 2.47055114], [48.88486, 2.297914], [48.8564258, 2.43596836], [48.888113, 2.296315], [48.9534827, 2.33622935], [48.86259, 2.319024], [48.92445031, 2.43731898], [48.93017285, 2.42083857], [48.844713, 2.318815], [48.90359223, 2.3918442], [48.830758, 2.276799], [48.98471, 2.45912], [48.88736539, 2.2570155], [48.837445, 2.318155], [48.63495, 2.34586], [48.83353239, 2.24362627], [48.64529, 2.328742], [48.829854, 2.461061], [48.71999, 2.40229], [48.901871, 2.137702], [48.844297, 2.410159], [48.88588, 2.14464], [48.838196, 2.408438], [48.939866, 2.228286], [48.880243, 2.342915], [48.69011, 2.46168], [48.955562, 2.889993], [48.68949, 2.4829], [48.875639, 2.318915], [48.723279, 2.499099], [48.880851, 2.312565], [48.857939, 2.315182], [48.858732, 2.30323], [48.99825, 1.88304], [48.8695468, 2.33152628], [48.92946, 2.04309], [48.895562, 2.307691], [48.86007, 2.349088], [48.900935, 2.338542], [48.86626, 2.35255], [48.88296, 2.79975], [48.875838, 2.273598], [48.858514, 2.348241], [48.889304, 2.371293], [48.860109, 2.333296], [48.88514, 2.379397], [48.84849, 2.45442], [48.885071, 2.314508], [48.8355, 2.49406], [48.847161, 2.312071], [48.85113, 2.49501], [48.833612, 2.325804], [48.79627, 2.33113], [48.843677, 2.365541], [48.7622413, 2.34958935], [48.849611, 2.374275], [48.77678, 2.44135], [48.854505, 2.378044], [48.76272, 2.4786], [48.860063, 2.376271], [48.872275, 2.355921], [48.82409, 2.49803], [48.874356, 2.338153], [48.81026274, 2.41694967], [48.864244, 2.301478], [48.91251342, 2.33733156], [48.867779, 2.31396], [48.8807074, 2.47723024], [48.846967, 2.316806], [48.71306, 2.244414], [48.869326, 2.354273], [48.7087, 2.36657], [48.79102201, 2.39398205], [48.70053, 2.35306], [48.708951, 2.38632], [48.84463, 2.43884], [48.80571, 2.4408], [48.954704, 1.85835], [48.80929, 2.36478], [48.58692, 2.59193], [48.7637, 2.41043], [48.37269, 2.64328], [48.78006531, 2.57738426], [48.701071, 2.538526], [48.87725025, 2.49919921], [48.950837, 1.648029], [48.8915367, 2.41658811], [48.8366, 2.58243], [48.76639308, 2.2446642], [48.85423679, 2.51995584], [48.79424, 2.05], [48.88292771, 2.52654765], [48.9494, 1.94491], [48.92137951, 2.4488394], [49.03815718, 2.4848988], [48.92764054, 2.39664763], [48.754158, 2.351465], [48.9434, 2.43298], [48.93084, 2.38266], [48.90419429, 2.52179816], [48.89817922, 2.49013469], [48.93871616, 2.45816035], [48.95261968, 2.49760589], [48.81726, 2.29461], [48.844191, 2.220438], [48.86887284, 2.20365644], [48.88971, 2.27662], [48.83142965, 2.23231941], [48.92034, 2.28852], [48.76915, 2.30639], [48.987935, 1.79903], [48.863431, 2.788629], [48.74791, 2.19763], [48.771567, 2.34514085], [48.62541, 2.41695], [48.61025, 2.44411], [48.831934, 2.405092], [48.72931, 2.31424], [48.865128, 2.398645], [48.72931, 2.31434], [48.892437, 2.378876], [48.83976303, 2.20327874], [48.891541, 2.349635], [48.883614, 2.289944], [48.86555051, 2.53147256], [48.844509, 2.309177], [48.832583, 2.279226], [48.830314, 2.310869], [48.825941, 2.345182], [48.830304, 2.450129], [48.878285, 2.344962], [48.869951, 2.328042], [48.873896, 2.315906], [48.870575, 2.305425], [49.00059, 2.18239], [48.875313, 2.324956], [48.85616, 2.308088], [48.781464, 2.605321], [48.86243385, 2.33624429], [48.29857, 2.67104], [48.863885, 2.348873], [48.865333, 2.327286], [48.79874, 2.40039], [48.804, 2.3249], [48.79534779, 2.56515071], [48.81611, 2.56205], [48.93885, 2.58268], [48.927071, 2.550407], [48.91257289, 2.52261579], [48.954002, 2.327109], [48.96089, 2.29343], [48.94801, 2.33867], [48.937, 2.404], [48.938117, 2.425008], [48.90583, 2.46725], [48.881682, 2.237794], [48.90541511, 2.30885357], [48.850649, 2.252218], [48.90138114, 2.30764657], [48.809002, 2.268688], [48.858333, 2.260662], [48.822268, 2.315459], [48.77529, 2.28857], [48.877854, 2.295362], [48.880749, 2.405164], [48.76244112, 2.3031123], [48.849669, 2.347848], [48.900606, 2.373933], [48.77046433, 2.31655587], [48.858524, 2.288662], [48.8600046, 2.26315141], [48.828331, 2.306701], [48.856192, 2.404929], [48.882558, 2.366945], [48.871699, 2.403895], [48.864949, 2.310257], [48.883098, 2.371472], [48.867791, 2.343805], [48.877718, 2.381278], [48.900334, 2.380785], [48.847532, 2.365584], [48.88835, 2.349581], [48.89289117, 2.39544868], [48.85751994, 2.35142291], [48.88173305, 2.28534937], [48.882263, 2.381947], [48.78161905, 2.37268867], [48.839896, 2.40902], [48.61052, 2.43137], [48.887772, 2.318369], [48.795723, 2.433978], [48.854303, 2.395914], [48.84828, 2.300831], [48.80449301, 2.34428108], [48.88492, 2.41113], [48.852833, 2.388452], [48.872248, 2.355931], [48.87313699, 2.55337849], [48.954812, 1.938386], [48.86774, 2.36439], [48.95006, 2.46693], [48.83980011, 2.20586376], [48.90253, 2.370977], [48.89687821, 2.28838563], [48.864541, 2.369364], [48.91597, 2.13083], [48.90338758, 2.29293734], [48.81099, 2.29937], [48.880451, 2.335078], [48.83291148, 2.15823486], [48.825636, 2.25977], [48.873422, 2.347889], [48.97221, 2.48464], [48.869067, 2.310307], [48.95720448, 2.46153975], [49.04929, 2.13858], [48.851707, 2.324396], [48.83114, 2.53518], [48.9182, 2.35758], [48.940256, 2.364034], [48.855895, 2.840331], [49.027106, 2.511782], [48.86477, 2.51949], [48.91273457, 2.43680722], [48.86406, 2.51678], [48.97936, 2.228656], [48.954126, 2.338311], [48.92405, 2.38422], [48.93383226, 2.46650228], [48.8151844, 2.2988736], [48.82504806, 2.18692884], [48.88568703, 2.21758068], [48.90548, 2.35866], [48.88690736, 2.20245481], [48.83634, 2.55335], [48.89058914, 2.29173578], [48.89786155, 2.28540212], [48.90435064, 2.31149644], [48.83867158, 2.22414315], [48.91492, 2.53467], [49.02276, 2.46539], [48.9666, 2.32807], [48.678691, 2.495793], [48.71608, 2.37087], [48.43097, 2.15742], [48.845624, 2.733553], [48.523053, 2.0078], [48.5949, 2.61413], [48.73851, 2.31707], [48.64444, 2.39007], [48.75193, 2.2229], [48.844821, 2.147034], [48.91916, 2.35755], [49.02837777, 2.12775019], [48.7806436, 2.44115551], [48.7452, 2.282992], [48.698586, 2.509422], [48.687256, 2.354354], [48.41508, 2.196], [48.913997, 2.380845], [48.824677, 2.883265], [48.884074, 2.50060108], [48.88567, 2.40145], [48.91757, 2.46758], [48.8919988, 2.48899742], [48.9277422, 2.5084138], [48.84738, 2.318213], [48.92396784, 2.50445095], [48.851648, 2.400558], [48.921965, 2.374209], [48.81955, 2.30613], [48.885735, 2.371018], [48.8430922, 2.22309843], [48.877075, 2.371378], [48.83838736, 2.17350036], [48.879149, 2.303123], [48.87249614, 2.19619203], [48.83452, 2.37675], [48.82256, 2.25743], [48.822078, 2.374964], [48.91832109, 2.22386401], [48.82027, 2.371832], [48.85048765, 2.2268343], [48.840327, 2.38819], [48.83682025, 2.22426116], [48.77971496, 2.31586118], [48.85654763, 2.3792679], [48.855864, 2.383275], [48.874576, 2.296947], [48.862447, 2.306307], [48.57319, 2.46729], [48.745463, 2.469147], [48.71212, 2.3072], [48.837699, 2.495006], [48.75772551, 2.3395], [48.83894, 2.50829], [48.937462, 1.959023], [48.82357, 2.54235], [48.80488, 2.41664], [48.9109, 2.35822], [48.96838, 2.35978], [48.98559644, 2.50361681], [48.909041, 2.34427], [48.91363389, 2.36294252], [48.90615841, 2.46109169], [48.93404528, 2.3409215], [48.95523672, 2.27824688], [48.9147099, 2.44060233], [48.93788866, 2.29766722], [48.8574855, 2.44006292], [49.02353885, 2.133708], [48.90845803, 2.45161772], [48.8480432, 2.20717505], [49.02067066, 2.13769913], [48.88752423, 2.27859825], [48.94686412, 2.44246244], [48.89164564, 2.28357241], [48.769152, 2.379201], [48.90628, 2.31402], [48.83472567, 2.53708778], [48.78434995, 2.4401287], [48.84044417, 2.23257691], [48.79694, 2.443563], [48.83896, 2.2427], [48.610831, 3.187103], [48.72046, 2.27972], [48.74533, 2.29541], [48.76303174, 2.31260329], [48.71068, 2.29967], [48.99158, 2.36027], [48.9732, 2.27606], [49.01465, 2.02622], [48.63984, 2.26807], [48.875683, 2.103384], [48.854185, 2.083718], [48.80277, 3.0961], [48.900433, 2.386158], [48.820004, 2.374225], [48.846575, 2.254875], [48.869784, 2.271684], [48.827466, 2.392312], [48.846538, 2.414356], [48.857368, 2.40413], [48.854513, 2.336887], [48.87856, 2.375442], [48.883646, 2.347809], [48.83331631, 2.36365914], [48.858521, 2.284571], [48.821566, 2.341], [48.832442, 2.325891], [48.83146361, 2.32536793], [48.832105, 2.31047], [48.83325, 2.331537], [48.839242, 2.338342], [48.876867, 2.338342], [48.84664, 2.376727], [48.86626, 2.359742], [48.776088, 2.342291], [48.823774, 2.457631], [48.74303501, 2.38871312], [48.844722, 2.36775], [48.82359179, 2.40438715], [48.864507, 2.30514], [48.82603, 2.51543], [48.942257, 2.384998], [48.862884, 2.317921], [48.842815, 2.541318], [48.832474, 2.477199], [48.87412, 2.45438], [48.93557, 2.332947], [48.80806512, 2.40212883], [48.82413868, 2.29806773], [48.78131, 2.45969], [48.82746, 2.27621], [48.7446, 2.4078], [48.82761, 2.27127], [48.940854, 2.374464], [48.93351, 2.29619], [48.89153, 2.40493], [48.478156, 2.515633], [48.90745656, 2.30420128], [48.90761179, 2.29822129], [48.85959, 2.53705], [48.913398, 2.465133], [48.91934937, 2.46030717], [48.8676775, 2.22587407], [48.816714, 2.340298], [48.77690084, 2.24999204], [48.845831, 2.414209], [48.621642, 2.972744], [48.68093, 2.33116], [48.92937271, 2.28190309], [48.900442, 2.358493], [48.69283, 2.68811], [48.77681688, 2.31470597], [48.888835, 2.3044], [48.77395595, 2.31812131], [48.841506, 2.266537], [48.86966029, 2.42972435], [48.843715, 2.324268], [48.96354686, 2.26455688], [48.825466, 2.302345], [48.83117, 2.64092], [48.826754, 2.357112], [48.83416652, 2.53591477], [48.831707, 2.397962], [48.830807, 2.403154], [48.7924518, 2.44126117], [48.837913, 2.464366], [48.900359, 2.376642], [48.889591, 2.297417], [48.882217, 2.350738], [48.888183, 2.310533], [48.864585, 2.407235], [48.870353, 2.34956], [48.887345, 2.314132], [48.864568, 2.407325], [48.876849, 2.321688], [48.878147, 2.371895], [48.87723, 2.406794], [48.868535, 2.341919], [48.874255, 2.37464], [48.803374, 2.489055], [48.870099, 2.395776], [48.873002, 2.376052], [48.882625, 2.37958], [48.77448527, 2.35454996], [48.747884, 2.165418], [48.887342, 2.372864], [48.875585, 2.38188], [48.783235, 2.446853], [48.858584, 2.2449], [48.879276, 2.303061], [48.82976, 2.48995], [48.835529, 2.33354], [48.652304, 3.21893], [48.828639, 2.301425], [48.95872, 2.56764], [48.834081, 2.307396], [48.816439, 2.360085], [49.00301204, 2.53687204], [48.825114, 2.357591], [48.94605, 2.38656], [48.88070304, 2.47718633], [48.832391, 2.361133], [48.86438023, 2.46770858], [48.88253, 2.366922], [48.84089, 2.404691], [48.847948, 2.386312], [48.89835, 2.54622], [48.9049082, 2.48334471], [48.848627, 2.372535], [48.89389981, 2.47797454], [48.879684, 2.329159], [48.84307081, 2.21409246], [48.875225, 2.316288], [48.79147656, 2.39405555], [48.842866, 2.212195], [48.75595, 2.34619], [48.87628389, 2.18576744], [48.78563, 2.47009], [48.857379, 2.345755], [48.77492, 2.43979], [48.89547788, 2.27138579], [48.88555966, 2.28018343], [48.856083, 2.350687], [48.73183699, 2.41222253], [48.7526, 2.45494], [48.74283125, 2.39830282], [48.75888, 2.36864], [48.88119, 2.27135], [48.80636, 2.52762], [48.747025, 2.409761], [48.53193, 2.50115], [48.77152465, 2.50365785], [48.77667, 2.54111], [48.79144268, 2.34467388], [48.90985168, 2.21563697], [48.725665, 2.300835], [48.94292, 2.57694], [48.92769, 2.51933], [48.82630416, 2.26768792], [48.82786747, 2.22509801], [48.940846, 2.303571], [48.87259, 2.52963], [48.9669, 2.568], [48.831517, 2.236498], [48.965057, 2.299648], [48.892191, 2.008853], [49.056088, 2.203907], [48.99716076, 2.51646459], [48.76378138, 2.30928808], [48.83243229, 2.15433619], [48.915855, 2.49204283], [48.91962, 2.36151], [49.129137, 2.258103], [48.93138761, 2.32044151], [48.93257006, 2.34049195], [48.94747, 1.9471], [48.90650607, 2.36193792], [48.87957594, 2.24047579], [48.92761238, 2.35729694], [48.520492, 2.256033], [48.82511869, 2.27597885], [48.9122, 2.52149], [48.91519884, 2.54086451], [48.84043811, 2.23162329], [48.94310661, 2.47773335], [48.90578, 2.46589], [48.669199, 2.270506], [48.92355906, 2.34263062], [48.8002, 2.31446], [49.052277, 2.988362], [48.91435, 2.38089], [49.05527959, 2.20240474], [48.88716534, 2.47490084], [48.93550661, 2.33386785], [48.88256, 2.24003], [48.8841, 2.46326], [48.88618, 2.21381], [49.02973, 2.1258], [48.8160592, 2.3129788], [48.89736, 2.29056], [48.8929, 2.30041], [48.9513, 2.53654], [48.89077, 2.28433], [48.71276, 2.30816], [48.93159272, 2.30183154], [48.91013, 2.39938], [48.789169, 2.130525], [48.97482404, 2.48930186], [48.90133, 2.26003], [48.97044, 1.88853], [48.86655, 2.48147], [48.89394027, 2.25652456], [48.94355783, 2.28738079], [48.97466324, 2.4870193], [48.6118015, 2.57095121], [49.03385084, 2.11134575], [48.6959, 2.23616], [48.82671118, 2.52258828], [48.7328119, 2.31162697], [48.82671118, 2.52258828], [48.91311024, 2.4357596], [48.76517721, 2.61466006], [48.76289194, 2.49463919], [48.80856288, 2.44905786], [48.82320034, 2.39580432], [48.661845, 2.56342], [48.90443902, 2.54850852], [48.89298332, 2.18675563], [48.91537, 2.30693], [48.97601066, 2.39543259], [48.60141, 2.4385], [48.689722, 2.413366], [48.6685, 2.1942], [48.9111, 2.47575], [48.71607, 2.49069], [48.902744, 2.346299], [48.88781, 2.4741], [48.899104, 2.317124], [48.66098, 2.344972], [48.825237, 2.385529], [48.87060889, 2.43112922], [48.72837, 2.30526], [48.98932791, 2.20074713], [48.82670558, 2.3918277], [48.679904, 2.342262], [48.72491, 2.30001], [48.9776, 2.43383], [48.698625, 2.39571], [48.83850309, 2.19236003], [48.83757, 2.41805], [48.79738, 2.43314], [48.84843039, 2.24006151], [49.004348, 1.906912], [49.05167676, 2.15262568], [48.81032, 2.38212], [48.86446703, 2.41450757], [48.76293939, 2.36820388], [48.78659285, 2.43606001], [48.819353, 2.458441], [48.81779754, 2.41975976], [48.829067, 2.618663], [48.989032, 2.274323], [48.87085, 2.79589], [48.946351, 3.096219], [48.813795, 2.510274], [48.645664, 2.55159], [48.96052, 2.55615], [48.688, 2.385], [48.85546, 2.57595], [48.87729336, 2.45679778], [48.86152, 2.44359], [48.86274, 2.21028], [48.8477, 2.22039], [48.77312, 2.40147], [48.80411789, 2.28878152], [48.76101392, 2.31812717], [48.806292, 2.616563], [48.931776, 2.289134], [48.89827, 2.08924], [49.003485, 2.384566], [48.93614, 2.48024], [48.89811, 2.26384], [48.80787, 3.08269], [48.93362, 2.48067], [48.59468, 2.26423], [48.86176, 2.44097], [48.588326, 2.301336], [48.77093879, 2.38756083], [48.687512, 2.336514], [48.601523, 2.581], [48.900616, 2.330349], [48.193785, 2.81235], [48.887035, 2.29029], [49.075658, 1.630896], [48.887107, 1.901639], [48.623195, 2.466611], [48.820798, 2.376664], [48.83936013, 2.21689418], [48.865776, 2.394371], [48.48112, 2.66907], [48.80998652, 2.21231344], [48.876138, 2.392052], [48.96518, 1.763334], [48.848364, 2.247631], [48.878563, 2.402539], [48.985525, 1.894033], [48.894231, 2.352881], [49.00535, 1.90659], [48.78315, 2.159296], [48.840585, 2.3337], [48.781218, 2.709808], [48.90397188, 2.35851769], [48.99286381, 2.51394314], [48.883078, 2.367624], [48.878904, 2.362294], [48.879744, 2.332838], [48.87192, 2.318694], [48.876373, 2.307912], [48.8545, 2.325798], [48.862433, 2.301587], [48.98848777, 2.37789631], [48.866711, 2.361778], [48.67668, 2.3523], [48.78255, 2.38087], [48.9628049, 2.29210317], [48.78611, 2.39184], [48.97268, 1.87871], [48.69003, 2.35279], [48.734468, 2.463681], [48.85112582, 2.59281627], [48.76218755, 2.44248444], [48.817655, 2.468334], [48.77795, 2.43841], [48.77255, 2.40942], [48.900606, 2.373933], [48.82231, 2.41065], [48.869124, 2.39146], [48.929694, 2.359609], [49.041282, 2.955884], [48.91334908, 2.35750213], [48.86323, 2.39973], [49.07850905, 1.9418174], [48.864901, 2.520282], [48.86415, 2.43597], [48.857634, 2.403917], [48.86724725, 2.42450505], [48.864625, 2.405648], [48.95937433, 2.31798515], [48.875313, 2.393968], [48.90485, 2.5468], [48.91546785, 2.49995425], [48.89465, 2.42111], [48.827141, 2.39103], [48.90585084, 2.36969055], [48.859033, 2.41411], [48.929239, 2.331755], [48.87868047, 2.27900594], [48.858232, 2.333239], [48.81752, 2.3256], [48.829187, 2.37421], [48.89287, 2.29835], [48.8876476, 2.28772178], [48.851662, 2.335284], [48.864606, 2.405974], [48.879663, 2.408392], [48.894947, 2.328088], [48.80389457, 2.3420366], [48.77964, 2.191321], [48.86544054, 2.28642225], [48.876202, 2.393456], [48.94214437, 2.47816647], [48.851321, 2.278453], [48.765834, 2.614199], [48.843208, 2.260232], [48.892399, 2.344997], [48.86364, 2.23948], [48.892956, 2.302036], [48.873834, 2.264132], [48.890947, 2.306016], [48.8502076, 2.29196906], [48.885193, 2.287302], [48.99544, 2.36378], [48.881271, 2.295522], [48.817212, 2.334982], [49.02658, 2.45493], [48.83569, 2.311258], [48.859788, 2.229536], [48.7213, 2.24833], [48.821364, 2.334367], [48.816461, 2.341671], [48.70565, 2.39325], [48.845001, 2.319826], [48.81953886, 2.32848689], [48.840017, 2.32169], [48.842261, 2.313366], [48.830171, 2.402188], [48.82344699, 2.35409975], [48.820325, 2.354047], [48.867845, 2.413241], [48.844912, 2.402917], [48.833828, 2.365097], [48.878111, 2.330142], [48.856426, 2.339901], [48.831196, 2.357551], [48.86412, 2.3201], [48.879724, 2.358696], [48.72878278, 2.4059661], [48.888522, 2.325944], [48.95782, 2.54581], [48.881502, 2.281798], [48.871243, 2.370117], [48.906442, 2.363718], [48.83104, 2.377594], [48.9393921, 2.3621732], [48.86282, 2.31841], [48.900188, 2.320781], [48.85897405, 2.29336381], [48.84332, 2.54353], [48.85932698, 2.2928381], [48.86121, 2.35818], [48.896462, 2.310057], [48.79398, 2.517667], [48.849118, 2.357576], [48.8227279, 2.55101466], [48.80704721, 2.53559558], [48.72471, 2.31253], [48.81341, 2.51139], [48.878919, 2.018456], [48.879607, 2.282157], [49.01991571, 2.13851555], [48.872137, 2.284211], [48.94688, 2.44244], [48.96172928, 2.55786046], [48.863692, 2.371578], [48.87512, 2.296029], [48.93909226, 2.30366757], [48.932475, 2.497966], [48.95809287, 2.53061231], [48.93228269, 2.36799478], [48.87339987, 2.29571342], [48.94647077, 2.28241919], [48.858881, 2.331216], [48.94097971, 2.36417359], [48.78172396, 2.44088054], [48.851165, 2.300908], [48.915325, 2.357913], [48.75781222, 2.47055049], [48.860296, 2.352983], [48.680711, 2.398405], [48.92012228, 2.52371073], [48.72965506, 2.43398961], [48.84508209, 2.45100582], [48.951627, 2.342936], [48.93184009, 2.55075938], [48.91985, 2.45143], [48.82909, 2.56775], [48.92480787, 2.38449801], [48.911095, 2.516244], [48.88214, 2.26959], [48.91332, 2.48148], [48.8007931, 2.20833376], [48.907396, 2.425352], [48.93383342, 2.33269966], [48.82643, 2.21924], [48.97358106, 2.2751087], [48.88824, 2.23449], [48.88468802, 2.26791054], [48.63631, 2.43948], [48.89347605, 2.22669125], [48.80769077, 2.29479969], [48.81495927, 2.22003579], [48.857246, 2.258489], [48.87124132, 2.23620911], [48.823385, 2.375063], [48.91646389, 2.22201812], [48.885255, 2.349649], [48.79597451, 2.3216604], [48.847751, 2.273918], [48.828545, 2.301358], [48.835141, 2.314948], [48.815941, 2.35633], [49.13211, 2.255931], [48.832207, 2.379707], [48.87524161, 2.35946953], [48.858575, 2.341401], [48.86476299, 2.3467961], [48.7490735, 2.47420049], [48.73190281, 2.4509161], [48.81045063, 2.45640939], [48.80138012, 2.44965345], [48.856712, 2.428173], [48.93561368, 2.33558339], [48.82371137, 2.2971417], [48.87356, 2.18965], [48.88845464, 2.20265231], [48.902501, 2.305401], [48.77265101, 2.25173673], [48.92686006, 2.27333777], [48.775711, 2.357157], [48.890875, 2.353257], [48.5664, 2.44369], [48.866528, 2.399889], [48.901012, 2.387656], [48.890576, 2.376478], [48.88303, 2.385492], [48.869502, 2.286744], [48.871251, 2.293328], [48.841095, 2.287844], [48.829316, 2.356298], [48.834864, 2.353214], [48.865578, 2.367042], [48.852736, 2.308583], [48.7469, 2.327], [48.563, 2.48003], [48.851742, 2.313759], [48.861985, 2.350157], [48.98965, 2.24397], [48.84468, 2.49763], [48.84873, 2.4936], [48.77604023, 2.42618623], [48.8556, 2.47534], [48.76503, 2.40786], [48.817793, 2.419643], [48.81037, 2.54533], [48.95956, 2.37817], [48.91536608, 2.35382237], [48.61693, 2.4275], [48.88255, 2.51838], [48.82997567, 2.58129895], [48.8373328, 2.54660323], [48.82128224, 2.21946107], [48.872012, 2.418662], [48.9588, 2.53548], [48.87435, 2.55201], [48.95008738, 2.34253451], [48.9581, 2.41581], [48.908175, 2.449017], [48.8128201, 2.29138434], [48.82195, 2.28925], [48.870152, 2.203453], [48.88570058, 2.21925169], [48.918005, 2.296602], [48.941654, 2.302965], [48.930977, 2.267215], [48.83244, 2.22755], [48.78221, 2.3165], [48.96924975, 2.2506845], [48.8791675, 2.47634149], [48.947254, 2.28190524], [49.01061779, 2.52906561], [48.884855, 2.39806], [48.836161, 2.6676482], [49.067781, 2.442304], [48.877075, 2.292167], [48.881271, 2.316565], [48.848806, 2.341764], [48.851662, 2.347762], [48.819848, 2.325529], [48.86600857, 2.37071478], [48.863744, 2.338784], [48.797275, 2.383227], [48.73549, 2.44674], [48.880393, 2.43652], [48.81297, 2.47972], [48.914506, 2.434786], [48.77326, 2.39963], [48.88628666, 2.27955347], [48.76669, 2.39835], [48.89643344, 2.21472949], [48.820615, 2.486026], [48.803, 2.287], [49.002475, 2.536898], [48.816747, 2.30662], [48.81882, 2.30945], [48.92579, 2.35725], [48.81608964, 2.2326681], [48.90191, 2.28023], [48.88232, 2.52366], [48.76468259, 2.26570174], [48.91583897, 2.30843666], [48.88216, 2.52322], [48.75396, 2.30736], [48.852526, 2.433949], [48.75699, 2.38862], [48.727447, 2.530572], [48.77376519, 2.34617558], [48.94534145, 2.45128457], [48.9228, 2.33184], [48.693062, 2.320722], [48.88207124, 2.2691896], [48.86788149, 2.53391653], [48.75548914, 2.33374717], [48.98501557, 2.29961872], [48.896014, 2.374135], [48.78747, 2.22287], [48.89527817, 2.57065837], [48.86255737, 2.264404], [49.055005, 2.052652], [48.91850169, 2.24476433], [48.9156071, 2.48418555], [48.97769, 1.7128], [48.859136, 2.227596], [48.92990191, 2.30211945], [48.82699871, 2.23112404], [48.8799, 2.2631], [48.846976, 2.278285], [48.816993, 2.332069], [48.81421047, 2.21433526], [48.89371, 2.21208], [48.612352, 2.376259], [48.6946, 2.35888], [48.83896, 2.39796], [48.914908, 2.228644], [48.96345705, 2.26425648], [48.90972, 2.3068], [48.87419138, 2.32392222], [49.03561, 2.11725], [48.873136, 2.297088], [48.90493909, 2.28784651], [48.92145191, 2.36796037], [48.858268, 2.34912], [48.96394, 2.26399], [48.73738832, 2.46220729], [48.8029, 2.4466], [48.96248856, 2.47096625], [48.84374, 2.302395], [48.78134222, 2.41914014], [48.96880368, 2.48090744], [48.846471, 2.378897], [48.9638, 2.3611], [48.92247728, 2.35626225], [48.871682, 2.341881], [48.9232, 2.3322], [48.99691, 2.24711], [48.79514265, 2.45924127], [48.94475777, 2.35402787], [48.651513, 2.612486], [48.842122, 2.534088], [48.899798, 2.395953], [48.85608, 2.42455], [48.81800378, 2.40171835], [48.92432, 2.57263], [48.76542467, 2.40833053], [48.91644629, 2.42284316], [48.95224, 2.58621], [48.94053676, 2.44928867], [48.90024901, 2.41041126], [48.86124, 2.10606], [48.95155, 2.48271], [48.86062, 2.51828], [49.00508, 2.09353], [48.937449, 2.499276], [48.854, 2.51889], [48.85742, 2.44007], [48.80283, 2.29071], [48.96123514, 2.29611475], [48.88900069, 2.25502753], [48.92064, 2.88054], [48.97121, 2.36626], [48.80127158, 2.31839329], [48.935673, 2.260879], [48.832718, 2.754399], [48.79916, 2.32289], [48.41371, 2.64314], [48.905082, 2.813297], [48.6459, 2.3886], [48.67908, 2.33417], [48.986198, 1.668667], [48.88319818, 2.16566641], [48.8263992, 2.22346625], [48.724379, 2.092359], [48.93021, 2.4811], [48.93895984, 2.3073606], [48.92852, 2.41594], [48.8347865, 2.58010105], [48.54103, 2.4983], [48.82836797, 2.47558356], [48.63171, 2.49685], [48.825807, 2.35038], [48.92663, 2.727946], [48.755489, 2.909591], [48.831852, 2.397695], [49.039968, 2.19073612], [48.71404, 2.30876], [48.73864, 2.39119], [48.82602589, 2.22262601], [49.03235342, 2.10743017], [49.00244, 2.53334], [48.575001, 2.434193], [49.067872, 2.552602], [48.832464, 2.139304], [48.95809, 2.32968], [48.94346579, 2.62839062], [48.96561068, 2.27178812], [48.95441, 2.47384], [48.91387, 2.54689], [49.03104508, 2.12144494], [48.639284, 2.361862], [48.96176998, 2.54505298], [48.578069, 3.04199], [48.7296, 2.30054], [49.11975358, 1.86050892], [48.78123, 2.222776], [48.83059272, 2.63216178], [48.61916, 2.42664], [49.119894, 2.160089], [48.78695192, 2.22236293], [48.95544, 1.937438], [48.81203112, 2.33668026], [48.90887046, 2.21442681], [49.03104977, 2.12143421], [48.832421, 2.138802], [48.92210032, 2.22649712], [48.97313, 2.48527], [48.97567, 1.72373], [49.02672191, 2.53714234], [48.98881632, 2.37801701], [48.97275, 2.49336], [48.80172654, 2.44741443], [48.92669333, 2.40380852], [48.70063, 2.50581], [48.82844169, 2.50273164], [48.69945, 2.36038], [48.82676199, 2.51252339], [48.61595, 2.4659], [48.831449, 2.679535], [48.96159, 2.4142], [48.895628, 2.139178], [48.98816978, 2.37847567], [48.77053, 2.63129], [49.00053, 2.08079], [49.00139, 1.90657], [48.97297, 2.37588], [48.992222, 1.913825], [49.01987, 1.95901], [48.266778, 2.685794], [48.97933, 1.88671], [48.849377, 2.767837], [48.99033, 2.29632], [48.80839441, 2.34798035], [48.6597, 2.18502], [48.41307, 2.74184], [48.74902, 2.21276], [48.92186, 2.35708], [48.63195, 3.10266], [48.65447, 2.17759], [48.80712934, 2.44871697], [48.82847, 2.07902], [48.83312912, 2.79203309], [48.98972, 2.29441], [48.9598, 2.47358], [48.89871968, 2.37036467], [48.88086587, 2.4751941], [48.86744625, 2.22676188], [48.891815, 2.380097], [48.823477, 2.463058], [48.8969, 2.28202], [48.900225, 2.335603], [48.84077958, 2.22885936], [48.883716, 2.333365], [48.64937, 2.56437], [48.977487, 2.252642], [48.858412, 2.258927], [48.864028, 2.271947], [48.858558, 2.244877], [48.915056, 1.934616], [48.846413, 2.283124], [48.864736, 2.382949], [48.863769, 2.37012], [48.858031, 2.37163], [48.864071, 2.320124], [48.463709, 2.554976], [49.00415366, 2.3923147], [48.862828, 2.313459], [48.85565755, 2.34833837], [48.773396, 2.367919], [48.84595, 2.41747], [48.98577, 2.40999], [49.00265568, 2.51716733], [48.898221, 2.352523], [48.864596, 2.406024], [48.81451, 2.33376], [48.845831, 2.414445], [49.02797, 2.24882], [48.896686, 2.319848], [48.53638, 2.703409], [48.89244677, 2.37888068], [48.845629, 2.321932], [48.75811, 2.31683], [48.850384, 2.273279], [48.63169, 2.58179], [48.88981206, 2.34292835], [48.832188, 2.320378], [48.681755, 2.429387], [48.77343, 2.39952], [48.840473, 2.295779], [48.849616, 2.286138], [48.76706596, 2.38041624], [48.69926, 2.49413], [48.84209219, 2.29036376], [48.843067, 2.306835], [48.37038346, 2.79244296], [48.80709172, 2.53506464], [48.84157, 2.318313], [48.69198, 2.44276], [48.83995559, 2.38232464], [48.91986499, 2.34349154], [48.397181, 2.692661], [48.849147, 2.297986], [48.844404, 2.308757], [48.84909919, 2.39472717], [48.89418391, 2.41827477], [48.71616, 2.37081], [48.855352, 2.384312], [48.824694, 2.325891], [48.858073, 2.52438], [48.858105, 2.30145], [48.864589, 2.378034], [48.86580996, 2.43682236], [48.875784, 2.356513], [48.79607014, 2.3683463], [48.86008372, 2.44334904], [48.883055, 2.361624], [48.855808, 2.368481], [48.9108, 2.466], [48.909801, 2.457124], [48.876517, 2.35621], [48.804901, 2.282884], [48.76204403, 2.41110668], [48.94853738, 2.45322447], [48.87910247, 2.32345551], [48.90608, 2.31292], [48.82258397, 2.54112133], [48.81366, 2.6217], [48.80362829, 2.41820616], [48.93487523, 2.32497329], [48.87011, 2.306655], [48.89069898, 2.2273542], [48.74274, 2.70244], [48.874175, 2.317578], [48.92601754, 2.3966905], [48.629, 2.41195], [48.81036903, 2.31158685], [48.873, 2.687], [48.90950793, 2.51491002], [48.860726, 2.318759], [48.696399, 2.316843], [48.89683, 2.26482], [48.93898, 2.46122], [48.863869, 2.348966], [48.82805, 2.19286], [48.71817, 2.26128], [48.89742519, 2.26643407], [48.779624, 3.303993], [48.864567, 2.365822], [48.88402667, 2.22547], [48.93542176, 2.2605831], [48.900654, 2.369798], [48.90849676, 2.30009179], [48.93119901, 2.26709872], [48.79977, 2.41355], [48.77409978, 2.4089616], [48.833569, 2.408341], [48.82986, 2.23094], [48.80419745, 2.25802615], [48.80408662, 2.4486362], [48.75087, 2.3061], [48.831934, 2.405092], [48.83441875, 2.25809745], [48.794048, 2.507407], [48.901118, 2.354841], [48.837243, 2.495617], [48.8172, 2.366254], [48.81157403, 2.51454896], [48.868765, 2.413467], [48.7746, 2.51085], [48.837681, 2.307818], [49.1073513, 2.34998841], [48.742, 2.56113], [48.884892, 2.359343], [48.74699, 2.51021], [48.859441, 2.279406], [48.784674, 2.421416], [48.82993, 2.295647], [48.830247, 2.325893], [48.946675, 2.555345], [48.835004, 2.324008], [48.903919, 2.34415], [48.83104, 2.377592], [48.9588, 2.35858], [48.88028079, 2.47824276], [48.833612, 2.394897], [48.83733, 2.54662], [48.877812, 2.361616], [48.817395, 2.286369], [48.81061, 2.45653], [49.107218, 2.426884], [48.82859, 2.22472], [48.78422, 2.423898], [48.58794, 2.30698], [48.8099, 2.31733], [48.81449, 2.415319], [48.89017371, 2.23989129], [48.897731, 2.329018], [48.890242, 2.241753], [48.880414, 2.308794], [48.89991465, 2.26834042], [48.96795, 2.37767], [48.864844, 2.296931], [48.8757002, 2.49828994], [48.8255779, 2.24189624], [48.87772653, 2.45963126], [48.842995, 2.312797], [48.79922285, 2.32282117], [48.858245, 2.447456], [48.842456, 2.311086], [48.80052, 2.32337], [48.88316526, 2.52745494], [48.828027, 2.326791], [48.91182367, 2.37963706], [48.83403, 2.324351], [48.91326, 2.38268], [48.880244, 2.281701], [48.876244, 2.229154], [48.85755, 2.79607], [48.84703643, 2.37552524], [48.475693, 1.853721], [48.831897, 2.28169], [48.828842, 2.246197], [48.855885, 2.77052], [48.871494, 2.343089], [48.860277, 2.263373], [48.87503463, 2.340855], [48.76061147, 2.31935953], [48.882571, 2.323378], [48.871976, 2.391876], [48.868528, 2.389061], [48.877881, 2.326943], [48.886934, 2.011974], [48.871072, 2.4003], [48.98062982, 2.2409411], [48.78779, 2.40249], [48.89315, 2.379885], [49.07994978, 2.4119854], [48.76691569, 2.44955347], [48.89663, 2.369769], [48.9713639, 2.4985811], [48.819768, 2.464673], [48.96300436, 2.52239723], [48.889003, 2.304141], [48.79598, 2.36843], [49.0647952, 2.4102943], [48.863712, 2.239533], [48.81456, 2.40445], [48.859384, 2.377463], [48.619864, 2.630271], [48.8531, 2.49139], [48.880739, 2.36241], [48.78017, 2.48407], [48.78055223, 2.46433499], [48.871438, 2.336848], [48.745394, 2.384787], [48.864834, 2.353309], [48.715136, 2.574723], [48.869451, 2.338756], [48.94258, 2.57581], [48.81351, 2.3508], [48.85616, 2.42545], [48.8095, 2.3625], [48.86940693, 2.43291719], [48.78375, 2.4596], [48.767284, 2.493695], [48.908983, 2.501124], [48.79475, 2.46224], [48.909857, 2.374642], [48.93494466, 2.32580996], [48.80564, 2.5328], [48.747161, 2.024265], [48.90547064, 2.20991618], [48.80266684, 2.54307148], [48.89315569, 2.18731865], [48.81213984, 2.30088651], [48.72193, 2.53508], [48.89492335, 2.27818], [48.93721, 2.37206], [48.92026, 2.32344], [49.02903, 2.619861], [48.958468, 2.816234], [48.86094, 2.47329], [48.88706565, 2.23185875], [48.92741865, 2.24699754], [48.85833, 2.43447], [48.91818, 2.52909], [48.90209, 2.31428], [48.9313, 2.42215], [48.76806458, 2.25208497], [48.9351, 2.32847], [48.9169452, 2.28199482], [48.738624, 2.31933], [48.82170005, 2.28704931], [48.70691, 2.30583], [48.8233189, 2.29173928], [48.78695, 2.036096], [48.89702618, 2.22414047], [48.97535, 2.24148], [48.81662, 2.275], [48.71892, 2.16987], [48.92739416, 2.246986], [48.97454, 2.24388], [48.64054, 2.39379], [48.90855537, 2.28653294], [48.9097, 2.44619], [48.68096, 2.33153], [48.95483221, 2.45715916], [48.78398306, 2.31489202], [48.90963, 2.35835], [48.793132, 2.083596], [48.83525111, 2.53871581], [48.941877, 2.29092958], [48.77139558, 2.39237226], [48.92928253, 2.32938717], [48.71278, 2.28406], [48.609705, 2.576366], [48.9496723, 2.2802208], [49.04701, 2.45775], [48.76694017, 2.61376289], [48.717272, 2.599244], [48.81754093, 2.43504501], [49.118864, 2.400824], [48.62293, 2.4658], [48.92557419, 2.42454486], [48.84336156, 2.49263331], [48.606147, 2.324357], [48.65869745, 2.612724], [48.70582, 2.36339], [48.8455465, 2.6626142], [48.854539, 2.254923], [48.854978, 2.701694], [48.825791, 2.386589], [48.848226, 2.331036], [48.853059, 2.346507], [48.840263, 2.361989], [48.840938, 2.362493], [48.883336, 2.369282], [48.874924, 2.271113], [48.849915, 2.27716], [48.844089, 2.31997], [48.852152, 2.389584], [48.622196, 2.463582], [48.66583, 2.3625], [48.96386, 1.77684], [48.777221, 2.223642], [48.93429185, 2.27087422], [48.91988494, 2.22461743], [48.88579562, 2.48740188], [48.8732, 2.4799], [48.983217, 1.911882]],\n",
       "                {\n",
       "  &quot;minOpacity&quot;: 0.5,\n",
       "  &quot;maxZoom&quot;: 1,\n",
       "  &quot;radius&quot;: 10,\n",
       "  &quot;blur&quot;: 15,\n",
       "}\n",
       "            );\n",
       "        \n",
       "    \n",
       "            heat_map_a77be6591b34ab1dc8e770e991846d15.addTo(map_1212b9936c189868a575502b542d6053);\n",
       "        \n",
       "&lt;/script&gt;\n",
       "&lt;/html&gt;\" style=\"position:absolute;width:100%;height:100%;left:0;top:0;border:none !important;\" allowfullscreen webkitallowfullscreen mozallowfullscreen></iframe></div></div>"
      ],
      "text/plain": [
       "<folium.folium.Map at 0x7f6c0ea2bc80>"
      ]
     },
     "execution_count": 107,
     "metadata": {},
     "output_type": "execute_result"
    }
   ],
=======
   "execution_count": null,
   "metadata": {},
   "outputs": [],
>>>>>>> c12b8e6454b21ae829c5864cd30e82adc7163348
   "source": [
    "dep_IDF = [\"75\", \"77\", \"78\", \"91\", \"92\", \"93\", \"94\", \"95\"]\n",
    "accidents_idf = df_caract[df_caract['dep'].isin(dep_IDF)]\n",
    "\n",
    "# Définir le centre de l'Île-de-France (latitude et longitude moyennes)\n",
    "center_lat = accidents_idf['lat'].mean()\n",
    "center_long = accidents_idf['long'].mean()\n",
    "\n",
    "# Créer la carte centrée sur l'Île-de-France\n",
    "idf_map = folium.Map(location=[center_lat, center_long], zoom_start=10)\n",
    "\n",
    "# Préparer les données pour la HeatMap (liste de coordonnées)\n",
    "heat_data = accidents_idf[['lat', 'long']].values.tolist()\n",
    "\n",
    "# Ajouter la HeatMap à la carte\n",
    "HeatMap(heat_data, radius=10, blur=15, max_zoom=1).add_to(idf_map)\n",
    "\n",
    "# Afficher la carte\n",
    "idf_map\n"
   ]
  },
  {
   "cell_type": "markdown",
   "metadata": {},
   "source": [
    "La carte précédente a mis en évidence une forte concentration d'accidents en Île-de-France. En nous focalisant davantage sur cette région, la nouvelle carte révèle une densité particulièrement élevée d'accidents dans **l'hypercentre de Paris**. Ces concentrations semblent se situer principalement le long des grands axes routiers, tels que les boulevards périphériques et les artères principales, qui sont les plus empruntés par les usagers. Cela pourrait s'explique par le flux important de véhicules et de piétons dans ces zones, où la densité de population et l'activité économique sont également les plus élevées."
   ]
  },
  {
   "cell_type": "markdown",
   "metadata": {},
   "source": [
    "Une question légitime est de savoir si le nombre d'accidents est directement corrélé à la population des départements. Pour y répondre, la carte suivante présente le nombre d'accidents rapporté au nombre d'habitants de chaque département. Avant de tracer la carte, nous calculons le nombre d'accident par habitant dans chaque département."
   ]
  },
  {
   "cell_type": "code",
<<<<<<< HEAD
   "execution_count": 108,
=======
   "execution_count": null,
>>>>>>> c12b8e6454b21ae829c5864cd30e82adc7163348
   "metadata": {},
   "outputs": [],
   "source": [
    "merged_df_dep = pd.merge(\n",
    "    accidents_par_departement,\n",
    "    df_population,\n",
    "    left_on='dep',  # Nom de la colonne département dans accidents_par_departement\n",
    "    right_on='Département',  # Nom de la colonne département dans df_population\n",
    "    how='inner'\n",
    ")\n",
    "\n",
    "# Calcul du nombre d'accidents par habitant\n",
    "merged_df_dep['accidents_par_habitant'] = merged_df_dep['nombre_accidents'] / merged_df_dep['Population']\n",
    "\n",
    "print(merged_df_dep.head())\n"
   ]
  },
  {
   "cell_type": "code",
<<<<<<< HEAD
   "execution_count": 109,
=======
   "execution_count": null,
>>>>>>> c12b8e6454b21ae829c5864cd30e82adc7163348
   "metadata": {},
   "outputs": [],
   "source": [
    "# Vérifier les valeurs minimales et maximales de la colonne\n",
    "vmin = merged_df_dep[\"accidents_par_habitant\"].min()\n",
    "vmax = merged_df_dep[\"accidents_par_habitant\"].max()\n",
    "\n",
    "\n",
    "# Création de la normalisation adaptée aux valeurs réelles\n",
    "norm = mcolors.Normalize(vmin=vmin, vmax=vmax)  \n",
    "cmap = \"Blues\"  \n",
    "\n",
    "# Création de la carte\n",
    "fig, ax = plt.subplots(1, 1, figsize=(12, 12))\n",
    "\n",
    "# Tracer la carte avec la normalisation\n",
    "france_map.plot(\n",
    "    column=merged_df_dep[\"accidents_par_habitant\"],  # Colonne à visualiser\n",
    "    cmap=cmap,                        # Palette de couleurs\n",
    "    linewidth=0.8,                    # Épaisseur des frontières\n",
    "    ax=ax,                            # Axes matplotlib\n",
    "    edgecolor=\"0.8\",                  # Couleur des frontières\n",
    "    legend=False                      # Désactiver la légende automatique\n",
    ")\n",
    "\n",
    "# Ajout d'une légende avec la colorbar\n",
    "sm = plt.cm.ScalarMappable(cmap=cmap, norm=norm)\n",
    "sm._A = []\n",
    "cbar = fig.colorbar(sm, ax=ax)\n",
    "cbar.set_label(\"Accidents par habitant\", fontsize=12)\n",
    "\n",
    "# Ajout des noms de départements\n",
    "for idx, row in france_map.iterrows():\n",
    "    if not pd.isna(row['nom']):  # Vérifie que le nom est défini\n",
    "        ax.annotate(\n",
    "            text=row['nom'],  # Texte à afficher (nom du département)\n",
    "            xy=row['geometry'].centroid.coords[0],  # Position (centre du département)\n",
    "            ha='center', fontsize=8, color='black'  # Alignement et style\n",
    "        )\n",
    "\n",
    "# Ajouter un titre et masquer les axes\n",
    "plt.title(\"Nombre d'accidents par habitant par département\", fontsize=16)\n",
    "plt.axis(\"off\")\n",
    "\n",
    "# Afficher la carte\n",
    "plt.show()\n",
    "\n",
    "# Trier les départements par accidents par habitant en ordre décroissant\n",
    "top_departments = merged_df_dep.sort_values(by='accidents_par_habitant', ascending=False).head(5)\n",
    "\n",
    "# Afficher les colonnes pertinentes\n",
    "print(\"Les 5 départements avec le plus grand nombre d'accidents par habitant :\")\n",
    "print(top_departments[['Département', 'accidents_par_habitant', 'nombre_accidents', 'Population']])\n",
    "\n",
    "\n"
   ]
  },
  {
   "cell_type": "markdown",
   "metadata": {},
   "source": [
    " Cette visualisation met en évidence que, bien que **Paris** conserve une nette première place en termes d'accidents par habitant, deux départements **corses** se distinguent également par un ratio élevé. Ces résultats contrastent avec ceux des départements plus peuplés comme le Rhône, qui, malgré un nombre absolu élevé d'accidents, affiche un ratio inférieur en raison de sa densité de population. Ces observations soulignent que les départements à faible population, comme en Corse, peuvent enregistrer des ratios élevés, potentiellement dus à des facteurs tels qu'une infrastructure routière limitée, des comportements à risque ou des spécificités géographiques. Une analyse plus approfondie serait nécessaire pour comprendre les causes sous-jacentes dans ces zones."
   ]
  },
  {
   "cell_type": "code",
<<<<<<< HEAD
   "execution_count": 110,
=======
   "execution_count": null,
>>>>>>> c12b8e6454b21ae829c5864cd30e82adc7163348
   "metadata": {},
   "outputs": [],
   "source": [
    "df_caract['int_label'] = df_caract['int'].map(int_labels)\n",
    "# Compter le nombre d'accidents par type d'intersection pour chaque groupe\n",
    "int_counts_all = df_caract['int_label'].value_counts()\n",
    "filtered_75_93_92 = df_caract[df_caract['dep'].isin(['75', '93', '92'])]\n",
    "int_counts_75_93_92 = filtered_75_93_92['int_label'].value_counts()\n",
    "filtered_9A_9B = df_caract[df_caract['dep'].isin(['2A', '2B'])]\n",
    "int_counts_9A_9B = filtered_9A_9B['int_label'].value_counts()\n",
    "\n",
    "# Création des diagrammes circulaires\n",
    "fig, axes = plt.subplots(1, 3, figsize=(18, 6))\n",
    "\n",
    "# Diagramme pour tous les départements\n",
    "axes[0].pie(\n",
    "    int_counts_all,\n",
    "    autopct='%1.1f%%',\n",
    "    startangle=90,\n",
    "    labels=None,\n",
    "    colors=plt.cm.tab10.colors,\n",
    "    explode=[0.1 if i == int_counts_all.idxmax() else 0 for i in int_counts_all.index],\n",
    ")\n",
    "axes[0].set_title(\"Tous les départements\", fontsize=14)\n",
    "\n",
    "# Diagramme pour les départements 75, 93, 92\n",
    "axes[1].pie(\n",
    "    int_counts_75_93_92,\n",
    "    autopct='%1.1f%%',\n",
    "    startangle=90,\n",
    "    labels=None,\n",
    "    colors=plt.cm.tab10.colors,\n",
    "    explode=[0.1 if i == int_counts_75_93_92.idxmax() else 0 for i in int_counts_75_93_92.index],\n",
    ")\n",
    "axes[1].set_title(\"Départements 75, 93, 92\", fontsize=14)\n",
    "\n",
    "# Diagramme pour les départements 2A et 2B\n",
    "axes[2].pie(\n",
    "    int_counts_9A_9B,\n",
    "    autopct='%1.1f%%',\n",
    "    startangle=90,\n",
    "    labels=None,\n",
    "    colors=plt.cm.tab10.colors,\n",
    "    explode=[0.1 if i == int_counts_9A_9B.idxmax() else 0 for i in int_counts_9A_9B.index],\n",
    ")\n",
    "axes[2].set_title(\"Départements 2A, 2B\", fontsize=14)\n",
    "\n",
    "# Ajouter une légende commune sous la figure\n",
    "fig.legend(\n",
    "    labels=int_counts_all.index,  # Utiliser les labels globaux\n",
    "    loc='lower center',  # Placer la légende en bas\n",
    "    ncol=3,  # Nombre de colonnes dans la légende\n",
    "    fontsize=10,\n",
    "    title=\"Types d'intersections\"\n",
    ")\n",
    "\n",
    "# Ajuster les espaces pour éviter la superposition\n",
    "plt.tight_layout(rect=[0, 0.1, 1, 0.95])  # Ajouter de l'espace en bas pour la légende\n",
    "plt.show()\n"
   ]
  },
  {
   "cell_type": "markdown",
   "metadata": {},
   "source": [
    "Les diagrammes montrent la répartition des accidents par type d’intersection à trois échelles : nationale, départements à forte densité urbaine (75, 92, 93), et départements à fort ratio accidents/habitants (2A, 2B).\n",
    "\n",
    "Tous les départements\n",
    "63,6 % des accidents se produisent hors intersection, ce qui domine largement.\n",
    "Les intersections en X (12,3 %) et en T (11,6 %) concentrent la majorité des accidents restants, reflétant leur fréquence dans le réseau routier.\n",
    "Départements 75, 92, 93 (zones urbaines)\n",
    "La proportion d'accidents hors intersection baisse à 48,1 %, au profit des intersections en X (22,1 %) et en T (18,1 %).\n",
    "Cela s’explique par la densité des carrefours et le trafic élevé dans ces zones.\n",
    "Départements 2A, 2B (zones rurales/montagneuses)\n",
    "Les accidents hors intersection augmentent à 76,6 %, en raison des routes sinueuses et du faible nombre d’intersections.\n",
    "Les intersections en X et en T représentent une faible part (8,5 % et 7,1 %, respectivement)."
   ]
  },
  {
   "cell_type": "code",
<<<<<<< HEAD
   "execution_count": 111,
=======
   "execution_count": null,
>>>>>>> c12b8e6454b21ae829c5864cd30e82adc7163348
   "metadata": {},
   "outputs": [],
   "source": [
    "# Remplacer les valeurs de la colonne 'col' par leurs labels en utilisant le dictionnaire\n",
    "df_caract['col_label'] = df_caract['col'].map(col_labels)\n",
    "\n",
    "# Compter le nombre d'accidents par type de collision pour chaque groupe\n",
    "col_counts_all = df_caract['col_label'].value_counts()\n",
    "filtered_75_93_92 = df_caract[df_caract['dep'].isin(['75', '93', '92'])]\n",
    "col_counts_75_93_92 = filtered_75_93_92['col_label'].value_counts()\n",
    "filtered_2A_2B = df_caract[df_caract['dep'].isin(['2A', '2B'])]\n",
    "col_counts_2A_2B = filtered_2A_2B['col_label'].value_counts()\n",
    "\n",
    "# Création des diagrammes circulaires\n",
    "fig, axes = plt.subplots(1, 3, figsize=(18, 6))\n",
    "\n",
    "# Diagramme pour tous les départements\n",
    "axes[0].pie(\n",
    "    col_counts_all,\n",
    "    autopct='%1.1f%%',\n",
    "    startangle=90,\n",
    "    labels=None,\n",
    "    colors=plt.cm.tab10.colors,\n",
    "    explode=[0.1 if i == col_counts_all.idxmax() else 0 for i in col_counts_all.index],\n",
    ")\n",
    "axes[0].set_title(\"Tous les départements\", fontsize=14)\n",
    "\n",
    "# Diagramme pour les départements 75, 93, 92\n",
    "axes[1].pie(\n",
    "    col_counts_75_93_92,\n",
    "    autopct='%1.1f%%',\n",
    "    startangle=90,\n",
    "    labels=None,\n",
    "    colors=plt.cm.tab10.colors,\n",
    "    explode=[0.1 if i == col_counts_75_93_92.idxmax() else 0 for i in col_counts_75_93_92.index],\n",
    ")\n",
    "axes[1].set_title(\"Départements 75, 93, 92\", fontsize=14)\n",
    "\n",
    "# Diagramme pour les départements 2A et 2B\n",
    "axes[2].pie(\n",
    "    col_counts_2A_2B,\n",
    "    autopct='%1.1f%%',\n",
    "    startangle=90,\n",
    "    labels=None,\n",
    "    colors=plt.cm.tab10.colors,\n",
    "    explode=[0.1 if i == col_counts_2A_2B.idxmax() else 0 for i in col_counts_2A_2B.index],\n",
    ")\n",
    "axes[2].set_title(\"Départements 2A, 2B\", fontsize=14)\n",
    "\n",
    "# Ajouter une légende commune sous la figure\n",
    "fig.legend(\n",
    "    labels=col_counts_all.index,  # Utiliser les labels globaux\n",
    "    loc='lower center',  # Placer la légende en bas\n",
    "    ncol=3,  # Nombre de colonnes dans la légende\n",
    "    fontsize=10,\n",
    "    title=\"Types de collisions\"\n",
    ")\n",
    "\n",
    "# Ajuster les espaces pour éviter la superposition\n",
    "plt.tight_layout(rect=[0, 0.1, 1, 0.95])  # Ajouter de l'espace en bas pour la légende\n",
    "plt.show()\n"
   ]
  },
  {
   "cell_type": "markdown",
   "metadata": {},
   "source": [
    "- Répartition nationale\n",
    "   * **Collisions par le côté (30,3%)** et **par l’arrière (29,9%)** dominent, reflétant des accidents fréquents dans des contextes de trafic dense.\n",
    "   * Les accidents **sans collision (13,3%)** et **frontaux (9,5%)** complètent les principaux types.\n",
    "\n",
    "- Zones urbaines (75, 92, 93)\n",
    "   * **Autres collisions (37,0%)** majoritaires en raison du trafic intense et des interactions complexes.\n",
    "   * Les collisions **par l’arrière (29,8%)** et **par le côté (15,5%)** restent importantes.\n",
    "   * Les accidents **sans collision (6,1%)** sont rares.\n",
    "\n",
    "- Zones rurales (2A, 2B)\n",
    "   * Les accidents **sans collision (15,5%)** et **frontaux (9,5%)** sont plus fréquents, dus aux routes sinueuses.\n",
    "   * Les collisions **par le côté** et **par l’arrière** sont moins fréquentes qu’en zones urbaines.\n"
   ]
  },
  {
   "cell_type": "markdown",
   "metadata": {},
   "source": [
    "#### **Conclusion** \n",
    "Les voies départementales et communales concentrent la majorité des accidents en termes de volume. Cependant, les proportions de gravité sont similaires entre les types de routes, avec une prédominance des accidents indemnes et blessés légers. Les accidents mortels restent rares mais doivent être surveillés, en particulier sur les routes à plus forte circulation comme les routes nationales et départementales.\n",
    "\n",
    "- Bien que le pourcentage d'accidents varie en fonction des saisons, la gravité moyenne des accidents est relativement constante.\n",
    "- Une exploration approfondie des facteurs spécifiques (comme les conditions climatiques ou la densité de circulation) pourrait fournir des explications supplémentaires."
   ]
  },
  {
   "cell_type": "markdown",
   "metadata": {},
   "source": [
    "## **II- Relation variables-target**"
   ]
  },
  {
   "cell_type": "markdown",
   "metadata": {},
   "source": [
    "Dans cette partie, il s'agira d'étudier l'association qui peut exister entre les variables et la gravité de l'accident routier. Ceci nous permettra de faire une sélection en amont des variables succeptible de mieux prédire la gravité."
   ]
  },
  {
   "cell_type": "markdown",
   "metadata": {},
   "source": [
    "### 1)- Analyse des diagrammes des profils"
   ]
  },
  {
   "cell_type": "code",
<<<<<<< HEAD
   "execution_count": 112,
=======
   "execution_count": null,
>>>>>>> c12b8e6454b21ae829c5864cd30e82adc7163348
   "metadata": {},
   "outputs": [],
   "source": [
    "# Comptage des occurrences par catégorie de gravité et type de route\n",
    "catu_gravite_prop = (\n",
    "    df_usagers.groupby(['catu', 'grav'])\n",
    "    .size()\n",
    "    .unstack(fill_value=0)\n",
    ")\n",
    "# Calcul des proportions par catégorie de route\n",
    "catu_gravite_prop = catu_gravite_prop.div(catu_gravite_prop.sum(axis=1), axis=0)\n",
    "\n",
    "# Création des graphiques côte à côte\n",
    "fig, axes = plt.subplots(1, 2, figsize=(15, 6), sharey=False)\n",
    "\n",
    "# Graphique 2 : Proportion des catégories de gravité par type de route\n",
    "catu_gravite_prop.plot( kind='bar', stacked=True, ax=axes[1], colormap='Set1',edgecolor='black')\n",
    "axes[1].set_title(\"Proportion de la gravité par catégorie d'usager\")\n",
    "axes[1].set_xlabel(\"Type de catégorie d'usager\")\n",
    "axes[1].set_ylabel(\"Proportion\")\n",
    "axes[1].tick_params(axis='x', rotation=45)\n",
    "axes[1].legend(title=\"Gravité\", bbox_to_anchor=(1.05, 1), loc='upper left')\n",
    "\n",
    "# Comptage des occurrences par type de gravité et par mois\n",
    "gravite_proportions_secu1 = (df_usagers.groupby(['secu1', 'grav']).size().unstack(fill_value=0))\n",
    "# Calcul des proportions de gravité par mois\n",
    "gravite_proportions_secu1 = gravite_proportions_secu1.div(gravite_proportions_secu1.sum(axis=1), axis=0)\n",
    "\n",
    "# Graphique 1 : Proportion des types de gravité par mois\n",
    "gravite_proportions_secu1.plot(kind='bar', stacked=True, ax=axes[0], colormap='Set1', edgecolor='black')\n",
    "axes[0].set_title(\"Proportion de la gravité par équipement de sécurité\")\n",
    "axes[0].set_xlabel(\"équipement de sécurité\")\n",
    "axes[0].set_ylabel(\"Proportion\")\n",
    "axes[0].legend(title=\"Gravité\", bbox_to_anchor=(1.05, 1), loc='upper left')\n",
    "# Ajustement de la mise en page\n",
    "plt.tight_layout()\n",
    "plt.show()"
   ]
  },
  {
   "cell_type": "markdown",
   "metadata": {},
   "source": [
    "D'une part, le diagramme des profils pour le type d'équipement de sécurité montre que celui ci a un impact sur la gravité de l'accident. On observe que les proportions de blessés hospitalisés sont particulièrement élevées parmi les utilisateurs de casques (37,69 %) et de ceintures (32,00 %), tout en restant significatives pour ceux sans équipement (18,12 %). Concernant les décès, une part importante concerne les individus sans équipement (25,28 %), mais également les utilisateurs de casques (26,72 %) et de ceintures (32,65 %). À l’inverse, la majorité des personnes indemnes portaient une ceinture (79,17 %) ou utilisaient un dispositif pour enfants (61,67 %), suggérant une meilleure protection offerte par ces équipements. \n",
    "\n",
    "D'autre part, la catégorie d'usager semble être associée à la gravité de l'accident. On observe que 71,11 % des conducteurs blessés sont hospitalisés plus de 24 heures, 67,6 % subissent des blessures légères et 83,3 % sortent indemnes, bien que 71,8 % des conducteurs décèdent dans l'accident. Chez les passagers, 16,7 % sont hospitalisés plus de 24 heures, 20 % sont légèrement blessés, et 16,2 % sont indemnes, avec 14,2 % de passagers tués. Les piétons sont les usagers les plus vulnérables avec une proportion plus élevée de blessés graves et de décès. Ceci peut s'expliquer par le fait qu'ils sont directement exposés aux chocs lors d'un accident et ne bénéficient pas de la protection offerte par un véhicule. Tandis que les conducteurs et les passagers semblent être globalement mieux protégés."
   ]
  },
  {
   "cell_type": "code",
<<<<<<< HEAD
   "execution_count": 113,
=======
   "execution_count": null,
>>>>>>> c12b8e6454b21ae829c5864cd30e82adc7163348
   "metadata": {},
   "outputs": [],
   "source": [
    "# Comptage des occurrences par catégorie de gravité et type de route\n",
    "catv_gravite_prop = (\n",
    "    df_vehicules.merge(df_usagers, on=[\"Num_Acc\",\"id_vehicule\",\"num_veh\"], how=\"inner\")\n",
    "    .groupby(['catv', 'grav'])\n",
    "    .size()\n",
    "    .unstack(fill_value=0)\n",
    ")\n",
    "# Calcul des proportions par catégorie de route\n",
    "catv_gravite_prop = catv_gravite_prop.div(catv_gravite_prop.sum(axis=1), axis=0)\n",
    "\n",
    "# Création des graphiques côte à côte\n",
    "fig, axes = plt.subplots(1, 2, figsize=(19, 7), sharey=False)\n",
    "\n",
    "# Graphique 2 : Proportion des catégories de gravité par type de route\n",
    "catv_gravite_prop.plot(kind='bar',stacked=True, ax=axes[1], colormap='magma',edgecolor='black')\n",
    "axes[1].set_title(\"Proportion de la gravité par catégorie de véhicules\")\n",
    "axes[1].set_xlabel(\"Catégorie de véhicules\")\n",
    "axes[1].set_ylabel(\"Proportion\")\n",
    "axes[1].tick_params(axis='x', rotation=45)\n",
    "axes[1].legend(title=\"Gravité\", bbox_to_anchor=(1.05, 1), loc='upper left')\n",
    "\n",
    "# Comptage des occurrences par type de gravité et par mois\n",
    "gravite_proportions_obsm = (\n",
    "    df_vehicules.merge(df_usagers, on=[\"Num_Acc\",\"id_vehicule\",\"num_veh\"], how=\"inner\")\n",
    "    .groupby(['obsm', 'grav'])\n",
    "    .size()\n",
    "    .unstack(fill_value=0)\n",
    ")\n",
    "# Calcul des proportions de gravité par mois\n",
    "gravite_proportions_obsm = gravite_proportions_obsm.div(gravite_proportions_obsm.sum(axis=1), axis=0)\n",
    "\n",
    "# Graphique 1 : Proportion des types de gravité par mois\n",
    "gravite_proportions_obsm.plot(kind='bar',stacked=True, ax=axes[0],colormap='magma',edgecolor='black')\n",
    "axes[0].set_title(\"Proportion de la gravité par obstacle mobile heurté\")\n",
    "axes[0].set_xlabel(\"Obstacle mobile heurté\")\n",
    "axes[0].set_ylabel(\"Proportion\")\n",
    "\n",
    "axes[0].legend(title=\"Gravité\", bbox_to_anchor=(1.05, 1), loc='upper left')\n",
    "# Ajustement de la mise en page\n",
    "plt.tight_layout()\n",
    "plt.show()"
   ]
  },
  {
   "cell_type": "markdown",
   "metadata": {},
   "source": [
    "L'analyse du tableau de profils montre une possible influence de la variable **\"obstacle mobile heurté\" (obsm)** sur la **\"gravité de l'accident\" (grav)**. Les collisions avec un **véhicule** sont les plus fréquentes, associées à des blessures légères (67,77 %) ou graves nécessitant une hospitalisation (55,05 %), mais aussi à des cas d'indemnes (71,66 %), indiquant que la gravité dépend probablement du contexte (vitesse, type de choc). Les accidents sans obstacle (43,57 %) et ceux impliquant des **piétons** (13,73 %) sont significativement associés aux décès, reflétant des facteurs externes ou la vulnérabilité des piétons. En revanche, les obstacles comme les animaux ou les véhicules sur rail ont une influence négligeable."
   ]
  },
  {
   "cell_type": "code",
<<<<<<< HEAD
   "execution_count": 114,
=======
   "execution_count": null,
>>>>>>> c12b8e6454b21ae829c5864cd30e82adc7163348
   "metadata": {},
   "outputs": [],
   "source": [
    "# Comptage des occurrences par catégorie de gravité et type de route\n",
    "agg_gravite_prop = (\n",
    "    df_caract.merge(df_usagers, on=[\"Num_Acc\"], how=\"inner\")\n",
    "    .groupby(['agg', 'grav'])\n",
    "    .size()\n",
    "    .unstack(fill_value=0)\n",
    ")\n",
    "# Calcul des proportions par catégorie de route\n",
    "agg_gravite_prop = agg_gravite_prop.div(agg_gravite_prop.sum(axis=1), axis=0)\n",
    "\n",
    "# Création des graphiques côte à côte\n",
    "fig, axes = plt.subplots(1, 2, figsize=(19, 7), sharey=False)\n",
    "\n",
    "# Graphique 2 : Proportion des catégories de gravité par type de route\n",
    "agg_gravite_prop.plot(kind='bar',stacked=True, ax=axes[1], colormap='magma',edgecolor='black')\n",
    "axes[1].set_title(\"Proportion de la gravité par catégorie d'agglomération\")\n",
    "axes[1].set_xlabel(\"Catégorie d'agglomération\")\n",
    "axes[1].set_ylabel(\"Proportion\")\n",
    "axes[1].tick_params(axis='x', rotation=45)\n",
    "axes[1].legend(title=\"Gravité\", bbox_to_anchor=(1.05, 1), loc='upper left')\n",
    "\n",
    "# Comptage des occurrences par type de gravité et par mois\n",
    "gravite_proportions_col = (\n",
    "    df_caract.merge(df_usagers, on=[\"Num_Acc\"], how=\"inner\")\n",
    "    .groupby(['col', 'grav'])\n",
    "    .size()\n",
    "    .unstack(fill_value=0)\n",
    ")\n",
    "# Calcul des proportions de gravité par mois\n",
    "gravite_proportions_col = gravite_proportions_col.div(gravite_proportions_col.sum(axis=1), axis=0)\n",
    "\n",
    "# Graphique 1 : Proportion des types de gravité par mois\n",
    "gravite_proportions_col.plot(kind='bar',stacked=True, ax=axes[0],colormap='magma',edgecolor='black')\n",
    "axes[0].set_title(\"Proportion de la gravité par type de collision\")\n",
    "axes[0].set_xlabel(\"collision\")\n",
    "axes[0].set_ylabel(\"Proportion\")\n",
    "\n",
    "axes[0].legend(title=\"Gravité\", bbox_to_anchor=(1.05, 1), loc='upper left')\n",
    "# Ajustement de la mise en page\n",
    "plt.tight_layout()\n",
    "plt.show()"
   ]
  },
  {
   "cell_type": "code",
<<<<<<< HEAD
   "execution_count": 115,
=======
   "execution_count": null,
>>>>>>> c12b8e6454b21ae829c5864cd30e82adc7163348
   "metadata": {},
   "outputs": [],
   "source": [
    "# Comptage des occurrences par catégorie de gravité et type de route\n",
    "choc_gravite_prop = (\n",
    "    df_vehicules.merge(df_usagers, on=[\"Num_Acc\",\"id_vehicule\",\"num_veh\"], how=\"inner\")\n",
    "    .groupby(['choc', 'grav'])\n",
    "    .size()\n",
    "    .unstack(fill_value=0)\n",
    ")\n",
    "# Calcul des proportions par catégorie de route\n",
    "choc_gravite_prop = choc_gravite_prop.div(choc_gravite_prop.sum(axis=1), axis=0)\n",
    "\n",
    "# Création des graphiques côte à côte\n",
    "fig, axes = plt.subplots(1, 2, figsize=(19, 7), sharey=False)\n",
    "\n",
    "# Graphique 2 : Proportion des catégories de gravité par type de route\n",
    "choc_gravite_prop.plot(kind='bar',stacked=True, ax=axes[1], colormap='magma',edgecolor='black')\n",
    "axes[1].set_title(\"Proportion de la gravité par type de choc\")\n",
    "axes[1].set_xlabel(\"type de choc\")\n",
    "axes[1].set_ylabel(\"Proportion\")\n",
    "axes[1].tick_params(axis='x', rotation=45)\n",
    "axes[1].legend(title=\"Gravité\", bbox_to_anchor=(1.05, 1), loc='upper left')\n",
    "\n",
    "# Comptage des occurrences par type de gravité et par mois\n",
    "gravite_proportions_secu2 = (df_usagers.groupby(['secu2', 'grav']).size().unstack(fill_value=0))\n",
    "    \n",
    "# Calcul des proportions de gravité par mois\n",
    "gravite_proportions_secu2 = gravite_proportions_secu2.div(gravite_proportions_secu2.sum(axis=1), axis=0)\n",
    "\n",
    "# Graphique 1 : Proportion des types de gravité par mois\n",
    "gravite_proportions_secu2.plot(kind='bar',stacked=True, ax=axes[0],colormap='magma',edgecolor='black')\n",
    "axes[0].set_title(\"Proportion de la gravité selon le 2e équipement de sécurité\")\n",
    "axes[0].set_ylabel(\"Proportion\")\n",
    "\n",
    "axes[0].legend(title=\"Gravité\", bbox_to_anchor=(1.05, 1), loc='upper left')\n",
    "# Ajustement de la mise en page\n",
    "plt.tight_layout()\n",
    "plt.show()"
   ]
  },
  {
   "cell_type": "markdown",
   "metadata": {},
   "source": [
    "Gravité (grav) et équipement de sécurité2 (secu2)"
   ]
  },
  {
   "cell_type": "markdown",
   "metadata": {},
   "source": [
    "Les données montrent que le type d’équipement de sécurité secondaire (secu2) semble également avoir une influence potentielle sur la gravité des blessures (grav). Les proportions de blessés hospitalisés sont particulièrement élevées parmi les utilisateurs de gants (49,53 %) et les personnes sans équipement (33,04 %), tandis qu’elles sont plus faibles pour les utilisateurs de ceintures (0,55 %) et de dispositifs pour enfants (0,26 %). Concernant les décès, les proportions sont élevées chez les utilisateurs de gants (44,41 %) et ceux sans équipement (36,80 %), ce qui suggère une vulnérabilité accrue dans ces groupes. À l’inverse, les proportions d’indemnes sont majoritairement observées chez les personnes sans équipement (76,53 %), suivies des utilisateurs de ceintures (55,51 %) et de dispositifs pour enfants (28,73 %), ce qui indique une meilleure protection relative pour ces derniers. Ces résultats suggèrent une corrélation probable entre l’équipement de sécurité secondaire utilisé et la gravité des blessures."
   ]
  },
  {
   "cell_type": "markdown",
   "metadata": {},
   "source": [
    "L'analyse du tableau montre une relation possible entre le **\"point de choc initial\" (choc)** et la **\"gravité de l'accident\" (grav)**. Les collisions frontales (**avant**) sont les plus fréquentes, représentant 46,99 % des blessés graves hospitalisés et 39,91 % des blessés légers, ainsi que 44,10 % des décès, indiquant que ces chocs sont particulièrement dangereux. Les chocs latéraux (**avant droit** et **avant gauche**) et ceux sur les **côtés** (droit et gauche) sont également associés à des blessures légères et graves, bien que moins mortels. Les chocs multiples (comme les tonneaux) montrent une proportion notable de blessés graves (2,80 %) et de décès (3,61 %), suggérant un risque accru dans ces cas. En revanche, les accidents sans point de choc précis (**aucun**) sont fortement associés aux décès (9,60 %), ce qui pourrait refléter des accidents impliquant une perte de contrôle ou d'autres facteurs imprécis. Ainsi, la localisation du choc initial semble jouer un rôle important dans la gravité des blessures, avec des chocs frontaux et multiples représentant les situations les plus critiques."
   ]
  },
  {
   "cell_type": "code",
<<<<<<< HEAD
   "execution_count": 116,
   "metadata": {},
   "outputs": [
    {
     "data": {
      "text/html": [
       "<div>\n",
       "<style scoped>\n",
       "    .dataframe tbody tr th:only-of-type {\n",
       "        vertical-align: middle;\n",
       "    }\n",
       "\n",
       "    .dataframe tbody tr th {\n",
       "        vertical-align: top;\n",
       "    }\n",
       "\n",
       "    .dataframe thead th {\n",
       "        text-align: right;\n",
       "    }\n",
       "</style>\n",
       "<table border=\"1\" class=\"dataframe\">\n",
       "  <thead>\n",
       "    <tr style=\"text-align: right;\">\n",
       "      <th>motor</th>\n",
       "      <th>Autre</th>\n",
       "      <th>Electrique</th>\n",
       "      <th>Humaine</th>\n",
       "      <th>Hybride électrique</th>\n",
       "      <th>Hydrocarbures</th>\n",
       "      <th>Hydrogène</th>\n",
       "      <th>Inconnue</th>\n",
       "    </tr>\n",
       "    <tr>\n",
       "      <th>grav</th>\n",
       "      <th></th>\n",
       "      <th></th>\n",
       "      <th></th>\n",
       "      <th></th>\n",
       "      <th></th>\n",
       "      <th></th>\n",
       "      <th></th>\n",
       "    </tr>\n",
       "  </thead>\n",
       "  <tbody>\n",
       "    <tr>\n",
       "      <th>Blessé hospitalisé &gt; 24h</th>\n",
       "      <td>0.649351</td>\n",
       "      <td>4.457143</td>\n",
       "      <td>6.623377</td>\n",
       "      <td>1.054545</td>\n",
       "      <td>79.579221</td>\n",
       "      <td>0.088312</td>\n",
       "      <td>7.548052</td>\n",
       "    </tr>\n",
       "    <tr>\n",
       "      <th>Blessé léger</th>\n",
       "      <td>0.537157</td>\n",
       "      <td>7.199111</td>\n",
       "      <td>7.546446</td>\n",
       "      <td>1.845719</td>\n",
       "      <td>75.848142</td>\n",
       "      <td>0.131260</td>\n",
       "      <td>6.892165</td>\n",
       "    </tr>\n",
       "    <tr>\n",
       "      <th>Indemne</th>\n",
       "      <td>0.698067</td>\n",
       "      <td>3.026834</td>\n",
       "      <td>0.910114</td>\n",
       "      <td>3.002439</td>\n",
       "      <td>82.644023</td>\n",
       "      <td>0.150122</td>\n",
       "      <td>9.568399</td>\n",
       "    </tr>\n",
       "    <tr>\n",
       "      <th>Tué</th>\n",
       "      <td>1.002063</td>\n",
       "      <td>3.153551</td>\n",
       "      <td>6.248158</td>\n",
       "      <td>1.178898</td>\n",
       "      <td>81.786030</td>\n",
       "      <td>0.029472</td>\n",
       "      <td>6.601827</td>\n",
       "    </tr>\n",
       "  </tbody>\n",
       "</table>\n",
       "</div>"
      ],
      "text/plain": [
       "motor                        Autre  Electrique   Humaine  Hybride électrique  \\\n",
       "grav                                                                           \n",
       "Blessé hospitalisé > 24h  0.649351    4.457143  6.623377            1.054545   \n",
       "Blessé léger              0.537157    7.199111  7.546446            1.845719   \n",
       "Indemne                   0.698067    3.026834  0.910114            3.002439   \n",
       "Tué                       1.002063    3.153551  6.248158            1.178898   \n",
       "\n",
       "motor                     Hydrocarbures  Hydrogène  Inconnue  \n",
       "grav                                                          \n",
       "Blessé hospitalisé > 24h      79.579221   0.088312  7.548052  \n",
       "Blessé léger                  75.848142   0.131260  6.892165  \n",
       "Indemne                       82.644023   0.150122  9.568399  \n",
       "Tué                           81.786030   0.029472  6.601827  "
      ]
     },
     "execution_count": 116,
     "metadata": {},
     "output_type": "execute_result"
    }
   ],
=======
   "execution_count": null,
   "metadata": {},
   "outputs": [],
>>>>>>> c12b8e6454b21ae829c5864cd30e82adc7163348
   "source": [
    "data=df_vehicules.merge(df_usagers, on=[\"Num_Acc\",\"id_vehicule\",\"num_veh\"], how=\"inner\")\n",
    "contingency_table = pd.crosstab(data[\"grav\"], data[\"motor\"])\n",
    "profile_table = contingency_table.div(contingency_table.sum(axis=1), axis=0) * 100\n",
    "profile_table"
   ]
  },
  {
   "cell_type": "markdown",
   "metadata": {},
   "source": [
    "L'analyse des profils de gravité des accidents en fonction du type de motorisation révèle que les véhicules à moteur à combustion (hydrocarbures) sont largement associés aux accidents les plus graves, représentant une proportion élevée de blessés hospitalisés plus de 24 heures, de blessés légers et de décès. Les motorisations \"Electrique\", \"Humaine\", \"Hybride électrique\" et \"Hydrogène\" semblent moins fréquentes dans les accidents graves, tandis que les catégories \"Inconnue\" et \"Autre\" montrent des valeurs intéressantes, notamment pour les décès. Ces résultats suggèrent que les véhicules à motorisation thermique sont plus susceptibles d'être impliqués dans des accidents graves. "
   ]
  },
  {
   "cell_type": "code",
<<<<<<< HEAD
   "execution_count": 117,
   "metadata": {},
   "outputs": [
    {
     "data": {
      "image/png": "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",
      "text/plain": [
       "<Figure size 1500x600 with 2 Axes>"
      ]
     },
     "metadata": {},
     "output_type": "display_data"
    }
   ],
=======
   "execution_count": null,
   "metadata": {},
   "outputs": [],
>>>>>>> c12b8e6454b21ae829c5864cd30e82adc7163348
   "source": [
    "# Comptage des occurrences par catégorie de route\n",
    "catr_counts = df_lieux['catr'].value_counts().sort_index()\n",
    "\n",
    "# Comptage des occurrences par catégorie de gravité et type de route\n",
    "catr_gravite_prop = (\n",
    "    df_lieux.merge(df_usagers, on='Num_Acc')\n",
    "    .groupby(['catr', 'grav'])\n",
    "    .size()\n",
    "    .unstack(fill_value=0)\n",
    ")\n",
    "# Calcul des proportions par catégorie de route\n",
    "catr_gravite_prop = catr_gravite_prop.div(catr_gravite_prop.sum(axis=1), axis=0)\n",
    "\n",
    "# Comptage des occurrences par type de gravité et par mois\n",
    "gravite_proportions_mois = (\n",
    "    df_caract.merge(df_usagers, on='Num_Acc')\n",
    "    .groupby(['mois', 'grav'])\n",
    "    .size()\n",
    "    .unstack(fill_value=0)\n",
    ")\n",
    "\n",
    "# Calcul des proportions de gravité par mois\n",
    "gravite_proportions_mois = gravite_proportions_mois.div(gravite_proportions_mois.sum(axis=1), axis=0)\n",
    "# Création des graphiques côte à côte\n",
    "fig, axes = plt.subplots(1, 2, figsize=(15, 6), sharey=False)\n",
    "\n",
    "# Graphique 1 : Proportion des types de gravité par mois\n",
    "gravite_proportions_mois.plot( kind='bar',stacked=True,ax=axes[0],colormap='tab20',edgecolor='black')\n",
    "axes[0].set_title(\"Proportion des types de gravité par mois\")\n",
    "axes[0].set_xlabel(\"Mois\")\n",
    "axes[0].set_ylabel(\"Proportion\")\n",
    "axes[0].set_xticklabels([\n",
    "    \"Janvier\", \"Février\", \"Mars\", \"Avril\", \"Mai\", \"Juin\", \n",
    "    \"Juillet\", \"Août\", \"Septembre\", \"Octobre\", \"Novembre\", \"Décembre\"\n",
    "], rotation=45)\n",
    "axes[0].legend(title=\"Gravité\", bbox_to_anchor=(1.05, 1), loc='upper left')\n",
    "\n",
    "# Graphique 2 : Proportion des catégories de gravité par type de route\n",
    "catr_gravite_prop.plot(kind='bar',stacked=True, ax=axes[1],  colormap='tab20', edgecolor='black')\n",
    "axes[1].set_title(\"Proportion des catégories de gravité par type de route (catr)\")\n",
    "axes[1].set_xlabel(\"Type de route\")\n",
    "axes[1].set_ylabel(\"Proportion\")\n",
    "axes[1].tick_params(axis='x')\n",
    "axes[1].legend(title=\"Gravité\", bbox_to_anchor=(1.05, 1), loc='upper left')\n",
    "# Ajustement de la mise en page\n",
    "plt.tight_layout()\n",
    "plt.show()"
   ]
  },
  {
   "cell_type": "markdown",
   "metadata": {},
   "source": [
    "#### Proportion des catégories de gravité par type de route (graphique de droite) :      \n",
    "- La gravité **\"indemne\"**  est majoritaire pour tous les types de routes, représentant environ 40 % à 50 % des accidents.\n",
    "- Les accidents impliquant des **blessés légers** et des **blessés hospitalisés > 24 h** (en gris) constituent une part importante, en particulier sur les voies départementales et communales.\n",
    "- La proportion des **accidents mortels** est relativement faible mais présente pour tous les types de routes, avec une légère augmentation sur les routes nationales et départementales.\n",
    "- Les accidents **non renseignés**  représentent une part non négligeable, ce qui pourrait indiquer des données incomplètes.\n",
    "\n",
    "#### Gravité  par mois\n",
    "- La gravité reste **stable** tout au long de l'année, sans variation significative entre les mois."
   ]
  },
  {
<<<<<<< HEAD
   "cell_type": "code",
   "execution_count": 118,
   "metadata": {},
   "outputs": [
    {
     "data": {
      "image/png": "iVBORw0KGgoAAAANSUhEUgAABcwAAAJOCAYAAACKkkRKAAAAOnRFWHRTb2Z0d2FyZQBNYXRwbG90bGliIHZlcnNpb24zLjEwLjAsIGh0dHBzOi8vbWF0cGxvdGxpYi5vcmcvlHJYcgAAAAlwSFlzAAAPYQAAD2EBqD+naQABAABJREFUeJzs3XdUFNfbB/DvLmWpooBUaaJiw0qMiL1hL4klsWKLnVijxliwxo4laiwRUWNXkqixxB5brLH3ggVUMIqKoLD3/cN39+e6S3ULu3w/53iOe/fO3GeGYfbZh5k7EiGEABERERERERERERFRPic1dABERERERERERERERHkBC+ZERERERERERERERGDBnIiIiIiIiIiIiIgIAAvmREREREREREREREQAWDAnIiIiIiIiIiIiIgLAgjkREREREREREREREQAWzImIiIiIiIiIiIiIALBgTkREREREREREREQEgAVzIiIiIiIiIiIiIiIALJgTUR7RsWNHBAQEICEhwdChEBERERHlCnNaIu15+PAhXFxcMHToUEOHQkT5TJ4pmEdFRUEikSj/mZubo0iRIujWrRsePnxo6PBy7fLlyxg/fjzu3r2r9l5YWBh8fX31HlNG7t69C4lEgqioKL2Nmdn+MSUSiQTjx483dBg6pfgd/vBn+euvvyIyMjLLZRcvXoy9e/di586dcHZ21l2QWrRjxw6j/5nm5eNS0/nR19cXYWFhyte5PWcZ+tx769YtyGQyHDt2TCfr1/S72LlzZ7Rq1Uon4xGRKua0hsecVnfycu6gLfktp81rPs73Dhw4AIlEggMHDijbMsvDP17eGJni+UQikWDAgAE5WiYtLQ1fffUV6tati5kzZ2Z7OU3HjDGLjo5G4cKF8fLlyxwvm91zV27UrFkTgwYN0sm6ifKCPFMwV1ixYgWOHTuGPXv2oFevXli7di1q1KiB169fGzq0XLl8+TIiIiI0ftiNGTMGW7du1X9QeUhm+4eMS9OmTXHs2DG4u7sr27LzAX3mzBmMGTMGO3bsgJ+fn46j1J4dO3YgIiLC0GHka+7u7jh27BiaNm2ao+UMfe4dNmwYGjRogODgYL2NOX78eGzfvh379u3T25hE+R1z2vyFOa3pyG85bV5XqVIlHDt2DJUqVVK2ZZaHb926FWPGjNFXeDrB88l7o0aNgrm5OaKjoyGRSLK9nKZjxlglJyfj+++/x4gRI2Bvb5/j5XVZMJ84cSIWLlyIa9eu6WT9RIZmbugAPla2bFkEBQUBAOrUqYP09HRMnDgRMTEx6Nixo8ZlkpOTYWNjo88ws/Tu3bssT+r+/v56iobof3T1+1K4cGEULlw4x8tVqlQJT58+1Xo82pAXzy30PzKZDFWrVs3xcoY89165cgUxMTHYuXOnXsf19/dHo0aN8OOPP6Ju3bp6HZsov2JOS6RbzGmzLy+eW7KrQIECOcr3KlasqMNoSJ9mzJiRo/6Kz6ucHjN52cqVK5GYmIiePXsaOhQ1tWrVQkBAAGbNmoUlS5YYOhwirctzV5h/THGiu3fvHoD3t3za2dnhwoULaNiwIezt7VGvXj0AwLNnz9CvXz94enrC0tISRYsWxejRo5GamqqyTsXtQD///DNKlCgBmUyG0qVLY926dWrjX7x4ES1btkShQoVgZWWFChUqYOXKlSp9FLf8rFq1CkOHDoWnpydkMhmWLVuGtm3bAnj/RUlxa67i9lBNt6+mpKRg1KhR8PPzg6WlJTw9PdG/f388f/5cpZ+vry+aNWuGnTt3olKlSrC2tkbJkiXxyy+/ZGu/Pnr0CO3atYO9vT0cHBzQvn17xMfHa+x76tQptGjRAo6OjrCyskLFihWxYcMGlT7JyckYNmwY/Pz8YGVlBUdHRwQFBWHt2rUZxhAVFZXh/pk4cSLMzc1x//59teW6d+8OJycnpKSkqOyLrVu3oly5crCyskLRokUxb948tWWTkpKUcSr276BBg9Su9tq4cSM+//xzODg4wMbGBkWLFkX37t0z36n/v/5evXrByckJdnZ2aNSoEa5fv66x740bN9ChQwe4uLhAJpOhVKlS+Omnn7IcAwCeP3+OHj16wNHREXZ2dmjatClu376tdpvs+PHjIZFIcObMGbRp0waFChVSfqk9deoUvvrqK/j6+sLa2hq+vr74+uuvlb9rAPDvv/9CIpFg+fLlajH8+eefkEgk+P333wGo375au3ZtbN++Hffu3VO5NV3h7du3mDRpEkqWLAmZTIbChQujW7du2fqioTgPXLp0CfXq1YOtrS0KFy6MAQMGIDk5WaXvTz/9hJo1a8LFxQW2trYIDAzE9OnT8e7dO5V+tWvXRtmyZXHo0CFUq1YNNjY2Gf7Mw8LClD+rD7ft7t27qFevHkqWLAkhhMoyQggUK1ZMeTW04nbx6dOnY/LkyfD29oaVlRWCgoKwd+9etTE/5XjR13Epl8sxf/58VKhQAdbW1ihYsCCqVq2qPEYUfaZPn678ubu4uKBLly548OBBtsb4kKZb7p8+fYpvvvkGXl5eyuMqJCQEf/31l7KPIc+9ixYtgpubGxo0aKD23s6dO1GvXj3leadUqVKYOnWqSp/ff/8dwcHBsLGxgb29PRo0aJDtqV06d+6Mv/76C7du3cpWfyLSLua0zGk/xpyWOa2hc1qFEydOoHnz5nBycoKVlRX8/f3Vplr4+++/Ua9ePdjb28PGxgbVqlXD9u3bVfoo9t3+/fvRt29fODs7w8nJCV988QUePXqk0vfdu3f47rvv4ObmBhsbG1SvXh3//POPWmwfT6+RWR4OaJ6SJTY2Fp06dVI5RmfNmgW5XK7so8grZ86cidmzZ8PPzw92dnYIDg7G8ePHVdZ3+/ZtfPXVV/Dw8IBMJoOrqyvq1auHc+fOZbqfs3OsZnY+Af738z127BiqVaumXM+KFSsAANu3b0elSpVgY2ODwMBAjRdpZOdnmZ1zYU6OX4VVq1ahVKlSsLGxQfny5bFt2za1Ptk5p2T0eXXz5s0Mp2SJiopCQECAcp3R0dFqn18ZLZvRVF+6+lxRWLRoEZo3b46CBQuqtGfnfJDZuUuxPTNmzMC0adOUx2Tt2rVx/fp1vHv3DiNHjoSHhwccHBzQunVrPHnyRC2+zp0749dff83VdDFEeZ7II1asWCEAiJMnT6q0z507VwAQS5YsEUII0bVrV2FhYSF8fX3F1KlTxd69e8WuXbvEmzdvRLly5YStra2YOXOm2L17txgzZowwNzcXTZo0UVknAOHl5SVKly4t1q5dK37//XfRqFEjAUBs3LhR2e/q1avC3t5e+Pv7i+joaLF9+3bx9ddfCwBi2rRpyn779+8XAISnp6do06aN+P3338W2bdtEfHy8mDJligAgfvrpJ3Hs2DFx7Ngx8eTJE+W2+Pj4KNcjl8tFaGioMDc3F2PGjBG7d+8WM2fOFLa2tqJixYoiJSVF2dfHx0cUKVJElC5dWkRHR4tdu3aJtm3bCgDi4MGDme7r5ORkUapUKeHg4CDmz58vdu3aJcLDw4W3t7cAIFasWKHsu2/fPmFpaSlq1Kgh1q9fL3bu3CnCwsLU+vXu3VvY2NiI2bNni/3794tt27aJH3/8UcyfPz/DOJ48eZLh/nn8+LGQyWRi9OjRKsskJiYKa2trMXz4cJV94enpKby9vcUvv/widuzYITp27CgAiBkzZij7vX79WlSoUEE4OzuL2bNni7/++kvMnTtXODg4iLp16wq5XC6EEOLo0aNCIpGIr776SuzYsUPs27dPrFixQnTu3DnT/SqXy0WdOnWETCYTkydPFrt37xbjxo0TRYsWFQDEuHHjlH0vXbokHBwcRGBgoIiOjha7d+8WQ4cOFVKpVIwfPz7TcdLT00X16tWFlZWV+PHHH8Xu3btFRESEKF68uNo448aNEwCEj4+PGDFihNizZ4+IiYkRQgixceNGMXbsWLF161Zx8OBBsW7dOlGrVi1RuHBh8fTpU+U6KlasKEJCQtTiaNeunXBxcRHv3r0TQvzvd/jOnTvKbQwJCRFubm7Kn+2xY8eU29CoUSNha2srIiIixJ49e8SyZcuEp6enKF26tEhOTs50H3Tt2lVYWloKb29v5b4eP368MDc3F82aNVPpO3jwYLFo0SKxc+dOsW/fPjFnzhzh7OwsunXrptKvVq1awtHRUXh5eYn58+eL/fv3Z/i7dPPmTdGmTRsBQGXbUlJSxG+//SYAiD179qgss337dgFAbN++XQghxJ07d5TnourVq4vNmzeLjRs3is8++0xYWFiIo0ePKpf9lONFX8elEEJ07txZSCQS0bNnT/Hbb7+JP//8U0yePFnMnTtX2eebb74RAMSAAQPEzp07xeLFi0XhwoWFl5eXynH38flRiPe/6127dlW+VuzDD89FoaGhonDhwmLJkiXiwIEDIiYmRowdO1asW7cuw3Xr69wrhBBFixYV7dq1U2tftmyZkEgkonbt2uLXX38Vf/31l1i4cKHo16+fss+aNWsEANGwYUMRExMj1q9fLypXriwsLS3F4cOHlf0+/l1UePz4sQAg5s2bl2WcRJR7zGmZ0zKnZU5rLDmtEELs3LlTWFhYiHLlyomoqCixb98+8csvv4ivvvpK2efAgQPCwsJCVK5cWaxfv17ExMSIhg0bColEopJjKfZd0aJFxcCBA8WuXbvEsmXLRKFChUSdOnXUtl0ikYjhw4eL3bt3i9mzZwtPT09RoEABlXxPcV7av3+/ECLzPFwI9XzxyZMnwtPTUxQuXFgsXrxY7Ny5UwwYMEAAEH379lX2U+SVvr6+olGjRiImJkbExMSIwMBAUahQIfH8+XNl34CAAFGsWDGxatUqcfDgQbF582YxdOhQZYwZyc6xmtn5RPHzdXJyEgEBAWL58uVi165dolmzZgKAiIiIEIGBgWLt2rVix44domrVqkImk4mHDx/m+GeZnXNhTo5fxb6tUqWK2LBhg9ixY4eoXbu2MDc3F7du3VL2y+45JaPPq8TERLVjRoj/HZstW7YUf/zxh1i9erUoVqyY8PLyUvn80rTsh8eHvj5XhBDi/v37AoBYuHCh2nvZOR9kdu5SbI+Pj49o3ry52LZtm1i9erVwdXUVJUqUEJ07dxbdu3cXf/75p1i8eLGws7MTzZs3V4vjxIkTAoD4/fffM90WImOU5wrmx48fF+/evRMvX74U27ZtE4ULFxb29vYiPj5eCPH+pAxA/PLLLyrLL168WAAQGzZsUGmfNm2aACB2796tbAMgrK2tlesUQoi0tDRRsmRJUaxYMWXbV199JWQymYiNjVVZZ+PGjYWNjY3yQ1NxUq1Zs6badm3cuFHjCVexLR+enHfu3CkAiOnTp6v0W79+vcoXLCHeJwJWVlbi3r17yrY3b94IR0dH0bt3b7WxPrRo0SIBQPz2228q7b169VI7uZcsWVJUrFhRmUAqNGvWTLi7u4v09HQhhBBly5YVrVq1ynRcTbLaPy4uLiI1NVXZNm3aNCGVSlUKQT4+PkIikYhz586pLN+gQQNRoEAB8fr1ayGEEFOnThVSqVTtC+ymTZsEALFjxw4hhBAzZ84UAFSSouz4888/BQCV4qAQQkyePFkt6Q8NDRVFihQRL168UOk7YMAAYWVlJZ49e5bhOIrC66JFi1Tap06dmuGXi7Fjx2YZf1pamnj16pWwtbVV2YZ58+YJAOLatWvKtmfPngmZTCaGDh2qbNNUpGvatKla0VMIIdauXSsAiM2bN6u0nzx5MsOk4EOK80BG+/rvv//WuFx6erp49+6diI6OFmZmZir7uVatWgKA2Lt3b6ZjK/Tv319o+ptjenq6KFq0qGjZsqVKe+PGjYW/v7/yS6wiSfHw8BBv3rxR9ktKShKOjo6ifv36yrZPOV70dVweOnRIAFArCHzoypUrAoBKEViI/yVa33//vbIttwVzOzs7MWjQoAxj0LRufZ17FQXrH3/8UaX95cuXokCBAqJ69erK4+Nj6enpwsPDQwQGBirPu4plXVxcRLVq1ZRtGRXMhRDC09NTtG/fPtM4iejTMKdlTvsx5rSaMafNGzmtv7+/8Pf3V8lHP1a1alXh4uIiXr58qWxLS0sTZcuWFUWKFFHmL4p993GuN336dAFAxMXFCSH+lxMOHjxYpZ/i4oDMCuZCZJyHC6GeL44cOVIAECdOnFDp17dvXyGRSJTHgyKvDAwMFGlpacp+//zzjwAg1q5dK4QQIiEhQQAQkZGRGe6v7MroWM3sfKL4+Z46dUrZlpiYKMzMzIS1tbVKcfzcuXNqF0tk92eZnXNhTo5fAMLV1VUkJSUp2+Lj44VUKhVTp05VtmX3nJLZ59XHx4wij65UqZJKrn337l1hYWGR64K5rj9XFJ+Zx48fz7RfZueDjM5diu0pX768yneLyMhIAUC0aNFCpf+gQYMEALWfy9u3b4VEIhEjRozI8fYR5XV5bkqWqlWrwsLCAvb29mjWrBnc3Nzw559/wtXVVaXfl19+qfJ63759sLW1RZs2bVTaFbdjfTzFQb169VTWaWZmhvbt2+PmzZvKqQH27duHevXqwcvLS22dycnJarfBfxxTTikexvbxLWRt27aFra2t2jZUqFAB3t7eytdWVlYoUaKEyi1dmuzfvx/29vZo0aKFSnuHDh1UXt+8eRNXr15VzrOZlpam/NekSRPExcUpH/BQpUoV/Pnnnxg5ciQOHDiAN2/eZH/DM/Dtt9/iyZMn2LhxI4D3UzksWrQITZs2Vbvtt0yZMihfvrza9iQlJeHMmTMAgG3btqFs2bKoUKGCyraEhoaq3Hb12WefAQDatWuHDRs24OHDh9mKd//+/QCgNi/px/s1JSUFe/fuRevWrWFjY6O2X1NSUtRu+/vQwYMHlfF96Ouvv85wGU3H5qtXrzBixAgUK1YM5ubmMDc3h52dHV6/fo0rV64o+3Xs2BEymUzl9rO1a9ciNTUV3bp1y3DMzGzbtg0FCxZE8+bNVba/QoUKcHNzy/YTzTPa14qfBQCcPXsWLVq0gJOTE8zMzGBhYYEuXbogPT1d7dbiQoUKffL8zlKpFAMGDMC2bdsQGxsLALh16xZ27tyJfv36qc0D+8UXX8DKykr52t7eHs2bN8ehQ4eQnp7+yceLvo7LP//8EwDQv3//LGP5+BxXpUoVlCpVSuNUNDlVpUoVREVFYdKkSTh+/Ljabcqa6Ovcq7gV2cXFRaX96NGjSEpK0nh8KFy7dg2PHj1C586dIZX+76Pbzs4OX375JY4fP57hra8fcnFxyfY5jYg+DXNa5rQKzGk1Y077P4bKaa9fv45bt26hR48eKvnoh16/fo0TJ06gTZs2sLOzU7abmZmhc+fOePDggdpD/z7+nSxXrhyA/01JldEx1q5dO5iba/cxa/v27UPp0qVRpUoVlfawsDAIIdQeiN60aVOYmZllGLujoyP8/f0xY8YMzJ49G2fPnlWZ2iUz2T1Ws+Lu7o7KlSsrXzs6OsLFxQUVKlSAh4eHsr1UqVIqsefkZ5mTc2F2jl/g/RQzHz640tXVFS4uLsr4cnNOyc7nlSKP7tChg0qu7ePjg2rVqmW5vCb6+FzJ6LsDkLPzQWaaNGmi8t1CccwophH9uF3x/VbBwsICBQsW5PcLMkl5rmAeHR2NkydP4uzZs3j06BHOnz+PkJAQlT42NjYoUKCASltiYiLc3NzUig0uLi4wNzdHYmKiSrubm5va2Io2Rd/ExESVp6MrKD6EPl6npr45kZiYCHNzc7WHzEgkEri5uamN5+TkpLYOmUyW5Qk4MTFR7csaoL5PHj9+DAAYNmwYLCwsVP7169cPAJCQkAAAmDdvHkaMGIGYmBjUqVMHjo6OaNWqFW7cuJHFVmesYsWKqFGjhnK+sm3btuHu3bsYMGBAlrF/2KbYb48fP8b58+fVtsXe3h5CCOW21KxZEzExMUhLS0OXLl1QpEgRlC1bNss5xhQ/v49/Lh/HlpiYiLS0NMyfP18tliZNmgD4337NbBxHR0eVdk0/UwVNx2aHDh2wYMEC9OzZE7t27cI///yDkydPonDhwirHkKOjI1q0aIHo6Gikp6cDeD//W5UqVVCmTJkMx8zM48eP8fz5c1haWqrtg/j4+Ey3XyGzfa34mcfGxqJGjRp4+PAh5s6di8OHD+PkyZPKY+rj35VP/R1W6N69O6ytrbF48WIA7+eYs7a21jh/ZEbH7tu3b/Hq1SutHS+6Pi6fPn0KMzMzjdvz4RiA5v3s4eGhdo7LjfXr16Nr165YtmwZgoOD4ejoiC5dumQ4n60iLn2cexXvf/yFVDHHaZEiRTKNEch438nlcvz333+Zjq8YWxvFHyLKGnNa5rQKzGkzH4c5reFy2uzkIP/99x+EEDk6h3y8PTKZTCVORf+PjylN++JT5fT8l1XsEokEe/fuRWhoKKZPn45KlSqhcOHCCA8Pz3Ie5+weq1n5+HcGACwtLdXaLS0tAUD5nISc/Cyzey7MzvGrkNW5PjfnlOwc6xkdbxm1ZYc+Plcy+u6Q0/NBZjI6ZrI6lj7E7xdkqrT751stKFWqFIKCgjLto+kKPCcnJ5w4cQJCCJX3nzx5grS0NDg7O6v011Q8UbQpTuROTk6Ii4tT66f4S9/H68zoysDscnJyQlpaGp4+faryBUMIgfj4eOVVIp/KyclJ4wNVPt4niu0bNWoUvvjiC43rCggIAADY2toiIiICERERePz4sfIvqM2bN8fVq1dzHWt4eDjatm2LM2fOYMGCBShRooTGh+Vl5+fp7OwMa2vrDB8i9eHPs2XLlmjZsiVSU1Nx/PhxTJ06FR06dICvry+Cg4M1Lq/4+SUmJqokAx/HVqhQIeVf8TO6GtfPz09j+4fjPHv2TOWDLLOC4MfH5osXL7Bt2zaMGzcOI0eOVLanpqbi2bNnast369YNGzduxJ49e+Dt7Y2TJ09i0aJFGY6XFcUDgDQ9hAaAypUHGclsXyvaYmJi8Pr1a2zZsgU+Pj7Kfhk9kOdTf4cVHBwclEXbYcOGYcWKFejQoYPaw1o+jPnjNktLS9jZ2cHCwkIrx4uuj8vChQsjPT0d8fHxGSauivHj4uLUvpg9evRI7ZyaG87OzoiMjERkZCRiY2Px+++/Y+TIkXjy5EmGx5u+zr2K7fv4d0wxZmYPPv1w333s0aNHkEqlKFSoUJYxPHv2TO1qRiLSDea0zGk/xJw243GY0xoup81ODlKoUCFIpdIcnUOyotiu+Ph4eHp6KtsV+0Kbcnr+yw4fHx/lA2SvX7+ODRs2YPz48Xj79q3ygpmP5fRY1YWc/Cyzey7MzvGbk/hyek7JzrH+4fH2sY/bFMXpjx+y/XGhXh+fKx9+d/jw+1VOzwe69t9//2nlexxRXpPnrjDPrXr16uHVq1eIiYlRaY+Ojla+/6G9e/cq/yoIAOnp6Vi/fj38/f2VhZx69eph3759ak/0jo6Oho2NDapWrZplXB//RTqrbQCA1atXq7Rv3rwZr1+/VtuG3KpTpw5evnypfBK8wq+//qryOiAgAMWLF8e///6LoKAgjf80JYGurq4ICwvD119/jWvXrmU6TUBW+6d169bw9vbG0KFD8ddff2U4ZcGlS5fw77//qm2Pvb09KlWqBABo1qwZbt26BScnJ43boqmIJJPJUKtWLUybNg3A+1ufMlKnTh0AwJo1a9Ti+JCNjQ3q1KmDs2fPoly5chpjySy5qFWrFoD3V9J+aN26dRku8zGJRAIhhHL/Kyxbtkx5xc2HGjZsCE9PT6xYsQIrVqyAlZVVprfLKmR0dVizZs2QmJiI9PR0jduvSC6yktG+rl27tnI7FXEoCCGwdOnSbK0/M1kdu+Hh4UhISECbNm3w/PlzjVeRAcCWLVtU/lL/8uVL/PHHH6hRowbMzMw++XjR13HZuHFjAMj0S6fi1uCPz3EnT57ElStXtHaOU/D29saAAQPQoEED5W3smujr3Ovj4wNra2vcunVLpb1atWpwcHDA4sWLIYTQuGxAQAA8PT3x66+/qvR5/fo1Nm/ejODgYNjY2GQ6flpaGu7fv4/SpUt/+sYQkc4wp80+5rTMaZnTflpOW6JECfj7++OXX35RKxAq2Nra4vPPP8eWLVtU9oFcLsfq1atRpEgRlChRIkfjKrbr4+3esGED0tLSslw+p+ejy5cvq+WC0dHRkEgkyuM9t0qUKIEffvgBgYGBmeabOTlWc7J9OZHbn2VW58Ksjt/s+tRzSkYCAgLg7u6OtWvXquTR9+7dw9GjR1X6Ks6f58+fV2n/+HNGH58rJUuWBAC17w45OR9k526tT/Ho0SOkpKTw+wWZpDx3hXludenSBT/99BO6du2Ku3fvIjAwEH///TemTJmCJk2aoH79+ir9nZ2dUbduXYwZMwa2trZYuHAhrl69qpKgjRs3Dtu2bUOdOnUwduxYODo6Ys2aNdi+fTumT58OBweHLOMqW7YsAGDJkiWwt7eHlZUV/Pz8NJ7oGzRogNDQUIwYMQJJSUkICQnB+fPnMW7cOFSsWBGdO3f+xL30XpcuXTBnzhx06dIFkydPRvHixbFjxw7s2rVLre/PP/+Mxo0bIzQ0FGFhYfD09MSzZ89w5coVnDlzRjkX4+eff45mzZqhXLlyKFSoEK5cuYJVq1ZlWcTJav+YmZmhf//+GDFiBGxtbdXmwlTw8PBAixYtMH78eLi7u2P16tXYs2cPpk2bphx/0KBB2Lx5M2rWrInBgwejXLlykMvliI2Nxe7duzF06FB8/vnnGDt2LB48eIB69eqhSJEieP78OebOnQsLCwtlYq9Jw4YNUbNmTXz33Xd4/fo1goKCcOTIEaxatUqt79y5c1G9enXUqFEDffv2ha+vL16+fImbN2/ijz/+UJtL70ONGjVCSEgIhg4diqSkJFSuXBnHjh1TfpH+cA6yjBQoUAA1a9bEjBkz4OzsDF9fXxw8eBDLly/XeBW0mZkZunTpgtmzZ6NAgQL44osvsnX8BwYGYsuWLVi0aBEqV64MqVSKoKAgfPXVV1izZg2aNGmCb7/9FlWqVIGFhQUePHiA/fv3o2XLlmjdunWm67a0tMSsWbPw6tUrfPbZZzh69CgmTZqExo0bo3r16gDe/05ZWlri66+/xnfffYeUlBQsWrQoW1NXZGfbAGDatGlo3LgxzMzMUK5cOeXtaiVKlECjRo3w559/onr16mrzkSqYmZmhQYMGGDJkCORyOaZNm4akpCREREQo+3zK8aKv47JGjRro3LkzJk2ahMePH6NZs2aQyWQ4e/YsbGxsMHDgQAQEBOCbb77B/PnzIZVK0bhxY9y9exdjxoyBl5cXBg8enK19n5EXL16gTp066NChA0qWLAl7e3ucPHkSO3fuzPDKD0B/515LS0sEBwerzb1oZ2eHWbNmoWfPnqhfvz569eoFV1dX3Lx5E//++y8WLFgAqVSK6dOno2PHjmjWrBl69+6N1NRUzJgxA8+fP8ePP/6Y5fjnz59HcnLyJ38xJCLdYk6bfcxpmdMyp/30nPann35C8+bNUbVqVQwePBje3t6IjY3Frl27lIXQqVOnokGDBqhTpw6GDRsGS0tLLFy4EBcvXsTatWtzfFdKqVKl0KlTJ0RGRsLCwgL169fHxYsXMXPmTLVpqjTJKg//0ODBgxEdHY2mTZtiwoQJ8PHxwfbt27Fw4UL07ds3x8X+8+fPY8CAAWjbti2KFy8OS0tL7Nu3D+fPn1e5cvxjOTlWc3K+zans/iyzey7MzvGbE59yTsmIVCrFxIkT0bNnT7Ru3Rq9evXC8+fPMX78eLUpWdzc3FC/fn1MnToVhQoVgo+PD/bu3YstW7aorVfXnyuff/45rK2tcfz4cZXnAuTkfJDRuUtbFN9r+P2CTJKeHzKaIcUTtT9+2vvHunbtKmxtbTW+l5iYKPr06SPc3d2Fubm58PHxEaNGjRIpKSkq/QCI/v37i4ULFwp/f39hYWEhSpYsKdasWaO2zgsXLojmzZsLBwcHYWlpKcqXL6/yZGQh/vck5Y0bN2qMKzIyUvj5+QkzMzOVJyt37dpV7YnFb968ESNGjBA+Pj7CwsJCuLu7i759+4r//vtPpZ+Pj49o2rSp2li1atUStWrV0hjHhx48eCC+/PJLYWdnJ+zt7cWXX34pjh49qvbkZyGE+Pfff0W7du2Ei4uLsLCwEG5ubqJu3bpi8eLFyj4jR44UQUFBolChQkImk4miRYuKwYMHi4SEhCxjyWj/KNy9e1cAEH369NG4vGJfbNq0SZQpU0ZYWloKX19fMXv2bLW+r169Ej/88IMICAgQlpaWwsHBQQQGBorBgweL+Ph4IYQQ27ZtE40bNxaenp7C0tJSuLi4iCZNmojDhw9nuS3Pnz8X3bt3FwULFhQ2NjaiQYMG4urVqwKAGDdunErfO3fuiO7duwtPT09hYWEhChcuLKpVqyYmTZqU5TjPnj0T3bp1Uxnn+PHjak8pHzdunAAgnj59qrYOxTFQqFAhYW9vLxo1aiQuXryo9mR5hevXrwsAAoDYs2eP2vuK3+E7d+6oxNmmTRtRsGBBIZFIVJ5m/+7dOzFz5kxRvnx5YWVlJezs7ETJkiVF7969xY0bNzLdfsV54Pz586J27drC2tpaODo6ir59+4pXr16p9P3jjz+UY3h6eorhw4eLP//8U+3p57Vq1RJlypTJdNwPpaamip49e4rChQsrt+3DbRdCiKioKAFArFu3Tm15xZPJp02bJiIiIkSRIkWEpaWlqFixoti1a5fG/rk9XvR1XKanp4s5c+aIsmXLKn+/goODxR9//KHSZ9q0aaJEiRLCwsJCODs7i06dOon79++rrEvT+fHjY/Pjp9WnpKSIPn36iHLlyokCBQoIa2trERAQIMaNGydev36d6br1de5dvny5MDMzE48ePVJ7b8eOHaJWrVrC1tZW2NjYiNKlS4tp06ap9ImJiRGff/65sLKyEra2tqJevXriyJEjKn00/S4KIcSYMWOEs7Oz2mciEWkXc9r3mNMyp2VOaxw5rRBCHDt2TDRu3Fg4ODgImUwm/P39xeDBg1X6HD58WNStW1fY2toKa2trUbVqVZUc78N99/H5T3Fu+TDO1NRUMXToUOHi4iKsrKxE1apVxbFjx9R+bhktm1Eerunnfu/ePdGhQwfh5OQkLCwsREBAgJgxY4ZIT09X9lHklTNmzFDbPx8e948fPxZhYWGiZMmSwtbWVtjZ2Yly5cqJOXPmiLS0tEz3c06O1YzOJxn9fDM6lyo+Jz6UnZ9lds6FOTl+NcWhiPvjbc/OOSWzzytNx4wQQixbtkwUL15cWFpaihIlSohffvlF4+dXXFycaNOmjXB0dBQODg6iU6dO4tSpUwb5XOncubMoXbq0Wnt2zwcZnbsyOt4z2q8Z/W537txZBAYGZrkdRMZIIkQG93+bMIlEgv79+2PBggWGDoWyYf78+QgPD8fFixc1PpDH19cXZcuWxbZt2wwQXd7x66+/omPHjjhy5Eiun/ZtLMLCwrBp0ya8evXK0KFk6ssvv8Tx48dx9+5dWFhYqLx39+5d+Pn5YcaMGRg2bJiBIiR9S0lJUd6SP2LECL2Nm56ejmLFiqFDhw6YPHmy3sYlIt1iTmtcmNNmD3NaIuNgCsdvWFgYDhw4gLt37xo6FI1OnTqFzz77DMePH8fnn39u6HBUJCUlwcPDA3PmzEGvXr0MHQ6R1pnMlCxkes6ePYs7d+5gwoQJaNmyZa6fXm+K1q5di4cPHyIwMBBSqRTHjx/HjBkzULNmTZP/YpHXpaam4syZM/jnn3+wdetWzJ49W61YTvmXlZUVIiIiMH78eAwYMAC2trZ6GXf16tV49eoVhg8frpfxiIjof5jTZow5LRFRxoKCgtCuXTtMnDgxz/0xdc6cOfD29ka3bt0MHQqRTrBgTnlW69atER8fjxo1amT4tPH8yt7eHuvWrcOkSZPw+vVruLu7IywsDJMmTTJ0aPleXFwcqlWrhgIFCqB3794YOHCgoUOiPOabb77B8+fPcfv2beUcnLoml8uxZs0ajfO5EhGRbjGnzRhzWiKizM2aNQvLly/Hy5cvNT5I1FAKFCiAqKgomJuzrEimKV9OyUJERERERERERERE9LGsHz1ORERERERERERERJQPsGBORERERERERERERAQWzImIiIiIiIiIiIiIAOTDh37K5XI8evQI9vb2kEgkhg6HiIgIQgi8fPkSHh4ekEr5t2wiyj+YmxMRUV7CvJyIgHxYMH/06BG8vLwMHQYREZGa+/fvo0iRIoYOg4hIb5ibExFRXsS8nCh/y3cFc3t7ewDvT34FChQwcDRERERAUlISvLy8lJ9RRET5BXNzIiLKS5iXExGQDwvmils9CxQowKSciIjyFE5HQET5DXNzIiLKi5iXE+VvnJCJiIiIiIiIiIiIiAgsmBMRERERERERERERAWDBnIiIiIiIiIiIiIgIgIHnMD906BBmzJiB06dPIy4uDlu3bkWrVq0yXebgwYMYMmQILl26BA8PD3z33Xfo06ePfgImIiIyIXK5HG/fvjV0GEQmy8LCAmZmZoYOI9uYmxMRERlOeno63r17Z+gwiExWTnJzgxbMX79+jfLly6Nbt2748ssvs+x/584dNGnSBL169cLq1atx5MgR9OvXD4ULF87W8kRERPTe27dvcefOHcjlckOHQmTSChYsCDc3N6N4eBhzcyIiIv0TQiA+Ph7Pnz83dChEJi+7ublBC+aNGzdG48aNs91/8eLF8Pb2RmRkJACgVKlSOHXqFGbOnMmknIiIKJuEEIiLi4OZmRm8vLwglXKGNiJtE0IgOTkZT548AQC4u7sbOKKsMTcnIiLSP0Wx3MXFBTY2NkbxR3YiY5PT3NygBfOcOnbsGBo2bKjSFhoaiuXLl+Pdu3ewsLAwUGRERETGIy0tDcnJyfDw8ICNjY2hwyEyWdbW1gCAJ0+ewMXFxaimZ8kO5uZERESfJj09XVksd3JyMnQ4RCYtJ7m5URXM4+Pj4erqqtLm6uqKtLQ0JCQkaPzrQGpqKlJTU5Wvk5KSPimG2NhYJCQkfNI6csvZ2Rne3t56H9dQ28zt1Q8e0/rD7dWP/La9uZGeng4AsLS0NHAkRKZP8Uepd+/emVzB3FC5uS7P87o+lxtr7Lr+bGXsmjH2jBlr7DzHZMyYY/8UijnLeRELkX5kNzc3qoI5ALVbU4QQGtsVpk6dioiICK2MHRsbi5KlSuFNcrJW1pdT1jY2uHrlil5P9IbcZm6v7vGY1i9ur+7FxsYioGRJpLx5o7cxFaysrXHt6tU8m4xrwts9iXTP1H/P9J2b6/pzTZefXcYauz5yCcaujrFnzlhj5zlGM2OOXVtMPV8gyiuy+7tmVAVzNzc3xMfHq7Q9efIE5ubmGd66MmrUKAwZMkT5OikpCV5eXrkaPyEhAW+Sk9Fr5nx4+BfP1Tpy69GtG1g6bCASEhL0epI31DYbenub9fsWzh5F9DfuowfYtnBuvtlewPDbnN+O6fyyvQ8fPsTbD65c1Ke3qal4+PBhnk7EiTR5/vw55s6di2+++cYo5tmmvMMQubkuP9d0/dllrLHrOpdg7Jox9owZa+w8x2TMmGMn0ibm5XmHURXMg4OD8ccff6i07d69G0FBQRnOkSiTySCTybQah4d/cfiUCdTqOvO6/LLNqampkEql2LZwrt7HlkqlKrco64MhtxcwzDYr5JdjWiG/bK9MJoNcLse4LgPg6+qpt3HvPn6IiOgFWv+8IcqpqKgoDBo0CM+fP8/2MmFhYShZsiSTcsoxQ+bmxvy5ZqyxG2vcAGM3FMZuGIydKG9gXm7cDFowf/XqFW7evKl8fefOHZw7dw6Ojo7w9vbGqFGj8PDhQ0RHRwMA+vTpgwULFmDIkCHo1asXjh07huXLl2Pt2rWG2gQyMfmt2Gao7QVYYCTdCg2qjorFSuttvLM3LyMieoHexqO8LT4+HlOnTsX27dvx4MEDODg4oHjx4ujUqRO6dOmi0zkq27dvjyZNmihfjx8/HjExMTh37pzG/rNmzYKdnR2mTp2qs5jIeDA3JyIiIlPCvJxyy6AF81OnTqFOnTrK14rbM7t27YqoqCjExcUhNjZW+b6fnx927NiBwYMH46effoKHhwfmzZuHL7/8Uu+xk2nLb8U2fW8vYPhtzm8e3bph0uMR5RW3b99GSEgIChYsiClTpiAwMBBpaWm4fv06fvnlF3h4eKBFixZqy7179y7DK3JzwtraWvn09+wYOnToJ49JpoO5ORFpk67yQeaZRJQdzMvpUxi0YF67dm3lg4E0iYqKUmurVasWzpw5o8OoiIhMh2LanaXDBup9bENOuUNkKP369YO5uTlOnToFW1tbZXtgYCC+/PJLlQciLlq0CH/++Sf++usvDBs2DGPHjsU333yDffv2IT4+Ht7e3ujXrx++/fZbAMCuXbvQsmVLxMfHo2DBgsp1h4eH499//8XBgwdVbv2MiopSPlxR8XCbFStWICwsDC9evMDw4cMRExODlJQUBAUFYc6cOShfvrye9hTlRczNKTPGXPxk7PpbL6Cf/JN5JhFlhXk5fQqjmsOciIhyJr9NM0RkSImJidi9ezemTJmikpR/6MOnso8bNw5Tp07FnDlzYGZmBrlcjiJFimDDhg1wdnbG0aNHlQ/8adeuHerXr4+CBQti8+bN6NGjBwAgPT0dGzZswIQJE9TGat++PS5evIidO3fir7/+AgA4ODhACIGmTZvC0dERO3bsgIODA37++WfUq1cP169fh6Ojow72DpF26aLYx6tWNTPm4idjz5yuYtd1/qmPPJPnGCLjxrycPhUL5kRE+UB+m2aIyBBu3rwJIQQCAgJU2p2dnZGSkgIA6N+/P6ZNmwYA6NChA7p3767SV3HlCfB+uoujR49iw4YNaNeuHczMzNC+fXv8+uuvysR87969+O+//9C2bVu1eKytrWFnZwdzc3O4ubkp2/ft24cLFy7gyZMnymLDzJkzERMTg02bNuGbb77Rwt4g0g1dFxF51ao6Yy5+MvaM6aPorKv8U5d5pimcY1jsJ2JeTp+OBfNcMMSHhaE/oDj/MRERUfZ8eLUKAPzzzz+Qy+Xo2LGjypfkoKAgtWUXL16MZcuW4d69e3jz5g3evn2LChUqKN/v2LEjgoOD8ejRI3h4eGDNmjVo0qQJChUqlO34Tp8+jVevXsHJyUml/c2bN7h161a210NkCLosIvLuqMwZY/FTgbGr48UNmhnzOYbFfv2tk4wH83LKLRbMc8CQcwEDhrnihfMfExERZU+xYsUgkUhw9epVlfaiRYsCgNpDfz6+PXTDhg0YPHgwZs2aheDgYNjb22PGjBk4ceKEsk+VKlXg7++PdevWoW/fvti6dStWrFiRozjlcjnc3d1x4MABtfc+nIORKC/TRRGRBUQiUjDGcwyL/RljbSH/YV5On4oF8xww1FzAgOGueOH8x0RERNnj5OSEBg0aYMGCBRg4cGCG8yVm5PDhw6hWrRr69eunbNN0ZUmHDh2wZs0aFClSBFKpFE2bNs1wnZaWlkhPT1dpq1SpEuLj42Fubg5fX98cxUhERER5G4v9qlhbyJ+Yl9OnYsE8F/Q9FzBg+CteOP8xERFR1hYuXIiQkBAEBQVh/PjxKFeuHKRSKU6ePImrV6+icuXKGS5brFgxREdHY9euXfDz88OqVatw8uRJ+Pn5qfTr2LEjIiIiMHnyZLRp0wZWVlYZrtPX1xd37tzBuXPnUKRIEdjb26N+/foIDg5Gq1atMG3aNAQEBODRo0fYsWMHWrVqpfGWVCIiIiJdM8ZiP+VdzMvpU0gNHQARERGRqfD398fZs2dRv359jBo1CuXLl0dQUBDmz5+PYcOGYeLEiRku26dPH3zxxRdo3749Pv/8cyQmJqpc1aJQvHhxfPbZZzh//jw6duyYaTxffvklGjVqhDp16qBw4cJYu3YtJBIJduzYgZo1a6J79+4oUaIEvvrqK9y9exeurq6fvA+IiIiIiAyNeTl9Cl5hTkT5Eh9kS0S64u7ujvnz52P+/PkZ9hFCqLXJZDKsWLFCbe7DqVOnqvX9559/NK43LCwMYWFhKuvctGmTWj97e3vMmzcP8+bNyzBGItINPtSOiIhIP5iXU26xYE5E+QofZEtERESGwIfaERERERkHFsyJKF/hg2yJiIjIEPhQOyIiIiLjwII5EeVLfJAtERERGQIfakdERESUt/Ghn0REREREREREREREYMGciIiIiIiIiIiIiAgAC+ZERERERERERERERABYMCciIiIiIiIiIiIiAsCCORERERERERERERERABbMiYiIiLQiJiYGa9euNXQYRon7joiIiIi0ifll7nHfsWBOREREJuTu3buQSCQ4d+6cXsc9ceIEwsPDERwcnGm/sLAwtGrVSj9BZSAqKgoFCxbU+nrGjx+PChUq5Hg92d13eYWvry8iIyMNHQYRERFRnsfcPGvMzT+NrnJzc62vkYiIiIxSbGwsEhIS9Daes7MzvL29s90/LCwMK1euVL52dHTEZ599hunTp6NcuXK6CDFbnj17hh49eiAmJga+vr4GiyO72rdvjyZNmihfjx8/HjExMZ/8RWbYsGEYOHBgjpbR575bunQpoqOjcfHiRQBA5cqVMWXKFFSpUkVj/6lTp+L777/Ht99+ywI5ERER6Z0+c/Oc5uUAc3NtYW6eN3NzFsyJiIgIsbGxCChZCilvkvU2ppW1Da5dvZKj5LxRo0ZYsWIFACA+Ph4//PADmjVrhtjYWF2FmSVHR0dlomcMrK2tYW1trfX12tnZwc7OLkfL5GTfPX36FPb29rCysspNeDhw4AC+/vprVKtWDVZWVpg+fToaNmyIS5cuwdPTU6XvyZMnsWTJEoN+2SMiIqL8S9+5eW7ycoC5uTYwN8+buTmnZCEiIiIkJCQg5U0ynJoNhVvXSJ3/c2o2FClvknN81YxMJoObmxvc3NxQoUIFjBgxAvfv38fTp08zXOby5cto0qQJ7Ozs4Orqis6dO6uMu2nTJgQGBsLa2hpOTk6oX78+Xr9+DeB9IlelShXY2tqiYMGCCAkJwb1795TL/vHHH6hcuTKsrKxQtGhRREREIC0tLcvtmDlzJtzd3eHk5IT+/fvj3bt3yvf+++8/dOnSBYUKFYKNjQ0aN26MGzduKN+/d+8emjdvjkKFCsHW1hZlypTBjh07lPFKJBJs374d5cuXh5WVFT7//HNcuHBBufyHt2tGRUUhIiIC//77LyQSCSQSCaKiogAAs2fPRmBgIGxtbeHl5YV+/frh1atXGW7Tx7d9anvf7dixA+7u7ujTpw+OHTuW5T7+2Jo1a9CvXz9UqFABJUuWxNKlSyGXy7F3716Vfq9evULHjh2xdOlSFCpUSOO6kpOT0b17d9jb28Pb2xtLlizJcTxEREREGdFnbp7bvBxgbg4wNzfV3JxXmBMREZGShZMXZG7FDB1Gtrx69Qpr1qxBsWLF4OTkpLFPXFwcatWqhV69emH27Nl48+YNRowYgXbt2mHfvn2Ii4vD119/jenTp6N169Z4+fIlDh8+DCEE0tLS0KpVK/Tq1Qtr167F27dv8c8//0AikQAAdu3ahU6dOmHevHmoUaMGbt26hW+++QYAMG7cuAzj3r9/P9zd3bF//37cvHkT7du3R4UKFdCrVy8A729vvXHjBn7//XcUKFAAI0aMQJMmTXD58mVYWFigf//+ePv2LQ4dOgRbW1tcvnxZ7eqR4cOHY+7cuXBzc8P333+PFi1a4Pr167CwsFDp1759e1y8eBE7d+7EX3/9BQBwcHAAAEilUsybNw++vr64c+cO+vXrh++++w4LFy7M8meji33XsWNHODs7Izo6GnXr1oW3tze6dOmCLl26wMvLK8uYPpacnIx3797B0dFRpb1///5o2rQp6tevj0mTJmlcdtasWZg4cSK+//57bNq0CX379kXNmjVRsmTJHMdBRERElBHm5szNmZsbJjdnwZyIiIiMxrZt25QJ6OvXr+Hu7o5t27ZBKtV809yiRYtQqVIlTJkyRdn2yy+/wMvLC9evX8erV6+QlpaGL774Aj4+PgCAwMBAAO/n8Hvx4gWaNWsGf39/AECpUqWU65k8eTJGjhyJrl27AgCKFi2KiRMn4rvvvss0KS9UqBAWLFgAMzMzlCxZEk2bNsXevXvRq1cvZTJ+5MgRVKtWDcD7qy+8vLwQExODtm3bIjY2Fl9++aUyzqJFi6qNMW7cODRo0AAAsHLlShQpUgRbt25Fu3btVPpZW1vDzs4O5ubmcHNzU3lv0KBByv/7+flh4sSJ6Nu3b7aS8qSkJK3vO3NzczRt2hRNmzbFixcvsHHjRkRHR2PcuHGoXbs2unbtijZt2mT7ltaRI0fC09MT9evXV7atW7cOZ86cwcmTJzNdtkmTJujXrx8AYMSIEZgzZw4OHDjAgjkRERHlK8zNmZubam7OKVmIiIjIaNSpUwfnzp3DuXPncOLECTRs2BCNGzdWuZ3wQ6dPn8b+/fuVc/jZ2dkpE6dbt26hfPnyqFevHgIDA9G2bVssXboU//33H4D3c/iFhYUhNDQUzZs3x9y5cxEXF6ey7gkTJqisu1evXoiLi0NycsbzTZYpUwZmZmbK1+7u7njy5AkA4MqVKzA3N8fnn3+ufN/JyQkBAQG4cuUKACA8PByTJk1CSEgIxo0bh/Pnz6uN8eFT7R0dHVWWz679+/ejQYMG8PT0hL29Pbp06YLExETlLbGZ0dW+U3BwcEDPnj1x6NAhHD16FHfu3EGXLl2wa9eubG3b9OnTsXbtWmzZskU57+L9+/fx7bffYvXq1VnOxfjh/IkSiQRubm7KnyERERFRfsHcnLk5YJq5OQvmREREZDRsbW1RrFgxFCtWDFWqVMHy5cvx+vVrLF26VGN/uVyO5s2bKxN5xb8bN26gZs2aMDMzw549e/Dnn3+idOnSmD9/PgICAnDnzh0AwIoVK3Ds2DFUq1YN69evR4kSJXD8+HHluiMiIlTWe+HCBdy4cSPTpO7jWy8lEgnkcjkAQAihcRkhhPKWyZ49e+L27dvo3LkzLly4gKCgIMyfPz/LfadYPjvu3buHJk2aoGzZsti8eTNOnz6Nn376CQBU5nTMjC72nUJKSgo2btyIFi1aoHr16nB2dsZPP/2EevXqZbnszJkzMWXKFOzevVsluT59+jSePHmCypUrw9zcHObm5jh48CDmzZsHc3NzpKenK/tm9jMkIiIiyi+YmzM3B0wzN+eULERERGS0JBIJpFIp3rx5o/H9SpUqYfPmzfD19YW5uea0RyKRICQkBCEhIRg7dix8fHywdetWDBkyBABQsWJFVKxYEaNGjUJwcDB+/fVXVK1aFZUqVcK1a9dQrJj25pUsXbo00tLScOLECeVtn4mJibh+/brKbZNeXl7o06cP+vTpg1GjRmHp0qUYOHCg8v3jx4/D29sbwPsHFV2/fj3DWxItLS1VEk4AOHXqFNLS0jBr1izlLbUbNmzI8fZoc98JIfD3339j1apV2LBhA+zs7NCpUydMnz4927dbzpgxA5MmTcKuXbsQFBSk8l69evVUHsAEAN26dUPJkiUxYsQIlSuPiIiIiEgdc3Pm5qaSm7NgTkREREYjNTUV8fHxAN4nmwsWLMCrV6/QvHlzjf379++PpUuX4uuvv8bw4cPh7OyMmzdvYt26dVi6dClOnTqFvXv3omHDhnBxccGJEyfw9OlTlCpVCnfu3MGSJUvQokULeHh44Nq1a7h+/Tq6dOkCABg7diyaNWsGLy8vtG3bFlKpFOfPn8eFCxcyfCBNVooXL46WLVuiV69e+Pnnn2Fvb6+cz69ly5YA3s9f2LhxY5QoUQL//fcf9u3bp5KwA8CECRPg5OQEV1dXjB49Gs7OzmjVqpXGMRUPDjp37hyKFCkCe3t7+Pv7Iy0tDfPnz0fz5s1x5MgRLF68ONvboYt9t3r1avTu3RutW7fGhg0bUL9+/Qznx9Rk+vTpGDNmDH799Vf4+voqjyPFbaf29vYoW7asyjK2trZwcnJSayciIiIi5uYAc3NTzc1ZMCciIiKld4n38/Q4O3fuhLu7OwDA3t4eJUuWxMaNG1G7dm2N/T08PHDkyBGMGDECoaGhSE1NhY+PDxo1agSpVIoCBQrg0KFDiIyMRFJSEnx8fDBr1iw0btwYjx8/xtWrV7Fy5UokJibC3d0dAwYMQO/evQEAoaGh2LZtGyZMmIDp06fDwsICJUuWRM+ePXO1bQorVqzAt99+i2bNmuHt27eoWbMmduzYobzVMD09Hf3798eDBw9QoEABNGrUCHPmzFFZx48//ohvv/0WN27cQPny5fH777/D0tJS43hffvkltmzZgjp16uD58+dYsWIFwsLCMHv2bEybNg2jRo1CzZo1MXXqVGVSnRUbGxut77t69eohPj4eBQoUyFYMH1u4cCHevn2LNm3aqLSPGzcO48ePz9U6iYiIiHRJH7n5p4zB3Jy5uanm5iyYExEREZydnWFlbYPEbbP0NqaVtQ2cnZ2z3T8qKgpRUVGZ9vH19VWba7B48eLYsmWLxv6lSpXCzp07Nb7n6uqKrVu3ZjpeaGgoQkNDM+3zIU3xR0ZGqrwuVKgQoqOjM1xHduZErF69Oi5evKjxvbCwMISFhSlfy2QybNq0Sa3f4MGDMXjwYJW2zp07Z7ie8ePHK5NbXew7Dw+PbPfV5O7duzle5sCBA9laz7lz53K8biIiIqKM6Ds3z2leDjA3V2Bunjt5PTdnwZyIiIjg7e2Na1evICEhQW9jOjs7K+fyIyIiIiKi9/SdmzMvJ1LFgjkREREBeJ+YM1EmIiIiIjI85uZEhsOCOREREZGJqF27ttptr0REREREpH/MzY1X9h9fqiMLFy6En58frKysULlyZRw+fDjT/mvWrEH58uVhY2MDd3d3dOvWDYmJiXqKloiIiIjIdDE3JyIiIqL8zqAF8/Xr12PQoEEYPXo0zp49ixo1aqBx48aIjY3V2P/vv/9Gly5d0KNHD1y6dAkbN27EyZMnP/mJt0RERERE+R1zcyIiIiIiAxfMZ8+ejR49eqBnz54oVaoUIiMj4eXlhUWLFmnsf/z4cfj6+iI8PBx+fn6oXr06evfujVOnTuk5ciIiIiIi08LcnIiIiIjIgAXzt2/f4vTp02jYsKFKe8OGDXH06FGNy1SrVg0PHjzAjh07IITA48ePsWnTJjRt2jTDcVJTU5GUlKTyj4iIiIiI/oe5ORERERHRewYrmCckJCA9PR2urq4q7a6uroiPj9e4TLVq1bBmzRq0b98elpaWcHNzQ8GCBTF//vwMx5k6dSocHByU/7y8vLS6HURERERExo65ORERERHRewZ/6KdEIlF5LYRQa1O4fPkywsPDMXbsWJw+fRo7d+7EnTt30KdPnwzXP2rUKLx48UL57/79+1qNn4iIiIjIVDA3JyIiIqL8ztxQAzs7O8PMzEztipUnT56oXdmiMHXqVISEhGD48OEAgHLlysHW1hY1atTApEmT4O7urraMTCaDTCbT/gYQkVG7ev+OSY9HRPoXExODN2/e4Ouvv871OubOnYsqVaogODhYi5ERZY25OREREZkS5ub0KQxWMLe0tETlypWxZ88etG7dWtm+Z88etGzZUuMyycnJMDdXDdnMzAzA+6tfiIiykpqaCqlUiu4zRul9bKlUitTUVL2PS5RdsbGxSEhI0Nt4zs7O8Pb21uo67969Cz8/P5w9exYVKlTQ6rozc+LECYSHh+PQoUOZ9gsLC8Pz588RExOj9t7s2bPx22+/ZXp1LpGuMDcnIiLKW/SZm+siLweYm5PxMljBHACGDBmCzp07IygoCMHBwViyZAliY2OVB+OoUaPw8OFDREdHAwCaN2+OXr16YdGiRQgNDUVcXBwGDRqEKlWqwMPDw5CbQkRGQiaTQS6XI9zZGUXMLfQ27oO0d5iXkMCr6ijPio2NRamAACSnpOhtTBsrK1y5di3byXlYWBhWrlypfO3o6IjPPvsM06dPR7ly5XQVZpaePXuGHj16ICYmBr6+vrlax/Hjx7Fq1Srs37+f5wkyGObmREREeYO+c/Oc5uUAc3MybQYtmLdv3x6JiYmYMGEC4uLiULZsWezYsQM+Pj4AgLi4OMTGxir7h4WF4eXLl1iwYAGGDh2KggULom7dupg2bZqhNoGIjFRNWzuUtrLS23iXU1IwT49X7hLlVEJCApJTUjDN3R3+lrpPCm+9TcWIuDgkJCTkKDFv1KgRVqxYAQCIj4/HDz/8gGbNmqnkC/rm6OiIixcvftI6qlatirNnz2opoqy9ffsWlpaWehuPjANzcyIiorxBn7l5bvNygLm5tjA3z3sM/tDPfv364e7du0hNTcXp06dRs2ZN5XtRUVE4cOCASv+BAwfi0qVLSE5OxqNHj7B69Wp4enrqOWoiIiLT5G8pQ2krK53/y23iL5PJ4ObmBjc3N1SoUAEjRozA/fv38fTp0wyXuXz5Mpo0aQI7Ozu4urqic+fOKre3btq0CYGBgbC2toaTkxPq16+P169fAwAOHDiAKlWqwNbWFgULFkRISAju3bunXPaPP/5A5cqVYWVlhaJFiyIiIgJpaWnZ3h4hBKZPn46iRYvC2toa5cuXx6ZNm1T6/P777yhevDisra1Rp04drFy5EhKJBM+fP1f2OXr0KGrWrAlra2t4eXkhPDxcuQ0A4Ovri0mTJiEsLAwODg7o1atXtmOk/IW5ORERUd6hj9z8UwryzM2Zm5sqgxfMiYiIiHLj1atXWLNmDYoVKwYnJyeNfeLi4lCrVi1UqFABp06dws6dO/H48WO0a9dO+f7XX3+N7t2748qVKzhw4AC++OILCCGQlpaGVq1aoVatWjh//jyOHTuGb775BhKJBACwa9cudOrUCeHh4bh8+TJ+/vlnREVFYfLkydnehh9++AErVqzAokWLcOnSJQwePBidOnXCwYMHAbyf97FNmzZo1aoVzp07h969e2P06NEq67hw4QJCQ0PxxRdf4Pz581i/fj3+/vtvDBgwQKXfjBkzULZsWZw+fRpjxozJdoxERERERFlhbv4ec3PTYNApWYiIiIhyYtu2bbCzswMAvH79Gu7u7ti2bRukUs3XACxatAiVKlXClClTlG2//PILvLy8cP36dbx69QppaWn44osvlNNOBAYGAng//+GLFy/QrFkz+Pv7AwBKlSqlXM/kyZMxcuRIdO3aFQBQtGhRTJw4Ed999x3GjRuX5ba8fv0as2fPxr59+xAcHKxcx99//42ff/4ZtWrVwuLFixEQEIAZM2YAAAICAnDx4kWVxH/GjBno0KEDBg0aBAAoXrw45s2bh1q1amHRokWw+v/pp+rWrYthw4ZlGRcRERERUXYwN2dubqpYMCciIiKjUadOHSxatAjA+6R54cKFaNy4Mf755x9lUv2h06dPY//+/cpE/kO3bt1Cw4YNUa9ePQQGBiI0NBQNGzZEmzZtUKhQITg6OiIsLAyhoaFo0KAB6tevj3bt2sHd3V257pMnT6okyOnp6UhJSUFycjJsbGwy3ZbLly8jJSUFDRo0UGl/+/YtKlasCAC4du0aPvvsM5X3q1SporaNN2/exJo1a5RtQgjI5XLcuXNH+UUiKCgo03iIiIiIiHKCuTlzc1PFgjkREREZDVtbWxQrVkz5unLlynBwcMDSpUsxadIktf5yuRzNmzfX+BBCd3d3mJmZYc+ePTh69Ch2796N+fPnY/To0Thx4gT8/PywYsUKhIeHY+fOnVi/fj1++OEH7NmzB1WrVoVcLkdERAS++OILtXUrrhzJjFwuBwBs375dbc5nmez9XJJCCOVtpgpCCLX19O7dG+Hh4WpjfPjgJltb2yxjIiIiIiLKLubmzM1NFQvmREREZLQkEgmkUinevHmj8f1KlSph8+bN8PX1hbm55rRHIpEgJCQEISEhGDt2LHx8fLB161YMGTIEAFCxYkVUrFgRo0aNQnBwMH799VdUrVoVlSpVwrVr11S+JORE6dKlIZPJEBsbi1q1amnsU7JkSezYsUOl7dSpU2rbeOnSpVzHQURERESkDczNmZubChbMiYiIyGikpqYiPj4eAPDff/9hwYIFePXqFZo3b66xf//+/bF06VJ8/fXXGD58OJydnXHz5k2sW7cOS5cuxalTp7B37140bNgQLi4uOHHiBJ4+fYpSpUrhzp07WLJkCVq0aAEPDw9cu3YN169fR5cuXQAAY8eORbNmzeDl5YW2bdtCKpXi/PnzuHDhgsYraj5mb2+PYcOGYfDgwZDL5ahevTqSkpJw9OhR2NnZoWvXrujduzdmz56NESNGoEePHjh37hyioqIAQHl1y4gRI1C1alX0798fvXr1gq2tLa5cuYI9e/Zg/vz5WtjrRERERETqmJszNzdVLJgTERGR0q23qXl6nJ07dyrnKbS3t0fJkiWxceNG1K5dW2N/Dw8PHDlyBCNGjEBoaChSU1Ph4+ODRo0aQSqVokCBAjh06BAiIyORlJQEHx8fzJo1C40bN8bjx49x9epVrFy5EomJiXB3d8eAAQPQu3dvAEBoaCi2bduGCRMmYPr06bCwsEDJkiXRs2fPbG/PxIkT4eLigqlTp+L27dsoWLAgKlWqhO+//x4A4Ofnh02bNmHo0KGYO3cugoODMXr0aPTt21d5a2i5cuVw8OBBjB49GjVq1IAQAv7+/mjfvn2u9jERERER5Q36yM0/ZQzm5szNTRUL5kRERARnZ2fYWFlhRFyc3sa0sbKCs7NztvtHRUUpr+DIiK+vr9o8gsWLF8eWLVs09i9VqhR27typ8T1XV1ds3bo10/FCQ0MRGhqaaZ8PfRy/RCJBeHi4xjkOFVq0aIEWLVooX0+ePBlFihRRmYvxs88+w+7duzNcx927d7MdIxEREREZlr5z85zm5QBzcwXm5qaJBXMiIiKCt7c3rly7hoSEBL2N6ezsrPLgG9Js4cKF+Oyzz+Dk5IQjR45gxowZGDBggKHDIiIiIiId0Xduzrw8+5ib5w8smBMRERGA94k5E+W858aNG5g0aRKePXsGb29vDB06FKNGjTJ0WERERESkQ8zN8ybm5vkDC+ZEREREedicOXMwZ84cQ4dBRERERJTvMTfPH6SGDoCIiIiIiIiIiIiIKC9gwZyIiIiIiIiIiIiICCyYExEREREREREREREBYMGciIiIiIiIiIiIiAgAC+ZERERERERERERERABYMCciIiIiIiIiIiIiAgCYGzoAIiIiyhtiY2ORkJCgt/GcnZ3h7e2tt/EAQCKRYOvWrWjVqpVexyUiIiIiygl95uaGyMsB5uaUd7FgTkRERIiNjUWpUqWQnJystzFtbGxw5cqVbCfnYWFheP78OWJiYnQbGBERERGRAek7N89pXg4wNyfTlquC+evXr/Hjjz9i7969ePLkCeRyucr7t2/f1kpwREREpB8JCQlITk7GL8OnoqSXn87Hu3r/DrrPGIWEhASDXM1CZEqYmxMREZkWfebmzMuJ1OWqYN6zZ08cPHgQnTt3hru7OyQSibbjIiIiIgMo6eWHisVKGzqMLNWuXRvlypWDlZUVli1bBktLS/Tp0wfjx49X9rlx4wZ69OiBf/75B0WLFsXcuXPV1vPw4UMMGTIEu3fvhlQqRfXq1TF37lz4+voC+N+VM1WqVMHcuXORmpqKwYMHY/To0Rg1ahSWL18OGxsbTJgwAd27dwcA3L17F35+fti8eTPmz5+PEydOoHjx4li8eDGCg4OVYx89ehQjR47EyZMn4ezsjNatW2Pq1KmwtbXV6b4j08PcnIiIyDQxN2duToaRq4L5n3/+ie3btyMkJETb8RARERFly8qVKzFkyBCcOHECx44dQ1hYGEJCQtCgQQPI5XJ88cUXcHZ2xvHjx5GUlIRBgwapLJ+cnIw6deqgRo0aOHToEMzNzTFp0iQ0atQI58+fh6WlJQBg3759KFKkCA4dOoQjR46gR48eOHbsGGrWrIkTJ05g/fr16NOnDxo0aAAvLy/l+kePHo2ZM2eiePHiGD16NL7++mvcvHkT5ubmuHDhAkJDQzFx4kQsX74cT58+xYABAzBgwACsWLFCn7uRTABzcyIiIjI05uZkSqS5WahQoUJwdHTUdixERERE2VauXDmMGzcOxYsXR5cuXRAUFIS9e/cCAP766y9cuXIFq1atQoUKFVCzZk1MmTJFZfl169ZBKpVi2bJlCAwMRKlSpbBixQrExsbiwIEDyn6Ojo6YN28eAgIC0L17dwQEBCA5ORnff/89ihcvjlGjRsHS0hJHjhxRWf+wYcPQtGlTlChRAhEREbh37x5u3rwJAJgxYwY6dOiAQYMGoXjx4qhWrRrmzZuH6OhopKSk6HbHkclhbk5ERESGxtycTEmuCuYTJ07E2LFj9fpgMCIiIqIPlStXTuW1u7s7njx5AgDKhxYVKVJE+f6Ht1wCwOnTp3Hz5k3Y29vDzs4OdnZ2cHR0REpKCm7duqXsV6ZMGUil/0uZXF1dERgYqHxtZmYGJycn5dia4nN3dwcAZZ/Tp08jKipKOa6dnR1CQ0Mhl8tx586dXO0Pyr+YmxMREZGhMTcnU5KrKVlmzZqFW7duwdXVFb6+vrCwsFB5/8yZM1oJjoiIiCgjH+cfEolE+bBDIYRa/4/ndZbL5ahcuTLWrFmj1rdw4cKZjpPZ2JqWU4yt6COXy9G7d2+Eh4erjc2HLVFOMTcnIiIiQ2NuTqYkVwXzVq1aaTkMIiIiIu0pXbo0YmNj8ejRI3h4eAAAjh07ptKnUqVKWL9+PVxcXFCgQAG9xlepUiVcunQJxYoV0+u4ZJqYmxMREVFextycjE2uCubjxo3TdhxEREREWlO/fn0EBASgS5cumDVrFpKSkjB69GiVPh07dsSMGTPQsmVLTJgwAUWKFEFsbCy2bNmC4cOHq9wyqm0jRoxA1apV0b9/f/Tq1Qu2tra4cuUK9uzZg/nz5+tsXDJN+TE3v3pf+7dH62KdRERExNycjE+uCuYKp0+fxpUrVyCRSFC6dGlUrFhRW3ERERGRAeirYKTrcaRSKbZu3YoePXqgSpUq8PX1xbx589CoUSNlHxsbGxw6dAgjRozAF198gZcvX8LT0xP16tXT+VUt5cqVw8GDBzF69GjUqFEDQgj4+/ujffv2Oh2XTFt+yM1TU1MhlUrRfcYonaxfKpUiNTVVJ+smIiLKKX3k5voYg7k5GZtcFcyfPHmCr776CgcOHEDBggUhhMCLFy9Qp04drFu3TmVuISIiIsr7nJ2dYWNjo7MilCY2NjZwdnbOdv+oqCjl/w8cOKD2fkxMjMrrEiVK4PDhwyptH8+f6ObmhpUrV2ZrzMzGvnv3rvL/vr6+auMo8qUPffbZZ9i9e3eGYxNlV37KzWUyGeRyOcKdnVHE3CLrBXLgQdo7zEtIgEwm0+p6iYiIckrfuXlO83KAuTmZtlwVzAcOHIikpCRcunQJpUqVAgBcvnwZXbt2RXh4ONauXavVIImIiEi3vL29ceXKFSQkJOhtTGdnZz5Eh0gL8mNuXtPWDqWtrLS6zsspKZinx3MgERFRRvSdmzMvJ1KVq4L5zp078ddffykTcuD9BP4//fQTGjZsqLXgiIiISH+8vb2ZKBMZIebmREREpoe5OZHhSHOzkFwuh4WF+i2QFhYWkMvlOVrXwoUL4efnBysrK1SuXFnt9oyPpaamYvTo0fDx8YFMJoO/vz9++eWXHI1JRERERGQqmJsTEREREWlPrgrmdevWxbfffotHjx4p2x4+fIjBgwejXr162V7P+vXrMWjQIIwePRpnz55FjRo10LhxY8TGxma4TLt27bB3714sX74c165dw9q1a1GyZMncbAYRERERkdFjbk5EREREpD25mpJlwYIFaNmyJXx9feHl5QWJRILY2FgEBgZi9erV2V7P7Nmz0aNHD/Ts2RMAEBkZiV27dmHRokWYOnWqWv+dO3fi4MGDuH37NhwdHQG8n7yfiIiIiCi/Ym5ORERERKQ9uSqYe3l54cyZM9izZw+uXr0KIQRKly6N+vXrZ3sdb9++xenTpzFy5EiV9oYNG+Lo0aMal/n9998RFBSE6dOnY9WqVbC1tUWLFi0wceJEWFtba1wmNTUVqampytdJSUnZjpGIiIiIKK9jbk5EREREpD25KpgrNGjQAA0aNMjVsgkJCUhPT4erq6tKu6urK+Lj4zUuc/v2bfz999+wsrLC1q1bkZCQgH79+uHZs2cZzpU4depURERE5CpG+p+r9++Y9HhERERExo65ORERERHRp8t2wXzevHn45ptvYGVlhXnz5mXaNzw8PNsBSCQSlddCCLU2BblcDolEgjVr1sDBwQHA+1tH27Rpg59++knjlSyjRo3CkCFDlK+TkpLg5eWV7fjyu9TUVEilUnSfMUrvY0ulUpUrkIiIiIjoPebmxksXF4bwYhMiIiIi7cl2wXzOnDno2LEjrKysMGfOnAz7SSSSbCXlzs7OMDMzU7ti5cmTJ2pXtii4u7vD09NTmZADQKlSpSCEwIMHD1C8eHG1ZWQyGWQyWZbx5IQhElJDJcEymQxyuRzhzs4oYm6ht3EfpL3DvIQErf/siIiIACAmJgZv3rzB119/behQiHKFubnx0fWFKLzYhIiIjBVzc8prsl0wv3Pnjsb/55alpSUqV66MPXv2oHXr1sr2PXv2oGXLlhqXCQkJwcaNG/Hq1SvY2dkBAK5fvw6pVIoiRYp8ckxZMeTV1oBhk+CatnYobWWlt/Eup6RgXkKC3sYjIiIgNjYWCXo89zo7O8Pb21tv4ymcOHEC4eHhOHTokN7HJtIW5ubGR5cXovBiEyIi06PP3NxQeTnA3JzyplzNYT5hwgQMGzYMNjY2Ku1v3rzBjBkzMHbs2GytZ8iQIejcuTOCgoIQHByMJUuWIDY2Fn369AHw/pbNhw8fIjo6GgDQoUMHTJw4Ed26dUNERAQSEhIwfPhwdO/ePcMHC2mToa62BpgEExGRbsXGxqJkqVJ4k5ystzGtbWxw9cqVbCXnGU0JodC1a1dERUVluZ5nz56hR48eiImJga+vbzYjJcrb8mtubqx0cSEKLzYhIjIt+s7Nc5KXA8zNyfTlqmAeERGBPn36qCXlycnJiIiIyHZS3r59eyQmJmLChAmIi4tD2bJlsWPHDvj4+AAA4uLiEBsbq+xvZ2eHPXv2YODAgQgKCoKTkxPatWuHSZMm5WYzck3fV1sDTIKJiEi3EhIS8CY5Gb1mzoeHv/o0Ctr26NYNLB02EAkJCdlKzOPi4pT/X79+PcaOHYtr164p27JbnHN0dMTFixdzHjBRHpbfc3MiIiJTo8/cPKd5OcDcnExfrgrmGT38599//4Wjo2OO1tWvXz/069dP43ua/hpVsmRJ7NmzJ0djEBERUfZ4+BeHT5lAQ4ehxs3NTfl/BwcHSCQSZVtUVBQGDRqE58+fK/vExMSgdevWEEIo2/744w+MHz8ely5dgoeHB7p27YrRo0fD3DxX6RBRnsHcnIiIyDQxNycyjBwdhYUKFYJEIoFEIkGJEiVUEvP09HS8evVKecsmERERUV6xa9cudOrUCfPmzUONGjVw69YtfPPNNwCAcePGGTg6otxhbk5ERETGiLk55XU5KphHRkZCCIHu3bsjIiICDg4OyvcsLS3h6+uL4OBgrQdJRERE9CkmT56MkSNHomvXrgCAokWLYuLEifjuu++YlJPRYm5ORERExoi5OeV1OSqYd+3aFWlpaQCA+vXro0iRIjoJioiIiEibTp8+jZMnT2Ly5MnKtvT0dKSkpCA5OVlt7mciY8DcnIjysqv37xjVesnwdPGz5fGSNzE3p7wuxxMDmZubo1+/frhy5You4iEiIiLKEalUqjIfIgC8e/dO5bVcLkdERAS++OILteWt9PwgbyJtYm5OZNqMseicmpoKqVSK7jNG6WwMqVSK1NRUna2f9EvXxwyPF/1ibk6mIFcz6X/++ec4e/YsfHx8tB0PERERUY4ULlwYL1++xOvXr2FrawsAOHfunEqfSpUq4dq1ayhWrJgBIiTSLebmRJlj0VkzXRURZTIZ5HI5wp2dUcTcQuvrf5D2DvMSEiCTybS+bjIMXR4zPF70j7k5mYJcFcz79euHoUOH4sGDB6hcubLyF0ChXLlyWgmOiIiIKCuff/45bGxs8P3332PgwIH4559/EBUVpdJn7NixaNasGby8vNC2bVtIpVKcP38eFy5cwKRJkwwTOJGWMDcn0oxF54zpo4hY09YOpXVwpejllBTMS0jQ+no/xKlBDEMXx4w+jhdSxdycTEGuCubt27cHAISHhyvbJBIJhBCQSCRIT0/XTnRERESkV49u3TC6cRwdHbF69WoMHz4cS5YsQf369TF+/Hh88803yj6hoaHYtm0bJkyYgOnTp8PCwgIlS5ZEz549tRYHkaEwNyfSjEXnjLGIqBmnBqG8Rh+5ubbHYG5OpiBXBfM7d/iXUSIiIlPi7OwMaxsbLB02UG9jWtvYwNnZOcfLhYWFISwsTKWtVatWaNWqlUpbr169VF6HhoYiNDQ0x+MR5XXMzUkfjHFaEwUWnSm7ODUI5RX6zs1zm5cDzM3JNOWqYM75EYmIiEyLt7c3rl65ggQ9fvF3dnaGt7e33sYjMlXMzUmXjHlaE6LcMuapQTidjGnQd27OvJxIVa4K5gBw69YtREZG4sqVK5BIJChVqhS+/fZb+Pv7azM+IiIi0hNvb28mykRGirk56YopTGtClB9wOhnTw9ycyHByVTDftWsXWrRogQoVKiAkJARCCBw9ehRlypTBH3/8gQYNGmg7TiIiIiIi0oC5OekDpzUhyts4nQwRkfbkqmA+cuRIDB48GD/++KNa+4gRI5iUk9HT9y1nhr7FzRDjG3qbiYiITAVzcyIiUjDm6WSIiPKKXBXMr1y5gg0bNqi1d+/eHZGRkZ8aE5HB6GOOxowY4hY3Q24vwNv6iAxNCGHoEIhMnj5+z5ibExERGTfm5UT6kd3ftVwVzAsXLoxz586hePHiKu3nzp2Di4tLblZJlCfoeo7GjBjqFjdDbS/A2/qIDMnMzAwA8PbtW1hbWxs4GiLTlpycDACwsNDd5yxzcyIiIuOkyA+Sk5OZlxPpQXZz81wVzHv16oVvvvkGt2/fRrVq1SCRSPD3339j2rRpGDp0aG5WSZSn6GqOxowY+hY3fW8vYPhtJsrPzM3NYWNjg6dPn8LCwgJSqdTQIRGZHCEEkpOT8eTJExQsWFD5hypdYG5ORERknMzMzFCwYEE8efIEAGBjYwOJRGLgqIhMT05z81wVzMeMGQN7e3vMmjULo0a9n8rBw8MD48ePR3h4eG5WSURERHoikUjg7u6OO3fu4N69e4YOh8ikFSxYEG5ubjodg7k5ERGR8VLkCYqiORHpTnZz81wVzCUSCQYPHozBgwfj5cuXAAB7e/vcrIqIiIgMwNLSEsWLF8fbt28NHQqRybKwsNDpleUKzM2JiIiMl+JiFhcXF7x7987Q4RCZrJzk5rkqmCs8efIE165dg0QiQUBAAAoXLvwpqyMiIiI9kkqlsNLzdExEpDvMzYmIiIyXmZmZXv7QTkRZy9WkpUlJSejcuTM8PDxQq1Yt1KxZEx4eHujUqRNevHih7RiJiIiIiCgDzM2JiIiIiLQnVwXznj174sSJE9i+fTueP3+OFy9eYNu2bTh16hR69eql7RiJiIiIiCgDzM2JiIiIiLQnV1OybN++Hbt27UL16tWVbaGhoVi6dCkaNWqkteCIiIiIiChzzM2JiIiIiLQnV1eYOzk5wcHBQa3dwcEBhQoV+uSgiIiIiIgoe5ibExERERFpT64K5j/88AOGDBmCuLg4ZVt8fDyGDx+OMWPGaC04IiIiIiLKHHNzIiIiIiLtydWULIsWLcLNmzfh4+MDb29vAEBsbCxkMhmePn2Kn3/+Wdn3zJkz2omUiIhy7er9OyY9HhFRfsbcnIiIiIhIe3JVMG/VqpWWwyAiIl1ITU2FVCpF9xmj9D62VCpFamqq3sclIspvmJsTEREREWlPrgrm48aN03YcRESkAzKZDHK5HOHOzihibqG3cR+kvcO8hATIZDK9jUlElF8xNyciIiIi0p5cFcwVTp8+jStXrkAikaB06dKoWLGituIiIiItqmlrh9JWVnob73JKCuYlJOhtPCIiYm5ORERERKQNuSqYP3nyBF999RUOHDiAggULQgiBFy9eoE6dOli3bh0KFy6s7TiJiIiIiEgD5uZERERERNojzc1CAwcORFJSEi5duoRnz57hv//+w8WLF5GUlITw8HBtx0hERERERBlgbk5EREREpD25usJ8586d+Ouvv1CqVCllW+nSpfHTTz+hYcOGWguOiIiIiIgyx9yciIiIiEh7cnWFuVwuh4WF+sPjLCwsIJfLPzkoIiIiIiLKHubmRERERETak6uCed26dfHtt9/i0aNHyraHDx9i8ODBqFevXo7WtXDhQvj5+cHKygqVK1fG4cOHs7XckSNHYG5ujgoVKuRoPCIiIiIiU8LcnIiIiIhIe3JVMF+wYAFevnwJX19f+Pv7o1ixYvDz88PLly8xf/78bK9n/fr1GDRoEEaPHo2zZ8+iRo0aaNy4MWJjYzNd7sWLF+jSpUuOvwAQEREREZka5uZERERERNqTqznMvby8cObMGezZswdXr16FEAKlS5dG/fr1c7Se2bNno0ePHujZsycAIDIyErt27cKiRYswderUDJfr3bs3OnToADMzM8TExORmE4iIyIRdvX/HpMcjIvoQc3MiIiIiIu3JccE8LS0NVlZWOHfuHBo0aIAGDRrkauC3b9/i9OnTGDlypEp7w4YNcfTo0QyXW7FiBW7duoXVq1dj0qRJuRqbiIhMU2pqKqRSKbrPGKX3saVSKVJTU/U+LhHlb8zNiYiIiIi0K8cFc3Nzc/j4+CA9Pf2TBk5ISEB6ejpcXV1V2l1dXREfH69xmRs3bmDkyJE4fPgwzM2zF3pqaqpKASMpKSn3QRMRUZ4mk8kgl8sR7uyMIubqD8DTlQdp7zAvIQEymUxvYxIRAczNiYiIiIi0LVdTsvzwww8YNWoUVq9eDUdHx08KQCKRqLwWQqi1AUB6ejo6dOiAiIgIlChRItvrnzp1KiIiIj4pRiIiMi41be1Q2spKb+NdTknBvIQEvY1HRPQh5uZERERERNqTq4L5vHnzcPPmTXh4eMDHxwe2trYq7585cybLdTg7O8PMzEztipUnT56oXdkCAC9fvsSpU6dw9uxZDBgwAAAgl8shhIC5uTl2796NunXrqi03atQoDBkyRPk6KSkJXl5e2dpOIiIiIqK8jrk5EREREZH25Kpg3qpVK0gkEgghcj2wpaUlKleujD179qB169bK9j179qBly5Zq/QsUKIALFy6otC1cuBD79u3Dpk2b4Ofnp3EcmUzGW+SJiIiIyGQxNyciIiIi0p4cFcyTk5MxfPhwxMTE4N27d6hXrx7mz58PZ2fnXA0+ZMgQdO7cGUFBQQgODsaSJUsQGxuLPn36AHh/BcrDhw8RHR0NqVSKsmXLqizv4uICKysrtXYiIiIiIlPH3JyIiIiISPtyVDAfN24coqKi0LFjR1hbW+PXX39F3759sXHjxlwN3r59eyQmJmLChAmIi4tD2bJlsWPHDvj4+AAA4uLiEBsbm6t1ExERERGZMubmRERERETal6OC+ZYtW7B8+XJ89dVXAICOHTsiJCQE6enpMDMzy1UA/fr1Q79+/TS+FxUVlemy48ePx/jx43M1LhERERGRMWNuTkRERESkfdKcdL5//z5q1KihfF2lShWYm5vj0aNHWg+MiIiIiIgyxtyciIiIiEj7clQwT09Ph6WlpUqbubk50tLStBoUERERERFljrk5EREREZH25WhKFiEEwsLCVJ5sn5KSgj59+sDW1lbZtmXLFu1FSEREREREapibExERERFpX44K5l27dlVr69Spk9aCISIiIiKi7GFuTkRERESkfTkqmK9YsUJXcRARERERUQ4wNyciIiIi0r4czWFORERERERERERERGSqWDAnIiIiIiIiIiIiIgIL5kREREREREREREREAFgwJyIiIiIiIiIiIiICwII5EREREREREREREREAwNzQARARGcKtt6kmPR4REREREREREeUcC+ZElK+kpqZCCmBEXJzex5b+//hERERERERERJQ3sWBORPmKTCaDHIBDjU4wd3DV27hpLx7jxeHVkMlkehuTiIiIiIiIiIhyhgVzIsqXrIsGQeZWTG/jpcbfxIvDq/U2HhERERERERER5Rwf+klEREREREREREREBBbMiYiIiIiIiIiIiIgAsGBORERERERERERERASABXMiIiIiIiIiIiIiIgAsmBMRERERERERERERAWDBnIiIiIiIiIiIiIgIAAvmREREREREREREREQAWDAnIiIiIiIiIiIiIgLAgjkREREREREREREREQDA3NABEBERERER5Re33qYaxTqJiIiI8isWzImIiIiIiHQsNTUVUgAj4uJ0sn7p/49BRERERJ+GBXMiIiIiIiIdk8lkkANwqNEJ5g6uWl132ovHeHF4NWQymVbXS0RERJQfsWBORERERESkJ9ZFgyBzK6bVdabG38SLw6u1uk4iIiKi/IoP/SQiIiIiIiIiIiIiAq8wJyIiIiIiI8MHZxIRERGRrrBgTkRERERERoEPziQiIiIiXWPBnLJF31fc8AofIiIiIvoYH5xJRJQ53oFDRPTpDF4wX7hwIWbMmIG4uDiUKVMGkZGRqFGjhsa+W7ZswaJFi3Du3DmkpqaiTJkyGD9+PEJDQ/Ucdf6h66t4MsMrfIiIiIj0y1hycz44k4hIFe/AISLSHoMWzNevX49BgwZh4cKFCAkJwc8//4zGjRvj8uXL8Pb2Vut/6NAhNGjQAFOmTEHBggWxYsUKNG/eHCdOnEDFihUNsAWmT5dX8WSGV/gQERER6RdzcyIi48U7cIiItMegBfPZs2ejR48e6NmzJwAgMjISu3btwqJFizB16lS1/pGRkSqvp0yZgt9++w1//PEHk3Id08VVPJnhFT5ERERE+sXcnIjI+PEOHCKiT2ewgvnbt29x+vRpjBw5UqW9YcOGOHr0aLbWIZfL8fLlSzg6OuoixAwZYv4uzhlGRERERLpizLk5EREREZE2GaxgnpCQgPT0dLi6qt4q5Orqivj4+GytY9asWXj9+jXatWuXYZ/U1FSVebaSkpJyFzAMO583wDnDiIiIiEg3jDE3JyIi08IHlhJRXmHwh35KJBKV10IItTZN1q5di/Hjx+O3336Di4tLhv2mTp2KiIiIT44TMNx83gDnDCMiIiIi3TOm3Jz0S1dFJxaziIgPLCWivMZgBXNnZ2eYmZmpXbHy5MkTtStbPrZ+/Xr06NEDGzduRP369TPtO2rUKAwZMkT5OikpCV5eXrkPHPqfzxvgnGFEREREpDvGnJuTbunjLlsWs4jyNz6wlIjyGoMVzC0tLVG5cmXs2bMHrVu3Vrbv2bMHLVu2zHC5tWvXonv37li7di2aNm2a5TgymYwnRiIiIiKiTDA3p4zo+i5bFrOISIEPLCWivMKgU7IMGTIEnTt3RlBQEIKDg7FkyRLExsaiT58+AN5fgfLw4UNER0cDeJ+Qd+nSBXPnzkXVqlWVV8BYW1vDwcHBYNtBRERERGTsmJtTZnR1ly2LWURERJTXGLRg3r59eyQmJmLChAmIi4tD2bJlsWPHDvj4+AAA4uLiEBsbq+z/888/Iy0tDf3790f//v2V7V27dkVUVJS+wyciIiIiMhnMzYmIiIiI8sBDP/v164d+/fppfO/jRPvAgQO6D4iIiIiIKJ9ibk5ERERE+Z3U0AEQEREREREREREREeUFLJgTERERERERERERESEPTMlCREREREREpCu33qYa1Xr1MYY+YiciIjJWLJgTERERERGRyUlNTYUUwIi4OJ2NIf3/cbTNmGMnIiIydiyYExERERERkcmRyWSQA3Co0QnmDq5aX3/ai8d4cXg1ZDKZ1tdtzLETEREZOxbMiYiIiIiIyGRZFw2CzK2Y1tebGn8TLw6v1vp6P2TMsRszXUxZw2lwiIiMBwvmRERERERERJTv6XoqHE6DQ0RkHFgwJyIiIiIiIiKtMsYHlupyKhxOg0NEZDxYMCciIiIiIiIirTCFB5bqYiocToNDRGQ8WDAnIiIiIiIiIq3gA0uJiMjYsWBOpIG+H8jCB8AQEREREZEp4QNLiYjIWLFgTvQBfdw+mBE+AIZ0iX8EIiIiIiIiIiLKGgvmRB/Q9e2DGeFthaQr/CMQEREREREREVH2sWBOpIGubh/MCG8rJF3hH4GIiIiIiIiIiLKPBXMionyAfwQiIiIiIiIiIsqa1NABEBERERERERERERHlBSyYExERERERERERERGBBXMiIiIiIiIiIiIiIgCcw5yIANx6m5ovxiQiIiIiIiIiIsoMC+ZE+VhqaiqkAEbExRlkfOn/x0BERERERERERJQXsGBOlI/JZDLIATjU6ARzB1e9jp324jFeHF4NmUym13GJiIiIiIiIiIgywoI5EcG6aBBkbsX0OmZq/E28OLxar2MSERERERERERFlhg/9JCIiIiIiIiIiIiICC+ZERERERERERERERABYMCciIiIiIiIiIiIiAsCCORERERERERERERERAD70k4iITNCtt6kmPR4RERERERER6QYL5kREZDJSU1MhBTAiLk7vY0v/f3wiIiIiIiIiMl4smBMRkcmQyWSQA3Co0QnmDq56GzftxWO8OLwaMplMb2MSERERERERkfaxYE5ERCbHumgQZG7F9DZeavxNvDi8Wm/jEREREREREZFu8KGfRERERERERERERERgwZyIiIiIiIiIiIiICEAeKJgvXLgQfn5+sLKyQuXKlXH48OFM+x88eBCVK1eGlZUVihYtisWLF+spUiIiIiIi08bcnIiIiIjyO4MWzNevX49BgwZh9OjROHv2LGrUqIHGjRsjNjZWY/87d+6gSZMmqFGjBs6ePYvvv/8e4eHh2Lx5s54jJyIiIiIyLczNiYiIiIgMXDCfPXs2evTogZ49e6JUqVKIjIyEl5cXFi1apLH/4sWL4e3tjcjISJQqVQo9e/ZE9+7dMXPmTD1HTkRERERkWpibExEREREB5oYa+O3btzh9+jRGjhyp0t6wYUMcPXpU4zLHjh1Dw4YNVdpCQ0OxfPlyvHv3DhYWFmrLpKamIjU1Vfn6xYsXAICkpKQcx/zq1av364y/CfnblBwv/ynePXugjCE3seeWobaZ26sfPKb5M9YVbm/OKJYRQmg1LiKi7DKW3FyX53ldf3YZa+y6/mxl7Jox9owZa+w8x2QsL8XOvJyIAEAiDHQWePToETw9PXHkyBFUq1ZN2T5lyhSsXLkS165dU1umRIkSCAsLw/fff69sO3r0KEJCQvDo0SO4u7urLTN+/HhEREToZiOIiIi06P79+yhSpIihwyCifIi5ORER0f8wLyfK3wx2hbmCRCJReS2EUGvLqr+mdoVRo0ZhyJAhytdyuRzPnj2Dk5NTpuPoQlJSEry8vHD//n0UKFBAr2MbArfXtOW37QXy3zZze/VHCIGXL1/Cw8NDr+MSEX3MlHJzY/4cY+yGwdgNg7EbBmPXjHk5EQEGLJg7OzvDzMwM8fHxKu1PnjyBq6urxmXc3Nw09jc3N4eTk5PGZWQyGWQymUpbwYIFcx+4FhQoUMDoPpA+BbfXtOW37QXy3zZze/XDwcFB72MSESmYcm5uzJ9jjN0wGLthMHbDYOzqmJcTkcEe+mlpaYnKlStjz549Ku179uxRuQ30Q8HBwWr9d+/ejaCgII1zJBIRERERUdaYmxMRERERvWewgjkADBkyBMuWLcMvv/yCK1euYPDgwYiNjUWfPn0AvL9ls0uXLsr+ffr0wb179zBkyBBcuXIFv/zyC5YvX45hw4YZahOIiIiIiEwCc3MiIiIiIgPPYd6+fXskJiZiwoQJiIuLQ9myZbFjxw74+PgAAOLi4hAbG6vs7+fnhx07dmDw4MH46aef4OHhgXnz5uHLL7801CbkiEwmw7hx49RuQzVV3F7Tlt+2F8h/28ztJSLKX0wtNzfm8zpjNwzGbhiM3TAYOxFRxiRC8WQeIiIiIiIiIiIiIqJ8zKBTshARERERERERERER5RUsmBMRERERERERERERgQVzIiIiIiIiIiIiIiIALJgTEREREREREWUpNjYWmh4DJ4RQeSgyEREZNxbMSSdSUlIMHYLe3Lx5E7t27cKbN28AQGMCZUpWrVqFkJAQeHh44N69ewCAyMhI/PbbbwaOTDeuX7+OJUuWYNKkSZgwYYLKP1OzcuVKbN++Xfn6u+++Q8GCBVGtWjXlz9pU5bffYyIiypvevn2La9euIS0tzdCh5Bg/S/UvLS0Nf/31F37++We8fPkSAPDo0SO8evXKwJFlzVi/U/j5+eHp06dq7c+ePYOfn58BIsq+unXr4vnz52rtSUlJqFu3rv4DyqX8VGsgIsNhwVyHHj9+jM6dO8PDwwPm5uYwMzNT+Wdq5HI5Jk6cCE9PT9jZ2eH27dsAgDFjxmD58uUGju7TyeVyldeJiYmoX78+SpQogSZNmiAuLg4A0LNnTwwdOtQQIercokWLMGTIEDRp0gTPnz9Heno6AKBgwYKIjIw0bHA6sHTpUpQuXRpjx47Fpk2bsHXrVuW/mJgYQ4endVOmTIG1tTUA4NixY1iwYAGmT58OZ2dnDB482MDR6UZ+/D0mIsoPjK2gkpycjB49esDGxgZlypRRXqkaHh6OH3/80cDRZY6fpYZx7949BAYGomXLlujfv7+yiDt9+nQMGzbMwNFlzpi/UwghIJFI1NpfvXoFKysrA0SUfQcOHMDbt2/V2lNSUnD48GEDRJR9pl5rIKK8hwVzHQoLC8OZM2cwZswYbNq0CVu2bFH5Z2omTZqEqKgoTJ8+HZaWlsr2wMBALFu2zICRacfs2bOxY8cO5evBgwfD3NwcsbGxsLGxUba3b98eO3fuNESIOjd//nwsXboUo0ePVvmjT1BQEC5cuGDAyHRj0qRJmDx5MuLj43Hu3DmcPXtW+e/MmTOGDk/r7t+/j2LFigEAYmJi0KZNG3zzzTeYOnVqnk+icys//h4TEZkqYy6ojBo1Cv/++y8OHDigUnSrX78+1q9fb8DIsmYqn6XGdnX/t99+i6CgIPz333/KCx4AoHXr1ti7d68BI8uaMX6nGDJkCIYMGQKJRIIxY8YoXw8ZMgTffvst2rdvjwoVKhg6TI3Onz+P8+fPAwAuX76sfH3+/HmcPXsWy5cvh6enp4GjzJyp1xqIKO8xN3QApuzvv//G4cOH8+wHp7ZFR0djyZIlqFevHvr06aNsL1euHK5evWrAyLSjQYMGaNOmDeLi4tCjRw/s3r0bu3btQpEiRVT6FS9e3GSnr7hz5w4qVqyo1i6TyfD69WsDRKRb//33H9q2bWvoMPTGzs4OiYmJ8Pb2xu7du5VXlVtZWSlvrzY1+fH3mIjIVE2aNAkrV67E9OnT0atXL2V7YGAg5syZgx49ehgwuszFxMRg/fr1qFq1qsrVq6VLl8atW7cMGFnWjP2zNDk5GQMHDsTKlSsBvJ+Or2jRoggPD4eHhwdGjhxp4Ag1+/vvv3HkyBGV4iEA+Pj44OHDhwaKKnuM8TvF2bNnAby/wvzChQsq+93S0hLly5fPs1f2V6hQARKJBBKJROPUK9bW1pg/f74BIss+U681EFHew4K5Dnl5eeWrufsePnyovDr1Q3K5HO/evTNARNpVvnx5/PPPP+jWrRt69OiB169fq1xFo5CQkACZTGaACHXPz88P586dg4+Pj0r7n3/+idKlSxsoKt1p27Ytdu/erZKUmbIGDRqgZ8+eqFixIq5fv46mTZsCAC5dugRfX1/DBqcj+fH3mIjIVBlzQeXp06dwcXFRa3/9+rXG6R/yEmP/LP3w6v5GjRop2+vXr49x48bl2YK5XC5XTmXyoQcPHsDe3t4AEWWfMX6n2L9/P4D3d5HPnz8/z+/jD925cwdCCBQtWhT//PMPChcurHzP0tISLi4ueX7KWFOvNRBR3sMpWXQoMjISI0eOxN27dw0dil6UKVNG47QNGzdu1HgFgTEqVKiQcu7qmjVrIjo6WvmeRCKBXC7HjBkzUKdOHQNFqFvDhw9H//79sX79eggh8M8//2Dy5Mn4/vvvMXz4cEOHp3XFihXDmDFjEBYWhlmzZmHevHkq/0zNTz/9hODgYDx9+hSbN2+Gk5MTAOD06dP4+uuvDRydbuTH32MiIlNlzAWVzz77TOXB24oi+dKlSxEcHGyosLLF2D9LY2JisGDBAlSvXt2oru5v0KCBynzfEokEr169wrhx49CkSRPDBZYNxvqdIi0tDatXrzaKOyc+5OPjA19fX8jlcgQFBcHHx0f5z93dPc8Xy4H8UWsgoryFV5jrUPv27ZGcnAx/f3/Y2NjAwsJC5f1nz54ZKDLdGDduHDp37oyHDx9CLpdjy5YtuHbtGqKjo7Ft2zZDh6d1M2bMQO3atXHq1Cm8ffsW3333HS5duoRnz57hyJEjhg5PJ7p164a0tDR89913SE5ORocOHeDp6Ym5c+fiq6++MnR4WrdkyRLY2dnh4MGDOHjwoMp7EokE4eHhBopMNwoWLIgFCxaotUdERBggGv3Ij7/HRESmSlFQ+fiqVWMoqEydOhWNGjXC5cuXkZaWhrlz5+LSpUs4duyYWg6S1xj7Z6mxXt0/Z84c1KlTB6VLl0ZKSgo6dOiAGzduwNnZGWvXrjV0eJky1u8U5ubm8PHx0Xhlv7G4fv06Dhw4gCdPnkAul6u8N3bsWANFlbX8VmsgIsOTiPw0Z4ieKebBy0jXrl31FIn+7Nq1C1OmTMHp06chl8tRqVIljB07Fg0bNjR0aDoRHx+PRYsWqWxv//794e7ubujQtC4tLQ1r1qxBaGgo3NzckJCQALlcrvELBhmvw4cP4+eff8bt27exceNGeHp6YtWqVfDz80P16tUNHZ5O5KffYyIiU/bHH3+gc+fOGDVqFCZMmICIiAiVgkqDBg0MHWKmLly4gJkzZ6p8Ho0YMQKBgYGGDi1LxvxZWqtWLbRp0wYDBw6Evb09zp8/Dz8/PwwYMAA3b97M0w8uffPmDdatW6ey3zt27KjyENC8xti/U6xYsQIbN27E6tWr4ejoaOhwcmTp0qXo27cvnJ2d4ebmpvIHIYlEgjNnzhgwuqzlt1oDERkWC+ZEuRQbGwsvLy+NV57ExsbC29vbAFHplo2NDa5cuaJ25VZ+oDhV5uUrjT7V5s2b0blzZ3Ts2BGrVq3C5cuXUbRoUSxcuBDbtm3Djh07DB0iERFRplhQoZw6evQoGjVqhI4dOyIqKgq9e/dWubq/cuXKhg5Ro0OHDqFatWowN1e9aTwtLQ1Hjx5FzZo1DRRZ1oz5O0XFihVx8+ZNvHv3Dj4+PrC1tVV5Py8XnX18fNCvXz+MGDHC0KEQEeV5nJJFx9LT0xETE4MrV65AIpGgdOnSaNGihVHME0aZ8/PzQ1xcnNrVEImJifDz8zPqW/Uy8vnnn+Ps2bNGmdzmVnR0NGbMmIEbN24AAEqUKIHhw4ejc+fOBo5M+yZNmoTFixejS5cuWLdunbK9WrVqmDBhggEj063nz5/jn3/+0XhrapcuXQwUFRER5URaWhomT56M7t275/kpTDJy69YtrFixArdv30ZkZCRcXFywc+dOeHl5oUyZMoYOT8X58+ez3bdcuXI6jOTTVatWDUeOHMHMmTPh7++P3bt3o1KlSjh27Fievrq/Tp06Gr+LvHjxAnXq1MnT30WM+TtFq1atDB1Crv33339o27atocPIlaJFi+LkyZPKZywpPH/+HJUqVcLt27cNFBkRmSoWzHXo5s2baNKkCR4+fIiAgAAIIXD9+nV4eXlh+/bt8Pf3N3SIn6xQoULZvuLW1OZsF0Jo3PZXr17BysrKABHpXr9+/TB06FA8ePAAlStXVruiIq9/Icqp2bNnY8yYMRgwYABCQkIghMCRI0fQp08fJCQkYPDgwYYOUauuXbum8WqkAgUK4Pnz5/oPSA/++OMPdOzYEa9fv4a9vb3araksmBMRGQdzc3PMmDHDaKY8vHbtGgICApSvDx48iMaNGyMkJASHDh3CpEmT4OLigvPnz2PZsmXYtGmTAaNVV6FCBUgkEmR1s7JEIsnThVuFwMDALKfTzGsy+i6SmJiolqPnNcb8nWLcuHGGDiHX2rZti927d6NPnz6GDiXH7t69q/FckpqaiocPHxogIiIydSyY61B4eDj8/f1x/Phx5fxmiYmJ6NSpE8LDw7F9+3YDR/jpPnwye34xZMgQAO+/AIwZMwY2NjbK99LT03HixAlUqFDBQNHpVvv27QFA5WGXii9LxvKFKCfmz5+PRYsWqRRNW7ZsiTJlymD8+PEmVzB3d3fHzZs34evrq9L+999/o2jRooYJSseGDh2K7t27Y8qUKSq/y0REZHzq16+PAwcOICwszNChZGnLli24ePEioqOjYWZmhpEjR2LSpEkYMmQI7O3tlf3q1KmDuXPnGjBSze7cuWPoED5JUlJStvsWKFBAh5Hk3BdffAHgfQ4eFhYGmUymfC89PR3nz59HtWrVDBVethj7d4rnz59j06ZNuHXrFoYPHw5HR0ecOXMGrq6u8PT0NHR4GSpWrBjGjBmD48ePIzAwEBYWFirvf/jzyCt+//135f937doFBwcH5ev09HTs3btX7bsLEZE2cA5zHbK1tVV+GH3o33//RUhICF69emWgyOhT1KlTB8D7K4GCg4NhaWmpfM/S0hK+vr4YNmwYihcvbqgQdebevXuZvm+Mt1VmxsrKChcvXkSxYsVU2m/cuIHAwECkpKQYKDLdmD59OlauXIlffvkFDRo0wI4dO3Dv3j0MHjwYY8eOxYABAwwdotbZ2triwoULJvsHASKi/OTnn3/G+PHj0bFjR41XrbZo0cJAkal79+4dhg4disuXL+Ovv/6CnZ0dLly4AD8/P9jb2+Pff/9F0aJFcffuXZQsWdLkcg5Dk0qlWd4lm1eLt926dQMArFy5Eu3atVN5wKfiu0ivXr3g7OxsqBCzZMzfKc6fP4/69evDwcEBd+/exbVr11C0aFGMGTMG9+7dQ3R0tKFDzJCfn1+G70kkkjw5rYlUKgUAjXe0WFhYwNfXF7NmzUKzZs0MER4RmTBeYa5DMpkML1++VGt/9eqVSpHVFL158wbv3r1TactrV2fk1v79+wG8T1bnzp1rMtuVHXk5edWFYsWKYcOGDfj+++9V2tevX2+SfxD57rvvlPNepqSkoGbNmpDJZBg2bJhJFssBIDQ0FKdOnWLBnIjIBPTt2xfA+ynVPpbXCp8WFhaYN28etmzZAgAoWLAg4uLi1ApaZ8+ezdNXrCqsWrUKixcvxp07d3Ds2DH4+PggMjISfn5+aNmypaHDU6PI543RihUrIISAEALz589XuSPBWBjzd4ohQ4YgLCwM06dPV9n3jRs3RocOHQwYWdaM8c4QxfOF/Pz8cPLkyTz9hyAiMi28wlyHunTpgjNnzmD58uWoUqUKAODEiRPo1asXKleujKioKMMGqGWvX7/GiBEjsGHDBiQmJqq9n5e+pGjbgwcPIJFIjOILzadatmwZli5dirt37+Lx48cA3l+ZHBAQkCe/EH2KzZs3o3379qhfvz5CQkIgkUjw999/Y+/evdiwYQNat25t6BB1Ijk5GZcvX4ZcLkfp0qVhZ2dn6JB0Zvny5ZgwYQK6deum8dbUvHQ1IhERma7vvvsOx44dw8aNG1GiRAmcOXMGjx8/RpcuXdClS5c8OW/y1q1b0bp1ayxatAhjx47FoEGDMHnyZFy8eBFFixZFVFQUVq5cadTF6bxKLpfDysoKly5dMtqLOIz1O4WDgwPOnDkDf39/lbtB7t27h4CAAN4NogcpKSkm+8wwIso7pIYOwJTNmzcP/v7+CA4OhpWVFaysrBASEoJixYrlybkIP9V3332Hffv2YeHChZDJZFi2bBkiIiLg4eGRp29Nyy25XI4JE/6PvTuPqzH9/wf+OqdFpYVUxpIWUaJUYmyDaLGMJDO2SIrsO9HMJEJ22ccaNWPKlj62IUQoRKtoIW0o6yTJ0nL//vDrfB2FcE7XOaf38/Ho8XBf923mVaH7ft/X9b78oKGhAT09PbRo0QINGjTAkiVLBG/CZc3GjRvx+++/w8nJCU+fPhWMa2lpyWQ/+yFDhuDatWvQ0tJCeHg4wsLCoKWlhdjYWJktlgOAiooKrK2t0alTJ5kulgPA+PHjkZeXBz8/P/z6669wcnISfMjy95gQQmRRcHAw3r59W2X83bt3En8vumzZMrRo0QLNmjVDcXExTE1N0aNHD3Tt2hV//PEH63hCnj59iuHDhws2It24cSN27tyJ33//HXJycoLrrK2tcfPmTVYxv1pJSQnS0tKQnJws9CGJ+Hw+WrVqVe0kJWkgzc8USkpK1fbAT09Ph7a2NoNEX+f+/fvYunUrFixYgNmzZwt9SLKKigosWbIEzZo1g6qqqqB9jI+PD3bv3s04HSFEFtEM81pw584dpKWlgeM4mJqaVumHLCtatGiB4OBg9OrVC+rq6oiPj4eRkRH++usvhISE4OTJk6wjfrd3797Bx8cHK1euhLe3N3bv3o3FixejW7du4DgO0dHRWLRoEcaPH49ly5axjisyDx48QLNmzdCmTRusXLkSjo6OkJOTE6waSElJQa9evYRueIl0qNw4qiYql40TQgghkkhOTg75+fnQ0dERGn/27Bl0dHSkYrVjZmYmEhISUFFRAUtLS4mcPbx48WLcuHEDx44dAwAoKysjLS0Nenp6QjNu79y5A3Nzc7x+/Zpx4s978uQJxo4di3///bfa85L65+bEiRNYsWIF/vzzT7Rr1451nBqRhWcKT09PPHnyBAcOHICmpiaSk5MhJycHJycn9OjRQ6IL/ufOnYOjoyMMDAyQnp6Odu3aITs7GxzHwcrKCpGRkawjVhEQEIBZs2bBz88PQUFB8PPzw/jx4wUrWQ4cOICAgABcuXKFdVRCiIyhGea1oFWrVhg4cCAcHR1ltlgOAM+fPxf0XVRXV8fz588BAN27d8fFixdZRhOJxMREdOrUSdB2JSgoCLt27cKkSZNgbm6O9u3bY/Lkydi5c6dMtds5ffo0HBwcAADZ2dlo3759lWsUFRXx6tWr2o4mFh/OGCkqKvrshyzQ0NCo8YesKCwsxOjRo1nHIIQQImKVmzR+7P79+1Lzc6xly5b45ZdfMHToUIkslgPAlClToKysjFGjRgF431s4MTGxynX//vsvTE1Naznd15s5cyb+++8/XL16FcrKyjh16hSCgoLQqlUrHD16lHW8Txo1ahRiY2PRvn17KCsrQ1NTU+hD0sjKM8WaNWvw5MkT6Ojo4PXr1+jZsyeMjIygpqYm8ROmvL29MWfOHKSkpEBJSQmHDx9GXl4eevbsiV9//ZV1PCF3795Fjx498OTJEwDvn7137NgBFxcXoZUs5ubmSEtLYxWTECLDaNNPEZs9ezaWLFmC+vXrf3FZU3UbEkkzQ0NDZGdnQ09PD6ampjhw4AA6deqEY8eOoUGDBqzjfbczZ85AR0cH48ePB/D+BYGJiUmV60xMTAQvC6RdSEgI/Pz8cOLECQDvH4iSk5Ohp6cntEv5iRMnpOKBqCYaNmwomJ3WoEGDah+8Kx/IJXXG0dfYs2cP6wi16vLly3B3d8fSpUsBvF8S/DnTp0+vjViEEEK+g6WlJXg8Hng8Hvr06QN5+f97xCkvL0dWVhb69u3LMOGXcRyHQ4cO4fz583j8+HGV9n6StMpLS0sLBw4cwMGDBwEA8+bNw5QpU/DmzRtwHIfY2FiEhIRg+fLl2LVrF+O0XxYZGYn//e9/6NixI/h8PvT09GBnZwd1dXUsX74cAwYMYB2xWpI8k/ljsvRMoa6ujsuXLyMyMhLx8fGoqKiAlZUVbG1tWUf7otTUVISEhAAA5OXl8fr1a6iqqsLPzw+DBg0SbJwsCUJDQ6Guri64Z3/48GG1kw8rKipQWlpa2/EIIXUAFcxFLCEhQfAPdkJCwievq64IJ+3Gjh2LpKQk9OzZE97e3hgwYAA2bdqEsrIymXg5MHfuXMjLy6Nnz56C2RybN2+uUnDbvHlztTMmpJGamhouXbok2I288oHo7du34PF4uHjxIs6ePYu1a9fKTO+4yMhIwaycurpJ1ePHj5Geng4ej4fWrVtXWdouza5duwZdXV3Bw29AQMAnr+XxeFQwJ4QQKeDk5ATg/WpABwcHof03FBUVoa+vjyFDhjBKVzMzZszAjh07YGNjg8aNG0vFs0LljNSxY8eirKwMXl5eKCkpwciRI9GsWTNs2LABw4cPZ5zyy169eiW419HU1MSTJ0/QunVrmJmZIT4+nnG6TxszZgzrCDUmS88U2dnZ0NfXR+/evdG7d2/Wcb5K/fr1Bfs8NG3aFJmZmWjbti0ASFwbnHnz5uGPP/5Anz59cP78ebRt2xaXLl2Cnp6e0HUHDx6EpaUlo5SEEFlGPcyJ2OTm5uLGjRto2bKlzBSQASArKwsGBgaIiorCgAED0KJFC3Tp0gU8Hg8xMTHIy8vDyZMn8dNPP7GOKhY7d+7E0qVLkZeXBwBo1qwZFi1aBA8PD8bJyPcqKirClClTEBoaKpg9Lycnh2HDhmHLli1Ss5z9S7Zs2YLAwEDExcWxjkIIIUSEgoKCMGzYMCgpKbGO8tU0NTXx999/o3///qyjfJWysjLs27cPDg4O+OGHH/D06VNUVFRI1cv2jh07YunSpXBwcICTk5NgZvnGjRtx6NAhZGZmso74SeXl5QgPD0dqaip4PB5MTU0FfcElnbQ+U/D5fHTt2hWjR4/Gr7/+KpHtbz7FyckJAwYMwPjx4+Hl5YUjR47Azc0NYWFhaNiwIc6ePcs6YhVXr15F586dcezYMYwePRre3t7w8/PD4sWLkZ6ejuDgYBw/fhx2dnasoxJCZAwVzGtRUVERIiMjYWJiUm0rD2kXHByMYcOGoV69ekLj7969Q2hoKFxdXRklE58HDx5g69atQpu6Tp48GU2bNmUdTeyk8YHoa506dQqqqqro3r07gPeF1p07d8LU1BRbtmxBw4YNGScUraFDhyIxMRGbNm0Segk0Y8YMmJub48CBA6wjikzl7CBCCCFEEhgYGODff/+VymcEFRUVpKamVpn5KS327duH0tJSuLm5ISEhAQ4ODnj27BkUFRWxd+9eDBs2jHXEat29exf9+/fHgwcPYGxsDI7jkJGRAV1dXZw4cQItW7ZkHbFGpO2ZIj4+HiEhIQgNDcWTJ0/g4OCAUaNGwdHRscpzsKS5d+8eiouLYW5ujpKSEsydOxeXL1+GkZERAgICJP7v8OnTp+Hv74+4uDhBK5yFCxfC3t6edTRCiAyigrkYDR06FD169MDUqVPx+vVrtG/fXrALdWhoqMQvDf1acnJygt7PH3r27Bl0dHRkot8zqVvMzMywcuVK9O/fHzdv3oS1tTXmzJmDyMhItGnTRub6f9evXx+nT58WvCCodOnSJfTt21fiN2H6Vvfv38fRo0eRm5uLd+/eCZ2ThXZShBBSV/D5/M+2MpHke9GgoCCcOnUKgYGBUFZWZh3nq9jY2GDGjBmC1jjSrqSkBGlpaWjRooWghYgk6t+/PziOw759+wSznJ89e4ZRo0aBz+cL+oUT8eA4DhcuXMA///yDw4cPo7y8HEOGDEFgYCDraIQQQkSAepiL0cWLF/H7778DAI4cOQKO41BYWIigoCAsXbpU5grmlRshfuz+/fsy08rhQ3v27IGqqmqVHcUPHjyIkpISqeor+DlWVlY4d+4cGjZsKNhU61Mkuc/jt8jKyhJsPHT48GEMHDgQ/v7+iI+Pl7ol0zXRqFGjav+uamhoyNxs+krnzp2Do6MjDAwMkJ6ejnbt2glebFpZWbGORwgh5CuEhYUJ3aeUlpYiISEBQUFBWLx4McNkX/brr78iJCQEOjo60NfXh4KCgtB5Sb7Hmjx5MubMmYP79++jQ4cOqF+/vtB5c3NzRsm+jYqKilTcA0RFReHq1atCLUEaNWqEFStWoFu3bgyTfdmnnil4PB6UlJRgZGQENzc32NjYMEhXMzweDzY2NrCxscGkSZPg4eGBoKAgiS6Y5+XlgcfjoXnz5gCA2NhY/PPPPzA1NYWnpyfjdDVz48YNQQuiNm3aoEOHDqwjEUJkFBXMxejFixeCG5hTp05hyJAhUFFRwYABAzBv3jzG6USn8oaHx+OhT58+kJf/vz9W5eXlyMrKQt++fRkmFI8VK1Zg27ZtVcZ1dHTg6ekpMwXzQYMGCZYXysrMoZpSVFRESUkJAODs2bOCtkKampooKipiGU0s/vjjD8yePRvBwcFo0qQJAKCgoADz5s2Dj48P43Ti4e3tjTlz5sDPzw9qamo4fPgwdHR04OLiIpP/bhFCiCyr7j7ll19+Qdu2bbF//36J7o3s5uaGuLg4jBo1Smo2/axU2bLkw42yeTyeYDKNJM/sB95P+jl06BDOnz+Px48fo6KiQuh8WFgYo2SfV69ePbx8+bLKeHFxMRQVFRkkqrm+ffvizz//hJmZGTp16gSO43Djxg0kJyfDzc0Nt2/fhq2tLcLCwjBo0CDWcauVl5eHkJAQ/PPPP7h58ya6dOmCzZs3s471WSNHjoSnpydGjx6NgoIC2Nraol27dvj7779RUFCAhQsXso74Sffv38eIESMQHR2NBg0aAAAKCwvRtWtXhISEQFdXl21AQojMoYK5GOnq6uLKlSvQ1NTEqVOnEBoaCgD477//pHIzok+pfDhJTEyEg4MDVFVVBecUFRWhr68vc7PpASAnJwcGBgZVxvX09JCbm8sgkXj4+voCeP/yo1evXjA3N5fZ2cYf6969O2bPno1u3bohNjYW+/fvBwBkZGQIZmbIkj///BN3796Fnp4eWrRoAeD95r316tXDkydPsH37dsG1kjzT7WukpqYiJCQEACAvL4/Xr19DVVUVfn5+GDRoECZNmsQ4ISGEkO/1448/Yvz48axjfNaJEyeqbYsmDbKyslhH+C4zZszAjh07YGNjI1UvK37++Wd4enpi9+7d6NSpEwDg2rVrmDhxIhwdHRmn+7ynT59izpw5VSZkLF26FDk5OYiIiICvry+WLFkicQXzHTt2YN++fYiOjoaxsTFcXFwQHh4uFXvjpKSkCP6sHDhwAGZmZoiOjkZERAQmTpwo0QVzd3d3lJaWIjU1FcbGxgCA9PR0uLu7w8PDAxEREYwTEkJkDRXMxWjmzJlwcXGBqqoq9PT00KtXLwDvW7WYmZmxDSdClQVVfX19DBs2TKZeBnyOjo4OkpOTq9wcJSUloVGjRmxCiZGcnBwcHByQmppaZwrmmzdvxuTJk3Ho0CH8+eefaNasGQDg33//lcnZx3VtBQHwvm/727dvAQBNmzZFZmYm2rZtC+D9wxwhhBDp9vr1a2zatEniX3Tr6upCXV2ddYxvIukbBX7J33//jbCwMKlrt7dx40aMGTMGXbp0EbTwKSsrg6OjIzZs2MA43ecdOHAAcXFxVcaHDx+ODh06YOfOnRgxYoRE7iWzZMkSDB8+HBs2bICFhQXrOF+ltLRUsHL47NmzghcrJiYmyM/PZxntiy5duoSYmBhBsRwAjI2NsWnTJolvQUQIkU5UMBejyZMno1OnTsjLy4OdnR34fD4AwNDQEEuXLmWcTvQqW5C8e/eu2uWMlTNWZcXw4cMxffp0qKmpoUePHgDe9xKcMWMGhg8fzjideJiZmeHevXvVzqyXRS1atMDx48erjAcEBDBII36VL7/qks6dOyM6OhqmpqYYMGAA5syZg5s3byIsLAydO3dmHY8QQshXaNiwodDsYI7j8PLlSygrK2Pfvn0Mk33Z2rVr4eXlhW3btknFTNUPHT16tNrxD/tRS/K9o4aGBgwNDVnHqJGioiLBi5UGDRrgf//7H+7evYvU1FRwHAdTU1MYGRkxTvllSkpKiImJqZI1JiZGMPmqoqJCUNyVJLm5uVKzCuFjbdu2xbZt2zBgwACcOXMGS5YsAQA8fPhQ4id8tWjRAqWlpVXGy8rKBJOaCCFElHgcx3GsQxDZcOfOHbi7uyMmJkZoXFr6F36td+/eYfTo0Th48KCgb3tFRQVcXV2xbds2ie8d+C0iIiIwf/58LFmypNpNnaR1ZtSHPnwQ+VKfcln4fOu6e/fuobi4GObm5igpKcHcuXNx+fJlGBkZISAgQOpnzRFCSF0SFBQkdMzn86GtrY0ff/wROTk5Ej0btGHDhigpKUFZWRlUVFSqbPr5/PlzRsm+jM/nC3qWf+jDPubdu3dHeHi4RK5SDAoKwqlTpxAYGAhlZWXWcT5LTk4O+fn50NHRQe/evREWFibo5yxNli5dCn9/f4wfPx4dO3YEj8dDbGwsdu3ahd9++w2///47AgICcPLkSZw5c4Z1XCEXL1787PnKiVSS6MKFCxg8eDCKioowZswYwQalv/32G9LS0iS2Xz8A/O9//4O/vz+2bNmCDh06gMfj4caNG5g2bRrmz59fJ1fKEkLEiwrmIjZ79mwsWbIE9evXx+zZsz97rSQuMfse3bp1g7y8PBYsWIAmTZpUefPevn17RsnE686dO0hMTISysjLMzMxkusBWuUoCQJUZXLLyUuTDB5HKB8CPydLnq6mpiYyMDGhpaVWZmfcxSX5YJ4QQQj724sUL7Nu3D7t370ZiYqJE/9z+uNj/MUneTP7cuXP4/fffsWzZMkF/5NjYWPzxxx/w8fGBhoYGJkyYgB9//BG7d+9mnLaqkpISODs7Izo6Gvr6+lVeVkjSvi0aGhq4evUq2rRpAz6fj0ePHkFbW5t1rG+yb98+bN68Genp6QDet9eYNm0aRo4cCeB9O6XKVQqS5MPnoUof3j9L8r8zwPt8RUVFQi+vsrOzoaKiAh0dHYbJPu/Dl4qVk9Uqf/3xJC56ZiGEiAK1ZBGxhIQEwVKhhISET14nrcu4PicxMRFxcXEwMTFhHaVWtWrVCq1atWIdo1acP3+edQSxi4yMhKamJoC68fkGBARATU1N8GtZ/LepJupKKylCCKkLIiMjERgYiLCwMOjp6WHIkCHYtWsX61ifJckF8S+p3DSza9eugrE+ffpASUkJnp6euHXrFtavXw93d3eGKT/Nzc0NcXFxGDVqlMRv+mlrawsbGxu0adMGADB48OBPrmqNjIyszWhfzcXFBS4uLp88L6mz/f/77z+h49LSUiQkJMDHxwfLli1jlKpmXr9+DY7jBMXynJwcHDlyBG3atIGDgwPjdJ+3fv161hEIIXUMzTAnItOxY0cEBASge/furKMQMSgtLYW9vT22b9+O1q1bs45DiEhkZGTAw8OjzrSSIoQQWXX//n3s3bsXgYGBePXqFYYOHYpt27YhKSkJpqamrON9UW5u7mfPS/ILXGVlZVy/fh3t2rUTGr958yY6deqE169fIycnB23atEFJSQmjlJ9Wv359nD59WiqeYV6/fo2goCBkZmZi7dq1GD9+PFRUVKq9VtL33CksLMShQ4dw7949zJ07F5qamoiPj0fjxo2lsif1xYsXMWvWrGo3M5UU9vb2cHZ2xsSJE1FYWAgTExMoKCjg6dOnWLduHSZNmsQ6IiGESAyaYU5EZuXKlfDy8oK/vz/MzMyqLGekfs/STUFBASkpKRI960YUkpOTa3ytubm5GJPUvg/b0Xzo2bNn0NHRkcni8dixYyEvL4/jx49X20qKEEKI5Ovfvz8uX76Mn3/+GZs2bULfvn0hJyeHbdu2sY5WY/r6+p/9GSTJP4M7dOiAefPmITg4WNAe5MmTJ/Dy8kLHjh0BvG9h2Lx5c5YxP0lXV1dqnlOUlZUxceJEAMCNGzewcuVKqehh/ujRIzRu3FhwnJycDFtbW2hoaCA7Oxvjxo2DpqYmjhw5gpycHAQHBzNM+220tbUF7WUkVXx8vOBFyqFDh9C4cWMkJCTg8OHDWLhwoVQUzB8/flztqlBZey4jhLBHBXMRc3Z2rvG1krypxrewtbUF8H4J5odopqbscHV1xe7du7FixQrWUcTGwsKi2o2rPiaLf6Y/9Tm/fftWJjexBepuKylCCJElERERmD59OiZNmiS1bfI+buVY2eZh3bp1Et/mYffu3Rg0aBCaN28OXV1d8Hg85ObmwtDQEP/73/8AAMXFxfDx8WGctHpr166Fl5cXtm3bBn19fdZxakyaWgdu374db968gb+/P4D3+365ublh1apVgtaAANCvXz9BD3NJ9fHkGo7jkJ+fjxUrVkj8nl0lJSWCr3dERAScnZ3B5/PRuXNn5OTkME73eXFxcRgzZgxSU1Or3WBY1p7LCCHsUcFcxDQ0NFhHYEaabtrIt3n37h127dqFM2fOwNrausoGK7KwkW1WVhbrCLVu48aNAN7fbO7atQuqqqqCc+Xl5bh48aLMFpRNTU3x9OlT1jEIIYR8h0uXLiEwMBDW1tYwMTHB6NGjMWzYMNaxvkp1hTZra2s0bdoUq1ev/qpJObXN2NgYqampOH36NDIyMsBxHExMTGBnZyfYINHJyYltyM8YNWoUSkpK0LJlS6ioqFRZJUsbCH6/GTNmwM3NDWPGjEFQUBCuX7+O7du3V7muWbNmKCgoYJCw5j41uaZz584IDAxklKpmjIyMEB4ejsGDB+P06dOYNWsWgPeztiV9lcXYsWPRunVr7N69W+L3GiCEyAbqYU7Id7h06RK2b9+OzMxMHDp0CM2aNcNff/0FAwMDqeiD+LVsbGw+eY7H40n85kKkegYGBgDeb/zTvHlzyMnJCc4pKipCX18ffn5++PHHH1lFFKmioiLBr2/cuIE//viDWkkRQogMKCkpQWhoKAIDAxEbG4vy8nKsW7cO7u7uQrNYpcmdO3dgYWGBV69esY4is4KCgj57Xpo3ZJU069atw+zZs9G4cWOcOnUKlpaWUFNTQ1JSEgwNDREREQEPDw/k5eWxjvpJH8/E5vP50NbWhpKSEqNENXfo0CGMHDkS5eXl6NOnDyIiIgAAy5cvx8WLF/Hvv/8yTvhpampqSEhIgJGREesohJA6ggrmRKQKCwuxe/dupKamgsfjwdTUFO7u7jI58/7w4cMYPXo0XFxc8Ndff+H27dswNDTE1q1bcfz4cZw8eZJ1RPINjh49WuNrHR0dxZik9tnY2CAsLAwNGzZkHUWs+Hy+0KyUyrZRH6JWUoQQIt3S09Oxe/du/PXXXygsLISdnd1X/YyvbR++zAX+r83DokWLkJaWhsTERDbBZFxpaSk8PT3h4+MDQ0ND1nHqDE9PTzx58gQHDhyApqYmkpOTIScnBycnJ/To0QPr169nHVFmFRQUID8/H+3btxesAImNjYW6urpEryh1cnLC6NGjMWTIENZRCCF1BBXMRczS0rLGy4Pi4+PFnKZ23bhxAw4ODlBWVkanTp3AcRxu3LiB169fIyIiAlZWVqwjipSlpSVmzZoFV1dXoZkRiYmJ6Nu3r8QvJyTVq7xx/BIqpkqvqKioGl/bs2dPMSYhhBAibuXl5Th27BgCAwMlumD+8ctc4H3RXFdXF6GhoejSpQujZLKvQYMGiI+Pp4J5LSoqKkL//v1x69YtvHz5Ek2bNkVBQQG6dOmCkydPVmn7KGmioqKwZs0awSSxNm3aYN68efjpp59YR5NZT58+xZgxY9CpUye0a9euyqpQWZvIRAhhjwrmIrZ48eIaX+vr6yvGJLXvp59+gpGREXbu3Al5+fft8cvKyjBu3Djcu3cPFy9eZJxQtFRUVHD79m3o6+sLFczv3bsHU1NTvHnzhnVEsbh+/ToOHjyI3NxcvHv3TuicrG1kWxfMnj27xtfKQo96QgghRBJ9/DK3ss2DkZGR4L6aiMfYsWNhZmb2VfdEkkLa20NGRkYiPj4eFRUVsLKygq2tLetIX/T3339j7NixcHZ2Rrdu3cBxHGJiYnDkyBHs3btX4jYtdXZ2xt69e6Gurv7FvRAk+Vnu6NGjGD16NF6+fFnlHE1kIoSIA919iZisFcG/xo0bN4SK5QAgLy8PLy8vWFtbM0wmHk2aNMHdu3ehr68vNH758mWZnaESGhoKV1dX2Nvb48yZM7C3t8edO3dQUFCAwYMHs45HvkFCQkKNrpPVjXX27NkDVVVV/Prrr0LjBw8eRElJCfUtJYQQIjZWVlY4d+4cGjZsiKioKMydOxcqKiqsY9U5RkZGWLJkCWJiYtChQ4cqs5unT5/OKNnnfdgeMiEhAW/fvgUAvHz5Ev7+/lLRHrJ3797o3bs36xhfZdmyZVi1apVgw0zg/aam69atw5IlSySuYK6hoSG4j5fmNqnTp0/H6NGj4ePjg8aNG7OOQwipA2iGeS2Ii4sT6ultaWnJOpJYNG7cGH/99Rfs7e2Fxk+fPg1XV1c8evSIUTLxWLVqFYKCghAYGAg7OzucPHkSOTk5mDVrFhYuXIipU6eyjihy5ubmmDBhAqZMmSKYVW9gYIAJEyagSZMmX7XCQlrQkkvZZmxsjG3btlXZ0DYqKgqenp5IT09nlIwQQoisU1ZWxp07dwQbbhcUFEBbW5t1rO8yYMAA7Nq1C02aNGEdpcYqNz+vDo/Hw71792oxTc1JW3vIjRs31vhaSX1JAQD16tXDrVu3qmw+effuXbRr105mVxmzpqamhsTERLRs2ZJ1FEJIHUEzzMXo8ePHGD58OC5cuIAGDRqA4zi8ePECNjY2CA0Nlfob4o8NGzYMHh4eWLNmDbp27Qoej4fLly9j3rx5GDFiBOt4Iufl5SX4fr558wY9evRAvXr1MHfuXJkslgNAZmYmBgwYAOD9zeKrV6/A4/Ewa9Ys9O7dW+YK5h8uuZw+fbpgyWWfPn0kcskl+Xo5OTnVPijr6ekhNzeXQSJCCCF1hYWFBcaOHYvu3buD4zisXr0aqqqq1V67cOHCWk73bS5evIjXr1+zjvFVsrKyWEf4Junp6ejRo0eVcXV1dRQWFtZ+oC8ICAio0XU8Hk+iC+a6uro4d+5clYL5uXPnoKuryyiV7HN2dsb58+epYE4IqTVUMBejadOmoaioCLdu3UKbNm0AALdv38aYMWMwffp0hISEME4oWmvWrAGPx4OrqyvKysoAAAoKCpg0aRJWrFjBOJ14LFu2DL///jtu376NiooKmJqafvJBRxZoamoK+sY1a9YMKSkpMDMzQ2FhIUpKShinEz1pW3L5vWxsbD7beiUyMrIW09QOHR0dJCcnV2mtlJSUhEaNGrEJRQghpE7Yu3cvfH19cfz4cfB4PPz777/V9ivn8XhSUzCXdpWLr6WhFZ20tYeU1hcTH5szZw6mT5+OxMREoUlie/fuxYYNG1jH+ywDA4PP/tmW1NUUANC6dWt4e3vj8uXLMDMzq7LppyS/ZCGESCdqySJGGhoaOHv2LDp27Cg0HhsbC3t7e4l88/+tysvLBT+8lJSUkJmZCY7jYGRkRL0YZcjIkSNhbW2N2bNnY9myZdiwYQMGDRqEM2fOwMrKSqI3ivkWdW3J5YcvBgCgtLQUiYmJSElJwZgxYyT+IeBbeHl54cCBA9izZ49gllZUVBTc3d3xyy+/YM2aNYwTEkIIqQv4fD4KCgqgo6PDOsp3adeuHf7991+pm2kbHByM1atX486dOwDeF+fmzZuH0aNHM072aXWxPaSkOHLkCNauXYvU1FQAELRsHDRoEONkn/fxvXxpaSkSEhJw6tQpzJs3DwsWLGCU7MuktXUSIUR60QxzMaqoqKjy5hN4P+u6oqKCQSLxkZOTg4ODA1JTU6GpqQkzMzPWkcTiSzuLf0jWiscAsHnzZkGR2NvbGwoKCrh8+TKcnZ3h4+PDOJ3o1bUll59aKrto0SIUFxfXcprasXTpUuTk5KBPnz6CWX0VFRVwdXWFv78/43SEEELqCll5NkhJSWEd4autW7cOPj4+mDp1Krp16waO4xAdHY2JEyfi6dOnVSYUSIq62B5SUgwePBiDBw9mHeOrzZgxo9rxLVu24MaNG7Wc5uvIygoFQoj0oBnmYjRo0CAUFhYiJCQETZs2BQA8ePAALi4uaNiwIY4cOcI4oWh17NgRK1asQJ8+fVhHEZuxY8fW+No9e/aIMQmpDX/++SdmzpwJd3f3apdcTpgwgXXEWnH37l106tQJz58/Zx1FbO7cuYPExEQoKyvDzMwMenp6rCMRQgghpBYYGBhg8eLFcHV1FRoPCgrCokWLJL5QV1JSUmfaQ0qC69evo6KiAj/++KPQ+LVr1yAnJwdra2tGyb7dvXv3YGFhgaKiItZRvujdu3fIyspCy5Ytq21hRQghokIFczHKy8vDoEGDkJKSAl1dXfB4POTm5sLMzAz/+9//0Lx5c9YRRSoiIgLz58/HkiVL0KFDB9SvX1/ovLq6OqNk5Hvl5eXJ5IzqmpDWJZei9Ndff2H+/Pl4+PAh6yiEEEIIISKlpKSElJSUKisK79y5AzMzM5lrwUe+T6dOneDl5YVffvlFaDwsLAwrV67EtWvXGCX7dqtWrcLWrVuRnZ3NOsonlZSUYNq0aQgKCgIAZGRkwNDQENOnT0fTpk0lup0MIUQ60Ss5MdLV1UV8fDzOnDmDtLQ0cBwHU1NT2Nraso4mFn379gUAODo6Cm0mwnEceDweysvLWUUj30lPTw9t27bF0qVL61ShGJDeJZff4uOWQxzHIT8/Hzdu3JDJljuEEEIIIUZGRjhw4AB+++03ofH9+/ejVatWjFJVz9nZGXv37oW6uvoXW0XKYntISXD79m1YWVlVGbe0tMTt27cZJKo5S0vLKs/pBQUFePLkCbZu3cow2Zd5e3sjKSkJFy5cENQdAMDW1ha+vr5UMCeEiBwVzGuBnZ0d7OzsWMcQu/Pnz7OOQMTk/PnzSE9Px99//12nCuayuOTyczQ0NISO+Xw+jI2N4efnB3t7e0apCCGEEELEZ/HixRg2bBguXryIbt26CVrwnTt3DgcOHGAdT4iGhoag4PnxfZu0uXTpErZv347MzEwcOnQIzZo1w19//QUDAwN0796ddbxPqlevHh49egRDQ0Oh8fz8fIlvEeLk5CR0zOfzoa2tjV69esHExIRNqBoKDw/H/v370blzZ6Giv6mpKTIzMxkmI4TIKmrJIkbTp0+HkZERpk+fLjS+efNm3L17F+vXr2cTTIQ+nOUQHByMYcOGoV69eqxjESISsrjkkhBCCCGSbfLkyfDz84OWlhbrKDVWVlaGCxcuIDMzEyNHjoSamhoePnwIdXV1qeipHRcXh3Xr1gmtCp4zZw4sLS1ZR5NJhw8fxujRo+Hi4oK//voLt2/fhqGhIbZu3Yrjx4/j5MmTrCN+0vDhw1FQUID//e9/gpcWhYWFcHJygo6OjsS9ZJEVKioqSElJgaGhIdTU1JCUlARDQ0MkJSWhR48eePHiBeuIhBAZQwVzMWrWrBmOHj2KDh06CI3Hx8fD0dER9+/fZ5RMdBQVFZGTk4MmTZpATk4O+fn50NHRYR2LEJFQVVVFcnJylRkkWVlZMDc3x8uXLxklE7/i4mJUVFQIjdE+BIQQQoj4qaurIzExscr9h6TKyclB3759kZubi7dv3wp6C8+cORNv3rzBtm3bWEckEsbS0hKzZs2Cq6urUPEzMTERffv2RUFBAeuIn/TgwQP06NEDz549E7xQSUxMROPGjXHmzBmJ3/epvLwc4eHhSE1NBY/Hg6mpKRwdHSEnJ8c62mf17NkTv/zyC6ZNmwY1NTUkJyfDwMAAU6dOxd27d3Hq1CnWEQkhMkay1wxJuWfPnlW7VE5dXR1Pnz5lkEj0TExM4O3tDRsbG3AchwMHDnyyqPbxzvPSrLS0FPb29ti+fTtat27NOo5Yfak/4odkrVeiNC+5/BZZWVmYOnUqLly4ILTBlazvQ1BYWIjY2Fg8fvy4yksCWfp3ixBCiHSQtvlMM2bMgLW1NZKSktCoUSPB+ODBgzFu3DiGyT6Pz+cLtXaoDo/HQ1lZWS0l+joGBgafzX/v3r1aTPN10tPT0aNHjyrj6urqKCwsrP1AX6FZs2ZITk7Gvn37kJSUBGVlZYwdOxYjRoyAgoIC63ifdffuXfTv3x8PHjyAsbExOI5DRkYGdHV1ceLECbRs2ZJ1xE9avnw5+vbti9u3b6OsrAwbNmzArVu3cOXKFURFRbGORwiRQbJX8ZEgRkZGOHXqFKZOnSo0/u+//0rNjJEv2bZtG2bPno0TJ06Ax+Phjz/+qPbGjcfjyVThSUFBASkpKV+8yZYF0t4f8XvY2dnB29u7ypLL3377TSb3JXBxcQEABAYGonHjxnXiz/exY8fg4uKCV69eQU1NTehzlrV/twghhBBxuHz5MqKjo6GoqCg0rqenhwcPHjBK9WVHjhz55LmYmBhs2rRJol9ezJw5U+i4tLQUCQkJOHXqFObNm8cmVA01adIEd+/ehb6+vtD45cuXpeI5uX79+vD09GQd46tNnz4dLVu2xNWrV6GpqQng/SS/UaNGYfr06Thx4gTjhJ/WtWtXREdHY82aNWjZsiUiIiJgZWWFK1euwMzMjHU8QogMopYsYhQYGIipU6di3rx56N27NwDg3LlzWLt2LdavX4/x48czTihafD4fBQUFdaYly5w5c6CgoIAVK1awjkLERNqXXH4tVVVVxMXFwdjYmHWUWtO6dWv0798f/v7+UFFRYR2HEEIIkTqampq4fPkyTE1NhdprXL58GUOGDMGjR49YR6yxtLQ0eHt7C16oL1myBC1atGAd66ts2bIFN27cwJ49e1hH+aRVq1YhKCgIgYGBsLOzw8mTJ5GTk4NZs2Zh4cKFVSacEdGoX78+rl69WqXAnJSUhG7duqG4uJhRMkIIkTw0w1yM3N3d8fbtWyxbtgxLliwBAOjr6+PPP/+UyVmLWVlZ0NbWZh2j1rx79w67du3CmTNnYG1tjfr16wudX7duHaNkRFSkecnlt+jYsSPy8vLqVMH8wYMHmD59OhXLCSGEkG9kZ2eH9evXY8eOHQDer9AqLi6Gr68v+vfvzzhdzTx8+BC+vr4ICgqCg4MDEhMT0a5dO9axvkm/fv3g7e0t0QVzLy8vvHjxAjY2Nnjz5g169OiBevXqYe7cuVQsF6N69epVuwdTcXFxlRUikuZT+6U9e/YMOjo6Mts6khDCDs0wryVPnjyBsrKyVOwST2rGxsbmk+d4PB4iIyNrMQ0h3y8zMxMTJ07EqFGj0K5duyovBczNzRklEx9nZ2cMHz4cQ4cOZR2FEEIIkUoPHz6EjY0N5OTkcOfOHVhbW+POnTvQ0tLCxYsXJXr16YsXL+Dv749NmzbBwsICK1euxE8//cQ61ndZtWoVtm7diuzsbNZRvqikpAS3b99GRUUFTE1N6VlZzFxdXREfH4/du3ejU6dOAIBr165h/Pjx6NChA/bu3cs24Gd8ajX7w4cP0bJlS7x+/ZpRMkKIrKIZ5rWkLs28rivOnz/POgIhIvXkyRNkZmZi7NixgjEejyfTm34OGDAA8+bNw+3bt2FmZlblJYGjoyOjZIQQQoh0aNq0KRITExESEoL4+HhUVFTAw8MDLi4uUFZWZh3vk1atWoWVK1fihx9+QEhICAYNGsQ60lextLQU2nuF4zgUFBTgyZMn2Lp1K8NkNaeiogJra2vWMeqMjRs3YsyYMejSpYvgnresrAyOjo7YsGED43TV27hxI4D3zyS7du0SeqlSXl6OixcvwsTEhFU8QogMoxnmhBBCAACmpqZo06YNvLy8qt30U09Pj1Ey8eHz+Z88J6svCQghhBDy/h5AWVkZtra2kJOT++R1YWFhtZiq5hYvXix0zOfzoa2tjV69eklkAdHZ2Rl79+6Furo6nJ2dP3utpH7NASAvLw88Hg/NmzcHAMTGxuKff/6Bqamp1GwEeufOHaSlpYHjOJiamsLIyIh1pE8yMDAAAOTk5KB58+ZCf1cVFRWhr68PPz8//Pjjj6wiEkJkFM0wJ+Q7XL9+HQcPHkRubi7evXsndE6Sb/S+RWlpKezt7bF9+3a0bt2adRwiBjk5OTh69KhE3zSLWkVFBesIhBBCiFQ7evRoteM8Hg9KSkowMjISFL0kiaura5XJAdLE19eXdYSvoqGhIfh6a2hoME7z7UaOHAlPT0+MHj0aBQUFsLOzQ9u2bfH333+joKAACxcuZB3xi1q1aoVWrVqxjlEjWVlZAN63Qw0LC0PDhg0ZJyKE1BU0w5yIxYoVKzBx4kQ0aNCAdRSxCQ0NhaurK+zt7XHmzBnY29vjzp07KCgowODBgyV6o51vpa2tjZiYGKm5wSJfZ+DAgXBzc8OQIUNYR2HizZs3UFJSYh2DEEJIHfGlWbYfkuSJGHw+X9DC7UMftnXr3r07wsPDqdj1nYqKimp8rbq6uhiT1F0NGzbE1atXYWxsjI0bN2L//v2Ijo5GREQEJk6ciHv37rGOKGT27Nk1vnbdunViTEIIIdKFZpjXkrpWiPH398fQoUNlumDu7++PgIAATJkyBWpqatiwYQMMDAwwYcIENGnShHU8sXB1dcXu3buxYsUK1lFqhSwsufwaAwcOxKxZs3Dz5s0608+7vLwc/v7+2LZtGx49eoSMjAwYGhrCx8cH+vr68PDwYB2REEKIjPpwli3HcThy5Ag0NDQEPZ3j4uJQWFj4VYV1Fs6cOYPff/8dy5YtE2wkGBsbiz/++AM+Pj7Q0NDAhAkTMHfuXOzevZtxWunWoEGDL86Kl+W9ZyRBaWkp6tWrBwA4e/as4P7YxMQE+fn5LKNVKyEhoUbXSfNqC0IIEQeaYS5GFRUVWLZsWZ0sxKipqSEpKQmGhoaso4hN/fr1cevWLejr60NLSwvnz5+HmZkZUlNT0bt3b4m8Yfpe06ZNQ3BwMIyMjGBtbY369esLnZe1WQk//fST0JJLY2NjtG3bFhkZGZg+fbpULLn8GnWxn7efnx+CgoLg5+eH8ePHIyUlBYaGhjhw4AACAgJw5coV1hEJIYTUAfPnz8fz58+xbds2QY/e8vJyTJ48Gerq6li9ejXjhJ/Wrl077NixA127dhUaj46OhqenJ27duoWzZ8/C3d0dubm5jFLKhqioqBpf27NnTzEm+T4GBgafLdBK2iztD/3444+wsbHBgAEDYG9vj6tXr6J9+/a4evUqfvnlF9y/f591REIIISJAM8zFaOnSpQgKCsKqVaswfvx4wbiZmRkCAgJkumBeF2hqauLly5cAgGbNmiElJQVmZmYoLCxESUkJ43TikZKSAisrKwBARkaG0DlZnJWQkpIimCl14MABtGvXTmjJpawVzOtiP+/g4GDs2LEDffr0wcSJEwXj5ubmSEtLY5iMEEJIXRIYGIjLly8LbWgnJyeH2bNno2vXrhJdMM/MzKy2/Ye6urqg8NmqVSs8ffq0tqPJHEkugn+NmTNnCh2XlpYiISEBp06dwrx589iEqqGVK1di8ODBWL16NcaMGYP27dsDeN/Lv/K5QRp8vJKWEEKIMCqYi1FdLsTcvn0bTZs2ZR1DrH766SecOXMGZmZmGDp0KGbMmIHIyEicOXMGffr0YR1PLM6fP886Qq2StiWX5Os9ePCg2k1OKyoqUFpayiARIYSQuqisrAypqakwNjYWGk9NTZX4F9odOnTAvHnzEBwcDG1tbQDAkydP4OXlhY4dOwIA7ty5Q4U5ESkpKcG8efMQHh6O0tJS2NraYuPGjdDS0mIdrcZmzJhR7fiWLVtw48aNWk7zdXr16oWnT5+iqKhIqCe/p6cnVFRUGCb7srKyMixevBgbN25EcXExAEBVVRXTpk2Dr69vlXaMhBBSl1HBXIzqciFGV1eXdQSx27x5M968eQMA8Pb2hoKCAi5fvgxnZ2f4+PgwTkdEoW3btti2bRsGDBiAM2fOYMmSJQCAhw8folGjRozTEVFo27YtLl26BD09PaHxgwcPwtLSklEqQgghdc3YsWPh7u6Ou3fvonPnzgCAq1evYsWKFRg7dizjdJ+3e/duDBo0CM2bN4euri54PB5yc3NhaGiI//3vfwCA4uJiuj8WEV9fX+zduxcuLi5QUlJCSEgIJk2ahIMHD7KO9t369esHb29v7Nmzh3WUz5KTk0NpaSkuXboEHo+H1q1bQ19fn3WsL5o6dSqOHDmCVatWoUuXLgCAK1euYNGiRXj69Cm2bdvGOGHNmJmZ4eTJk3Wi5kAIYYcK5mJEhRjZpqmpKfg1n8+Hl5cXvLy8GCaqHdevX8fBgweRm5uLd+/eCZ0LCwtjlEo8ZGXJJfk0X19fjB49Gg8ePEBFRQXCwsKQnp6O4OBgHD9+nHU8QgghdcSaNWvwww8/ICAgQLCKrUmTJvDy8sKcOXMYp/s8Y2NjpKam4vTp08jIyADHcTAxMYGdnZ1gfxQnJye2IWVIWFgYdu/ejeHDhwMARo0ahW7duqG8vFyopY80OnTokNAzliQqKirClClTEBoaKtjfR05ODsOGDcOWLVuENvOVNCEhIQgNDUW/fv0EY+bm5mjRogWGDx8uNQXz7OxsmZ+ASAhhjwrmYkSFGNlXXl6OI0eOIDU1FTweD23atMGgQYMgLy+bf7VCQ0Ph6uoKe3t7nDlzBvb29rhz5w4KCgowePBg1vFETpqXXJKaGThwIPbv3w9/f3/weDwsXLgQVlZWOHbsGOzs7FjHI4QQUgeUlZVh3759cHV1hZeXF4qKigCg2r7gkorH46Fv377o27cv6ygyLy8vDz/99JPguFOnTpCXl8fDhw+lZsatpaWl0P5HHMehoKAAT548wdatWxkm+7Jx48YhMTERx48fR5cuXcDj8RATE4MZM2Zg/PjxOHDgAOuIn6SkpFTtTHh9fX0oKirWfiBCCJFgPI7jONYhZNnp06fh7++PuLg4VFRUwMrKCgsXLoS9vT3raOQ7paSkYNCgQSgoKBD0m8zIyIC2tjaOHj0KMzMzxglFz9zcHBMmTMCUKVOgpqaGpKQkGBgYYMKECWjSpAkWL17MOiIhhBBCiNRRUVFBampqlZWpkmrjxo3w9PSEkpISNm7c+Nlrp0+fXkup6gY5OTkUFBQI+sUDgJqaGpKTk2FgYMAwWc19/MzA5/Ohra2NXr16wcTEhFGqmqlfvz5Onz6N7t27C41funQJffv2xatXrxgl+zI/Pz+kpaVhz549gn2a3r59Cw8PD7Rq1Qq+vr6ME9ZM//79sXv3bjRp0oR1FEKIDKOCuZiUlZVh2bJlcHd3l5o3/aJWXl6OmzdvQk9PT2h2rqzo3LkzdHR0EBQUJPj8/vvvP7i5ueHx48e4cuUK44SiV79+fdy6dQv6+vrQ0tLC+fPnYWZmhtTUVPTu3VvmNsJ89OgR5s6di3PnzuHx48f4+J/LymWYsiI+Ph4KCgqClz3/+9//sGfPHpiammLRokU084QQQggRExsbG8yYMUNqWpcYGBjgxo0baNSo0WeLtDweD/fu3avFZLKPz+ejX79+goInABw7dgy9e/dG/fr1BWOy1ipRUrRo0QInTpyoMjkqOTkZ/fv3x/379xklq56zs7PQ8dmzZ1GvXj1Bq8mkpCS8e/cOffr0oT8zhBDyAdnsGyEB5OXlBX2P64qZM2fCzMwMHh4eKC8vR8+ePRETEwMVFRUcP34cvXr1Yh1RpJKSknDjxg2hlwENGzbEsmXL0LFjR4bJxEdTUxMvX74EADRr1gwpKSkwMzNDYWEhSkpKGKcTPTc3N+Tm5sLHxwdNmjQRWjoqiyZMmIAFCxbAzMwM9+7dw/DhwzF48GAcPHgQJSUlWL9+PeuIhBBCiEyaPHky5syZg/v376NDhw5ChU/g/So/SZKVlVXtr4n4Vfd8OWrUKAZJvk5lq6GakOR2RH/88Qdmz56N4OBgwQzngoICzJs3TyI3tv24p/qQIUOEjuvq5D5CCPkSmmEuRk5OTnBycoKbmxvrKLWiefPmCA8Ph7W1NcLDwzFlyhScP38ewcHBOH/+PKKjo1lHFCkLCwusW7cOvXv3FhqPjIzEjBkzcPPmTUbJxGfkyJGwtrbG7NmzsWzZMmzYsAGDBg3CmTNnYGVlJXOzEtTU1HDp0iVYWFiwjlIrNDQ0EB8fj5YtW2LlypWIjIzE6dOnER0djeHDhyMvL491REIIIUQmVW6O+SEejweO48Dj8aRiVdu7d++QlZWFli1byux+PuTb8fn8L04+kYY/75aWlrh79y7evn2LFi1aAAByc3NRr149tGrVSuja+Ph4FhEJIYSIAN3JiFG/fv3g7e2NlJSUameKODo6MkomHk+fPsUPP/wAADh58iR+/fVXtG7dGh4eHl/sbSiN/P39MX36dCxatAidO3cGAFy9ehV+fn5YuXKl0CwKSZ4l8TU2b96MN2/eAAC8vb2hoKCAy5cvw9nZWSJnVHwvXV3dKm1YZBnHcaioqADwfrnmzz//DOD91+Hp06csoxFCCCEyTZpnaZeUlGDatGkICgoC8H5PH0NDQ0yfPh1NmzbFggULGCckkuD8+fOsI4iEtLRN+pSysjJcuHABmZmZGDlyJNTU1PDw4UOoq6tDVVWVdTxCCJEYNMNcjKqbKVJJ0t+cfws9PT3s3LkTffr0gYGBAbZu3Yqff/4Zt27dQvfu3fHff/+xjihSH35/K2dLVP51+vBYFr/XdUVERATWrl2L7du3V7ujvKzp3bs3dHV1YWtrCw8PD9y+fRtGRkaIiorCmDFjkJ2dzTqiWEVHR8Pa2lqoJyghhBBCPm/GjBmIjo7G+vXr0bdvXyQnJ8PQ0BBHjx6Fr68vEhISWEckpE4qKSmBioqK4DgnJwd9+/ZFbm4u3r59K3i5NXPmTLx58wbbtm1jmJYQQiQLzTAXo8qZmnXF2LFjMXToUEGvZzs7OwDAtWvXJH63828hK7MkvlZ5eTmOHDmC1NRU8Hg8tGnTBoMGDZLJpbfDhg1DSUkJWrZsCRUVFSgoKAidf/78OaNk4rF+/Xq4uLggPDwcv//+O4yMjAAAhw4dQteuXRmnE79+/fohMTERhoaGrKMQQgipo27fvo3c3Fy8e/dOaFySV6aGh4dj//796Ny5s1DLDVNTU2RmZjJMRiRNSUkJ5s2bh/DwcJSWlsLW1hYbN26ElpYW62jfpLi4uMozvyStLA4ICICWlhYmTJgA4P3LLWtrayQlJaFRo0aC6wYPHoxx48axilkjhoaGuH79ulBuACgsLISVlRVtLkwIETnZq3BJkODgYAwbNqzKbMV3794hNDQUrq6ujJKJx6JFi9CuXTvk5eXh119/FXzecnJyMrkUs2fPnqwj1LqUlBQMGjQIBQUFMDY2BvB+2a22tjaOHj1aZbd4aVfXNrk0Nzevtvf+6tWrIScnxyBR7aIFV4QQQli5d+8eBg8ejJs3bwp6lwP/t2pRklcrPnnyBDo6OlXGX716JfMbppOv4+vri71798LFxQVKSkoICQnBpEmTcPDgQdbRaiwrKwtTp07FhQsXBK0qAclcWTxq1CgMHToUDx48gJ+fHy5fvozo6GgoKioKXaenp4cHDx4wSlkz2dnZ1X5t3759K/HZCSHSiQrmYjR27Fj07du3yg3ky5cvMXbsWJkrmAPAL7/8AgBCNw/V7eROpNO4cePQtm1b3LhxAw0bNgQA/Pfff3Bzc4OnpyeuXLnCOKFo1dU/u+/evcPjx4+rzJip3NiIEEIIIaI1Y8YMGBgY4OzZszA0NERsbCyePXuGOXPmYM2aNazjfVbHjh1x4sQJTJs2DcD/Ffl37tyJLl26sIxGJExYWBh2796N4cOHA3hf0O3WrRvKy8ulZnKGi4sLACAwMBCNGzeW6JdCenp6uHTpEubOnQvg/Qr46orO9+/fh5qaWm3Hq5GjR48Kfn369GloaGgIjsvLy3Hu3Lk60TqTEFL7qIe5GPH5fDx69Aja2tpC40lJSbCxsZG5dg7l5eXw9/fHtm3b8OjRI0FPNB8fH+jr68PDw4N1RPKdlJWVcePGDbRt21ZoPCUlBR07dsTr168ZJRO/169fo7S0VGhMkpZcikJGRgY8PDwQExMjNC6JM2bEQU1NDUlJSdSShRBCSK3T0tJCZGQkzM3NoaGhgdjYWBgbGyMyMhJz5syR6D7gMTEx6Nu3L1xcXLB3715MmDABt27dwpUrVxAVFYUOHTqwjkgkhKKiIrKystCsWTPBmLKyMjIyMqCrq8swWc2pqqoiLi5OsNpWmgwbNgwaGhrYsWMH1NTUkJycDG1tbQwaNAgtWrTAnj17WEes4nP7wikoKEBfXx9r167Fzz//XIupCCF1Ac0wFwNLS0vweDzweDz06dNHqLdzeXk5srKy0LdvX4YJxWPZsmUICgrCqlWrMH78eMG4mZkZAgICqGAuA4yNjfHo0aMqBfPHjx8L+l3LklevXmH+/Pk4cOAAnj17VuW8rBWQx44dC3l5eRw/flywFwEhhBBCxK+8vByqqqoA3hfPHz58CGNjY+jp6SE9PZ1xus/r2rUroqOjsWbNGrRs2RIRERGwsrLClStXZK5dH/k+5eXlVdqByMvLo6ysjFGir9exY0fk5eVJZcE8ICAANjY2MDU1xZs3bzBy5EjcuXMHWlpaCAkJYR2vWpUrXg0MDHDjxo0qPcwJIURcqGAuBk5OTgCAxMREODg4CG5+gfdv1fX19TFkyBBG6cQnODgYO3bsQJ8+fTBx4kTBuLm5OdLS0hgmI6Li7++P6dOnY9GiRejcuTMA4OrVq/Dz88PKlStRVFQkuFYWZl97eXnh/Pnz2Lp1K1xdXbFlyxY8ePAA27dvx4oVK1jHE7nExETExcXJ5Ca9NbF9+3Y0btyYdQxCCCF1ULt27ZCcnAxDQ0P8+OOPWLVqFRQVFbFjxw6pWPlkZmaGoKAg1jGIhOM4Dm5ubkJ7fL158wYTJ05E/fr1BWNhYWEs4tXIrl27MHHiRDx48ADt2rWDgoKC0Hlzc3NGyb6sadOmSExMRGhoKOLi4lBRUQEPDw+4uLhAWVmZdbxPKi0thb6+Pp49e0YFc0JIraGWLGIUFBSEYcOGQUlJiXWUWqGsrIy0tDTo6ekJtTa4ffs2OnXqhOLiYtYRxWbFihWYOHEiGjRowDqKWH24JK5y9vHHm1LJUvuOFi1aIDg4GL169YK6ujri4+NhZGSEv/76CyEhITh58iTriCLVsWNHBAQEoHv37qyjEEIIIXXK6dOn8erVKzg7O+PevXv4+eefkZaWhkaNGmH//v3o3bs364iEfLexY8fW6DpJbA1S6erVqxg5ciSys7MFY5Ub9crKM5Ak0tbWRkxMDFq1asU6CiGkjqCCOREZa2trzJw5E6NGjRIqmC9evBhnz57FpUuXWEcUG3V1dSQmJkrFDKDvERUVVeNre/bsKcYktUNVVRW3bt2Cnp4emjdvjrCwMHTq1AlZWVkwMzOTuZdAkZGR+OOPP+Dv7w8zM7MqM2ZkYdUAIYQQIi2eP3+Ohg0bSmyLND6f/8VsPB5PqtptEPIlpqamaNOmDby8vKrd9FNPT49RMtk2Z84cKCgoyOQqX0KIZKKWLGL0pZtIWXv77Ovri9GjR+PBgweoqKhAWFgY0tPTERwcjOPHj7OOJ1Z15b2TLBTBv4ahoSGys7Ohp6cHU1NTHDhwAJ06dcKxY8dkcjWBra0tAKBPnz5C4zRjhhBCCKl9mpqarCN81pEjRz55LiYmBps2baoz98ik7sjJycHRo0dlcv8mSfbu3Tvs2rULZ86cgbW1tVALHwBYt24do2SEEFlFBXMxCgsLEyqYl5aWIiEhAUFBQVi8eDHDZOIxcOBA7N+/H/7+/uDxeFi4cCGsrKxw7Ngx2NnZsY5HyFcbO3YskpKS0LNnT3h7e2PAgAHYtGkTysrKZPKm7Pz586wjEEIIIXWGs7Nzja+VxJ7OgwYNqjKWlpYGb29vHDt2DC4uLliyZAmDZISIT+/evZGUlEQF81qWkpICKysrAEBGRobQOUldhUMIkW7UkoWBf/75B/v378f//vc/1lGIiNSVlix1XU5ODuLi4tCyZUu0b9+edRxCCCGESLGa9nMGJLunMwA8fPgQvr6+CAoKgoODA5YvX4527dqxjkWIyO3YsQNLly6Fu7t7tS0MHR0dGSUjhBAiSlQwZyAzMxPm5uZ49eoV6yhERD7s2U6INCssLMTu3buRmpoKHo8HU1NTuLu7Q0NDg3U0sQgKCoKWlhYGDBgAAPDy8sKOHTtgamqKkJAQ6kNJCCGEfMaLFy/g7++PTZs2wcLCAitXrsRPP/3EOhYhYsPn8z95TtJbGObl5YHH46F58+YAgNjYWPzzzz8wNTWFp6cn43Q1d//+ffB4PDRr1ox1FEKIDPv0v/ZELF6/fo1NmzYJfkhJu4YNG0JTU7NGH7Ls9u3bVFiTIdeuXcO///4rNBYcHAwDAwPo6OjA09MTb9++ZZROfG7cuIGWLVsiICAAz58/x9OnT7Fu3Tq0bNkS8fHxrOOJhb+/P5SVlQEAV65cwebNm7Fq1SpoaWlh1qxZjNMRQgghkmvVqlUwNDTE8ePHERISgpiYGCqWE5lXUVHxyQ9JLpYDwMiRIwUtGAsKCmBnZ4fY2Fj89ttv8PPzY5zu8yoqKuDn5wcNDQ3o6emhRYsWaNCgAZYsWYKKigrW8QghMohmmIvRx7vacxyHly9fQkVFBX///bdMLNcKCgqq8bVjxowRYxJS21asWIGJEyfK5OaX/fr1Q69evTB//nwAwM2bN2FlZQU3Nze0adMGq1evxoQJE7Bo0SK2QUXsp59+gpGREXbu3Al5+fdbXJSVlWHcuHG4d+8eLl68yDih6KmoqCAtLQ0tWrTA/PnzkZ+fj+DgYNy6dQu9evXCkydPWEckhBAioywtLWvce1cSX1zz+XwoKyvD1tYWcnJyn7xOEvuvEyIKb968gZKSEusYNdawYUNcvXoVxsbG2LhxI/bv34/o6GhERERg4sSJuHfvHuuIn+Tt7Y3du3dj8eLF6NatGziOQ3R0NBYtWoTx48dj2bJlrCMSQmQMbfopRuvXrxc65vP50NbWxo8//oiGDRuyCSViVASvu/z9/TF06FCZLJgnJiYKbVIVGhqKH3/8ETt37gQA6OrqwtfXV+YK5jdu3BAqlgOAvLw8vLy8YG1tzTCZ+KiqquLZs2do0aIFIiIiBLPKlZSU8Pr1a8bpCCGEyDInJyfWEb6Lq6srbbZH6pzy8nL4+/tj27ZtePToETIyMmBoaAgfHx/o6+vDw8ODdcRPKi0tRb169QAAZ8+eFUzgMzExQX5+PstoXxQUFIRdu3YJTTps3749mjVrhsmTJ1PBnBAiclQwF6PPFZMTExNhYWFRe2FqQW5u7mfPt2jRopaSkNogy4tT/vvvPzRu3FhwHBUVhb59+wqOO3bsiLy8PBbRxEpdXR25ubkwMTERGs/Ly4OamhqjVOJlZ2eHcePGwdLSEhkZGYJe5rdu3YK+vj7bcIQQQmSar68v6wjfZe/evawjEFLrli1bhqCgIKxatQrjx48XjJuZmSEgIECiC+Zt27bFtm3bMGDAAJw5c0YwQejhw4do1KgR43Sf9/z58yrPKMD7Yv/z588ZJCKEyDrqYV6LXrx4ga1bt8LKygodOnRgHUfk9PX1YWBg8MkPQqRF48aNkZWVBQB49+4d4uPj0aVLF8H5ly9fQkFBgVU8sRk2bBg8PDywf/9+5OXl4f79+wgNDcW4ceMwYsQI1vHEYsuWLejSpQuePHmCw4cPCx4W4uLiZPZzJoQQQggh3yY4OBg7duyAi4uLUCsic3NzpKWlMUz2ZStXrsT27dvRq1cvjBgxAu3btwcAHD16FJ06dWKc7vPat2+PzZs3VxnfvHmz4PMghBBRohnmtSAyMhKBgYEICwuDnp4ehgwZgt27d7OOJXIJCQlCx6WlpUhISMC6devqxBKp8vJy3Lx5E3p6ejLTcudzZHkJbt++fbFgwQKsXLkS4eHhUFFREdrEKjk5GS1btmSYUDzWrFkDHo8HV1dXlJWVAQAUFBQwadIkrFixgnE68WjQoEG1N9+LFy9mkIYQQkhdoqmpiYyMDGhpaVXZ++hjNIOSEMnw4MEDGBkZVRmvqKhAaWkpg0Q116tXLzx9+hRFRUVCz6uenp5QUVFhmOzLVq1ahQEDBuDs2bPo0qULeDweYmJikJeXh5MnT7KORwiRQVQwF5P79+9j7969CAwMxKtXrzB06FCUlpbi8OHDMDU1ZR1PLKp7s2ttbY2mTZti9erVcHZ2ZpBKfGbOnAkzMzN4eHigvLwcPXv2RExMDFRUVHD8+HH06tWLdUSxkuWWLEuXLoWzszN69uwJVVVVBAUFQVFRUXA+MDAQ9vb2DBOKh6KiIjZs2IDly5cjMzMTHMfByMhI4m+gv8eXNjLt0aNHLSUhhBBS1wQEBAhann289xEhRDK1bdsWly5dgp6entD4wYMHYWlpyShVzcnJyaG0tBSXLl0Cj8dD69atpaINYc+ePZGRkYEtW7YgLS0NHMfB2dkZkydPRtOmTVnHI4TIIB4ny1UvRvr374/Lly/j559/houLC/r27Qs5OTkoKCggKSlJZgvmn3Lnzh1YWFjg1atXrKOIVPPmzREeHg5ra2uEh4djypQpOH/+PIKDg3H+/HlER0ezjihWeXl5aNq0qdBSRFnz4sULqKqqVvkcnz9/DlVVVaEiOpFOfH7VzmQfzvArLy+vzTiEEEIIIUQCubu7Y8OGDbhw4QJGjx4Nb29v+Pn5YfHixUhPT0dwcDCOHz8OOzs71lE/qaioCFOmTEFoaKjgHldOTg7Dhg3Dli1boKGhwTihMGdnZ+zduxfq6uoIDg7GsGHDBJuWEkKIuFHBXAzk5eUxffp0TJo0Ca1atRKMy3rBvKioSOiY4zjk5+dj0aJFSEtLQ2JiIptgYqKkpIS7d++iefPmgmVs69evR1ZWFtq3b1/l60GIJPrwRvRLq0DCwsJqKVXtefHihdBxZSspHx8fLFu2DH369GGUjBBCSF2Sm5v72fMtWrSopSSEkOrIyckhPz8fOjo6OH36NPz9/REXF4eKigpYWVlh4cKFEr8CdejQoUhMTMSmTZuE2prMmDED5ubmOHDgAOuIQhQVFZGTk4MmTZoIff0JIaQ2UEsWMbh06RICAwNhbW0NExMTjB49GsOGDWMdS+waNGhQpfcix3HQ1dVFaGgoo1Ti07hxY9y+fRtNmjTBqVOnsHXrVgBASUmJTM+6JrJFQ0ND8PdW0maV1IbqPmc7OzvUq1cPs2bNQlxcHINUhBBC6hp9ff3P9jCnFU+EsPXhPEMHBwc4ODgwTPNtTpw4gdOnT6N79+6CMQcHB+zcuRN9+/ZlmKx6JiYm8Pb2ho2NDTiOw4EDB6Curl7tta6urrWcjhAi62iGuRiVlJQgNDQUgYGBiI2NRXl5OdatWwd3d3dBv0JZcuHCBaEbfT6fD21tbRgZGUFeXvbezSxatAjr169HkyZNUFJSgoyMDNSrVw+BgYHYuXMnrly5wjoiIeQbpaamomPHjiguLmYdhRBCSB2QlJQkdFy54mndunVYtmyZzO0FRIi04fP5ePToEbS1tVlH+WYtWrTAiRMnYGZmJjSenJyM/v374/79+4ySVS8mJgazZ89GZmYmnj9/DjU1tWpfLPJ4PNoYmRAiclQwryXp6enYvXs3/vrrLxQWFsLOzg5Hjx5lHYt8p0OHDiEvLw+//vormjdvDgAICgpCgwYNMGjQIMbpCPk6r1+/Bsdxgk0+c3JycOTIEZiamkr8EtNvlZycLHRc2UpqxYoVKC0tlfm9CAghhEi2EydOYPXq1bhw4QLrKITUaXw+X2hl5qdIcuF2x44dOHjwIIKDg9GkSRMAQEFBAcaMGQNnZ2dMmDCBccJP4/P5KCgooJYshJBaQwXzWlZeXo5jx44hMDBQ5grmy5cvR+PGjeHu7i40HhgYiCdPnmD+/PmMkonfmzdvoKSkxDpGrSsvL8fNmzehp6eHhg0bso5DvpO9vT2cnZ0xceJEFBYWwtjYGIqKinj69CnWrVuHSZMmsY4ocnw+HzweDx//KOzcuTMCAwNhYmLCKBkhhBAC3LlzBxYWFnj16hXrKITUaXw+H+vXr/9iC8MxY8bUUqKvZ2lpibt37+Lt27eCfRFyc3NRr149ob3XACA+Pp5FxE/KyclBixYtvvjCghBCRIUK5kRk9PX18c8//6Br165C49euXcPw4cORlZXFKJl4lJeXw9/fH9u2bcOjR4+QkZEBQ0ND+Pj4QF9fHx4eHqwjitzMmTNhZmYGDw8PlJeXo2fPnoiJiYGKigqOHz+OXr16sY5IvoOWlhaioqLQtm1b7Nq1C5s2bUJCQgIOHz6MhQsXIjU1lXVEkcvJyRE6rmwlVRdfgBFCCGHn483iK1c8LVq0CGlpaUhMTGQTjBACQDZmOC9evLjG1/r6+ooxCSGESD7ZayxNmCkoKBAs7fqQtrY28vPzGSQSr2XLliEoKAirVq3C+PHjBeNmZmYICAiQyYL5oUOHMGrUKADAsWPHkJWVhbS0NAQHB+P333+n9hVSrqSkRLC/QkREBJydncHn89G5c+cqhWVZoaenxzoCIYQQggYNGlSZOclxHHR1dREaGsooFSGkkizMbKYiOCGE1BwVzInI6OrqIjo6GgYGBkLj0dHRaNq0KaNU4hMcHIwdO3agT58+mDhxomDc3NwcaWlpDJOJz9OnT/HDDz8AAE6ePIlff/0VrVu3hoeHBzZu3Mg4HfleRkZGCA8Px+DBg3H69GnMmjULAPD48eNP7kgvjb7mz+r06dPFmIQQQgh57/z580LHlSuejIyMIC9Pj2yEsCZrC/OLi4tRUVEhNCZL9/uEEPK96O6LiMy4ceMwc+ZMlJaWonfv3gCAc+fOwcvLC3PmzGGcTvQePHgAIyOjKuMVFRUoLS1lkEj8GjdujNu3b6NJkyY4deoUtm7dCuD9zGQ5OTnG6cj3WrhwIUaOHIlZs2ahT58+6NKlC4D3s80tLS0ZpxOdgICAGl3H4/GoYE4IIaRW9OzZk3UEQshnfFxclkZZWVmYOnUqLly4gDdv3gjGOY4Dj8dDeXk5w3SEECJZqGBORMbLywvPnz/H5MmT8e7dOwCAkpIS5s+fD29vb8bpRK9t27a4dOlSlZYOBw8elKni4ofGjh2LoUOHokmTJuDxeLCzswPwvk89bY4o/X755Rd0794d+fn5aN++vWC8T58+GDx4MMNkoiVr+ykQQgiRDZmZmVi/fj1SU1PB4/HQpk0bzJgxAy1btmQdjRAiA1xcXAAAgYGBaNy4sVS1menduzfCwsLQoEEDofGioiI4OTkhMjKSTTBCiMyiTT+JyBUXFyM1NRXKyspo1aoV6tWrxzqSWBw7dgyjR4+Gt7c3/Pz8sHjxYqSnpyM4OBjHjx8XFJNlzaFDh5CXl4dff/0VzZs3BwAEBQWhQYMGGDRoEON0hHy7yh+H0vTwQAghRDacPn0ajo6OsLCwQLdu3cBxHGJiYpCUlIRjx47J7H0lIaT2qKqqIi4uDsbGxqyjfLVPbbr6+PFjNGvWTGZXeBNC2KGCOSHf4fTp0/D390dcXBwqKipgZWWFhQsXwt7ennU0sXvz5g2UlJRYxyDfydnZGXv37oW6ujqcnZ0/e21YWFgtpapdu3fvRkBAAO7cuQMAaNWqFWbOnIlx48YxTkYIIaSusLS0hIODA1asWCE0vmDBAkRERCA+Pp5RMkKIrLCxscHvv/8OW1tb1lFqLDk5GQBgYWGByMhIaGpqCs6Vl5fj1KlT2L59O7KzsxklJITIKmrJQr5LXS+2OTg4wMHBgXWMWlNeXg5/f39s27YNjx49QkZGBgwNDeHj4wN9fX14eHiwjki+koaGhmBGtYaGBuM0tc/HxwcBAQGYNm2aoGf7lStXMGvWLGRnZ2Pp0qWMExJCCKkLUlNTceDAgSrj7u7uWL9+fe0HIoTInF27dmHixIl48OAB2rVrBwUFBaHz5ubmjJJ9moWFBXg8Hng8nmCftA8pKytj06ZNDJIRQmQdFczJd6nrxba6ZtmyZQgKCsKqVaswfvx4wbiZmRkCAgKoYC6F9uzZU+2v64o///wTO3fuxIgRIwRjjo6OMDc3x7Rp06hgTgghpFZoa2sjMTERrVq1EhpPTEys0oKAEEK+xZMnT5CZmYmxY8cKxng8nkRv+pmVlQWO42BoaIjY2Fhoa2sLzikqKkJHRwdycnIMExJCZBUVzMl3qWvFtoYNG9a4v/Hz58/FnKb2BQcHY8eOHejTpw8mTpwoGDc3N0daWhrDZIR8m/LyclhbW1cZ79ChA8rKyhgkIoQQUheNHz8enp6euHfvHrp27Qoej4fLly9j5cqVmDNnDut4hBAZ4O7uDktLS4SEhEjNpp96enoAgIqKCsZJCCF1DRXMCfkKdX1J7IMHD2BkZFRlvKKigjZakVKWlpY1vlmWxf6po0aNwp9//ol169YJje/YsQMuLi6MUhFCCKlrfHx8oKamhrVr18Lb2xsA0LRpUyxatAjTp09nnI4QIgtycnJw9OjRap/npEFGRgYuXLiAx48fVymgL1y4kFEqQoisooI5EZlHjx5h7ty5OHfuHB4/foyP95OVxCVeX2vMmDGsIzDVtm1bXLp0SfCmv9LBgwdhaWnJKBX5Hk5OTqwjMLd7925ERESgc+fOAICrV68iLy8Prq6umD17tuC6j4vqhBBCiCiUlZVh3759GDFiBGbNmoWXL18CANTU1BgnI4TIkt69eyMpKUkqC+Y7d+7EpEmToKWlhR9++EFowg+Px6OCOSFE5KhgTkTGzc0Nubm58PHxQZMmTaRiidf3yM3N/ez5Fi1a1FKS2uPr64vRo0fjwYMHqKioQFhYGNLT0xEcHIzjx4+zjke+ga+vL+sITKWkpMDKygoAkJmZCeB9H1ltbW2kpKQIrpP1f88IIYSwIy8vj0mTJiE1NRUAFcoJIeIxcOBAzJo1Czdv3oSZmVmVTT8dHR0ZJfuypUuXYtmyZZg/fz7rKISQOoLHfTwNmJBvpKamhkuXLsHCwoJ1lFrB5/M/W0SThRn11Tl9+jT8/f0RFxeHiooKWFlZYeHChbC3t2cdjRBCCCFEKtnY2GDGjBm08osQIjZ8Pv+T5yR1089K6urqSExMhKGhIesohJA6gmaYE5HR1dWt0oZFliUkJAgdl5aWIiEhAevWrcOyZcsYpRI/BwcHODg4sI5BRKSub2RLCCGESILJkydjzpw5uH//Pjp06ID69esLnTc3N2eUjBAiK6R548xff/0VERERmDhxIusohJA6gmaYE5GJiIjA2rVrsX37dujr67OOw8yJEyewevVqXLhwgXUUQr4oKCioxtfW9R7+hBBCiLhUN/OTx+OB4ziJn/lJCJE+b968gZKSEusYNbZ8+XKsW7cOAwYMqLadDG2OTAgRNSqYk+/y8ezUV69eoaysDCoqKlV+iNWV2al37tyBhYUFXr16xTqKSNAMZEIIIYQQ8crJyfns+Y83XCeEkK9VXl4Of39/bNu2DY8ePUJGRgYMDQ3h4+MDfX19eHh4sI74SQYGBp88x+PxcO/evVpMQwipC6glC/ku69evZx2BmaKiIqFjjuOQn5+PRYsWoVWrVoxSiV5d/h7XReXl5QgPD0dqaip4PB5MTU3h6OgIOTk51tEIIYQQmUUFcUKIuC1btgxBQUFYtWoVxo8fLxg3MzNDQECARBfMs7KyWEcghNQxNMOckG9U3aafHMdBV1cXoaGh6NKlC6NkhHybu3fvon///njw4AGMjY3BcRwyMjKgq6uLEydOoGXLlqwjitzFixfRtWtXyMsLvz8uKytDTEwMevTowSgZIYSQuuTZs2do1KgRACAvLw87d+7E69ev4ejoiJ9++olxOkKILDAyMsL27dvRp08fqKmpISkpCYaGhkhLS0OXLl3w33//sY74Re/evUNWVhZatmxZ5f6dEEJEiQrmRKQyMzOxZ88eZGZmYsOGDdDR0cGpU6egq6uLtm3bso4nUhcuXBAqmPP5fGhra8PIyEhmf3jn5uZ+9nyLFi1qKQkRh/79+4PjOOzbtw+ampoA3j/Ajxo1Cnw+HydOnGCcUPTk5OSQn58PHR0dofFnz55BR0eHesYSQggRq5s3b2LgwIHIy8tDq1atEBoair59++LVq1fg8/l49eoVDh06BCcnJ9ZRCSFSTllZGWlpadDT0xMqmN++fRudOnVCcXEx64ifVFJSgmnTpgn2X6psJzN9+nQ0bdoUCxYsYJyQECJrqu4uQ0gNpaenCx1HRUXBzMwM165dQ1hYmOAHbnJyMnx9fVlEFKtevXqhZ8+ego+ffvoJJiYmMlssBwB9fX0YGBh88oNIt6ioKKxatUpQLAeARo0aYcWKFYiKimKYTHwqN1P72LNnz1C/fn0GiQghhNQlXl5eMDMzQ1RUFHr16oWff/4Z/fv3x4sXL/Dff/9hwoQJWLFiBeuYhBAZ0LZtW1y6dKnK+MGDB2FpackgUc15e3sjKSkJFy5cENqs1NbWFvv372eYjBAiq2S3skfELiwsDCkpKQgODoacnBwWLFiApUuXYvbs2VBTUxNcZ2Njgw0bNjBMKh7Lly9H48aN4e7uLjQeGBiIJ0+eYP78+YySiU9CQoLQcWlpKRISErBu3TosW7aMUSoiKvXq1cPLly+rjBcXF0NRUZFBIvFxdnYG8H6TIDc3N9SrV09wrry8HMnJyejatSureIQQQuqI69evIzIyEubm5rCwsMCOHTswefJk8Pnv5zVNmzYNnTt3ZpySECLN3N3dsWHDBvj6+mL06NF48OABKioqEBYWhvT0dAQHB+P48eOsY35WeHg49u/fj86dOwtNdjE1NUVmZibDZIQQWUUzzMk3mzt3Lho1agQHBwcA75eUDh48uMp12traePbsWW3HE7vt27fDxMSkynjbtm2xbds2BonEr3379kIf1tbWGD9+PNasWYONGzeyjke+088//wxPT09cu3YNHMeB4zhcvXoVEydOhKOjI+t4IqWhoQENDQ1wHAc1NTXBsYaGBn744Qd4enri77//Zh2TEEKIjHv+/Dl++OEHAICqqirq168vtNKrYcOG1b7MJoSQmgoKCsLr168xcOBA7N+/HydPngSPx8PChQuRmpqKY8eOwc7OjnXMz3ry5EmVFooA8OrVq2pXixJCyPeiGebkmykoKGDjxo0ICwsDADRo0AD5+flVWnMkJCSgWbNmLCKKVUFBAZo0aVJlXFtbG/n5+QwSsdO6dWtcv36ddQzynTZu3IgxY8agS5cuUFBQAPB+80tHR0eZWyWyZ88eAO/bDM2dO5farxBCCGHm42IPFX8IIaL04bZ1Dg4Ogglv0qRjx444ceIEpk2bBuD//p3cuXMnunTpwjIaIURGUcGcfLfK1gYjR47E/PnzcfDgQfB4PFRUVCA6Ohpz586Fq6sr45Sip6uri+jo6CovCKKjo9G0aVNGqcSrqKhI6JjjOOTn52PRokVo1aoVo1REVBo0aID//e9/uHv3LlJTU8FxHExNTWFkZMQ6mtj4+vqirKwMZ8+eRWZmJkaOHAk1NTU8fPgQ6urqUFVVZR2REEKIjPuwNdibN28wceJEwYvct2/fsoxGCJER0v4ibvny5ejbty9u376NsrIybNiwAbdu3cKVK1dkdq8lQghbPO7D142EfIfS0lK4ubkhNDQUHMdBXl4e5eXlGDlyJPbu3Qs5OTnWEUVq5cqVWL16NVavXo3evXsDAM6dOwcvLy/MmTMH3t7ejBOKHp/Pr3KzxXEcdHV1ERoaSm/3idTJyclB3759kZubi7dv3yIjIwOGhoaYOXMm3rx5I7PtlQghhEiGsWPH1ui6ypVRhBDytfh8PjQ0NL5YNH/+/HktJaq5xMREWFhYAHjfAnbNmjWIi4tDRUUFrKysMH/+fJiZmbENSQiRSVQwJyKXmZmJhIQEVFRUwNLSUmZnHnMchwULFmDjxo149+4dAEBJSQnz58/HwoULGacTjwsXLgjdaPH5fGhra8PIyAjy8rRgRdr98ssvsLa2xoIFC4TGV69ejdjYWBw8eJBRMvFxcnKCmpoadu/ejUaNGiEpKQmGhoaIiorCuHHjcOfOHdYRCSGEEEII+WZ8Ph/r16+HhobGZ68bM2ZMLSWqOT6fD0tLS4wbNw4jR4784udACCGiQgVzIjJRUVHo2bMn6xi1rri4GKmpqVBWVkarVq0ES2oJkTba2tqIjIysMkvj5s2bsLW1xaNHjxglEx8tLS1ER0fD2NgYampqgoJ5dnY2TE1NUVJSwjoiIYQQQggh34zP56OgoKDaTTMl3ZUrVxAYGIgDBw6gtLQUQ4YMgbu7O2xsbFhHI4TIOD7rAER22NnZoUWLFliwYAFSUlJYx6k1qqqq6NixI9q1ayfzxfLly5cjMDCwynhgYCBWrlzJIBERpeLiYigqKlYZV1BQqNK/XlZUVFSgvLy8yvj9+/ehpqbGIBEhhBBCCCGiI839y7t06YKdO3eioKAAf/75J/Ly8mBra4uWLVti2bJluH//PuuIhBAZRQVzIjIPHz6El5cXLl26BHNzc5ibm2PVqlUy9UPM2dlZUDh0dnb+7Ics2r59O0xMTKqMt23blno9y4B27dph//79VcZDQ0NhamrKIJH42dnZYf369YJjHo+H4uJi+Pr6on///uyCEUIIIYQQIgKy0FRAWVkZY8aMwYULF5CRkYERI0Zg+/btMDAwoHt2QohYUEsWIhZZWVn4559/EBISgrS0NPTo0QORkZGsY323sWPHYuPGjVBTU/viJk2yuDmTkpISUlNTYWBgIDR+7949mJqa4s2bN4ySEVE4evQohgwZgpEjRwptZBsSEoKDBw/CycmJbUAxePjwIWxsbCAnJ4c7d+7A2toad+7cgZaWFi5evCiVS1cJIYQQQgiRZcXFxdi3bx9+++03FBYWVrtilBBCvgcVzInYlJeX499//4WPjw+Sk5Pph5gMaNWqFXx9fTFq1Cih8b/++gu+vr64d+8eo2REVE6cOAF/f38kJiZCWVkZ5ubm8PX1len9CV6/fo3Q0FDExcWhoqICVlZWcHFxgbKyMutohBBCCCGEkP8vKioKgYGBOHz4MOTk5DB06FB4eHigc+fOrKMRQmQMFcyJyEVHR2Pfvn04dOgQ3rx5A0dHR7i4uKBfv36so5HvtHLlSqxevRqrV68WmoHs5eWFOXPmwNvbm3FCQgghhBBCCCGyIi8vD3v37sXevXuRlZWFrl27wsPDA0OHDkX9+vVZxyOEyCgqmBOR+e233xASEoKHDx/C1tYWLi4ucHJygoqKCutoYvHo0SPMnTsX586dw+PHj6v0hpPFGfUcx2HBggXYuHEj3r17B+B9m5b58+dj4cKFjNMRQgghhBBCCJEVdnZ2OH/+PLS1teHq6gp3d3cYGxuzjkUIqQOoYE5EpmvXrnBxccGwYcOgpaXFOo7Y9evXD7m5uZg6dSqaNGlSZffxQYMGMUomfsXFxUhNTYWysjJatWqFevXqsY5ECCGEEEIIIUSGODo6wsPDAz///DPk5ORYxyGE1CFUMCfkG6mpqeHSpUuwsLBgHYUQQgghhBBCCCGEECIC8qwDECKtdHV1q7RhkUXOzs7Yu3cv1NXV4ezs/Nlrw8LCaikVIYQQQgghhBBCCCGix2cdgBBptX79eixYsADZ2dmso4iVhoaGoN2MhobGZz+I7IiOjsbbt29ZxxC7vLw83L9/X3AcGxuLmTNnYseOHQxTEUIIIYQQQgghhBVqyULIV2jYsKFQr/JXr16hrKwMKioqUFBQELr2+fPntR2PEJFRV1dHYmIiDA0NWUcRq59++gmenp4YPXo0CgoKYGxsjLZt2yIjIwPTp0+nzWwJIYQQQgghhJA6hlqyEPIV1q9fzzoCIbWirrxLTUlJQadOnQAABw4cQLt27RAdHY2IiAhMnDiRCuaEEEIIIbWksLAQGzZsgKenJ5o0acI6DiGEkDqMCuZEZM6ePQtbW9tqz23fvh0TJkyo5USiN2bMGNYRmHr06BHmzp2Lc+fO4fHjx1WKquXl5YySEfJtSktLUa9ePQDv/w1zdHQEAJiYmCA/P59lNEIIIYR8o169esHCwkIw2UVfXx8zZ87EzJkzP/l7Fi1ahPDwcCQmJtZKxrrg4+/Dl7i5ucHExKRGxfKv/W8TQgghX4N6mBORGTBgAObMmYN3794Jxp48eYKBAwfC29ubYTLxyczMxB9//IERI0bg8ePHAIBTp07h1q1bjJOJh5ubG+Lj4+Hj44NDhw4hLCxM6IPIju3bt6Nx48asY4hd27ZtsW3bNly6dAlnzpxB3759AQAPHz5Eo0aNGKcjhBBCpFdBQQGmTZsGQ0ND1KtXD7q6uhg4cCDOnTtX61muX78OT09PwTGPx0N4eLjQNZWTQiTZhQsXwOPxUFhYyDqKyK1duxaqqqpYvnx5ja4PCwvDkiVLxJyKEEJIXUUzzInIXLx4EaNHj8bZs2fxzz//IDs7G+7u7jA1NUVSUhLreN8tPT0dxsbGguOoqCj069cP3bp1w8WLF7Fs2TLo6OggOTkZu3btwqFDhximFY/Lly/j0qVLsLCwYB2FiNnIkSNZR6gVK1euxODBg7F69WqMGTMG7du3BwAcPXpU0KqFEEIIIV8nOzsb3bp1Q4MGDbBq1SqYm5ujtLQUp0+fxpQpU5CWllarebS1tb94jaqqKlRVVWshDanOnDlzanRdaWkpFBQUoKmpKeZEhBBC6jKaYU5E5scff0RCQgLMzc3RoUMHDB48GHPmzEFkZCR0dXVZx/tuYWFhcHFxEbQdWbBgAZYuXYozZ85AUVFRcJ2NjQ2uXLnCKqZY6erq1pne1qRu6NWrF54+fYqnT58iMDBQMO7p6Ylt27YxTEYIIYRIr8mTJ4PH4yE2Nha//PILWrdujbZt22L27Nm4evWq4Lrc3FwMGjQIqqqqUFdXx9ChQ/Ho0SPB+UWLFsHCwgJ//fUX9PX1oaGhgeHDh+Ply5eCa169egVXV1eoqqqiSZMmWLt2bZU8+vr6Qu1ZAGDw4MHg8XiC48r/V6WKigr4+fmhefPmqFevHiwsLHDq1CnB+ezsbPB4PISFhcHGxgYqKipo37690HNATk4OBg4ciIYNG6J+/fpo27YtTp48+cmv299//w1ra2uoqanhhx9+wMiRIwWrWLOzs2FjYwMAaNiwIXg8Htzc3AC8v5+ZNm0aZs6ciYYNG6Jx48bYsWMHXr16hbFjx0JNTQ0tW7bEv//+K/T/i4qKQqdOnVCvXj00adIECxYsQFlZmeD8oUOHYGZmBmVlZTRq1Ai2trZ49eoVgPcrT52cnLB48WLo6OhAXV0dEyZMEFptXPl19PLygqamJn744QcsWrRI6PyLFy/g6ekp+G/07t1baLJV5fclMDBQsFqB4zj06tVLqMXO48ePMXDgQCgrK8PAwAD79u0T+r5Xfr8+bLlTWFgIHo+HCxcuCMZu376N/v37Q1VVFY0bN8bo0aPx9OnTGn1NCCGEyA4qmBORSk9Px/Xr19G8eXPIy8sjLS0NJSUlrGOJxNy5c9GoUSM4ODgAAG7evInBgwdXuU5bWxvPnj2r7Xi1Yv369ViwYAGys7NZRyFEZDiOQ1xcHLZv3y54AFdUVISKigrjZIQQQoj0ef78OU6dOoUpU6agfv36Vc43aNAAwPufv05OTnj+/DmioqJw5swZZGZmYtiwYULXZ2ZmIjw8HMePH8fx48cRFRWFFStWCM7PmzcP58+fx5EjRxAREYELFy4gLi7uk/muX78OANizZw/y8/MFxx/bsGED1q5dizVr1iA5ORkODg5wdHTEnTt3hK77/fffMXfuXCQmJqJ169YYMWKEoOg8ZcoUvH37FhcvXsTNmzexcuXKz85if/fuHZYsWYKkpCSEh4cjKytLUBTX1dXF4cOHAbx/5srPz8eGDRsEvzcoKAhaWlqIjY3FtGnTMGnSJPz666/o2rUr4uPj4eDggNGjRwuezR48eID+/fujY8eOSEpKwp9//ondu3dj6dKlAID8/HyMGDEC7u7uSE1NxYULF+Ds7Cw0eebcuXNITU3F+fPnERISgiNHjmDx4sVCn1NQUBDq16+Pa9euYdWqVfDz88OZM2cAvP8zMGDAABQUFODkyZOIi4uDlZUV+vTpg+fPnwv+G3fv3sWBAwdw+PDhT/aYd3NzQ3Z2NiIjI3Ho0CFs3bpV8LKhpvLz89GzZ09YWFjgxo0bOHXqFB49eoShQ4fW+GtCCCFERnCEiMjy5cs5RUVFburUqdzr16+5lJQUzsLCgjM0NORiYmJYxxOZw4cPcxzHcc2aNeOio6M5juM4VVVVLjMzk+M4jgsLC+MMDQ2Z5RO1Bg0acA0bNhR8KCoqcnw+n1NVVRUab9iwIeuohHy17OxszsTEhFNRUeHk5OQEf49nzJjBTZgwgXE6QgghRPpcu3aNA8CFhYV99rqIiAhOTk6Oy83NFYzdunWLA8DFxsZyHMdxvr6+nIqKCldUVCS4Zt68edyPP/7IcRzHvXz5klNUVORCQ0MF5589e8YpKytzM2bMEIzp6elxAQEBgmMA3JEjR4Ty+Pr6cu3btxccN23alFu2bJnQNR07duQmT57McRzHZWVlcQC4Xbt2VcmfmprKcRzHmZmZcYsWLfrs1+FzYmNjOQDcy5cvOY7juPPnz3MAuP/++0/oup49e3Ldu3cXHJeVlXH169fnRo8eLRjLz8/nAHBXrlzhOI7jfvvtN87Y2JirqKgQXLNlyxZOVVWVKy8v5+Li4jgAXHZ2drXZxowZw2lqanKvXr0SjP3555+C319dLo57/zWcP38+x3Ecd+7cOU5dXZ178+aN0DUtW7bktm/fznHc+++LgoIC9/jx4yqfc+X3OD09nQPAXb16VXA+NTWVAyD4vld+vxISEgTX/PfffxwA7vz58xzHcZyPjw9nb28v9P/Jy8vjAHDp6elf/JoQQgiRHdTDnIjMhg0bEB4ejn79+gF4v5lebGwsfvvtN/Tq1Qtv375lnFA0nJ2dAbzv8Tx//nwcPHgQPB4PFRUViI6Oxty5c+Hq6so4pejQzvNEls2YMQPW1tZISkoS2uRz8ODBGDduHMNkhBBCiHTi/v9sWx6P99nrUlNToaurK9S60dTUFA0aNEBqaio6duwI4H0LFTU1NcE1TZo0EcwczszMxLt379ClSxfBeU1NTaF9h75FUVERHj58iG7dugmNd+vWrcreTObm5kLZgPftQUxMTDB9+nRMmjQJERERsLW1xZAhQ4Su/1hCQgIWLVqExMREPH/+HBUVFQDet64xNTX9bOYP/7tycnJo1KgRzMzMBGOVm7lXfu1SU1PRpUsXoe9Tt27dUFxcjPv376N9+/bo06cPzMzM4ODgAHt7e/zyyy9o2LCh4Pr27dsLrcjr0qULiouLkZeXBz09vSq5Kr9GlRni4uJQXFxcZaP1169fIzMzU3Csp6f32T70qampkJeXh7W1tWDMxMREsJqhpuLi4nD+/PlqVwFkZmbC3t7+i18TQgghsoEK5kRkbt68CS0tLaExBQUFrF69Gj///DOjVOKzbNkyuLm5oVmzZuA4DqampigvL8fIkSPxxx9/sI4nMmPGjGEdgdSSyqW8AwYMAAB4eXlhx44dMDU1RUhIiODBR5ZcvnwZ0dHRQvsQAO8fzB48eMAoFSGEECK9WrVqBR6Ph9TUVDg5OX3yOo7jqi2qfzyuoKAgdL5yokrlteL0cb7qMn+Yr/JcZb5x48bBwcEBJ06cQEREBJYvX461a9di2rRpVf5fr169gr29Pezt7fH3339DW1sbubm5cHBwqNIXvDrVfZ0+l626z+XDlx1ycnI4c+YMYmJiEBERgU2bNuH333/HtWvXYGBg8NksNf3+VVRUoEmTJkI9xCt9WOyurrXPp3J/Cp/PF7oWeL+B6IcqKiowcOBArFy5ssrvb9KkyXd9TQghhEgX6mFORObjYvmHevbsWYtJaoeCggL27duHjIwMHDhwAH///TfS0tLw119/QU5OjnU8scnMzMQff/yBESNGCGaHnDp1Crdu3WKcjHwvf39/KCsrAwCuXLmCzZs3Y9WqVdDS0sKsWbMYpxOPiooKwUa+H7p//77QbDZCCCGE1IympiYcHBywZcuWajdDLCwsBPB+Nnlubi7y8vIE527fvo0XL16gTZs2Nfp/GRkZQUFBQWgj0f/++w8ZGRmf/X0KCgrV/vyvpK6ujqZNm+Ly5ctC4zExMTXOVklXVxcTJ05EWFgY5syZg507d1Z7XVpaGp4+fYoVK1bgp59+gomJSZUe3JUv+D+XvaZMTU0RExMjVECOiYmBmpoamjVrBuB9Abpbt25YvHgxEhISoKioiCNHjgiuT0pKwuvXrwXHV69ehaqqKpo3b16jDFZWVigoKIC8vDyMjIyEPj73bPmxNm3aoKysDDdu3BCMpaenC/6sARDMUM/PzxeMfdwP3crKCrdu3YK+vn6VPJVF+y99TQghhMgGKpgTkbGxsUHv3r0/+SFroqKiAAAtW7bEL7/8gqFDh6JVq1aMU4lWenq60HFUVBTMzMxw7do1hIWFobi4GACQnJwMX19fFhGJCOXl5cHIyAgAEB4ejl9++QWenp5Yvnw5Ll26xDideNjZ2Qm1HeLxeCguLoavry/69+/PLhghhBAixbZu3Yry8nJ06tQJhw8fxp07d5CamoqNGzcK2qfY2trC3NwcLi4uiI+PR2xsLFxdXdGzZ0+h1hqfo6qqCg8PD8ybNw/nzp1DSkoK3NzcBLOJP0VfXx/nzp1DQUEB/vvvv2qvmTdvHlauXIn9+/cjPT0dCxYsQGJiImbMmFHjr8PMmTNx+vRpZGVlIT4+HpGRkZ8suLdo0QKKiorYtGkT7t27h6NHj2LJkiVC1+jp6YHH4+H48eN48uSJ4F78W0yePBl5eXmYNm0a0tLS8L///Q++vr6YPXs2+Hw+rl27Bn9/f9y4cQO5ubkICwvDkydPhPK/e/cOHh4euH37Nv7991/4+vpi6tSpX/z6V7K1tUWXLl3g5OSE06dPIzs7GzExMfjjjz+Eit9fYmxsjL59+2L8+PG4du0a4uLiMG7cOMFEEABQVlZG586dsWLFCty+fRsXL16ssip4ypQpeP78OUaMGIHY2Fjcu3cPERERcHd3R3l5eY2+JoQQQmQDFcyJyFhYWKB9+/aCD1NTU7x79w7x8fFC/fNkhZ2dHVq0aIEFCxYgJSWFdRyxCAsLg4uLi2AWy4IFC7B06VKcOXNGqIWFjY0Nrly5wiomERFVVVU8e/YMAAS9NgFASUlJaPaQLAkICEBUVBRMTU3x5s0bjBw5Evr6+njw4EG1y3EJIcNJKIcAAC2NSURBVIQQ8mUGBgaIj4+HjY0N5syZg3bt2sHOzg7nzp3Dn3/+CeD9S+rw8HA0bNgQPXr0gK2tLQwNDbF///6v+n+tXr0aPXr0gKOjI2xtbdG9e3d06NDhs79n7dq1OHPmDHR1dWFpaVntNdOnT8ecOXMwZ84cmJmZ4dSpUzh69OhXTZApLy/HlClT0KZNG/Tt2xfGxsbYunVrtddqa2tj7969OHjwIExNTbFixQqsWbNG6JpmzZph8eLFWLBgARo3boypU6fWOMvHmjVrhpMnTyI2Nhbt27fHxIkT4eHhISgiq6ur4+LFi+jfvz9at26NP/74A2vXrhXsVwUAffr0QatWrdCjRw8MHToUAwcOxKJFi2qcgcfj4eTJk+jRowfc3d3RunVrDB8+HNnZ2YKe6zW1Z88e6OrqomfPnnB2doanpyd0dHSErgkMDERpaSmsra0xY8YMLF26VOh806ZNER0djfLycjg4OKBdu3aYMWMGNDQ0wOfza/Q1IYQQIht4nLgbv5E6b9GiRSguLq5ywyftnj59itDQUISEhODKlSto164dRo0ahZEjR9Z4GaKkKy0txZw5c3D79m2cPXsWqqqquHnzJgwMDKCmpoakpCQYGhoiOzsbJiYmePPmDevI5Du4uLggLS0NlpaWCAkJQW5uLho1aoSjR4/it99+k9kXQ69fv0ZISAji4+NRUVEBKysruLi4CM1KIoQQQggh/8fNzQ2FhYUIDw9nHeWT9PX1MXPmTMycOZN1FEIIIVKGZpgTsRs1ahQCAwNZxxA5LS0tTJ06FdHR0cjMzMSwYcMQHBwMfX19mWlBo6CggI0bN2Ly5MkA3m++82Hfv0oJCQmCXodEem3ZsgVdunTBkydPcPjwYTRq1AgAEBcXhxEjRjBOJz7Kyspwd3fH5s2bsXXr1ipLeAkhhBBCCCGEEFJ3yLMOQGTflStXoKSkxDqGWBkYGGDBggVo3749fHx8BP3NZYWzszMAYOTIkZg/fz4OHjwo2OE+Ojoac+fOhaurK+OU5Hs1aNAAmzdvrjK+ePFiBmnE5+jRozW+1tHRUYxJCCGEEEIIIYQQImmoJQsRmcqiaiWO45Cfn48bN27Ax8dHZjeFjI6Oxr59+3Do0CG8efMGjo6OcHFxkcledqWlpXBzc0NoaCg4joO8vDzKy8sxcuRI7N27F3Jycqwjku9w8eLFz57v0aNHLSURr5puRMXj8QT9+wkhhBBCCCGEEFI3UMGciMzYsWOFjvl8PrS1tdG7d2/Y29szSiU+v/32G0JCQvDw4UPY2trCxcUFTk5OUFFRYR1N7DIzM5GQkICKigpYWlp+1eZHRHJVV0jm8XiCX1PxmBBCCCGEEEIIIbKOCuaEfKOuXbvCxcUFw4YNg5aWFus4tSIqKgo9e/ZkHYOIyYsXL4SOS0tLkZCQAB8fHyxbtgx9+vRhlIwQQgghhBBCCCGkdlDBnIhUYWEhDh06hMzMTMybNw+ampqIj49H48aNaVNIGaCoqIgffvgBI0eOxKhRo9CuXTvWkUgtuHjxImbNmoW4uDjWUUTOz8/vs+cXLlxYS0kIIYQQQgghhBAiCahgTkQmOTkZffr0QYMGDZCdnY309HQYGhrCx8cHOTk5CA4OZh2RfKenT58iNDQUISEhuHLlCtq1a4dRo0Zh5MiRaN68Oet4RExSU1PRsWNHFBcXs44icpaWlkLHpaWlyMrKgry8PFq2bIn4+HhGyQghhBBCCCGEEMICFcyJyNja2sLKygqrVq2CmpoakpKSYGhoiJiYGIwcORLZ2dmsIxIRysrKwj///IOQkBCkpaWhR48eiIyMZB2LfIfk5GSh48qNe1esWIHS0lJER0czSla7ioqK4ObmhsGDB2P06NGs4xBCCCGEEEIIIaQWUcGciIyGhgbi4+PRsmVLoYJ5Tk4OjI2N8ebNG9YRiYiVl5fj33//hY+PD5KTk2lTSCnH5/PB4/Hw8Y+Fzp07IzAwECYmJoyS1b6UlBT8/PPP9KKPEEIIIYQQQgipY+RZByCyQ0lJCUVFRVXG09PToa2tzSAREZfo6Gjs27cPhw4dwps3b+Do6Ah/f3/Wsch3ysrKEjrm8/nQ1taGkpISo0TsFBYWVtkElRBCCCGEEEIIIbKPCuZEZAYNGgQ/Pz8cOHAAAMDj8ZCbm4sFCxZgyJAhjNOJ3tmzZ2Fra1vtue3bt2PChAm1nEj8fvvtN4SEhODhw4ewtbXF+vXr4eTkBBUVFdbRiAjo6emxjlDrNm7cKHRc2Ybmr7/+Qt++fRmlIoQQQgghhBBCCCvUkoWITFFREfr3749bt27h5cuXaNq0KQoKCtClSxecPHkS9evXZx1RpOrVq4epU6di+fLlUFRUBAA8efIE7u7uiI6OxvPnzxknFL2uXbvCxcUFw4YNg5aWFus4RAQ+Lhh/zvTp08WYhA0DAwOh48pZ9b1794a3tzfU1NQYJSOEEEIIIYQQQggLVDAnIhcZGYn4+HhUVFTAysrqk7Owpd21a9cwevRoKCsr459//kF2djbc3d1hamqK4OBg6Orqso5IyBd9XDD+FB6Ph3v37ok5DSGEEEIIIYQQQghbVDAn5Du8evUKEydOxMGDB1FRUYGlS5di3rx54PF4rKMRQmrgxYsXKC8vh6amptD48+fPIS8vD3V1dUbJCCGEEEIIIYQQwgKfdQAiGyoqKhAYGIiff/4Z7dq1g5mZGRwdHREcHAxZfieTnp6O69evo3nz5pCXl0daWhpKSkpYxyLku3EcJ9N/dysNHz4coaGhVcYPHDiA4cOHM0hECCGEEEIIIYQQlqhgTr4bx3FwdHTEuHHj8ODBA5iZmaFt27bIycmBm5sbBg8ezDqiWKxYsQJdunSBnZ0dUlJScP36dSQkJMDc3BxXrlxhHY+Qb7J79260a9cOSkpKUFJSQrt27bBr1y7WscTm2rVrsLGxqTLeq1cvXLt2jUEiQgghhBBCCCGEsCTPOgCRfnv37sXFixdx7ty5KoWnyMhIODk5ITg4GK6urowSiseGDRsQHh6Ofv36AQDatm2L2NhY/Pbbb+jVqxfevn3LOCEhX8fHxwcBAQGYNm0aunTpAgC4cuUKZs2ahezsbCxdupRxQtF7+/YtysrKqoyXlpbi9evXDBIRQgghhBBCCCGEJephTr6bvb09evfujQULFlR73t/fH1FRUTh9+nQtJxOvp0+fQktLq9pzUVFR6NmzZy0nEr+zZ89+chPX7du3Y8KECbWciIiSlpYWNm3ahBEjRgiNh4SEYNq0aXj69CmjZOLTq1cvmJmZYdOmTULjU6ZMQXJyMi5dusQoGSGEEEIIIYQQQliggjn5bj/88ANOnToFCwuLas8nJCSgX79+KCgoqN1gROTq1auHqVOnYvny5VBUVAQAPHnyBO7u7oiOjsbz588ZJyTfo2HDhoiNjUWrVq2ExjMyMtCpUycUFhayCSZG0dHRsLW1RceOHdGnTx8AwLlz53D9+nVERETgp59+YpyQEEIIIYQQQgghtYkK5uS7KSoqIicnB02aNKn2/MOHD2FgYCBzLUpsbGzA4/E+eT4yMrIW09SOa9euYfTo0VBWVsY///yD7OxsuLu7w9TUFMHBwdDV1WUdkXyHadOmQUFBAevWrRManzt3Ll6/fo0tW7YwSiZeiYmJWL16NRITE6GsrAxzc3N4e3tXeXFACCGEEEIIIYQQ2Uc9zMl3Ky8vh7z8p/8oycnJVdsjWNp9PKO+tLQUiYmJSElJwZgxY9iEErMff/wRCQkJmDhxIjp06ICKigosXboU8+bN++zLAyI9du/ejYiICHTu3BkAcPXqVeTl5cHV1RWzZ88WXPdxUV2aWVhYYN++faxjEEIIIYQQQgghRAJQwZx8N47j4Obmhnr16lV7XtZmllcKCAiodnzRokUoLi6u5TS1Jz09HdevX0fz5s3x8OFDpKWloaSkBPXr12cdjXynlJQUWFlZAQAyMzMBANra2tDW1kZKSorgOml/OVJUVAR1dXXBrz+n8jpCCCGEEEIIIYTUDdSShXy3sWPH1ui6PXv2iDmJZLh79y46deokk/28V6xYAV9fX3h6emL16tXIzMzEqFGjUFRUhL///htdunRhHZGQL5KTk0N+fj50dHTA5/OrfQHAcRx4PB7Ky8sZJCSEEEIIIYQQQggrNMOcfLe6UgivqStXrkBJSYl1DLHYsGEDwsPD0a9fPwBA27ZtERsbi99++w29evWS2dUERLZERkZCU1MTAHD+/HnGaQghhBBCCCGEECJJaIY5Id/I2dlZ6JjjOOTn5+PGjRvw8fGBr68vo2Ti8/TpU2hpaVV7LioqCj179qzlRIQQQgghhBBCCCGEiA4VzAn5Rh+3ouHz+dDW1kbv3r1hb2/PKBUh5GsVFhYiNjYWjx8/RkVFhdA5V1dXRqkIIYQQQgghhBDCAhXMCSE1ZmNj89kNHyMjI2sxDSHf79ixY3BxccGrV6+gpqYm9Oebx+PJ5F4EhBBCCCGEEEII+TQ+6wCESLPCwkLs2rUL3t7egsJafHw8Hjx4wDiZeFhYWKB9+/aCD1NTU7x79w7x8fEwMzNjHY98p4sXL6KsrKzKeFlZGS5evMggkfjNmTMH7u7uePnyJQoLC/Hff/8JPqhYTgghhBBCCCGE1D00w5yQb5ScnIw+ffqgQYMGyM7ORnp6OgwNDeHj44OcnBwEBwezjlhrFi1ahOLiYqxZs4Z1FPId5OTkkJ+fDx0dHaHxZ8+eQUdHB+Xl5YySiU/9+vVx8+ZNGBoaso5CCCGEEEIIIYQQCUAzzAn5RrNnz8bYsWNx584dKCkpCcb79esns7NxP2XUqFEIDAxkHYN8J47jqm258+zZM9SvX59BIvFzcHDAjRs3WMcghBBCCCGEEEKIhJBnHYAQaXX9+nVs3769ynizZs1QUFDAIBE7V65cEXppQKSLs7MzgPc9u93c3FCvXj3BufLyciQnJ6Nr166s4onc0aNHBb8eMGAA5s2bh9u3b8PMzAwKCgpC1zo6OtZ2PEIIIYQQQgghhDBEBXNCvpGSkhKKioqqjKenp0NbW5tBIvGrLKxW4jgO+fn5uHHjBnx8fBilIt9LQ0MDwPvvp5qaGpSVlQXnFBUV0blzZ4wfP55VPJFzcnKqMubn51dljMfjyWQbGkIIIYQQQgghhHwaFcwJ+UaDBg2Cn58fDhw4AOB9cS03NxcLFizAkCFDGKcTj8rCaiU+nw9jY2P4+fnB3t6eUSryvfbs2QMA0NfXx9y5c2W2/UqliooK1hEIIYQQQgghhBAioWjTT0K+UVFREfr3749bt27h5cuXaNq0Kf5fe/ceVHWd/3H89T0QAYJ3wLS8ouYFFHVy1fSnJqFQ3srNRBRNbatdtVwNy8taI5O2Tmy1o5kpuqt46bZablp4JV1NATFDIfMCAuWgpBUYcM7vj13PSOBt13M+JM/HjDPn+/l8zvf7OvwhM+/z4f0pKChQjx49tHnz5tu+6IjbU1lZmXbs2KHjx49r1KhR8vf3V15enmrXri0/Pz/T8VyqpKSE1kIAAAAAANRwFMyB/9G2bduUmpoqu92uLl26aMCAAaYjuVRRUZHeffddHT9+XNOnT1f9+vWVmpqqoKAgNWnSxHQ8/A9OnTqlgQMH6vTp07p06ZKysrLUsmVLTZ06VSUlJVqyZInpiLdceXm54uPjtWTJEn377bfOzzx79mw1b95cTzzxhOmIAAAAAADAjWymAwC/dv3799cf//hHzZgx47YvlmdkZKh169ZasGCB/vznP6uoqEiS9MEHH2jmzJlmw+F/NmXKFHXr1k3nz5+v0Md82LBhSk5ONpjs1lm3bp1Onz7tvJ4/f74SExO1cOFCeXl5OcdDQkK0bNkyExEBAAAAAIBBFMyB/4Ldbtfy5cv10EMPqWPHjgoJCdHgwYO1atUq3c5/tPHcc89p3Lhxys7OrtC6YtCgQdq1a5fBZLgVUlJSNGvWrAqFY0lq1qyZzpw5YyjVreXt7a0+ffro0KFDkqSVK1dq6dKlio6OloeHh3NdaGiojh49aiomAAAAAAAwhII5cJMcDocGDx6sCRMm6MyZMwoJCVGHDh106tQpxcbGatiwYaYjuswXX3yhJ598stJ4kyZNVFBQYCARbiW73a7y8vJK47m5ufL39zeQ6NYbMmSI1q1bp5iYGElSXl6egoODK62z2+0qLS11dzwAAAAAAGAYBXPgJiUmJmrXrl1KTk5WWlqakpKStHbtWh06dEifffaZtm3bplWrVpmO6RLe3t66cOFCpfFjx44pICDAQCLcSuHh4UpISHBeW5alH374QXPnzlVkZKS5YLdY9+7dtXPnTklShw4dtHv37kprNmzYoLCwMHdHAwAAAAAAhnHoJ3CTHnzwQfXv319xcXFVzsfHx2vnzp3asmWLm5O53qRJk3T27FmtX79e9evXV0ZGhjw8PDR06FD16dOnQrEVvz55eXnq16+fPDw8lJ2drW7duik7O1sNGzbUrl27FBgYaDriLbdp0ybFxMRo5syZeumllzRv3jwdO3ZMq1at0kcffaTw8HDTEQEAAAAAgBtRMAduUqNGjfTJJ5+oc+fOVc6npaVp0KBBt2WLkgsXLigyMlJHjhzRxYsX1bhxYxUUFKhHjx7avHmzatWqZToi/kfFxcVau3atDh48KLvdri5duig6OrrCIaC3my1btig+Pr7CZ54zZ44efPBB09EAAAAAAICbUTAHbpKXl5dOnTqlu+66q8r5vLw8tWjRQpcuXXJzMvfZtm2bUlNTncXFAQMGmI4EAAAAAAAA/M8omAM3ycPDQwUFBVft2f3tt9+qcePGVR6eCKB6GTdunEaPHq3+/fvLsizTcQAAAAAAgGGepgMAvzYOh0OxsbG68847q5y/XXeW2+12JSYm6v3339fJkydlWZZatGihRx99VDExMRQb8atUWFioqKgoNWjQQCNHjtTo0aM57BMAAAAAgBqMHebATRo3btwNrVuxYoWLk7iPw+HQww8/rM2bN6tTp06699575XA4lJmZqcOHD2vw4MH68MMPTccE/itFRUVav3691qxZo927d6tt27YaPXq0Ro0apebNm5uOBwAAAAAA3IiCOYDrWrFihaZMmaJ//OMf6tevX4W5bdu2aejQoXrzzTc1ZswYQwmBWyM3N1dJSUlavny5srOzVVZWZjoSAAAAAABwI5vpAACqv6SkJL3wwguViuWS1L9/f8XFxWn16tUGkuFWysnJUW5urvN6//79mjp1qpYuXWowlfuUlpbqwIED2rdvn06ePKmgoCDTkQAAAAAAgJtRMAdwXRkZGRo4cOBV5wcNGqRDhw65MRFcYdSoUdq+fbskqaCgQOHh4dq/f79eeOEFvfTSS4bTuc727ds1ceJEBQUFaezYsfL399emTZuUk5NjOhoAAAAAAHAzCuYAruvcuXPX3G0bFBSk8+fPuzERXOHLL7/UfffdJ0lav369OnbsqD179mjNmjVKTEw0G85F7r77bkVGRurs2bN666239O2332rFihUaMGCAbDZ+RQIAAAAAUNN4mg4AoPorLy+Xp+fV/7vw8PCg1/NtoLS0VHfeeack6bPPPtPgwYMlSffee6/y8/NNRnOZOXPmaMSIEapXr57pKAAAAAAAoBqgYA7guhwOh2JjY53F1F+6dOmSmxPBFTp06KAlS5YoKipKn376qV5++WVJUl5enho0aGA4nWtMmjTJdAQAAAAAAFCNUDAHcF1jx4697poxY8a4IQlcacGCBRo2bJheffVVjR07Vp06dZIkbdy40dmqBQAAAAAA4HZmORwOh+kQAIDqoby8XBcuXKjQouTkyZPy9fVVYGCgwWQAAAAAAACux4lmAAAnh8OhgwcP6q233tLFixclSV5eXvL19TWcDAAAAAAAwPXYYQ4AkCSdOnVKAwcO1OnTp3Xp0iVlZWWpZcuWmjp1qkpKSrRkyRLTEQEAAAAAAFyKHeYAAEnSlClT1K1bN50/f14+Pj7O8WHDhik5OdlgMtdZuXKlPv74Y+f1jBkzVLduXfXs2VOnTp0ymAwAAAAAAJhAwRwAIElKSUnRrFmz5OXlVWG8WbNmOnPmjKFUrhUfH+/8cmDv3r168803tXDhQjVs2FDPPvus4XQAAAAAAMDdPE0HAABUD3a7XeXl5ZXGc3Nz5e/vbyCR6+Xk5Cg4OFiS9OGHH+rRRx/VpEmT1KtXL/Xt29dsOAAAAAAA4HbsMAcASJLCw8OVkJDgvLYsSz/88IPmzp2ryMhIc8FcyM/PT4WFhZKkrVu3asCAAZIkb29vFRcXm4wGAAAAAAAMYIc5AECS9Nprr6lfv35q3769SkpKNGrUKGVnZ6thw4ZKSkoyHc8lwsPDNWHCBIWFhSkrK0tRUVGSpCNHjqh58+ZmwwEAAAAAALezHA6Hw3QIAED1UFxcrKSkJKWmpsput6tLly6Kjo6ucAjo7aSoqEizZs1STk6OnnrqKQ0cOFCSNHfuXHl5eenFF180nBAAAAAAALgTBXMAAAAAAAAAAERLFgCo0TZu3HjDawcPHuzCJO6TkZGhjh07ymazKSMj45prQ0ND3ZQKAAAAAABUB+wwB4AazGa7sbOfLctSeXm5i9O4h81mU0FBgQIDA2Wz2WRZlq78VXj5+nb6zAAAAAAA4MawwxwAajC73W46gtudOHFCAQEBztcAAAAAAACXscMcAAAAAAAAAACxwxwA8B8vvfTSNefnzJnjpiTudfz4cSUkJCgzM1OWZaldu3aaMmWKWrVqZToaAAAAAABwM3aYAwAkSWFhYRWuS0tLdeLECXl6eqpVq1ZKTU01lMx1tmzZosGDB6tz587q1auXHA6H9uzZo0OHDmnTpk0KDw83HREAAAAAALgRBXMAwFVduHBBsbGxGjZsmGJiYkzHueXCwsIUERGhV155pcJ4XFyctm7delt+SQAAAAAAAK6OgjkA4Jq+/PJLPfTQQzp58qTpKLect7e3Dh8+rNatW1cYz8rKUmhoqEpKSgwlAwAAAAAAJthMBwAAVG9FRUX6/vvvTcdwiYCAAKWnp1caT09PV2BgoPsDAQAAAAAAozj0EwAgSXr99dcrXDscDuXn5+tvf/ubBg4caCiVa02cOFGTJk3SN998o549e8qyLKWkpGjBggWaNm2a6XgAAAAAAMDNaMkCAJAktWjRosK1zWZTQECA+vfvr5kzZ8rf399QMtdxOBxKSEjQokWLlJeXJ0lq3Lixpk+frsmTJ8uyLMMJAQAAAACAO1EwBwDUSGVlZVq9erUiIiLUqFEjXbx4UZJuyy8GAAAAAADAjaFgDgCQJH3//fcqLy9X/fr1K4yfO3dOnp6eql27tqFkruPr66vMzEw1a9bMdBQAAAAAAFANcOgnAECSNHLkSK1du7bS+Pr16zVy5EgDiVyve/fuSktLMx0DAAAAAABUE+wwBwBIkurXr6/PP/9c7dq1qzB+9OhR9erVS4WFhYaSuc6GDRsUFxenZ599Vl27dlWtWrUqzIeGhhpKBgAAAAAATPA0HQAAUD1cunRJZWVllcZLS0tVXFxsIJHrjB8/XgkJCXrsscckSZMnT3bOWZYlh8Mhy7JUXl5uKiIAAAAAADCAHeYAAElS3759FRISojfeeKPC+DPPPKOMjAzt3r3bULJbz8PDQ/n5+df9IoDe5gAAAAAA1CzsMAcASJLmz5+vAQMG6NChQ3rggQckScnJyfriiy+0detWw+lurcvfFVMQBwAAAAAAV+LQTwCAJKlXr17au3ev7rnnHq1fv16bNm1ScHCwMjIy1Lt3b9PxbjnLskxHAAAAAAAA1QwtWQAANY7NZlOdOnWuWzQ/d+6cmxIBAAAAAIDqgJYsAFCDXbhwQbVr13a+vpbL624X8+bNU506dUzHAAAAAAAA1Qg7zAGgBrt8+GVgYKBsNluVO64dDocsy1J5ebmBhK5hs9lUUFCgwMBA01EAAAAAAEA1wg5zAKjBtm3bpvr160uStm/fbjiN+9C/HAAAAAAAVIUd5gCAGocd5gAAAAAAoCoUzAEATkVFRdq/f7++++472e32CnNjxowxlAoAAAAAAMA9KJgDACRJmzZtUnR0tH788Uf5+/tXaFtiWZbOnTtnMB0AAAAAAIDrUTAHAEiS2rRpo8jISMXHx8vX19d0HAAAAAAAALejYA4AkCTVqlVLhw8fVsuWLU1HAQAAAAAAMMJmOgAAoHqIiIjQgQMHTMcAAAAAAAAwxtN0AACAORs3bnS+joqK0vTp0/XVV18pJCREd9xxR4W1gwcPdnc8AAAAAAAAt6IlCwDUYDbbjf2hkWVZKi8vd3EaAAAAAAAAsyiYAwAAAAAAAAAgepgDAKpQUlJiOgIAAAAAAIDbUTAHAEiSysvL9fLLL6tJkyby8/PTN998I0maPXu23nnnHcPpAAAAAAAAXI+COQDUUOvWrdPp06ed1/Pnz1diYqIWLlwoLy8v53hISIiWLVtmIiIAAAAAAIBbUTAHgBrK29tbffr00aFDhyRJK1eu1NKlSxUdHS0PDw/nutDQUB09etRUTAAAAAAAALfxNB0AAGDGkCFD1KhRI8XExCgjI0N5eXkKDg6utM5ut6u0tNRAQgAAAAAAAPdihzkA1GDdu3fXzp07JUkdOnTQ7t27K63ZsGGDwsLC3B0NAAAAAADA7dhhDgA1XL169SRJc+fOVUxMjM6cOSO73a73339fx44d06pVq/TRRx8ZTgkAAAAAAOB6lsPhcJgOAQCoHrZs2aL4+HgdPHhQdrtdXbp00Zw5c/Tggw+ajgYAAAAAAOByFMwBAAAAAAAAABA9zAEA/zFu3DglJyeL71EBAAAAAEBNRcEcACBJKiwsVFRUlO6++25NmzZNaWlppiMBAAAAAAC4FS1ZAABORUVFWr9+vdasWaPdu3erbdu2Gj16tEaNGqXmzZubjgcAAAAAAOBSFMwBAFXKzc1VUlKSli9fruzsbJWVlZmOBAAAAAAA4FK0ZAEAVFJaWqoDBw5o3759OnnypIKCgkxHAgAAAAAAcDkK5gAAp+3bt2vixIkKCgrS2LFj5e/vr02bNiknJ8d0NAAAAAAAAJejJQsAQJJ09913q7CwUBEREYqOjtbDDz8sb29v07EAAAAAAADchoI5AECStHTpUo0YMUL16tUzHQUAAAAAAMAICuYAAAAAAAAAAIge5gAAAAAAAAAASKJgDgAAAAAAAACAJArmAAAAAAAAAABIomAOAAAAAAAAAIAkCuYAgP9YuXKlPv74Y+f1jBkzVLduXfXs2VOnTp0ymAwAAAAAAMA9KJgDACRJ8fHx8vHxkSTt3btXb775phYuXKiGDRvq2WefNZwOAAAAAADA9SyHw+EwHQIAYJ6vr6+OHj2qpk2b6vnnn1d+fr5WrVqlI0eOqG/fvjp79qzpiAAAAAAAAC7FDnMAgCTJz89PhYWFkqStW7dqwIABkiRvb28VFxebjAYAAAAAAOAWnqYDAACqh/DwcE2YMEFhYWHKyspSVFSUJOnIkSNq3ry52XAAAAAAAABuwA5zAIAk6a9//at69Oihs2fP6r333lODBg0kSQcPHtTjjz9uOB0AAAAAAIDr0cMcAAAAAAAAAADRkgUAarSMjAx17NhRNptNGRkZ11wbGhrqplQAAAAAAABmsMMcAGowm82mgoICBQYGymazybIsXflr4fK1ZVkqLy83mBQAAAAAAMD12GEOADXYiRMnFBAQ4HwNAAAAAABQk7HDHAAAAAAAAAAAscMcAHCF48ePKyEhQZmZmbIsS+3atdOUKVPUqlUr09EAAAAAAABczmY6AACgetiyZYvat2+v/fv3KzQ0VB07dtS+ffvUoUMHffrpp6bjAQAAAAAAuBwtWQAAkqSwsDBFRETolVdeqTAeFxenrVu3KjU11VAyAAAAAAAA96BgDgCQJHl7e+vw4cNq3bp1hfGsrCyFhoaqpKTEUDIAAAAAAAD3oCULAECSFBAQoPT09Erj6enpCgwMdH8gAAAAAAAAN+PQTwCAJGnixImaNGmSvvnmG/Xs2VOWZSklJUULFizQtGnTTMcDAAAAAABwOVqyAAAkSQ6HQwkJCVq0aJHy8vIkSY0bN9b06dM1efJkWZZlOCEAAAAAAIBrUTAHAKisrEyrV69WRESEGjVqpIsXL0qS/P39DScDAAAAAABwHwrmAABJkq+vrzIzM9WsWTPTUQAAAAAAAIzg0E8AgCSpe/fuSktLMx0DAAAAAADAGA79BABIkp5++mlNmzZNubm56tq1q2rVqlVhPjQ01FAyAAAAAAAA96AlCwDUcOPHj1dCQoLq1q1bac6yLDkcDlmWpfLycveHAwAAAAAAcCMK5gBQw3l4eCg/P1/FxcXXXEdvcwAAAAAAcLujJQsA1HCXvzelIA4AAAAAAGo6Dv0EAMiyLNMRAAAAAAAAjKMlCwDUcDabTXXq1Llu0fzcuXNuSgQAAAAAAGAGLVkAAJo3b57q1KljOgYAAAAAAIBR7DAHgBrOZrOpoKBAgYGBpqMAAAAAAAAYRQ9zAKjh6F8OAAAAAADwbxTMAaCG4w+NAAAAAAAA/o2WLAAAAAAAAAAAiB3mAAAAAAAAAABIomAOAAAAAAAAAIAkCuYAAAAAAAAAAEiiYA4AAAAAAAAAgCQK5kCNt2PHDlmWpaKiImMZEhMTVbduXef1n/70J3Xu3Nl5HRsbq6FDh97QvW5mLQAAAAAAAHAlT9MBgNuVZVnXnB87dqwSExPdE+ZX7i9/+YscDsctXwsAAAAAAABciYI54CL5+fnO1+vWrdOcOXN07Ngx55iPj4+JWL9KderUcclaAAAAAAAA4Eq0ZAFcpFGjRs5/derUkWVZatSokYKCgnT//ffr7bffrrD+yy+/lM1m0/HjxyX9e4f64sWLNWjQIPn4+KhFixbasGFDhfecOXNGjz32mOrVq6cGDRpoyJAhOnny5DVzbd68WW3atJGPj4/69etX5fo9e/aoT58+8vHx0T333KPJkyfrxx9/vOZ9N27cqG7dusnb21sNGzbU8OHDnXPnz5/XmDFjVK9ePfn6+mrQoEHKzs6+5v2u9Ms2K++++65CQkLk4+OjBg0aaMCAAc58v1x76dIlTZ48WYGBgfL29tb999+vL774wjl/uSVNcnKyunXrJl9fX/Xs2bPClxsAAAAAAACoGSiYA25mWZbGjx+vFStWVBhfvny5evfurVatWjnHZs+erUceeUSHDh3S6NGj9fjjjyszM1OS9NNPP6lfv37y8/PTrl27lJKSIj8/Pw0cOFA///xzlc/OycnR8OHDFRkZqfT0dE2YMEFxcXEV1hw+fFgREREaPny4MjIytG7dOqWkpOj3v//9VT/Txx9/rOHDhysqKkppaWnO4vNlsbGxOnDggDZu3Ki9e/fK4XAoMjJSpaWlN/3zy8/P1+OPP67x48crMzNTO3bs0PDhw6/ahmXGjBl67733tHLlSqWmpio4OFgRERE6d+5chXUvvviiFi1apAMHDsjT01Pjx4+/6WwAAAAAAAD4daNgDhgwbtw4HTt2TPv375cklZaW6u9//3ulIu2IESM0YcIEtWnTRi+//LK6deumN954Q5K0du1a2Ww2LVu2TCEhIWrXrp1WrFih06dPa8eOHVU+d/HixWrZsqVee+01tW3bVtHR0YqNja2w5tVXX9WoUaM0depUtW7dWj179tTrr7+uVatWqaSkpMr7zp8/XyNHjtS8efPUrl07derUSS+88IIkKTs7Wxs3btSyZcvUu3dvderUSatXr9aZM2f04Ycf3vTPLj8/X2VlZRo+fLiaN2+ukJAQPf300/Lz86u09scff9TixYv16quvatCgQWrfvr3efvtt+fj46J133qn0Gf7v//5P7du3V1xcnPbs2XPVzwsAAAAAAIDbEwVzwIC77rpLUVFRWr58uSTpo48+UklJiUaMGFFhXY8ePSpdX95hfvDgQX399dfy9/eXn5+f/Pz8VL9+fZWUlDjbuvxSZmamfvOb31Q4kPSXzzh48KASExOd9/Tz81NERITsdrtOnDhR5X3T09P1wAMPXPWZnp6e6t69u3OsQYMGatu2rfOz3IxOnTrpgQceUEhIiEaMGKG3335b58+fr3Lt8ePHVVpaql69ejnH7rjjDt13332Vnh0aGup8fdddd0mSvvvuu5vOBwAAAAAAgF8vDv0EDJkwYYJiYmL02muvacWKFXrsscfk6+t73fddLnbb7XZ17dpVq1evrrQmICCgyvderW3Jlex2u5588klNnjy50lzTpk2rfM+1DjC92jMdDkeFwv2N8vDw0Keffqo9e/Zo69ateuONN/Tiiy9q3759atGiRZXP/uVzqnr2HXfc4Xx95c8YAAAAAAAANQc7zAFDIiMjVatWLS1evFj//Oc/q+yZ/a9//avS9b333itJ6tKli7KzsxUYGKjg4OAK/+rUqVPlM9u3b1/lPa/UpUsXHTlypNI9g4OD5eXlVeV9Q0NDlZycfNVnlpWVad++fc6xwsJCZWVlqV27dlW+53osy1KvXr00b948paWlycvLSx988EGldZczp6SkOMdKS0t14MCB//rZAAAAAAAAuH1RMAcM8fDwUGxsrGbOnKng4OBKrVEkacOGDVq+fLmysrI0d+5c7d+/33n4ZnR0tBo2bKghQ4Zo9+7dOnHihHbu3KkpU6YoNze3ymf+7ne/0/Hjx/Xcc8/p2LFjWrNmjRITEyusef7557V3714988wzSk9Pd/Yg/8Mf/nDVzzJ37lwlJSVp7ty5yszM1OHDh7Vw4UJJUuvWrTVkyBBNnDhRKSkpzgNMmzRpoiFDhtz0z23fvn2Kj4/XgQMHdPr0ab3//vs6e/ZslQXwWrVq6amnntL06dP1ySef6KuvvtLEiRP1008/6YknnrjpZwMAAAAAAOD2RsEcMOiJJ57Qzz//XOXuckmaN2+e1q5dq9DQUK1cuVKrV69W+/btJUm+vr7atWuXmjZtquHDh6tdu3YaP368iouLVbt27Srv17RpU7333nvatGmTOnXqpCVLlig+Pr7CmtDQUO3cuVPZ2dnq3bu3wsLCNHv2bGdf76r07dtXGzZs0MaNG9W5c2f179+/wo7yFStWqGvXrnrooYfUo0cPORwObd68uUIblBtVu3Zt7dq1S5GRkWrTpo1mzZqlRYsWadCgQVWuf+WVV/TII48oJiZGXbp00ddff60tW7aoXr16N/1sAAAAAAAA3N4sx400NQbgEp9//rn69u2r3NxcBQUFVZizLEsffPCBhg4daiYcAAAAAAAAUMNw6CdgwKVLl5STk6PZs2frt7/9baViOQAAAAAAAAD3oyULYEBSUpLatm2r77//3tnrGwAAAAAAAIBZtGQBAAAAAAAAAEDsMAcAAAAAAAAAQBIFcwAAAAAAAAAAJFEwBwAAAAAAAABAEgVzAAAAAAAAAAAkUTAHAAAAAAAAAEASBXMAAAAAAAAAACRRMAcAAAAAAAAAQBIFcwAAAAAAAAAAJFEwBwAAAAAAAABAkvT/ECXNlFyleAUAAAAASUVORK5CYII=",
      "text/plain": [
       "<Figure size 1500x600 with 2 Axes>"
      ]
     },
     "metadata": {},
     "output_type": "display_data"
    }
   ],
   "source": [
    "\n",
    "# Remplacement des valeurs avec les labels\n",
    "df_caract['col'] = df_caract['col'].map(col_labels)\n",
    "df_caract['atm'] = df_caract['atm'].map(atm_labels)\n",
    "\n",
    "# Comptage des occurrences par type de gravité et collision (col)\n",
    "gravite_proportions_col = (\n",
    "    df_caract.merge(df_usagers, on='Num_Acc')\n",
    "    .groupby(['col', 'grav'])\n",
    "    .size()\n",
    "    .unstack(fill_value=0)\n",
    ")\n",
    "\n",
    "# Calcul des proportions de gravité par type de collision\n",
    "gravite_proportions_col = gravite_proportions_col.div(gravite_proportions_col.sum(axis=1), axis=0)\n",
    "\n",
    "# Comptage des occurrences par type de gravité et conditions atmosphériques (atm)\n",
    "gravite_proportions_atm = (\n",
    "    df_caract.merge(df_usagers, on='Num_Acc')\n",
    "    .groupby(['atm', 'grav'])\n",
    "    .size()\n",
    "    .unstack(fill_value=0)\n",
    ")\n",
    "\n",
    "# Calcul des proportions de gravité par conditions atmosphériques\n",
    "gravite_proportions_atm = gravite_proportions_atm.div(gravite_proportions_atm.sum(axis=1), axis=0)\n",
    "\n",
    "# Création des graphiques côte à côte\n",
    "fig, axes = plt.subplots(1, 2, figsize=(15, 6), sharey=False)\n",
    "\n",
    "# Graphique 1 : Proportion des types de gravité par collision\n",
    "gravite_proportions_col.plot(kind='bar', stacked=True, ax=axes[0], colormap='tab20', edgecolor='black')\n",
    "axes[0].set_title(\"Proportion des types de gravité par type de collision (col)\")\n",
    "axes[0].set_xlabel(\"Type de collision\")\n",
    "axes[0].set_ylabel(\"Proportion\")\n",
    "axes[0].tick_params(axis='x')\n",
    "axes[0].legend(title=\"Gravité\", bbox_to_anchor=(1.05, 1), loc='upper left')\n",
    "\n",
    "# Graphique 2 : Proportion des types de gravité par conditions atmosphériques\n",
    "gravite_proportions_atm.plot(kind='bar', stacked=True, ax=axes[1], colormap='tab20', edgecolor='black')\n",
    "axes[1].set_title(\"Proportion des types de gravité par conditions atmosphériques (atm)\")\n",
    "axes[1].set_xlabel(\"Conditions atmosphériques\")\n",
    "axes[1].set_ylabel(\"Proportion\")\n",
    "axes[1].tick_params(axis='x')\n",
    "axes[1].legend(title=\"Gravité\", bbox_to_anchor=(1.05, 1), loc='upper left')\n",
    "\n",
    "# Ajustement de la mise en page\n",
    "plt.tight_layout()\n",
    "plt.show()\n"
   ]
  },
  {
   "cell_type": "markdown",
   "metadata": {},
   "source": [
    "Répartition par type de collision (col) : Les collisions frontales et latérales présentent une proportion plus élevée de blessés graves et de décès (catégorie \"Tué\") par rapport aux autres types de collision. Les collisions arrière et multiples sont dominées par des blessures légères et des indemnes. Cela reflète l'impact plus direct et souvent plus intense des collisions frontales et latérales, tandis que les autres types tendent à répartir l'énergie de l'impact de manière plus diffuse.\n",
    "\n",
    "Répartition par conditions atmosphériques (atm) : Les accidents survenant sous des conditions défavorables comme la neige, la grêle ou le brouillard affichent une proportion notable de gravité sévère, avec plus de blessés graves et de décès. À l'inverse, les accidents par temps clair, bien que plus fréquents, sont associés à une plus forte proportion de blessés légers et d'indemnes. Ces résultats soulignent l'importance des conditions météorologiques dans la gravité des accidents et la nécessité d'adopter une conduite prudente par mauvais temps."
   ]
  },
  {
=======
>>>>>>> c12b8e6454b21ae829c5864cd30e82adc7163348
   "cell_type": "markdown",
   "metadata": {},
   "source": [
    "### 2)- Association à la gravité de l'accident: le coéfficient V de Cramer"
   ]
  },
  {
   "cell_type": "code",
<<<<<<< HEAD
   "execution_count": 136,
=======
   "execution_count": null,
>>>>>>> c12b8e6454b21ae829c5864cd30e82adc7163348
   "metadata": {},
   "outputs": [],
   "source": [
    "# Function to calculate Cramer's V\n",
    "def cramers_v(x, y):\n",
    "    confusion_matrix = pd.crosstab(x, y)\n",
    "    chi2 = chi2_contingency(confusion_matrix)[0]\n",
    "    n = confusion_matrix.sum().sum()\n",
    "    phi2 = chi2 / n\n",
    "    r, k = confusion_matrix.shape\n",
    "    return np.sqrt(phi2 / min(k-1, r-1))\n",
    "    \n",
    "#Fonction pour la matrice de V de Cramer\n",
    "def matrice_v_cramer(data,colonnes):\n",
    "    #Créer un DataFrame vide pour la matrice V de Cramer\n",
    "    cramers_v_matrix = pd.DataFrame(index=colonnes, columns=colonnes)\n",
    "\n",
    "    # Calculer les V de Cramer pour chaque paire de colonnes\n",
    "    for col1 in colonnes:\n",
    "        for col2 in colonnes:\n",
    "            cramers_v_matrix.loc[col1, col2] = cramers_v(data[col1], data[col2])\n",
    "\n",
    "    # Convertir la matrice en valeurs numériques\n",
    "    cramers_v_matrix = cramers_v_matrix.astype(float)\n",
    "\n",
    "    plt.figure(figsize=(10, 8))\n",
    "    sns.heatmap(cramers_v_matrix, annot=True, cmap='coolwarm', cbar=True)\n",
    "    plt.title(\"Matrice des V de Cramer\")\n",
    "    plt.show()"
   ]
  },
  {
   "cell_type": "code",
   "execution_count": null,
   "metadata": {},
   "outputs": [],
   "source": [
    "colonnes_a_inclure1 = [\"grav\",\"sexe\", \"catu\", \"trajet\", \"secu1\", \"secu2\", \"locp\",\"catr\", \"actp\",\"col\"]\n",
    "matrice_v_cramer(df_merge,colonnes_a_inclure1)"
   ]
  },
  {
   "cell_type": "markdown",
   "metadata": {},
   "source": [
    "En examinant les relations entre les variables dans cette matrice des V de Cramer, plusieurs dépendances intéressantes apparaissent :\n",
    "sexe et trajet ont une corrélation notable avec un coefficient de 0,66, indiquant une forte relation entre le genre et le type de trajet. Cela pourrait refléter des différences dans les habitudes ou les comportements de déplacement entre hommes et femmes.\n",
    "catu et secu1 affichent une relation modérée avec un V de Cramer de 0,58, suggérant que la catégorie d'usager influence le dispositif de sécurité1.\n",
    "Une forte dépendance est également observée entre catu et locp (0,69) et entre catu et actp (0,69), ce qui indique que la catégorie d'usager est fortement liée à la localisation précise de l'accident ainsi qu'à l'action du piéton.\n",
    "locp et actp et locp et etap présentent des relations modérées à 0,51 et 0,59, respectivement, révélant une connexion entre la localisation des accidents, l'action du piéton, et les état du piéton.\n",
    "De plus, actp et etap ont également une relation notable avec un V de Cramer de 0,59, ce qui montre que l'action du piéton est intimement liée à les état du piéton.\n",
    "En revanche, certaines variables comme trajet et locp (0,11) ou sexe et locp (0,12) montrent des corrélations très faibles, indiquant des relations peu significatives entre ces paires de variables.\n",
    "Globalement, les relations les plus fortes sont centrées autour de catu, locp, actp, et etap\n",
    "\n",
    "En se concentrant sur les relations avec la variable cible \"grav\" (gravité des accidents), voici les observations principales :\n",
    "secu1 (Equipement de sécurité1) présente une dépendance modérée avec \"grav\" avec un V de Cramer de 0,28, ce qui suggère une certaine influence sur la gravité des accidents.\n",
    "secu2 (Dispositif de sécurité2) a une corrélation plus faible avec \"grav\" à 0,24, montrant une influence moindre par rapport à \"secu1\".\n",
    "catu (catégorie d'usager) affiche une valeur de 0,17, indiquant une faible dépendance mais non négligeable.\n",
    "trajet (type de trajet) et locp (localisation piéton) ont des V de Cramer relativement faibles, à 0,14 et 0,2 respectivement, montrant qu'ils influencent faiblement \"grav\".\n",
    "sexe (sexe) et actp (action du piéton) ont des coefficients très faibles, à 0,13 et 0,19 respectivement, indiquant qu'ils n'ont qu'une influence mineure.\n",
    "Enfin, etap (état du piéton) est la variable la moins corrélée avec \"grav\", avec un V de Cramer de 0,12."
   ]
  },
  {
   "cell_type": "code",
   "execution_count": null,
   "metadata": {},
   "outputs": [],
   "source": [
    "colonnes_a_inclure2 = [\"grav\",\"senc\", \"catv\", \"obs\", \"obsm\", \"agg\",\"choc\", \"manv\", \"motor\",\"place\"]\n",
    "matrice_v_cramer(df_merge,colonnes_a_inclure2) "
   ]
  },
  {
   "cell_type": "markdown",
   "metadata": {},
   "source": [
    "Relations avec la variable cible \"grav\" :\n",
    "catv (catégorie du véhicule) montre une corrélation modérée avec grav avec un coefficient de 0,26, indiquant une influence notable de ce facteur sur la gravité des accidents.\n",
    "obs (obstacle) et manv (manœuvre) présentent des relations faibles mais existantes avec grav, avec des coefficients respectifs de 0,15 et 0,16.\n",
    "Les autres variables, comme senc (sens de circulation) (0,021), obsm (obstacle mobile) (0,14), choc (type de choc) (0,12), et motor (motorisation) (0,12), montrent des corrélations très faibles avec grav, suggérant qu’elles ont un impact limité sur la gravité.\n",
    "\n",
    "Relations entre les variables :\n",
    "catv et motor affichent une corrélation forte (0,52), indiquant que la catégorie du véhicule est étroitement liée à son type de motorisation. Cela reflète logiquement une relation technique ou structurelle entre ces deux caractéristiques.\n",
    "obs et obsm montrent une relation modérée avec un coefficient de 0,25, suggérant que la présence d’un obstacle est souvent associée à un obstacle mobile.\n",
    "manv et choc présentent également une corrélation modérée à 0,21, indiquant que la manœuvre effectuée au moment de l’accident est liée au point de choc initial.\n",
    "Les autres relations entre les variables, comme senc et obs (0,13) ou obsm et choc (0,13), restent faibles, suggérant une interdépendance moins significative."
   ]
  },
  {
   "cell_type": "markdown",
   "metadata": {},
   "source": [
    "#### Test de significativité des V de Cramer"
   ]
  },
  {
   "cell_type": "code",
   "execution_count": null,
   "metadata": {},
   "outputs": [],
   "source": [
    "# Fonction pour calculer le V de Cramer et tester la significativité\n",
    "def verifier_cramers_v_significatif(data, target, variables, alpha=0.05):\n",
    "    resultats = {}\n",
    "    for var in variables:\n",
    "        # Calcul de la matrice de contingence\n",
    "        confusion_matrix = pd.crosstab(data[target], data[var])\n",
    "        \n",
    "        # Test du Chi-carré\n",
    "        chi2, p, _, _ = chi2_contingency(confusion_matrix)\n",
    "        \n",
    "        # Calcul du V de Cramer\n",
    "        n = confusion_matrix.sum().sum()\n",
    "        phi2 = chi2 / n\n",
    "        r, k = confusion_matrix.shape\n",
    "        cramers_v = np.sqrt(phi2 / min(k - 1, r - 1))\n",
    "        \n",
    "        # Vérification de la significativité\n",
    "        significatif = p < alpha\n",
    "        resultats[var] = {\n",
    "            \"V de Cramer\": cramers_v,\n",
    "            \"Significatif\": significatif,\n",
    "            \"p-valeur\": p\n",
    "        }\n",
    "    return resultats\n",
    "\n",
    "# Exemple d'utilisation\n",
    "variables_a_verifier = [\"catv\", \"catu\", \"secu1\", \"secu2\", \"obsm\", \"obs\", \"manv\"]\n",
    "resultats = verifier_cramers_v_significatif(df_merge, \"grav\", variables_a_verifier)\n",
    "\n",
    "# Afficher les résultats\n",
    "for var, stats in resultats.items():\n",
    "    print(f\"Variable: {var}\")\n",
    "    print(f\"  V de Cramer: {stats['V de Cramer']:.3f}\")\n",
    "    print(f\"  Significatif: {'Oui' if stats['Significatif'] else 'Non'}\")\n",
    "    print(f\"  p-valeur: {stats['p-valeur']:.3e}\")"
   ]
  },
  {
   "cell_type": "markdown",
   "metadata": {},
   "source": [
    "Ces V de Cramer des variables sont tous significatifs."
   ]
  },
  {
   "cell_type": "markdown",
   "metadata": {},
   "source": [
    "### Conclusion\n",
    "\n",
    "De l'étude de l'association entre les variables de l'accident et la gravité de celui-ci, il en ressort que les variables suivantes sont succeptible d'avoir plus d'influence sur la gravité de l'accident: **la catégorie du véhicule** (catv), **les équipements de sécurité** (secu1 et secu2), **l'obstacle mobile heurté** (obm), **la catégorie d'usager** (catu), **l'agglomération** (agg), **le type de collision** (col) et **la manoeuvre utilisé** (manv).\n"
   ]
  },
  {
   "cell_type": "markdown",
   "metadata": {},
   "source": [
    "## **III- Modélisation**"
   ]
  },
  {
   "cell_type": "markdown",
   "metadata": {},
   "source": [
    " On restreint la base de données de la modélisation aux variables suivantes: \n",
    " * la catégorie du véhicule\n",
    " * les équipements de sécurité\n",
    " * l'obstacle mobile heurté\n",
    " * la catégorie d'\n",
    " * l'agglomération\n",
    " * la manoeuvre utilisé"
   ]
  },
  {
   "cell_type": "code",
<<<<<<< HEAD
   "execution_count": 140,
=======
   "execution_count": null,
>>>>>>> c12b8e6454b21ae829c5864cd30e82adc7163348
   "metadata": {},
   "outputs": [],
   "source": [
    "df_model=df_merge.drop(['id_usager', 'id_vehicule', 'num_veh',\"place\", 'an_nais', 'trajet', 'secu3', 'locp','actp', 'etatp', 'senc', \n",
    "       'choc', 'motor', 'occutc', 'voie', 'v1', 'v2', 'circ', 'nbv', 'vosp', 'prof','pr', 'pr1', 'plan', 'lartpc', 'larrout', 'surf', \n",
    "       'infra','vma', 'jour', 'obs','mois', 'an', 'hrmn',\"situ\",\"catr\", 'lum', 'dep', 'com', 'int', 'atm', 'adr', 'lat', 'long'], axis=1)"
   ]
  },
  {
   "cell_type": "markdown",
   "metadata": {},
   "source": [
    " Etant donné que dans un accident, il peut y avoir plusieurs niveaux de gravité (car celui-ci depend de chaque individu impliqué dans l'accident), nous allons définir la gravité de l'accident comme étant le niveau de gravité le plus haut des dommages subit par les personnes impliquées dans l'accident. \n",
    "\n",
    "Néamoins étant donné que cette procédure va engendré une perte d'information à l'échelle individuelle, nous allons créé deux bases de modélisation. Nous ferons donc une modélisation à l'échelle individuelle, pour prédire la gravité des dommages subit à l'échelle individuelle, puis une modélisation pour prédire la gravité de l'accident.\n"
   ]
  },
  {
   "cell_type": "markdown",
   "metadata": {},
   "source": [
    "###  **1)- A l'échelle individuelle**"
   ]
  },
  {
   "cell_type": "markdown",
   "metadata": {},
   "source": [
    "Dans cette partie, il s'agira de se servir des variables qui donnent les caractéristiques de chaque individu impliquées dans les accidents de voir qu'elles sont celles qui influencent au mieux le niveau de gravité des dommages subit par un individu."
   ]
  },
  {
   "cell_type": "code",
<<<<<<< HEAD
   "execution_count": 141,
=======
   "execution_count": null,
>>>>>>> c12b8e6454b21ae829c5864cd30e82adc7163348
   "metadata": {},
   "outputs": [],
   "source": [
    "df_model1=df_model.drop([\"Num_Acc\",\"manv\",\"catv\",\"obsm\",\"agg\",\"col\"], axis=1)"
   ]
  },
  {
   "cell_type": "markdown",
   "metadata": {},
   "source": [
    "Par la suite, nous définissons une fonction qui fera a la fois du preprocessing sur la base et de la sélection de variables. Plus en détails, cette fonction fais ceci:\n",
    "- remplacer les valeurs non renseigner par des valeurs manquantes (np.nan);\n",
    "- supprimer les lignes du dataframe où la gravité de l'accident n'est pas renseigner;\n",
    "- Imputation des valeurs manquantes par le mode (car il s'agit de variables catégorielles);\n",
    "- utilisation de l'encodage onehot;\n",
    "- Entrainement du modèle Lasso sur une série de alpha afin d'en choisir le meilleur\n",
    "- Entrainement du modèle Lasso avec le meilleur alpha, et en sortie on a le dataframe qui contient uniqement les variables sélectionnées par le modèle.\n",
    "\n",
    "La regression Lasso est une technique de régularisation qui consiste à appliquer une pénalité pour éviter le surapprentissage et améliorer la précision des modèles statistiques. Aussi, l'encodage onehot est une méthode d'encodage pour les variables catégorielles nominales, qui va creer de nouvelles variables indicatrices et vont faciliter les interprétations des résultats du modèle. La sélection de variables ici consiste donc en réalité en la sélection de catégories qui prédisent aux mieux la gravité.\n",
    "\n",
    "\n"
   ]
  },
  {
   "cell_type": "code",
<<<<<<< HEAD
   "execution_count": 142,
=======
   "execution_count": null,
>>>>>>> c12b8e6454b21ae829c5864cd30e82adc7163348
   "metadata": {},
   "outputs": [],
   "source": [
    "def selection_var(df_model1):\n",
    "    for column in df_model1.columns:\n",
    "        df_model1[column] = df_model1[column].replace(-1, np.nan)\n",
    "    df_model1 = df_model1.dropna(subset=['grav'])\n",
    "    lasso_x=df_model1.drop([\"grav\"],axis=1)\n",
    "    lasso_y=df_model1[\"grav\"]\n",
    "    categorical_pipeline = Pipeline(\n",
    "        steps=[\n",
    "            (\"impute\", SimpleImputer(strategy=\"most_frequent\")),\n",
    "            (\"one-hot\", OneHotEncoder(drop='first', handle_unknown=\"ignore\", sparse_output=False)),\n",
    "        ]\n",
    "    )\n",
    "    base1=categorical_pipeline.fit_transform(lasso_x)\n",
    "    data1=pd.DataFrame(data=base1, columns=categorical_pipeline.get_feature_names_out())\n",
    "    my_alphas = np.array([0.001, 0.01, 0.02, 0.025])\n",
    "    lcv = LassoCV(alphas=my_alphas, fit_intercept=False, random_state=0, cv=3).fit(\n",
    "        data1, lasso_y)\n",
    "    model = Lasso(fit_intercept=False, alpha=lcv.alpha_)\n",
    "    lasso_optimal1=model.fit(data1, lasso_y)\n",
    "    data_model1=data1[data1.columns[np.abs(lasso_optimal1.coef_)>0]]\n",
    "    return data_model1, lasso_y"
   ]
  },
  {
   "cell_type": "markdown",
   "metadata": {},
   "source": [
    "Nous appliquons la fonction précedemment définie à la base df_model1:"
   ]
  },
  {
   "cell_type": "code",
<<<<<<< HEAD
   "execution_count": 145,
   "metadata": {},
   "outputs": [
    {
     "ename": "KeyboardInterrupt",
     "evalue": "",
     "output_type": "error",
     "traceback": [
      "\u001b[0;31m---------------------------------------------------------------------------\u001b[0m",
      "\u001b[0;31mKeyboardInterrupt\u001b[0m                         Traceback (most recent call last)",
      "Cell \u001b[0;32mIn[145], line 1\u001b[0m\n\u001b[0;32m----> 1\u001b[0m data_model1, lasso_y\u001b[38;5;241m=\u001b[39m\u001b[43mselection_var\u001b[49m\u001b[43m(\u001b[49m\u001b[43mdf_model1\u001b[49m\u001b[43m)\u001b[49m\n",
      "Cell \u001b[0;32mIn[142], line 16\u001b[0m, in \u001b[0;36mselection_var\u001b[0;34m(df_model1)\u001b[0m\n\u001b[1;32m     14\u001b[0m data1\u001b[38;5;241m=\u001b[39mpd\u001b[38;5;241m.\u001b[39mDataFrame(data\u001b[38;5;241m=\u001b[39mbase1, columns\u001b[38;5;241m=\u001b[39mcategorical_pipeline\u001b[38;5;241m.\u001b[39mget_feature_names_out())\n\u001b[1;32m     15\u001b[0m my_alphas \u001b[38;5;241m=\u001b[39m np\u001b[38;5;241m.\u001b[39marray([\u001b[38;5;241m0.001\u001b[39m, \u001b[38;5;241m0.01\u001b[39m, \u001b[38;5;241m0.02\u001b[39m, \u001b[38;5;241m0.025\u001b[39m])\n\u001b[0;32m---> 16\u001b[0m cv \u001b[38;5;241m=\u001b[39m \u001b[43mLassoCV\u001b[49m\u001b[43m(\u001b[49m\u001b[43malphas\u001b[49m\u001b[38;5;241;43m=\u001b[39;49m\u001b[43mmy_alphas\u001b[49m\u001b[43m,\u001b[49m\u001b[43m \u001b[49m\u001b[43mfit_intercept\u001b[49m\u001b[38;5;241;43m=\u001b[39;49m\u001b[38;5;28;43;01mFalse\u001b[39;49;00m\u001b[43m,\u001b[49m\u001b[43m \u001b[49m\u001b[43mrandom_state\u001b[49m\u001b[38;5;241;43m=\u001b[39;49m\u001b[38;5;241;43m0\u001b[39;49m\u001b[43m,\u001b[49m\u001b[43m \u001b[49m\u001b[43mcv\u001b[49m\u001b[38;5;241;43m=\u001b[39;49m\u001b[38;5;241;43m3\u001b[39;49m\u001b[43m)\u001b[49m\u001b[38;5;241;43m.\u001b[39;49m\u001b[43mfit\u001b[49m\u001b[43m(\u001b[49m\n\u001b[1;32m     17\u001b[0m \u001b[43m    \u001b[49m\u001b[43mdata1\u001b[49m\u001b[43m,\u001b[49m\u001b[43m \u001b[49m\u001b[43mlasso_y\u001b[49m\u001b[43m)\u001b[49m\n\u001b[1;32m     18\u001b[0m model \u001b[38;5;241m=\u001b[39m Lasso(fit_intercept\u001b[38;5;241m=\u001b[39m\u001b[38;5;28;01mFalse\u001b[39;00m, alpha\u001b[38;5;241m=\u001b[39mlcv\u001b[38;5;241m.\u001b[39malpha_)\n\u001b[1;32m     19\u001b[0m lasso_optimal1\u001b[38;5;241m=\u001b[39mmodel\u001b[38;5;241m.\u001b[39mfit(data1, lasso_y1)\n",
      "File \u001b[0;32m/opt/conda/lib/python3.12/site-packages/sklearn/linear_model/_coordinate_descent.py:2122\u001b[0m, in \u001b[0;36mLassoCV.fit\u001b[0;34m(self, X, y, sample_weight, **params)\u001b[0m\n\u001b[1;32m   2084\u001b[0m \u001b[38;5;28;01mdef\u001b[39;00m \u001b[38;5;21mfit\u001b[39m(\u001b[38;5;28mself\u001b[39m, X, y, sample_weight\u001b[38;5;241m=\u001b[39m\u001b[38;5;28;01mNone\u001b[39;00m, \u001b[38;5;241m*\u001b[39m\u001b[38;5;241m*\u001b[39mparams):\n\u001b[1;32m   2085\u001b[0m \u001b[38;5;250m    \u001b[39m\u001b[38;5;124;03m\"\"\"Fit Lasso model with coordinate descent.\u001b[39;00m\n\u001b[1;32m   2086\u001b[0m \n\u001b[1;32m   2087\u001b[0m \u001b[38;5;124;03m    Fit is on grid of alphas and best alpha estimated by cross-validation.\u001b[39;00m\n\u001b[0;32m   (...)\u001b[0m\n\u001b[1;32m   2120\u001b[0m \u001b[38;5;124;03m        Returns an instance of fitted model.\u001b[39;00m\n\u001b[1;32m   2121\u001b[0m \u001b[38;5;124;03m    \"\"\"\u001b[39;00m\n\u001b[0;32m-> 2122\u001b[0m     \u001b[38;5;28;01mreturn\u001b[39;00m \u001b[38;5;28;43msuper\u001b[39;49m\u001b[43m(\u001b[49m\u001b[43m)\u001b[49m\u001b[38;5;241;43m.\u001b[39;49m\u001b[43mfit\u001b[49m\u001b[43m(\u001b[49m\u001b[43mX\u001b[49m\u001b[43m,\u001b[49m\u001b[43m \u001b[49m\u001b[43my\u001b[49m\u001b[43m,\u001b[49m\u001b[43m \u001b[49m\u001b[43msample_weight\u001b[49m\u001b[38;5;241;43m=\u001b[39;49m\u001b[43msample_weight\u001b[49m\u001b[43m,\u001b[49m\u001b[43m \u001b[49m\u001b[38;5;241;43m*\u001b[39;49m\u001b[38;5;241;43m*\u001b[39;49m\u001b[43mparams\u001b[49m\u001b[43m)\u001b[49m\n",
      "File \u001b[0;32m/opt/conda/lib/python3.12/site-packages/sklearn/base.py:1389\u001b[0m, in \u001b[0;36m_fit_context.<locals>.decorator.<locals>.wrapper\u001b[0;34m(estimator, *args, **kwargs)\u001b[0m\n\u001b[1;32m   1382\u001b[0m     estimator\u001b[38;5;241m.\u001b[39m_validate_params()\n\u001b[1;32m   1384\u001b[0m \u001b[38;5;28;01mwith\u001b[39;00m config_context(\n\u001b[1;32m   1385\u001b[0m     skip_parameter_validation\u001b[38;5;241m=\u001b[39m(\n\u001b[1;32m   1386\u001b[0m         prefer_skip_nested_validation \u001b[38;5;129;01mor\u001b[39;00m global_skip_validation\n\u001b[1;32m   1387\u001b[0m     )\n\u001b[1;32m   1388\u001b[0m ):\n\u001b[0;32m-> 1389\u001b[0m     \u001b[38;5;28;01mreturn\u001b[39;00m \u001b[43mfit_method\u001b[49m\u001b[43m(\u001b[49m\u001b[43mestimator\u001b[49m\u001b[43m,\u001b[49m\u001b[43m \u001b[49m\u001b[38;5;241;43m*\u001b[39;49m\u001b[43margs\u001b[49m\u001b[43m,\u001b[49m\u001b[43m \u001b[49m\u001b[38;5;241;43m*\u001b[39;49m\u001b[38;5;241;43m*\u001b[39;49m\u001b[43mkwargs\u001b[49m\u001b[43m)\u001b[49m\n",
      "File \u001b[0;32m/opt/conda/lib/python3.12/site-packages/sklearn/linear_model/_coordinate_descent.py:1832\u001b[0m, in \u001b[0;36mLinearModelCV.fit\u001b[0;34m(self, X, y, sample_weight, **params)\u001b[0m\n\u001b[1;32m   1827\u001b[0m     model\u001b[38;5;241m.\u001b[39mprecompute \u001b[38;5;241m=\u001b[39m \u001b[38;5;28;01mFalse\u001b[39;00m\n\u001b[1;32m   1829\u001b[0m \u001b[38;5;28;01mif\u001b[39;00m sample_weight \u001b[38;5;129;01mis\u001b[39;00m \u001b[38;5;28;01mNone\u001b[39;00m:\n\u001b[1;32m   1830\u001b[0m     \u001b[38;5;66;03m# MultiTaskElasticNetCV does not (yet) support sample_weight, even\u001b[39;00m\n\u001b[1;32m   1831\u001b[0m     \u001b[38;5;66;03m# not sample_weight=None.\u001b[39;00m\n\u001b[0;32m-> 1832\u001b[0m     \u001b[43mmodel\u001b[49m\u001b[38;5;241;43m.\u001b[39;49m\u001b[43mfit\u001b[49m\u001b[43m(\u001b[49m\u001b[43mX\u001b[49m\u001b[43m,\u001b[49m\u001b[43m \u001b[49m\u001b[43my\u001b[49m\u001b[43m)\u001b[49m\n\u001b[1;32m   1833\u001b[0m \u001b[38;5;28;01melse\u001b[39;00m:\n\u001b[1;32m   1834\u001b[0m     model\u001b[38;5;241m.\u001b[39mfit(X, y, sample_weight\u001b[38;5;241m=\u001b[39msample_weight)\n",
      "File \u001b[0;32m/opt/conda/lib/python3.12/site-packages/sklearn/base.py:1389\u001b[0m, in \u001b[0;36m_fit_context.<locals>.decorator.<locals>.wrapper\u001b[0;34m(estimator, *args, **kwargs)\u001b[0m\n\u001b[1;32m   1382\u001b[0m     estimator\u001b[38;5;241m.\u001b[39m_validate_params()\n\u001b[1;32m   1384\u001b[0m \u001b[38;5;28;01mwith\u001b[39;00m config_context(\n\u001b[1;32m   1385\u001b[0m     skip_parameter_validation\u001b[38;5;241m=\u001b[39m(\n\u001b[1;32m   1386\u001b[0m         prefer_skip_nested_validation \u001b[38;5;129;01mor\u001b[39;00m global_skip_validation\n\u001b[1;32m   1387\u001b[0m     )\n\u001b[1;32m   1388\u001b[0m ):\n\u001b[0;32m-> 1389\u001b[0m     \u001b[38;5;28;01mreturn\u001b[39;00m \u001b[43mfit_method\u001b[49m\u001b[43m(\u001b[49m\u001b[43mestimator\u001b[49m\u001b[43m,\u001b[49m\u001b[43m \u001b[49m\u001b[38;5;241;43m*\u001b[39;49m\u001b[43margs\u001b[49m\u001b[43m,\u001b[49m\u001b[43m \u001b[49m\u001b[38;5;241;43m*\u001b[39;49m\u001b[38;5;241;43m*\u001b[39;49m\u001b[43mkwargs\u001b[49m\u001b[43m)\u001b[49m\n",
      "File \u001b[0;32m/opt/conda/lib/python3.12/site-packages/sklearn/linear_model/_coordinate_descent.py:1080\u001b[0m, in \u001b[0;36mElasticNet.fit\u001b[0;34m(self, X, y, sample_weight, check_input)\u001b[0m\n\u001b[1;32m   1078\u001b[0m \u001b[38;5;28;01melse\u001b[39;00m:\n\u001b[1;32m   1079\u001b[0m     this_Xy \u001b[38;5;241m=\u001b[39m \u001b[38;5;28;01mNone\u001b[39;00m\n\u001b[0;32m-> 1080\u001b[0m _, this_coef, this_dual_gap, this_iter \u001b[38;5;241m=\u001b[39m \u001b[38;5;28;43mself\u001b[39;49m\u001b[38;5;241;43m.\u001b[39;49m\u001b[43mpath\u001b[49m\u001b[43m(\u001b[49m\n\u001b[1;32m   1081\u001b[0m \u001b[43m    \u001b[49m\u001b[43mX\u001b[49m\u001b[43m,\u001b[49m\n\u001b[1;32m   1082\u001b[0m \u001b[43m    \u001b[49m\u001b[43my\u001b[49m\u001b[43m[\u001b[49m\u001b[43m:\u001b[49m\u001b[43m,\u001b[49m\u001b[43m \u001b[49m\u001b[43mk\u001b[49m\u001b[43m]\u001b[49m\u001b[43m,\u001b[49m\n\u001b[1;32m   1083\u001b[0m \u001b[43m    \u001b[49m\u001b[43ml1_ratio\u001b[49m\u001b[38;5;241;43m=\u001b[39;49m\u001b[38;5;28;43mself\u001b[39;49m\u001b[38;5;241;43m.\u001b[39;49m\u001b[43ml1_ratio\u001b[49m\u001b[43m,\u001b[49m\n\u001b[1;32m   1084\u001b[0m \u001b[43m    \u001b[49m\u001b[43meps\u001b[49m\u001b[38;5;241;43m=\u001b[39;49m\u001b[38;5;28;43;01mNone\u001b[39;49;00m\u001b[43m,\u001b[49m\n\u001b[1;32m   1085\u001b[0m \u001b[43m    \u001b[49m\u001b[43mn_alphas\u001b[49m\u001b[38;5;241;43m=\u001b[39;49m\u001b[38;5;28;43;01mNone\u001b[39;49;00m\u001b[43m,\u001b[49m\n\u001b[1;32m   1086\u001b[0m \u001b[43m    \u001b[49m\u001b[43malphas\u001b[49m\u001b[38;5;241;43m=\u001b[39;49m\u001b[43m[\u001b[49m\u001b[43malpha\u001b[49m\u001b[43m]\u001b[49m\u001b[43m,\u001b[49m\n\u001b[1;32m   1087\u001b[0m \u001b[43m    \u001b[49m\u001b[43mprecompute\u001b[49m\u001b[38;5;241;43m=\u001b[39;49m\u001b[43mprecompute\u001b[49m\u001b[43m,\u001b[49m\n\u001b[1;32m   1088\u001b[0m \u001b[43m    \u001b[49m\u001b[43mXy\u001b[49m\u001b[38;5;241;43m=\u001b[39;49m\u001b[43mthis_Xy\u001b[49m\u001b[43m,\u001b[49m\n\u001b[1;32m   1089\u001b[0m \u001b[43m    \u001b[49m\u001b[43mcopy_X\u001b[49m\u001b[38;5;241;43m=\u001b[39;49m\u001b[38;5;28;43;01mTrue\u001b[39;49;00m\u001b[43m,\u001b[49m\n\u001b[1;32m   1090\u001b[0m \u001b[43m    \u001b[49m\u001b[43mcoef_init\u001b[49m\u001b[38;5;241;43m=\u001b[39;49m\u001b[43mcoef_\u001b[49m\u001b[43m[\u001b[49m\u001b[43mk\u001b[49m\u001b[43m]\u001b[49m\u001b[43m,\u001b[49m\n\u001b[1;32m   1091\u001b[0m \u001b[43m    \u001b[49m\u001b[43mverbose\u001b[49m\u001b[38;5;241;43m=\u001b[39;49m\u001b[38;5;28;43;01mFalse\u001b[39;49;00m\u001b[43m,\u001b[49m\n\u001b[1;32m   1092\u001b[0m \u001b[43m    \u001b[49m\u001b[43mreturn_n_iter\u001b[49m\u001b[38;5;241;43m=\u001b[39;49m\u001b[38;5;28;43;01mTrue\u001b[39;49;00m\u001b[43m,\u001b[49m\n\u001b[1;32m   1093\u001b[0m \u001b[43m    \u001b[49m\u001b[43mpositive\u001b[49m\u001b[38;5;241;43m=\u001b[39;49m\u001b[38;5;28;43mself\u001b[39;49m\u001b[38;5;241;43m.\u001b[39;49m\u001b[43mpositive\u001b[49m\u001b[43m,\u001b[49m\n\u001b[1;32m   1094\u001b[0m \u001b[43m    \u001b[49m\u001b[43mcheck_input\u001b[49m\u001b[38;5;241;43m=\u001b[39;49m\u001b[38;5;28;43;01mFalse\u001b[39;49;00m\u001b[43m,\u001b[49m\n\u001b[1;32m   1095\u001b[0m \u001b[43m    \u001b[49m\u001b[38;5;66;43;03m# from here on **params\u001b[39;49;00m\n\u001b[1;32m   1096\u001b[0m \u001b[43m    \u001b[49m\u001b[43mtol\u001b[49m\u001b[38;5;241;43m=\u001b[39;49m\u001b[38;5;28;43mself\u001b[39;49m\u001b[38;5;241;43m.\u001b[39;49m\u001b[43mtol\u001b[49m\u001b[43m,\u001b[49m\n\u001b[1;32m   1097\u001b[0m \u001b[43m    \u001b[49m\u001b[43mX_offset\u001b[49m\u001b[38;5;241;43m=\u001b[39;49m\u001b[43mX_offset\u001b[49m\u001b[43m,\u001b[49m\n\u001b[1;32m   1098\u001b[0m \u001b[43m    \u001b[49m\u001b[43mX_scale\u001b[49m\u001b[38;5;241;43m=\u001b[39;49m\u001b[43mX_scale\u001b[49m\u001b[43m,\u001b[49m\n\u001b[1;32m   1099\u001b[0m \u001b[43m    \u001b[49m\u001b[43mmax_iter\u001b[49m\u001b[38;5;241;43m=\u001b[39;49m\u001b[38;5;28;43mself\u001b[39;49m\u001b[38;5;241;43m.\u001b[39;49m\u001b[43mmax_iter\u001b[49m\u001b[43m,\u001b[49m\n\u001b[1;32m   1100\u001b[0m \u001b[43m    \u001b[49m\u001b[43mrandom_state\u001b[49m\u001b[38;5;241;43m=\u001b[39;49m\u001b[38;5;28;43mself\u001b[39;49m\u001b[38;5;241;43m.\u001b[39;49m\u001b[43mrandom_state\u001b[49m\u001b[43m,\u001b[49m\n\u001b[1;32m   1101\u001b[0m \u001b[43m    \u001b[49m\u001b[43mselection\u001b[49m\u001b[38;5;241;43m=\u001b[39;49m\u001b[38;5;28;43mself\u001b[39;49m\u001b[38;5;241;43m.\u001b[39;49m\u001b[43mselection\u001b[49m\u001b[43m,\u001b[49m\n\u001b[1;32m   1102\u001b[0m \u001b[43m    \u001b[49m\u001b[43msample_weight\u001b[49m\u001b[38;5;241;43m=\u001b[39;49m\u001b[43msample_weight\u001b[49m\u001b[43m,\u001b[49m\n\u001b[1;32m   1103\u001b[0m \u001b[43m\u001b[49m\u001b[43m)\u001b[49m\n\u001b[1;32m   1104\u001b[0m coef_[k] \u001b[38;5;241m=\u001b[39m this_coef[:, \u001b[38;5;241m0\u001b[39m]\n\u001b[1;32m   1105\u001b[0m dual_gaps_[k] \u001b[38;5;241m=\u001b[39m this_dual_gap[\u001b[38;5;241m0\u001b[39m]\n",
      "File \u001b[0;32m/opt/conda/lib/python3.12/site-packages/sklearn/utils/_param_validation.py:189\u001b[0m, in \u001b[0;36mvalidate_params.<locals>.decorator.<locals>.wrapper\u001b[0;34m(*args, **kwargs)\u001b[0m\n\u001b[1;32m    187\u001b[0m global_skip_validation \u001b[38;5;241m=\u001b[39m get_config()[\u001b[38;5;124m\"\u001b[39m\u001b[38;5;124mskip_parameter_validation\u001b[39m\u001b[38;5;124m\"\u001b[39m]\n\u001b[1;32m    188\u001b[0m \u001b[38;5;28;01mif\u001b[39;00m global_skip_validation:\n\u001b[0;32m--> 189\u001b[0m     \u001b[38;5;28;01mreturn\u001b[39;00m \u001b[43mfunc\u001b[49m\u001b[43m(\u001b[49m\u001b[38;5;241;43m*\u001b[39;49m\u001b[43margs\u001b[49m\u001b[43m,\u001b[49m\u001b[43m \u001b[49m\u001b[38;5;241;43m*\u001b[39;49m\u001b[38;5;241;43m*\u001b[39;49m\u001b[43mkwargs\u001b[49m\u001b[43m)\u001b[49m\n\u001b[1;32m    191\u001b[0m func_sig \u001b[38;5;241m=\u001b[39m signature(func)\n\u001b[1;32m    193\u001b[0m \u001b[38;5;66;03m# Map *args/**kwargs to the function signature\u001b[39;00m\n",
      "File \u001b[0;32m/opt/conda/lib/python3.12/site-packages/sklearn/linear_model/_coordinate_descent.py:695\u001b[0m, in \u001b[0;36menet_path\u001b[0;34m(X, y, l1_ratio, eps, n_alphas, alphas, precompute, Xy, copy_X, coef_init, verbose, return_n_iter, positive, check_input, **params)\u001b[0m\n\u001b[1;32m    681\u001b[0m     model \u001b[38;5;241m=\u001b[39m cd_fast\u001b[38;5;241m.\u001b[39menet_coordinate_descent_gram(\n\u001b[1;32m    682\u001b[0m         coef_,\n\u001b[1;32m    683\u001b[0m         l1_reg,\n\u001b[0;32m   (...)\u001b[0m\n\u001b[1;32m    692\u001b[0m         positive,\n\u001b[1;32m    693\u001b[0m     )\n\u001b[1;32m    694\u001b[0m \u001b[38;5;28;01melif\u001b[39;00m precompute \u001b[38;5;129;01mis\u001b[39;00m \u001b[38;5;28;01mFalse\u001b[39;00m:\n\u001b[0;32m--> 695\u001b[0m     model \u001b[38;5;241m=\u001b[39m \u001b[43mcd_fast\u001b[49m\u001b[38;5;241;43m.\u001b[39;49m\u001b[43menet_coordinate_descent\u001b[49m\u001b[43m(\u001b[49m\n\u001b[1;32m    696\u001b[0m \u001b[43m        \u001b[49m\u001b[43mcoef_\u001b[49m\u001b[43m,\u001b[49m\u001b[43m \u001b[49m\u001b[43ml1_reg\u001b[49m\u001b[43m,\u001b[49m\u001b[43m \u001b[49m\u001b[43ml2_reg\u001b[49m\u001b[43m,\u001b[49m\u001b[43m \u001b[49m\u001b[43mX\u001b[49m\u001b[43m,\u001b[49m\u001b[43m \u001b[49m\u001b[43my\u001b[49m\u001b[43m,\u001b[49m\u001b[43m \u001b[49m\u001b[43mmax_iter\u001b[49m\u001b[43m,\u001b[49m\u001b[43m \u001b[49m\u001b[43mtol\u001b[49m\u001b[43m,\u001b[49m\u001b[43m \u001b[49m\u001b[43mrng\u001b[49m\u001b[43m,\u001b[49m\u001b[43m \u001b[49m\u001b[43mrandom\u001b[49m\u001b[43m,\u001b[49m\u001b[43m \u001b[49m\u001b[43mpositive\u001b[49m\n\u001b[1;32m    697\u001b[0m \u001b[43m    \u001b[49m\u001b[43m)\u001b[49m\n\u001b[1;32m    698\u001b[0m \u001b[38;5;28;01melse\u001b[39;00m:\n\u001b[1;32m    699\u001b[0m     \u001b[38;5;28;01mraise\u001b[39;00m \u001b[38;5;167;01mValueError\u001b[39;00m(\n\u001b[1;32m    700\u001b[0m         \u001b[38;5;124m\"\u001b[39m\u001b[38;5;124mPrecompute should be one of True, False, \u001b[39m\u001b[38;5;124m'\u001b[39m\u001b[38;5;124mauto\u001b[39m\u001b[38;5;124m'\u001b[39m\u001b[38;5;124m or array-like. Got \u001b[39m\u001b[38;5;132;01m%r\u001b[39;00m\u001b[38;5;124m\"\u001b[39m\n\u001b[1;32m    701\u001b[0m         \u001b[38;5;241m%\u001b[39m precompute\n\u001b[1;32m    702\u001b[0m     )\n",
      "\u001b[0;31mKeyboardInterrupt\u001b[0m: "
     ]
    }
   ],
   "source": [
    "data_model1, lasso_y=selection_var(df_model1)\n",
    "\n"
=======
   "execution_count": null,
   "metadata": {},
   "outputs": [],
   "source": [
    "data_model1, lasso_y=selection_var(df_model1)"
>>>>>>> c12b8e6454b21ae829c5864cd30e82adc7163348
   ]
  },
  {
   "cell_type": "markdown",
   "metadata": {},
   "source": [
    "La base finale étant ainsi constituée, nous allons entrainer le modèle de régression logistique. Avant cela, il faut diviser la base en un échantillon d'apprentissage et un échantillon de test."
   ]
  },
  {
   "cell_type": "code",
   "execution_count": null,
   "metadata": {},
   "outputs": [],
   "source": [
    "x_train,x_test,y_train,y_test = train_test_split(data_model1,lasso_y, test_size=0.2, random_state=42)"
   ]
  },
  {
   "cell_type": "markdown",
   "metadata": {},
   "source": [
    "Par la suite, nous entrainons plusieurs modèle de régression logistique en faisant varier les hyperparamètres grâce à la gridsearchcv, et nous retenons le modèle avec le meilleur score. Etant donné que la base de données est déséquilibrée, nous rajoutons l'option <<class_weight=\"balanced\">>.Cette option utilise les valeurs de y pour ajuster automatiquement les poids inversement proportionnels à la fréquence des classes dans les données d'entrée comme n_samples / (n_classes * np.bincount(y))."
   ]
  },
  {
   "cell_type": "code",
   "execution_count": null,
   "metadata": {},
   "outputs": [],
   "source": [
    "params={'penalty':[\"l2\",None], 'solver':[\"newton-cg\"]}\n",
    "cv=RepeatedStratifiedKFold(n_splits=10, n_repeats=3, random_state=1)\n",
    "grid = GridSearchCV(LogisticRegression(multi_class=\"multinomial\",class_weight=\"balanced\"), params, cv=cv)\n",
    "grid.fit(x_train, y_train)\n",
    "print(\"best params:\",grid.best_params_)\n",
    "print(\"best score:\",grid.best_score_)"
   ]
  },
  {
   "cell_type": "code",
   "execution_count": null,
   "metadata": {},
   "outputs": [],
   "source": [
    "model=grid.best_estimator_\n",
    "acc_train = accuracy_score(y_train, model.predict(x_train))\n",
    "acc_test = accuracy_score(y_test, model.predict(x_test))\n",
    "print(f\"le modèle à un score de {round(acc_train, 2)} sur les données d'entrainnement et {round(acc_test, 2)} sur les données de test.\")"
   ]
  },
  {
   "cell_type": "markdown",
   "metadata": {},
   "source": [
    "Nous allons visualiser les odds_ratio qui donnent l'importance des variables dans la prédiction, en utilisant le coéfficients des variables dans la fonction de  décision.\n",
    "\n",
    "L'odds ratio est une mesure statistique qui compare les cotes d'un évènement entre deux groupe différents."
   ]
  },
  {
   "cell_type": "code",
   "execution_count": null,
   "metadata": {},
   "outputs": [],
   "source": [
    "importances = model.coef_[0]\n",
    "odds_ratios = pd.Series(np.exp(importances), index=data_model1.columns).sort_values() #coefficient des variables dans le modèle\n",
    "fig1 = px.bar(x=odds_ratios.tail(10),y=odds_ratios.tail(10).index, orientation=\"h\",title=\"Odds Ratio-reference 1\")\n",
    "fig1.update_layout(xaxis_title=\"exp(coef)\", yaxis_title=\"Variables\")"
   ]
  },
  {
   "cell_type": "code",
   "execution_count": null,
   "metadata": {},
   "outputs": [],
   "source": [
    "importances = model.coef_[1]\n",
    "odds_ratios = pd.Series(np.exp(importances), index=data_model1.columns).sort_values() #coefficient des variables dans le modèle\n",
    "fig1 = px.bar(x=odds_ratios.head(10),y=odds_ratios.head(10).index, orientation=\"h\",title=\"Odds Ratio-reference 1\")\n",
    "fig1.update_layout(xaxis_title=\"exp(coef)\", yaxis_title=\"Variables\")"
   ]
  },
  {
   "cell_type": "code",
   "execution_count": null,
   "metadata": {},
   "outputs": [],
   "source": [
    "importances = model.coef_[2]\n",
    "odds_ratios = pd.Series(np.exp(importances), index=data_model1.columns).sort_values() #coefficient des variables dans le modèle\n",
    "fig1 = px.bar(x=odds_ratios.head(10),y=odds_ratios.head(10).index, orientation=\"h\",title=\"Odds Ratio-reference 1\")\n",
    "fig1.update_layout(xaxis_title=\"exp(coef)\", yaxis_title=\"Variables\")"
   ]
  },
  {
   "cell_type": "code",
   "execution_count": null,
   "metadata": {},
   "outputs": [],
   "source": [
    "importances = model.coef_[3]\n",
    "odds_ratios = pd.Series(np.exp(importances), index=data_model1.columns).sort_values() #coefficient des variables dans le modèle\n",
    "fig1 = px.bar(x=odds_ratios.tail(10),y=odds_ratios.tail(10).index, orientation=\"h\",title=\"Odds Ratio-reference 1\")\n",
    "fig1.update_layout(xaxis_title=\"exp(coef)\", yaxis_title=\"Variables\")"
   ]
  },
  {
   "cell_type": "markdown",
   "metadata": {},
   "source": [
    "Des graphiques précédents, il en ressort que:\n",
    "- les usagers qui ont un dispositif pour enfant ou une ceinture de sécurité lors de l'accident ont au moins 6 fois plus de chance d'être indemne par rapport à ceux qui n'ont pas d'équipement de sécurité.\n",
    "- Les femmes ont environ 20% de chance en moin de sortir indemne d'un accident par rapport aux hommes et 56% de chance d'avoir des blessures graves pendant l'accident par rapport aux hommes.\n",
    "- les usagers avec des équipements de sécurité autres que les conventionnels ont 2 fois plus de chance d'être tué lors d'un accident.\n",
    "- le casque réduit d'environ 50% la probabilité d'être tué, par rapport à ceux qui n'ont pas d'équipement.\n",
    "- Les piétons ont 2,5 fois plus de chance d'avoir des blessures légères lors d'un accident par rapport aux conducteurs.\n",
    "- un usager avec un casque de sécurité à 2 fois plus de chance d'avoir des blessures légères."
   ]
  },
  {
   "cell_type": "markdown",
   "metadata": {},
   "source": [
    "### **2)-A l'échelle d'un accident**"
   ]
  },
  {
   "cell_type": "markdown",
   "metadata": {},
   "source": [
    "Nous commencons par définir le niveau de gravité le plus élevé pour chaque accident."
   ]
  },
  {
   "cell_type": "code",
   "execution_count": null,
   "metadata": {},
   "outputs": [],
   "source": [
    "import numpy as np\n",
    "id_acc=df_model[\"Num_Acc\"].unique()\n",
    "index_true=[]\n",
    "for i in id_acc:\n",
    "    df_id=df_model[df_model[\"Num_Acc\"]==i]\n",
    "    n_grav=np.max(df_id[\"grav\"])\n",
    "    index=df_model[(df_model[\"Num_Acc\"]==i) & (df_model[\"grav\"]==n_grav)].index[0]\n",
    "    index_true.append(index)\n",
    "        \n",
    "df_model.drop([\"Num_Acc\"], axis=1, inplace=True)"
   ]
  },
  {
   "cell_type": "code",
   "execution_count": null,
   "metadata": {},
   "outputs": [],
   "source": [
    "# Niveau de gravité de l'accident présente dans la nouvelle base\n",
    "df_model=df_model.loc[index_true]\n",
    "df_model[\"grav\"].value_counts()"
   ]
  },
  {
   "cell_type": "markdown",
   "metadata": {},
   "source": [
    "Dans les accidents enregistrés, aucun n'a laisser toutes les personnes impliquées indemnes.\n",
    "\n",
    "On recode la variable \"gravité\" par: \n",
    "- 2: niveau de gravité **grave** (2)\n",
    "- 3: niveau de gravité **moyen** (1)\n",
    "- 4: niveau de gravité **faible** (0)"
   ]
  },
  {
   "cell_type": "code",
   "execution_count": null,
   "metadata": {},
   "outputs": [],
   "source": [
    "df_model[\"grav\"]=df_model[\"grav\"].replace([3,4], value=[1,0])\n",
    "\n",
    "# distribution de la gravité\n",
    "df_model[\"grav\"].value_counts()/df_model.shape[0]*100"
   ]
  },
  {
   "cell_type": "markdown",
   "metadata": {},
   "source": [
    "Par la suite, étant donné que certaines variables ont trop de catégories (par exemple la variable catégorie du véhicule qui a 50 catégories), nous allons aggrégé certaines catégories afin de réduire le nombre de catégories pour ces variables. Dans la nouvelle définition, on a:\n",
    "- Catégorie de véhicules:\n",
    "    * 1: véhicules à deux roues\n",
    "    * 2: quadricycle\n",
    "    * 3: engin lourd\n",
    "    * 4: véhicule léger\n",
    "    * 5: véhicule utilitaire\n",
    "    * 7: transport en commun\n",
    "    * 8: 3RM\n",
    "    * 9: EDP\n",
    "- Manoeuvre:\n",
    "    * 1: Sans changement de direction\n",
    "    * 11: changeant de file\n",
    "    * 13: déporté\n",
    "    * 15: tournant\n",
    "    * 17: dépassant\n",
    "    * 19: divers\n"
   ]
  },
  {
   "cell_type": "code",
   "execution_count": null,
   "metadata": {},
   "outputs": [],
   "source": [
    "df_model[\"manv\"] = df_model[\"manv\"].replace(2,value=1)\n",
    "df_model[\"manv\"] = df_model[\"manv\"].replace(12,value=11)\n",
    "df_model[\"manv\"] = df_model[\"manv\"].replace(14,value=13)\n",
    "df_model[\"manv\"] = df_model[\"manv\"].replace(16,value=15)\n",
    "df_model[\"manv\"] = df_model[\"manv\"].replace(18,value=17)\n",
    "df_model[\"manv\"] = df_model[\"manv\"].replace([20,21,22,23,24,25,26],value=19)\n",
    "\n",
    "df_model[\"catv\"] = df_model[\"catv\"].replace([4,30,32,2,5,31,33,34],value=1)\n",
    "df_model[\"catv\"] = df_model[\"catv\"].replace([36,35,3],value=2)\n",
    "df_model[\"catv\"] = df_model[\"catv\"].replace([20,21,13,14,15],value=3)\n",
    "df_model[\"catv\"] = df_model[\"catv\"].replace([7,8,9],value=4)\n",
    "df_model[\"catv\"] = df_model[\"catv\"].replace([10,11,12],value=5)\n",
    "df_model[\"catv\"] = df_model[\"catv\"].replace([16,17],value=7)\n",
    "df_model[\"catv\"] = df_model[\"catv\"].replace([18,37,39,19,40,38],value=8)\n",
    "df_model[\"catv\"] = df_model[\"catv\"].replace([41,42,43],value=9)\n",
    "df_model[\"catv\"] = df_model[\"catv\"].replace([50,60],value=10)"
   ]
  },
  {
   "cell_type": "markdown",
   "metadata": {},
   "source": [
    "Entrainons à présent le modèle de régression logistique avec les données."
   ]
  },
  {
   "cell_type": "code",
   "execution_count": null,
   "metadata": {},
   "outputs": [],
   "source": [
    "datamodel_2, lasso_y=selection_var(df_model)\n",
    "x_train,x_test,y_train,y_test = train_test_split(datamodel_2, lasso_y , test_size=0.2, random_state=42)\n",
    "params={'penalty':[\"l2\",None], 'solver':[\"newton-cg\"]}\n",
    "cv=RepeatedStratifiedKFold(n_splits=10, n_repeats=3, random_state=1)\n",
    "grid = GridSearchCV(LogisticRegression(multi_class=\"multinomial\",class_weight=\"balanced\"), params, cv=cv)\n",
    "grid.fit(x_train, y_train)\n",
    "print(\"best params:\",grid.best_params_)\n",
    "print(\"best score:\",grid.best_score_)"
   ]
  },
  {
   "cell_type": "code",
   "execution_count": null,
   "metadata": {},
   "outputs": [],
   "source": [
    "model=grid.best_estimator_\n",
    "acc_train = accuracy_score(y_train, model.predict(x_train))\n",
    "acc_test = accuracy_score(y_test, model.predict(x_test))\n",
    "print(f\"le modèle à un score de {round(acc_train, 2)} sur les données d'entrainnement et {round(acc_test, 2)} sur les données de test.\")"
   ]
  },
  {
   "cell_type": "code",
   "execution_count": null,
   "metadata": {},
   "outputs": [],
   "source": [
    "#confusion matrix\n",
    "from sklearn import metrics\n",
    "predictions = model.predict(x_test)\n",
    "cm = metrics.confusion_matrix(y_test, predictions)\n",
    "plt.figure(figsize=(9,9))\n",
    "sns.heatmap(cm, annot=True, fmt=\".3f\", linewidths=.5, square = True, cmap = 'Blues_r');\n",
    "plt.ylabel('Actual label');\n",
    "plt.xlabel('Predicted label');\n",
    "all_sample_title = 'Accuracy Score: {0}'.format(acc_test)\n"
   ]
  },
  {
   "cell_type": "markdown",
   "metadata": {},
   "source": [
    "Le modèle prédit correctement qu'un accident est de gravité faible dans 82% des cas, qu'il est de gravité moyen dans 62% des cas et qu'il est de gravité élevée dans 9% des cas.\n",
    "\n",
    "Visualisons ensuite l'importance des variables dans le prédiction."
   ]
  },
  {
   "cell_type": "code",
   "execution_count": null,
   "metadata": {},
   "outputs": [],
   "source": [
    "importances1 = model.coef_[0]\n",
    "odds_ratios1 = pd.Series(np.exp(importances1), index=datamodel_2.columns).sort_values() #coefficient des variables dans le modèle\n",
    "fig1 = px.bar(x=odds_ratios1.tail(10),y=odds_ratios1.tail(10).index, orientation=\"h\",title=\"Odds Ratio-reference 1\")\n",
    "fig1.update_layout(xaxis_title=\"exp(coef)\", yaxis_title=\"Variables\")"
   ]
  },
  {
   "cell_type": "code",
   "execution_count": null,
   "metadata": {},
   "outputs": [],
   "source": [
    "importances2 = model.coef_[1]\n",
    "odds_ratios2 = pd.Series(np.exp(importances2), index=datamodel_2.columns).sort_values() #coefficient des variables dans le modèle\n",
    "fig2 = px.bar(x=odds_ratios2.tail(10),y=odds_ratios2.tail(10).index, orientation=\"h\",title=\"Odds Ratio-reference 2\")\n",
    "fig2.update_layout(xaxis_title=\"exp(coef)\", yaxis_title=\"Variables\")"
   ]
  },
  {
   "cell_type": "code",
   "execution_count": null,
   "metadata": {},
   "outputs": [],
   "source": [
    "importances2 = model.coef_[2]\n",
    "odds_ratios2 = pd.Series(np.exp(importances2), index=datamodel_2.columns).sort_values() #coefficient des variables dans le modèle\n",
    "fig2 = px.bar(x=odds_ratios2.tail(10),y=odds_ratios2.tail(10).index, orientation=\"h\",title=\"Odds Ratio-reference 2\")\n",
    "fig2.update_layout(xaxis_title=\"exp(coef)\", yaxis_title=\"Variables\")"
   ]
  },
  {
   "cell_type": "markdown",
   "metadata": {},
   "source": [
    "Des graphiques ci-dessus, il en ressort que: \n",
    "- un accident en agglomération à 2 fois plus de chance d'être de niveau de gravité faible que celui hors agglomération.\n",
    "- un accident impliquant une collision de trois vehicules et plus en chaine à presque 2 fois plus de chance d'avoir une gravité faible qu'un accident avec une collision de deux véhicules en frontale.\n",
    "- les accidents incluant des véhicules autres que les catégories de véhicules définit augmente de 70% la chance que l'accident soit de gravité moyenne\n",
    "- un accident impliquant un véhicule entre 2 files à 2 fois plus de chance d'être de niveau faible par rapport à une manoeuvre inconnue.\n",
<<<<<<< HEAD
    "- un accident impliquant une collision de trois vehicules et plus en chaine à presque 2 fois plus de chance d'être d'avoir une gravité faible qu'un accident avec une collision de deux véhicules en frontale.\n",
    "- un accident sur un parc de stationnement ouvert à la circulation publique augmente de 55% la chance qu'il soit de niveau de gravité moyen par rapport à un accident sur l'autoroute.\n",
    "- un accident sur une route départementale augmente la probabilité de 30% que l'accident soit de gravité moyenne par rapport à un accident sur l'autoroute\n",
    "- un accident impliquant un véhicule de transport en commun ou un engin lourd à presque 3 fois plus de chance d'être de gravité élevé (au moins une personne tuée) que les accidents impliquants des véhicules de catégorie indéterminable.\n"
=======
    "- un accident impliquant un véhicule de transport en commun ou un engin lourd ou encore des véhicules à trois roues motorisé (3RM) ont au moins deux fois plus de chance d'être de gravité élevé (au moins une personne tuée) que les accidents impliquants des véhicules de catégorie indéterminable.\n",
    "- Un accident avec une manoeuvre à contre sens à 44% plus de chance d'être de gravité élevé\n"
>>>>>>> c12b8e6454b21ae829c5864cd30e82adc7163348
   ]
  },
  {
   "cell_type": "markdown",
   "metadata": {},
   "source": [
    "## **Conclusion générale**"
   ]
  }
 ],
 "metadata": {
  "kernelspec": {
   "display_name": "base",
   "language": "python",
   "name": "python3"
  },
  "language_info": {
   "codemirror_mode": {
    "name": "ipython",
    "version": 3
   },
   "file_extension": ".py",
   "mimetype": "text/x-python",
   "name": "python",
   "nbconvert_exporter": "python",
   "pygments_lexer": "ipython3",
   "version": "3.12.7"
  }
 },
 "nbformat": 4,
 "nbformat_minor": 2
}
