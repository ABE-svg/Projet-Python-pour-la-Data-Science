{
 "cells": [
  {
   "cell_type": "markdown",
   "metadata": {},
   "source": [
    "# **Projet python pour la data science / 2024-2025**"
   ]
  },
  {
   "cell_type": "markdown",
   "metadata": {},
   "source": [
    "Rédigé par:\n",
    "* ABE Kevin\n",
    "* DEMGNE Lisa\n",
    "* ZAIDAN Oscar"
   ]
  },
  {
   "cell_type": "markdown",
   "metadata": {},
   "source": [
    "## **Introduction**"
   ]
  },
  {
   "cell_type": "markdown",
   "metadata": {},
   "source": [
    "   Un accident de la route ou accident de la circulation est entendu comme une collision non voulue, non prévue et mal anticipée d'au moins un engin roulant avec une chose, un animal ou une personne sur une voie publique ou privée ouverte à la circulation.Ils constituent un véritable fléau mondial, causant chaque année des milliers de morts et de blessés. Ces tragédies bouleversent des vies et ont un impact considérable sur la société. En France, la lutte contre ce phénomène est prise en charge au niveau national par la délégation à la sécurité routière, qui se sert des éclairages fourni par un document d'information édité annuellement par l'ONISR (Observatoire National Interministériel de la Sécurité Routière) faisant la synthèse des principales données de l'accidentologie.\n",
    "\n",
    "Nous nous intéresserons dans le cadre de ce projet à la description de l'accidentologie en France en 2023, ainsi qu'a la prédiction du niveau de gravité d'un accident. Ainsi, ce projet se donne de renseigner sur la fréquence des accidents, le profil des victimes, les caractéristiques des véhicules impliqués, les conditions météorologiques,... et ainsi que les facteurs succeptibles d'influencer le niveau de gravité d'un accident."
   ]
  },
  {
   "cell_type": "code",
   "execution_count": null,
   "metadata": {},
   "outputs": [],
   "source": [
    "import warnings\n",
    "warnings.filterwarnings(\"ignore\", category=FutureWarning)"
   ]
  },
  {
   "cell_type": "code",
   "execution_count": null,
   "metadata": {},
   "outputs": [],
   "source": [
    "# installation des packages qui pourrait ne pas être installer au préalable\n",
    "!pip install requests\n",
    "!pip install os\n",
    "!pip install matplotlib\n",
    "!pip install pandas \n",
    "!pip install plotly\n",
    "!pip install plotly\n",
    "!pip install io\n",
    "!pip install seaborn\n",
    "!pip install xlrd\n",
    "!pip install ipywidgets\n",
    "!pip install tabulate\n",
    "!pip install ipywidgets \n",
    "!pip install tabulate \n",
    "!pip install scipy\n",
    "!pip install numpy \n",
    "!pip install folium\n",
    "!pip install IPython\n",
    "!pip install geopandas\n",
    "!pip install scikit-learn"
   ]
  },
  {
   "cell_type": "markdown",
   "metadata": {},
   "source": [
    "### Importation des Packages"
   ]
  },
  {
   "cell_type": "code",
   "execution_count": null,
   "metadata": {},
   "outputs": [],
   "source": [
    "import requests\n",
    "import os\n",
    "import matplotlib.pyplot as plt\n",
    "import pandas as pd\n",
    "import geopandas as gpd\n",
    "import folium\n",
    "from folium.plugins import HeatMap\n",
    "import plotly\n",
    "import plotly.express as px\n",
    "import io\n",
    "import seaborn as sns\n",
    "import ipywidgets as widgets\n",
    "from tabulate import tabulate\n",
    "from scipy.stats import chi2_contingency\n",
    "import numpy as np\n",
    "from IPython.display import display\n",
    "from sklearn.model_selection import train_test_split\n",
    "from sklearn.linear_model import LassoCV, Lasso\n",
    "import seaborn as sns\n",
    "from sklearn.metrics import accuracy_score\n",
    "from sklearn.model_selection import GridSearchCV\n",
    "from sklearn.model_selection import RepeatedStratifiedKFold\n",
    "from sklearn.linear_model import LogisticRegression\n",
    "from sklearn.pipeline import Pipeline\n",
    "from sklearn.preprocessing import OneHotEncoder\n",
    "from sklearn.impute import SimpleImputer\n",
    "import matplotlib.colors as mcolors"
   ]
  },
  {
   "cell_type": "markdown",
   "metadata": {},
   "source": [
    "## **I- Importation des bases de données**"
   ]
  },
  {
   "cell_type": "markdown",
   "metadata": {},
   "source": [
    "Dans cette partie, nous allons importer les bases données qui seront utilisées dans ce projet.\n",
    "- base des usagers ayant été impliqué dans un accident de circulation en 2023\n",
    "- base des véhicules impliqués dans les accidents de circulation en 2023\n",
    "- base des lieux où se sont produit les accidents\n",
    "- base contenant les caractéristiques des accidents.\n",
    "- base des données démographiques de l'INSEE.\n",
    "\n",
    "\n"
   ]
  },
  {
   "cell_type": "markdown",
   "metadata": {},
   "source": [
    "### 1- Importation des données sur les accidents de la circulation routière"
   ]
  },
  {
   "cell_type": "code",
   "execution_count": null,
   "metadata": {},
   "outputs": [],
   "source": [
    "# fonction de téléchargement des données sur les accidents corporels\n",
    "def telecharge(url_data,filename, path):\n",
    "    # Vérifie si le dossier 'data' existe, sinon le crée\n",
    "    if not os.path.exists(path):\n",
    "        os.makedirs(path)\n",
    "    #télécharge les données avec l'url\n",
    "    response = requests.get(url_data)\n",
    "    if response.status_code == 200:\n",
    "        file_path = os.path.join(path, filename)\n",
    "        with open(file_path, 'wb') as file:\n",
    "            file.write(response.content)\n",
    "        print(f\"Fichier {filename} téléchargé avec succès:{file_path}\")\n",
    "    else:\n",
    "        print(f\"Echec de téléchargement pour {filename}. Statut: {response.status_code}\")\n",
    "\n",
    "# API pour accéder à l'url de téléchargement\n",
    "url_root=\"https://www.data.gouv.fr/api/1/datasets/53698f4ca3a729239d2036df/resources/\"\n",
    "urls={\n",
    "    \"usagers-2023.csv\":\"68848e2a-28dd-4efc-9d5f-d512f7dbe66f\",\n",
    "    \"vehicules-2023.csv\":\"146a42f5-19f0-4b3e-a887-5cd8fbef057b\",\n",
    "    \"lieux-2023.csv\":\"8bef19bf-a5e4-46b3-b5f9-a145da4686bc\",\n",
    "    \"caract-2023.csv\":\"104dbb32-704f-4e99-a71e-43563cb604f2\"\n",
    "}\n",
    "path='data'\n",
    "\n",
    "for filename, resource_id in urls.items():\n",
    "    url=url_root+resource_id\n",
    "    response1=requests.get(url)\n",
    "    if response1.status_code==200:\n",
    "        data=response1.json()\n",
    "        url_data=data['url']\n",
    "    else:\n",
    "        print(\"downloading failed\")\n",
    "    telecharge(url_data,filename,path)\n"
   ]
  },
  {
   "cell_type": "code",
   "execution_count": null,
   "metadata": {},
   "outputs": [],
   "source": [
    "# base des usagers \n",
    "df_usagers = pd.read_csv(\"data/usagers-2023.csv\", sep = ';')\n",
    "df_usagers2 = df_usagers.copy()\n",
    "df_usagers.head()"
   ]
  },
  {
   "cell_type": "code",
   "execution_count": null,
   "metadata": {},
   "outputs": [],
   "source": [
    "# Base des véhicules \n",
    "df_vehicules = pd.read_csv(\"data/vehicules-2023.csv\", sep = ';')\n",
    "df_vehicules.head()  "
   ]
  },
  {
   "cell_type": "code",
   "execution_count": null,
   "metadata": {},
   "outputs": [],
   "source": [
    "# Base des lieux \n",
    "df_lieux = pd.read_csv(\"data/lieux-2023.csv\", sep = ';')\n",
    "df_lieux.head(5)"
   ]
  },
  {
   "cell_type": "code",
   "execution_count": null,
   "metadata": {},
   "outputs": [],
   "source": [
    "# Base caract\n",
    "df_caract = pd.read_csv(\"data/caract-2023.csv\", sep = ';')\n",
    "df_caract2 =df_caract.copy()\n",
    "df_caract.head()"
   ]
  },
  {
   "cell_type": "markdown",
   "metadata": {},
   "source": [
    "Nous construisons à présent la base de données qui résultera de la fusion des toutes les bases importées précedemment.\n",
    "Dans un premier temps, nous fusionnons la base des usagers et celle des véhicules sur les variables \"Num_acc\" (Numéro de l'accident), \"id_vehicule\" (identifiant du véhicule) et \"num_veh\" (numéro du véhicule) qui sont commun aux deux bases. Ensuite, nous fusionnons les autres bases sur la variable \"Num_acc\". Nous utilisons l'option \"inner\" qui utilise l'intersection des clés dans les deux tables."
   ]
  },
  {
   "cell_type": "code",
   "execution_count": null,
   "metadata": {},
   "outputs": [],
   "source": [
    "# fusion des bases de données\n",
    "df_merge = df_usagers.merge(df_vehicules, on=[\"Num_Acc\",\"id_vehicule\",\"num_veh\"], how=\"inner\") \n",
    "df_merge = df_merge.merge(df_lieux, on=\"Num_Acc\", how=\"inner\")\n",
    "df_merge = df_merge.merge(df_caract, on=\"Num_Acc\", how=\"inner\")"
   ]
  },
  {
   "cell_type": "markdown",
   "metadata": {},
   "source": [
    "### 2- Importation des données démographiques de l'INSEE"
   ]
  },
  {
   "cell_type": "markdown",
   "metadata": {},
   "source": [
    "Dans cette section, nous récupérons le nombre d'habitants par département disponible sur le site de l'INSEE."
   ]
  },
  {
   "cell_type": "code",
   "execution_count": null,
   "metadata": {},
   "outputs": [],
   "source": [
    "# URL du fichier XLS contenant les données de population par département\n",
    "url = \"https://www.insee.fr/fr/statistiques/fichier/7752095/estim-pop-dep-sexe-gca-1975-2024.xls\"\n",
    "\n",
    "# Chemin du dossier où enregistrer les fichiers\n",
    "output_dir = \"data\"\n",
    "os.makedirs(output_dir, exist_ok=True)  # S'assure que le dossier \"data\" existe\n",
    "\n",
    "try:\n",
    "    # Télécharger le fichier XLS\n",
    "    response = requests.get(url)\n",
    "    response.raise_for_status()  # Vérifie que la requête a réussi\n",
    "\n",
    "    # Chemin complet pour enregistrer le fichier XLS\n",
    "    xls_file_path = os.path.join(output_dir, \"estim-pop-dep-sexe-gca-1975-2024.xls\")\n",
    "\n",
    "    # Sauvegarder le fichier XLS localement\n",
    "    with open(xls_file_path, \"wb\") as file:\n",
    "        file.write(response.content)\n",
    "    print(f\"Fichier téléchargé et enregistré sous '{xls_file_path}'\")\n",
    "\n",
    "    # Charger les données dans un DataFrame pandas\n",
    "    data = pd.read_excel(xls_file_path, sheet_name=None, engine='xlrd')  # Charger toutes les feuilles\n",
    "\n",
    "    # Afficher les noms des feuilles pour choisir celle à traiter\n",
    "    print(\"Feuilles disponibles :\", data.keys())\n",
    "\n",
    "    # Sélectionner une feuille spécifique (par exemple, la première)\n",
    "    sheet_name = list(data.keys())[2]  # Adapte selon le nom exact de la feuille\n",
    "    population_data = data[sheet_name]\n",
    "\n",
    "    # Chemin complet pour enregistrer le fichier CSV\n",
    "    csv_file_path = os.path.join(output_dir, \"estim_pop_departement.csv\")\n",
    "\n",
    "    # Sauvegarder la feuille sélectionnée dans un fichier CSV local\n",
    "    population_data.to_csv(csv_file_path, index=False, encoding=\"utf-8\")\n",
    "    print(f\"Fichier '{csv_file_path}' enregistré avec succès !\")\n",
    "\n",
    "except ImportError as e:\n",
    "    print(\"Erreur : xlrd n'est pas installé. Installez-le avec `pip install xlrd`.\")\n",
    "except requests.RequestException as e:\n",
    "    print(\"Erreur lors du téléchargement des données :\", e)\n",
    "except Exception as e:\n",
    "    print(\"Erreur lors du traitement des données :\", e)\n"
   ]
  },
  {
   "cell_type": "code",
   "execution_count": null,
   "metadata": {},
   "outputs": [],
   "source": [
    "# Chemin du fichier local\n",
    "file_path = 'data/estim-pop-dep-sexe-gca-1975-2024.xls'\n",
    "\n",
    "try:\n",
    "    # Charger la feuille 2023\n",
    "    data_2023 = pd.read_excel(file_path, sheet_name='2023', engine='xlrd', header=None)\n",
    "\n",
    "    # Extraire les colonnes pertinentes\n",
    "    df_population = data_2023.iloc[5:101, [0, 7]]  # Lignes 6 à 101, colonnes 1 et 8\n",
    "\n",
    "    # Renommer les colonnes pour plus de clarté\n",
    "    df_population.columns = ['Département', 'Population']\n",
    "\n",
    "    # Supprimer les lignes contenant des valeurs nulles, si nécessaire\n",
    "    df_population.dropna(inplace=True)\n",
    "\n",
    "    # Sauvegarder dans un fichier CSV\n",
    "    df_population.to_csv(\"data/population_2023.csv\", index=False, encoding='utf-8')\n",
    "    print(\"Fichier 'population_2023.csv' créé avec succès.\")\n",
    "\n",
    "except Exception as e:\n",
    "    print(f\"Erreur lors du traitement du fichier : {e}\")\n"
   ]
  },
  {
   "cell_type": "code",
   "execution_count": null,
   "metadata": {},
   "outputs": [],
   "source": [
    "df_population.head()"
   ]
  },
  {
   "cell_type": "markdown",
   "metadata": {},
   "source": [
    "## **II- Analyses descriptives**"
   ]
  },
  {
   "cell_type": "markdown",
   "metadata": {},
   "source": [
    "Dans cette partie, nous ferons essentiellement de l'analyse descriptive univariée et bivariée. De manière plus précise, il s'agira de visualiser la distribution des variables des différentes bases individuellement ou en croisant avec d'autres variables."
   ]
  },
  {
   "cell_type": "markdown",
   "metadata": {},
   "source": [
    "### 1)- Description de la base des usagers"
   ]
  },
  {
   "cell_type": "markdown",
   "metadata": {},
   "source": [
    "Selon le \"Guide BAAC 2017\" un usager est une personne physique impliquée dans un accident de la circulation en tant que conducteur/passager d'un véhicule ou piéton.\n",
    "\n",
    "La base usagers est constituée des variables d'identification des usagers, et principalement de variables catégorielles qui donnent des caractéristiques sur les usagers au moment de l'accident."
   ]
  },
  {
   "cell_type": "code",
   "execution_count": null,
   "metadata": {},
   "outputs": [],
   "source": [
    "df_usagers.info()"
   ]
  },
  {
   "cell_type": "markdown",
   "metadata": {},
   "source": [
    "Par la suite, nous allons analyser les valeurs manquantes de cette base. Pour ce faire, en dehors des valeurs manquantes par défaut, nous remplaçons les modalités -1 par des valeurs manquantes, car en réalité ce sont des valeurs non renseignées donc des valeurs manquantes."
   ]
  },
  {
   "cell_type": "code",
   "execution_count": null,
   "metadata": {},
   "outputs": [],
   "source": [
    "#recodage des variables trajet et actp de la base usager\n",
    "df_usagers[\"trajet\"]=df_usagers[\"trajet\"].replace(0, value=-1)\n",
    "df_usagers[\"actp\"]=df_usagers[\"actp\"].replace(0, value=-1)\n",
    "\n",
    "for column in df_usagers.columns:\n",
    "    df_usagers[column] = df_usagers[column].replace(-1, np.nan)\n",
    "    df_usagers[column] = df_usagers[column].replace(' -1', np.nan)\n",
    "    \n",
    "missing_percentage = (df_usagers.isnull().sum() / len(df_usagers)) * 100\n",
    "print(\"Pourcentage de valeurs manquantes par variable :\")\n",
    "print(missing_percentage)"
   ]
  },
  {
   "cell_type": "markdown",
   "metadata": {},
   "source": [
    "Plusieurs variables contiennent des valeurs manquantes, et certaines n'apportent quasiment aucunes informations. Il s'agit des variables \"secu3\" (3e équipement de sécurité) et \"etatp\" (renseigne si le piéton était accompagné ou non). Nous allons donc les supprimer dans la suite. En outre, d'autres variables ont près de la moitié de leurs valeurs qui sont manquantes (localisation du piéton, action du piéton, deuxième équipement de sécurité), ce qui pourrait biaisé les analyses. Il seront à en tenir compte dans les analyses."
   ]
  },
  {
   "cell_type": "code",
   "execution_count": null,
   "metadata": {},
   "outputs": [],
   "source": [
    "df_usagers=df_usagers.drop([\"etatp\",\"secu3\"], axis=1)"
   ]
  },
  {
   "cell_type": "markdown",
   "metadata": {},
   "source": [
    "Pour une meilleure visualisation des graphiques, nous allons affectés des labels aux modalités. "
   ]
  },
  {
   "cell_type": "code",
   "execution_count": null,
   "metadata": {},
   "outputs": [],
   "source": [
    "#Mapping \n",
    "sexe_labels = {1: 'Masculin', 2: 'Féminin', -1: 'Autres'}\n",
    "catu_labels = {1: 'Conducteur', 2: 'Passager', 3: 'Piéton'}\n",
    "grav_labels = {1: 'Indemne', 2: 'Tué', 3: 'Blessé hospitalisé > 24h', 4: 'Blessé léger',-1: 'Non renseigné'}\n",
    "secu1_labels = {-1: \"Non renseigné\", 0: \"Aucun équipement\", 1: \"Ceinture\", 2: \"Casque\", 3: \"Dispositif enfants\", 4: \"Gilet réfléchissant\",\n",
    "                5: \"Airbag (2RM/3RM)\", 6: \"Gants (2RM/3RM)\", 7: \"Gants + Airbag (2RM/3RM)\", 8: \"Non déterminable\", 9: \"Autre\" }\n",
    "\n",
    "secu2_labels = { -1: \"Non renseigné\", 0: \"Aucun équipement\", 1: \"Ceinture\", 2: \"Casque\", 3: \"Dispositif enfants\", 4: \"Gilet réfléchissant\",\n",
    "                 5: \"Airbag (2RM/3RM)\", 6: \"Gants (2RM/3RM)\", 7: \"Gants + Airbag (2RM/3RM)\", 8: \"Non déterminable\", 9: \"Autre\" }\n",
    "\n",
    "secu3_labels = {-1: \"Non renseigné\",0: \"Aucun équipement\",1: \"Ceinture\",2: \"Casque\",3: \"Dispositif enfants\",4: \"Gilet réfléchissant\",\n",
    "                5: \"Airbag (2RM/3RM)\", 6: \"Gants (2RM/3RM)\", 7: \"Gants + Airbag (2RM/3RM)\", 8: \"Non déterminable\", 9: \"Autre\"}\n",
    "\n",
    "locp_labels = { -1: 'Non renseigné', 0: 'Sans objet', 1: 'A + de 50 m du passage piéton', 2: 'A - de 50 m du passage piéton',\n",
    "             3: 'Sans signalisation lumineuse', 4: 'Avec signalisation lumineuse', 5: 'Trottoir', 6: 'Sur accotement', 7: 'Sur refuge ou BAU',\n",
    "            8: 'Sur contre-allée', 9: 'Inconnue' }                                                                                                                                  \n",
    "actp_labels = { ' -1': 'Non renseigné', '0': 'Sans objet', '1': 'Sens du véhicule heurtant', '2': 'Sens inverse du véhicule heurtant',\n",
    "              '3': 'Traversant', '4': 'Masqué', '5': 'Jouant-courant', '6': 'Avec animal', '7': 'Quitte l arrêt du TC', '8': 'Accède à l arrêt du TC',\n",
    "              '9': 'Autre', 'A': 'Monte ou descend de son véhicule', 'B': 'Inconnu' }\n",
    "\n",
    "etatp_labels = { -1:'Non renseigné', 0: 'Sans objet', 1: 'Seul', 2: 'Accompagé', 3: 'En groupe' }\n",
    "\n",
    "trajet_labels = { -1:'Non renseigné', 0: 'Non renseigné', 1: 'Domicile-travail', 2: 'Domicile-école', 3: 'Courses-achats', 4: 'Utilisation professionnelle',\n",
    "                 5: 'Promenade-loisirs', 9: 'Autre'}\n"
   ]
  },
  {
   "cell_type": "code",
   "execution_count": null,
   "metadata": {},
   "outputs": [],
   "source": [
    "def mapping_apply(data,mapping_dict):\n",
    "    for column, mapping in mapping_dict.items():\n",
    "        if column in data.columns: \n",
    "            data[column] = data[column].map(mapping)"
   ]
  },
  {
   "cell_type": "code",
   "execution_count": null,
   "metadata": {},
   "outputs": [],
   "source": [
    "mapping_dict1 = {\n",
    "    \"sexe\": sexe_labels,\n",
    "    \"catu\": catu_labels,\n",
    "    \"grav\": grav_labels,\n",
    "    \"trajet\": trajet_labels,\n",
    "    \"secu1\": secu1_labels,\n",
    "    \"secu2\": secu2_labels,\n",
    "    \"secu3\": secu3_labels,\n",
    "    \"locp\": locp_labels,\n",
    "    \"actp\": actp_labels,\n",
    "    \"etatp\": etatp_labels}\n",
    "    \n",
    "mapping_apply(df_usagers, mapping_dict1)"
   ]
  },
  {
   "cell_type": "markdown",
   "metadata": {},
   "source": [
    "La fonction ci-dessous permet de représenter les distributions des variables catégorielles. Nous allons l'utiliser dans la suite pour faire les représentations graphiques. Elle prend en entrée le dataframe pandas contenant les données et la liste des colonnes à représenter."
   ]
  },
  {
   "cell_type": "code",
   "execution_count": null,
   "metadata": {},
   "outputs": [],
   "source": [
    "def plot_all_distributions1(df, columns):\n",
    "\n",
    "    # Définitions des titres des graphiques en fontion des variables choisies\n",
    "    column_titles = {\n",
    "        \"catu\":\"Categorie d'usagers\",\n",
    "        \"grav\":\"gravite des blessures de l'usager\",\n",
    "        \"trajet\":\"Motif du deplacement au moment de l'accident\",\n",
    "        \"secu1\":\"Equipement de securite 1\",\n",
    "        \"secu2\":\"Equipement de securite 2\",\n",
    "        \"secu3\":\"Equipement de securite 3\",\n",
    "        \"locp\":\"Localisation du pieton\",\n",
    "        \"actp\":\"Action du pieton\",\n",
    "        \"etatp\":\"Etat du pieton\",\n",
    "        \"senc\": \"Sens de circulation\",\n",
    "        \"obs\": \"Obstacles fixes heurtés\",\n",
    "        \"obsm\": \"Obstacle mobile heurté\",\n",
    "        \"choc\": \"Point de choc initial\",\n",
    "        \"manv\": \"Manœuvre principale avant l'accident\",\n",
    "        \"motor\": \"Type de motorisation du véhicule\",\n",
    "        \"place\": \"place\"\n",
    "    }\n",
    "    \n",
    "    # Définir le nombre de lignes et de colonnes pour les subplots\n",
    "    n_cols = 2  # Nombre de colonnes par ligne pour agrandir les graphiques\n",
    "    n_rows = (len(columns) + n_cols - 1) // n_cols  # Nombre total de lignes (arrondi vers le haut)\n",
    "    \n",
    "    # Initialiser la figure avec une taille plus grande\n",
    "    fig, axes = plt.subplots(n_rows, n_cols, figsize=(20, 6 * n_rows))\n",
    "    axes = axes.flatten()  # Aplatir le tableau des axes pour un accès facile\n",
    "    \n",
    "    # Parcourir les colonnes pour créer chaque graphique\n",
    "    for i, column in enumerate(columns):\n",
    "        sns.countplot(data=df, x=column, palette='viridis', ax=axes[i])\n",
    "        title = column_titles.get(column, column)  # Récupérer le titre ou le nom de la colonne par défaut\n",
    "        axes[i].set_title(f\"Distribution de '{title}'\", fontsize=14)\n",
    "        axes[i].set_xlabel(title, fontsize=12)\n",
    "        axes[i].set_ylabel(\"Counts\", fontsize=12)\n",
    "        axes[i].tick_params(axis='x', rotation=60)\n",
    "        \n",
    "        # Ajouter les valeurs au-dessus des barres\n",
    "        for p in axes[i].patches:\n",
    "            axes[i].annotate(f'{int(p.get_height())}',\n",
    "                             (p.get_x() + p.get_width() / 2., p.get_height()),\n",
    "                             ha='center', va='center',\n",
    "                             fontsize=10, color='black',\n",
    "                             xytext=(0, 5), textcoords='offset points')\n",
    "        \n",
    "    # Supprimer les axes vides si le nombre de graphiques est inférieur aux subplots\n",
    "    for j in range(i + 1, len(axes)):\n",
    "        fig.delaxes(axes[j])\n",
    "        \n",
    "    plt.tight_layout()\n",
    "    plt.show()"
   ]
  },
  {
   "cell_type": "code",
   "execution_count": null,
   "metadata": {},
   "outputs": [],
   "source": [
    "columns1 =[\"catu\",\"grav\",\"trajet\",\"sexe\"]\n",
    "columns2 =[\"secu1\",\"secu2\",\"place\",\"actp\"]\n",
    "columns3 =[\"locp\"]"
   ]
  },
  {
   "cell_type": "code",
   "execution_count": null,
   "metadata": {},
   "outputs": [],
   "source": [
    "plot_all_distributions1(df_usagers, columns1)"
   ]
  },
  {
   "cell_type": "markdown",
   "metadata": {},
   "source": [
    "On observe que la majorité des personnes impliquées dans des accidents sont des conducteurs (soit 93462 usagers), ensuite vient les passagers (22806 usagers) et enfin les piétons (9521 usagers).\n",
    "Par la suite, il en ressort que la majorité des usagers s'en sont sortit indemnes après l'accident, suivie d'un nombre important d'usagers (49603) qui ont subit des blessures légères. Il en ressort également un résultats alarmant selon lequel 19271 des cas d'accidents ont entrainé des blessures graves et nécessitent une hospitalisation de plus de 24 heures et 3398 accidents ont entrainé la mort des usagers\n",
    "\n",
    "En outre, une grande majorité des usagers  qui ont été victime d'un accident étaient en déplacement pour des promenades ou des loisirs. Il pourrait s'agir pour la plupart des jeunes qui pourrait être distrait et donc plus succeptible d'avoir un accident. Ensuite, les trajets domicile-travail et utilisation professionnelle révèlent l'importance des déplacements liés à l'activité professionnelle, totalisant une fréquence de 27478, et pointent des enjeux spécifiques comme les risques associés aux heures de pointe, au stress, et à la fatigue. Les trajets domicile-école (2986) et les déplacements pour courses-achats (3598) sont les moins observés.\n",
    "\n",
    "Enfin, la majorité des usagers impliqués dans les accidents sont de sexe masculin, représentant 66,8% du total. Cela suggère que, dans cette population, les hommes sont nettement plus nombreux que les femmes à être impliqués dans des accidents.Les femmes représentent 31,3% des usagers impliqués et la catégorie \"autres\" représente 1,9% des cas, ce qui pourrait inclure des personnes dont le sexe n'est pas précisé ou qui ne s'identifient pas selon les catégories traditionnelles de sexe. Cette proportion est relativement faible, mais elle mérite d'être mentionnée."
   ]
  },
  {
   "cell_type": "code",
   "execution_count": null,
   "metadata": {},
   "outputs": [],
   "source": [
    "# Dans les commentaires, mentionner le fait que les résultats sont biaisé à cause de la forte proportion des valeurs manquantes \n",
    "# et peuvent en réalité ne pas refléter la vraie distribution dans la population des accidentés enregistré\n",
    "plot_all_distributions1(df_usagers, columns2)"
   ]
  },
  {
   "cell_type": "markdown",
   "metadata": {},
   "source": [
    "En examinant la répartition des dispositifs de sécurité secu1, on constate que la ceinture \n",
    "de sécurité est l'équipement le plus fréquemment utilisé, avec 72988 des usagers tandis que les dispositifs pour enfants représentent \n",
    "une part marginale, à 726 utilisations.\n",
    "\n",
    "Par suite, on observe de part la représentation de la variable \"secu2\" que une grande majorité des usagers n'utilisent pas un deuxième équipement de sécurité. Ils se contentent d'un seul équipement. Pour ceux qui en ont, ils portent des gangs en plus ou bien des équipements non déterminables pour la plupart. Les autres équipements et les combinaisons airbag personnel + gants (2/3 RM) sont les moins utilisés (467 et 141 utilisations respectivement). Cependant pour cette variable, les observations pourrait ne pas refléter la tendance réelle dans la population des accidentés enregistrés à cause de la forte proportion de valeurs manquantes.\n",
    "\n",
    "La variable \"place\" indique la position occupée par les usagers dans le véhicule au moment de l’accident. Les résultats montrent que la majorité des usagers se trouvent en position \"1\" (93440 usagers) au moment de l'accident, correspondant probablement au conducteur, suivie par la position \"2\" (14 060 usagers), qui représente vraisemblablement un passager avant. La position \"10\", qui concerne les piétons, regroupe 9 521 individus, tandis que les positions \"8\" (583 usagers) et \"6\" (202 usagers), probablement liées à des sièges spécifiques à l’arrière ou à des configurations de véhicules moins fréquentes comme les transports en commun ou les deux-roues, affichent les plus faibles fréquences. Ces résultats pourraient s’expliquer par une plus grande exposition des conducteurs et passagers avant dans les accidents, alors que les places moins accessibles ou moins utilisées sont naturellement sous-représentées. La proportion notable de piétons illustre également leur vulnérabilité dans les accidents de la route.\n",
    "\n",
    "De plus, pour la variable qui renseigne l'action du piéton, on observe une forte proportion d'actions sans objet, qui s'explique par le fait que cette variable n'est renseignée que pour les piétons (l'usager appartient à la catégorie des piétons). Donc pour un conducteur ou un passager, cette variable est manquante ou renseignée sans objet. Par exemple, 42% de valeurs manquantes de cette variable sont dû aux conducteurs comme on le montre par la suite. Pour les piétons (qui sont au nombre de 9521 usagers), près de 78% traversaient la route au moment de l'accident.Tandis que environ 7% se déplaçaient dans le sens du véhicule heurtant."
   ]
  },
  {
   "cell_type": "code",
   "execution_count": null,
   "metadata": {},
   "outputs": [],
   "source": [
    "df_usagers[df_usagers[\"catu\"]==\"Conducteur\"][\"actp\"].isnull().sum() / len(df_usagers)*100"
   ]
  },
  {
   "cell_type": "code",
   "execution_count": null,
   "metadata": {},
   "outputs": [],
   "source": [
    "plot_all_distributions1(df_usagers, columns3)"
   ]
  },
  {
   "cell_type": "markdown",
   "metadata": {},
   "source": [
    "Ici également on a une forte proportion des sans objets, qui see justifie comme précedemment.\n",
    "La majorité des piétons se trouvaient dans des lieux sans signalisation lumineuse (34,35% des piétons), ensuite vient ceux qui se trouvaient à moins de 50 mètre du passage piéton (21%) puis ceux qui se trouvaient dans des zones à plus de 50 mètres du passage piéton (15%). La localisation précise de l'accident est inconnue dans moins de 6 % des cas, et seules de rares observations concernent des piétons sur des accotements (3,5 %) ou sur contre-allée (1,6 %).\n"
   ]
  },
  {
   "cell_type": "markdown",
   "metadata": {},
   "source": [
    "Par suite, nous analysons le distribution de l'âge chez les usagers. Pour ce faire, nous utiliserons la variable qui donne l'année de naissance des usagers pour calculer l'âge de ces usagers en 2023."
   ]
  },
  {
   "cell_type": "code",
   "execution_count": null,
   "metadata": {},
   "outputs": [],
   "source": [
    "# Calcul de l'âge\n",
    "df_usagers['age'] = 2023 - df_usagers['an_nais']\n",
    "# Calcul des statistiques descriptives\n",
    "age_stats = df_usagers['age'].describe()\n",
    "\n",
    "age_summary = pd.DataFrame({'Statistique': ['Nombre', 'Moyenne', 'Écart-type', 'Min', '25%', '50% (médiane)', '75%', 'Max'],'Valeur': [int(age_stats['count']),round(age_stats['mean'], 2),round(age_stats['std'], 2),int(age_stats['min']),int(age_stats['25%']),int(age_stats['50%']),int(age_stats['75%']),int(age_stats['max']),]})\n",
    "print(tabulate(age_summary, headers='keys', tablefmt='fancy_grid', showindex=False))\n",
    "# Histogramme\n",
    "plt.figure(figsize=(10, 6))\n",
    "n, bins, patches = plt.hist(df_usagers['age'], bins=20, color='skyblue', edgecolor='black', alpha=0.7)\n",
    "# Ajouter les chiffres au-dessus de chaque barre\n",
    "for i in range(len(patches)):\n",
    "    plt.text(patches[i].get_x() + patches[i].get_width() / 2,  # Position X au centre de la barre\n",
    "             patches[i].get_height(),  # Position Y à la hauteur de la barre\n",
    "             f'{int(n[i])}',  # Afficher le nombre d'usagers\n",
    "             ha='center', va='bottom', fontsize=10, color='black')\n",
    "\n",
    "plt.title('Distribution des âges des usagers', fontsize=14)\n",
    "plt.xlabel('Âge', fontsize=12)\n",
    "plt.ylabel('Nombre d\\'usagers', fontsize=12)\n",
    "# Grille et ajustement\n",
    "plt.grid(axis='y', linestyle='--', alpha=0.7)\n",
    "plt.tight_layout()\n",
    "plt.show()"
   ]
  },
  {
   "cell_type": "markdown",
   "metadata": {},
   "source": [
    "La population analysée, composée de 123 191 usagers, présente un âge moyen de 38,75 ans, avec une dispersion modérée (écart-type de 19,1 ans) \n",
    "et une médiane de 35 ans (la moitié des individus ont moins de 35 ans). La majorité des usagers se situe entre 23 ans (1er quartile) \n",
    "et 52 ans (3e quartile), avec des âges extrêmes allant de 0 à 110 ans, bien que ces valeurs puissent être biaisées par des valeurs abbérantes.\n",
    "La distribution par tranche d'âge révèle une forte proportion de jeunes (11,2 % entre 10 et 19 ans) et une concentration probable dans les tranches d'âge actif (20-49 ans), tandis que les individus très âgés (100 ans et plus) restent marginaux (0,01 %). \n",
    "Ceci pourrait s'expliquer par le fait que ce sont les jeunes qui sont le plus souvent moins prudent sur la route, ou bien il peut s'agir de jeunes ayant eu leur permis il y a pas longtemps."
   ]
  },
  {
   "cell_type": "markdown",
   "metadata": {},
   "source": [
    "### 2)- Description de la base vehicules"
   ]
  },
  {
   "cell_type": "markdown",
   "metadata": {},
   "source": [
    "La base des véhicules est constituée des variables d'identification et des variables catégorielles qui catérisent les véhicules impliqués dans les circulations routières comme la catégorie du véhicule, l'object fixe et mobile heurté par le véhicule, etc."
   ]
  },
  {
   "cell_type": "code",
   "execution_count": null,
   "metadata": {},
   "outputs": [],
   "source": [
    "df_vehicules.info()"
   ]
  },
  {
   "cell_type": "code",
   "execution_count": null,
   "metadata": {},
   "outputs": [],
   "source": [
    "for column in df_vehicules.columns:\n",
    "    df_vehicules[column] = df_vehicules[column].replace(-1, np.nan)\n",
    "    df_vehicules[column] = df_vehicules[column].replace(' -1', np.nan)\n",
    "    \n",
    "missing_percentage = (df_vehicules.isnull().sum() / len(df_vehicules)) * 100\n",
    "print(\"Pourcentage de valeurs manquantes par variable :\")\n",
    "print(missing_percentage)"
   ]
  },
  {
   "cell_type": "markdown",
   "metadata": {},
   "source": [
    "Les variables de cette base contiennent moins de valeurs manquantes à l'exception de la variable \"occutc\"(renseigne sur le nombre d'occupant dans les transports en commun) qui a plus de 99% de valeurs manquantes. Nous allons la supprimer dans la suite car elle n'apporte pas d'informations."
   ]
  },
  {
   "cell_type": "code",
   "execution_count": null,
   "metadata": {},
   "outputs": [],
   "source": [
    "df_vehicules = df_vehicules.drop([\"occutc\"], axis=1)"
   ]
  },
  {
   "cell_type": "markdown",
   "metadata": {},
   "source": [
    "Nous définissons le dictionnaire des variables pour cette base\n"
   ]
  },
  {
   "cell_type": "code",
   "execution_count": null,
   "metadata": {},
   "outputs": [],
   "source": [
    "#Sens de circulation \n",
    "senc_labels = {-1: 'Non renseigné', 0: 'Inconnu', 1: 'PK ou PR ou numéro d\\'adresse postale croissant', \n",
    "            2: 'PK ou PR ou numéro d\\'adresse postale décroissant', 3: 'Absence de repère'}\n",
    "#obstacles_fixes_heurte\n",
    "obs_labels = {-1: \"Non renseigné\", 0: \"Sans objet\", 1: \"Véhicule en stationnement\", 2: \"Arbre\", 3: \"Glissière métallique\", 4: \"Glissière béton\",\n",
    "            5: \"Autre glissière\", 6: \"Bâtiment, mur, pile de pont\", 7: \"Support de signalisation verticale ou poste d’appel d’urgence\", 8: \"Poteau\",\n",
    "            9: \"Mobilier urbain\", 10: \"Parapet\", 11: \"Ilot, refuge, borne haute\", 12: \"Bordure de trottoir\", 13: \"Fossé, talus, paroi rocheuse\",\n",
    "            14: \"Autre obstacle fixe sur chaussée\", 15: \"Autre obstacle fixe sur trottoir ou accotement\", 16: \"Sortie de chaussée sans obstacle\", \n",
    "            17: \"Buse – tête d’aqueduc\"}\n",
    "#Catégorie du véhicule\n",
    "#1: véhicules à deux roues\n",
    "#2: quadricycle\n",
    "#3: engin lourd\n",
    "#4: véhicule léger\n",
    "#5: véhicule utilitaire\n",
    "#7: transport en commun\n",
    "#8: 3RM\n",
    "#9: EDP\n",
    "df_vehicules[\"catv\"] = df_vehicules[\"catv\"].replace([4,30,32,2,5,31,33,34],value=1)\n",
    "df_vehicules[\"catv\"] = df_vehicules[\"catv\"].replace([36,35,3],value=2)\n",
    "df_vehicules[\"catv\"] = df_vehicules[\"catv\"].replace([20,21, 13,14,15,16,17],value=3)\n",
    "df_vehicules[\"catv\"] = df_vehicules[\"catv\"].replace([7,8,9],value=4)\n",
    "df_vehicules[\"catv\"] = df_vehicules[\"catv\"].replace([10,11,12],value=5)\n",
    "df_vehicules[\"catv\"] = df_vehicules[\"catv\"].replace([18,37,39,19,40,38],value=7)\n",
    "df_vehicules[\"catv\"] = df_vehicules[\"catv\"].replace([41,42,43],value=8)\n",
    "df_vehicules[\"catv\"] = df_vehicules[\"catv\"].replace([50,60],value=9)\n",
    "\n",
    "catv_labels = { -1:\"Non renseigné\", 0: \"Indéterminable\", 1: \"vehicules à deux roues\", 2: \"quadricycle\",\n",
    "        3: \"engin lourd\", 4: \"vehicules léger\",\n",
    "        5: \"vehicules utilitaire\", 6: \"Référence inutilisée depuis 2006 (side-car)\", 7: \"transport en commun\",\n",
    "        8: \"3RM\", 9: \"EDP\", 80: \"VAE\", 99: \"Autre véhicule\"}\n",
    "#Obstacle mobile heurté\n",
    "obsm_labels = {-1: \"Non renseigné\", 0: \"Aucun\", 1: \"Piéton\", 2: \"Véhicule\", 4: \"Véhicule sur rail\", 5: \"Animal domestique\", 6: \"Animal sauvage\",\n",
    "        9: \"Autre\"}\n",
    "#point_de_choc_initial\n",
    "choc_labels = {-1: \"Non renseigné\", 0: \"Aucun\", 1: \"Avant\", 2: \"Avant droit\", 3: \"Avant gauche\", 4: \"Arrière\", 5: \"Arrière droit\", 6: \"Arrière gauche\",\n",
    "         7: \"Côté droit\", 8: \"Côté gauche\", 9: \"Chocs multiples (tonneaux)\"}\n",
    "#manoeuvre_principale_avant_accident\n",
    "manv_labels= {-1: \"Non renseigné\", 0: \"Inconnue\", 1: \"Sans changement de direction\", 2: \"Même sens, même file\", 3: \"Entre 2 files\", 4: \"En marche arrière\",\n",
    "        5: \"A contresens\", 6: \"En franchissant le terre-plein central\", 7: \"Dans le couloir bus, dans le même sens\", 8: \"Dans le couloir bus, dans le sens inverse\",\n",
    "        9: \"En s’insérant\", 10: \"En faisant demi-tour sur la chaussée\", 11: \"Changeant de file\", 12: \"Changeant de file\", 13: \"Déporté\", 14: \"Déporté\",\n",
    "        15: \"Tournant\", 16: \"Tournant\", 17: \"Dépassant\", 18: \"Dépassant\", 19: \"Divers\", 20: \"Divers\", 21: \"Divers\", 22: \"Divers\", 23: \"Divers\",\n",
    "        24: \"Divers\", 25: \"Divers\", 26: \"Divers\"}\n",
    "\n",
    "#type_motorisation_vehicule\n",
    "motor_labels = {-1: \"Non renseigné\", 0: \"Inconnue\", 1: \"Hydrocarbures\", 2: \"Hybride électrique\", 3: \"Electrique\", 4: \"Hydrogène\", 5: \"Humaine\",\n",
    "        6: \"Autre\"}"
   ]
  },
  {
   "cell_type": "code",
   "execution_count": null,
   "metadata": {},
   "outputs": [],
   "source": [
    "mapping_dict2 = {\n",
    "    \"senc\": senc_labels,\n",
    "    \"catv\": catv_labels,\n",
    "    \"obs\": obs_labels,\n",
    "    \"choc\": choc_labels,\n",
    "    \"obsm\": obsm_labels,\n",
    "    \"manv\": manv_labels,\n",
    "    \"motor\": motor_labels,\n",
    "}\n",
    "mapping_apply(df_vehicules,mapping_dict2)"
   ]
  },
  {
   "cell_type": "code",
   "execution_count": null,
   "metadata": {},
   "outputs": [],
   "source": [
    "plot_all_distributions1(df_vehicules, [\"senc\", \"obsm\",\"choc\", \"motor\"])"
   ]
  },
  {
   "cell_type": "markdown",
   "metadata": {},
   "source": [
    "Dans la majorité des cas, l'accident a eu lieu dans un sens de circulation de point kilométrique (PK), ou point de repère (PR) ou numéro d'adresse postale croissant (41 843 cas), suivis des cas avec PK ou PR ou numéro d'adresse postale décroissant(32002). tandis qu'une proportion non négligeable (5 173 usagers) a été enregistrée avec un sens de circulation inconnu, ce qui pourrait refléter des lacunes dans la collecte des données ou des situations ambiguës, telles que des accidents survenus à des intersections, dans des zones non balisées, ou impliquant des usagers pour lesquels la direction était difficile à déterminer.\n",
    "\n",
    "Concernant l'obstacle mobile heurté (obsm), dans la plupart des accidents l'objet mobile heurté est un véhicule. Ensuite, 17 760 véhicules n'ont pas heurté un obstacle mobile lors de l'accident (il pourrait s'agir plutôt d'obstacle fixe), et 9 349 véhicules ont heurté des piétons. Ces chiffres pourraient refléter un non-respect du code de la route ou des comportements imprudents. En revanche, une faible proportion des accidents est liée à des animaux domestiques (77 cas), des animaux sauvages (134 cas) et des véhicules sur rail (93 cas).\n",
    "\n",
    "D'autre part, les chocs lors des accidents se produisent principalement à l’avant du véhicule (34 068 cas), suivis des collisions à l’avant gauche (13 917 cas) et à l’avant droit (11 505 cas), tandis que les chocs multiples (tonneaux) sont rares (1 274 cas), suggérant que les impacts frontaux sont les plus fréquents, mais que les risques graves, bien que moins fréquents, concernent surtout les accidents complexes et les collisions arrière droit (2 668 cas).\n",
    "\n",
    "Par suite, la distribution du type de motorisation du véhicule montre une nette domination des véhicules à hydrocarbures, avec 72 949 occurrences, ce qui reflète leur omniprésence dans les transports actuels. Les motorisations alternatives, comme l'hydrogène (110 véhicules), les hybrides électriques (1 918 véhicules) et les électriques (4 983 véhicules), affichent des fréquences bien plus faibles, témoignant de leur adoption encore limitée. Les véhicules à propulsion humaine (5 352 cas) et les motorisations \"inconnues\" (7 537 cas) occupent une part non négligeable, ce qui pourrait s'expliquer par des catégories spécifiques de véhicules ou des limitations dans la collecte des données. Ces résultats traduisent la prédominance actuelle des véhicules thermiques tout en laissant entrevoir une légère diversification vers des alternatives plus écologiques."
   ]
  },
  {
   "cell_type": "code",
   "execution_count": null,
   "metadata": {},
   "outputs": [],
   "source": [
    "def other_plot(df, column, title, xlabel, ylabel=\"Frequence\", rotation=45, palette='viridis'):\n",
    "    plt.figure(figsize=(20, 6))\n",
    "    ax = sns.countplot(x=df[column], palette=palette)\n",
    "    \n",
    "    # Ajouter les chiffres sur les barres\n",
    "    for p in ax.patches:\n",
    "        ax.annotate(f'{int(p.get_height())}', \n",
    "                    (p.get_x() + p.get_width() / 2., p.get_height()), \n",
    "                    ha='center', va='baseline', fontsize=12, color='black', xytext=(0, 5), \n",
    "                    textcoords='offset points')\n",
    "    \n",
    "    plt.title(title)\n",
    "    plt.xlabel(xlabel)\n",
    "    plt.ylabel(ylabel)\n",
    "    plt.xticks(rotation=rotation)\n",
    "    plt.show()\n"
   ]
  },
  {
   "cell_type": "code",
   "execution_count": null,
   "metadata": {},
   "outputs": [],
   "source": [
    "other_plot(df_vehicules, \"obs\", \"Distribution de obstacle fixe heurté\", \"Obstacle fixe heurté\")"
   ]
  },
  {
   "cell_type": "markdown",
   "metadata": {},
   "source": [
    "On observe une prépondérance des valeurs sans objets qui après analyse de la base, s'interprète comme aucun obstacle fixe heurté ou bien non déterminé. Pour des véhicules qui ont heurté un obstacle mobile sans avoir heurté un obstacle fixe, la valeur pour cette variable est sans objet. Parmi les obstacles fixes les plus fréquemment heurtés, on trouve les véhicules en stationnement (2 234 cas), glissières de béton (1 397 cas), et les fossés, talus ou parois rocheuses (1 717 cas), tandis que les obstacles moins courants incluent des buses - têtes d'aqueduc (100 cas) et des îlots-refuges, bornes hautes (57 cas)."
   ]
  },
  {
   "cell_type": "code",
   "execution_count": null,
   "metadata": {},
   "outputs": [],
   "source": [
    "other_plot(df_vehicules, \"manv\", \"Distribution de manoeuvre principale avant l’accident\", \"Manoeuvre principale avant l’accident \")"
   ]
  },
  {
   "cell_type": "markdown",
   "metadata": {},
   "source": [
    "La distribution de la manœuvre principale avant l'accident révèle que la majorité des usagers n’effectuaient aucun changement de direction (38 979 cas), ce qui reflète une situation où les accidents surviennent principalement lors de trajets linéaires, sans manœuvres complexes. Les catégories \"Même sens, même file\" (10 654 cas) et \"Tournant\" (9 827 cas) représentent également des situations courantes, probablement dues à des erreurs dans des contextes de dépassement ou de virages. Les catégories \"Inconnu\" (6 253 cas) et \"Déporté\" (6 025 cas) indiquent des manœuvres moins précises ou des comportements inattendus avant l'accident. Enfin, les fréquences les plus faibles concernent des manœuvres spécifiques comme \"Dans le couloir, dans le sens inverse\" (22 cas) et \"En marche arrière\" (452 cas), ce qui peut s’expliquer par leur rareté dans les déplacements habituels. Ces résultats montrent que les accidents sont davantage liés à des situations de conduite courantes qu’à des manœuvres atypiques."
   ]
  },
  {
   "cell_type": "code",
   "execution_count": null,
   "metadata": {},
   "outputs": [],
   "source": [
    "other_plot(df_vehicules, \"catv\", \"Distribution de categorie de vehicule\", \"categorie de vehicule\")"
   ]
  },
  {
   "cell_type": "markdown",
   "metadata": {},
   "source": [
    "La distribution de la catégorie de véhicule (catv) montre une nette prédominance des véhicules légers seuls (VL seul), avec 54 620 cas, ce qui reflète leur rôle central dans la majorité des déplacements. Les catégories \"EDP à moteur\" (7 688 cas) et \"Scooter > 50 cm3 et <= 125 cm3\" (6 853 cas) occupent également des parts significatives (Non au sens de la théorie des tests), indiquant leur utilisation fréquente, notamment en milieu urbain. À l'inverse, les véhicules moins courants, comme les \"Quads légers <= 50 cm3 (Quadricycles à moteur non carrossés)\" (3 cas) et les \"3 roues motorisées <= 50 cm3\" (21 cas), affichent des fréquences extrêmement faibles. Ces résultats mettent en évidence une concentration des accidents impliquant des véhicules largement répandus et un risque plus limité pour des véhicules moins couramment utilisés, probablement en raison de leur usage spécifique ou restreint. "
   ]
  },
  {
   "cell_type": "markdown",
   "metadata": {},
   "source": [
    "### 3)- Description de la base des lieux"
   ]
  },
  {
   "cell_type": "markdown",
   "metadata": {},
   "source": [
    "La base des lieux est constituée de la variable d'identification qui donne le numéro de l'accident, car l'accident a lieu dans un endroit précis, ainsi que des variables catégorielles qui caractérisent le lieu de l'accident telles que la catégorie de la route, l'infrastructure de la route, le regime de circulation, etc. Aussi, il y a des variables continues telles que le nombre de voie de la circulation sur la route, la vitesse maximale, etc."
   ]
  },
  {
   "cell_type": "code",
   "execution_count": null,
   "metadata": {},
   "outputs": [],
   "source": [
    "df_lieux.info()"
   ]
  },
  {
   "cell_type": "code",
   "execution_count": null,
   "metadata": {},
   "outputs": [],
   "source": [
    "for column in df_lieux.columns:\n",
    "    df_lieux[column] = df_lieux[column].replace(-1, np.nan)\n",
    "    df_lieux[column] = df_lieux[column].replace(' -1', np.nan)\n",
    "    \n",
    "missing_percentage = (df_lieux.isnull().sum() / len(df_lieux)) * 100\n",
    "print(\"Pourcentage de valeurs manquantes par variable :\")\n",
    "print(missing_percentage)"
   ]
  },
  {
   "cell_type": "markdown",
   "metadata": {},
   "source": [
    "Plusieurs variables ont de fortes proportions de valeurs manquantes dans cette base. Néamoins toutes n'interviendront pas dans les analyses, notamment les variables \"voie\",\"v1\",\"v2\" qui servent à identifier la route. De plus la variable qui donne la largeur du terre plein centrale (lartpc) à 99% de valeurs manquantes tandis que celle qui donne la largeur de la chaussée affectée à la circulation des véhicules (larrout) à 74% de valeurs manquantes.\n"
   ]
  },
  {
   "cell_type": "markdown",
   "metadata": {},
   "source": [
    " Définissons le dictionnaire des variables."
   ]
  },
  {
   "cell_type": "code",
   "execution_count": null,
   "metadata": {},
   "outputs": [],
   "source": [
    "catr_labels = {1: \"Autoroute\", 2: \"Route nationale\", 3: \"Route départementale\",4: \"Voie communale\", 5: \"Hors réseau public\",\n",
    "        6: \"Parc de stationnement\", 7: \"Routes de métropole urbaine\", 9: \"Autre\"}\n",
    "\n",
    "circ_labels = { 1: \"À sens unique\",  2: \"Bidirectionnelle\", 3: \"À chaussées séparées\", 4: \"Avec voies d’affectation variable\"}\n",
    "\n",
    "vosp_labels = { 0: \"Sans objet\", 1: \"Piste cyclable\", 2: \"Bande cyclable\", 3: \"Voie réservée\"}\n",
    "\n",
    "prof_labels = { 1: \"Plat\", 2: \"Pente\", 3: \"Sommet de côte\", 4: \"Bas de côte\"}\n",
    "\n",
    "plan_labels = { 1: \"Partie rectiligne\", 2: \"En courbe à gauche\", 3: \"En courbe à droite\",4: \"En 'S'\"}\n",
    "\n",
    "surf_labels = {  1: \"Normale\", 2: \"Mouillée\", 3: \"Flaques\", 4: \"Inondée\", 5: \"Enneigée\", 6: \"Boue\", 7: \"Verglacée\",\n",
    "     8: \"Corps gras – huile\", 9: \"Autre\"}\n",
    "\n",
    "infra_labels = { 0: \"Aucun\", 1: \"Souterrain - tunnel\", 2: \"Pont - autopont\", 3: \"Bretelle d’échangeur\", 4: \"Voie ferrée\",\n",
    "     5: \"Carrefour aménagé\", 6: \"Zone piétonne\", 7: \"Zone de péage\", 8: \"Chantier\",9: \"Autres\"}\n",
    "\n",
    "situ_labels = {0: \"Aucun\",1: \"Sur chaussée\",2: \"Sur bande d’arrêt d’urgence\",3: \"Sur accotement\",4: \"Sur trottoir\",\n",
    "    5: \"Sur piste cyclable\", 6: \"Sur autre voie spéciale\", 8: \"Autres\"}"
   ]
  },
  {
   "cell_type": "code",
   "execution_count": null,
   "metadata": {},
   "outputs": [],
   "source": [
    "lum_labels = {1: \"Plein jour\",2: \"Crépuscule ou aube\", 3: \"Nuit sans éclairage public\", 4: \"Nuit avec éclairage public non allumé\",\n",
    "    5: \"Nuit avec éclairage public allumé\"\n",
    "}\n",
    "\n",
    "agg_labels = {\n",
    "    1: \"Hors agglomération\",\n",
    "    2: \"En agglomération\"\n",
    "}\n",
    "\n",
    "int_labels = { 1: \"Hors intersection\", 2: \"Intersection en X\", 3: \"Intersection en T\", 4: \"Intersection en Y\", 5: \"Intersection à plus de 4 branches\",\n",
    "    6: \"Giratoire\",7: \"Place\", 8: \"Passage à niveau\", 9: \"Autre intersection\"\n",
    "}\n",
    "\n",
    "atm_labels = { 1: \"Normale\", 2: \"Pluie légère\", 3: \"Pluie forte\", 4: \"Neige - grêle\", 5: \"Brouillard - fumée\",\n",
    "     6: \"Vent fort - tempête\", 7: \"Temps éblouissant\", 8: \"Temps couvert\", 9: \"Autre\"\n",
    "}\n",
    "\n",
    "col_labels = { 1: \"Deux véhicules - frontale\", 2: \"Deux véhicules – par l’arrière\",3: \"Deux véhicules – par le côté\",\n",
    "    4: \"Trois véhicules et plus – en chaîne\", 5: \"Trois véhicules et plus - collisions multiples\", 6: \"Autre collision\", 7: \"Sans collision\"\n",
    "}"
   ]
  },
  {
   "cell_type": "code",
   "execution_count": null,
   "metadata": {},
   "outputs": [],
   "source": [
    "# mapping des variables\n",
    "mapping_dict1 = {\n",
    "    \"catr\": catr_labels,\n",
    "    \"circ\": circ_labels,\n",
    "    \"vosp\": vosp_labels,\n",
    "    \"prof\": prof_labels,\n",
    "    \"plan\": plan_labels,\n",
    "    \"agg\": agg_labels,\n",
    "    \"col\": col_labels,\n",
    "    \"atm\": atm_labels,\n",
    "    \"situ\": situ_labels,\n",
    "    \"infra\": infra_labels,\n",
    "    \"surf\": surf_labels}\n",
    "    \n",
    "mapping_apply(df_lieux, mapping_dict1)"
   ]
  },
  {
   "cell_type": "markdown",
   "metadata": {},
   "source": [
    "Nous allons dans un premier temps observer le nombre d'accidents par type de route et par mois. "
   ]
  },
  {
   "cell_type": "code",
   "execution_count": null,
   "metadata": {},
   "outputs": [],
   "source": [
    "# Comptage des occurrences par catégorie de route\n",
    "catr_counts = df_lieux['catr'].value_counts().sort_index()\n",
    "catr_gravite_prop = (\n",
    "    df_lieux.merge(df_usagers, on=[\"Num_Acc\"], how=\"inner\")\n",
    "    .groupby(['catr', 'grav'])\n",
    "    .size()\n",
    "    .unstack(fill_value=0)\n",
    ")\n",
    "\n",
    "# Calcul des proportions par catégorie de route\n",
    "catr_gravite_prop = catr_gravite_prop.div(catr_gravite_prop.sum(axis=1), axis=0)\n",
    "\n",
    "# Création des deux graphiques côte à côte\n",
    "fig, axes = plt.subplots(1, 2, figsize=(15, 6), sharey=False)\n",
    "\n",
    "# Graphique 1 : Nombre d'accidents par type de route\n",
    "axes[0].bar(catr_counts.index, catr_counts, color='green', edgecolor='black')\n",
    "axes[0].set_title(\"Nombre d'accidents par type de route (catr)\")\n",
    "axes[0].set_xlabel(\"Type de route\")\n",
    "axes[0].set_ylabel(\"Nombre d'accidents\")\n",
    "axes[0].tick_params(axis='x', rotation=45)\n",
    "\n",
    "#Graphique 2 :\n",
    "# Calcul des pourcentages d'accidents par mois\n",
    "mois_counts = df_caract['mois'].value_counts(normalize=True).sort_index() * 100\n",
    "\n",
    "axes[1].bar(mois_counts.index, mois_counts, color='lightcoral', edgecolor='black')\n",
    "axes[1].set_title(\"Pourcentage d'accidents par mois\")\n",
    "axes[1].set_xlabel(\"Mois\")\n",
    "axes[1].set_ylabel(\"Pourcentage d'accidents\")\n",
    "axes[1].set_xticks(range(1, 13))\n",
    "axes[1].set_xticklabels([\n",
    "    \"Janvier\", \"Février\", \"Mars\", \"Avril\", \"Mai\", \"Juin\", \n",
    "    \"Juillet\", \"Août\", \"Septembre\", \"Octobre\", \"Novembre\", \"Décembre\"\n",
    "], rotation=45)\n",
    "axes[1].yaxis.set_major_formatter(plt.FuncFormatter(lambda y, _: f'{y:.0f}%'))\n",
    "\n",
    "# Ajustement de la mise en page\n",
    "plt.tight_layout()\n",
    "plt.show()\n"
   ]
  },
  {
   "cell_type": "markdown",
   "metadata": {},
   "source": [
    "De la distribution des accidents par type de route, on observe que: \n",
    "- Les **voies communales** et les **routes départementales** présentent le plus grand nombre d'accidents, avec une proportion nettement supérieure aux autres types de routes.\n",
    "- Les **autoroutes** et les **routes nationales** ont beaucoup moins d'accidents en comparaison.\n",
    "- Les types de routes comme le **parc de stationnement**, les **routes de métropole urbaine** et les routes **hors réseau public** ont des nombres d'accidents très faibles.\n",
    "\n",
    "S'agissant de la distribution des accidents par mois, on constate une augmentation des accidents pendant les mois d'été (**mai, juin, juillet**), avec un pic en **juin**. Tandis que les mois d'hiver (**novembre, décembre, février**) enregistrent des pourcentages légèrement inférieurs.\n",
    "\n",
    "\n",
    "\n"
   ]
  },
  {
   "cell_type": "markdown",
   "metadata": {},
   "source": [
    "Observons maintenant les conditions atmosphériques. "
   ]
  },
  {
   "cell_type": "code",
   "execution_count": null,
   "metadata": {},
   "outputs": [],
   "source": [
    "months_jj = [6, 7]\n",
    "months_so = [ 9, 10]\n",
    "# Créer des copies explicites des DataFrames filtrés\n",
    "data_jj = df_caract[df_caract['mois'].isin(months_jj)].copy()\n",
    "data_so = df_caract[df_caract['mois'].isin(months_so)].copy()\n",
    "\n",
    "# Remplacer les indices par leurs labels AVANT de calculer les pourcentages\n",
    "data_jj['atm_label'] = data_jj['atm'].map(atm_labels)\n",
    "data_so['atm_label'] = data_so['atm'].map(atm_labels)\n",
    "\n",
    "# Compter les accidents par conditions atmosphériques pour chaque groupe\n",
    "atm_counts_jj = data_jj['atm_label'].value_counts().sort_index()\n",
    "atm_counts_so = data_so['atm_label'].value_counts().sort_index()\n",
    "\n",
    "# Calcul des pourcentages pour chaque groupe\n",
    "total_jj = atm_counts_jj.sum()\n",
    "total_so = atm_counts_so.sum()\n",
    "\n",
    "jj_percentages = {label: (atm_counts_jj.get(label, 0) / total_jj) * 100 for label in atm_counts_jj.index}\n",
    "so_percentages = {label: (atm_counts_so.get(label, 0) / total_so) * 100 for label in atm_counts_so.index}\n",
    "\n",
    "# Préparation des données pour affichage côte à côte\n",
    "combined_labels = sorted(set(atm_counts_jj.index).union(set(atm_counts_so.index)))\n",
    "jj_values = [jj_percentages.get(label, 0) for label in combined_labels]\n",
    "so_values = [so_percentages.get(label, 0) for label in combined_labels]\n",
    "\n",
    "x = np.arange(len(combined_labels))  # Positions pour les groupes de barres\n",
    "\n",
    "# Création du graphique\n",
    "plt.figure(figsize=(12, 6))\n",
    "bar_width = 0.4\n",
    "\n",
    "# Barres pour Juin-Juillet\n",
    "plt.bar(x - bar_width / 2, jj_values, bar_width, color='skyblue', edgecolor='black', label='Juin-Juillet', alpha=0.7)\n",
    "\n",
    "# Barres pour Septembre-Octobre\n",
    "plt.bar(x + bar_width / 2, so_values, bar_width, color='orange', edgecolor='black', label='Septembre-Octobre', alpha=0.7)\n",
    "\n",
    "# Personnalisation du graphique\n",
    "plt.title(\"Pourcentage d'accidents par conditions atmosphériques\")\n",
    "plt.xlabel(\"Conditions atmosphériques\")\n",
    "plt.ylabel(\"Pourcentage d'accidents\")\n",
    "plt.xticks(ticks=x, labels=combined_labels, rotation=45)\n",
    "plt.legend()\n",
    "plt.tight_layout()\n",
    "\n",
    "# Affichage du graphique\n",
    "plt.show()\n"
   ]
  },
  {
   "cell_type": "markdown",
   "metadata": {},
   "source": [
    "Le graphique précédent montre une augmentation notable du nombre d'accidents pendant les mois de **juin, juillet** et **septembre, octobre**. Cela pourrait être lié à des périodes spécifiques de l'année :\n",
    "- **Juin et juillet** correspondent aux mois de vacances, marqués par une augmentation des déplacements.\n",
    "- **Septembre et octobre** coïncident avec la rentrée scolaire et professionnelle, entraînant une hausse de l'activité sur les routes.\n",
    "\n",
    "En approfondissant l'analyse des conditions météorologiques pendant ces périodes, on constate que :\n",
    "- Bien que les **conditions normales** (sans intempéries) restent majoritaires, les mois de **septembre-octobre** enregistrent une proportion plus élevée d'accidents survenant par **temps pluvieux**.\n",
    "\n",
    "Ces observations pourraient encourager une exploration plus détaillée des interactions entre la météo et les comportements des usagers de la route pendant ces périodes.\n"
   ]
  },
  {
   "cell_type": "code",
   "execution_count": null,
   "metadata": {},
   "outputs": [],
   "source": [
    "# Filtrage des données nécessaires pour l'analyse des infrastructures\n",
    "infra_counts = df_lieux['infra'].value_counts().sort_index()\n",
    "surf_counts = df_lieux['surf'].value_counts().sort_index()\n",
    "prof_counts = df_lieux['prof'].value_counts().sort_index()\n",
    "plan_counts = df_lieux['plan'].value_counts().sort_index()\n",
    "\n",
    "# Calcul des pourcentages pour chaque variable\n",
    "infra_percentages = (infra_counts / infra_counts.sum()) * 100\n",
    "surf_percentages = (surf_counts / surf_counts.sum()) * 100\n",
    "prof_percentages = (prof_counts / prof_counts.sum()) * 100\n",
    "plan_percentages = (plan_counts / plan_counts.sum()) * 100\n",
    "\n",
    "# Création des graphiques pour chaque variable\n",
    "plt.figure(figsize=(12, 6))\n",
    "\n",
    "# Graphique pour les infrastructures\n",
    "plt.subplot(2, 2, 1)\n",
    "infra_percentages.plot(kind='bar', color='skyblue', edgecolor='black')\n",
    "plt.title(\"Aménagements - Infrastructure (infra)\")\n",
    "plt.xlabel(\"Type d'infrastructure\")\n",
    "plt.ylabel(\"Pourcentage d'accidents\")\n",
    "plt.xticks(rotation=45)\n",
    "\n",
    "# Graphique pour l'état de la surface\n",
    "plt.subplot(2, 2, 2)\n",
    "surf_percentages.plot(kind='bar', color='lightgreen', edgecolor='black')\n",
    "plt.title(\"État de la surface (surf)\")\n",
    "plt.xlabel(\"État de la surface\")\n",
    "plt.ylabel(\"Pourcentage d'accidents\")\n",
    "plt.xticks(rotation=45)\n",
    "\n",
    "# Graphique pour le profil en long\n",
    "plt.subplot(2, 2, 3)\n",
    "prof_percentages.plot(kind='bar', color='salmon', edgecolor='black')\n",
    "plt.title(\"Profil en long (prof)\")\n",
    "plt.xlabel(\"Profil\")\n",
    "plt.ylabel(\"Pourcentage d'accidents\")\n",
    "plt.xticks(rotation=45)\n",
    "\n",
    "# Graphique pour le tracé en plan\n",
    "plt.subplot(2, 2, 4)\n",
    "plan_percentages.plot(kind='bar', color='orange', edgecolor='black')\n",
    "plt.title(\"Tracé en plan (plan)\")\n",
    "plt.xlabel(\"Tracé\")\n",
    "plt.ylabel(\"Pourcentage d'accidents\")\n",
    "plt.xticks(rotation=45)\n",
    "\n",
    "plt.tight_layout()\n",
    "plt.show()\n"
   ]
  },
  {
   "cell_type": "markdown",
   "metadata": {},
   "source": [
    "La majorité des accidents se produisent dans des zones sans infrastructure particulière **(Aucun)**, ce qui pourrait inclure des routes standard sans aménagements spécifiques.\n",
    "Les infrastructures comme les Souterrains - tunnels, Ponts, ou Zones piétonnes enregistrent très peu d'accidents, probablement en raison d'une conception adaptée ou d'une moindre fréquentation.\n",
    "\n",
    "*Hypothèse* : Les zones standard et non aménagées peuvent représenter des risques accrus, notamment en raison d'un manque de signalisation ou d'infrastructures de sécurité.\n",
    "\n",
    "En outre, **l'état Normal** de la surface est de loin le plus fréquent pour les accidents, ce qui peut indiquer que la météo ou les conditions de la chaussée ne sont pas systématiquement les principaux facteurs. Les états Mouillée et d'autres conditions comme Verglacée ou Boueuse représentent une faible proportion d'accidents.\n",
    "\n",
    "*Hypothèse* : Les accidents se produisent souvent dans des conditions normales, suggérant que d'autres facteurs comme la vitesse, l'inattention, ou les caractéristiques des routes (profil, plan) peuvent jouer un rôle important."
   ]
  },
  {
   "cell_type": "markdown",
   "metadata": {},
   "source": [
    "### 4)- Description de la base caract"
   ]
  },
  {
   "cell_type": "markdown",
   "metadata": {},
   "source": [
    "La base des caractéristiques renseignent sur la situation spatiale, temporelle et météorologique au moment de l'accident. Elle est constitué de variables catégorielles et continues. \n"
   ]
  },
  {
   "cell_type": "code",
   "execution_count": null,
   "metadata": {},
   "outputs": [],
   "source": [
    "df_caract.info()"
   ]
  },
  {
   "cell_type": "markdown",
   "metadata": {},
   "source": [
    "Les variables **lat** et **long** qui donnent respectivement la latitude et la longitude  apparaissent comme des variables de type object car le séparateur de décimal n'est pas celui reconnu par python. Pour corriger cela, il suffit de remplacer les points par des virgules."
   ]
  },
  {
   "cell_type": "code",
   "execution_count": null,
   "metadata": {},
   "outputs": [],
   "source": [
    "# Remplacer les virgules par des points et convertir en float\n",
    "df_caract['lat'] = df_caract['lat'].str.replace(',', '.').astype(float)\n",
    "df_caract['long'] = df_caract['long'].str.replace(',', '.').astype(float)"
   ]
  },
  {
   "cell_type": "code",
   "execution_count": null,
   "metadata": {},
   "outputs": [],
   "source": [
    "accidents_par_departement = df_caract.groupby('dep').size().reset_index(name='nombre_accidents')\n",
    "\n",
    "france_map = gpd.read_file(\"https://france-geojson.gregoiredavid.fr/repo/departements.geojson\")\n",
    "france_map = france_map.merge(accidents_par_departement, left_on=\"code\", right_on=\"dep\")\n",
    "fig, ax = plt.subplots(1, 1, figsize=(10, 10))\n",
    "france_map.plot(column=\"nombre_accidents\", cmap=\"OrRd\", linewidth=0.8, ax=ax, edgecolor=\"0.8\", legend=True)\n",
    "\n",
    "#Ajout des noms de départements\n",
    "for idx, row in france_map.iterrows():\n",
    "    if not pd.isna(row['nom']):  # Vérifie que le nom est défini\n",
    "        ax.annotate(\n",
    "            text=row['nom'],  # Texte à afficher (nom du département)\n",
    "            xy=row['geometry'].centroid.coords[0],  # Position (centre du département)\n",
    "            ha='center', fontsize=8, color='black'  # Alignement et style\n",
    "        )\n",
    "\n",
    "plt.title(\"Nombre d'accidents de la route par département\")\n",
    "plt.axis(\"off\")\n",
    "plt.show()\n",
    "\n",
    "# Trier les départements par nombre d'accidents en ordre décroissant\n",
    "top_departements = accidents_par_departement.sort_values(by='nombre_accidents', ascending=False).head(5)\n",
    "\n",
    "# Afficher les résultats\n",
    "print(\"Departements avec le plus d'accidents :\")\n",
    "print(top_departements)\n",
    "\n"
   ]
  },
  {
   "cell_type": "markdown",
   "metadata": {},
   "source": [
    "Les départements affichant des couleurs rouges foncées (notamment **Île-de-France**, **Rhône** et **Bouches-du-Rhône**) affichent un grand nombre d'accidents. Ceci pourrait s'expliquer par le fait que ces zones correspondent à des régions fortement urbanisées et densément peuplées, où le trafic routier est plus intense.\n",
    "La majorité des départements, représentés en beige clair, présentent un nombre relativement faible d'accidents. Ces départements sont souvent situés dans des zones rurales ou moins peuplées, où la circulation est moins dense.\n",
    "\n",
    "En terme de disparités régionales, les régions avec de grandes agglomérations présentent une concentration plus élevée d'accidents, ce qui est cohérent avec une densité de trafic plus importante."
   ]
  },
  {
   "cell_type": "markdown",
   "metadata": {},
   "source": [
    "Nous nous focalisons sur la distribution des accidents en île de france sur la carte suivante:"
   ]
  },
  {
   "cell_type": "code",
   "execution_count": null,
   "metadata": {},
   "outputs": [],
   "source": [
    "dep_IDF = [\"75\", \"77\", \"78\", \"91\", \"92\", \"93\", \"94\", \"95\"]\n",
    "accidents_idf = df_caract[df_caract['dep'].isin(dep_IDF)]\n",
    "\n",
    "# Définir le centre de l'Île-de-France (latitude et longitude moyennes)\n",
    "center_lat = accidents_idf['lat'].mean()\n",
    "center_long = accidents_idf['long'].mean()\n",
    "\n",
    "# Créer la carte centrée sur l'Île-de-France\n",
    "idf_map = folium.Map(location=[center_lat, center_long], zoom_start=10)\n",
    "\n",
    "# Préparer les données pour la HeatMap (liste de coordonnées)\n",
    "heat_data = accidents_idf[['lat', 'long']].values.tolist()\n",
    "\n",
    "# Ajouter la HeatMap à la carte\n",
    "HeatMap(heat_data, radius=10, blur=15, max_zoom=1).add_to(idf_map)\n",
    "\n",
    "# Afficher la carte\n",
    "idf_map\n"
   ]
  },
  {
   "cell_type": "markdown",
   "metadata": {},
   "source": [
    "La carte précédente a mis en évidence une forte concentration d'accidents en Île-de-France. En nous focalisant davantage sur cette région, la nouvelle carte révèle une densité particulièrement élevée d'accidents dans **l'hypercentre de Paris**. Ces concentrations semblent se situer principalement le long des grands axes routiers, tels que les boulevards périphériques et les artères principales, qui sont les plus empruntés par les usagers. Cela pourrait s'explique par le flux important de véhicules et de piétons dans ces zones, où la densité de population et l'activité économique sont également les plus élevées."
   ]
  },
  {
   "cell_type": "markdown",
   "metadata": {},
   "source": [
    "Une question légitime est de savoir si le nombre d'accidents est directement corrélé à la population des départements. Pour y répondre, la carte suivante présente le nombre d'accidents rapporté au nombre d'habitants de chaque département. Avant de tracer la carte, nous calculons le nombre d'accident par habitant dans chaque département."
   ]
  },
  {
   "cell_type": "code",
   "execution_count": null,
   "metadata": {},
   "outputs": [],
   "source": [
    "merged_df_dep = pd.merge(\n",
    "    accidents_par_departement,\n",
    "    df_population,\n",
    "    left_on='dep',  # Nom de la colonne département dans accidents_par_departement\n",
    "    right_on='Département',  # Nom de la colonne département dans df_population\n",
    "    how='inner'\n",
    ")\n",
    "\n",
    "# Calcul du nombre d'accidents par habitant\n",
    "merged_df_dep['accidents_par_habitant'] = merged_df_dep['nombre_accidents'] / merged_df_dep['Population']\n",
    "\n",
    "print(merged_df_dep.head())\n"
   ]
  },
  {
   "cell_type": "code",
   "execution_count": null,
   "metadata": {},
   "outputs": [],
   "source": [
    "# Vérifier les valeurs minimales et maximales de la colonne\n",
    "vmin = merged_df_dep[\"accidents_par_habitant\"].min()\n",
    "vmax = merged_df_dep[\"accidents_par_habitant\"].max()\n",
    "\n",
    "\n",
    "# Création de la normalisation adaptée aux valeurs réelles\n",
    "norm = mcolors.Normalize(vmin=vmin, vmax=vmax)  \n",
    "cmap = \"Blues\"  \n",
    "\n",
    "# Création de la carte\n",
    "fig, ax = plt.subplots(1, 1, figsize=(12, 12))\n",
    "\n",
    "# Tracer la carte avec la normalisation\n",
    "france_map.plot(\n",
    "    column=merged_df_dep[\"accidents_par_habitant\"],  # Colonne à visualiser\n",
    "    cmap=cmap,                        # Palette de couleurs\n",
    "    linewidth=0.8,                    # Épaisseur des frontières\n",
    "    ax=ax,                            # Axes matplotlib\n",
    "    edgecolor=\"0.8\",                  # Couleur des frontières\n",
    "    legend=False                      # Désactiver la légende automatique\n",
    ")\n",
    "\n",
    "# Ajout d'une légende avec la colorbar\n",
    "sm = plt.cm.ScalarMappable(cmap=cmap, norm=norm)\n",
    "sm._A = []\n",
    "cbar = fig.colorbar(sm, ax=ax)\n",
    "cbar.set_label(\"Accidents par habitant\", fontsize=12)\n",
    "\n",
    "# Ajout des noms de départements\n",
    "for idx, row in france_map.iterrows():\n",
    "    if not pd.isna(row['nom']):  # Vérifie que le nom est défini\n",
    "        ax.annotate(\n",
    "            text=row['nom'],  # Texte à afficher (nom du département)\n",
    "            xy=row['geometry'].centroid.coords[0],  # Position (centre du département)\n",
    "            ha='center', fontsize=8, color='black'  # Alignement et style\n",
    "        )\n",
    "\n",
    "# Ajouter un titre et masquer les axes\n",
    "plt.title(\"Nombre d'accidents par habitant par département\", fontsize=16)\n",
    "plt.axis(\"off\")\n",
    "\n",
    "# Afficher la carte\n",
    "plt.show()\n",
    "\n",
    "# Trier les départements par accidents par habitant en ordre décroissant\n",
    "top_departments = merged_df_dep.sort_values(by='accidents_par_habitant', ascending=False).head(5)\n",
    "\n",
    "# Afficher les colonnes pertinentes\n",
    "print(\"Les 5 départements avec le plus grand nombre d'accidents par habitant :\")\n",
    "print(top_departments[['Département', 'accidents_par_habitant', 'nombre_accidents', 'Population']])\n",
    "\n",
    "\n"
   ]
  },
  {
   "cell_type": "markdown",
   "metadata": {},
   "source": [
    " Cette visualisation met en évidence que, bien que **Paris** conserve une nette première place en termes d'accidents par habitant, deux départements **corses** se distinguent également par un ratio élevé. Ces résultats contrastent avec ceux des départements plus peuplés comme le Rhône, qui, malgré un nombre absolu élevé d'accidents, affiche un ratio inférieur en raison de sa densité de population. Ces observations soulignent que les départements à faible population, comme en Corse, peuvent enregistrer des ratios élevés, potentiellement dus à des facteurs tels qu'une infrastructure routière limitée, des comportements à risque ou des spécificités géographiques. Une analyse plus approfondie serait nécessaire pour comprendre les causes sous-jacentes dans ces zones."
   ]
  },
  {
   "cell_type": "code",
   "execution_count": null,
   "metadata": {},
   "outputs": [],
   "source": [
    "df_caract['int_label'] = df_caract['int'].map(int_labels)\n",
    "# Compter le nombre d'accidents par type d'intersection pour chaque groupe\n",
    "int_counts_all = df_caract['int_label'].value_counts()\n",
    "filtered_75_93_92 = df_caract[df_caract['dep'].isin(['75', '93', '92'])]\n",
    "int_counts_75_93_92 = filtered_75_93_92['int_label'].value_counts()\n",
    "filtered_9A_9B = df_caract[df_caract['dep'].isin(['2A', '2B'])]\n",
    "int_counts_9A_9B = filtered_9A_9B['int_label'].value_counts()\n",
    "\n",
    "# Création des diagrammes circulaires\n",
    "fig, axes = plt.subplots(1, 3, figsize=(18, 6))\n",
    "\n",
    "# Diagramme pour tous les départements\n",
    "axes[0].pie(\n",
    "    int_counts_all,\n",
    "    autopct='%1.1f%%',\n",
    "    startangle=90,\n",
    "    labels=None,\n",
    "    colors=plt.cm.tab10.colors,\n",
    "    explode=[0.1 if i == int_counts_all.idxmax() else 0 for i in int_counts_all.index],\n",
    ")\n",
    "axes[0].set_title(\"Tous les départements\", fontsize=14)\n",
    "\n",
    "# Diagramme pour les départements 75, 93, 92\n",
    "axes[1].pie(\n",
    "    int_counts_75_93_92,\n",
    "    autopct='%1.1f%%',\n",
    "    startangle=90,\n",
    "    labels=None,\n",
    "    colors=plt.cm.tab10.colors,\n",
    "    explode=[0.1 if i == int_counts_75_93_92.idxmax() else 0 for i in int_counts_75_93_92.index],\n",
    ")\n",
    "axes[1].set_title(\"Départements 75, 93, 92\", fontsize=14)\n",
    "\n",
    "# Diagramme pour les départements 2A et 2B\n",
    "axes[2].pie(\n",
    "    int_counts_9A_9B,\n",
    "    autopct='%1.1f%%',\n",
    "    startangle=90,\n",
    "    labels=None,\n",
    "    colors=plt.cm.tab10.colors,\n",
    "    explode=[0.1 if i == int_counts_9A_9B.idxmax() else 0 for i in int_counts_9A_9B.index],\n",
    ")\n",
    "axes[2].set_title(\"Départements 2A, 2B\", fontsize=14)\n",
    "\n",
    "# Ajouter une légende commune sous la figure\n",
    "fig.legend(\n",
    "    labels=int_counts_all.index,  # Utiliser les labels globaux\n",
    "    loc='lower center',  # Placer la légende en bas\n",
    "    ncol=3,  # Nombre de colonnes dans la légende\n",
    "    fontsize=10,\n",
    "    title=\"Types d'intersections\"\n",
    ")\n",
    "\n",
    "# Ajuster les espaces pour éviter la superposition\n",
    "plt.tight_layout(rect=[0, 0.1, 1, 0.95])  # Ajouter de l'espace en bas pour la légende\n",
    "plt.show()\n"
   ]
  },
  {
   "cell_type": "markdown",
   "metadata": {},
   "source": [
    "Les diagrammes montrent la répartition des accidents par type d’intersection à trois échelles : nationale, départements à forte densité urbaine (75, 92, 93), et départements à fort ratio accidents/habitants (2A, 2B).\n",
    "\n",
    "Tous les départements\n",
    "63,6 % des accidents se produisent hors intersection, ce qui domine largement.\n",
    "Les intersections en X (12,3 %) et en T (11,6 %) concentrent la majorité des accidents restants, reflétant leur fréquence dans le réseau routier.\n",
    "Départements 75, 92, 93 (zones urbaines)\n",
    "La proportion d'accidents hors intersection baisse à 48,1 %, au profit des intersections en X (22,1 %) et en T (18,1 %).\n",
    "Cela s’explique par la densité des carrefours et le trafic élevé dans ces zones.\n",
    "Départements 2A, 2B (zones rurales/montagneuses)\n",
    "Les accidents hors intersection augmentent à 76,6 %, en raison des routes sinueuses et du faible nombre d’intersections.\n",
    "Les intersections en X et en T représentent une faible part (8,5 % et 7,1 %, respectivement)."
   ]
  },
  {
   "cell_type": "code",
   "execution_count": null,
   "metadata": {},
   "outputs": [],
   "source": [
    "# Remplacer les valeurs de la colonne 'col' par leurs labels en utilisant le dictionnaire\n",
    "df_caract['col_label'] = df_caract['col'].map(col_labels)\n",
    "\n",
    "# Compter le nombre d'accidents par type de collision pour chaque groupe\n",
    "col_counts_all = df_caract['col_label'].value_counts()\n",
    "filtered_75_93_92 = df_caract[df_caract['dep'].isin(['75', '93', '92'])]\n",
    "col_counts_75_93_92 = filtered_75_93_92['col_label'].value_counts()\n",
    "filtered_2A_2B = df_caract[df_caract['dep'].isin(['2A', '2B'])]\n",
    "col_counts_2A_2B = filtered_2A_2B['col_label'].value_counts()\n",
    "\n",
    "# Création des diagrammes circulaires\n",
    "fig, axes = plt.subplots(1, 3, figsize=(18, 6))\n",
    "\n",
    "# Diagramme pour tous les départements\n",
    "axes[0].pie(\n",
    "    col_counts_all,\n",
    "    autopct='%1.1f%%',\n",
    "    startangle=90,\n",
    "    labels=None,\n",
    "    colors=plt.cm.tab10.colors,\n",
    "    explode=[0.1 if i == col_counts_all.idxmax() else 0 for i in col_counts_all.index],\n",
    ")\n",
    "axes[0].set_title(\"Tous les départements\", fontsize=14)\n",
    "\n",
    "# Diagramme pour les départements 75, 93, 92\n",
    "axes[1].pie(\n",
    "    col_counts_75_93_92,\n",
    "    autopct='%1.1f%%',\n",
    "    startangle=90,\n",
    "    labels=None,\n",
    "    colors=plt.cm.tab10.colors,\n",
    "    explode=[0.1 if i == col_counts_75_93_92.idxmax() else 0 for i in col_counts_75_93_92.index],\n",
    ")\n",
    "axes[1].set_title(\"Départements 75, 93, 92\", fontsize=14)\n",
    "\n",
    "# Diagramme pour les départements 2A et 2B\n",
    "axes[2].pie(\n",
    "    col_counts_2A_2B,\n",
    "    autopct='%1.1f%%',\n",
    "    startangle=90,\n",
    "    labels=None,\n",
    "    colors=plt.cm.tab10.colors,\n",
    "    explode=[0.1 if i == col_counts_2A_2B.idxmax() else 0 for i in col_counts_2A_2B.index],\n",
    ")\n",
    "axes[2].set_title(\"Départements 2A, 2B\", fontsize=14)\n",
    "\n",
    "# Ajouter une légende commune sous la figure\n",
    "fig.legend(\n",
    "    labels=col_counts_all.index,  # Utiliser les labels globaux\n",
    "    loc='lower center',  # Placer la légende en bas\n",
    "    ncol=3,  # Nombre de colonnes dans la légende\n",
    "    fontsize=10,\n",
    "    title=\"Types de collisions\"\n",
    ")\n",
    "\n",
    "# Ajuster les espaces pour éviter la superposition\n",
    "plt.tight_layout(rect=[0, 0.1, 1, 0.95])  # Ajouter de l'espace en bas pour la légende\n",
    "plt.show()\n"
   ]
  },
  {
   "cell_type": "markdown",
   "metadata": {},
   "source": [
    "- Répartition nationale\n",
    "   * **Collisions par le côté (30,3%)** et **par l’arrière (29,9%)** dominent, reflétant des accidents fréquents dans des contextes de trafic dense.\n",
    "   * Les accidents **sans collision (13,3%)** et **frontaux (9,5%)** complètent les principaux types.\n",
    "\n",
    "- Zones urbaines (75, 92, 93)\n",
    "   * **Autres collisions (37,0%)** majoritaires en raison du trafic intense et des interactions complexes.\n",
    "   * Les collisions **par l’arrière (29,8%)** et **par le côté (15,5%)** restent importantes.\n",
    "   * Les accidents **sans collision (6,1%)** sont rares.\n",
    "\n",
    "- Zones rurales (2A, 2B)\n",
    "   * Les accidents **sans collision (15,5%)** et **frontaux (9,5%)** sont plus fréquents, dus aux routes sinueuses.\n",
    "   * Les collisions **par le côté** et **par l’arrière** sont moins fréquentes qu’en zones urbaines.\n"
   ]
  },
  {
   "cell_type": "markdown",
   "metadata": {},
   "source": [
    "#### **Conclusion** \n",
    "Les voies départementales et communales concentrent la majorité des accidents en termes de volume. Cependant, les proportions de gravité sont similaires entre les types de routes, avec une prédominance des accidents indemnes et blessés légers. Les accidents mortels restent rares mais doivent être surveillés, en particulier sur les routes à plus forte circulation comme les routes nationales et départementales.\n",
    "\n",
    "- Bien que le pourcentage d'accidents varie en fonction des saisons, la gravité moyenne des accidents est relativement constante.\n",
    "- Une exploration approfondie des facteurs spécifiques (comme les conditions climatiques ou la densité de circulation) pourrait fournir des explications supplémentaires."
   ]
  },
  {
   "cell_type": "markdown",
   "metadata": {},
   "source": [
    "## **II- Relation variables-target**"
   ]
  },
  {
   "cell_type": "markdown",
   "metadata": {},
   "source": [
    "Dans cette partie, il s'agira d'étudier l'association qui peut exister entre les variables et la gravité de l'accident routier. Ceci nous permettra de faire une sélection en amont des variables succeptible de mieux prédire la gravité."
   ]
  },
  {
   "cell_type": "markdown",
   "metadata": {},
   "source": [
    "### 1)- Analyse des diagrammes des profils"
   ]
  },
  {
   "cell_type": "code",
   "execution_count": null,
   "metadata": {},
   "outputs": [],
   "source": [
    "# Comptage des occurrences par catégorie de gravité et type de route\n",
    "catu_gravite_prop = (\n",
    "    df_usagers.groupby(['catu', 'grav'])\n",
    "    .size()\n",
    "    .unstack(fill_value=0)\n",
    ")\n",
    "# Calcul des proportions par catégorie de route\n",
    "catu_gravite_prop = catu_gravite_prop.div(catu_gravite_prop.sum(axis=1), axis=0)\n",
    "\n",
    "# Création des graphiques côte à côte\n",
    "fig, axes = plt.subplots(1, 2, figsize=(15, 6), sharey=False)\n",
    "\n",
    "# Graphique 2 : Proportion des catégories de gravité par type de route\n",
    "catu_gravite_prop.plot( kind='bar', stacked=True, ax=axes[1], colormap='Set1',edgecolor='black')\n",
    "axes[1].set_title(\"Proportion de la gravité par catégorie d'usager\")\n",
    "axes[1].set_xlabel(\"Type de catégorie d'usager\")\n",
    "axes[1].set_ylabel(\"Proportion\")\n",
    "axes[1].tick_params(axis='x', rotation=45)\n",
    "axes[1].legend(title=\"Gravité\", bbox_to_anchor=(1.05, 1), loc='upper left')\n",
    "\n",
    "# Comptage des occurrences par type de gravité et par mois\n",
    "gravite_proportions_secu1 = (df_usagers.groupby(['secu1', 'grav']).size().unstack(fill_value=0))\n",
    "# Calcul des proportions de gravité par mois\n",
    "gravite_proportions_secu1 = gravite_proportions_secu1.div(gravite_proportions_secu1.sum(axis=1), axis=0)\n",
    "\n",
    "# Graphique 1 : Proportion des types de gravité par mois\n",
    "gravite_proportions_secu1.plot(kind='bar', stacked=True, ax=axes[0], colormap='Set1', edgecolor='black')\n",
    "axes[0].set_title(\"Proportion de la gravité par équipement de sécurité\")\n",
    "axes[0].set_xlabel(\"équipement de sécurité\")\n",
    "axes[0].set_ylabel(\"Proportion\")\n",
    "axes[0].legend(title=\"Gravité\", bbox_to_anchor=(1.05, 1), loc='upper left')\n",
    "# Ajustement de la mise en page\n",
    "plt.tight_layout()\n",
    "plt.show()"
   ]
  },
  {
   "cell_type": "markdown",
   "metadata": {},
   "source": [
    "D'une part, le diagramme des profils pour le type d'équipement de sécurité montre que celui ci a un impact sur la gravité de l'accident. On observe que les proportions de blessés hospitalisés sont particulièrement élevées parmi les utilisateurs de casques (37,69 %) et de ceintures (32,00 %), tout en restant significatives pour ceux sans équipement (18,12 %). Concernant les décès, une part importante concerne les individus sans équipement (25,28 %), mais également les utilisateurs de casques (26,72 %) et de ceintures (32,65 %). À l’inverse, la majorité des personnes indemnes portaient une ceinture (79,17 %) ou utilisaient un dispositif pour enfants (61,67 %), suggérant une meilleure protection offerte par ces équipements. \n",
    "\n",
    "D'autre part, la catégorie d'usager semble être associée à la gravité de l'accident. On observe que 71,11 % des conducteurs blessés sont hospitalisés plus de 24 heures, 67,6 % subissent des blessures légères et 83,3 % sortent indemnes, bien que 71,8 % des conducteurs décèdent dans l'accident. Chez les passagers, 16,7 % sont hospitalisés plus de 24 heures, 20 % sont légèrement blessés, et 16,2 % sont indemnes, avec 14,2 % de passagers tués. Les piétons sont les usagers les plus vulnérables avec une proportion plus élevée de blessés graves et de décès. Ceci peut s'expliquer par le fait qu'ils sont directement exposés aux chocs lors d'un accident et ne bénéficient pas de la protection offerte par un véhicule. Tandis que les conducteurs et les passagers semblent être globalement mieux protégés."
   ]
  },
  {
   "cell_type": "code",
   "execution_count": null,
   "metadata": {},
   "outputs": [],
   "source": [
    "# Comptage des occurrences par catégorie de gravité et type de route\n",
    "catv_gravite_prop = (\n",
    "    df_vehicules.merge(df_usagers, on=[\"Num_Acc\",\"id_vehicule\",\"num_veh\"], how=\"inner\")\n",
    "    .groupby(['catv', 'grav'])\n",
    "    .size()\n",
    "    .unstack(fill_value=0)\n",
    ")\n",
    "# Calcul des proportions par catégorie de route\n",
    "catv_gravite_prop = catv_gravite_prop.div(catv_gravite_prop.sum(axis=1), axis=0)\n",
    "\n",
    "# Création des graphiques côte à côte\n",
    "fig, axes = plt.subplots(1, 2, figsize=(19, 7), sharey=False)\n",
    "\n",
    "# Graphique 2 : Proportion des catégories de gravité par type de route\n",
    "catv_gravite_prop.plot(kind='bar',stacked=True, ax=axes[1], colormap='magma',edgecolor='black')\n",
    "axes[1].set_title(\"Proportion de la gravité par catégorie de véhicules\")\n",
    "axes[1].set_xlabel(\"Catégorie de véhicules\")\n",
    "axes[1].set_ylabel(\"Proportion\")\n",
    "axes[1].tick_params(axis='x', rotation=45)\n",
    "axes[1].legend(title=\"Gravité\", bbox_to_anchor=(1.05, 1), loc='upper left')\n",
    "\n",
    "# Comptage des occurrences par type de gravité et par mois\n",
    "gravite_proportions_obsm = (\n",
    "    df_vehicules.merge(df_usagers, on=[\"Num_Acc\",\"id_vehicule\",\"num_veh\"], how=\"inner\")\n",
    "    .groupby(['obsm', 'grav'])\n",
    "    .size()\n",
    "    .unstack(fill_value=0)\n",
    ")\n",
    "# Calcul des proportions de gravité par mois\n",
    "gravite_proportions_obsm = gravite_proportions_obsm.div(gravite_proportions_obsm.sum(axis=1), axis=0)\n",
    "\n",
    "# Graphique 1 : Proportion des types de gravité par mois\n",
    "gravite_proportions_obsm.plot(kind='bar',stacked=True, ax=axes[0],colormap='magma',edgecolor='black')\n",
    "axes[0].set_title(\"Proportion de la gravité par obstacle mobile heurté\")\n",
    "axes[0].set_xlabel(\"Obstacle mobile heurté\")\n",
    "axes[0].set_ylabel(\"Proportion\")\n",
    "\n",
    "axes[0].legend(title=\"Gravité\", bbox_to_anchor=(1.05, 1), loc='upper left')\n",
    "# Ajustement de la mise en page\n",
    "plt.tight_layout()\n",
    "plt.show()"
   ]
  },
  {
   "cell_type": "markdown",
   "metadata": {},
   "source": [
    "L'analyse du tableau de profils montre une possible influence de la variable **\"obstacle mobile heurté\" (obsm)** sur la **\"gravité de l'accident\" (grav)**. Les collisions avec un **véhicule** sont les plus fréquentes, associées à des blessures légères (67,77 %) ou graves nécessitant une hospitalisation (55,05 %), mais aussi à des cas d'indemnes (71,66 %), indiquant que la gravité dépend probablement du contexte (vitesse, type de choc). Les accidents sans obstacle (43,57 %) et ceux impliquant des **piétons** (13,73 %) sont significativement associés aux décès, reflétant des facteurs externes ou la vulnérabilité des piétons. En revanche, les obstacles comme les animaux ou les véhicules sur rail ont une influence négligeable."
   ]
  },
  {
   "cell_type": "code",
   "execution_count": null,
   "metadata": {},
   "outputs": [],
   "source": [
    "# Comptage des occurrences par catégorie de gravité et type de route\n",
    "agg_gravite_prop = (\n",
    "    df_caract.merge(df_usagers, on=[\"Num_Acc\"], how=\"inner\")\n",
    "    .groupby(['agg', 'grav'])\n",
    "    .size()\n",
    "    .unstack(fill_value=0)\n",
    ")\n",
    "# Calcul des proportions par catégorie de route\n",
    "agg_gravite_prop = agg_gravite_prop.div(agg_gravite_prop.sum(axis=1), axis=0)\n",
    "\n",
    "# Création des graphiques côte à côte\n",
    "fig, axes = plt.subplots(1, 2, figsize=(19, 7), sharey=False)\n",
    "\n",
    "# Graphique 2 : Proportion des catégories de gravité par type de route\n",
    "agg_gravite_prop.plot(kind='bar',stacked=True, ax=axes[1], colormap='magma',edgecolor='black')\n",
    "axes[1].set_title(\"Proportion de la gravité par catégorie d'agglomération\")\n",
    "axes[1].set_xlabel(\"Catégorie d'agglomération\")\n",
    "axes[1].set_ylabel(\"Proportion\")\n",
    "axes[1].tick_params(axis='x', rotation=45)\n",
    "axes[1].legend(title=\"Gravité\", bbox_to_anchor=(1.05, 1), loc='upper left')\n",
    "\n",
    "# Comptage des occurrences par type de gravité et par mois\n",
    "gravite_proportions_col = (\n",
    "    df_caract.merge(df_usagers, on=[\"Num_Acc\"], how=\"inner\")\n",
    "    .groupby(['col', 'grav'])\n",
    "    .size()\n",
    "    .unstack(fill_value=0)\n",
    ")\n",
    "# Calcul des proportions de gravité par mois\n",
    "gravite_proportions_col = gravite_proportions_col.div(gravite_proportions_col.sum(axis=1), axis=0)\n",
    "\n",
    "# Graphique 1 : Proportion des types de gravité par mois\n",
    "gravite_proportions_col.plot(kind='bar',stacked=True, ax=axes[0],colormap='magma',edgecolor='black')\n",
    "axes[0].set_title(\"Proportion de la gravité par type de collision\")\n",
    "axes[0].set_xlabel(\"collision\")\n",
    "axes[0].set_ylabel(\"Proportion\")\n",
    "\n",
    "axes[0].legend(title=\"Gravité\", bbox_to_anchor=(1.05, 1), loc='upper left')\n",
    "# Ajustement de la mise en page\n",
    "plt.tight_layout()\n",
    "plt.show()"
   ]
  },
  {
   "cell_type": "code",
   "execution_count": null,
   "metadata": {},
   "outputs": [],
   "source": [
    "# Comptage des occurrences par catégorie de gravité et type de route\n",
    "choc_gravite_prop = (\n",
    "    df_vehicules.merge(df_usagers, on=[\"Num_Acc\",\"id_vehicule\",\"num_veh\"], how=\"inner\")\n",
    "    .groupby(['choc', 'grav'])\n",
    "    .size()\n",
    "    .unstack(fill_value=0)\n",
    ")\n",
    "# Calcul des proportions par catégorie de route\n",
    "choc_gravite_prop = choc_gravite_prop.div(choc_gravite_prop.sum(axis=1), axis=0)\n",
    "\n",
    "# Création des graphiques côte à côte\n",
    "fig, axes = plt.subplots(1, 2, figsize=(19, 7), sharey=False)\n",
    "\n",
    "# Graphique 2 : Proportion des catégories de gravité par type de route\n",
    "choc_gravite_prop.plot(kind='bar',stacked=True, ax=axes[1], colormap='magma',edgecolor='black')\n",
    "axes[1].set_title(\"Proportion de la gravité par type de choc\")\n",
    "axes[1].set_xlabel(\"type de choc\")\n",
    "axes[1].set_ylabel(\"Proportion\")\n",
    "axes[1].tick_params(axis='x', rotation=45)\n",
    "axes[1].legend(title=\"Gravité\", bbox_to_anchor=(1.05, 1), loc='upper left')\n",
    "\n",
    "# Comptage des occurrences par type de gravité et par mois\n",
    "gravite_proportions_secu2 = (df_usagers.groupby(['secu2', 'grav']).size().unstack(fill_value=0))\n",
    "    \n",
    "# Calcul des proportions de gravité par mois\n",
    "gravite_proportions_secu2 = gravite_proportions_secu2.div(gravite_proportions_secu2.sum(axis=1), axis=0)\n",
    "\n",
    "# Graphique 1 : Proportion des types de gravité par mois\n",
    "gravite_proportions_secu2.plot(kind='bar',stacked=True, ax=axes[0],colormap='magma',edgecolor='black')\n",
    "axes[0].set_title(\"Proportion de la gravité selon le 2e équipement de sécurité\")\n",
    "axes[0].set_ylabel(\"Proportion\")\n",
    "\n",
    "axes[0].legend(title=\"Gravité\", bbox_to_anchor=(1.05, 1), loc='upper left')\n",
    "# Ajustement de la mise en page\n",
    "plt.tight_layout()\n",
    "plt.show()"
   ]
  },
  {
   "cell_type": "markdown",
   "metadata": {},
   "source": [
    "Gravité (grav) et équipement de sécurité2 (secu2)"
   ]
  },
  {
   "cell_type": "markdown",
   "metadata": {},
   "source": [
    "Les données montrent que le type d’équipement de sécurité secondaire (secu2) semble également avoir une influence potentielle sur la gravité des blessures (grav). Les proportions de blessés hospitalisés sont particulièrement élevées parmi les utilisateurs de gants (49,53 %) et les personnes sans équipement (33,04 %), tandis qu’elles sont plus faibles pour les utilisateurs de ceintures (0,55 %) et de dispositifs pour enfants (0,26 %). Concernant les décès, les proportions sont élevées chez les utilisateurs de gants (44,41 %) et ceux sans équipement (36,80 %), ce qui suggère une vulnérabilité accrue dans ces groupes. À l’inverse, les proportions d’indemnes sont majoritairement observées chez les personnes sans équipement (76,53 %), suivies des utilisateurs de ceintures (55,51 %) et de dispositifs pour enfants (28,73 %), ce qui indique une meilleure protection relative pour ces derniers. Ces résultats suggèrent une corrélation probable entre l’équipement de sécurité secondaire utilisé et la gravité des blessures."
   ]
  },
  {
   "cell_type": "markdown",
   "metadata": {},
   "source": [
    "L'analyse du tableau montre une relation possible entre le **\"point de choc initial\" (choc)** et la **\"gravité de l'accident\" (grav)**. Les collisions frontales (**avant**) sont les plus fréquentes, représentant 46,99 % des blessés graves hospitalisés et 39,91 % des blessés légers, ainsi que 44,10 % des décès, indiquant que ces chocs sont particulièrement dangereux. Les chocs latéraux (**avant droit** et **avant gauche**) et ceux sur les **côtés** (droit et gauche) sont également associés à des blessures légères et graves, bien que moins mortels. Les chocs multiples (comme les tonneaux) montrent une proportion notable de blessés graves (2,80 %) et de décès (3,61 %), suggérant un risque accru dans ces cas. En revanche, les accidents sans point de choc précis (**aucun**) sont fortement associés aux décès (9,60 %), ce qui pourrait refléter des accidents impliquant une perte de contrôle ou d'autres facteurs imprécis. Ainsi, la localisation du choc initial semble jouer un rôle important dans la gravité des blessures, avec des chocs frontaux et multiples représentant les situations les plus critiques."
   ]
  },
  {
   "cell_type": "code",
   "execution_count": null,
   "metadata": {},
   "outputs": [],
   "source": [
    "data=df_vehicules.merge(df_usagers, on=[\"Num_Acc\",\"id_vehicule\",\"num_veh\"], how=\"inner\")\n",
    "contingency_table = pd.crosstab(data[\"grav\"], data[\"motor\"])\n",
    "profile_table = contingency_table.div(contingency_table.sum(axis=1), axis=0) * 100\n",
    "profile_table"
   ]
  },
  {
   "cell_type": "markdown",
   "metadata": {},
   "source": [
    "L'analyse des profils de gravité des accidents en fonction du type de motorisation révèle que les véhicules à moteur à combustion (hydrocarbures) sont largement associés aux accidents les plus graves, représentant une proportion élevée de blessés hospitalisés plus de 24 heures, de blessés légers et de décès. Les motorisations \"Electrique\", \"Humaine\", \"Hybride électrique\" et \"Hydrogène\" semblent moins fréquentes dans les accidents graves, tandis que les catégories \"Inconnue\" et \"Autre\" montrent des valeurs intéressantes, notamment pour les décès. Ces résultats suggèrent que les véhicules à motorisation thermique sont plus susceptibles d'être impliqués dans des accidents graves. "
   ]
  },
  {
   "cell_type": "code",
   "execution_count": null,
   "metadata": {},
   "outputs": [],
   "source": [
    "# Comptage des occurrences par catégorie de route\n",
    "catr_counts = df_lieux['catr'].value_counts().sort_index()\n",
    "\n",
    "# Comptage des occurrences par catégorie de gravité et type de route\n",
    "catr_gravite_prop = (\n",
    "    df_lieux.merge(df_usagers, on='Num_Acc')\n",
    "    .groupby(['catr', 'grav'])\n",
    "    .size()\n",
    "    .unstack(fill_value=0)\n",
    ")\n",
    "# Calcul des proportions par catégorie de route\n",
    "catr_gravite_prop = catr_gravite_prop.div(catr_gravite_prop.sum(axis=1), axis=0)\n",
    "\n",
    "# Comptage des occurrences par type de gravité et par mois\n",
    "gravite_proportions_mois = (\n",
    "    df_caract.merge(df_usagers, on='Num_Acc')\n",
    "    .groupby(['mois', 'grav'])\n",
    "    .size()\n",
    "    .unstack(fill_value=0)\n",
    ")\n",
    "\n",
    "# Calcul des proportions de gravité par mois\n",
    "gravite_proportions_mois = gravite_proportions_mois.div(gravite_proportions_mois.sum(axis=1), axis=0)\n",
    "# Création des graphiques côte à côte\n",
    "fig, axes = plt.subplots(1, 2, figsize=(15, 6), sharey=False)\n",
    "\n",
    "# Graphique 1 : Proportion des types de gravité par mois\n",
    "gravite_proportions_mois.plot( kind='bar',stacked=True,ax=axes[0],colormap='tab20',edgecolor='black')\n",
    "axes[0].set_title(\"Proportion des types de gravité par mois\")\n",
    "axes[0].set_xlabel(\"Mois\")\n",
    "axes[0].set_ylabel(\"Proportion\")\n",
    "axes[0].set_xticklabels([\n",
    "    \"Janvier\", \"Février\", \"Mars\", \"Avril\", \"Mai\", \"Juin\", \n",
    "    \"Juillet\", \"Août\", \"Septembre\", \"Octobre\", \"Novembre\", \"Décembre\"\n",
    "], rotation=45)\n",
    "axes[0].legend(title=\"Gravité\", bbox_to_anchor=(1.05, 1), loc='upper left')\n",
    "\n",
    "# Graphique 2 : Proportion des catégories de gravité par type de route\n",
    "catr_gravite_prop.plot(kind='bar',stacked=True, ax=axes[1],  colormap='tab20', edgecolor='black')\n",
    "axes[1].set_title(\"Proportion des catégories de gravité par type de route (catr)\")\n",
    "axes[1].set_xlabel(\"Type de route\")\n",
    "axes[1].set_ylabel(\"Proportion\")\n",
    "axes[1].tick_params(axis='x', rotation=45)\n",
    "axes[1].legend(title=\"Gravité\", bbox_to_anchor=(1.05, 1), loc='upper left')\n",
    "# Ajustement de la mise en page\n",
    "plt.tight_layout()\n",
    "plt.show()"
   ]
  },
  {
   "cell_type": "markdown",
   "metadata": {},
   "source": [
    "#### Proportion des catégories de gravité par type de route (graphique de droite) :      \n",
    "- La gravité **\"indemne\"**  est majoritaire pour tous les types de routes, représentant environ 40 % à 50 % des accidents.\n",
    "- Les accidents impliquant des **blessés légers** et des **blessés hospitalisés > 24 h** (en gris) constituent une part importante, en particulier sur les voies départementales et communales.\n",
    "- La proportion des **accidents mortels** est relativement faible mais présente pour tous les types de routes, avec une légère augmentation sur les routes nationales et départementales.\n",
    "- Les accidents **non renseignés**  représentent une part non négligeable, ce qui pourrait indiquer des données incomplètes.\n",
    "\n",
    "#### Gravité  par mois\n",
    "- La gravité reste **stable** tout au long de l'année, sans variation significative entre les mois."
   ]
  },
  {
   "cell_type": "markdown",
   "metadata": {},
   "source": [
    "### 2)- Association à la gravité de l'accident: le coéfficient V de Cramer"
   ]
  },
  {
   "cell_type": "code",
   "execution_count": null,
   "metadata": {},
   "outputs": [],
   "source": [
    "# Function to calculate Cramer's V\n",
    "def cramers_v(x, y):\n",
    "    confusion_matrix = pd.crosstab(x, y)\n",
    "    chi2 = chi2_contingency(confusion_matrix)[0]\n",
    "    n = confusion_matrix.sum().sum()\n",
    "    phi2 = chi2 / n\n",
    "    r, k = confusion_matrix.shape\n",
    "    return np.sqrt(phi2 / min(k-1, r-1))\n",
    "    \n",
    "#Fonction pour la matrice de V de Cramer\n",
    "def matrice_v_cramer(data,colonnes):\n",
    "    #Créer un DataFrame vide pour la matrice V de Cramer\n",
    "    cramers_v_matrix = pd.DataFrame(index=colonnes, columns=colonnes)\n",
    "\n",
    "    # Calculer les V de Cramer pour chaque paire de colonnes\n",
    "    for col1 in colonnes:\n",
    "        for col2 in colonnes:\n",
    "            cramers_v_matrix.loc[col1, col2] = cramers_v(data[col1], data[col2])\n",
    "\n",
    "    # Convertir la matrice en valeurs numériques\n",
    "    cramers_v_matrix = cramers_v_matrix.astype(float)\n",
    "\n",
    "    plt.figure(figsize=(10, 8))\n",
    "    sns.heatmap(cramers_v_matrix, annot=True, cmap='coolwarm', cbar=True)\n",
    "    plt.title(\"Matrice des V de Cramer\")\n",
    "    plt.show()"
   ]
  },
  {
   "cell_type": "code",
   "execution_count": null,
   "metadata": {},
   "outputs": [],
   "source": [
    "colonnes_a_inclure1 = [\"grav\",\"sexe\", \"catu\", \"trajet\", \"secu1\", \"secu2\", \"locp\",\"catr\", \"actp\",\"col\"]\n",
    "matrice_v_cramer(df_merge,colonnes_a_inclure1)"
   ]
  },
  {
   "cell_type": "markdown",
   "metadata": {},
   "source": [
    "En examinant les relations entre les variables dans cette matrice des V de Cramer, plusieurs dépendances intéressantes apparaissent :\n",
    "sexe et trajet ont une corrélation notable avec un coefficient de 0,66, indiquant une forte relation entre le genre et le type de trajet. Cela pourrait refléter des différences dans les habitudes ou les comportements de déplacement entre hommes et femmes.\n",
    "catu et secu1 affichent une relation modérée avec un V de Cramer de 0,58, suggérant que la catégorie d'usager influence le dispositif de sécurité1.\n",
    "Une forte dépendance est également observée entre catu et locp (0,69) et entre catu et actp (0,69), ce qui indique que la catégorie d'usager est fortement liée à la localisation précise de l'accident ainsi qu'à l'action du piéton.\n",
    "locp et actp et locp et etap présentent des relations modérées à 0,51 et 0,59, respectivement, révélant une connexion entre la localisation des accidents, l'action du piéton, et les état du piéton.\n",
    "De plus, actp et etap ont également une relation notable avec un V de Cramer de 0,59, ce qui montre que l'action du piéton est intimement liée à les état du piéton.\n",
    "En revanche, certaines variables comme trajet et locp (0,11) ou sexe et locp (0,12) montrent des corrélations très faibles, indiquant des relations peu significatives entre ces paires de variables.\n",
    "Globalement, les relations les plus fortes sont centrées autour de catu, locp, actp, et etap\n",
    "\n",
    "En se concentrant sur les relations avec la variable cible \"grav\" (gravité des accidents), voici les observations principales :\n",
    "secu1 (Equipement de sécurité1) présente une dépendance modérée avec \"grav\" avec un V de Cramer de 0,28, ce qui suggère une certaine influence sur la gravité des accidents.\n",
    "secu2 (Dispositif de sécurité2) a une corrélation plus faible avec \"grav\" à 0,24, montrant une influence moindre par rapport à \"secu1\".\n",
    "catu (catégorie d'usager) affiche une valeur de 0,17, indiquant une faible dépendance mais non négligeable.\n",
    "trajet (type de trajet) et locp (localisation piéton) ont des V de Cramer relativement faibles, à 0,14 et 0,2 respectivement, montrant qu'ils influencent faiblement \"grav\".\n",
    "sexe (sexe) et actp (action du piéton) ont des coefficients très faibles, à 0,13 et 0,19 respectivement, indiquant qu'ils n'ont qu'une influence mineure.\n",
    "Enfin, etap (état du piéton) est la variable la moins corrélée avec \"grav\", avec un V de Cramer de 0,12."
   ]
  },
  {
   "cell_type": "code",
   "execution_count": null,
   "metadata": {},
   "outputs": [],
   "source": [
    "colonnes_a_inclure2 = [\"grav\",\"senc\", \"catv\", \"obs\", \"obsm\", \"agg\",\"choc\", \"manv\", \"motor\",\"place\"]\n",
    "matrice_v_cramer(df_merge,colonnes_a_inclure2) "
   ]
  },
  {
   "cell_type": "markdown",
   "metadata": {},
   "source": [
    "Relations avec la variable cible \"grav\" :\n",
    "catv (catégorie du véhicule) montre une corrélation modérée avec grav avec un coefficient de 0,26, indiquant une influence notable de ce facteur sur la gravité des accidents.\n",
    "obs (obstacle) et manv (manœuvre) présentent des relations faibles mais existantes avec grav, avec des coefficients respectifs de 0,15 et 0,16.\n",
    "Les autres variables, comme senc (sens de circulation) (0,021), obsm (obstacle mobile) (0,14), choc (type de choc) (0,12), et motor (motorisation) (0,12), montrent des corrélations très faibles avec grav, suggérant qu’elles ont un impact limité sur la gravité.\n",
    "\n",
    "Relations entre les variables :\n",
    "catv et motor affichent une corrélation forte (0,52), indiquant que la catégorie du véhicule est étroitement liée à son type de motorisation. Cela reflète logiquement une relation technique ou structurelle entre ces deux caractéristiques.\n",
    "obs et obsm montrent une relation modérée avec un coefficient de 0,25, suggérant que la présence d’un obstacle est souvent associée à un obstacle mobile.\n",
    "manv et choc présentent également une corrélation modérée à 0,21, indiquant que la manœuvre effectuée au moment de l’accident est liée au point de choc initial.\n",
    "Les autres relations entre les variables, comme senc et obs (0,13) ou obsm et choc (0,13), restent faibles, suggérant une interdépendance moins significative."
   ]
  },
  {
   "cell_type": "markdown",
   "metadata": {},
   "source": [
    "#### Test de significativité des V de Cramer"
   ]
  },
  {
   "cell_type": "code",
   "execution_count": null,
   "metadata": {},
   "outputs": [],
   "source": [
    "# Fonction pour calculer le V de Cramer et tester la significativité\n",
    "def verifier_cramers_v_significatif(data, target, variables, alpha=0.05):\n",
    "    resultats = {}\n",
    "    for var in variables:\n",
    "        # Calcul de la matrice de contingence\n",
    "        confusion_matrix = pd.crosstab(data[target], data[var])\n",
    "        \n",
    "        # Test du Chi-carré\n",
    "        chi2, p, _, _ = chi2_contingency(confusion_matrix)\n",
    "        \n",
    "        # Calcul du V de Cramer\n",
    "        n = confusion_matrix.sum().sum()\n",
    "        phi2 = chi2 / n\n",
    "        r, k = confusion_matrix.shape\n",
    "        cramers_v = np.sqrt(phi2 / min(k - 1, r - 1))\n",
    "        \n",
    "        # Vérification de la significativité\n",
    "        significatif = p < alpha\n",
    "        resultats[var] = {\n",
    "            \"V de Cramer\": cramers_v,\n",
    "            \"Significatif\": significatif,\n",
    "            \"p-valeur\": p\n",
    "        }\n",
    "    return resultats\n",
    "\n",
    "# Exemple d'utilisation\n",
    "variables_a_verifier = [\"catv\", \"catu\", \"secu1\", \"secu2\", \"obsm\", \"obs\", \"manv\"]\n",
    "resultats = verifier_cramers_v_significatif(df_merge, \"grav\", variables_a_verifier)\n",
    "\n",
    "# Afficher les résultats\n",
    "for var, stats in resultats.items():\n",
    "    print(f\"Variable: {var}\")\n",
    "    print(f\"  V de Cramer: {stats['V de Cramer']:.3f}\")\n",
    "    print(f\"  Significatif: {'Oui' if stats['Significatif'] else 'Non'}\")\n",
    "    print(f\"  p-valeur: {stats['p-valeur']:.3e}\")"
   ]
  },
  {
   "cell_type": "markdown",
   "metadata": {},
   "source": [
    "Ces V de Cramer des variables sont tous significatifs."
   ]
  },
  {
   "cell_type": "markdown",
   "metadata": {},
   "source": [
    "### Conclusion\n",
    "\n",
    "De l'étude de l'association entre les variables de l'accident et la gravité de celui-ci, il en ressort que les variables suivantes sont succeptible d'avoir plus d'influence sur la gravité de l'accident: **la catégorie du véhicule** (catv), **les équipements de sécurité** (secu1 et secu2), **l'obstacle mobile heurté** (obm), **la catégorie d'usager** (catu), **l'agglomération** (agg), **le type de collision** (col) et **la manoeuvre utilisé** (manv).\n"
   ]
  },
  {
   "cell_type": "markdown",
   "metadata": {},
   "source": [
    "## **III- Modélisation**"
   ]
  },
  {
   "cell_type": "markdown",
   "metadata": {},
   "source": [
    " On restreint la base de données de la modélisation aux variables suivantes: \n",
    " * la catégorie du véhicule\n",
    " * les équipements de sécurité\n",
    " * l'obstacle mobile heurté\n",
    " * la catégorie d'\n",
    " * l'agglomération\n",
    " * la manoeuvre utilisé"
   ]
  },
  {
   "cell_type": "code",
   "execution_count": null,
   "metadata": {},
   "outputs": [],
   "source": [
    "df_model=df_merge.drop(['id_usager', 'id_vehicule', 'num_veh',\"place\", 'an_nais', 'trajet', 'secu3', 'locp','actp', 'etatp', 'senc', \n",
    "       'choc', 'motor', 'occutc', 'voie', 'v1', 'v2', 'circ', 'nbv', 'vosp', 'prof','pr', 'pr1', 'plan', 'lartpc', 'larrout', 'surf', \n",
    "       'infra','vma', 'jour', 'obs','mois', 'an', 'hrmn',\"situ\",\"catr\", 'lum', 'dep', 'com', 'int', 'atm', 'adr', 'lat', 'long'], axis=1)"
   ]
  },
  {
   "cell_type": "markdown",
   "metadata": {},
   "source": [
    " Etant donné que dans un accident, il peut y avoir plusieurs niveaux de gravité (car celui-ci depend de chaque individu impliqué dans l'accident), nous allons définir la gravité de l'accident comme étant le niveau de gravité le plus haut des dommages subit par les personnes impliquées dans l'accident. \n",
    "\n",
    "Néamoins étant donné que cette procédure va engendré une perte d'information à l'échelle individuelle, nous allons créé deux bases de modélisation. Nous ferons donc une modélisation à l'échelle individuelle, pour prédire la gravité des dommages subit à l'échelle individuelle, puis une modélisation pour prédire la gravité de l'accident.\n"
   ]
  },
  {
   "cell_type": "markdown",
   "metadata": {},
   "source": [
    "###  **1)- A l'échelle individuelle**"
   ]
  },
  {
   "cell_type": "markdown",
   "metadata": {},
   "source": [
    "Dans cette partie, il s'agira de se servir des variables qui donnent les caractéristiques de chaque individu impliquées dans les accidents de voir qu'elles sont celles qui influencent au mieux le niveau de gravité des dommages subit par un individu."
   ]
  },
  {
   "cell_type": "code",
   "execution_count": null,
   "metadata": {},
   "outputs": [],
   "source": [
    "df_model1=df_model.drop([\"Num_Acc\",\"manv\",\"catv\",\"obsm\",\"agg\",\"col\"], axis=1)"
   ]
  },
  {
   "cell_type": "markdown",
   "metadata": {},
   "source": [
    "Par la suite, nous définissons une fonction qui fera a la fois du preprocessing sur la base et de la sélection de variables. Plus en détails, cette fonction fais ceci:\n",
    "- remplacer les valeurs non renseigner par des valeurs manquantes (np.nan);\n",
    "- supprimer les lignes du dataframe où la gravité de l'accident n'est pas renseigner;\n",
    "- Imputation des valeurs manquantes par le mode (car il s'agit de variables catégorielles);\n",
    "- utilisation de l'encodage onehot;\n",
    "- Entrainement du modèle Lasso sur une série de alpha afin d'en choisir le meilleur\n",
    "- Entrainement du modèle Lasso avec le meilleur alpha, et en sortie on a le dataframe qui contient uniqement les variables sélectionnées par le modèle.\n",
    "\n",
    "La regression Lasso est une technique de régularisation qui consiste à appliquer une pénalité pour éviter le surapprentissage et améliorer la précision des modèles statistiques. Aussi, l'encodage onehot est une méthode d'encodage pour les variables catégorielles nominales, qui va creer de nouvelles variables indicatrices et vont faciliter les interprétations des résultats du modèle. La sélection de variables ici consiste donc en réalité en la sélection de catégories qui prédisent aux mieux la gravité.\n",
    "\n",
    "\n"
   ]
  },
  {
   "cell_type": "code",
   "execution_count": null,
   "metadata": {},
   "outputs": [],
   "source": [
    "def selection_var(df_model1):\n",
    "    for column in df_model1.columns:\n",
    "        df_model1[column] = df_model1[column].replace(-1, np.nan)\n",
    "    df_model1 = df_model1.dropna(subset=['grav'])\n",
    "    lasso_x=df_model1.drop([\"grav\"],axis=1)\n",
    "    lasso_y=df_model1[\"grav\"]\n",
    "    categorical_pipeline = Pipeline(\n",
    "        steps=[\n",
    "            (\"impute\", SimpleImputer(strategy=\"most_frequent\")),\n",
    "            (\"one-hot\", OneHotEncoder(drop='first', handle_unknown=\"ignore\", sparse_output=False)),\n",
    "        ]\n",
    "    )\n",
    "    base1=categorical_pipeline.fit_transform(lasso_x)\n",
    "    data1=pd.DataFrame(data=base1, columns=categorical_pipeline.get_feature_names_out())\n",
    "    my_alphas = np.array([0.001, 0.01, 0.02, 0.025])\n",
    "    lcv = LassoCV(alphas=my_alphas, fit_intercept=False, random_state=0, cv=3).fit(\n",
    "        data1, lasso_y)\n",
    "    model = Lasso(fit_intercept=False, alpha=lcv.alpha_)\n",
    "    lasso_optimal1=model.fit(data1, lasso_y)\n",
    "    data_model1=data1[data1.columns[np.abs(lasso_optimal1.coef_)>0]]\n",
    "    return data_model1, lasso_y"
   ]
  },
  {
   "cell_type": "markdown",
   "metadata": {},
   "source": [
    "Nous appliquons la fonction précedemment définie à la base df_model1:"
   ]
  },
  {
   "cell_type": "code",
   "execution_count": null,
   "metadata": {},
   "outputs": [],
   "source": [
    "data_model1, lasso_y=selection_var(df_model1)"
   ]
  },
  {
   "cell_type": "markdown",
   "metadata": {},
   "source": [
    "La base finale étant ainsi constituée, nous allons entrainer le modèle de régression logistique. Avant cela, il faut diviser la base en un échantillon d'apprentissage et un échantillon de test."
   ]
  },
  {
   "cell_type": "code",
   "execution_count": null,
   "metadata": {},
   "outputs": [],
   "source": [
    "x_train,x_test,y_train,y_test = train_test_split(data_model1,lasso_y, test_size=0.2, random_state=42)"
   ]
  },
  {
   "cell_type": "markdown",
   "metadata": {},
   "source": [
    "Par la suite, nous entrainons plusieurs modèle de régression logistique en faisant varier les hyperparamètres grâce à la gridsearchcv, et nous retenons le modèle avec le meilleur score. Etant donné que la base de données est déséquilibrée, nous rajoutons l'option <<class_weight=\"balanced\">>.Cette option utilise les valeurs de y pour ajuster automatiquement les poids inversement proportionnels à la fréquence des classes dans les données d'entrée comme n_samples / (n_classes * np.bincount(y))."
   ]
  },
  {
   "cell_type": "code",
   "execution_count": null,
   "metadata": {},
   "outputs": [],
   "source": [
    "params={'penalty':[\"l2\",None], 'solver':[\"newton-cg\"]}\n",
    "cv=RepeatedStratifiedKFold(n_splits=10, n_repeats=3, random_state=1)\n",
    "grid = GridSearchCV(LogisticRegression(multi_class=\"multinomial\",class_weight=\"balanced\"), params, cv=cv)\n",
    "grid.fit(x_train, y_train)\n",
    "print(\"best params:\",grid.best_params_)\n",
    "print(\"best score:\",grid.best_score_)"
   ]
  },
  {
   "cell_type": "code",
   "execution_count": null,
   "metadata": {},
   "outputs": [],
   "source": [
    "model=grid.best_estimator_\n",
    "acc_train = accuracy_score(y_train, model.predict(x_train))\n",
    "acc_test = accuracy_score(y_test, model.predict(x_test))\n",
    "print(f\"le modèle à un score de {round(acc_train, 2)} sur les données d'entrainnement et {round(acc_test, 2)} sur les données de test.\")"
   ]
  },
  {
   "cell_type": "markdown",
   "metadata": {},
   "source": [
    "Nous allons visualiser les odds_ratio qui donnent l'importance des variables dans la prédiction, en utilisant le coéfficients des variables dans la fonction de  décision.\n",
    "\n",
    "L'odds ratio est une mesure statistique qui compare les cotes d'un évènement entre deux groupe différents."
   ]
  },
  {
   "cell_type": "code",
   "execution_count": null,
   "metadata": {},
   "outputs": [],
   "source": [
    "importances = model.coef_[0]\n",
    "odds_ratios = pd.Series(np.exp(importances), index=data_model1.columns).sort_values() #coefficient des variables dans le modèle\n",
    "fig1 = px.bar(x=odds_ratios.tail(10),y=odds_ratios.tail(10).index, orientation=\"h\",title=\"Odds Ratio-reference 1\")\n",
    "fig1.update_layout(xaxis_title=\"exp(coef)\", yaxis_title=\"Variables\")"
   ]
  },
  {
   "cell_type": "code",
   "execution_count": null,
   "metadata": {},
   "outputs": [],
   "source": [
    "importances = model.coef_[1]\n",
    "odds_ratios = pd.Series(np.exp(importances), index=data_model1.columns).sort_values() #coefficient des variables dans le modèle\n",
    "fig1 = px.bar(x=odds_ratios.head(10),y=odds_ratios.head(10).index, orientation=\"h\",title=\"Odds Ratio-reference 1\")\n",
    "fig1.update_layout(xaxis_title=\"exp(coef)\", yaxis_title=\"Variables\")"
   ]
  },
  {
   "cell_type": "code",
   "execution_count": null,
   "metadata": {},
   "outputs": [],
   "source": [
    "importances = model.coef_[2]\n",
    "odds_ratios = pd.Series(np.exp(importances), index=data_model1.columns).sort_values() #coefficient des variables dans le modèle\n",
    "fig1 = px.bar(x=odds_ratios.head(10),y=odds_ratios.head(10).index, orientation=\"h\",title=\"Odds Ratio-reference 1\")\n",
    "fig1.update_layout(xaxis_title=\"exp(coef)\", yaxis_title=\"Variables\")"
   ]
  },
  {
   "cell_type": "code",
   "execution_count": null,
   "metadata": {},
   "outputs": [],
   "source": [
    "importances = model.coef_[3]\n",
    "odds_ratios = pd.Series(np.exp(importances), index=data_model1.columns).sort_values() #coefficient des variables dans le modèle\n",
    "fig1 = px.bar(x=odds_ratios.tail(10),y=odds_ratios.tail(10).index, orientation=\"h\",title=\"Odds Ratio-reference 1\")\n",
    "fig1.update_layout(xaxis_title=\"exp(coef)\", yaxis_title=\"Variables\")"
   ]
  },
  {
   "cell_type": "markdown",
   "metadata": {},
   "source": [
    "Des graphiques précédents, il en ressort que:\n",
    "- les usagers qui ont un dispositif pour enfant ou une ceinture de sécurité lors de l'accident ont au moins 6 fois plus de chance d'être indemne par rapport à ceux qui n'ont pas d'équipement de sécurité.\n",
    "- Les femmes ont environ 20% de chance en moin de sortir indemne d'un accident par rapport aux hommes et 56% de chance d'avoir des blessures graves pendant l'accident par rapport aux hommes.\n",
    "- les usagers avec des équipements de sécurité autres que les conventionnels ont 2 fois plus de chance d'être tué lors d'un accident.\n",
    "- le casque réduit d'environ 50% la probabilité d'être tué, par rapport à ceux qui n'ont pas d'équipement.\n",
    "- Les piétons ont 2,5 fois plus de chance d'avoir des blessures légères lors d'un accident par rapport aux conducteurs.\n",
    "- un usager avec un casque de sécurité à 2 fois plus de chance d'avoir des blessures légères."
   ]
  },
  {
   "cell_type": "markdown",
   "metadata": {},
   "source": [
    "### **2)-A l'échelle d'un accident**"
   ]
  },
  {
   "cell_type": "markdown",
   "metadata": {},
   "source": [
    "Nous commencons par définir le niveau de gravité le plus élevé pour chaque accident."
   ]
  },
  {
   "cell_type": "code",
   "execution_count": null,
   "metadata": {},
   "outputs": [],
   "source": [
    "import numpy as np\n",
    "id_acc=df_model[\"Num_Acc\"].unique()\n",
    "index_true=[]\n",
    "for i in id_acc:\n",
    "    df_id=df_model[df_model[\"Num_Acc\"]==i]\n",
    "    n_grav=np.max(df_id[\"grav\"])\n",
    "    index=df_model[(df_model[\"Num_Acc\"]==i) & (df_model[\"grav\"]==n_grav)].index[0]\n",
    "    index_true.append(index)\n",
    "        \n",
    "df_model.drop([\"Num_Acc\"], axis=1, inplace=True)"
   ]
  },
  {
   "cell_type": "code",
   "execution_count": null,
   "metadata": {},
   "outputs": [],
   "source": [
    "# Niveau de gravité de l'accident présente dans la nouvelle base\n",
    "df_model=df_model.loc[index_true]\n",
    "df_model[\"grav\"].value_counts()"
   ]
  },
  {
   "cell_type": "markdown",
   "metadata": {},
   "source": [
    "Dans les accidents enregistrés, aucun n'a laisser toutes les personnes impliquées indemnes.\n",
    "\n",
    "On recode la variable \"gravité\" par: \n",
    "- 2: niveau de gravité **grave** (2)\n",
    "- 3: niveau de gravité **moyen** (1)\n",
    "- 4: niveau de gravité **faible** (0)"
   ]
  },
  {
   "cell_type": "code",
   "execution_count": null,
   "metadata": {},
   "outputs": [],
   "source": [
    "df_model[\"grav\"]=df_model[\"grav\"].replace([3,4], value=[1,0])\n",
    "\n",
    "# distribution de la gravité\n",
    "df_model[\"grav\"].value_counts()/df_model.shape[0]*100"
   ]
  },
  {
   "cell_type": "markdown",
   "metadata": {},
   "source": [
    "Par la suite, étant donné que certaines variables ont trop de catégories (par exemple la variable catégorie du véhicule qui a 50 catégories), nous allons aggrégé certaines catégories afin de réduire le nombre de catégories pour ces variables. Dans la nouvelle définition, on a:\n",
    "- Catégorie de véhicules:\n",
    "    * 1: véhicules à deux roues\n",
    "    * 2: quadricycle\n",
    "    * 3: engin lourd\n",
    "    * 4: véhicule léger\n",
    "    * 5: véhicule utilitaire\n",
    "    * 7: transport en commun\n",
    "    * 8: 3RM\n",
    "    * 9: EDP\n",
    "- Manoeuvre:\n",
    "    * 1: Sans changement de direction\n",
    "    * 11: changeant de file\n",
    "    * 13: déporté\n",
    "    * 15: tournant\n",
    "    * 17: dépassant\n",
    "    * 19: divers\n"
   ]
  },
  {
   "cell_type": "code",
   "execution_count": null,
   "metadata": {},
   "outputs": [],
   "source": [
    "df_model[\"manv\"] = df_model[\"manv\"].replace(2,value=1)\n",
    "df_model[\"manv\"] = df_model[\"manv\"].replace(12,value=11)\n",
    "df_model[\"manv\"] = df_model[\"manv\"].replace(14,value=13)\n",
    "df_model[\"manv\"] = df_model[\"manv\"].replace(16,value=15)\n",
    "df_model[\"manv\"] = df_model[\"manv\"].replace(18,value=17)\n",
    "df_model[\"manv\"] = df_model[\"manv\"].replace([20,21,22,23,24,25,26],value=19)\n",
    "\n",
    "df_model[\"catv\"] = df_model[\"catv\"].replace([4,30,32,2,5,31,33,34],value=1)\n",
    "df_model[\"catv\"] = df_model[\"catv\"].replace([36,35,3],value=2)\n",
    "df_model[\"catv\"] = df_model[\"catv\"].replace([20,21,13,14,15],value=3)\n",
    "df_model[\"catv\"] = df_model[\"catv\"].replace([7,8,9],value=4)\n",
    "df_model[\"catv\"] = df_model[\"catv\"].replace([10,11,12],value=5)\n",
    "df_model[\"catv\"] = df_model[\"catv\"].replace([16,17],value=7)\n",
    "df_model[\"catv\"] = df_model[\"catv\"].replace([18,37,39,19,40,38],value=8)\n",
    "df_model[\"catv\"] = df_model[\"catv\"].replace([41,42,43],value=9)\n",
    "df_model[\"catv\"] = df_model[\"catv\"].replace([50,60],value=10)"
   ]
  },
  {
   "cell_type": "markdown",
   "metadata": {},
   "source": [
    "Entrainons à présent le modèle de régression logistique avec les données."
   ]
  },
  {
   "cell_type": "code",
   "execution_count": null,
   "metadata": {},
   "outputs": [],
   "source": [
    "datamodel_2, lasso_y=selection_var(df_model)\n",
    "x_train,x_test,y_train,y_test = train_test_split(datamodel_2, lasso_y , test_size=0.2, random_state=42)\n",
    "params={'penalty':[\"l2\",None], 'solver':[\"newton-cg\"]}\n",
    "cv=RepeatedStratifiedKFold(n_splits=10, n_repeats=3, random_state=1)\n",
    "grid = GridSearchCV(LogisticRegression(multi_class=\"multinomial\",class_weight=\"balanced\"), params, cv=cv)\n",
    "grid.fit(x_train, y_train)\n",
    "print(\"best params:\",grid.best_params_)\n",
    "print(\"best score:\",grid.best_score_)"
   ]
  },
  {
   "cell_type": "code",
   "execution_count": null,
   "metadata": {},
   "outputs": [],
   "source": [
    "model=grid.best_estimator_\n",
    "acc_train = accuracy_score(y_train, model.predict(x_train))\n",
    "acc_test = accuracy_score(y_test, model.predict(x_test))\n",
    "print(f\"le modèle à un score de {round(acc_train, 2)} sur les données d'entrainnement et {round(acc_test, 2)} sur les données de test.\")"
   ]
  },
  {
   "cell_type": "code",
   "execution_count": null,
   "metadata": {},
   "outputs": [],
   "source": [
    "#confusion matrix\n",
    "from sklearn import metrics\n",
    "predictions = model.predict(x_test)\n",
    "cm = metrics.confusion_matrix(y_test, predictions)\n",
    "plt.figure(figsize=(9,9))\n",
    "sns.heatmap(cm, annot=True, fmt=\".3f\", linewidths=.5, square = True, cmap = 'Blues_r');\n",
    "plt.ylabel('Actual label');\n",
    "plt.xlabel('Predicted label');\n",
    "all_sample_title = 'Accuracy Score: {0}'.format(acc_test)\n"
   ]
  },
  {
   "cell_type": "markdown",
   "metadata": {},
   "source": [
    "Le modèle prédit correctement qu'un accident est de gravité faible dans 82% des cas, qu'il est de gravité moyen dans 62% des cas et qu'il est de gravité élevée dans 9% des cas.\n",
    "\n",
    "Visualisons ensuite l'importance des variables dans le prédiction."
   ]
  },
  {
   "cell_type": "code",
   "execution_count": null,
   "metadata": {},
   "outputs": [],
   "source": [
    "importances1 = model.coef_[0]\n",
    "odds_ratios1 = pd.Series(np.exp(importances1), index=datamodel_2.columns).sort_values() #coefficient des variables dans le modèle\n",
    "fig1 = px.bar(x=odds_ratios1.tail(10),y=odds_ratios1.tail(10).index, orientation=\"h\",title=\"Odds Ratio-reference 1\")\n",
    "fig1.update_layout(xaxis_title=\"exp(coef)\", yaxis_title=\"Variables\")"
   ]
  },
  {
   "cell_type": "code",
   "execution_count": null,
   "metadata": {},
   "outputs": [],
   "source": [
    "importances2 = model.coef_[1]\n",
    "odds_ratios2 = pd.Series(np.exp(importances2), index=datamodel_2.columns).sort_values() #coefficient des variables dans le modèle\n",
    "fig2 = px.bar(x=odds_ratios2.tail(10),y=odds_ratios2.tail(10).index, orientation=\"h\",title=\"Odds Ratio-reference 2\")\n",
    "fig2.update_layout(xaxis_title=\"exp(coef)\", yaxis_title=\"Variables\")"
   ]
  },
  {
   "cell_type": "code",
   "execution_count": null,
   "metadata": {},
   "outputs": [],
   "source": [
    "importances2 = model.coef_[2]\n",
    "odds_ratios2 = pd.Series(np.exp(importances2), index=datamodel_2.columns).sort_values() #coefficient des variables dans le modèle\n",
    "fig2 = px.bar(x=odds_ratios2.tail(10),y=odds_ratios2.tail(10).index, orientation=\"h\",title=\"Odds Ratio-reference 2\")\n",
    "fig2.update_layout(xaxis_title=\"exp(coef)\", yaxis_title=\"Variables\")"
   ]
  },
  {
   "cell_type": "markdown",
   "metadata": {},
   "source": [
    "Des graphiques ci-dessus, il en ressort que: \n",
    "- un accident en agglomération à 2 fois plus de chance d'être de niveau de gravité faible que celui hors agglomération.\n",
    "- un accident impliquant une collision de trois vehicules et plus en chaine à presque 2 fois plus de chance d'avoir une gravité faible qu'un accident avec une collision de deux véhicules en frontale.\n",
    "- les accidents incluant des véhicules autres que les catégories de véhicules définit augmente de 70% la chance que l'accident soit de gravité moyenne\n",
    "- un accident impliquant un véhicule entre 2 files à 2 fois plus de chance d'être de niveau faible par rapport à une manoeuvre inconnue.\n",
    "- un accident impliquant un véhicule de transport en commun ou un engin lourd ou encore des véhicules à trois roues motorisé (3RM) ont au moins deux fois plus de chance d'être de gravité élevé (au moins une personne tuée) que les accidents impliquants des véhicules de catégorie indéterminable.\n",
    "- Un accident avec une manoeuvre à contre sens à 44% plus de chance d'être de gravité élevé\n"
   ]
  },
  {
   "cell_type": "markdown",
   "metadata": {},
   "source": [
    "## **Conclusion générale**"
   ]
  }
 ],
 "metadata": {
  "kernelspec": {
   "display_name": "base",
   "language": "python",
   "name": "python3"
  },
  "language_info": {
   "codemirror_mode": {
    "name": "ipython",
    "version": 3
   },
   "file_extension": ".py",
   "mimetype": "text/x-python",
   "name": "python",
   "nbconvert_exporter": "python",
   "pygments_lexer": "ipython3",
   "version": "3.12.7"
  }
 },
 "nbformat": 4,
 "nbformat_minor": 2
}
